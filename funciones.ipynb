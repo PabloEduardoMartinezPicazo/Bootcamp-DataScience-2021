{
 "metadata": {
  "language_info": {
   "codemirror_mode": {
    "name": "ipython",
    "version": 3
   },
   "file_extension": ".py",
   "mimetype": "text/x-python",
   "name": "python",
   "nbconvert_exporter": "python",
   "pygments_lexer": "ipython3",
   "version": "3.7.4"
  },
  "orig_nbformat": 2,
  "kernelspec": {
   "name": "python374jvsc74a57bd07945e9a82d7512fbf96246d9bbc29cd2f106c1a4a9cf54c9563dadf10f2237d4",
   "display_name": "Python 3.7.4 64-bit"
  },
  "metadata": {
   "interpreter": {
    "hash": "7945e9a82d7512fbf96246d9bbc29cd2f106c1a4a9cf54c9563dadf10f2237d4"
   }
  }
 },
 "nbformat": 4,
 "nbformat_minor": 2,
 "cells": [
  {
   "cell_type": "code",
   "execution_count": null,
   "metadata": {},
   "outputs": [],
   "source": [
    "#variables tienen una parte de la izquierda que es el nombre que se le asigna y la parte de la derecha que son los valores que se le asigna a la variable\n",
    "#string o cadena o lista de caracteres, int entero, float decimales, none, booleanos bool\n",
    "#coleccion o set: listas[] tuplas(), conjuntos {}, array, string '' \"\""
   ]
  },
  {
   "cell_type": "code",
   "execution_count": 1,
   "metadata": {},
   "outputs": [
    {
     "output_type": "stream",
     "name": "stdout",
     "text": [
      "1\n"
     ]
    }
   ],
   "source": [
    "#print, sirve para llevar a cabo las operaciones o funciones,\n",
    "# si la ultima linea se pone solo el nombre el procesador por ser jupyter lo entiende como un print de lo que sea\n",
    "x=1 \n",
    "print(x)"
   ]
  },
  {
   "cell_type": "code",
   "execution_count": 2,
   "metadata": {},
   "outputs": [
    {
     "output_type": "stream",
     "name": "stdout",
     "text": [
      "<class 'int'>\n"
     ]
    }
   ],
   "source": [
    "#type, sirve para indicarte el tipo de variable \n",
    "print(type(x))"
   ]
  },
  {
   "cell_type": "code",
   "execution_count": 5,
   "metadata": {},
   "outputs": [
    {
     "output_type": "stream",
     "name": "stdout",
     "text": [
      "3\n-1\n2\n0\n0.5\n1\n1\n"
     ]
    }
   ],
   "source": [
    "# se pueden realizar operaciones entre variables del mismo tipo, excepto entre int y float que se pueden hacer tambien.\n",
    "x=1\n",
    "z=2\n",
    "y=z+x\n",
    "j=x-z\n",
    "h=x*z\n",
    "i=x//z #sin decimales division absoluta\n",
    "u=x/z #con decimales\n",
    "b=x**z #exponencial\n",
    "n=x%z #modulo de un numero, te da el resto de ese numero\n",
    "\n",
    "print(y)\n",
    "print(j)\n",
    "print(h)\n",
    "print(i)\n",
    "print(u)\n",
    "print(b)\n",
    "print(n)"
   ]
  },
  {
   "cell_type": "code",
   "execution_count": 7,
   "metadata": {},
   "outputs": [
    {
     "output_type": "stream",
     "name": "stdout",
     "text": [
      "ab\n"
     ]
    }
   ],
   "source": [
    "#si se hacen funciones entre dos str se dice que se concatenan se suman y unen\n",
    "x=\"a\"\n",
    "y=\"b\"\n",
    "z=x+y\n",
    "print(z)"
   ]
  },
  {
   "cell_type": "code",
   "execution_count": 12,
   "metadata": {},
   "outputs": [
    {
     "output_type": "stream",
     "name": "stdout",
     "text": [
      "1\n<class 'str'>\n2\n<class 'int'>\n"
     ]
    }
   ],
   "source": [
    "#cambio de tipo de variables: se puede cambiar la variable entre diferentes tipos con la funcion str, int, float, bool etc\n",
    "x=\"1\"\n",
    "print(int(x))\n",
    "print(type(x))\n",
    "y=2\n",
    "print(str(y))\n",
    "print(type(y))"
   ]
  },
  {
   "cell_type": "code",
   "execution_count": null,
   "metadata": {},
   "outputs": [],
   "source": [
    "#funciones especiales: \n",
    "x=2\n",
    "x+1 #suma 1 es igual a x+=1\n",
    "x-1 #resta uno x-=1\n",
    "x*2 #multiplica 2 x*=2\n",
    "x**2\n"
   ]
  },
  {
   "cell_type": "code",
   "execution_count": 13,
   "metadata": {},
   "outputs": [
    {
     "output_type": "stream",
     "name": "stdout",
     "text": [
      "2850\n"
     ]
    }
   ],
   "source": [
    "#input() permite añadir cualquier tipo de str dentro de el, muy util para ir cambiando el resultado. si queremos un numero hay que hacer un in o float del input para que nos de eso\n",
    "print(int(input(\"codigo caja fuerte\"))) #-> me ha dejado meter numeros haceindolo asi, las palabras \"\" sirven para que salga cuando metas el numero, letras o lo que sea."
   ]
  },
  {
   "cell_type": "code",
   "execution_count": null,
   "metadata": {},
   "outputs": [],
   "source": [
    "#si transformas un float en int quita los decimales"
   ]
  },
  {
   "cell_type": "code",
   "execution_count": 14,
   "metadata": {},
   "outputs": [
    {
     "output_type": "stream",
     "name": "stdout",
     "text": [
      "<class 'NoneType'>\n"
     ]
    }
   ],
   "source": [
    "#la clase nada (none) reporta la variable nada. \n",
    "x=None\n",
    "print(type(x))"
   ]
  },
  {
   "cell_type": "code",
   "execution_count": 15,
   "metadata": {},
   "outputs": [
    {
     "output_type": "stream",
     "name": "stdout",
     "text": [
      "<class 'bool'>\n"
     ]
    }
   ],
   "source": [
    "#los booleanos son los de tipo verdadero (true) o falso (false)\n",
    "cierto=True\n",
    "falso=False\n",
    "print(type(cierto))"
   ]
  },
  {
   "cell_type": "code",
   "execution_count": null,
   "metadata": {},
   "outputs": [],
   "source": [
    "#coleccion o set: listas[] tuplas(), conjuntos {}, array, string '' \"\""
   ]
  },
  {
   "cell_type": "code",
   "execution_count": 18,
   "metadata": {},
   "outputs": [
    {
     "output_type": "stream",
     "name": "stdout",
     "text": [
      "[1, 'a', True, ['1', 13.1]]\n"
     ]
    }
   ],
   "source": [
    "#listas []\n",
    "#son mutables a diferencia de las tuplas, es decir se puede cambiar la longitud y los valores de las posiciones\n",
    "#puede incluir todo tipo de variables\n",
    "#para las posiciones, la posicion 1 es la 0 la 2 es la 1 y asi por lo tanto nuestra lista tiene 4 posiciones con rango entre 0 y 3\n",
    "x=[1,\"a\",True,[\"1\",13.1]]\n",
    "print(x)"
   ]
  },
  {
   "cell_type": "code",
   "execution_count": 19,
   "metadata": {},
   "outputs": [
    {
     "output_type": "stream",
     "name": "stdout",
     "text": [
      "4\n"
     ]
    }
   ],
   "source": [
    "#la funcion len sirve para ver la longitud de la lista, es decir el numero de elementos\n",
    "print(len(x))"
   ]
  },
  {
   "cell_type": "code",
   "execution_count": 22,
   "metadata": {},
   "outputs": [
    {
     "output_type": "stream",
     "name": "stdout",
     "text": [
      "1\na\nTrue\n['1', 13.1]\n['1', 13.1]\nTrue\n"
     ]
    }
   ],
   "source": [
    "print(x[0])\n",
    "print(x[1])\n",
    "print(x[2])\n",
    "print(x[3])\n",
    "# se puede empezar a leer por la derecha siendo la primera posicion -1\n",
    "print(x[-1])\n",
    "print(x[-2])"
   ]
  },
  {
   "cell_type": "code",
   "execution_count": 29,
   "metadata": {},
   "outputs": [
    {
     "output_type": "stream",
     "name": "stdout",
     "text": [
      "13.1\n"
     ]
    }
   ],
   "source": [
    "#para obtener una posicion de una lista dentro de una lista, primero hay que marcar la posicion dela lista grande y luego la de dentro\n",
    "x=[1,\"a\",True,[\"1\",13.1]]\n",
    "print(x[3][-1])"
   ]
  },
  {
   "cell_type": "code",
   "execution_count": 30,
   "metadata": {},
   "outputs": [
    {
     "output_type": "stream",
     "name": "stdout",
     "text": [
      "4\n"
     ]
    }
   ],
   "source": [
    "#se puede leer la longitud de una str con la funcion len \n",
    "x=\"hola\"\n",
    "print(len(x))"
   ]
  },
  {
   "cell_type": "code",
   "execution_count": 33,
   "metadata": {},
   "outputs": [
    {
     "output_type": "stream",
     "name": "stdout",
     "text": [
      "aloh\n"
     ]
    }
   ],
   "source": [
    "#esta funcion hace una copia y da la vuelta a los elementos ::-1\n",
    "x=\"hola\"\n",
    "print(x[::-1])"
   ]
  },
  {
   "cell_type": "code",
   "execution_count": 40,
   "metadata": {},
   "outputs": [
    {
     "output_type": "stream",
     "name": "stdout",
     "text": [
      "hol\nhol\nla soy pablo\nhola soy pablo\n"
     ]
    }
   ],
   "source": [
    "#tambien se puede coger ciertos caracteres de una cadena o una lista usando el siguiente comando si no pongo nada despues de los dos puntos lo leera hasta el final y si no pongo nada antes desde el primer caracter hasta el final. el len al final tambien lo lee hasta el final\n",
    "x=\"hola soy pablo\"\n",
    "print(x[0:3])\n",
    "print(x[:3])\n",
    "print(x[2:])\n",
    "print(x[0:len(x)])"
   ]
  },
  {
   "cell_type": "code",
   "execution_count": 49,
   "metadata": {},
   "outputs": [
    {
     "output_type": "stream",
     "name": "stdout",
     "text": [
      "[1, 'a', [1, 2.1]]\n[1, 'a', [1, 2.1], '2']\n[1, [1, 2.1], '2']\n"
     ]
    }
   ],
   "source": [
    "#append es dpara añadir al final un caracter \n",
    "#remove para quitar el primer caracter que tenga eso\n",
    "lista=[1,\"a\",[1,2.1]]\n",
    "print(lista)\n",
    "lista.append(\"2\")\n",
    "print(lista)\n",
    "lista.remove(\"a\")\n",
    "print(lista)"
   ]
  },
  {
   "cell_type": "code",
   "execution_count": 70,
   "metadata": {},
   "outputs": [
    {
     "output_type": "stream",
     "name": "stdout",
     "text": [
      "l: [1, [1, 2.1], '2']\nlista: [1, [1, 2.1], '2']\n"
     ]
    }
   ],
   "source": [
    "#para copiar una lista\n",
    "lista=[1, [1, 2.1], '2']\n",
    "l=lista[:] #asi se copia una lista\n",
    "print(\"l:\",l)\n",
    "print(\"lista:\",lista)"
   ]
  },
  {
   "cell_type": "code",
   "execution_count": 79,
   "metadata": {},
   "outputs": [
    {
     "output_type": "stream",
     "name": "stdout",
     "text": [
      "[1, [1, 2.1], '2']\n"
     ]
    }
   ],
   "source": [
    "#para contar en una lista funcion \n",
    "#start:stop:number\n",
    "lista=[1, [1, 2.1], '2',1,2,3]\n",
    "print(lista[0:3:1])"
   ]
  },
  {
   "cell_type": "code",
   "execution_count": 78,
   "metadata": {},
   "outputs": [
    {
     "output_type": "stream",
     "name": "stdout",
     "text": [
      "altura de Pablo: 1.81\naltura de Juan: 1.78\n"
     ]
    }
   ],
   "source": [
    "#se puede printear cosas que tu escribas dentro de print\n",
    "x=1.81\n",
    "y=1.78\n",
    "print(\"altura de Pablo:\",(x))\n",
    "print(\"altura de Juan:\",(y))\n"
   ]
  },
  {
   "cell_type": "code",
   "execution_count": 76,
   "metadata": {},
   "outputs": [
    {
     "output_type": "stream",
     "name": "stdout",
     "text": [
      "[1, [1, 2.1], 1, 2, 3]\n"
     ]
    }
   ],
   "source": [
    "lista=[1, [1, 2.1], '2',1,2,3]\n",
    "lista.pop(2) #elimina el ultimo elemento, a n oser que ponga la posicion del elemento entonces elimina ese elemento\n",
    "print(lista)"
   ]
  },
  {
   "cell_type": "code",
   "execution_count": 65,
   "metadata": {},
   "outputs": [
    {
     "output_type": "stream",
     "name": "stdout",
     "text": [
      "(1, '2', [1, 12])\n[1, '2', [1, 12]]\n[1, False, [1, 12]]\n(1, False, [1, 12])\n"
     ]
    }
   ],
   "source": [
    "#tupla () son elementos no mutables no puedes cambiar la longitud pero si los elementos que tengan dentro que sean mutables como por ejemplo una lista para cambiar una tupla tienes que transformarla en lista y luego volver a pasarla a lista\n",
    "tupla=(1,\"2\",[1,\"a\"])\n",
    "tupla[2][-1]=12 # he podido mudificar el valor de la lista\n",
    "print(tupla)\n",
    "tupla=list(tupla)\n",
    "print(tupla)\n",
    "tupla[1]=False\n",
    "print(tupla)\n",
    "print(tuple(tupla)) #he cambiado la posicion 1 y la he vuelto a transofmrar"
   ]
  },
  {
   "cell_type": "code",
   "execution_count": null,
   "metadata": {},
   "outputs": [],
   "source": [
    "#conjuntos vacios\n",
    "tupla=()\n",
    "lista=[]\n",
    "conjunto={} # esto es un diccionario, para crear un vacio es un elemento mas una coma\n",
    "cadena=\"\""
   ]
  },
  {
   "cell_type": "code",
   "execution_count": 81,
   "metadata": {},
   "outputs": [
    {
     "output_type": "stream",
     "name": "stdout",
     "text": [
      "{1, 2, 3, 4, 5, 6}\n"
     ]
    }
   ],
   "source": [
    "#conjuntos, son un tipo de coleccion que permiten juntar valores que son identicos para evitar asi que salgan repetidos se representan con llaves\n",
    "conjunto=[1,2,1,2,3,4,5,6]\n",
    "conjunto=set(conjunto)\n",
    "print(conjunto)"
   ]
  },
  {
   "cell_type": "code",
   "execution_count": 84,
   "metadata": {},
   "outputs": [
    {
     "output_type": "stream",
     "name": "stdout",
     "text": [
      "{False, 1, 1.2, 'm', None}\n"
     ]
    }
   ],
   "source": [
    "#asi se suelen ordenar los conjuntos te los ordena de menor a mayor orden alfabetico etc\n",
    "conjunto=[1,\"m\",False,True,None,1.2]\n",
    "conjunto=set(conjunto)\n",
    "print(conjunto)"
   ]
  },
  {
   "cell_type": "code",
   "execution_count": null,
   "metadata": {},
   "outputs": [],
   "source": [
    "#condiciones IF"
   ]
  },
  {
   "cell_type": "code",
   "execution_count": 100,
   "metadata": {},
   "outputs": [
    {
     "output_type": "stream",
     "name": "stdout",
     "text": [
      "Soy diferente a los demas\nsuck my dick\nfuck you\n4\nfuck you\nSoy diferente a los demas\nSoy diferente a los demas\n"
     ]
    }
   ],
   "source": [
    "#if elif y else, la primera es obligatoria y abre una condicion, la segunda puede haber tantas como queramos y la ultima cierra y puede o no estar. en cuanto el if o un elif se cumple se deja de leer el resto si nada se cumple y hay un else, se printea lo del else\n",
    "# isinstance sirve para comprobar el tipo de una variable == significa que sea ese valor len como habiamos dicho para longitud \n",
    "x=[1,\"2\",4,[4,\"e\"],8,[2],True]\n",
    "for y in x: # para bucles de variables \n",
    "    if isinstance(y,int) and y%2==0: #para ver el tipo mas que sea un numero par\n",
    "        print(\"fuck you\")\n",
    "    elif isinstance(y,str): #str \n",
    "        print(\"suck my dick\")\n",
    "    elif isinstance(y,list) and len(y)>1: #lista y ademas longitud mayor de 1 \n",
    "        print(y[0])\n",
    "    else:\n",
    "        print(\"Soy diferente a los demas\")"
   ]
  },
  {
   "cell_type": "code",
   "execution_count": 102,
   "metadata": {},
   "outputs": [
    {
     "output_type": "stream",
     "name": "stdout",
     "text": [
      "hola\n"
     ]
    }
   ],
   "source": [
    "#con true y false las funciones if siempre estiman de primeras que un valor es true si es true sigue leyendo\n",
    "if 1==2 or 2==3 or \"vaca\"==\"vaca\" and 1==1: #and se hace primero que or \n",
    "    print(\"hola\")"
   ]
  },
  {
   "cell_type": "code",
   "execution_count": null,
   "metadata": {},
   "outputs": [],
   "source": []
  },
  {
   "cell_type": "code",
   "execution_count": null,
   "metadata": {},
   "outputs": [],
   "source": [
    "#hemos visto 3 tipos de for:\n",
    "# 1. for normal:\n",
    "for valor_elemento in nombre_lista:\n",
    "#for con range\n",
    "# 2. for con range: # no tiene porque ser len si no que indica que posiciones quieres recorrer, o rango o [1:3] o [:5] etc\n",
    "for posicion in range(len(nombre_lista)):\n",
    "# 3. for con enumerate\n",
    "for posicion, valor_elemento in enumerate(nombre_lista):\n",
    "# en el unico for en el que hay que añadir un numero es en el tipo range (por eso ponemos len)"
   ]
  },
  {
   "cell_type": "code",
   "execution_count": null,
   "metadata": {},
   "outputs": [],
   "source": [
    "#repasar for con contador"
   ]
  },
  {
   "cell_type": "code",
   "execution_count": null,
   "metadata": {},
   "outputs": [],
   "source": []
  }
 ]
}