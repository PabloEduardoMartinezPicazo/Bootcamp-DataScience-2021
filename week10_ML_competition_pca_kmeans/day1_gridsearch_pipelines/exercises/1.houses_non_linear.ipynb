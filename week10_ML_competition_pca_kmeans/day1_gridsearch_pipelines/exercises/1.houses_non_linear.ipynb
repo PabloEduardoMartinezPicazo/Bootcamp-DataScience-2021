{
 "metadata": {
  "language_info": {
   "codemirror_mode": {
    "name": "ipython",
    "version": 3
   },
   "file_extension": ".py",
   "mimetype": "text/x-python",
   "name": "python",
   "nbconvert_exporter": "python",
   "pygments_lexer": "ipython3",
   "version": "3.7.4"
  },
  "orig_nbformat": 2,
  "kernelspec": {
   "name": "python374jvsc74a57bd07945e9a82d7512fbf96246d9bbc29cd2f106c1a4a9cf54c9563dadf10f2237d4",
   "display_name": "Python 3.7.4 64-bit"
  },
  "metadata": {
   "interpreter": {
    "hash": "7945e9a82d7512fbf96246d9bbc29cd2f106c1a4a9cf54c9563dadf10f2237d4"
   }
  }
 },
 "nbformat": 4,
 "nbformat_minor": 2,
 "cells": [
  {
   "cell_type": "markdown",
   "metadata": {},
   "source": [
    "### 1. Se pide:\n",
    "\n",
    "A partir del archivo \"USA_Housing.csv\", realizar la regresión no lineal entre cada columna numérica con la columna 'price' utilizando:\n",
    "\n",
    "- Regresión polinómica no lineal con grados del 2 al 10. ¿El score se estanca a partir de cierto grado?"
   ]
  },
  {
   "cell_type": "code",
   "execution_count": 3,
   "metadata": {},
   "outputs": [
    {
     "output_type": "execute_result",
     "data": {
      "text/plain": [
       "   Avg. Area Income  Avg. Area House Age  Avg. Area Number of Rooms  \\\n",
       "0      79545.458574             5.682861                   7.009188   \n",
       "1      79248.642455             6.002900                   6.730821   \n",
       "2      61287.067179             5.865890                   8.512727   \n",
       "3      63345.240046             7.188236                   5.586729   \n",
       "4      59982.197226             5.040555                   7.839388   \n",
       "\n",
       "   Avg. Area Number of Bedrooms  Area Population         Price  \\\n",
       "0                          4.09     23086.800503  1.059034e+06   \n",
       "1                          3.09     40173.072174  1.505891e+06   \n",
       "2                          5.13     36882.159400  1.058988e+06   \n",
       "3                          3.26     34310.242831  1.260617e+06   \n",
       "4                          4.23     26354.109472  6.309435e+05   \n",
       "\n",
       "                                             Address  \n",
       "0  208 Michael Ferry Apt. 674\\r\\nLaurabury, NE 37...  \n",
       "1  188 Johnson Views Suite 079\\r\\nLake Kathleen, ...  \n",
       "2  9127 Elizabeth Stravenue\\r\\nDanieltown, WI 064...  \n",
       "3                        USS Barnett\\r\\nFPO AP 44820  \n",
       "4                       USNS Raymond\\r\\nFPO AE 09386  "
      ],
      "text/html": "<div>\n<style scoped>\n    .dataframe tbody tr th:only-of-type {\n        vertical-align: middle;\n    }\n\n    .dataframe tbody tr th {\n        vertical-align: top;\n    }\n\n    .dataframe thead th {\n        text-align: right;\n    }\n</style>\n<table border=\"1\" class=\"dataframe\">\n  <thead>\n    <tr style=\"text-align: right;\">\n      <th></th>\n      <th>Avg. Area Income</th>\n      <th>Avg. Area House Age</th>\n      <th>Avg. Area Number of Rooms</th>\n      <th>Avg. Area Number of Bedrooms</th>\n      <th>Area Population</th>\n      <th>Price</th>\n      <th>Address</th>\n    </tr>\n  </thead>\n  <tbody>\n    <tr>\n      <th>0</th>\n      <td>79545.458574</td>\n      <td>5.682861</td>\n      <td>7.009188</td>\n      <td>4.09</td>\n      <td>23086.800503</td>\n      <td>1.059034e+06</td>\n      <td>208 Michael Ferry Apt. 674\\r\\nLaurabury, NE 37...</td>\n    </tr>\n    <tr>\n      <th>1</th>\n      <td>79248.642455</td>\n      <td>6.002900</td>\n      <td>6.730821</td>\n      <td>3.09</td>\n      <td>40173.072174</td>\n      <td>1.505891e+06</td>\n      <td>188 Johnson Views Suite 079\\r\\nLake Kathleen, ...</td>\n    </tr>\n    <tr>\n      <th>2</th>\n      <td>61287.067179</td>\n      <td>5.865890</td>\n      <td>8.512727</td>\n      <td>5.13</td>\n      <td>36882.159400</td>\n      <td>1.058988e+06</td>\n      <td>9127 Elizabeth Stravenue\\r\\nDanieltown, WI 064...</td>\n    </tr>\n    <tr>\n      <th>3</th>\n      <td>63345.240046</td>\n      <td>7.188236</td>\n      <td>5.586729</td>\n      <td>3.26</td>\n      <td>34310.242831</td>\n      <td>1.260617e+06</td>\n      <td>USS Barnett\\r\\nFPO AP 44820</td>\n    </tr>\n    <tr>\n      <th>4</th>\n      <td>59982.197226</td>\n      <td>5.040555</td>\n      <td>7.839388</td>\n      <td>4.23</td>\n      <td>26354.109472</td>\n      <td>6.309435e+05</td>\n      <td>USNS Raymond\\r\\nFPO AE 09386</td>\n    </tr>\n  </tbody>\n</table>\n</div>"
     },
     "metadata": {},
     "execution_count": 3
    }
   ],
   "source": [
    "\n",
    "from sklearn.model_selection import train_test_split\n",
    "\n",
    "from sklearn.preprocessing import PolynomialFeatures\n",
    "\n",
    "from sklearn.linear_model import LinearRegression\n",
    "import pandas as pd\n",
    "import matplotlib.pyplot as plt\n",
    "\n",
    "from sklearn.metrics import r2_score, mean_absolute_error\n",
    "\n",
    "import numpy as np\n",
    "\n",
    "df = pd.read_csv(\"../data/USA_Housing.csv\")\n",
    "df.head()"
   ]
  },
  {
   "cell_type": "code",
   "execution_count": 4,
   "metadata": {},
   "outputs": [
    {
     "output_type": "execute_result",
     "data": {
      "text/plain": [
       "(5000, 7)"
      ]
     },
     "metadata": {},
     "execution_count": 4
    }
   ],
   "source": [
    "df.shape"
   ]
  },
  {
   "cell_type": "code",
   "execution_count": 8,
   "metadata": {},
   "outputs": [],
   "source": [
    "df.drop(\"Address\",axis=\"columns\",inplace=True)\n"
   ]
  },
  {
   "cell_type": "code",
   "execution_count": 11,
   "metadata": {},
   "outputs": [],
   "source": [
    "X = np.array(df['Price'])\n",
    "y = df.drop('Price', axis = 1)"
   ]
  },
  {
   "cell_type": "code",
   "execution_count": 12,
   "metadata": {},
   "outputs": [
    {
     "output_type": "stream",
     "name": "stdout",
     "text": [
      "(5000,)\n(5000, 5)\n"
     ]
    }
   ],
   "source": [
    "print(X.shape)\n",
    "print(y.shape)"
   ]
  },
  {
   "cell_type": "code",
   "execution_count": 13,
   "metadata": {},
   "outputs": [],
   "source": [
    "from sklearn.model_selection import train_test_split"
   ]
  },
  {
   "cell_type": "code",
   "execution_count": 36,
   "metadata": {},
   "outputs": [],
   "source": [
    "X_train, X_test, y_train, y_test = train_test_split(X, y, test_size=0.20, random_state=7)"
   ]
  },
  {
   "cell_type": "code",
   "execution_count": 37,
   "metadata": {},
   "outputs": [
    {
     "output_type": "stream",
     "name": "stdout",
     "text": [
      "Grado: 2\nScore: 0.18651508487151044\nMAE: 2761.5085739773886\n---------\nGrado: 3\nScore: 0.18675916857126434\nMAE: 2761.4434881675515\n---------\nGrado: 4\nScore: 0.1867142022873162\nMAE: 2761.593767989166\n---------\nGrado: 5\nScore: 0.18609038508589062\nMAE: 2763.7575196612015\n---------\nGrado: 6\nScore: 0.1841125667197421\nMAE: 2769.789567172311\n---------\nGrado: 7\nScore: 0.18028358586284896\nMAE: 2779.6053100584263\n---------\nGrado: 8\nScore: 0.17451688353113964\nMAE: 2794.730916820099\n---------\nGrado: 9\nScore: 0.16700979022328985\nMAE: 2816.4176782126183\n---------\nGrado: 10\nScore: 0.15810695250298062\nMAE: 2843.018038934418\n---------\n"
     ]
    }
   ],
   "source": [
    "menor = 2\n",
    "mayor = 10\n",
    "\n",
    "for grado in range(menor,mayor+1):\n",
    "    polinominal_model = PolynomialFeatures(grado) \n",
    "    X_poly = polinominal_model.fit_transform(X_train.reshape(-1, 1), y_train)\n",
    "    lin_reg_model = LinearRegression()\n",
    "    lin_reg_model.fit(X_poly, y_train)\n",
    "    \n",
    "    y_pred = lin_reg_model.predict(X_poly)\n",
    "    print(\"Grado:\",grado)\n",
    "    print(\"Score:\", r2_score(y_train, y_pred))\n",
    "    print(\"MAE:\", mean_absolute_error(y_true=y_train, y_pred=y_pred))\n",
    "    print(\"---------\")\n",
    "   "
   ]
  },
  {
   "source": [
    "Aumenta hasta el grado hasta el grado 3 a partir del cual empieza a descender "
   ],
   "cell_type": "markdown",
   "metadata": {}
  },
  {
   "source": [
    "### Análisis individual"
   ],
   "cell_type": "markdown",
   "metadata": {}
  },
  {
   "cell_type": "code",
   "execution_count": 38,
   "metadata": {},
   "outputs": [],
   "source": [
    "X1 = np.array(df['Price'])\n",
    "y1 = np.array(df['Avg. Area House Age'])"
   ]
  },
  {
   "cell_type": "code",
   "execution_count": 41,
   "metadata": {},
   "outputs": [
    {
     "output_type": "stream",
     "name": "stdout",
     "text": [
      "Grado: 2\nScore: 0.18651508487151044\nMAE: 2761.5085739773886\n---------\nGrado: 3\nScore: 0.18675916857126434\nMAE: 2761.4434881675515\n---------\nGrado: 4\nScore: 0.1867142022873162\nMAE: 2761.593767989166\n---------\nGrado: 5\nScore: 0.18609038508589062\nMAE: 2763.7575196612015\n---------\nGrado: 6\nScore: 0.1841125667197421\nMAE: 2769.789567172311\n---------\nGrado: 7\nScore: 0.18028358586284896\nMAE: 2779.6053100584263\n---------\nGrado: 8\nScore: 0.17451688353113964\nMAE: 2794.730916820099\n---------\nGrado: 9\nScore: 0.16700979022328985\nMAE: 2816.4176782126183\n---------\nGrado: 10\nScore: 0.15810695250298062\nMAE: 2843.018038934418\n---------\n"
     ]
    }
   ],
   "source": [
    "from sklearn.model_selection import train_test_split\n",
    "X1_train, X1_test, y1_train, y1_test = train_test_split(X, y, test_size=0.20, random_state=7)\n",
    "menor = 2\n",
    "mayor = 10\n",
    "\n",
    "for grado in range(menor,mayor+1):\n",
    "    polinominal_model = PolynomialFeatures(grado) \n",
    "    X1_poly = polinominal_model.fit_transform(X1_train.reshape(-1, 1), y1_train)\n",
    "    lin_reg_model = LinearRegression()\n",
    "    lin_reg_model.fit(X1_poly, y1_train)\n",
    "    \n",
    "    y1_pred = lin_reg_model.predict(X1_poly)\n",
    "    print(\"Grado:\",grado)\n",
    "    print(\"Score:\", r2_score(y1_train, y1_pred))\n",
    "    print(\"MAE:\", mean_absolute_error(y_true=y1_train, y_pred=y1_pred))\n",
    "    print(\"---------\")"
   ]
  },
  {
   "cell_type": "code",
   "execution_count": 44,
   "metadata": {},
   "outputs": [],
   "source": [
    "X1 = np.array(df['Price'])\n",
    "y1 = np.array(df['Avg. Area Number of Rooms'])"
   ]
  },
  {
   "cell_type": "code",
   "execution_count": 45,
   "metadata": {},
   "outputs": [
    {
     "output_type": "stream",
     "name": "stdout",
     "text": [
      "Grado: 2\nScore: 0.18651508487151044\nMAE: 2761.5085739773886\n---------\nGrado: 3\nScore: 0.18675916857126434\nMAE: 2761.4434881675515\n---------\nGrado: 4\nScore: 0.1867142022873162\nMAE: 2761.593767989166\n---------\nGrado: 5\nScore: 0.18609038508589062\nMAE: 2763.7575196612015\n---------\nGrado: 6\nScore: 0.1841125667197421\nMAE: 2769.789567172311\n---------\nGrado: 7\nScore: 0.18028358586284896\nMAE: 2779.6053100584263\n---------\nGrado: 8\nScore: 0.17451688353113964\nMAE: 2794.730916820099\n---------\nGrado: 9\nScore: 0.16700979022328985\nMAE: 2816.4176782126183\n---------\nGrado: 10\nScore: 0.15810695250298062\nMAE: 2843.018038934418\n---------\n"
     ]
    }
   ],
   "source": [
    "from sklearn.model_selection import train_test_split\n",
    "X1_train, X1_test, y1_train, y1_test = train_test_split(X, y, test_size=0.20, random_state=7)\n",
    "menor = 2\n",
    "mayor = 10\n",
    "\n",
    "for grado in range(menor,mayor+1):\n",
    "    polinominal_model = PolynomialFeatures(grado) \n",
    "    X1_poly = polinominal_model.fit_transform(X1_train.reshape(-1, 1), y1_train)\n",
    "    lin_reg_model = LinearRegression()\n",
    "    lin_reg_model.fit(X1_poly, y1_train)\n",
    "    \n",
    "    y1_pred = lin_reg_model.predict(X1_poly)\n",
    "    print(\"Grado:\",grado)\n",
    "    print(\"Score:\", r2_score(y1_train, y1_pred))\n",
    "    print(\"MAE:\", mean_absolute_error(y_true=y1_train, y_pred=y1_pred))\n",
    "    print(\"---------\")"
   ]
  },
  {
   "cell_type": "code",
   "execution_count": 46,
   "metadata": {},
   "outputs": [],
   "source": [
    "X1 = np.array(df['Price'])\n",
    "y1 = np.array(df['Avg. Area Number of Rooms'])"
   ]
  },
  {
   "cell_type": "code",
   "execution_count": 47,
   "metadata": {},
   "outputs": [
    {
     "output_type": "stream",
     "name": "stdout",
     "text": [
      "Grado: 2\nScore: 0.18651508487151044\nMAE: 2761.5085739773886\n---------\nGrado: 3\nScore: 0.18675916857126434\nMAE: 2761.4434881675515\n---------\nGrado: 4\nScore: 0.1867142022873162\nMAE: 2761.593767989166\n---------\nGrado: 5\nScore: 0.18609038508589062\nMAE: 2763.7575196612015\n---------\nGrado: 6\nScore: 0.1841125667197421\nMAE: 2769.789567172311\n---------\nGrado: 7\nScore: 0.18028358586284896\nMAE: 2779.6053100584263\n---------\nGrado: 8\nScore: 0.17451688353113964\nMAE: 2794.730916820099\n---------\nGrado: 9\nScore: 0.16700979022328985\nMAE: 2816.4176782126183\n---------\nGrado: 10\nScore: 0.15810695250298062\nMAE: 2843.018038934418\n---------\n"
     ]
    }
   ],
   "source": [
    "from sklearn.model_selection import train_test_split\n",
    "X1_train, X1_test, y1_train, y1_test = train_test_split(X, y, test_size=0.20, random_state=7)\n",
    "menor = 2\n",
    "mayor = 10\n",
    "\n",
    "for grado in range(menor,mayor+1):\n",
    "    polinominal_model = PolynomialFeatures(grado) \n",
    "    X1_poly = polinominal_model.fit_transform(X1_train.reshape(-1, 1), y1_train)\n",
    "    lin_reg_model = LinearRegression()\n",
    "    lin_reg_model.fit(X1_poly, y1_train)\n",
    "    \n",
    "    y1_pred = lin_reg_model.predict(X1_poly)\n",
    "    print(\"Grado:\",grado)\n",
    "    print(\"Score:\", r2_score(y1_train, y1_pred))\n",
    "    print(\"MAE:\", mean_absolute_error(y_true=y1_train, y_pred=y1_pred))\n",
    "    print(\"---------\")"
   ]
  },
  {
   "cell_type": "code",
   "execution_count": 48,
   "metadata": {},
   "outputs": [],
   "source": [
    "X1 = np.array(df['Price'])\n",
    "y1 = np.array(df['Area Population'])"
   ]
  },
  {
   "cell_type": "code",
   "execution_count": 49,
   "metadata": {},
   "outputs": [
    {
     "output_type": "stream",
     "name": "stdout",
     "text": [
      "Grado: 2\nScore: 0.18651508487151044\nMAE: 2761.5085739773886\n---------\nGrado: 3\nScore: 0.18675916857126434\nMAE: 2761.4434881675515\n---------\nGrado: 4\nScore: 0.1867142022873162\nMAE: 2761.593767989166\n---------\nGrado: 5\nScore: 0.18609038508589062\nMAE: 2763.7575196612015\n---------\nGrado: 6\nScore: 0.1841125667197421\nMAE: 2769.789567172311\n---------\nGrado: 7\nScore: 0.18028358586284896\nMAE: 2779.6053100584263\n---------\nGrado: 8\nScore: 0.17451688353113964\nMAE: 2794.730916820099\n---------\nGrado: 9\nScore: 0.16700979022328985\nMAE: 2816.4176782126183\n---------\nGrado: 10\nScore: 0.15810695250298062\nMAE: 2843.018038934418\n---------\n"
     ]
    }
   ],
   "source": [
    "from sklearn.model_selection import train_test_split\n",
    "X1_train, X1_test, y1_train, y1_test = train_test_split(X, y, test_size=0.20, random_state=7)\n",
    "menor = 2\n",
    "mayor = 10\n",
    "\n",
    "for grado in range(menor,mayor+1):\n",
    "    polinominal_model = PolynomialFeatures(grado) \n",
    "    X1_poly = polinominal_model.fit_transform(X1_train.reshape(-1, 1), y1_train)\n",
    "    lin_reg_model = LinearRegression()\n",
    "    lin_reg_model.fit(X1_poly, y1_train)\n",
    "    \n",
    "    y1_pred = lin_reg_model.predict(X1_poly)\n",
    "    print(\"Grado:\",grado)\n",
    "    print(\"Score:\", r2_score(y1_train, y1_pred))\n",
    "    print(\"MAE:\", mean_absolute_error(y_true=y1_train, y_pred=y1_pred))\n",
    "    print(\"---------\")"
   ]
  },
  {
   "source": [
    "Aumenta hasta el grado hasta el grado 3 a partir del cual empieza a descender"
   ],
   "cell_type": "markdown",
   "metadata": {}
  }
 ]
}