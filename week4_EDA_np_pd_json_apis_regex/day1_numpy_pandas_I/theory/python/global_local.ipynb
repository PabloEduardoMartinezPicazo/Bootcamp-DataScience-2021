{
 "metadata": {
  "language_info": {
   "codemirror_mode": {
    "name": "ipython",
    "version": 3
   },
   "file_extension": ".py",
   "mimetype": "text/x-python",
   "name": "python",
   "nbconvert_exporter": "python",
   "pygments_lexer": "ipython3",
   "version": "3.7.4"
  },
  "orig_nbformat": 2,
  "kernelspec": {
   "name": "python374jvsc74a57bd07945e9a82d7512fbf96246d9bbc29cd2f106c1a4a9cf54c9563dadf10f2237d4",
   "display_name": "Python 3.7.4 64-bit"
  },
  "metadata": {
   "interpreter": {
    "hash": "7945e9a82d7512fbf96246d9bbc29cd2f106c1a4a9cf54c9563dadf10f2237d4"
   }
  }
 },
 "nbformat": 4,
 "nbformat_minor": 2,
 "cells": [
  {
   "cell_type": "code",
   "execution_count": 1,
   "metadata": {},
   "outputs": [
    {
     "output_type": "error",
     "ename": "NameError",
     "evalue": "name 'x' is not defined",
     "traceback": [
      "\u001b[1;31m---------------------------------------------------------------------------\u001b[0m",
      "\u001b[1;31mNameError\u001b[0m                                 Traceback (most recent call last)",
      "\u001b[1;32m<ipython-input-1-e249868bffa4>\u001b[0m in \u001b[0;36m<module>\u001b[1;34m\u001b[0m\n\u001b[0;32m      2\u001b[0m     \u001b[0mx\u001b[0m\u001b[1;33m=\u001b[0m\u001b[1;36m2\u001b[0m\u001b[1;33m\u001b[0m\u001b[1;33m\u001b[0m\u001b[0m\n\u001b[0;32m      3\u001b[0m     \u001b[1;32mreturn\u001b[0m \u001b[1;36m2\u001b[0m\u001b[1;33m\u001b[0m\u001b[1;33m\u001b[0m\u001b[0m\n\u001b[1;32m----> 4\u001b[1;33m \u001b[0mprint\u001b[0m\u001b[1;33m(\u001b[0m\u001b[0mx\u001b[0m\u001b[1;33m)\u001b[0m\u001b[1;33m\u001b[0m\u001b[1;33m\u001b[0m\u001b[0m\n\u001b[0m",
      "\u001b[1;31mNameError\u001b[0m: name 'x' is not defined"
     ]
    }
   ],
   "source": [
    "def funcion ():\n",
    "    #VARIABLE LOCAL DE LA VARIABLE\n",
    "    x=2\n",
    "    return 2\n",
    "print(x)"
   ]
  },
  {
   "cell_type": "code",
   "execution_count": 5,
   "metadata": {},
   "outputs": [
    {
     "output_type": "stream",
     "name": "stdout",
     "text": [
      "2\n"
     ]
    }
   ],
   "source": [
    "x=99\n",
    "def funcion():\n",
    "    #variable global\n",
    "    global x \n",
    "    x=2 # se asigna a una variable local una global que se llama igual\n",
    "    return x\n",
    "funcion()\n",
    "print(x)"
   ]
  },
  {
   "cell_type": "code",
   "execution_count": 6,
   "metadata": {},
   "outputs": [
    {
     "output_type": "error",
     "ename": "SyntaxError",
     "evalue": "name 'x' is assigned to before global declaration (<ipython-input-6-f495e9fb552a>, line 8)",
     "traceback": [
      "\u001b[1;36m  File \u001b[1;32m\"<ipython-input-6-f495e9fb552a>\"\u001b[1;36m, line \u001b[1;32m8\u001b[0m\n\u001b[1;33m    funcion()\u001b[0m\n\u001b[1;37m             \n^\u001b[0m\n\u001b[1;31mSyntaxError\u001b[0m\u001b[1;31m:\u001b[0m name 'x' is assigned to before global declaration\n"
     ]
    }
   ],
   "source": [
    "x=99\n",
    "def funcion():\n",
    "    #variable global\n",
    "    x=7\n",
    "    global x \n",
    "    x=2 # error porque se ha asignado una variable x antes que una global dentro de la funcion \n",
    "    return x\n",
    "funcion()\n",
    "print(x)"
   ]
  },
  {
   "cell_type": "code",
   "execution_count": 9,
   "metadata": {},
   "outputs": [
    {
     "output_type": "stream",
     "name": "stdout",
     "text": [
      "l1: [0, 1, 2, 'AS']\nx: 2\n"
     ]
    }
   ],
   "source": [
    "x=99\n",
    "l1=[0,1,2]\n",
    "def funcion(lista):\n",
    "    #variable global\n",
    "    global x\n",
    "    x=2\n",
    "    lista.append(\"AS\")\n",
    "funcion(lista=l1)\n",
    "print(\"l1:\",l1)\n",
    "print(\"x:\",x)"
   ]
  },
  {
   "cell_type": "code",
   "execution_count": 12,
   "metadata": {},
   "outputs": [
    {
     "output_type": "stream",
     "name": "stdout",
     "text": [
      "l1: [0, 1, 2, 'AS']\nx: 2\n"
     ]
    }
   ],
   "source": [
    "x=99\n",
    "l1=[0,1,2]\n",
    "def funcion(lista):\n",
    "    #variable global\n",
    "    global x\n",
    "    x=2\n",
    "    lista.append(\"AS\")\n",
    "    l1=1 # le da igual a python xq ws una variable local no global\n",
    "funcion(lista=l1)\n",
    "print(\"l1:\",l1)\n",
    "print(\"x:\",x)"
   ]
  },
  {
   "cell_type": "code",
   "execution_count": 11,
   "metadata": {},
   "outputs": [
    {
     "output_type": "stream",
     "name": "stdout",
     "text": [
      "l1: 1\nx: 2\n"
     ]
    }
   ],
   "source": [
    "x=99\n",
    "l1=[0,1,2]\n",
    "def funcion(lista):\n",
    "    #variable global\n",
    "    global x\n",
    "    global l1\n",
    "    x=2\n",
    "    lista.append(\"AS\")\n",
    "    l1=1 #asi  cambio la variable que he metido dentro de global\n",
    "funcion(lista=l1)\n",
    "print(\"l1:\",l1)\n",
    "print(\"x:\",x)"
   ]
  },
  {
   "cell_type": "code",
   "execution_count": 14,
   "metadata": {},
   "outputs": [
    {
     "output_type": "stream",
     "name": "stdout",
     "text": [
      "l1: None\nx: 2\n"
     ]
    }
   ],
   "source": [
    "x=99\n",
    "l1=[0,1,2]\n",
    "def funcion(lista):\n",
    "    #variable global\n",
    "    global x\n",
    "    global l1\n",
    "    x=2\n",
    "    l1= lista.append(\"AS\") #asi te devuelve el return, asi que no se puede usar asi\n",
    "funcion(lista=l1)\n",
    "print(\"l1:\",l1)\n",
    "print(\"x:\",x)"
   ]
  },
  {
   "cell_type": "code",
   "execution_count": 17,
   "metadata": {},
   "outputs": [
    {
     "output_type": "stream",
     "name": "stdout",
     "text": [
      "l1 local: None\nl1: [0, 1, 2, 'AS']\nx: 2\n"
     ]
    }
   ],
   "source": [
    "x=99\n",
    "l1=[0,1,2]\n",
    "def funcion(lista):\n",
    "    #variable global\n",
    "    global x\n",
    "    x=2\n",
    "    l1= lista.append(\"AS\") #auqnue guardes lo que te devuelve esa funcion a l1, como haces el print l1 que es una funcion global te muestra la lista appendada \n",
    "    print(\"l1 local:\",l1)\n",
    "funcion(lista=l1)\n",
    "print(\"l1:\",l1)\n",
    "print(\"x:\",x)"
   ]
  },
  {
   "cell_type": "code",
   "execution_count": 18,
   "metadata": {},
   "outputs": [
    {
     "output_type": "stream",
     "name": "stdout",
     "text": [
      "l1 dentro de funcion1: [0, 1, 2, 'AS']\nlista dentro de la funcion 1: [0, 1, 2, 'AS']\nl1 dentro de la funcion2: None\nlista dentro de funcion2: [0, 1, 2, 'AS', 'AS']\nl1 local: None\nl1: None\nx: 2\n"
     ]
    }
   ],
   "source": [
    "x=99\n",
    "l1=[0,1,2]\n",
    "def funcion(lista):\n",
    "    #variable global\n",
    "    global x, l1\n",
    "    x=2\n",
    "    lista.append(\"AS\")\n",
    "    print(\"l1 dentro de funcion1:\", l1)\n",
    "    print(\"lista dentro de la funcion 1:\", lista)\n",
    "    l1= lista.append(\"AS\") #auqnue guardes lo que te devuelve esa funcion a l1, como haces el print l1 que es una funcion global te muestra la lista appendada \n",
    "    print(\"l1 dentro de la funcion2:\", l1)\n",
    "    print(\"lista dentro de funcion2:\", lista)\n",
    "    print(\"l1 local:\",l1)\n",
    "funcion(lista=l1)\n",
    "print(\"l1:\",l1)\n",
    "print(\"x:\",x)"
   ]
  },
  {
   "cell_type": "code",
   "execution_count": 1,
   "metadata": {},
   "outputs": [
    {
     "output_type": "stream",
     "name": "stdout",
     "text": [
      "2\n14\n2\n"
     ]
    }
   ],
   "source": [
    "x = 2\n",
    "\n",
    "def funcion(x):\n",
    "    x = 7 + x\n",
    "    print(x)\n",
    "\n",
    "print(x)\n",
    "funcion(x=7)\n",
    "print(x)"
   ]
  },
  {
   "cell_type": "code",
   "execution_count": 2,
   "metadata": {},
   "outputs": [
    {
     "output_type": "stream",
     "name": "stdout",
     "text": [
      "2\n24\n2\n"
     ]
    }
   ],
   "source": [
    "x = 2\n",
    "a = 10\n",
    "\n",
    "def funcion(x):\n",
    "    x = 7 + x + a\n",
    "    print(x)\n",
    "\n",
    "print(x)\n",
    "funcion(x=7)\n",
    "print(x)"
   ]
  },
  {
   "cell_type": "code",
   "execution_count": 11,
   "metadata": {},
   "outputs": [
    {
     "output_type": "stream",
     "name": "stdout",
     "text": [
      "2\nb: 14\n24\n2\n10\n"
     ]
    }
   ],
   "source": [
    "x = 2\n",
    "a = 10\n",
    "\n",
    "def funcion(x):\n",
    "    b = a + 4\n",
    "    print(\"b:\", b)\n",
    "    x = 7 + x + a\n",
    "    print(x)\n",
    "\n",
    "print(x)\n",
    "funcion(x=7)\n",
    "print(x)\n",
    "print(a)"
   ]
  },
  {
   "cell_type": "code",
   "execution_count": 12,
   "metadata": {},
   "outputs": [
    {
     "output_type": "stream",
     "name": "stdout",
     "text": [
      "2\na: 12\nb: 16\n26\n2\n12\n"
     ]
    }
   ],
   "source": [
    "x = 2\n",
    "a = 10\n",
    "\n",
    "def funcion(x):\n",
    "    global a\n",
    "    a = a + 2\n",
    "    b = a + 4\n",
    "    print(\"a:\", a)\n",
    "    print(\"b:\", b)\n",
    "    x = 7 + x + a\n",
    "    print(x)\n",
    "\n",
    "print(x)\n",
    "funcion(x=7)\n",
    "print(x)\n",
    "print(a)"
   ]
  },
  {
   "cell_type": "code",
   "execution_count": null,
   "metadata": {},
   "outputs": [],
   "source": []
  }
 ]
}