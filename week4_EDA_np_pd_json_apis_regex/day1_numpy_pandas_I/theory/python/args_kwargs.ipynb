{
 "cells": [
  {
   "cell_type": "markdown",
   "metadata": {},
   "source": [
    "Parámetros *args y *kwargs en Python"
   ]
  },
  {
   "cell_type": "code",
   "execution_count": null,
   "metadata": {},
   "outputs": [],
   "source": [
    "# hasta ahora las funciones son\n",
    "def nombre_f ():\n",
    "    return 2"
   ]
  },
  {
   "cell_type": "code",
   "execution_count": null,
   "metadata": {},
   "outputs": [],
   "source": [
    "#si tenian argumentos\n",
    "def nombre_f_args(arg1,arg2,arg3=5):\n",
    "    return arg3"
   ]
  },
  {
   "cell_type": "code",
   "execution_count": null,
   "metadata": {},
   "outputs": [],
   "source": [
    "#que son parametros args se suelen poner args, aunque con poner el * es el mismo tipo de objeto (args) estretilla args podemos pasar todos los argumentos que queramos\n",
    "def nombre_args(*args):\n",
    "    print(type(args))\n",
    "    print(args)\n",
    "\n",
    "x=2\n",
    "y=[\"g\",\"h\"]\n",
    "nombre_args(x,y,9,\"j\") #permite guardar todos los argumentos que queramos con el argumento args\n"
   ]
  },
  {
   "cell_type": "code",
   "execution_count": null,
   "metadata": {},
   "outputs": [],
   "source": [
    "\"\"\" para el ejemplo de abajo saber que sum, suma todos los elemenots de la tupla\"\"\""
   ]
  },
  {
   "cell_type": "code",
   "execution_count": 1,
   "metadata": {},
   "outputs": [
    {
     "output_type": "execute_result",
     "data": {
      "text/plain": [
       "14"
      ]
     },
     "metadata": {},
     "execution_count": 1
    }
   ],
   "source": [
    "tupla=(2,3,4,5)\n",
    "sum(tupla)"
   ]
  },
  {
   "cell_type": "code",
   "execution_count": 6,
   "metadata": {},
   "outputs": [],
   "source": [
    "##*ARGS"
   ]
  },
  {
   "cell_type": "code",
   "execution_count": 2,
   "metadata": {},
   "outputs": [
    {
     "output_type": "stream",
     "name": "stdout",
     "text": [
      "775577\n"
     ]
    }
   ],
   "source": [
    "#la logica se puede v er en este ejemplo\n",
    "def realiza_suma_numeros(*args): \n",
    "    print(sum(args))\n",
    "realiza_suma_numeros(2,3,45,65,775457,5)# en vez de poner todas las variables que queramos a, b ,c ,d etc ponemos asi y es mas facil"
   ]
  },
  {
   "cell_type": "code",
   "execution_count": 3,
   "metadata": {},
   "outputs": [
    {
     "output_type": "stream",
     "name": "stdout",
     "text": [
      "x: 2\n*args: (3, 4, 5, 6, 777)\n795\n"
     ]
    }
   ],
   "source": [
    "#si hay un argumento obligatorio\n",
    "def realiza_suma_numeros(x,*args): \n",
    "    print(\"x:\",x)\n",
    "    print(\"*args:\", args)\n",
    "    print(sum(args))\n",
    "realiza_suma_numeros(2,3,4,5,6,777) #x es el primero y args se devuelve en tupla siempre"
   ]
  },
  {
   "cell_type": "code",
   "execution_count": 4,
   "metadata": {},
   "outputs": [
    {
     "output_type": "stream",
     "name": "stdout",
     "text": [
      "x: 2\n*args: ()\n0\n"
     ]
    }
   ],
   "source": [
    "#si solo hay un parametro, args es una tupla vacia\n",
    "def realiza_suma_numeros(x,*args): \n",
    "    print(\"x:\",x)\n",
    "    print(\"*args:\", args)\n",
    "    print(sum(args))\n",
    "realiza_suma_numeros(2)"
   ]
  },
  {
   "cell_type": "code",
   "execution_count": 5,
   "metadata": {},
   "outputs": [
    {
     "output_type": "error",
     "ename": "SyntaxError",
     "evalue": "positional argument follows keyword argument (<ipython-input-5-878bd0386e21>, line 1)",
     "traceback": [
      "\u001b[1;36m  File \u001b[1;32m\"<ipython-input-5-878bd0386e21>\"\u001b[1;36m, line \u001b[1;32m1\u001b[0m\n\u001b[1;33m    realiza_suma_numeros(x=2,3,4)\u001b[0m\n\u001b[1;37m                            ^\u001b[0m\n\u001b[1;31mSyntaxError\u001b[0m\u001b[1;31m:\u001b[0m positional argument follows keyword argument\n"
     ]
    }
   ],
   "source": [
    "realiza_suma_numeros(x=2,3,4) #esto da error xq todo lo que este a la derecha del primer igual todos tendrian que estar con el igual"
   ]
  },
  {
   "cell_type": "code",
   "execution_count": null,
   "metadata": {},
   "outputs": [],
   "source": [
    "realiza_suma_numeros(x=2,3,4)#limitacion de args, no podemos asignar ningun nombre de variables. Args es una tupla de todos los valores que no esten asociados a ningun argumento obligatorio"
   ]
  },
  {
   "cell_type": "code",
   "execution_count": null,
   "metadata": {},
   "outputs": [],
   "source": [
    "##**kwargs"
   ]
  },
  {
   "cell_type": "code",
   "execution_count": 7,
   "metadata": {},
   "outputs": [
    {
     "output_type": "error",
     "ename": "TypeError",
     "evalue": "funcion_kwargs() takes 0 positional arguments but 2 were given",
     "traceback": [
      "\u001b[1;31m---------------------------------------------------------------------------\u001b[0m",
      "\u001b[1;31mTypeError\u001b[0m                                 Traceback (most recent call last)",
      "\u001b[1;32m<ipython-input-7-867c7f762036>\u001b[0m in \u001b[0;36m<module>\u001b[1;34m\u001b[0m\n\u001b[0;32m      3\u001b[0m     \u001b[0mprint\u001b[0m\u001b[1;33m(\u001b[0m\u001b[0mkwargs\u001b[0m\u001b[1;33m)\u001b[0m\u001b[1;33m\u001b[0m\u001b[1;33m\u001b[0m\u001b[0m\n\u001b[0;32m      4\u001b[0m \u001b[1;33m\u001b[0m\u001b[0m\n\u001b[1;32m----> 5\u001b[1;33m \u001b[0mfuncion_kwargs\u001b[0m\u001b[1;33m(\u001b[0m\u001b[1;36m2\u001b[0m\u001b[1;33m,\u001b[0m\u001b[1;36m3\u001b[0m\u001b[1;33m)\u001b[0m\u001b[1;33m\u001b[0m\u001b[1;33m\u001b[0m\u001b[0m\n\u001b[0m",
      "\u001b[1;31mTypeError\u001b[0m: funcion_kwargs() takes 0 positional arguments but 2 were given"
     ]
    }
   ],
   "source": [
    "def funcion_kwargs(**kwargs):\n",
    "    print(type(kwargs))\n",
    "    print(kwargs)\n",
    "\n",
    "funcion_kwargs(2,3) # no permite llamar a la funcion sin pasar nombre a las variables, en args era al reves"
   ]
  },
  {
   "cell_type": "code",
   "execution_count": 8,
   "metadata": {},
   "outputs": [
    {
     "output_type": "stream",
     "name": "stdout",
     "text": [
      "<class 'dict'>\n{'p': 2, 'x': 3}\n"
     ]
    }
   ],
   "source": [
    "def funcion_kwargs(**kwargs):\n",
    "    print(type(kwargs))\n",
    "    print(kwargs)\n",
    "\n",
    "funcion_kwargs(p=2,x=3) #creamos claves y valores a un diccionario y es de tipo diccionario"
   ]
  },
  {
   "cell_type": "code",
   "execution_count": 10,
   "metadata": {},
   "outputs": [
    {
     "output_type": "stream",
     "name": "stdout",
     "text": [
      "x: 3\n<class 'dict'>\n{'p': 2}\n"
     ]
    }
   ],
   "source": [
    "def funcion_kwargs(x,**kwargs):\n",
    "    print(\"x:\",x)\n",
    "    print(type(kwargs))\n",
    "    print(kwargs)\n",
    "\n",
    "funcion_kwargs(p=2,x=3) #x se pone el valor si o si, el resto a diccionario"
   ]
  },
  {
   "cell_type": "code",
   "execution_count": 16,
   "metadata": {},
   "outputs": [
    {
     "output_type": "stream",
     "name": "stdout",
     "text": [
      "x: 2\nb 4\n<class 'dict'>\n{'p': 3, 's': [3, 4]}\n"
     ]
    }
   ],
   "source": [
    "def funcion_kwargs(x,b=4,**kwargs):\n",
    "    print(\"x:\",x)\n",
    "    print(\"b\",b)\n",
    "    print(type(kwargs))\n",
    "    print(kwargs)\n",
    "\n",
    "funcion_kwargs(2,p=3, s=[3,4]) #va a contener todos los parametros que les asignes valor y que no esten en la funcion definidas, pues el p porque b esta definida y x tambien ya que el primer valor va a ser el 2. p no lo esta"
   ]
  },
  {
   "cell_type": "code",
   "execution_count": 19,
   "metadata": {},
   "outputs": [
    {
     "output_type": "stream",
     "name": "stdout",
     "text": [
      "x: 2\nb -1\n<class 'dict'>\n{'p': 3, 's': [3, 4]}\n"
     ]
    }
   ],
   "source": [
    "funcion_kwargs(2,-1,p=3, s=[3,4])#el segundo valor lo recoge la variable b y cambia el valor.   IMPORTANTE LE VALOR QUE YO LE DOY AL LLAMAR LA FUNCION A UNA VARIABLE, TIENE MAS IMPORTANCIA QUE EL VALOR QUE TIENE PREASIGANDO ES DECIR -1 VA A B Y DA IGUAL QUE SEA"
   ]
  },
  {
   "cell_type": "code",
   "execution_count": 23,
   "metadata": {},
   "outputs": [
    {
     "output_type": "stream",
     "name": "stdout",
     "text": [
      "x: 1\nb 4\n<class 'tuple'>\n*args: ()\n<class 'dict'>\n**kwargs: {}\n"
     ]
    }
   ],
   "source": [
    "#*args & **kwargs\n",
    "# si se utiliza *args y **kwargs se pone primero *args\n",
    "def funcion_kwargs_args(x,b=4,*args,**kwargs):\n",
    "    print(\"x:\",x)\n",
    "    print(\"b\",b)\n",
    "    print(type(args))\n",
    "    print(\"*args:\",args)\n",
    "    print(type(kwargs))\n",
    "    print(\"**kwargs:\",kwargs)\n",
    "funcion_kwargs_args(1) # si le doy un valor va al x\n"
   ]
  },
  {
   "cell_type": "code",
   "execution_count": 25,
   "metadata": {},
   "outputs": [
    {
     "output_type": "stream",
     "name": "stdout",
     "text": [
      "x: 1\nb 4\n<class 'tuple'>\n*args: ()\n<class 'dict'>\n**kwargs: {'k': 2}\n"
     ]
    }
   ],
   "source": [
    "funcion_kwargs_args(x=1, k=2) # si le asigno un valor a una variable va a kwargs"
   ]
  },
  {
   "cell_type": "code",
   "execution_count": null,
   "metadata": {},
   "outputs": [],
   "source": [
    "#args no admite un nombre de variable, kwargs solo admite nombre de variable"
   ]
  },
  {
   "cell_type": "code",
   "execution_count": 26,
   "metadata": {},
   "outputs": [
    {
     "output_type": "stream",
     "name": "stdout",
     "text": [
      "x: 1\nb 2\n<class 'tuple'>\n*args: (3,)\n<class 'dict'>\n**kwargs: {}\n"
     ]
    }
   ],
   "source": [
    "funcion_kwargs_args(1,2,3) #el 3 va a args"
   ]
  },
  {
   "cell_type": "code",
   "execution_count": 28,
   "metadata": {},
   "outputs": [
    {
     "output_type": "stream",
     "name": "stdout",
     "text": [
      "x: 1\nb 2\n<class 'tuple'>\n*args: (3,)\n<class 'dict'>\n**kwargs: {'j': 6}\n"
     ]
    }
   ],
   "source": [
    "funcion_kwargs_args(1,2,3, j=6)"
   ]
  },
  {
   "cell_type": "code",
   "execution_count": 29,
   "metadata": {},
   "outputs": [
    {
     "output_type": "stream",
     "name": "stdout",
     "text": [
      "x: 1\nb 4\n<class 'tuple'>\n*args: ()\n<class 'dict'>\n**kwargs: {'j': 6}\n"
     ]
    }
   ],
   "source": [
    "funcion_kwargs_args(1, j=6)"
   ]
  },
  {
   "cell_type": "code",
   "execution_count": 30,
   "metadata": {},
   "outputs": [
    {
     "output_type": "stream",
     "name": "stdout",
     "text": [
      "x: 1\nb 2\n<class 'tuple'>\n*args: (3, 999)\n<class 'dict'>\n**kwargs: {'j': 6}\n"
     ]
    }
   ],
   "source": [
    "funcion_kwargs_args(1,2,3,999, j=6)"
   ]
  },
  {
   "cell_type": "code",
   "execution_count": 31,
   "metadata": {},
   "outputs": [
    {
     "output_type": "stream",
     "name": "stdout",
     "text": [
      "x: 1\nb 2\n<class 'tuple'>\n*args: (3, 999, {5: 'p'})\n<class 'dict'>\n**kwargs: {'j': 6}\n"
     ]
    }
   ],
   "source": [
    "d={5:\"p\"}\n",
    "funcion_kwargs_args(1,2,3,999,d, j=6) #va a args la d porque no tiene variable asignada "
   ]
  },
  {
   "cell_type": "code",
   "execution_count": 32,
   "metadata": {},
   "outputs": [
    {
     "output_type": "stream",
     "name": "stdout",
     "text": [
      "x: 1\nb 2\n<class 'tuple'>\n*args: (3, 999)\n<class 'dict'>\n**kwargs: {'d': {5: 'p'}, 'j': 6}\n"
     ]
    }
   ],
   "source": [
    "funcion_kwargs_args(1,2,3,999,d=d, j=6)# d es la key del diccionario y el valor de d es la clave"
   ]
  },
  {
   "cell_type": "code",
   "execution_count": 36,
   "metadata": {},
   "outputs": [
    {
     "output_type": "stream",
     "name": "stdout",
     "text": [
      "x: 1\nb 2\n<class 'tuple'>\n*args: (3, 999)\n<class 'dict'>\n**kwargs: {'d': {5: 'p'}, 'j': 6}\nkwargs:[d] {5: 'p'}\n"
     ]
    }
   ],
   "source": [
    "def funcion_kwargs_args(x,b=4,*args,**kwargs):\n",
    "    print(\"x:\",x)\n",
    "    print(\"b\",b)\n",
    "    print(type(args))\n",
    "    print(\"*args:\",args)\n",
    "    print(type(kwargs))\n",
    "    print(\"**kwargs:\",kwargs)\n",
    "    print(\"kwargs:[d]\", kwargs['d']) #asi apra mostrar el valor de la clave d de kwargs\n",
    "funcion_kwargs_args(1,2,3,999,d=d, j=6)"
   ]
  },
  {
   "cell_type": "code",
   "execution_count": null,
   "metadata": {},
   "outputs": [],
   "source": [
    "#LA KEY DE KWARGS HA DE SER SIEMPRE STRING "
   ]
  }
 ],
 "metadata": {
  "language_info": {
   "name": "python",
   "codemirror_mode": {
    "name": "ipython",
    "version": 3
   },
   "version": "3.7.4"
  },
  "orig_nbformat": 2,
  "file_extension": ".py",
  "mimetype": "text/x-python",
  "name": "python",
  "npconvert_exporter": "python",
  "pygments_lexer": "ipython3",
  "version": 3,
  "kernelspec": {
   "name": "python374jvsc74a57bd07945e9a82d7512fbf96246d9bbc29cd2f106c1a4a9cf54c9563dadf10f2237d4",
   "display_name": "Python 3.7.4 64-bit"
  },
  "metadata": {
   "interpreter": {
    "hash": "7945e9a82d7512fbf96246d9bbc29cd2f106c1a4a9cf54c9563dadf10f2237d4"
   }
  }
 },
 "nbformat": 4,
 "nbformat_minor": 2
}