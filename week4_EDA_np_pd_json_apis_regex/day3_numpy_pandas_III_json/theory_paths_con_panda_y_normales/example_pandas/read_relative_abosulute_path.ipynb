{
 "metadata": {
  "language_info": {
   "codemirror_mode": {
    "name": "ipython",
    "version": 3
   },
   "file_extension": ".py",
   "mimetype": "text/x-python",
   "name": "python",
   "nbconvert_exporter": "python",
   "pygments_lexer": "ipython3",
   "version": "3.7.4"
  },
  "orig_nbformat": 2,
  "kernelspec": {
   "name": "python374jvsc74a57bd07945e9a82d7512fbf96246d9bbc29cd2f106c1a4a9cf54c9563dadf10f2237d4",
   "display_name": "Python 3.7.4 64-bit"
  },
  "metadata": {
   "interpreter": {
    "hash": "7945e9a82d7512fbf96246d9bbc29cd2f106c1a4a9cf54c9563dadf10f2237d4"
   }
  }
 },
 "nbformat": 4,
 "nbformat_minor": 2,
 "cells": [
  {
   "source": [
    "#OPCIONES\n",
    "#1 estoy en la misma caprteta del archivo sumo la parte que falta al path"
   ],
   "cell_type": "markdown",
   "metadata": {}
  },
  {
   "cell_type": "code",
   "execution_count": null,
   "metadata": {},
   "outputs": [],
   "source": [
    "#2 El archivo esta en una carpeta superior a la mia tengo que hacer __file__ .yp o os.getcwd si estamos en ipynb "
   ]
  },
  {
   "cell_type": "code",
   "execution_count": 1,
   "metadata": {},
   "outputs": [],
   "source": [
    "import pandas as pd\n",
    "#ruta absoluta pero buena praxis\n",
    "my_folder=my_folder+os.sep+\"laliga.csv\" #asi se agrega la ruta absoluta de manera de buena praxis"
   ]
  },
  {
   "cell_type": "code",
   "execution_count": null,
   "metadata": {},
   "outputs": [],
   "source": [
    "#con pandas podemos trabajar con rutas rleativas y no absolutas"
   ]
  },
  {
   "cell_type": "code",
   "execution_count": null,
   "metadata": {},
   "outputs": [],
   "source": [
    "df=pd.read_csv(\"laliga.csv\") # esto significa en el mismo nivel"
   ]
  },
  {
   "cell_type": "code",
   "execution_count": null,
   "metadata": {},
   "outputs": [],
   "source": [
    "df=pd.read_csv(\"..\\laliga.csv\") #esto significa subir una carpeta "
   ]
  },
  {
   "cell_type": "code",
   "execution_count": null,
   "metadata": {},
   "outputs": [],
   "source": [
    "#repaso como cargar un archivo\n",
    "# de forma abosuluta, carpeta superior o en mi carpeta \n",
    "1. \"filename\"--> Buscar en la carpeta que esta \n",
    "2. \"./filename\"--> Buscar en la carpeta que esta\n",
    "3. \"../filename\"--> Buscar archivo una carpeta superior\n",
    "4. \"../..filename\" --> buscar archivo en dos carpetas superiores -> cada vez que ponga ../ sube una carpeta mas "
   ]
  },
  {
   "cell_type": "code",
   "execution_count": null,
   "metadata": {},
   "outputs": [],
   "source": [
    "# alguna carpeta superior dentro de otra carpeta\n",
    "tienes que subir una carpeta y entrar dentro de la carpeta donde este y pones ya el nombre del fichero. si la liga estuivera dentro de la carpeta pandas tendria que subir poniendo los lod spuntos y luego poner la carpeta donde dentro\n",
    "\"../carpeta/laliga.csv\""
   ]
  },
  {
   "cell_type": "code",
   "execution_count": null,
   "metadata": {},
   "outputs": [],
   "source": [
    "#en una carpeta dentro de la carpeta donde estoy \n",
    "si estuviera en una carpeta dentro de la carpeta que estoy, tendria que meterme en esa carpeta y abrir el archivo \"carpeta/laliga.csv\" "
   ]
  }
 ]
}