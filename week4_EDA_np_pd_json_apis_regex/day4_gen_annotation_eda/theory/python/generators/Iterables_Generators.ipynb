{
 "nbformat": 4,
 "nbformat_minor": 2,
 "metadata": {
  "language_info": {
   "name": "python",
   "codemirror_mode": {
    "name": "ipython",
    "version": 3
   },
   "version": "3.7.4"
  },
  "orig_nbformat": 2,
  "file_extension": ".py",
  "mimetype": "text/x-python",
  "name": "python",
  "npconvert_exporter": "python",
  "pygments_lexer": "ipython3",
  "version": 3,
  "kernelspec": {
   "name": "python374jvsc74a57bd07945e9a82d7512fbf96246d9bbc29cd2f106c1a4a9cf54c9563dadf10f2237d4",
   "display_name": "Python 3.7.4 64-bit"
  },
  "metadata": {
   "interpreter": {
    "hash": "7945e9a82d7512fbf96246d9bbc29cd2f106c1a4a9cf54c9563dadf10f2237d4"
   }
  }
 },
 "cells": [
  {
   "cell_type": "markdown",
   "metadata": {},
   "source": [
    "### Iterables and Generators\n",
    "\n",
    "One nice thing about a list is that you can retrieve specific elements by their indices. But you don’t always need this! A list of a billion numbers takes up a lot of memory. If you only want the elements one at a time, there’s no good reason to keep them all around. If you only end up needing the first several elements, generating the entire billion is hugely wasteful.\n",
    "\n",
    "Often all we need is to iterate over the collection using for and in. In this case we can create generators, which can be iterated over just like lists but generate their values lazily on demand.\n",
    "\n",
    "One way to create generators is with functions and the yield operator:"
   ]
  },
  {
   "cell_type": "code",
   "execution_count": null,
   "metadata": {},
   "outputs": [],
   "source": [
    "\"\"\"Concepto del generador (es un iterable):\n",
    "- El generador no calcula todos los numeros de la secuencia (que puede ser infinita)\n",
    "- Cada vez que se llama al next, ejecutara una vez el 'yield' de la funcion\n",
    "- Cuando transofmras el generador a otro tipo, por ejemplo list, llama a nexxt todas las veces posibles hasta terminar el bucle \n",
    "- Es util cuando tienes que caulcular una secuenca muy larga de numeros que solo vas a necesitar de 1 en 1 (con el next)\"\"\""
   ]
  },
  {
   "cell_type": "code",
   "execution_count": 33,
   "metadata": {},
   "outputs": [],
   "source": [
    "#cuando tengo que crear algo que tiende al infinito lo vamos a ver ahor. el concepto generador es un concepto de python que me va adar x numeros cuando yo se lo pida \n",
    "def create_list(n):\n",
    "    lista = []\n",
    "    for i in range(n):\n",
    "        lista.append(i)\n",
    "    return lista"
   ]
  },
  {
   "cell_type": "code",
   "execution_count": 34,
   "metadata": {},
   "outputs": [],
   "source": [
    "def generate_range(n):\n",
    "    i = 0\n",
    "    while i < n: #hasta que el contador no esa mayor que n va a seguir imprimiendo numeros\n",
    "\n",
    "        yield i   # every call to yield produces a value of the generator yield es un return que no va a parar la funcion.El concepto de generador, es que te guarda el ultimo numero y te calcula el siguiente nada mas. La diferencia con una lista o un while sin generador, es que de la otra manera te lo guarda todo. va devolviendo numeros a medida que los vaya retornando. ejemplo si le pides 10 numeros, va al primer numero te lo devuelve luego el segundo y te lo devuelve y asi no los calcula todos y te los devuelve\n",
    "        #imprte una vez cada vez que les llame \n",
    "        i += 1"
   ]
  },
  {
   "cell_type": "code",
   "execution_count": 35,
   "metadata": {},
   "outputs": [],
   "source": [
    "#ejemplo"
   ]
  },
  {
   "cell_type": "code",
   "execution_count": 36,
   "metadata": {},
   "outputs": [
    {
     "output_type": "stream",
     "name": "stdout",
     "text": [
      "Wall time: 6.3 s\n"
     ]
    }
   ],
   "source": [
    "%%time\n",
    "for i in create_list(100000):\n",
    "    print(i, end=\"\\r\") #este barra erre sirve como xa hacer un print en la misma linea es decir no los imprime todos en linea "
   ]
  },
  {
   "cell_type": "code",
   "execution_count": null,
   "metadata": {},
   "outputs": [],
   "source": [
    "generate_range(n=100000) "
   ]
  },
  {
   "cell_type": "code",
   "execution_count": 5,
   "metadata": {},
   "outputs": [
    {
     "output_type": "stream",
     "name": "stdout",
     "text": [
      "Wall time: 6.18 s\n"
     ]
    }
   ],
   "source": [
    "%%time\n",
    "for i in generate_range(n=100000): #puedo recorrer el generador \n",
    "    print(i, end=\"\\r\")"
   ]
  },
  {
   "cell_type": "code",
   "execution_count": 25,
   "metadata": {},
   "outputs": [
    {
     "output_type": "execute_result",
     "data": {
      "text/plain": [
       "<generator object generate_range at 0x0000000007E537C8>"
      ]
     },
     "metadata": {},
     "execution_count": 25
    }
   ],
   "source": [
    "generate_range(10)"
   ]
  },
  {
   "cell_type": "code",
   "execution_count": 10,
   "metadata": {},
   "outputs": [
    {
     "output_type": "stream",
     "name": "stdout",
     "text": [
      "i: 0\ni: 1\ni: 2\ni: 3\ni: 4\ni: 5\ni: 6\ni: 7\ni: 8\ni: 9\n"
     ]
    }
   ],
   "source": [
    "for i in generate_range(10):\n",
    "    print(f\"i: {i}\")"
   ]
  },
  {
   "cell_type": "code",
   "execution_count": null,
   "metadata": {},
   "outputs": [],
   "source": [
    "x=2\n",
    "print(f\"X: {x}\")"
   ]
  },
  {
   "cell_type": "code",
   "execution_count": 11,
   "metadata": {},
   "outputs": [],
   "source": [
    "def check_prime(number):    #si el numero es primo \n",
    "    for divisor in range(2, int(number)//2 +2):\n",
    "        if number % divisor == 0:\n",
    "            return False\n",
    "    return True\n",
    "        \n",
    "def primes(n):    #esta funcion va a estar recorriendo numeros, en este caso hast 100 mirar casilla de abajo y los va a imprimir hasta que el 100 sea mayor que el contador number.  y si es un numero primo, con la funcion de arriba, nos va a yieldear los primos\n",
    "    number = 1\n",
    "    while number < n:        \n",
    "        number += 1        \n",
    "        if check_prime(number=number):           \n",
    "            yield number"
   ]
  },
  {
   "cell_type": "code",
   "execution_count": 28,
   "metadata": {},
   "outputs": [
    {
     "output_type": "execute_result",
     "data": {
      "text/plain": [
       "<generator object primes at 0x00000000084E9AC8>"
      ]
     },
     "metadata": {},
     "execution_count": 28
    }
   ],
   "source": [
    "generator = primes(n=100) #esta funcion retorna un generador y tarda poco porque solo se va queando con el ultimo numero\n",
    "generator"
   ]
  },
  {
   "cell_type": "code",
   "execution_count": 13,
   "metadata": {},
   "outputs": [
    {
     "output_type": "execute_result",
     "data": {
      "text/plain": [
       "generator"
      ]
     },
     "metadata": {},
     "execution_count": 13
    }
   ],
   "source": [
    "type(generator)\n"
   ]
  },
  {
   "cell_type": "code",
   "execution_count": 22,
   "metadata": {},
   "outputs": [
    {
     "output_type": "stream",
     "name": "stdout",
     "text": [
      "43\n47\n53\n"
     ]
    }
   ],
   "source": [
    "for i in range(3): # si creo un bucle que se ejecuta 3 veces la funcion next va a irtelo printeando de uno en uno. cada vez que los llames de uno en uno, en este caso de 3 en tres porque es rango 3\n",
    "    print(next(generator))"
   ]
  },
  {
   "cell_type": "code",
   "execution_count": 23,
   "metadata": {},
   "outputs": [
    {
     "output_type": "stream",
     "name": "stdout",
     "text": [
      "59\n"
     ]
    }
   ],
   "source": [
    "print(next(generator))"
   ]
  },
  {
   "cell_type": "code",
   "execution_count": 24,
   "metadata": {},
   "outputs": [
    {
     "output_type": "execute_result",
     "data": {
      "text/plain": [
       "[61, 67, 71, 73, 79, 83, 89, 97]"
      ]
     },
     "metadata": {},
     "execution_count": 24
    }
   ],
   "source": [
    "list(generator) #como podemos ver, el rango te da los 3 primeros, el printeo de next generator, da el siguiente y la lista desde los siguientes "
   ]
  },
  {
   "cell_type": "code",
   "execution_count": null,
   "metadata": {},
   "outputs": [],
   "source": [
    "lista_primos=[]"
   ]
  },
  {
   "cell_type": "code",
   "execution_count": 40,
   "metadata": {},
   "outputs": [
    {
     "output_type": "error",
     "ename": "StopIteration",
     "evalue": "",
     "traceback": [
      "\u001b[1;31m---------------------------------------------------------------------------\u001b[0m",
      "\u001b[1;31mStopIteration\u001b[0m                             Traceback (most recent call last)",
      "\u001b[1;32m<ipython-input-40-9a325e986936>\u001b[0m in \u001b[0;36m<module>\u001b[1;34m\u001b[0m\n\u001b[0;32m      1\u001b[0m \u001b[1;32mfor\u001b[0m \u001b[0mi\u001b[0m \u001b[1;32min\u001b[0m \u001b[0mrange\u001b[0m\u001b[1;33m(\u001b[0m\u001b[1;36m10\u001b[0m\u001b[1;33m)\u001b[0m\u001b[1;33m:\u001b[0m\u001b[1;33m\u001b[0m\u001b[1;33m\u001b[0m\u001b[0m\n\u001b[1;32m----> 2\u001b[1;33m     \u001b[0mprimo\u001b[0m\u001b[1;33m=\u001b[0m\u001b[0mnext\u001b[0m\u001b[1;33m(\u001b[0m\u001b[0mgenerator\u001b[0m\u001b[1;33m)\u001b[0m\u001b[1;33m\u001b[0m\u001b[1;33m\u001b[0m\u001b[0m\n\u001b[0m\u001b[0;32m      3\u001b[0m     \u001b[0mlista_primos\u001b[0m\u001b[1;33m.\u001b[0m\u001b[0mappend\u001b[0m\u001b[1;33m(\u001b[0m\u001b[0mprimo\u001b[0m\u001b[1;33m)\u001b[0m\u001b[1;33m\u001b[0m\u001b[1;33m\u001b[0m\u001b[0m\n\u001b[0;32m      4\u001b[0m     \u001b[0mprint\u001b[0m\u001b[1;33m(\u001b[0m\u001b[0mprimo\u001b[0m\u001b[1;33m)\u001b[0m\u001b[1;33m\u001b[0m\u001b[1;33m\u001b[0m\u001b[0m\n\u001b[0;32m      5\u001b[0m \u001b[1;33m\u001b[0m\u001b[0m\n",
      "\u001b[1;31mStopIteration\u001b[0m: "
     ]
    }
   ],
   "source": [
    "for i in range(10):\n",
    "    primo=next(generator)\n",
    "    lista_primos.append(primo)\n",
    "    print(primo)\n",
    "\n",
    "lista_primos #me  guarda los 10 ultimos numeros que salen en la lista, mas los anterirores (los guardas en una lista)  y me printea los primos "
   ]
  },
  {
   "cell_type": "code",
   "execution_count": null,
   "metadata": {},
   "outputs": [],
   "source": []
  }
 ]
}