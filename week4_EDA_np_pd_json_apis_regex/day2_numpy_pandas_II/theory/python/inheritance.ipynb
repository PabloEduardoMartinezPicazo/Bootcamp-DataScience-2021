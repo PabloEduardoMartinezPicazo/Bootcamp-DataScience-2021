{
 "cells": [
  {
   "cell_type": "markdown",
   "metadata": {},
   "source": [
    "Inheritance in python"
   ]
  },
  {
   "cell_type": "code",
   "execution_count": 1,
   "metadata": {},
   "outputs": [],
   "source": [
    "class LivingBeing(): #la herencia sirve para crear una clase, ser vivo que tiene atributos otras clases por debajo, por ejemplo ser humano tiene los atributos de ser vivo\n",
    "    \"\"\"Father/Mother class\"\"\"\n",
    "    def __init__(self, kingdom, born_date, color,days_lived=0, procreate_ability=True): #atributos parametrizados que puedes cambiar ala hora de crear una instancia \n",
    "        self.is_living = True #atributos no parametrizados auqellos que pongo abajo y no arriba, vivir y morir son fijos hasta que los cambies\n",
    "        self.kingdom = kingdom\n",
    "        self.procreate_ability = procreate_ability\n",
    "        self.born_date = born_date\n",
    "        self.death_date = None # siempre va a tener un none a no ser que lo cambie con la funcion de die \n",
    "        self.days_lived = days_lived #desde el def __init__ hasta esta linea se denomina constructor de la clase\n",
    "        self.color = color\n",
    "    def living_being_function(self):\n",
    "        print(\"I am a living being!\")\n",
    "\n",
    "    def die(self,death_date):\n",
    "        print(\"Murió\")\n",
    "        self.is_living = False\n",
    "        self.death_date = death_date #\"05/05/2021\" poner la fecha no es buena praxis mejor poner la fecha y que se introduzca cual es "
   ]
  },
  {
   "cell_type": "code",
   "execution_count": 2,
   "metadata": {},
   "outputs": [],
   "source": [
    "def new_day(a_class): #instancia de una clase\n",
    "    a_class.days_lived += 1#atributo de la clase que tu quieras y le sumas un dia"
   ]
  },
  {
   "cell_type": "code",
   "execution_count": 3,
   "metadata": {
    "tags": []
   },
   "outputs": [
    {
     "output_type": "stream",
     "name": "stdout",
     "text": [
      "celula.days_lived: 520\ncelula.days_lived: 521\n"
     ]
    }
   ],
   "source": [
    "celula = LivingBeing(kingdom=\"Animal\", born_date=\"18/06/2019\",days_lived=520, color=\"Transparente\")\n",
    "print(\"celula.days_lived:\", celula.days_lived)\n",
    "new_day(a_class=celula)\n",
    "print(\"celula.days_lived:\", celula.days_lived)"
   ]
  },
  {
   "cell_type": "code",
   "execution_count": 4,
   "metadata": {},
   "outputs": [
    {
     "output_type": "stream",
     "name": "stdout",
     "text": [
      "celula.is_living: True\nMurió\ncelula.is_living: False\n"
     ]
    }
   ],
   "source": [
    "print(\"celula.is_living:\",celula.is_living)\n",
    "celula.die(death_date=\"05/05/2021\")\n",
    "print(\"celula.is_living:\",celula.is_living)"
   ]
  },
  {
   "cell_type": "code",
   "execution_count": 5,
   "metadata": {},
   "outputs": [
    {
     "output_type": "stream",
     "name": "stdout",
     "text": [
      "humano.is_living: True\nhumano.death_date: None\nMurió\nhumano.is_living: False\nhumano.death_date: 05/05/2021\n"
     ]
    }
   ],
   "source": [
    "humano = LivingBeing(kingdom=\"Animal\", born_date=\"21/06/2019\", color=\"piel\")\n",
    "print(\"humano.is_living:\", humano.is_living)\n",
    "print(\"humano.death_date:\", humano.death_date) #por defecto es none\n",
    "humano.die(death_date=\"05/05/2021\")\n",
    "print(\"humano.is_living:\", humano.is_living)\n",
    "print(\"humano.death_date:\", humano.death_date)"
   ]
  },
  {
   "cell_type": "code",
   "execution_count": 7,
   "metadata": {},
   "outputs": [
    {
     "output_type": "execute_result",
     "data": {
      "text/plain": [
       "datetime.datetime(2021, 5, 5, 11, 12, 30, 73400)"
      ]
     },
     "metadata": {},
     "execution_count": 7
    }
   ],
   "source": [
    "#EXTRA FECHAS, CALENDARIOS\n",
    "from datetime import datetime as dt\n",
    "dt.now() #te calcula el momento de ahora "
   ]
  },
  {
   "cell_type": "code",
   "execution_count": 8,
   "metadata": {},
   "outputs": [],
   "source": [
    "class Human(LivingBeing): #humano hereda de ser vivo\n",
    "    \"\"\"Children class\"\"\"\n",
    "    def __init__(self, born_date, color=\"el de la piel\", procreate_ability=True, eyes=2, legs=2, intelligence_ability=True): #esta en el constructor de ser humano\n",
    "        #Herencia\n",
    "        LivingBeing.__init__(self, kingdom=\"Human\", color=color, procreate_ability=procreate_ability, born_date=born_date) #aqui se manda a constructor de ser vivo ejemplo: procreate_ability=procreate_ability se necesita hilar con la clase humano\n",
    "       #esto son de humano\n",
    "        self.eyes = eyes\n",
    "        self.legs = legs\n",
    "        self.intelligence_ability = intelligence_ability\n",
    "    \n",
    "    "
   ]
  },
  {
   "source": [
    "humano = Human(born_date=\"13/05/1991\") #instancia humano\n",
    "\n",
    "print(\"humano.is_living:\", humano.is_living)\n",
    "print(\"\\nCalling to living_being_function():\\n\")\n",
    "humano.living_being_function()"
   ],
   "cell_type": "code",
   "metadata": {
    "tags": []
   },
   "execution_count": 9,
   "outputs": [
    {
     "output_type": "stream",
     "name": "stdout",
     "text": [
      "humano.is_living: True\n\nCalling to living_being_function():\n\nI am a living being!\n"
     ]
    }
   ]
  },
  {
   "cell_type": "code",
   "execution_count": 10,
   "metadata": {},
   "outputs": [
    {
     "output_type": "stream",
     "name": "stdout",
     "text": [
      "humano.is_living: True\n\nCalling to living_being_function():\n\nI am a living being!\n"
     ]
    }
   ],
   "source": [
    "humano_esteril = Human(born_date=\"13/05/1991\", procreate_ability=False) #instancia humano_esteril\n",
    "\n",
    "print(\"humano.is_living:\", humano_esteril.is_living)\n",
    "print(\"\\nCalling to living_being_function():\\n\")\n",
    "humano_esteril.living_being_function()"
   ]
  },
  {
   "cell_type": "code",
   "execution_count": 11,
   "metadata": {},
   "outputs": [
    {
     "output_type": "execute_result",
     "data": {
      "text/plain": [
       "False"
      ]
     },
     "metadata": {},
     "execution_count": 11
    }
   ],
   "source": [
    "humano_esteril.procreate_ability"
   ]
  },
  {
   "cell_type": "code",
   "execution_count": 16,
   "metadata": {},
   "outputs": [
    {
     "output_type": "execute_result",
     "data": {
      "text/plain": [
       "0"
      ]
     },
     "metadata": {},
     "execution_count": 16
    }
   ],
   "source": [
    "humano.days_lived # en el constructor de ser humano no hay ningun atributo que permita pasar los dias vividos y al pasarle el construcotr de ser vivo a humano tampoco le pasamos ningun atributo a dias vividos asi que los dias vividos son 0\n"
   ]
  },
  {
   "cell_type": "code",
   "execution_count": 12,
   "metadata": {},
   "outputs": [
    {
     "output_type": "execute_result",
     "data": {
      "text/plain": [
       "1"
      ]
     },
     "metadata": {},
     "execution_count": 12
    }
   ],
   "source": [
    "new_day(humano)\n",
    "humano.days_lived #aqui se ve que es 1 xq no le podemos pasar los dias "
   ]
  },
  {
   "source": [
    "class Perro(LivingBeing):\n",
    "    # TODO"
   ],
   "cell_type": "markdown",
   "metadata": {
    "tags": []
   }
  },
  {
   "cell_type": "code",
   "execution_count": 21,
   "metadata": {},
   "outputs": [],
   "source": [
    "class Perro(LivingBeing):\n",
    "    def __init__(self, raza, color, born_date, patas=4, ojos=2, cola=True, agresivo=False): #raza tiene que ir antes de los iguales \n",
    "        LivingBeing.__init__(self, kingdom=\"Animal\", born_date=born_date, color=color)#como siempre los perros son animales, no hace falta ponre kingdom en la clase perro\n",
    "        self.raza = raza\n",
    "        self.patas = patas\n",
    "        self.ojos = ojos\n",
    "        self.patas = patas\n",
    "        self.agresi = agresivo\n",
    "        "
   ]
  },
  {
   "cell_type": "code",
   "execution_count": 22,
   "metadata": {},
   "outputs": [
    {
     "output_type": "execute_result",
     "data": {
      "text/plain": [
       "False"
      ]
     },
     "metadata": {},
     "execution_count": 22
    }
   ],
   "source": [
    "doby=Perro(raza=\"San Bernardo\",color=\"Marrón y blanco\", born_date=\"05/05/2020\")\n",
    "doby.agresi #se llama a la variable \"agresi\""
   ]
  },
  {
   "cell_type": "code",
   "execution_count": 25,
   "metadata": {},
   "outputs": [
    {
     "output_type": "error",
     "ename": "TypeError",
     "evalue": "__init__() got an unexpected keyword argument 'addres'",
     "traceback": [
      "\u001b[1;31m---------------------------------------------------------------------------\u001b[0m",
      "\u001b[1;31mTypeError\u001b[0m                                 Traceback (most recent call last)",
      "\u001b[1;32m<ipython-input-25-e4323c5b05a9>\u001b[0m in \u001b[0;36m<module>\u001b[1;34m\u001b[0m\n\u001b[0;32m      5\u001b[0m         \u001b[0mself\u001b[0m\u001b[1;33m.\u001b[0m\u001b[0mphone\u001b[0m \u001b[1;33m=\u001b[0m \u001b[0mphone\u001b[0m\u001b[1;33m\u001b[0m\u001b[1;33m\u001b[0m\u001b[0m\n\u001b[0;32m      6\u001b[0m         \u001b[0mself\u001b[0m\u001b[1;33m.\u001b[0m\u001b[0memail\u001b[0m \u001b[1;33m=\u001b[0m \u001b[0memail\u001b[0m\u001b[1;33m\u001b[0m\u001b[1;33m\u001b[0m\u001b[0m\n\u001b[1;32m----> 7\u001b[1;33m \u001b[0mpepito\u001b[0m\u001b[1;33m=\u001b[0m\u001b[0mCostumer\u001b[0m\u001b[1;33m(\u001b[0m\u001b[0mid\u001b[0m\u001b[1;33m=\u001b[0m\u001b[1;36m4857384\u001b[0m\u001b[1;33m,\u001b[0m \u001b[0maddres\u001b[0m\u001b[1;33m=\u001b[0m\u001b[1;34m\"calle Bellavista\"\u001b[0m\u001b[1;33m,\u001b[0m \u001b[0mphone\u001b[0m\u001b[1;33m=\u001b[0m\u001b[1;36m43634\u001b[0m\u001b[1;33m,\u001b[0m \u001b[0memail\u001b[0m\u001b[1;33m=\u001b[0m\u001b[1;34m\"asdefa@asdgfa.com\"\u001b[0m\u001b[1;33m)\u001b[0m\u001b[1;33m\u001b[0m\u001b[1;33m\u001b[0m\u001b[0m\n\u001b[0m",
      "\u001b[1;31mTypeError\u001b[0m: __init__() got an unexpected keyword argument 'addres'"
     ]
    }
   ],
   "source": [
    "class Costumer:\n",
    "    def __init__(self, id, address, phone, email):\n",
    "        self.id=id\n",
    "        self.address = address\n",
    "        self.phone = phone\n",
    "        self.email = email\n",
    "pepito=Costumer(id=4857384, addres=\"calle Bellavista\", phone=43634, email=\"asdefa@asdgfa.com\")"
   ]
  },
  {
   "cell_type": "code",
   "execution_count": null,
   "metadata": {},
   "outputs": [],
   "source": []
  }
 ],
 "metadata": {
  "language_info": {
   "name": "python",
   "codemirror_mode": {
    "name": "ipython",
    "version": 3
   },
   "version": "3.7.4"
  },
  "orig_nbformat": 2,
  "file_extension": ".py",
  "mimetype": "text/x-python",
  "name": "python",
  "npconvert_exporter": "python",
  "pygments_lexer": "ipython3",
  "version": 3,
  "kernelspec": {
   "name": "python374jvsc74a57bd07945e9a82d7512fbf96246d9bbc29cd2f106c1a4a9cf54c9563dadf10f2237d4",
   "display_name": "Python 3.7.4 64-bit"
  },
  "metadata": {
   "interpreter": {
    "hash": "7945e9a82d7512fbf96246d9bbc29cd2f106c1a4a9cf54c9563dadf10f2237d4"
   }
  }
 },
 "nbformat": 4,
 "nbformat_minor": 2
}