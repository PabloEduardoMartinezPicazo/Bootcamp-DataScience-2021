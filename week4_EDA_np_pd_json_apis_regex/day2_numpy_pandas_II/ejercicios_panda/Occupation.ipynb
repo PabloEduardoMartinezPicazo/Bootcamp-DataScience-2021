{
 "cells": [
  {
   "cell_type": "markdown",
   "metadata": {},
   "source": [
    "# 01 - Getting and Knowing your Data"
   ]
  },
  {
   "cell_type": "markdown",
   "metadata": {},
   "source": [
    "\n",
    "\n",
    "### Step 1. Import the necessary libraries"
   ]
  },
  {
   "cell_type": "code",
   "execution_count": 39,
   "metadata": {},
   "outputs": [],
   "source": [
    "import pandas as pd\n",
    "import numpy as np\n"
   ]
  },
  {
   "cell_type": "markdown",
   "metadata": {},
   "source": [
    "### Step 2. Import the dataset from this [address](https://raw.githubusercontent.com/justmarkham/DAT8/master/data/u.user). "
   ]
  },
  {
   "cell_type": "code",
   "execution_count": 40,
   "metadata": {},
   "outputs": [
    {
     "output_type": "execute_result",
     "data": {
      "text/plain": [
       "     user_id  age gender     occupation zip_code\n",
       "0          1   24      M     technician    85711\n",
       "1          2   53      F          other    94043\n",
       "2          3   23      M         writer    32067\n",
       "3          4   24      M     technician    43537\n",
       "4          5   33      F          other    15213\n",
       "..       ...  ...    ...            ...      ...\n",
       "938      939   26      F        student    33319\n",
       "939      940   32      M  administrator    02215\n",
       "940      941   20      M        student    97229\n",
       "941      942   48      F      librarian    78209\n",
       "942      943   22      M        student    77841\n",
       "\n",
       "[943 rows x 5 columns]"
      ],
      "text/html": "<div>\n<style scoped>\n    .dataframe tbody tr th:only-of-type {\n        vertical-align: middle;\n    }\n\n    .dataframe tbody tr th {\n        vertical-align: top;\n    }\n\n    .dataframe thead th {\n        text-align: right;\n    }\n</style>\n<table border=\"1\" class=\"dataframe\">\n  <thead>\n    <tr style=\"text-align: right;\">\n      <th></th>\n      <th>user_id</th>\n      <th>age</th>\n      <th>gender</th>\n      <th>occupation</th>\n      <th>zip_code</th>\n    </tr>\n  </thead>\n  <tbody>\n    <tr>\n      <th>0</th>\n      <td>1</td>\n      <td>24</td>\n      <td>M</td>\n      <td>technician</td>\n      <td>85711</td>\n    </tr>\n    <tr>\n      <th>1</th>\n      <td>2</td>\n      <td>53</td>\n      <td>F</td>\n      <td>other</td>\n      <td>94043</td>\n    </tr>\n    <tr>\n      <th>2</th>\n      <td>3</td>\n      <td>23</td>\n      <td>M</td>\n      <td>writer</td>\n      <td>32067</td>\n    </tr>\n    <tr>\n      <th>3</th>\n      <td>4</td>\n      <td>24</td>\n      <td>M</td>\n      <td>technician</td>\n      <td>43537</td>\n    </tr>\n    <tr>\n      <th>4</th>\n      <td>5</td>\n      <td>33</td>\n      <td>F</td>\n      <td>other</td>\n      <td>15213</td>\n    </tr>\n    <tr>\n      <th>...</th>\n      <td>...</td>\n      <td>...</td>\n      <td>...</td>\n      <td>...</td>\n      <td>...</td>\n    </tr>\n    <tr>\n      <th>938</th>\n      <td>939</td>\n      <td>26</td>\n      <td>F</td>\n      <td>student</td>\n      <td>33319</td>\n    </tr>\n    <tr>\n      <th>939</th>\n      <td>940</td>\n      <td>32</td>\n      <td>M</td>\n      <td>administrator</td>\n      <td>02215</td>\n    </tr>\n    <tr>\n      <th>940</th>\n      <td>941</td>\n      <td>20</td>\n      <td>M</td>\n      <td>student</td>\n      <td>97229</td>\n    </tr>\n    <tr>\n      <th>941</th>\n      <td>942</td>\n      <td>48</td>\n      <td>F</td>\n      <td>librarian</td>\n      <td>78209</td>\n    </tr>\n    <tr>\n      <th>942</th>\n      <td>943</td>\n      <td>22</td>\n      <td>M</td>\n      <td>student</td>\n      <td>77841</td>\n    </tr>\n  </tbody>\n</table>\n<p>943 rows × 5 columns</p>\n</div>"
     },
     "metadata": {},
     "execution_count": 40
    }
   ],
   "source": [
    "df=pd.read_csv(\"https://raw.githubusercontent.com/justmarkham/DAT8/master/data/u.user\", sep = \"|\")\n",
    "df"
   ]
  },
  {
   "cell_type": "markdown",
   "metadata": {},
   "source": [
    "### Step 3. Assign it to a variable called users and use the 'user_id' as index"
   ]
  },
  {
   "cell_type": "code",
   "execution_count": 41,
   "metadata": {},
   "outputs": [
    {
     "output_type": "execute_result",
     "data": {
      "text/plain": [
       "         age gender     occupation zip_code\n",
       "user_id                                    \n",
       "1         24      M     technician    85711\n",
       "2         53      F          other    94043\n",
       "3         23      M         writer    32067\n",
       "4         24      M     technician    43537\n",
       "5         33      F          other    15213\n",
       "...      ...    ...            ...      ...\n",
       "939       26      F        student    33319\n",
       "940       32      M  administrator    02215\n",
       "941       20      M        student    97229\n",
       "942       48      F      librarian    78209\n",
       "943       22      M        student    77841\n",
       "\n",
       "[943 rows x 4 columns]"
      ],
      "text/html": "<div>\n<style scoped>\n    .dataframe tbody tr th:only-of-type {\n        vertical-align: middle;\n    }\n\n    .dataframe tbody tr th {\n        vertical-align: top;\n    }\n\n    .dataframe thead th {\n        text-align: right;\n    }\n</style>\n<table border=\"1\" class=\"dataframe\">\n  <thead>\n    <tr style=\"text-align: right;\">\n      <th></th>\n      <th>age</th>\n      <th>gender</th>\n      <th>occupation</th>\n      <th>zip_code</th>\n    </tr>\n    <tr>\n      <th>user_id</th>\n      <th></th>\n      <th></th>\n      <th></th>\n      <th></th>\n    </tr>\n  </thead>\n  <tbody>\n    <tr>\n      <th>1</th>\n      <td>24</td>\n      <td>M</td>\n      <td>technician</td>\n      <td>85711</td>\n    </tr>\n    <tr>\n      <th>2</th>\n      <td>53</td>\n      <td>F</td>\n      <td>other</td>\n      <td>94043</td>\n    </tr>\n    <tr>\n      <th>3</th>\n      <td>23</td>\n      <td>M</td>\n      <td>writer</td>\n      <td>32067</td>\n    </tr>\n    <tr>\n      <th>4</th>\n      <td>24</td>\n      <td>M</td>\n      <td>technician</td>\n      <td>43537</td>\n    </tr>\n    <tr>\n      <th>5</th>\n      <td>33</td>\n      <td>F</td>\n      <td>other</td>\n      <td>15213</td>\n    </tr>\n    <tr>\n      <th>...</th>\n      <td>...</td>\n      <td>...</td>\n      <td>...</td>\n      <td>...</td>\n    </tr>\n    <tr>\n      <th>939</th>\n      <td>26</td>\n      <td>F</td>\n      <td>student</td>\n      <td>33319</td>\n    </tr>\n    <tr>\n      <th>940</th>\n      <td>32</td>\n      <td>M</td>\n      <td>administrator</td>\n      <td>02215</td>\n    </tr>\n    <tr>\n      <th>941</th>\n      <td>20</td>\n      <td>M</td>\n      <td>student</td>\n      <td>97229</td>\n    </tr>\n    <tr>\n      <th>942</th>\n      <td>48</td>\n      <td>F</td>\n      <td>librarian</td>\n      <td>78209</td>\n    </tr>\n    <tr>\n      <th>943</th>\n      <td>22</td>\n      <td>M</td>\n      <td>student</td>\n      <td>77841</td>\n    </tr>\n  </tbody>\n</table>\n<p>943 rows × 4 columns</p>\n</div>"
     },
     "metadata": {},
     "execution_count": 41
    }
   ],
   "source": [
    "users = pd.read_csv('https://raw.githubusercontent.com/justmarkham/DAT8/master/data/u.user',sep='|', index_col='user_id')\n",
    "users"
   ]
  },
  {
   "cell_type": "markdown",
   "metadata": {},
   "source": [
    "### Step 4. See the first 25 entries\n",
    "Solve it by 2 different ways"
   ]
  },
  {
   "cell_type": "code",
   "execution_count": 42,
   "metadata": {},
   "outputs": [
    {
     "output_type": "execute_result",
     "data": {
      "text/plain": [
       "         age gender     occupation zip_code\n",
       "user_id                                    \n",
       "1         24      M     technician    85711\n",
       "2         53      F          other    94043\n",
       "3         23      M         writer    32067\n",
       "4         24      M     technician    43537\n",
       "5         33      F          other    15213\n",
       "6         42      M      executive    98101\n",
       "7         57      M  administrator    91344\n",
       "8         36      M  administrator    05201\n",
       "9         29      M        student    01002\n",
       "10        53      M         lawyer    90703\n",
       "11        39      F          other    30329\n",
       "12        28      F          other    06405\n",
       "13        47      M       educator    29206\n",
       "14        45      M      scientist    55106\n",
       "15        49      F       educator    97301\n",
       "16        21      M  entertainment    10309\n",
       "17        30      M     programmer    06355\n",
       "18        35      F          other    37212\n",
       "19        40      M      librarian    02138\n",
       "20        42      F      homemaker    95660\n",
       "21        26      M         writer    30068\n",
       "22        25      M         writer    40206\n",
       "23        30      F         artist    48197\n",
       "24        21      F         artist    94533\n",
       "25        39      M       engineer    55107"
      ],
      "text/html": "<div>\n<style scoped>\n    .dataframe tbody tr th:only-of-type {\n        vertical-align: middle;\n    }\n\n    .dataframe tbody tr th {\n        vertical-align: top;\n    }\n\n    .dataframe thead th {\n        text-align: right;\n    }\n</style>\n<table border=\"1\" class=\"dataframe\">\n  <thead>\n    <tr style=\"text-align: right;\">\n      <th></th>\n      <th>age</th>\n      <th>gender</th>\n      <th>occupation</th>\n      <th>zip_code</th>\n    </tr>\n    <tr>\n      <th>user_id</th>\n      <th></th>\n      <th></th>\n      <th></th>\n      <th></th>\n    </tr>\n  </thead>\n  <tbody>\n    <tr>\n      <th>1</th>\n      <td>24</td>\n      <td>M</td>\n      <td>technician</td>\n      <td>85711</td>\n    </tr>\n    <tr>\n      <th>2</th>\n      <td>53</td>\n      <td>F</td>\n      <td>other</td>\n      <td>94043</td>\n    </tr>\n    <tr>\n      <th>3</th>\n      <td>23</td>\n      <td>M</td>\n      <td>writer</td>\n      <td>32067</td>\n    </tr>\n    <tr>\n      <th>4</th>\n      <td>24</td>\n      <td>M</td>\n      <td>technician</td>\n      <td>43537</td>\n    </tr>\n    <tr>\n      <th>5</th>\n      <td>33</td>\n      <td>F</td>\n      <td>other</td>\n      <td>15213</td>\n    </tr>\n    <tr>\n      <th>6</th>\n      <td>42</td>\n      <td>M</td>\n      <td>executive</td>\n      <td>98101</td>\n    </tr>\n    <tr>\n      <th>7</th>\n      <td>57</td>\n      <td>M</td>\n      <td>administrator</td>\n      <td>91344</td>\n    </tr>\n    <tr>\n      <th>8</th>\n      <td>36</td>\n      <td>M</td>\n      <td>administrator</td>\n      <td>05201</td>\n    </tr>\n    <tr>\n      <th>9</th>\n      <td>29</td>\n      <td>M</td>\n      <td>student</td>\n      <td>01002</td>\n    </tr>\n    <tr>\n      <th>10</th>\n      <td>53</td>\n      <td>M</td>\n      <td>lawyer</td>\n      <td>90703</td>\n    </tr>\n    <tr>\n      <th>11</th>\n      <td>39</td>\n      <td>F</td>\n      <td>other</td>\n      <td>30329</td>\n    </tr>\n    <tr>\n      <th>12</th>\n      <td>28</td>\n      <td>F</td>\n      <td>other</td>\n      <td>06405</td>\n    </tr>\n    <tr>\n      <th>13</th>\n      <td>47</td>\n      <td>M</td>\n      <td>educator</td>\n      <td>29206</td>\n    </tr>\n    <tr>\n      <th>14</th>\n      <td>45</td>\n      <td>M</td>\n      <td>scientist</td>\n      <td>55106</td>\n    </tr>\n    <tr>\n      <th>15</th>\n      <td>49</td>\n      <td>F</td>\n      <td>educator</td>\n      <td>97301</td>\n    </tr>\n    <tr>\n      <th>16</th>\n      <td>21</td>\n      <td>M</td>\n      <td>entertainment</td>\n      <td>10309</td>\n    </tr>\n    <tr>\n      <th>17</th>\n      <td>30</td>\n      <td>M</td>\n      <td>programmer</td>\n      <td>06355</td>\n    </tr>\n    <tr>\n      <th>18</th>\n      <td>35</td>\n      <td>F</td>\n      <td>other</td>\n      <td>37212</td>\n    </tr>\n    <tr>\n      <th>19</th>\n      <td>40</td>\n      <td>M</td>\n      <td>librarian</td>\n      <td>02138</td>\n    </tr>\n    <tr>\n      <th>20</th>\n      <td>42</td>\n      <td>F</td>\n      <td>homemaker</td>\n      <td>95660</td>\n    </tr>\n    <tr>\n      <th>21</th>\n      <td>26</td>\n      <td>M</td>\n      <td>writer</td>\n      <td>30068</td>\n    </tr>\n    <tr>\n      <th>22</th>\n      <td>25</td>\n      <td>M</td>\n      <td>writer</td>\n      <td>40206</td>\n    </tr>\n    <tr>\n      <th>23</th>\n      <td>30</td>\n      <td>F</td>\n      <td>artist</td>\n      <td>48197</td>\n    </tr>\n    <tr>\n      <th>24</th>\n      <td>21</td>\n      <td>F</td>\n      <td>artist</td>\n      <td>94533</td>\n    </tr>\n    <tr>\n      <th>25</th>\n      <td>39</td>\n      <td>M</td>\n      <td>engineer</td>\n      <td>55107</td>\n    </tr>\n  </tbody>\n</table>\n</div>"
     },
     "metadata": {},
     "execution_count": 42
    }
   ],
   "source": [
    "users[0:25]"
   ]
  },
  {
   "cell_type": "markdown",
   "metadata": {},
   "source": [
    "### Step 5. See the last 10 entries"
   ]
  },
  {
   "cell_type": "code",
   "execution_count": 43,
   "metadata": {},
   "outputs": [
    {
     "output_type": "execute_result",
     "data": {
      "text/plain": [
       "         age gender     occupation zip_code\n",
       "user_id                                    \n",
       "934       61      M       engineer    22902\n",
       "935       42      M         doctor    66221\n",
       "936       24      M          other    32789\n",
       "937       48      M       educator    98072\n",
       "938       38      F     technician    55038\n",
       "939       26      F        student    33319\n",
       "940       32      M  administrator    02215\n",
       "941       20      M        student    97229\n",
       "942       48      F      librarian    78209\n",
       "943       22      M        student    77841"
      ],
      "text/html": "<div>\n<style scoped>\n    .dataframe tbody tr th:only-of-type {\n        vertical-align: middle;\n    }\n\n    .dataframe tbody tr th {\n        vertical-align: top;\n    }\n\n    .dataframe thead th {\n        text-align: right;\n    }\n</style>\n<table border=\"1\" class=\"dataframe\">\n  <thead>\n    <tr style=\"text-align: right;\">\n      <th></th>\n      <th>age</th>\n      <th>gender</th>\n      <th>occupation</th>\n      <th>zip_code</th>\n    </tr>\n    <tr>\n      <th>user_id</th>\n      <th></th>\n      <th></th>\n      <th></th>\n      <th></th>\n    </tr>\n  </thead>\n  <tbody>\n    <tr>\n      <th>934</th>\n      <td>61</td>\n      <td>M</td>\n      <td>engineer</td>\n      <td>22902</td>\n    </tr>\n    <tr>\n      <th>935</th>\n      <td>42</td>\n      <td>M</td>\n      <td>doctor</td>\n      <td>66221</td>\n    </tr>\n    <tr>\n      <th>936</th>\n      <td>24</td>\n      <td>M</td>\n      <td>other</td>\n      <td>32789</td>\n    </tr>\n    <tr>\n      <th>937</th>\n      <td>48</td>\n      <td>M</td>\n      <td>educator</td>\n      <td>98072</td>\n    </tr>\n    <tr>\n      <th>938</th>\n      <td>38</td>\n      <td>F</td>\n      <td>technician</td>\n      <td>55038</td>\n    </tr>\n    <tr>\n      <th>939</th>\n      <td>26</td>\n      <td>F</td>\n      <td>student</td>\n      <td>33319</td>\n    </tr>\n    <tr>\n      <th>940</th>\n      <td>32</td>\n      <td>M</td>\n      <td>administrator</td>\n      <td>02215</td>\n    </tr>\n    <tr>\n      <th>941</th>\n      <td>20</td>\n      <td>M</td>\n      <td>student</td>\n      <td>97229</td>\n    </tr>\n    <tr>\n      <th>942</th>\n      <td>48</td>\n      <td>F</td>\n      <td>librarian</td>\n      <td>78209</td>\n    </tr>\n    <tr>\n      <th>943</th>\n      <td>22</td>\n      <td>M</td>\n      <td>student</td>\n      <td>77841</td>\n    </tr>\n  </tbody>\n</table>\n</div>"
     },
     "metadata": {},
     "execution_count": 43
    }
   ],
   "source": [
    "users.iloc[933:943]\n",
    "users[-11::] #el slicing de las arrays suma hacia delante asi que hay que hacer start stop step\n",
    "users.tail(10)"
   ]
  },
  {
   "cell_type": "markdown",
   "metadata": {},
   "source": [
    "### Step 6. What is the number of observations in the dataset?\n",
    "Solve it by 2 different ways"
   ]
  },
  {
   "cell_type": "code",
   "execution_count": 44,
   "metadata": {},
   "outputs": [
    {
     "output_type": "execute_result",
     "data": {
      "text/plain": [
       "943"
      ]
     },
     "metadata": {},
     "execution_count": 44
    }
   ],
   "source": [
    "len(users)\n",
    "#numero de observaciones, iterables -> filas \n",
    "#variables -> columnas \n"
   ]
  },
  {
   "cell_type": "code",
   "execution_count": 45,
   "metadata": {},
   "outputs": [
    {
     "output_type": "execute_result",
     "data": {
      "text/plain": [
       "943"
      ]
     },
     "metadata": {},
     "execution_count": 45
    }
   ],
   "source": [
    "users.shape[0] #shape en 0 filas en 1 columnas"
   ]
  },
  {
   "cell_type": "markdown",
   "metadata": {},
   "source": [
    "### Step 7. What is the number of columns in the dataset?\n",
    "Solve it by 2 different ways"
   ]
  },
  {
   "cell_type": "code",
   "execution_count": 46,
   "metadata": {},
   "outputs": [
    {
     "output_type": "execute_result",
     "data": {
      "text/plain": [
       "4"
      ]
     },
     "metadata": {},
     "execution_count": 46
    }
   ],
   "source": [
    "users.shape[1]"
   ]
  },
  {
   "cell_type": "markdown",
   "metadata": {},
   "source": [
    "### Step 8. Print the name of all the columns."
   ]
  },
  {
   "cell_type": "code",
   "execution_count": 47,
   "metadata": {},
   "outputs": [
    {
     "output_type": "stream",
     "name": "stdout",
     "text": [
      "Index(['age', 'gender', 'occupation', 'zip_code'], dtype='object')\n"
     ]
    }
   ],
   "source": [
    "print(users.columns)"
   ]
  },
  {
   "cell_type": "markdown",
   "metadata": {},
   "source": [
    "### Step 9. How is the dataset indexed? Get the index values"
   ]
  },
  {
   "cell_type": "code",
   "execution_count": 48,
   "metadata": {},
   "outputs": [
    {
     "output_type": "execute_result",
     "data": {
      "text/plain": [
       "Int64Index([  1,   2,   3,   4,   5,   6,   7,   8,   9,  10,\n",
       "            ...\n",
       "            934, 935, 936, 937, 938, 939, 940, 941, 942, 943],\n",
       "           dtype='int64', name='user_id', length=943)"
      ]
     },
     "metadata": {},
     "execution_count": 48
    }
   ],
   "source": [
    "users.index"
   ]
  },
  {
   "cell_type": "markdown",
   "metadata": {},
   "source": [
    "### Step 10. What is the data type of each column?\n",
    "Solve it by 2 different ways"
   ]
  },
  {
   "cell_type": "code",
   "execution_count": 49,
   "metadata": {},
   "outputs": [
    {
     "output_type": "execute_result",
     "data": {
      "text/plain": [
       "age            int64\n",
       "gender        object\n",
       "occupation    object\n",
       "zip_code      object\n",
       "dtype: object"
      ]
     },
     "metadata": {},
     "execution_count": 49
    }
   ],
   "source": [
    "users.dtypes"
   ]
  },
  {
   "cell_type": "markdown",
   "metadata": {},
   "source": [
    "### Step 11. Print only the occupation column\n",
    "Solve it by 2 different ways"
   ]
  },
  {
   "cell_type": "code",
   "execution_count": 51,
   "metadata": {},
   "outputs": [
    {
     "output_type": "execute_result",
     "data": {
      "text/plain": [
       "user_id\n",
       "1         technician\n",
       "2              other\n",
       "3             writer\n",
       "4         technician\n",
       "5              other\n",
       "           ...      \n",
       "939          student\n",
       "940    administrator\n",
       "941          student\n",
       "942        librarian\n",
       "943          student\n",
       "Name: occupation, Length: 943, dtype: object"
      ]
     },
     "metadata": {},
     "execution_count": 51
    }
   ],
   "source": [
    "users[\"occupation\"]"
   ]
  },
  {
   "cell_type": "code",
   "execution_count": 52,
   "metadata": {},
   "outputs": [
    {
     "output_type": "stream",
     "name": "stdout",
     "text": [
      "technician\nother\nwriter\ntechnician\nother\nexecutive\nadministrator\nadministrator\nstudent\nlawyer\nother\nother\neducator\nscientist\neducator\nentertainment\nprogrammer\nother\nlibrarian\nhomemaker\nwriter\nwriter\nartist\nartist\nengineer\nengineer\nlibrarian\nwriter\nprogrammer\nstudent\nartist\nstudent\nstudent\nadministrator\nhomemaker\nstudent\nstudent\nother\nentertainment\nscientist\nengineer\nadministrator\nlibrarian\ntechnician\nprogrammer\nmarketing\nmarketing\nadministrator\nstudent\nwriter\neducator\nstudent\nprogrammer\nexecutive\nprogrammer\nlibrarian\nnone\nprogrammer\neducator\nhealthcare\nengineer\nadministrator\nmarketing\neducator\neducator\nstudent\nstudent\nstudent\nengineer\nengineer\nscientist\nadministrator\nstudent\nscientist\nentertainment\nstudent\ntechnician\nadministrator\nadministrator\nadministrator\nstudent\nprogrammer\nother\nexecutive\neducator\nadministrator\nadministrator\nlibrarian\nadministrator\neducator\nmarketing\nentertainment\nexecutive\nstudent\nadministrator\nartist\nartist\nexecutive\nstudent\nexecutive\nstudent\nprogrammer\nstudent\nstudent\nengineer\nretired\nscientist\neducator\nother\nstudent\nengineer\nsalesman\nexecutive\nprogrammer\nengineer\nhealthcare\nstudent\nadministrator\nprogrammer\nother\nlibrarian\nwriter\nartist\nstudent\nlawyer\nlawyer\nnone\nmarketing\nmarketing\nnone\nadministrator\nother\nengineer\nprogrammer\nstudent\nother\neducator\ndoctor\nstudent\nstudent\nprogrammer\nother\ntechnician\nprogrammer\nentertainment\nartist\nlibrarian\nengineer\nmarketing\nartist\nadministrator\neducator\nstudent\nstudent\nother\neducator\nengineer\neducator\nstudent\nprogrammer\nlawyer\nartist\nadministrator\nhealthcare\nother\neducator\nother\nother\nother\nhealthcare\neducator\nmarketing\nother\nadministrator\nscientist\nscientist\nprogrammer\nother\nentertainment\nadministrator\nexecutive\nprogrammer\nscientist\nlibrarian\nlibrarian\nexecutive\neducator\nstudent\nartist\nadministrator\nadministrator\neducator\nstudent\nadministrator\nscientist\nwriter\ntechnician\nstudent\nwriter\nprogrammer\nwriter\neducator\nstudent\nlibrarian\nlawyer\nstudent\nmarketing\nengineer\neducator\nengineer\nsalesman\neducator\nexecutive\nlibrarian\nprogrammer\nengineer\nother\nadministrator\nprogrammer\nlibrarian\nstudent\nprogrammer\nstudent\neducator\nadministrator\nstudent\nexecutive\nstudent\nlibrarian\nstudent\nlibrarian\nscientist\nengineer\nretired\neducator\nwriter\nadministrator\nadministrator\nartist\neducator\nstudent\neducator\neducator\ntechnician\nstudent\nstudent\nengineer\nstudent\nstudent\nexecutive\ndoctor\nengineer\nlibrarian\neducator\nentertainment\nnone\nstudent\nstudent\nstudent\nartist\nadministrator\nstudent\nprogrammer\nwriter\nexecutive\nadministrator\nengineer\nengineer\nlibrarian\nstudent\nengineer\nscientist\nother\nstudent\nengineer\nstudent\nadministrator\nlibrarian\nprogrammer\nlibrarian\nstudent\nadministrator\nprogrammer\nexecutive\nprogrammer\nstudent\nsalesman\nmarketing\nnone\nengineer\nstudent\nprogrammer\nwriter\ntechnician\neducator\nadministrator\neducator\nexecutive\ndoctor\nprogrammer\nstudent\neducator\nstudent\nstudent\nprogrammer\nother\nstudent\nretired\nscientist\neducator\ntechnician\nother\nmarketing\nstudent\neducator\nother\nadministrator\nretired\nprogrammer\nstudent\neducator\nstudent\nstudent\nstudent\ntechnician\nadministrator\nstudent\nadministrator\neducator\neducator\nentertainment\nstudent\nother\nlibrarian\nexecutive\nsalesman\nscientist\nlibrarian\nlawyer\nengineer\nstudent\nother\nengineer\nlibrarian\nlibrarian\nother\nstudent\nstudent\nretired\nstudent\neducator\nprogrammer\nscientist\nlibrarian\nstudent\nhomemaker\nexecutive\neducator\nstudent\nother\nstudent\nhomemaker\nstudent\nengineer\nlawyer\nstudent\nstudent\nstudent\nstudent\nwriter\nengineer\nstudent\nother\nexecutive\nentertainment\nother\nstudent\nstudent\nprogrammer\nengineer\nartist\nengineer\nadministrator\nprogrammer\nwriter\nsalesman\nentertainment\nother\nwriter\nwriter\nstudent\nwriter\nstudent\nadministrator\nother\nengineer\nstudent\nother\nother\nadministrator\nhealthcare\nengineer\nother\nprogrammer\nhealthcare\neducator\nengineer\nstudent\nadministrator\nartist\neducator\neducator\neducator\nprogrammer\neducator\nstudent\nother\nnone\nlawyer\neducator\nprogrammer\nentertainment\nother\nmarketing\nstudent\neducator\ndoctor\nstudent\nstudent\nscientist\nmarketing\nentertainment\nartist\nstudent\nengineer\nadministrator\nother\nadministrator\nadministrator\nother\ntechnician\nstudent\nsalesman\nlawyer\nwriter\neducator\nadministrator\nentertainment\nlibrarian\neducator\nstudent\nadministrator\nstudent\nother\nadministrator\ntechnician\nsalesman\ntechnician\nstudent\nother\nstudent\nstudent\nhealthcare\nwriter\nother\nstudent\nengineer\nengineer\neducator\nprogrammer\nstudent\nstudent\nstudent\nexecutive\nprogrammer\nstudent\nstudent\nother\neducator\nretired\nretired\nstudent\nscientist\nstudent\neducator\neducator\nengineer\ntechnician\nother\nartist\nwriter\neducator\nengineer\nadministrator\nengineer\nstudent\nstudent\nwriter\nprogrammer\nadministrator\nstudent\nstudent\nwriter\nwriter\nother\nprogrammer\nwriter\nmarketing\nadministrator\nother\nstudent\nother\nadministrator\nprogrammer\nmarketing\nlibrarian\nstudent\nwriter\nother\nhealthcare\nstudent\nengineer\nadministrator\neducator\nadministrator\nmarketing\nlibrarian\nstudent\nadministrator\nengineer\nsalesman\nstudent\nlibrarian\nstudent\neducator\nengineer\nengineer\nscientist\nadministrator\nengineer\nstudent\nstudent\nscientist\nother\ntechnician\nexecutive\neducator\nwriter\nscientist\nstudent\nprogrammer\nother\neducator\nscientist\neducator\neducator\nwriter\nwriter\nexecutive\nstudent\nengineer\nadministrator\nlibrarian\nretired\nstudent\nstudent\nentertainment\neducator\neducator\neducator\nartist\neducator\nretired\neducator\nmarketing\nexecutive\nstudent\nadministrator\neducator\nstudent\nother\nstudent\nengineer\nstudent\nlibrarian\nstudent\nother\nstudent\nlawyer\neducator\nlibrarian\nstudent\neducator\neducator\nprogrammer\nartist\nother\nmarketing\nstudent\nprogrammer\nartist\nother\nprogrammer\neducator\nengineer\nprogrammer\nhealthcare\nother\nstudent\nstudent\nlibrarian\neducator\nmarketing\neducator\neducator\nscientist\nwriter\nstudent\nstudent\nwriter\nstudent\nprogrammer\neducator\nstudent\nprogrammer\nscientist\nengineer\nnone\nother\nhealthcare\nstudent\nstudent\nprogrammer\nengineer\nother\neducator\nother\nengineer\nlibrarian\nstudent\nstudent\nstudent\nscientist\nretired\nprogrammer\nstudent\neducator\nengineer\nstudent\nengineer\nretired\nother\nexecutive\nstudent\nhealthcare\neducator\nnone\nprogrammer\neducator\nstudent\nprogrammer\nlibrarian\nother\nengineer\nadministrator\nadministrator\nlibrarian\nwriter\nother\ntechnician\nprogrammer\nadministrator\neducator\nstudent\nother\nprogrammer\nother\neducator\nstudent\nlawyer\nmarketing\nprogrammer\nlibrarian\nstudent\nlibrarian\neducator\nhealthcare\nadministrator\nother\nsalesman\neducator\nengineer\nhealthcare\nprogrammer\nwriter\nother\nother\nprogrammer\nother\nstudent\nlibrarian\nother\neducator\nlibrarian\nstudent\nstudent\nlibrarian\nhomemaker\nother\nstudent\nstudent\nstudent\nother\nengineer\ntechnician\nadministrator\ntechnician\ntechnician\nother\nadministrator\nentertainment\nhomemaker\nexecutive\nexecutive\nstudent\nadministrator\nstudent\nexecutive\nstudent\nscientist\neducator\nother\nother\nother\nhealthcare\nwriter\nprogrammer\ntechnician\ntechnician\neducator\nwriter\nstudent\nprogrammer\nmarketing\nwriter\nengineer\nother\nadministrator\nother\nadministrator\nother\nretired\nsalesman\nlibrarian\neducator\nnone\nstudent\nstudent\nstudent\nother\nstudent\nadministrator\nscientist\neducator\nstudent\nother\nengineer\nadministrator\nexecutive\nstudent\nstudent\nwriter\nstudent\nstudent\nexecutive\nlibrarian\nprogrammer\nstudent\nstudent\nprogrammer\nstudent\nartist\nmarketing\nadministrator\nengineer\nengineer\nstudent\nadministrator\nother\ntechnician\neducator\nprogrammer\nstudent\neducator\nprogrammer\nwriter\nother\nwriter\nadministrator\nprogrammer\nwriter\nadministrator\nadministrator\neducator\nother\nmarketing\nhealthcare\nsalesman\nmarketing\nother\neducator\ntechnician\nstudent\nother\nother\nother\nstudent\nlibrarian\nadministrator\nstudent\nengineer\nlibrarian\nartist\nother\nengineer\nartist\nengineer\nlibrarian\nwriter\nprogrammer\nother\ntechnician\nwriter\nother\nexecutive\nartist\nartist\nstudent\nentertainment\nartist\ndoctor\nwriter\nlibrarian\nengineer\ndoctor\nlawyer\nstudent\nengineer\nstudent\ntechnician\nother\nadministrator\nwriter\nstudent\nlibrarian\nmarketing\nadministrator\neducator\nother\nretired\nstudent\nexecutive\nstudent\nprogrammer\nartist\nother\nscientist\nprogrammer\nstudent\nstudent\nexecutive\nstudent\nadministrator\nscientist\nstudent\nother\nother\neducator\nadministrator\nstudent\nmarketing\nengineer\nlibrarian\nengineer\nother\nstudent\nstudent\nscientist\ntechnician\nstudent\nadministrator\nother\nstudent\neducator\nlibrarian\nwriter\nother\nhomemaker\nother\nretired\nexecutive\nartist\neducator\nstudent\nother\nlibrarian\nother\nlibrarian\neducator\nhealthcare\nwriter\nother\nstudent\nother\nentertainment\nengineer\nstudent\nscientist\nother\nartist\nstudent\nadministrator\nstudent\nother\nsalesman\nentertainment\nprogrammer\nstudent\nscientist\nscientist\neducator\neducator\nstudent\nengineer\ndoctor\nother\neducator\ntechnician\nstudent\nadministrator\nstudent\nlibrarian\nstudent\n"
     ]
    }
   ],
   "source": [
    "for value in users[\"occupation\"]:\n",
    "    print(value)\n"
   ]
  },
  {
   "cell_type": "markdown",
   "metadata": {},
   "source": [
    "### Step 12. How many different occupations are in this dataset? How many users per occupation are in the dataset?"
   ]
  },
  {
   "cell_type": "code",
   "execution_count": 53,
   "metadata": {},
   "outputs": [
    {
     "output_type": "execute_result",
     "data": {
      "text/plain": [
       "array(['technician', 'other', 'writer', 'executive', 'administrator',\n",
       "       'student', 'lawyer', 'educator', 'scientist', 'entertainment',\n",
       "       'programmer', 'librarian', 'homemaker', 'artist', 'engineer',\n",
       "       'marketing', 'none', 'healthcare', 'retired', 'salesman', 'doctor'],\n",
       "      dtype=object)"
      ]
     },
     "metadata": {},
     "execution_count": 53
    }
   ],
   "source": [
    "users[\"occupation\"].unique()"
   ]
  },
  {
   "cell_type": "markdown",
   "metadata": {},
   "source": [
    "### Step 13. What is the most frequent occupation?"
   ]
  },
  {
   "cell_type": "code",
   "execution_count": 56,
   "metadata": {},
   "outputs": [
    {
     "output_type": "execute_result",
     "data": {
      "text/plain": [
       "'student'"
      ]
     },
     "metadata": {},
     "execution_count": 56
    }
   ],
   "source": [
    "users[\"occupation\"].value_counts().idxmax()"
   ]
  },
  {
   "cell_type": "markdown",
   "metadata": {},
   "source": [
    "### Step 14. Summarize the DataFrame."
   ]
  },
  {
   "cell_type": "code",
   "execution_count": 60,
   "metadata": {
    "tags": []
   },
   "outputs": [
    {
     "output_type": "stream",
     "name": "stdout",
     "text": [
      "<class 'pandas.core.frame.DataFrame'>\nInt64Index: 943 entries, 1 to 943\nData columns (total 4 columns):\n #   Column      Non-Null Count  Dtype \n---  ------      --------------  ----- \n 0   age         943 non-null    int64 \n 1   gender      943 non-null    object\n 2   occupation  943 non-null    object\n 3   zip_code    943 non-null    object\ndtypes: int64(1), object(3)\nmemory usage: 36.8+ KB\n"
     ]
    }
   ],
   "source": [
    "users.info()"
   ]
  },
  {
   "cell_type": "markdown",
   "metadata": {},
   "source": [
    "### Step 15. Summarize all the columns"
   ]
  },
  {
   "cell_type": "code",
   "execution_count": 68,
   "metadata": {},
   "outputs": [
    {
     "output_type": "execute_result",
     "data": {
      "text/plain": [
       "age  gender  occupation  zip_code\n",
       "28   M       student     55414       2\n",
       "44   F       other       60630       2\n",
       "17   M       student     60402       2\n",
       "51   M       educator    20003       2\n",
       "21   F       student     55414       2\n",
       "                                    ..\n",
       "27   M       lawyer      47130       1\n",
       "             marketing   11217       1\n",
       "                         19382       1\n",
       "             other       30350       1\n",
       "73   M       retired     37771       1\n",
       "Length: 936, dtype: int64"
      ]
     },
     "metadata": {},
     "execution_count": 68
    }
   ],
   "source": [
    "users.value_counts()"
   ]
  },
  {
   "cell_type": "markdown",
   "metadata": {},
   "source": [
    "### Step 16. Summarize only the occupation column"
   ]
  },
  {
   "cell_type": "code",
   "execution_count": 71,
   "metadata": {},
   "outputs": [
    {
     "output_type": "execute_result",
     "data": {
      "text/plain": [
       "student          196\n",
       "other            105\n",
       "educator          95\n",
       "administrator     79\n",
       "engineer          67\n",
       "programmer        66\n",
       "librarian         51\n",
       "writer            45\n",
       "executive         32\n",
       "scientist         31\n",
       "artist            28\n",
       "technician        27\n",
       "marketing         26\n",
       "entertainment     18\n",
       "healthcare        16\n",
       "retired           14\n",
       "lawyer            12\n",
       "salesman          12\n",
       "none               9\n",
       "homemaker          7\n",
       "doctor             7\n",
       "Name: occupation, dtype: int64"
      ]
     },
     "metadata": {},
     "execution_count": 71
    }
   ],
   "source": [
    "users[\"occupation\"].value_counts()"
   ]
  },
  {
   "cell_type": "markdown",
   "metadata": {},
   "source": [
    "### Step 17. What is the mean age of users?"
   ]
  },
  {
   "cell_type": "code",
   "execution_count": 20,
   "metadata": {},
   "outputs": [
    {
     "output_type": "execute_result",
     "data": {
      "text/plain": [
       "34.05196182396607"
      ]
     },
     "metadata": {},
     "execution_count": 20
    }
   ],
   "source": [
    "users[\"age\"].mean()\n"
   ]
  },
  {
   "cell_type": "markdown",
   "metadata": {},
   "source": [
    "### Step 18. What is the age with least occurrence?"
   ]
  },
  {
   "cell_type": "code",
   "execution_count": 58,
   "metadata": {},
   "outputs": [
    {
     "output_type": "execute_result",
     "data": {
      "text/plain": [
       "7"
      ]
     },
     "metadata": {},
     "execution_count": 58
    }
   ],
   "source": [
    "users[\"age\"].value_counts().idxmin()"
   ]
  }
 ],
 "metadata": {
  "anaconda-cloud": {},
  "kernelspec": {
   "name": "python374jvsc74a57bd07945e9a82d7512fbf96246d9bbc29cd2f106c1a4a9cf54c9563dadf10f2237d4",
   "display_name": "Python 3.7.4 64-bit"
  },
  "language_info": {
   "codemirror_mode": {
    "name": "ipython",
    "version": 3
   },
   "file_extension": ".py",
   "mimetype": "text/x-python",
   "name": "python",
   "nbconvert_exporter": "python",
   "pygments_lexer": "ipython3",
   "version": "3.7.4"
  },
  "metadata": {
   "interpreter": {
    "hash": "7945e9a82d7512fbf96246d9bbc29cd2f106c1a4a9cf54c9563dadf10f2237d4"
   }
  }
 },
 "nbformat": 4,
 "nbformat_minor": 4
}