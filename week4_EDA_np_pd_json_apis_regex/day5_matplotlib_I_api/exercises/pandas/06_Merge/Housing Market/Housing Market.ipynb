{
 "cells": [
  {
   "cell_type": "markdown",
   "metadata": {},
   "source": [
    "# 06 - Combining datasets"
   ]
  },
  {
   "cell_type": "markdown",
   "metadata": {},
   "source": [
    "### Introduction:\n",
    "\n",
    "This time we will create our own dataset with fictional numbers to describe a house market. As we are going to create random data don't try to reason of the numbers.\n",
    "\n",
    "### Step 1. Import the necessary libraries"
   ]
  },
  {
   "cell_type": "code",
   "execution_count": 3,
   "metadata": {},
   "outputs": [],
   "source": [
    "import pandas as pd\n",
    "import numpy as np\n"
   ]
  },
  {
   "cell_type": "markdown",
   "metadata": {},
   "source": [
    "### Step 2. Create 3 differents Series, each of length 100, as follows: \n",
    "1. The first a random number from 1 to 4 \n",
    "2. The second a random number from 1 to 3\n",
    "3. The third a random number from 10,000 to 30,000"
   ]
  },
  {
   "cell_type": "code",
   "execution_count": 4,
   "metadata": {
    "tags": []
   },
   "outputs": [],
   "source": [
    "a=pd.Series(np.random.randint(1,4,100))\n",
    "b=pd.Series(np.random.randint(1,3,100))\n",
    "c=pd.Series(np.random.randint(10000,30000,100))\n"
   ]
  },
  {
   "cell_type": "markdown",
   "metadata": {},
   "source": [
    "### Step 3. Let's create a DataFrame by joinning the Series by column"
   ]
  },
  {
   "cell_type": "code",
   "execution_count": 5,
   "metadata": {},
   "outputs": [
    {
     "output_type": "execute_result",
     "data": {
      "text/plain": [
       "    0  1      2\n",
       "0   2  2  24862\n",
       "1   2  2  26182\n",
       "2   1  1  12997\n",
       "3   3  2  19778\n",
       "4   1  2  22550\n",
       ".. .. ..    ...\n",
       "95  1  2  28547\n",
       "96  2  2  18537\n",
       "97  1  2  26614\n",
       "98  1  1  29496\n",
       "99  2  1  11278\n",
       "\n",
       "[100 rows x 3 columns]"
      ],
      "text/html": "<div>\n<style scoped>\n    .dataframe tbody tr th:only-of-type {\n        vertical-align: middle;\n    }\n\n    .dataframe tbody tr th {\n        vertical-align: top;\n    }\n\n    .dataframe thead th {\n        text-align: right;\n    }\n</style>\n<table border=\"1\" class=\"dataframe\">\n  <thead>\n    <tr style=\"text-align: right;\">\n      <th></th>\n      <th>0</th>\n      <th>1</th>\n      <th>2</th>\n    </tr>\n  </thead>\n  <tbody>\n    <tr>\n      <th>0</th>\n      <td>2</td>\n      <td>2</td>\n      <td>24862</td>\n    </tr>\n    <tr>\n      <th>1</th>\n      <td>2</td>\n      <td>2</td>\n      <td>26182</td>\n    </tr>\n    <tr>\n      <th>2</th>\n      <td>1</td>\n      <td>1</td>\n      <td>12997</td>\n    </tr>\n    <tr>\n      <th>3</th>\n      <td>3</td>\n      <td>2</td>\n      <td>19778</td>\n    </tr>\n    <tr>\n      <th>4</th>\n      <td>1</td>\n      <td>2</td>\n      <td>22550</td>\n    </tr>\n    <tr>\n      <th>...</th>\n      <td>...</td>\n      <td>...</td>\n      <td>...</td>\n    </tr>\n    <tr>\n      <th>95</th>\n      <td>1</td>\n      <td>2</td>\n      <td>28547</td>\n    </tr>\n    <tr>\n      <th>96</th>\n      <td>2</td>\n      <td>2</td>\n      <td>18537</td>\n    </tr>\n    <tr>\n      <th>97</th>\n      <td>1</td>\n      <td>2</td>\n      <td>26614</td>\n    </tr>\n    <tr>\n      <th>98</th>\n      <td>1</td>\n      <td>1</td>\n      <td>29496</td>\n    </tr>\n    <tr>\n      <th>99</th>\n      <td>2</td>\n      <td>1</td>\n      <td>11278</td>\n    </tr>\n  </tbody>\n</table>\n<p>100 rows × 3 columns</p>\n</div>"
     },
     "metadata": {},
     "execution_count": 5
    }
   ],
   "source": [
    "housing=pd.concat([a,b,c],axis=1)\n",
    "housing"
   ]
  },
  {
   "cell_type": "markdown",
   "metadata": {},
   "source": [
    "### Step 4. Change the name of the columns to bedrs, bathrs, price_sqr_meter"
   ]
  },
  {
   "cell_type": "code",
   "execution_count": 6,
   "metadata": {},
   "outputs": [
    {
     "output_type": "execute_result",
     "data": {
      "text/plain": [
       "    berds  bathrs  price_sqr_meter\n",
       "0       2       2            24862\n",
       "1       2       2            26182\n",
       "2       1       1            12997\n",
       "3       3       2            19778\n",
       "4       1       2            22550\n",
       "..    ...     ...              ...\n",
       "95      1       2            28547\n",
       "96      2       2            18537\n",
       "97      1       2            26614\n",
       "98      1       1            29496\n",
       "99      2       1            11278\n",
       "\n",
       "[100 rows x 3 columns]"
      ],
      "text/html": "<div>\n<style scoped>\n    .dataframe tbody tr th:only-of-type {\n        vertical-align: middle;\n    }\n\n    .dataframe tbody tr th {\n        vertical-align: top;\n    }\n\n    .dataframe thead th {\n        text-align: right;\n    }\n</style>\n<table border=\"1\" class=\"dataframe\">\n  <thead>\n    <tr style=\"text-align: right;\">\n      <th></th>\n      <th>berds</th>\n      <th>bathrs</th>\n      <th>price_sqr_meter</th>\n    </tr>\n  </thead>\n  <tbody>\n    <tr>\n      <th>0</th>\n      <td>2</td>\n      <td>2</td>\n      <td>24862</td>\n    </tr>\n    <tr>\n      <th>1</th>\n      <td>2</td>\n      <td>2</td>\n      <td>26182</td>\n    </tr>\n    <tr>\n      <th>2</th>\n      <td>1</td>\n      <td>1</td>\n      <td>12997</td>\n    </tr>\n    <tr>\n      <th>3</th>\n      <td>3</td>\n      <td>2</td>\n      <td>19778</td>\n    </tr>\n    <tr>\n      <th>4</th>\n      <td>1</td>\n      <td>2</td>\n      <td>22550</td>\n    </tr>\n    <tr>\n      <th>...</th>\n      <td>...</td>\n      <td>...</td>\n      <td>...</td>\n    </tr>\n    <tr>\n      <th>95</th>\n      <td>1</td>\n      <td>2</td>\n      <td>28547</td>\n    </tr>\n    <tr>\n      <th>96</th>\n      <td>2</td>\n      <td>2</td>\n      <td>18537</td>\n    </tr>\n    <tr>\n      <th>97</th>\n      <td>1</td>\n      <td>2</td>\n      <td>26614</td>\n    </tr>\n    <tr>\n      <th>98</th>\n      <td>1</td>\n      <td>1</td>\n      <td>29496</td>\n    </tr>\n    <tr>\n      <th>99</th>\n      <td>2</td>\n      <td>1</td>\n      <td>11278</td>\n    </tr>\n  </tbody>\n</table>\n<p>100 rows × 3 columns</p>\n</div>"
     },
     "metadata": {},
     "execution_count": 6
    }
   ],
   "source": [
    "housing.columns=(\"berds\",\"bathrs\",\"price_sqr_meter\")\n",
    "housing"
   ]
  },
  {
   "cell_type": "markdown",
   "metadata": {},
   "source": [
    "### Step 5. Create a column DataFrame with the values of the 3 Series and assign it to 'bigcolumn'"
   ]
  },
  {
   "cell_type": "code",
   "execution_count": 7,
   "metadata": {},
   "outputs": [
    {
     "output_type": "execute_result",
     "data": {
      "text/plain": [
       "        0\n",
       "0       2\n",
       "1       2\n",
       "2       1\n",
       "3       3\n",
       "4       1\n",
       "..    ...\n",
       "95  28547\n",
       "96  18537\n",
       "97  26614\n",
       "98  29496\n",
       "99  11278\n",
       "\n",
       "[300 rows x 1 columns]"
      ],
      "text/html": "<div>\n<style scoped>\n    .dataframe tbody tr th:only-of-type {\n        vertical-align: middle;\n    }\n\n    .dataframe tbody tr th {\n        vertical-align: top;\n    }\n\n    .dataframe thead th {\n        text-align: right;\n    }\n</style>\n<table border=\"1\" class=\"dataframe\">\n  <thead>\n    <tr style=\"text-align: right;\">\n      <th></th>\n      <th>0</th>\n    </tr>\n  </thead>\n  <tbody>\n    <tr>\n      <th>0</th>\n      <td>2</td>\n    </tr>\n    <tr>\n      <th>1</th>\n      <td>2</td>\n    </tr>\n    <tr>\n      <th>2</th>\n      <td>1</td>\n    </tr>\n    <tr>\n      <th>3</th>\n      <td>3</td>\n    </tr>\n    <tr>\n      <th>4</th>\n      <td>1</td>\n    </tr>\n    <tr>\n      <th>...</th>\n      <td>...</td>\n    </tr>\n    <tr>\n      <th>95</th>\n      <td>28547</td>\n    </tr>\n    <tr>\n      <th>96</th>\n      <td>18537</td>\n    </tr>\n    <tr>\n      <th>97</th>\n      <td>26614</td>\n    </tr>\n    <tr>\n      <th>98</th>\n      <td>29496</td>\n    </tr>\n    <tr>\n      <th>99</th>\n      <td>11278</td>\n    </tr>\n  </tbody>\n</table>\n<p>300 rows × 1 columns</p>\n</div>"
     },
     "metadata": {},
     "execution_count": 7
    }
   ],
   "source": [
    "bigcolumn = pd.concat([a, b, c], axis=0)\n",
    "bigcolumn.to_frame()"
   ]
  },
  {
   "cell_type": "markdown",
   "metadata": {},
   "source": [
    "### Step 6. Oops, it seems it is going only until index 99. Is it true?"
   ]
  },
  {
   "cell_type": "code",
   "execution_count": 8,
   "metadata": {},
   "outputs": [
    {
     "output_type": "execute_result",
     "data": {
      "text/plain": [
       "Int64Index([ 0,  1,  2,  3,  4,  5,  6,  7,  8,  9,\n",
       "            ...\n",
       "            90, 91, 92, 93, 94, 95, 96, 97, 98, 99],\n",
       "           dtype='int64', length=300)"
      ]
     },
     "metadata": {},
     "execution_count": 8
    }
   ],
   "source": [
    "bigcolumn.index"
   ]
  },
  {
   "cell_type": "markdown",
   "metadata": {},
   "source": [
    "### Step 7. Reindex the DataFrame so it goes from 0 to 299"
   ]
  },
  {
   "cell_type": "code",
   "execution_count": 13,
   "metadata": {},
   "outputs": [
    {
     "output_type": "execute_result",
     "data": {
      "text/plain": [
       "         0\n",
       "0        2\n",
       "1        2\n",
       "2        1\n",
       "3        3\n",
       "4        1\n",
       "..     ...\n",
       "295  28547\n",
       "296  18537\n",
       "297  26614\n",
       "298  29496\n",
       "299  11278\n",
       "\n",
       "[300 rows x 1 columns]"
      ],
      "text/html": "<div>\n<style scoped>\n    .dataframe tbody tr th:only-of-type {\n        vertical-align: middle;\n    }\n\n    .dataframe tbody tr th {\n        vertical-align: top;\n    }\n\n    .dataframe thead th {\n        text-align: right;\n    }\n</style>\n<table border=\"1\" class=\"dataframe\">\n  <thead>\n    <tr style=\"text-align: right;\">\n      <th></th>\n      <th>0</th>\n    </tr>\n  </thead>\n  <tbody>\n    <tr>\n      <th>0</th>\n      <td>2</td>\n    </tr>\n    <tr>\n      <th>1</th>\n      <td>2</td>\n    </tr>\n    <tr>\n      <th>2</th>\n      <td>1</td>\n    </tr>\n    <tr>\n      <th>3</th>\n      <td>3</td>\n    </tr>\n    <tr>\n      <th>4</th>\n      <td>1</td>\n    </tr>\n    <tr>\n      <th>...</th>\n      <td>...</td>\n    </tr>\n    <tr>\n      <th>295</th>\n      <td>28547</td>\n    </tr>\n    <tr>\n      <th>296</th>\n      <td>18537</td>\n    </tr>\n    <tr>\n      <th>297</th>\n      <td>26614</td>\n    </tr>\n    <tr>\n      <th>298</th>\n      <td>29496</td>\n    </tr>\n    <tr>\n      <th>299</th>\n      <td>11278</td>\n    </tr>\n  </tbody>\n</table>\n<p>300 rows × 1 columns</p>\n</div>"
     },
     "metadata": {},
     "execution_count": 13
    }
   ],
   "source": [
    "bigcolumn.reset_index(drop=True)\n",
    "bigcolumn.to_frame()"
   ]
  },
  {
   "cell_type": "code",
   "execution_count": 10,
   "metadata": {},
   "outputs": [
    {
     "output_type": "execute_result",
     "data": {
      "text/plain": [
       "         0\n",
       "0        2\n",
       "1        2\n",
       "2        1\n",
       "3        3\n",
       "4        1\n",
       "..     ...\n",
       "295  28547\n",
       "296  18537\n",
       "297  26614\n",
       "298  29496\n",
       "299  11278\n",
       "\n",
       "[300 rows x 1 columns]"
      ],
      "text/html": "<div>\n<style scoped>\n    .dataframe tbody tr th:only-of-type {\n        vertical-align: middle;\n    }\n\n    .dataframe tbody tr th {\n        vertical-align: top;\n    }\n\n    .dataframe thead th {\n        text-align: right;\n    }\n</style>\n<table border=\"1\" class=\"dataframe\">\n  <thead>\n    <tr style=\"text-align: right;\">\n      <th></th>\n      <th>0</th>\n    </tr>\n  </thead>\n  <tbody>\n    <tr>\n      <th>0</th>\n      <td>2</td>\n    </tr>\n    <tr>\n      <th>1</th>\n      <td>2</td>\n    </tr>\n    <tr>\n      <th>2</th>\n      <td>1</td>\n    </tr>\n    <tr>\n      <th>3</th>\n      <td>3</td>\n    </tr>\n    <tr>\n      <th>4</th>\n      <td>1</td>\n    </tr>\n    <tr>\n      <th>...</th>\n      <td>...</td>\n    </tr>\n    <tr>\n      <th>295</th>\n      <td>28547</td>\n    </tr>\n    <tr>\n      <th>296</th>\n      <td>18537</td>\n    </tr>\n    <tr>\n      <th>297</th>\n      <td>26614</td>\n    </tr>\n    <tr>\n      <th>298</th>\n      <td>29496</td>\n    </tr>\n    <tr>\n      <th>299</th>\n      <td>11278</td>\n    </tr>\n  </tbody>\n</table>\n<p>300 rows × 1 columns</p>\n</div>"
     },
     "metadata": {},
     "execution_count": 10
    }
   ],
   "source": [
    "bigcolumn = pd.concat([a, b, c], axis=0,ignore_index=True)\n",
    "bigcolumn.to_frame()"
   ]
  },
  {
   "cell_type": "code",
   "execution_count": null,
   "metadata": {},
   "outputs": [],
   "source": []
  },
  {
   "cell_type": "code",
   "execution_count": null,
   "metadata": {},
   "outputs": [],
   "source": []
  }
 ],
 "metadata": {
  "kernelspec": {
   "name": "python374jvsc74a57bd07945e9a82d7512fbf96246d9bbc29cd2f106c1a4a9cf54c9563dadf10f2237d4",
   "display_name": "Python 3.7.4 64-bit"
  },
  "language_info": {
   "codemirror_mode": {
    "name": "ipython",
    "version": 3
   },
   "file_extension": ".py",
   "mimetype": "text/x-python",
   "name": "python",
   "nbconvert_exporter": "python",
   "pygments_lexer": "ipython3",
   "version": "3.7.4"
  },
  "metadata": {
   "interpreter": {
    "hash": "7945e9a82d7512fbf96246d9bbc29cd2f106c1a4a9cf54c9563dadf10f2237d4"
   }
  }
 },
 "nbformat": 4,
 "nbformat_minor": 4
}