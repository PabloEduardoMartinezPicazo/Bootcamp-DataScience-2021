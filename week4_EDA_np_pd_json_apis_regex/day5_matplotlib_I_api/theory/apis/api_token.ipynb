{
 "metadata": {
  "language_info": {
   "codemirror_mode": {
    "name": "ipython",
    "version": 3
   },
   "file_extension": ".py",
   "mimetype": "text/x-python",
   "name": "python",
   "nbconvert_exporter": "python",
   "pygments_lexer": "ipython3",
   "version": "3.7.4"
  },
  "orig_nbformat": 2,
  "kernelspec": {
   "name": "python374jvsc74a57bd07945e9a82d7512fbf96246d9bbc29cd2f106c1a4a9cf54c9563dadf10f2237d4",
   "display_name": "Python 3.7.4 64-bit"
  },
  "metadata": {
   "interpreter": {
    "hash": "7945e9a82d7512fbf96246d9bbc29cd2f106c1a4a9cf54c9563dadf10f2237d4"
   }
  }
 },
 "nbformat": 4,
 "nbformat_minor": 2,
 "cells": [
  {
   "cell_type": "markdown",
   "metadata": {},
   "source": [
    "## API con token"
   ]
  },
  {
   "cell_type": "markdown",
   "metadata": {},
   "source": [
    "_El maravilloso mundo de las_ **APIs**\n",
    "### o EL RETORNO DE JSON\n",
    "siempre hay que crear cuenta por eso token"
   ]
  },
  {
   "cell_type": "markdown",
   "metadata": {},
   "source": [
    "Listado de **APIs** for free: \n",
    "https://github.com/public-apis/public-apis"
   ]
  },
  {
   "cell_type": "code",
   "execution_count": 4,
   "metadata": {},
   "outputs": [],
   "source": [
    "import json\n",
    "import requests"
   ]
  },
  {
   "cell_type": "code",
   "execution_count": 5,
   "metadata": {},
   "outputs": [],
   "source": [
    "json_fullpath = \"settings_passwords.json\"\n",
    "# settings.json estará en el .gitignore  "
   ]
  },
  {
   "cell_type": "code",
   "execution_count": 6,
   "metadata": {},
   "outputs": [
    {
     "output_type": "execute_result",
     "data": {
      "text/plain": [
       "{'CLIENT': 'KZWZYG43Q4LLZQ2RS5JNN1Q3YRCYEZHMKH0ILOZNNBNPM25Y',\n",
       " 'API_KEY': 'CBUQ5B10L4CNHGLXXM2TUV0AVH341ADAJ3DWTZSUJB0NAD5M'}"
      ]
     },
     "metadata": {},
     "execution_count": 6
    }
   ],
   "source": [
    "with open(json_fullpath, \"r+\") as outfile:\n",
    "    json_readed = json.load(outfile)\n",
    "json_readed # que no muestre la contraseña y la key simplemente para que muestre que esta bien"
   ]
  },
  {
   "cell_type": "markdown",
   "metadata": {},
   "source": [
    "**DOCUMENTACIÓN DE LA API** para esta appi simplemente es un ejemplo\n",
    "\n",
    "\n",
    "--> https://developer.foursquare.com/docs/places-api/ <--\n",
    "\n",
    "** Cómo crear una cuenta de desarrollo **\n",
    "\n",
    "--> https://developer.foursquare.com/docs/places-api/getting-started/ <--\n",
    "\n",
    "** Diferentes Endpoints **\n",
    "\n",
    "--> https://developer.foursquare.com/docs/places-api/endpoints/ <--"
   ]
  },
  {
   "source": [
    "### Objetivo: \n",
    "\n",
    "#### Descubrir los restaurantes que están cerca de The Bridge a través de la API de foursquare"
   ],
   "cell_type": "markdown",
   "metadata": {}
  },
  {
   "cell_type": "code",
   "execution_count": 7,
   "metadata": {},
   "outputs": [],
   "source": [
    "url = 'https://api.foursquare.com/v2/venues/explore'\n",
    "\n",
    "# más códigos de categorías\n",
    "# https://developer.foursquare.com/docs/build-with-foursquare/categories/\n",
    "\n",
    "# irish pub\n",
    "irish_rest = \"52e81612bcbc57f1066b7a06\" #para tipo especificio de restaurante\n",
    "\n",
    "# para sacar las coordenadas podrías usar una API pero también...\n",
    "# https://www.123coordenadas.com/coordinates/\n",
    "\n",
    "lat = 40.4226767\n",
    "lon = -3.6922754"
   ]
  },
  {
   "cell_type": "code",
   "execution_count": 8,
   "metadata": {},
   "outputs": [],
   "source": [
    "# Lo importante, todas las APIs con token tienen una forma de acceder a ellas. La información pertinente a cada una de ellas viene (o debería venir) en su documentación esto para foursquare\n",
    "\n",
    "params = {\"client_id\": json_readed[\"CLIENT\"],\n",
    "  \"client_secret\": json_readed[\"API_KEY\"],\n",
    "  \"v\":\"20180323\",\n",
    "  \"ll\": f'{lat},{lon}',\n",
    "  \"section\": \"food\", #no vamos a usar un tipo de restaurante especifico sino mas bien una seccion \n",
    "  # options --> food, drinks, coffee, shops, arts, outdoors, sights, trending\n",
    "  \"limit\":100\n",
    "}  "
   ]
  },
  {
   "cell_type": "code",
   "execution_count": 31,
   "metadata": {},
   "outputs": [],
   "source": [
    "resp = requests.get(url=url, params=params) #esto estas llamando a la api hay muchas llamadas a apis que cuestan dneros, \n",
    "data = json.loads(resp.text)\n"
   ]
  },
  {
   "cell_type": "code",
   "execution_count": 44,
   "metadata": {},
   "outputs": [
    {
     "output_type": "execute_result",
     "data": {
      "text/plain": [
       "gories_v2/food/gastropub_',\n",
       "          'suffix': '.png'},\n",
       "         'primary': True}],\n",
       "       'verified': True,\n",
       "       'stats': {'tipCount': 0,\n",
       "        'usersCount': 0,\n",
       "        'checkinsCount': 0,\n",
       "        'visitsCount': 0},\n",
       "       'beenHere': {'count': 0,\n",
       "        'lastCheckinExpiredAt': 0,\n",
       "        'marked': False,\n",
       "        'unconfirmedCount': 0},\n",
       "       'photos': {'count': 0, 'groups': []},\n",
       "       'venuePage': {'id': '405854341'},\n",
       "       'hereNow': {'count': 0, 'summary': 'Nobody here', 'groups': []}},\n",
       "      'referralId': 'e-3-4e8dad502c5b1c1d2121d657-86'},\n",
       "     {'reasons': {'count': 0,\n",
       "       'items': [{'summary': 'This spot is popular',\n",
       "         'type': 'general',\n",
       "         'reasonName': 'globalInteractionReason'}]},\n",
       "      'venue': {'id': '538ce5df498eb2165bface85',\n",
       "       'name': 'Yakitoro',\n",
       "       'contact': {},\n",
       "       'location': {'address': 'C. de la Reina, 41',\n",
       "        'lat': 40.419647701387746,\n",
       "        'lng': -3.697201837743589,\n",
       "        'labeledLatLngs': [{'label': 'display',\n",
       "          'lat': 40.419647701387746,\n",
       "          'lng': -3.697201837743589}],\n",
       "        'distance': 536,\n",
       "        'postalCode': '28001',\n",
       "        'cc': 'ES',\n",
       "        'city': 'Madrid',\n",
       "        'state': 'Madrid',\n",
       "        'country': 'España',\n",
       "        'formattedAddress': ['C. de la Reina, 41',\n",
       "         '28001 Madrid Madrid',\n",
       "         'España']},\n",
       "       'categories': [{'id': '4bf58dd8d48988d111941735',\n",
       "         'name': 'Japanese Restaurant',\n",
       "         'pluralName': 'Japanese Restaurants',\n",
       "         'shortName': 'Japanese',\n",
       "         'icon': {'prefix': 'https://ss3.4sqi.net/img/categories_v2/food/japanese_',\n",
       "          'suffix': '.png'},\n",
       "         'primary': True}],\n",
       "       'verified': False,\n",
       "       'stats': {'tipCount': 0,\n",
       "        'usersCount': 0,\n",
       "        'checkinsCount': 0,\n",
       "        'visitsCount': 0},\n",
       "       'beenHere': {'count': 0,\n",
       "        'lastCheckinExpiredAt': 0,\n",
       "        'marked': False,\n",
       "        'unconfirmedCount': 0},\n",
       "       'photos': {'count': 0, 'groups': []},\n",
       "       'hereNow': {'count': 0, 'summary': 'Nobody here', 'groups': []}},\n",
       "      'referralId': 'e-3-538ce5df498eb2165bface85-87'},\n",
       "     {'reasons': {'count': 0,\n",
       "       'items': [{'summary': 'This spot is popular',\n",
       "         'type': 'general',\n",
       "         'reasonName': 'globalInteractionReason'}]},\n",
       "      'venue': {'id': '5650e689498e59806e43a30f',\n",
       "       'name': 'Ôven Mozzarella Bar',\n",
       "       'contact': {},\n",
       "       'location': {'address': 'Calle Gran Via, 6',\n",
       "        'lat': 40.41924524133954,\n",
       "        'lng': -3.6978500877927485,\n",
       "        'labeledLatLngs': [{'label': 'display',\n",
       "          'lat': 40.41924524133954,\n",
       "          'lng': -3.6978500877927485}],\n",
       "        'distance': 607,\n",
       "        'postalCode': '28013',\n",
       "        'cc': 'ES',\n",
       "        'city': 'Madrid',\n",
       "        'state': 'Madrid',\n",
       "        'country': 'España',\n",
       "        'formattedAddress': ['Calle Gran Via, 6',\n",
       "         '28013 Madrid Madrid',\n",
       "         'España']},\n",
       "       'categories': [{'id': '4bf58dd8d48988d110941735',\n",
       "         'name': 'Italian Restaurant',\n",
       "         'pluralName': 'Italian Restaurants',\n",
       "         'shortName': 'Italian',\n",
       "         'icon': {'prefix': 'https://ss3.4sqi.net/img/categories_v2/food/italian_',\n",
       "          'suffix': '.png'},\n",
       "         'primary': True}],\n",
       "       'verified': False,\n",
       "       'stats': {'tipCount': 0,\n",
       "        'usersCount': 0,\n",
       "        'checkinsCount': 0,\n",
       "        'visitsCount': 0},\n",
       "       'beenHere': {'count': 0,\n",
       "        'lastCheckinExpiredAt': 0,\n",
       "        'marked': False,\n",
       "        'unconfirmedCount': 0},\n",
       "       'photos': {'count': 0, 'groups': []},\n",
       "       'hereNow': {'count': 0, 'summary': 'Nobody here', 'groups': []}},\n",
       "      'referralId': 'e-3-5650e689498e59806e43a30f-88'},\n",
       "     {'reasons': {'count': 0,\n",
       "       'items': [{'summary': 'This spot is popular',\n",
       "         'type': 'general',\n",
       "         'reasonName': 'globalInteractionReason'}]},\n",
       "      'venue': {'id': '52ac5d20498e11753a8cde9d',\n",
       "       'name': 'Izakaya Han',\n",
       "       'contact': {},\n",
       "       'location': {'address': 'San Bartolome 10',\n",
       "        'crossStreet': 'Augusto Figueroa',\n",
       "        'lat': 40.421818886748916,\n",
       "        'lng': -3.698475072010201,\n",
       "        'labeledLatLngs': [{'label': 'display',\n",
       "          'lat': 40.421818886748916,\n",
       "          'lng': -3.698475072010201}],\n",
       "        'distance': 534,\n",
       "        'postalCode': '28004',\n",
       "        'cc': 'ES',\n",
       "        'city': 'Madrid',\n",
       "        'state': 'Madrid',\n",
       "        'country': 'España',\n",
       "        'formattedAddress': ['San Bartolome 10 (Augusto Figueroa)',\n",
       "         '28004 Madrid Madrid',\n",
       "         'España']},\n",
       "       'categories': [{'id': '4bf58dd8d48988d111941735',\n",
       "         'name': 'Japanese Restaurant',\n",
       "         'pluralName': 'Japanese Restaurants',\n",
       "         'shortName': 'Japanese',\n",
       "         'icon': {'prefix': 'https://ss3.4sqi.net/img/categories_v2/food/japanese_',\n",
       "          'suffix': '.png'},\n",
       "         'primary': True}],\n",
       "       'verified': False,\n",
       "       'stats': {'tipCount': 0,\n",
       "        'usersCount': 0,\n",
       "        'checkinsCount': 0,\n",
       "        'visitsCount': 0},\n",
       "       'beenHere': {'count': 0,\n",
       "        'lastCheckinExpiredAt': 0,\n",
       "        'marked': False,\n",
       "        'unconfirmedCount': 0},\n",
       "       'photos': {'count': 0, 'groups': []},\n",
       "       'hereNow': {'count': 0, 'summary': 'Nobody here', 'groups': []}},\n",
       "      'referralId': 'e-3-52ac5d20498e11753a8cde9d-89'},\n",
       "     {'reasons': {'count': 0,\n",
       "       'items': [{'summary': 'This spot is popular',\n",
       "         'type': 'general',\n",
       "         'reasonName': 'globalInteractionReason'}]},\n",
       "      'venue': {'id': '4b82aafcf964a5206add30e3',\n",
       "       'name': 'Diurno Restaurant & Bar',\n",
       "       'contact': {},\n",
       "       'location': {'address': 'C. San Marcos, 37',\n",
       "        'crossStreet': 'C. Libertad',\n",
       "        'lat': 40.421299901405845,\n",
       "        'lng': -3.6973373782873447,\n",
       "        'labeledLatLngs': [{'label': 'display',\n",
       "          'lat': 40.421299901405845,\n",
       "          'lng': -3.6973373782873447}],\n",
       "        'distance': 455,\n",
       "        'postalCode': '28004',\n",
       "        'cc': 'ES',\n",
       "        'city': 'Madrid',\n",
       "        'state': 'Madrid',\n",
       "        'country': 'España',\n",
       "        'formattedAddress': ['C. San Marcos, 37 (C. Libertad)',\n",
       "         '28004 Madrid Madrid',\n",
       "         'España']},\n",
       "       'categories': [{'id': '4bf58dd8d48988d1c0941735',\n",
       "         'name': 'Mediterranean Restaurant',\n",
       "         'pluralName': 'Mediterranean Restaurants',\n",
       "         'shortName': 'Mediterranean',\n",
       "         'icon': {'prefix': 'https://ss3.4sqi.net/img/categories_v2/food/mediterranean_',\n",
       "          'suffix': '.png'},\n",
       "         'primary': True}],\n",
       "       'verified': True,\n",
       "       'stats': {'tipCount': 0,\n",
       "        'usersCount': 0,\n",
       "        'checkinsCount': 0,\n",
       "        'visitsCount': 0},\n",
       "       'beenHere': {'count': 0,\n",
       "        'lastCheckinExpiredAt': 0,\n",
       "        'marked': False,\n",
       "        'unconfirmedCount': 0},\n",
       "       'photos': {'count': 0, 'groups': []},\n",
       "       'venuePage': {'id': '76245254'},\n",
       "       'hereNow': {'count': 0, 'summary': 'Nobody here', 'groups': []}},\n",
       "      'referralId': 'e-3-4b82aafcf964a5206add30e3-90'},\n",
       "     {'reasons': {'count': 0,\n",
       "       'items': [{'summary': 'This spot is popular',\n",
       "         'type': 'general',\n",
       "         'reasonName': 'globalInteractionReason'}]},\n",
       "      'venue': {'id': '4adcda3af964a5205b3d21e3',\n",
       "       'name': 'Arabia',\n",
       "       'contact': {},\n",
       "       'location': {'address': 'c/ Piamonte, 12',\n",
       "        'lat': 40.42305,\n",
       "        'lng': -3.6950688,\n",
       "        'labeledLatLngs': [{'label': 'display',\n",
       "          'lat': 40.42305,\n",
       "          'lng': -3.6950688}],\n",
       "        'distance': 240,\n",
       "        'postalCode': '28004',\n",
       "        'cc': 'ES',\n",
       "        'neighborhood': 'Chueca',\n",
       "        'city': 'Madrid',\n",
       "        'state': 'Madrid',\n",
       "        'country': 'España',\n",
       "        'formattedAddress': ['c/ Piamonte, 12',\n",
       "         '28004 Madrid Madrid',\n",
       "         'España']},\n",
       "       'categories': [{'id': '4bf58dd8d48988d1c3941735',\n",
       "         'name': 'Moroccan Restaurant',\n",
       "         'pluralName': 'Moroccan Restaurants',\n",
       "         'shortName': 'Moroccan',\n",
       "         'icon': {'prefix': 'https://ss3.4sqi.net/img/categories_v2/food/moroccan_',\n",
       "          'suffix': '.png'},\n",
       "         'primary': True}],\n",
       "       'verified': False,\n",
       "       'stats': {'tipCount': 0,\n",
       "        'usersCount': 0,\n",
       "        'checkinsCount': 0,\n",
       "        'visitsCount': 0},\n",
       "       'beenHere': {'count': 0,\n",
       "        'lastCheckinExpiredAt': 0,\n",
       "        'marked': False,\n",
       "        'unconfirmedCount': 0},\n",
       "       'photos': {'count': 0, 'groups': []},\n",
       "       'hereNow': {'count': 0, 'summary': 'Nobody here', 'groups': []}},\n",
       "      'referralId': 'e-3-4adcda3af964a5205b3d21e3-91'},\n",
       "     {'reasons': {'count': 0,\n",
       "       'items': [{'summary': 'This spot is popular',\n",
       "         'type': 'general',\n",
       "         'reasonName': 'globalInteractionReason'}]},\n",
       "      'venue': {'id': '4b842bf2f964a5205b2531e3',\n",
       "       'name': 'La Castafiore',\n",
       "       'contact': {},\n",
       "       'location': {'address': 'C. Marqués de Monasterio, 5',\n",
       "        'lat': 40.4231948184309,\n",
       "        'lng': -3.6934970747678526,\n",
       "        'labeledLatLngs': [{'label': 'display',\n",
       "          'lat': 40.4231948184309,\n",
       "          'lng': -3.6934970747678526}],\n",
       "        'distance': 118,\n",
       "        'postalCode': '28004',\n",
       "        'cc': 'ES',\n",
       "        'city': 'Madrid',\n",
       "        'state': 'Madrid',\n",
       "        'country': 'España',\n",
       "        'formattedAddress': ['C. Marqués de Monasterio, 5',\n",
       "         '28004 Madrid Madrid',\n",
       "         'España']},\n",
       "       'categories': [{'id': '4bf58dd8d48988d1c4941735',\n",
       "         'name': 'Restaurant',\n",
       "         'pluralName': 'Restaurants',\n",
       "         'shortName': 'Restaurant',\n",
       "         'icon': {'prefix': 'https://ss3.4sqi.net/img/categories_v2/food/default_',\n",
       "          'suffix': '.png'},\n",
       "         'primary': True}],\n",
       "       'verified': False,\n",
       "       'stats': {'tipCount': 0,\n",
       "        'usersCount': 0,\n",
       "        'checkinsCount': 0,\n",
       "        'visitsCount': 0},\n",
       "       'beenHere': {'count': 0,\n",
       "        'lastCheckinExpiredAt': 0,\n",
       "        'marked': False,\n",
       "        'unconfirmedCount': 0},\n",
       "       'photos': {'count': 0, 'groups': []},\n",
       "       'hereNow': {'count': 0, 'summary': 'Nobody here', 'groups': []}},\n",
       "      'referralId': 'e-3-4b842bf2f964a5205b2531e3-92'},\n",
       "     {'reasons': {'count': 0,\n",
       "       'items': [{'summary': 'This spot is popular',\n",
       "         'type': 'general',\n",
       "         'reasonName': 'globalInteractionReason'}]},\n",
       "      'venue': {'id': '5ada41ee5455b261bb050df1',\n",
       "       'name': 'Lara Grill',\n",
       "       'contact': {},\n",
       "       'location': {'address': 'Horteleza 96',\n",
       "        'lat': 40.424652,\n",
       "        'lng': -3.697945,\n",
       "        'labeledLatLngs': [{'label': 'display',\n",
       "          'lat': 40.424652,\n",
       "          'lng': -3.697945}],\n",
       "        'distance': 528,\n",
       "        'postalCode': '28004',\n",
       "        'cc': 'ES',\n",
       "        'city': 'Madrid',\n",
       "        'state': 'Madrid',\n",
       "        'country': 'España',\n",
       "        'formattedAddress': ['Horteleza 96', '28004 Madrid Madrid', 'España']},\n",
       "       'categories': [{'id': '4bf58dd8d48988d14e941735',\n",
       "         'name': 'American Restaurant',\n",
       "         'pluralName': 'American Restaurants',\n",
       "         'shortName': 'American',\n",
       "         'icon': {'prefix': 'https://ss3.4sqi.net/img/categories_v2/food/default_',\n",
       "          'suffix': '.png'},\n",
       "         'primary': True}],\n",
       "       'verified': False,\n",
       "       'stats': {'tipCount': 0,\n",
       "        'usersCount': 0,\n",
       "        'checkinsCount': 0,\n",
       "        'visitsCount': 0},\n",
       "       'beenHere': {'count': 0,\n",
       "        'lastCheckinExpiredAt': 0,\n",
       "        'marked': False,\n",
       "        'unconfirmedCount': 0},\n",
       "       'photos': {'count': 0, 'groups': []},\n",
       "       'hereNow': {'count': 0, 'summary': 'Nobody here', 'groups': []}},\n",
       "      'referralId': 'e-3-5ada41ee5455b261bb050df1-93'},\n",
       "     {'reasons': {'count': 0,\n",
       "       'items': [{'summary': 'This spot is popular',\n",
       "         'type': 'general',\n",
       "         'reasonName': 'globalInteractionReason'}]},\n",
       "      'venue': {'id': '4ca2261ee44d6dcbdb7d0475',\n",
       "       'name': 'Cafés Arrivederci',\n",
       "       'contact': {},\n",
       "       'location': {'address': 'Calle Augusto Figueroa',\n",
       "        'lat': 40.42239983850301,\n",
       "        'lng': -3.6984653209661364,\n",
       "        'labeledLatLngs': [{'label': 'display',\n",
       "          'lat': 40.42239983850301,\n",
       "          'lng': -3.6984653209661364}],\n",
       "        'distance': 525,\n",
       "        'cc': 'ES',\n",
       "        'city': 'Madrid',\n",
       "        'state': 'Madrid',\n",
       "        'country': 'España',\n",
       "        'formattedAddress': ['Calle Augusto Figueroa',\n",
       "         'Madrid Madrid',\n",
       "         'España']},\n",
       "       'categories': [{'id': '4bf58dd8d48988d16d941735',\n",
       "         'name': 'Café',\n",
       "         'pluralName': 'Cafés',\n",
       "         'shortName': 'Café',\n",
       "         'icon': {'prefix': 'https://ss3.4sqi.net/img/categories_v2/food/cafe_',\n",
       "          'suffix': '.png'},\n",
       "         'primary': True}],\n",
       "       'verified': False,\n",
       "       'stats': {'tipCount': 0,\n",
       "        'usersCount': 0,\n",
       "        'checkinsCount': 0,\n",
       "        'visitsCount': 0},\n",
       "       'beenHere': {'count': 0,\n",
       "        'lastCheckinExpiredAt': 0,\n",
       "        'marked': False,\n",
       "        'unconfirmedCount': 0},\n",
       "       'photos': {'count': 0, 'groups': []},\n",
       "       'hereNow': {'count': 0, 'summary': 'Nobody here', 'groups': []}},\n",
       "      'referralId': 'e-3-4ca2261ee44d6dcbdb7d0475-94'},\n",
       "     {'reasons': {'count': 0,\n",
       "       'items': [{'summary': 'This spot is popular',\n",
       "         'type': 'general',\n",
       "         'reasonName': 'globalInteractionReason'}]},\n",
       "      'venue': {'id': '5517e16d498e2dd5c05cf021',\n",
       "       'name': 'La Santa',\n",
       "       'contact': {},\n",
       "       'location': {'address': 'C. Hortaleza, 67',\n",
       "        'lat': 40.42480797440039,\n",
       "        'lng': -3.6978882909184025,\n",
       "        'labeledLatLngs': [{'label': 'display',\n",
       "          'lat': 40.42480797440039,\n",
       "          'lng': -3.6978882909184025}],\n",
       "        'distance': 531,\n",
       "        'postalCode': '28004',\n",
       "        'cc': 'ES',\n",
       "        'city': 'Madrid',\n",
       "        'state': 'Madrid',\n",
       "        'country': 'España',\n",
       "        'formattedAddress': ['C. Hortaleza, 67',\n",
       "         '28004 Madrid Madrid',\n",
       "         'España']},\n",
       "       'categories': [{'id': '4bf58dd8d48988d155941735',\n",
       "         'name': 'Gastropub',\n",
       "         'pluralName': 'Gastropubs',\n",
       "         'shortName': 'Gastropub',\n",
       "         'icon': {'prefix': 'https://ss3.4sqi.net/img/categories_v2/food/gastropub_',\n",
       "          'suffix': '.png'},\n",
       "         'primary': True}],\n",
       "       'verified': False,\n",
       "       'stats': {'tipCount': 0,\n",
       "        'usersCount': 0,\n",
       "        'checkinsCount': 0,\n",
       "        'visitsCount': 0},\n",
       "       'beenHere': {'count': 0,\n",
       "        'lastCheckinExpiredAt': 0,\n",
       "        'marked': False,\n",
       "        'unconfirmedCount': 0},\n",
       "       'photos': {'count': 0, 'groups': []},\n",
       "       'hereNow': {'count': 0, 'summary': 'Nobody here', 'groups': []}},\n",
       "      'referralId': 'e-3-5517e16d498e2dd5c05cf021-95'},\n",
       "     {'reasons': {'count': 0,\n",
       "       'items': [{'summary': 'This spot is popular',\n",
       "         'type': 'general',\n",
       "         'reasonName': 'globalInteractionReason'}]},\n",
       "      'venue': {'id': '5c44a7dd57a537002c8bf697',\n",
       "       'name': 'Aüakt',\n",
       "       'contact': {},\n",
       "       'location': {'lat': 40.424315,\n",
       "        'lng': -3.695449,\n",
       "        'labeledLatLngs': [{'label': 'display',\n",
       "          'lat': 40.424315,\n",
       "          'lng': -3.695449}],\n",
       "        'distance': 324,\n",
       "        'postalCode': '28004',\n",
       "        'cc': 'ES',\n",
       "        'city': 'Madrid',\n",
       "        'state': 'Madrid',\n",
       "        'country': 'España',\n",
       "        'formattedAddress': ['28004 Madrid Madrid', 'España']},\n",
       "       'categories': [{'id': '4bf58dd8d48988d16d941735',\n",
       "         'name': 'Café',\n",
       "         'pluralName': 'Cafés',\n",
       "         'shortName': 'Café',\n",
       "         'icon': {'prefix': 'https://ss3.4sqi.net/img/categories_v2/food/cafe_',\n",
       "          'suffix': '.png'},\n",
       "         'primary': True}],\n",
       "       'verified': False,\n",
       "       'stats': {'tipCount': 0,\n",
       "        'usersCount': 0,\n",
       "        'checkinsCount': 0,\n",
       "        'visitsCount': 0},\n",
       "       'beenHere': {'count': 0,\n",
       "        'lastCheckinExpiredAt': 0,\n",
       "        'marked': False,\n",
       "        'unconfirmedCount': 0},\n",
       "       'photos': {'count': 0, 'groups': []},\n",
       "       'hereNow': {'count': 0, 'summary': 'Nobody here', 'groups': []}},\n",
       "      'referralId': 'e-3-5c44a7dd57a537002c8bf697-96'},\n",
       "     {'reasons': {'count': 0,\n",
       "       'items': [{'summary': 'This spot is popular',\n",
       "         'type': 'general',\n",
       "         'reasonName': 'globalInteractionReason'}]},\n",
       "      'venue': {'id': '5ce59502fb8e59002c4fded5',\n",
       "       'name': 'Patio De Leones',\n",
       "       'contact': {},\n",
       "       'location': {'address': 'Serrano, 1',\n",
       "        'lat': 40.420482,\n",
       "        'lng': -3.688783,\n",
       "        'labeledLatLngs': [{'label': 'display',\n",
       "          'lat': 40.420482,\n",
       "          'lng': -3.688783}],\n",
       "        'distance': 383,\n",
       "        'postalCode': '28001',\n",
       "        'cc': 'ES',\n",
       "        'city': 'Madrid',\n",
       "        'state': 'Madrid',\n",
       "        'country': 'España',\n",
       "        'formattedAddress': ['Serrano, 1', '28001 Madrid Madrid', 'España']},\n",
       "       'categories': [{'id': '4bf58dd8d48988d1c4941735',\n",
       "         'name': 'Restaurant',\n",
       "         'pluralName': 'Restaurants',\n",
       "         'shortName': 'Restaurant',\n",
       "         'icon': {'prefix': 'https://ss3.4sqi.net/img/categories_v2/food/default_',\n",
       "          'suffix': '.png'},\n",
       "         'primary': True}],\n",
       "       'verified': False,\n",
       "       'stats': {'tipCount': 0,\n",
       "        'usersCount': 0,\n",
       "        'checkinsCount': 0,\n",
       "        'visitsCount': 0},\n",
       "       'beenHere': {'count': 0,\n",
       "        'lastCheckinExpiredAt': 0,\n",
       "        'marked': False,\n",
       "        'unconfirmedCount': 0},\n",
       "       'photos': {'count': 0, 'groups': []},\n",
       "       'hereNow': {'count': 0, 'summary': 'Nobody here', 'groups': []}},\n",
       "      'referralId': 'e-3-5ce59502fb8e59002c4fded5-97'},\n",
       "     {'reasons': {'count': 0,\n",
       "       'items': [{'summary': 'This spot is popular',\n",
       "         'type': 'general',\n",
       "         'reasonName': 'globalInteractionReason'}]},\n",
       "      'venue': {'id': '5710f195498e1bdf3422620a',\n",
       "       'name': 'cripeka',\n",
       "       'contact': {},\n",
       "       'location': {'lat': 40.42633069472612,\n",
       "        'lng': -3.696475115325826,\n",
       "        'labeledLatLngs': [{'label': 'display',\n",
       "          'lat': 40.42633069472612,\n",
       "          'lng': -3.696475115325826}],\n",
       "        'distance': 540,\n",
       "        'cc': 'ES',\n",
       "        'country': 'España',\n",
       "        'formattedAddress': ['España']},\n",
       "       'categories': [{'id': '4bf58dd8d48988d16a941735',\n",
       "         'name': 'Bakery',\n",
       "         'pluralName': 'Bakeries',\n",
       "         'shortName': 'Bakery',\n",
       "         'icon': {'prefix': 'https://ss3.4sqi.net/img/categories_v2/food/bakery_',\n",
       "          'suffix': '.png'},\n",
       "         'primary': True}],\n",
       "       'verified': False,\n",
       "       'stats': {'tipCount': 0,\n",
       "        'usersCount': 0,\n",
       "        'checkinsCount': 0,\n",
       "        'visitsCount': 0},\n",
       "       'beenHere': {'count': 0,\n",
       "        'lastCheckinExpiredAt': 0,\n",
       "        'marked': False,\n",
       "        'unconfirmedCount': 0},\n",
       "       'photos': {'count': 0, 'groups': []},\n",
       "       'hereNow': {'count': 0, 'summary': 'Nobody here', 'groups': []}},\n",
       "      'referralId': 'e-3-5710f195498e1bdf3422620a-98'},\n",
       "     {'reasons': {'count': 0,\n",
       "       'items': [{'summary': 'This spot is popular',\n",
       "         'type': 'general',\n",
       "         'reasonName': 'globalInteractionReason'}]},\n",
       "      'venue': {'id': '5645c76d498e2d351101430f',\n",
       "       'name': 'Pink Monkey',\n",
       "       'contact': {},\n",
       "       'location': {'address': 'Monte Esquinza 15',\n",
       "        'lat': 40.427121153395476,\n",
       "        'lng': -3.692236307897579,\n",
       "        'labeledLatLngs': [{'label': 'display',\n",
       "          'lat': 40.427121153395476,\n",
       "          'lng': -3.692236307897579}],\n",
       "        'distance': 494,\n",
       "        'postalCode': '28010',\n",
       "        'cc': 'ES',\n",
       "        'city': 'Madrid',\n",
       "        'state': 'Madrid',\n",
       "        'country': 'España',\n",
       "        'formattedAddress': ['Monte Esquinza 15',\n",
       "         '28010 Madrid Madrid',\n",
       "         'España']},\n",
       "       'categories': [{'id': '4bf58dd8d48988d142941735',\n",
       "         'name': 'Asian Restaurant',\n",
       "         'pluralName': 'Asian Restaurants',\n",
       "         'shortName': 'Asian',\n",
       "         'icon': {'prefix': 'https://ss3.4sqi.net/img/categories_v2/food/asian_',\n",
       "          'suffix': '.png'},\n",
       "         'primary': True}],\n",
       "       'verified': False,\n",
       "       'stats': {'tipCount': 0,\n",
       "        'usersCount': 0,\n",
       "        'checkinsCount': 0,\n",
       "        'visitsCount': 0},\n",
       "       'beenHere': {'count': 0,\n",
       "        'lastCheckinExpiredAt': 0,\n",
       "        'marked': False,\n",
       "        'unconfirmedCount': 0},\n",
       "       'photos': {'count': 0, 'groups': []},\n",
       "       'hereNow': {'count': 0, 'summary': 'Nobody here', 'groups': []}},\n",
       "      'referralId': 'e-3-5645c76d498e2d351101430f-99'}]}]}}"
      ]
     },
     "metadata": {},
     "execution_count": 44
    }
   ],
   "source": [
    "# Muestra cantidad ilegible de datos\n",
    "\n",
    "data"
   ]
  },
  {
   "cell_type": "code",
   "execution_count": 63,
   "metadata": {},
   "outputs": [
    {
     "output_type": "execute_result",
     "data": {
      "text/plain": [
       "                                               meta  \\\n",
       "code                                            200   \n",
       "requestId                  6099091fd59da4443fca50e9   \n",
       "suggestedFilters                                NaN   \n",
       "suggestedRadius                                 NaN   \n",
       "headerLocation                                  NaN   \n",
       "headerFullLocation                              NaN   \n",
       "headerLocationGranularity                       NaN   \n",
       "query                                           NaN   \n",
       "totalResults                                    NaN   \n",
       "suggestedBounds                                 NaN   \n",
       "groups                                          NaN   \n",
       "\n",
       "                                                                    response  \n",
       "code                                                                     NaN  \n",
       "requestId                                                                NaN  \n",
       "suggestedFilters           {'header': 'Tap to show:', 'filters': [{'name'...  \n",
       "suggestedRadius                                                          642  \n",
       "headerLocation                                                        Chueca  \n",
       "headerFullLocation                                            Chueca, Madrid  \n",
       "headerLocationGranularity                                       neighborhood  \n",
       "query                                                                   food  \n",
       "totalResults                                                             204  \n",
       "suggestedBounds            {'ne': {'lat': 40.42757324545612, 'lng': -3.68...  \n",
       "groups                     [{'type': 'Recommended Places', 'name': 'recom...  "
      ],
      "text/html": "<div>\n<style scoped>\n    .dataframe tbody tr th:only-of-type {\n        vertical-align: middle;\n    }\n\n    .dataframe tbody tr th {\n        vertical-align: top;\n    }\n\n    .dataframe thead th {\n        text-align: right;\n    }\n</style>\n<table border=\"1\" class=\"dataframe\">\n  <thead>\n    <tr style=\"text-align: right;\">\n      <th></th>\n      <th>meta</th>\n      <th>response</th>\n    </tr>\n  </thead>\n  <tbody>\n    <tr>\n      <th>code</th>\n      <td>200</td>\n      <td>NaN</td>\n    </tr>\n    <tr>\n      <th>requestId</th>\n      <td>6099091fd59da4443fca50e9</td>\n      <td>NaN</td>\n    </tr>\n    <tr>\n      <th>suggestedFilters</th>\n      <td>NaN</td>\n      <td>{'header': 'Tap to show:', 'filters': [{'name'...</td>\n    </tr>\n    <tr>\n      <th>suggestedRadius</th>\n      <td>NaN</td>\n      <td>642</td>\n    </tr>\n    <tr>\n      <th>headerLocation</th>\n      <td>NaN</td>\n      <td>Chueca</td>\n    </tr>\n    <tr>\n      <th>headerFullLocation</th>\n      <td>NaN</td>\n      <td>Chueca, Madrid</td>\n    </tr>\n    <tr>\n      <th>headerLocationGranularity</th>\n      <td>NaN</td>\n      <td>neighborhood</td>\n    </tr>\n    <tr>\n      <th>query</th>\n      <td>NaN</td>\n      <td>food</td>\n    </tr>\n    <tr>\n      <th>totalResults</th>\n      <td>NaN</td>\n      <td>204</td>\n    </tr>\n    <tr>\n      <th>suggestedBounds</th>\n      <td>NaN</td>\n      <td>{'ne': {'lat': 40.42757324545612, 'lng': -3.68...</td>\n    </tr>\n    <tr>\n      <th>groups</th>\n      <td>NaN</td>\n      <td>[{'type': 'Recommended Places', 'name': 'recom...</td>\n    </tr>\n  </tbody>\n</table>\n</div>"
     },
     "metadata": {},
     "execution_count": 63
    }
   ],
   "source": [
    "# Para guardar en un archivo local #para guardar la informacion como csv y poder trabajar en local y no tener  mas peticiones en la api porque muchas veces no podeoms llamar los archivos muchas veces\n",
    "import pandas as pd\n",
    "df = pd.DataFrame(data)\n",
    "df.to_csv(\"toda_informacion.csv\") \n",
    "df"
   ]
  },
  {
   "cell_type": "code",
   "execution_count": null,
   "metadata": {},
   "outputs": [],
   "source": [
    "#este dataframe muestra las claves y  los valores para meta y response, transforma el json en un dataframe, pero estableciendo que si no existe la clave pone nan  y  si no pone el valor por ejemplo code es clave en meta y el valor es 200 pero no en response \n",
    "#el unamed es porque el indice de response y meta es diferente, porque no tienen las mismas longitud de las claves \n",
    "#indice dataframe es 11 \n",
    "#PERO ACCEDEMOS AL DICCIONARIO DATA NO AL DATAFRAME DF "
   ]
  },
  {
   "cell_type": "code",
   "execution_count": 49,
   "metadata": {},
   "outputs": [
    {
     "output_type": "execute_result",
     "data": {
      "text/plain": [
       "dict_keys(['meta', 'response'])"
      ]
     },
     "metadata": {},
     "execution_count": 49
    }
   ],
   "source": [
    "data.keys() #aqui vemos las claves grandes de data  y el resto son los valores #accedemos en el diccionario NO EN EL DATAFRAME "
   ]
  },
  {
   "cell_type": "code",
   "execution_count": 55,
   "metadata": {},
   "outputs": [
    {
     "output_type": "execute_result",
     "data": {
      "text/plain": [
       "dict_keys(['code', 'requestId'])"
      ]
     },
     "metadata": {},
     "execution_count": 55
    }
   ],
   "source": [
    "data[\"meta\"].keys() #son las claves de meta solo\n"
   ]
  },
  {
   "cell_type": "code",
   "execution_count": 60,
   "metadata": {},
   "outputs": [
    {
     "output_type": "execute_result",
     "data": {
      "text/plain": [
       "Index(['meta', 'response'], dtype='object')"
      ]
     },
     "metadata": {},
     "execution_count": 60
    }
   ],
   "source": [
    "df.keys() #.keys de un dataframe te devuelve los titutlos de las columnas "
   ]
  },
  {
   "cell_type": "code",
   "execution_count": 61,
   "metadata": {},
   "outputs": [
    {
     "output_type": "execute_result",
     "data": {
      "text/plain": [
       "Index(['code', 'requestId', 'suggestedFilters', 'suggestedRadius',\n",
       "       'headerLocation', 'headerFullLocation', 'headerLocationGranularity',\n",
       "       'query', 'totalResults', 'suggestedBounds', 'groups'],\n",
       "      dtype='object')"
      ]
     },
     "metadata": {},
     "execution_count": 61
    }
   ],
   "source": [
    "df[\"meta\"].keys() #.keys de un dataframe te devuelve los indices de las columna"
   ]
  },
  {
   "cell_type": "code",
   "execution_count": 51,
   "metadata": {},
   "outputs": [
    {
     "output_type": "execute_result",
     "data": {
      "text/plain": [
       "dict_keys(['suggestedFilters', 'suggestedRadius', 'headerLocation', 'headerFullLocation', 'headerLocationGranularity', 'query', 'totalResults', 'suggestedBounds', 'groups'])"
      ]
     },
     "metadata": {},
     "execution_count": 51
    }
   ],
   "source": [
    "data[\"response\"].keys() #claves de response"
   ]
  },
  {
   "cell_type": "code",
   "execution_count": 26,
   "metadata": {},
   "outputs": [],
   "source": [
    "df.to_json(\"toda_la_informacion.json\") #creo un json"
   ]
  },
  {
   "cell_type": "code",
   "execution_count": 64,
   "metadata": {},
   "outputs": [
    {
     "output_type": "error",
     "ename": "TypeError",
     "evalue": "cannot do slice indexing on Index with these indexers [2] of type int",
     "traceback": [
      "\u001b[1;31m---------------------------------------------------------------------------\u001b[0m",
      "\u001b[1;31mTypeError\u001b[0m                                 Traceback (most recent call last)",
      "\u001b[1;32m<ipython-input-64-ac8425470fff>\u001b[0m in \u001b[0;36m<module>\u001b[1;34m\u001b[0m\n\u001b[1;32m----> 1\u001b[1;33m \u001b[0mdf\u001b[0m\u001b[1;33m.\u001b[0m\u001b[0mloc\u001b[0m\u001b[1;33m[\u001b[0m\u001b[1;36m2\u001b[0m\u001b[1;33m:\u001b[0m\u001b[1;36m10\u001b[0m\u001b[1;33m,\u001b[0m\u001b[1;34m\"response\"\u001b[0m\u001b[1;33m]\u001b[0m\u001b[1;33m\u001b[0m\u001b[1;33m\u001b[0m\u001b[0m\n\u001b[0m",
      "\u001b[1;32m~\\AppData\\Local\\Programs\\Python\\Python37\\lib\\site-packages\\pandas\\core\\indexing.py\u001b[0m in \u001b[0;36m__getitem__\u001b[1;34m(self, key)\u001b[0m\n\u001b[0;32m    887\u001b[0m                     \u001b[1;31m# AttributeError for IntervalTree get_value\u001b[0m\u001b[1;33m\u001b[0m\u001b[1;33m\u001b[0m\u001b[1;33m\u001b[0m\u001b[0m\n\u001b[0;32m    888\u001b[0m                     \u001b[1;32mreturn\u001b[0m \u001b[0mself\u001b[0m\u001b[1;33m.\u001b[0m\u001b[0mobj\u001b[0m\u001b[1;33m.\u001b[0m\u001b[0m_get_value\u001b[0m\u001b[1;33m(\u001b[0m\u001b[1;33m*\u001b[0m\u001b[0mkey\u001b[0m\u001b[1;33m,\u001b[0m \u001b[0mtakeable\u001b[0m\u001b[1;33m=\u001b[0m\u001b[0mself\u001b[0m\u001b[1;33m.\u001b[0m\u001b[0m_takeable\u001b[0m\u001b[1;33m)\u001b[0m\u001b[1;33m\u001b[0m\u001b[1;33m\u001b[0m\u001b[0m\n\u001b[1;32m--> 889\u001b[1;33m             \u001b[1;32mreturn\u001b[0m \u001b[0mself\u001b[0m\u001b[1;33m.\u001b[0m\u001b[0m_getitem_tuple\u001b[0m\u001b[1;33m(\u001b[0m\u001b[0mkey\u001b[0m\u001b[1;33m)\u001b[0m\u001b[1;33m\u001b[0m\u001b[1;33m\u001b[0m\u001b[0m\n\u001b[0m\u001b[0;32m    890\u001b[0m         \u001b[1;32melse\u001b[0m\u001b[1;33m:\u001b[0m\u001b[1;33m\u001b[0m\u001b[1;33m\u001b[0m\u001b[0m\n\u001b[0;32m    891\u001b[0m             \u001b[1;31m# we by definition only have the 0th axis\u001b[0m\u001b[1;33m\u001b[0m\u001b[1;33m\u001b[0m\u001b[1;33m\u001b[0m\u001b[0m\n",
      "\u001b[1;32m~\\AppData\\Local\\Programs\\Python\\Python37\\lib\\site-packages\\pandas\\core\\indexing.py\u001b[0m in \u001b[0;36m_getitem_tuple\u001b[1;34m(self, tup)\u001b[0m\n\u001b[0;32m   1058\u001b[0m     \u001b[1;32mdef\u001b[0m \u001b[0m_getitem_tuple\u001b[0m\u001b[1;33m(\u001b[0m\u001b[0mself\u001b[0m\u001b[1;33m,\u001b[0m \u001b[0mtup\u001b[0m\u001b[1;33m:\u001b[0m \u001b[0mTuple\u001b[0m\u001b[1;33m)\u001b[0m\u001b[1;33m:\u001b[0m\u001b[1;33m\u001b[0m\u001b[1;33m\u001b[0m\u001b[0m\n\u001b[0;32m   1059\u001b[0m         \u001b[1;32mwith\u001b[0m \u001b[0msuppress\u001b[0m\u001b[1;33m(\u001b[0m\u001b[0mIndexingError\u001b[0m\u001b[1;33m)\u001b[0m\u001b[1;33m:\u001b[0m\u001b[1;33m\u001b[0m\u001b[1;33m\u001b[0m\u001b[0m\n\u001b[1;32m-> 1060\u001b[1;33m             \u001b[1;32mreturn\u001b[0m \u001b[0mself\u001b[0m\u001b[1;33m.\u001b[0m\u001b[0m_getitem_lowerdim\u001b[0m\u001b[1;33m(\u001b[0m\u001b[0mtup\u001b[0m\u001b[1;33m)\u001b[0m\u001b[1;33m\u001b[0m\u001b[1;33m\u001b[0m\u001b[0m\n\u001b[0m\u001b[0;32m   1061\u001b[0m \u001b[1;33m\u001b[0m\u001b[0m\n\u001b[0;32m   1062\u001b[0m         \u001b[1;31m# no multi-index, so validate all of the indexers\u001b[0m\u001b[1;33m\u001b[0m\u001b[1;33m\u001b[0m\u001b[1;33m\u001b[0m\u001b[0m\n",
      "\u001b[1;32m~\\AppData\\Local\\Programs\\Python\\Python37\\lib\\site-packages\\pandas\\core\\indexing.py\u001b[0m in \u001b[0;36m_getitem_lowerdim\u001b[1;34m(self, tup)\u001b[0m\n\u001b[0;32m    829\u001b[0m                     \u001b[1;32mreturn\u001b[0m \u001b[0msection\u001b[0m\u001b[1;33m\u001b[0m\u001b[1;33m\u001b[0m\u001b[0m\n\u001b[0;32m    830\u001b[0m                 \u001b[1;31m# This is an elided recursive call to iloc/loc\u001b[0m\u001b[1;33m\u001b[0m\u001b[1;33m\u001b[0m\u001b[1;33m\u001b[0m\u001b[0m\n\u001b[1;32m--> 831\u001b[1;33m                 \u001b[1;32mreturn\u001b[0m \u001b[0mgetattr\u001b[0m\u001b[1;33m(\u001b[0m\u001b[0msection\u001b[0m\u001b[1;33m,\u001b[0m \u001b[0mself\u001b[0m\u001b[1;33m.\u001b[0m\u001b[0mname\u001b[0m\u001b[1;33m)\u001b[0m\u001b[1;33m[\u001b[0m\u001b[0mnew_key\u001b[0m\u001b[1;33m]\u001b[0m\u001b[1;33m\u001b[0m\u001b[1;33m\u001b[0m\u001b[0m\n\u001b[0m\u001b[0;32m    832\u001b[0m \u001b[1;33m\u001b[0m\u001b[0m\n\u001b[0;32m    833\u001b[0m         \u001b[1;32mraise\u001b[0m \u001b[0mIndexingError\u001b[0m\u001b[1;33m(\u001b[0m\u001b[1;34m\"not applicable\"\u001b[0m\u001b[1;33m)\u001b[0m\u001b[1;33m\u001b[0m\u001b[1;33m\u001b[0m\u001b[0m\n",
      "\u001b[1;32m~\\AppData\\Local\\Programs\\Python\\Python37\\lib\\site-packages\\pandas\\core\\indexing.py\u001b[0m in \u001b[0;36m__getitem__\u001b[1;34m(self, key)\u001b[0m\n\u001b[0;32m    893\u001b[0m \u001b[1;33m\u001b[0m\u001b[0m\n\u001b[0;32m    894\u001b[0m             \u001b[0mmaybe_callable\u001b[0m \u001b[1;33m=\u001b[0m \u001b[0mcom\u001b[0m\u001b[1;33m.\u001b[0m\u001b[0mapply_if_callable\u001b[0m\u001b[1;33m(\u001b[0m\u001b[0mkey\u001b[0m\u001b[1;33m,\u001b[0m \u001b[0mself\u001b[0m\u001b[1;33m.\u001b[0m\u001b[0mobj\u001b[0m\u001b[1;33m)\u001b[0m\u001b[1;33m\u001b[0m\u001b[1;33m\u001b[0m\u001b[0m\n\u001b[1;32m--> 895\u001b[1;33m             \u001b[1;32mreturn\u001b[0m \u001b[0mself\u001b[0m\u001b[1;33m.\u001b[0m\u001b[0m_getitem_axis\u001b[0m\u001b[1;33m(\u001b[0m\u001b[0mmaybe_callable\u001b[0m\u001b[1;33m,\u001b[0m \u001b[0maxis\u001b[0m\u001b[1;33m=\u001b[0m\u001b[0maxis\u001b[0m\u001b[1;33m)\u001b[0m\u001b[1;33m\u001b[0m\u001b[1;33m\u001b[0m\u001b[0m\n\u001b[0m\u001b[0;32m    896\u001b[0m \u001b[1;33m\u001b[0m\u001b[0m\n\u001b[0;32m    897\u001b[0m     \u001b[1;32mdef\u001b[0m \u001b[0m_is_scalar_access\u001b[0m\u001b[1;33m(\u001b[0m\u001b[0mself\u001b[0m\u001b[1;33m,\u001b[0m \u001b[0mkey\u001b[0m\u001b[1;33m:\u001b[0m \u001b[0mTuple\u001b[0m\u001b[1;33m)\u001b[0m\u001b[1;33m:\u001b[0m\u001b[1;33m\u001b[0m\u001b[1;33m\u001b[0m\u001b[0m\n",
      "\u001b[1;32m~\\AppData\\Local\\Programs\\Python\\Python37\\lib\\site-packages\\pandas\\core\\indexing.py\u001b[0m in \u001b[0;36m_getitem_axis\u001b[1;34m(self, key, axis)\u001b[0m\n\u001b[0;32m   1100\u001b[0m         \u001b[1;32mif\u001b[0m \u001b[0misinstance\u001b[0m\u001b[1;33m(\u001b[0m\u001b[0mkey\u001b[0m\u001b[1;33m,\u001b[0m \u001b[0mslice\u001b[0m\u001b[1;33m)\u001b[0m\u001b[1;33m:\u001b[0m\u001b[1;33m\u001b[0m\u001b[1;33m\u001b[0m\u001b[0m\n\u001b[0;32m   1101\u001b[0m             \u001b[0mself\u001b[0m\u001b[1;33m.\u001b[0m\u001b[0m_validate_key\u001b[0m\u001b[1;33m(\u001b[0m\u001b[0mkey\u001b[0m\u001b[1;33m,\u001b[0m \u001b[0maxis\u001b[0m\u001b[1;33m)\u001b[0m\u001b[1;33m\u001b[0m\u001b[1;33m\u001b[0m\u001b[0m\n\u001b[1;32m-> 1102\u001b[1;33m             \u001b[1;32mreturn\u001b[0m \u001b[0mself\u001b[0m\u001b[1;33m.\u001b[0m\u001b[0m_get_slice_axis\u001b[0m\u001b[1;33m(\u001b[0m\u001b[0mkey\u001b[0m\u001b[1;33m,\u001b[0m \u001b[0maxis\u001b[0m\u001b[1;33m=\u001b[0m\u001b[0maxis\u001b[0m\u001b[1;33m)\u001b[0m\u001b[1;33m\u001b[0m\u001b[1;33m\u001b[0m\u001b[0m\n\u001b[0m\u001b[0;32m   1103\u001b[0m         \u001b[1;32melif\u001b[0m \u001b[0mcom\u001b[0m\u001b[1;33m.\u001b[0m\u001b[0mis_bool_indexer\u001b[0m\u001b[1;33m(\u001b[0m\u001b[0mkey\u001b[0m\u001b[1;33m)\u001b[0m\u001b[1;33m:\u001b[0m\u001b[1;33m\u001b[0m\u001b[1;33m\u001b[0m\u001b[0m\n\u001b[0;32m   1104\u001b[0m             \u001b[1;32mreturn\u001b[0m \u001b[0mself\u001b[0m\u001b[1;33m.\u001b[0m\u001b[0m_getbool_axis\u001b[0m\u001b[1;33m(\u001b[0m\u001b[0mkey\u001b[0m\u001b[1;33m,\u001b[0m \u001b[0maxis\u001b[0m\u001b[1;33m=\u001b[0m\u001b[0maxis\u001b[0m\u001b[1;33m)\u001b[0m\u001b[1;33m\u001b[0m\u001b[1;33m\u001b[0m\u001b[0m\n",
      "\u001b[1;32m~\\AppData\\Local\\Programs\\Python\\Python37\\lib\\site-packages\\pandas\\core\\indexing.py\u001b[0m in \u001b[0;36m_get_slice_axis\u001b[1;34m(self, slice_obj, axis)\u001b[0m\n\u001b[0;32m   1135\u001b[0m         \u001b[0mlabels\u001b[0m \u001b[1;33m=\u001b[0m \u001b[0mobj\u001b[0m\u001b[1;33m.\u001b[0m\u001b[0m_get_axis\u001b[0m\u001b[1;33m(\u001b[0m\u001b[0maxis\u001b[0m\u001b[1;33m)\u001b[0m\u001b[1;33m\u001b[0m\u001b[1;33m\u001b[0m\u001b[0m\n\u001b[0;32m   1136\u001b[0m         indexer = labels.slice_indexer(\n\u001b[1;32m-> 1137\u001b[1;33m             \u001b[0mslice_obj\u001b[0m\u001b[1;33m.\u001b[0m\u001b[0mstart\u001b[0m\u001b[1;33m,\u001b[0m \u001b[0mslice_obj\u001b[0m\u001b[1;33m.\u001b[0m\u001b[0mstop\u001b[0m\u001b[1;33m,\u001b[0m \u001b[0mslice_obj\u001b[0m\u001b[1;33m.\u001b[0m\u001b[0mstep\u001b[0m\u001b[1;33m,\u001b[0m \u001b[0mkind\u001b[0m\u001b[1;33m=\u001b[0m\u001b[1;34m\"loc\"\u001b[0m\u001b[1;33m\u001b[0m\u001b[1;33m\u001b[0m\u001b[0m\n\u001b[0m\u001b[0;32m   1138\u001b[0m         )\n\u001b[0;32m   1139\u001b[0m \u001b[1;33m\u001b[0m\u001b[0m\n",
      "\u001b[1;32m~\\AppData\\Local\\Programs\\Python\\Python37\\lib\\site-packages\\pandas\\core\\indexes\\base.py\u001b[0m in \u001b[0;36mslice_indexer\u001b[1;34m(self, start, end, step, kind)\u001b[0m\n\u001b[0;32m   5275\u001b[0m         \u001b[0mslice\u001b[0m\u001b[1;33m(\u001b[0m\u001b[1;36m1\u001b[0m\u001b[1;33m,\u001b[0m \u001b[1;36m3\u001b[0m\u001b[1;33m,\u001b[0m \u001b[1;32mNone\u001b[0m\u001b[1;33m)\u001b[0m\u001b[1;33m\u001b[0m\u001b[1;33m\u001b[0m\u001b[0m\n\u001b[0;32m   5276\u001b[0m         \"\"\"\n\u001b[1;32m-> 5277\u001b[1;33m         \u001b[0mstart_slice\u001b[0m\u001b[1;33m,\u001b[0m \u001b[0mend_slice\u001b[0m \u001b[1;33m=\u001b[0m \u001b[0mself\u001b[0m\u001b[1;33m.\u001b[0m\u001b[0mslice_locs\u001b[0m\u001b[1;33m(\u001b[0m\u001b[0mstart\u001b[0m\u001b[1;33m,\u001b[0m \u001b[0mend\u001b[0m\u001b[1;33m,\u001b[0m \u001b[0mstep\u001b[0m\u001b[1;33m=\u001b[0m\u001b[0mstep\u001b[0m\u001b[1;33m,\u001b[0m \u001b[0mkind\u001b[0m\u001b[1;33m=\u001b[0m\u001b[0mkind\u001b[0m\u001b[1;33m)\u001b[0m\u001b[1;33m\u001b[0m\u001b[1;33m\u001b[0m\u001b[0m\n\u001b[0m\u001b[0;32m   5278\u001b[0m \u001b[1;33m\u001b[0m\u001b[0m\n\u001b[0;32m   5279\u001b[0m         \u001b[1;31m# return a slice\u001b[0m\u001b[1;33m\u001b[0m\u001b[1;33m\u001b[0m\u001b[1;33m\u001b[0m\u001b[0m\n",
      "\u001b[1;32m~\\AppData\\Local\\Programs\\Python\\Python37\\lib\\site-packages\\pandas\\core\\indexes\\base.py\u001b[0m in \u001b[0;36mslice_locs\u001b[1;34m(self, start, end, step, kind)\u001b[0m\n\u001b[0;32m   5474\u001b[0m         \u001b[0mstart_slice\u001b[0m \u001b[1;33m=\u001b[0m \u001b[1;32mNone\u001b[0m\u001b[1;33m\u001b[0m\u001b[1;33m\u001b[0m\u001b[0m\n\u001b[0;32m   5475\u001b[0m         \u001b[1;32mif\u001b[0m \u001b[0mstart\u001b[0m \u001b[1;32mis\u001b[0m \u001b[1;32mnot\u001b[0m \u001b[1;32mNone\u001b[0m\u001b[1;33m:\u001b[0m\u001b[1;33m\u001b[0m\u001b[1;33m\u001b[0m\u001b[0m\n\u001b[1;32m-> 5476\u001b[1;33m             \u001b[0mstart_slice\u001b[0m \u001b[1;33m=\u001b[0m \u001b[0mself\u001b[0m\u001b[1;33m.\u001b[0m\u001b[0mget_slice_bound\u001b[0m\u001b[1;33m(\u001b[0m\u001b[0mstart\u001b[0m\u001b[1;33m,\u001b[0m \u001b[1;34m\"left\"\u001b[0m\u001b[1;33m,\u001b[0m \u001b[0mkind\u001b[0m\u001b[1;33m)\u001b[0m\u001b[1;33m\u001b[0m\u001b[1;33m\u001b[0m\u001b[0m\n\u001b[0m\u001b[0;32m   5477\u001b[0m         \u001b[1;32mif\u001b[0m \u001b[0mstart_slice\u001b[0m \u001b[1;32mis\u001b[0m \u001b[1;32mNone\u001b[0m\u001b[1;33m:\u001b[0m\u001b[1;33m\u001b[0m\u001b[1;33m\u001b[0m\u001b[0m\n\u001b[0;32m   5478\u001b[0m             \u001b[0mstart_slice\u001b[0m \u001b[1;33m=\u001b[0m \u001b[1;36m0\u001b[0m\u001b[1;33m\u001b[0m\u001b[1;33m\u001b[0m\u001b[0m\n",
      "\u001b[1;32m~\\AppData\\Local\\Programs\\Python\\Python37\\lib\\site-packages\\pandas\\core\\indexes\\base.py\u001b[0m in \u001b[0;36mget_slice_bound\u001b[1;34m(self, label, side, kind)\u001b[0m\n\u001b[0;32m   5384\u001b[0m         \u001b[1;31m# For datetime indices label may be a string that has to be converted\u001b[0m\u001b[1;33m\u001b[0m\u001b[1;33m\u001b[0m\u001b[1;33m\u001b[0m\u001b[0m\n\u001b[0;32m   5385\u001b[0m         \u001b[1;31m# to datetime boundary according to its resolution.\u001b[0m\u001b[1;33m\u001b[0m\u001b[1;33m\u001b[0m\u001b[1;33m\u001b[0m\u001b[0m\n\u001b[1;32m-> 5386\u001b[1;33m         \u001b[0mlabel\u001b[0m \u001b[1;33m=\u001b[0m \u001b[0mself\u001b[0m\u001b[1;33m.\u001b[0m\u001b[0m_maybe_cast_slice_bound\u001b[0m\u001b[1;33m(\u001b[0m\u001b[0mlabel\u001b[0m\u001b[1;33m,\u001b[0m \u001b[0mside\u001b[0m\u001b[1;33m,\u001b[0m \u001b[0mkind\u001b[0m\u001b[1;33m)\u001b[0m\u001b[1;33m\u001b[0m\u001b[1;33m\u001b[0m\u001b[0m\n\u001b[0m\u001b[0;32m   5387\u001b[0m \u001b[1;33m\u001b[0m\u001b[0m\n\u001b[0;32m   5388\u001b[0m         \u001b[1;31m# we need to look up the label\u001b[0m\u001b[1;33m\u001b[0m\u001b[1;33m\u001b[0m\u001b[1;33m\u001b[0m\u001b[0m\n",
      "\u001b[1;32m~\\AppData\\Local\\Programs\\Python\\Python37\\lib\\site-packages\\pandas\\core\\indexes\\base.py\u001b[0m in \u001b[0;36m_maybe_cast_slice_bound\u001b[1;34m(self, label, side, kind)\u001b[0m\n\u001b[0;32m   5336\u001b[0m         \u001b[1;31m# reject them, if index does not contain label\u001b[0m\u001b[1;33m\u001b[0m\u001b[1;33m\u001b[0m\u001b[1;33m\u001b[0m\u001b[0m\n\u001b[0;32m   5337\u001b[0m         \u001b[1;32mif\u001b[0m \u001b[1;33m(\u001b[0m\u001b[0mis_float\u001b[0m\u001b[1;33m(\u001b[0m\u001b[0mlabel\u001b[0m\u001b[1;33m)\u001b[0m \u001b[1;32mor\u001b[0m \u001b[0mis_integer\u001b[0m\u001b[1;33m(\u001b[0m\u001b[0mlabel\u001b[0m\u001b[1;33m)\u001b[0m\u001b[1;33m)\u001b[0m \u001b[1;32mand\u001b[0m \u001b[0mlabel\u001b[0m \u001b[1;32mnot\u001b[0m \u001b[1;32min\u001b[0m \u001b[0mself\u001b[0m\u001b[1;33m.\u001b[0m\u001b[0mvalues\u001b[0m\u001b[1;33m:\u001b[0m\u001b[1;33m\u001b[0m\u001b[1;33m\u001b[0m\u001b[0m\n\u001b[1;32m-> 5338\u001b[1;33m             \u001b[1;32mraise\u001b[0m \u001b[0mself\u001b[0m\u001b[1;33m.\u001b[0m\u001b[0m_invalid_indexer\u001b[0m\u001b[1;33m(\u001b[0m\u001b[1;34m\"slice\"\u001b[0m\u001b[1;33m,\u001b[0m \u001b[0mlabel\u001b[0m\u001b[1;33m)\u001b[0m\u001b[1;33m\u001b[0m\u001b[1;33m\u001b[0m\u001b[0m\n\u001b[0m\u001b[0;32m   5339\u001b[0m \u001b[1;33m\u001b[0m\u001b[0m\n\u001b[0;32m   5340\u001b[0m         \u001b[1;32mreturn\u001b[0m \u001b[0mlabel\u001b[0m\u001b[1;33m\u001b[0m\u001b[1;33m\u001b[0m\u001b[0m\n",
      "\u001b[1;31mTypeError\u001b[0m: cannot do slice indexing on Index with these indexers [2] of type int"
     ]
    }
   ],
   "source": [
    "df.loc[2:10,\"response\"] #asi te devolveria serie, si pones df.loc[2:10,\"response\":] o df.loc[2:10,[\"response\"]] te devuelve en dataframe"
   ]
  },
  {
   "cell_type": "code",
   "execution_count": 29,
   "metadata": {},
   "outputs": [
    {
     "output_type": "error",
     "ename": "ValueError",
     "evalue": "Mixing dicts with non-Series may lead to ambiguous ordering.",
     "traceback": [
      "\u001b[1;31m---------------------------------------------------------------------------\u001b[0m",
      "\u001b[1;31mValueError\u001b[0m                                Traceback (most recent call last)",
      "\u001b[1;32m<ipython-input-29-8509251298bc>\u001b[0m in \u001b[0;36m<module>\u001b[1;34m\u001b[0m\n\u001b[1;32m----> 1\u001b[1;33m \u001b[0mdf2\u001b[0m\u001b[1;33m=\u001b[0m\u001b[0mpd\u001b[0m\u001b[1;33m.\u001b[0m\u001b[0mDataFrame\u001b[0m\u001b[1;33m(\u001b[0m\u001b[0mdata\u001b[0m\u001b[1;33m[\u001b[0m\u001b[1;34m\"response\"\u001b[0m\u001b[1;33m]\u001b[0m\u001b[1;33m)\u001b[0m\u001b[1;33m\u001b[0m\u001b[1;33m\u001b[0m\u001b[0m\n\u001b[0m\u001b[0;32m      2\u001b[0m \u001b[0mdf2\u001b[0m\u001b[1;33m\u001b[0m\u001b[1;33m\u001b[0m\u001b[0m\n",
      "\u001b[1;32m~\\AppData\\Local\\Programs\\Python\\Python37\\lib\\site-packages\\pandas\\core\\frame.py\u001b[0m in \u001b[0;36m__init__\u001b[1;34m(self, data, index, columns, dtype, copy)\u001b[0m\n\u001b[0;32m    527\u001b[0m \u001b[1;33m\u001b[0m\u001b[0m\n\u001b[0;32m    528\u001b[0m         \u001b[1;32melif\u001b[0m \u001b[0misinstance\u001b[0m\u001b[1;33m(\u001b[0m\u001b[0mdata\u001b[0m\u001b[1;33m,\u001b[0m \u001b[0mdict\u001b[0m\u001b[1;33m)\u001b[0m\u001b[1;33m:\u001b[0m\u001b[1;33m\u001b[0m\u001b[1;33m\u001b[0m\u001b[0m\n\u001b[1;32m--> 529\u001b[1;33m             \u001b[0mmgr\u001b[0m \u001b[1;33m=\u001b[0m \u001b[0minit_dict\u001b[0m\u001b[1;33m(\u001b[0m\u001b[0mdata\u001b[0m\u001b[1;33m,\u001b[0m \u001b[0mindex\u001b[0m\u001b[1;33m,\u001b[0m \u001b[0mcolumns\u001b[0m\u001b[1;33m,\u001b[0m \u001b[0mdtype\u001b[0m\u001b[1;33m=\u001b[0m\u001b[0mdtype\u001b[0m\u001b[1;33m)\u001b[0m\u001b[1;33m\u001b[0m\u001b[1;33m\u001b[0m\u001b[0m\n\u001b[0m\u001b[0;32m    530\u001b[0m         \u001b[1;32melif\u001b[0m \u001b[0misinstance\u001b[0m\u001b[1;33m(\u001b[0m\u001b[0mdata\u001b[0m\u001b[1;33m,\u001b[0m \u001b[0mma\u001b[0m\u001b[1;33m.\u001b[0m\u001b[0mMaskedArray\u001b[0m\u001b[1;33m)\u001b[0m\u001b[1;33m:\u001b[0m\u001b[1;33m\u001b[0m\u001b[1;33m\u001b[0m\u001b[0m\n\u001b[0;32m    531\u001b[0m             \u001b[1;32mimport\u001b[0m \u001b[0mnumpy\u001b[0m\u001b[1;33m.\u001b[0m\u001b[0mma\u001b[0m\u001b[1;33m.\u001b[0m\u001b[0mmrecords\u001b[0m \u001b[1;32mas\u001b[0m \u001b[0mmrecords\u001b[0m\u001b[1;33m\u001b[0m\u001b[1;33m\u001b[0m\u001b[0m\n",
      "\u001b[1;32m~\\AppData\\Local\\Programs\\Python\\Python37\\lib\\site-packages\\pandas\\core\\internals\\construction.py\u001b[0m in \u001b[0;36minit_dict\u001b[1;34m(data, index, columns, dtype)\u001b[0m\n\u001b[0;32m    285\u001b[0m             \u001b[0marr\u001b[0m \u001b[1;32mif\u001b[0m \u001b[1;32mnot\u001b[0m \u001b[0mis_datetime64tz_dtype\u001b[0m\u001b[1;33m(\u001b[0m\u001b[0marr\u001b[0m\u001b[1;33m)\u001b[0m \u001b[1;32melse\u001b[0m \u001b[0marr\u001b[0m\u001b[1;33m.\u001b[0m\u001b[0mcopy\u001b[0m\u001b[1;33m(\u001b[0m\u001b[1;33m)\u001b[0m \u001b[1;32mfor\u001b[0m \u001b[0marr\u001b[0m \u001b[1;32min\u001b[0m \u001b[0marrays\u001b[0m\u001b[1;33m\u001b[0m\u001b[1;33m\u001b[0m\u001b[0m\n\u001b[0;32m    286\u001b[0m         ]\n\u001b[1;32m--> 287\u001b[1;33m     \u001b[1;32mreturn\u001b[0m \u001b[0marrays_to_mgr\u001b[0m\u001b[1;33m(\u001b[0m\u001b[0marrays\u001b[0m\u001b[1;33m,\u001b[0m \u001b[0mdata_names\u001b[0m\u001b[1;33m,\u001b[0m \u001b[0mindex\u001b[0m\u001b[1;33m,\u001b[0m \u001b[0mcolumns\u001b[0m\u001b[1;33m,\u001b[0m \u001b[0mdtype\u001b[0m\u001b[1;33m=\u001b[0m\u001b[0mdtype\u001b[0m\u001b[1;33m)\u001b[0m\u001b[1;33m\u001b[0m\u001b[1;33m\u001b[0m\u001b[0m\n\u001b[0m\u001b[0;32m    288\u001b[0m \u001b[1;33m\u001b[0m\u001b[0m\n\u001b[0;32m    289\u001b[0m \u001b[1;33m\u001b[0m\u001b[0m\n",
      "\u001b[1;32m~\\AppData\\Local\\Programs\\Python\\Python37\\lib\\site-packages\\pandas\\core\\internals\\construction.py\u001b[0m in \u001b[0;36marrays_to_mgr\u001b[1;34m(arrays, arr_names, index, columns, dtype, verify_integrity)\u001b[0m\n\u001b[0;32m     78\u001b[0m         \u001b[1;31m# figure out the index, if necessary\u001b[0m\u001b[1;33m\u001b[0m\u001b[1;33m\u001b[0m\u001b[1;33m\u001b[0m\u001b[0m\n\u001b[0;32m     79\u001b[0m         \u001b[1;32mif\u001b[0m \u001b[0mindex\u001b[0m \u001b[1;32mis\u001b[0m \u001b[1;32mNone\u001b[0m\u001b[1;33m:\u001b[0m\u001b[1;33m\u001b[0m\u001b[1;33m\u001b[0m\u001b[0m\n\u001b[1;32m---> 80\u001b[1;33m             \u001b[0mindex\u001b[0m \u001b[1;33m=\u001b[0m \u001b[0mextract_index\u001b[0m\u001b[1;33m(\u001b[0m\u001b[0marrays\u001b[0m\u001b[1;33m)\u001b[0m\u001b[1;33m\u001b[0m\u001b[1;33m\u001b[0m\u001b[0m\n\u001b[0m\u001b[0;32m     81\u001b[0m         \u001b[1;32melse\u001b[0m\u001b[1;33m:\u001b[0m\u001b[1;33m\u001b[0m\u001b[1;33m\u001b[0m\u001b[0m\n\u001b[0;32m     82\u001b[0m             \u001b[0mindex\u001b[0m \u001b[1;33m=\u001b[0m \u001b[0mensure_index\u001b[0m\u001b[1;33m(\u001b[0m\u001b[0mindex\u001b[0m\u001b[1;33m)\u001b[0m\u001b[1;33m\u001b[0m\u001b[1;33m\u001b[0m\u001b[0m\n",
      "\u001b[1;32m~\\AppData\\Local\\Programs\\Python\\Python37\\lib\\site-packages\\pandas\\core\\internals\\construction.py\u001b[0m in \u001b[0;36mextract_index\u001b[1;34m(data)\u001b[0m\n\u001b[0;32m    403\u001b[0m             \u001b[1;32mif\u001b[0m \u001b[0mhave_dicts\u001b[0m\u001b[1;33m:\u001b[0m\u001b[1;33m\u001b[0m\u001b[1;33m\u001b[0m\u001b[0m\n\u001b[0;32m    404\u001b[0m                 raise ValueError(\n\u001b[1;32m--> 405\u001b[1;33m                     \u001b[1;34m\"Mixing dicts with non-Series may lead to ambiguous ordering.\"\u001b[0m\u001b[1;33m\u001b[0m\u001b[1;33m\u001b[0m\u001b[0m\n\u001b[0m\u001b[0;32m    406\u001b[0m                 )\n\u001b[0;32m    407\u001b[0m \u001b[1;33m\u001b[0m\u001b[0m\n",
      "\u001b[1;31mValueError\u001b[0m: Mixing dicts with non-Series may lead to ambiguous ordering."
     ]
    }
   ],
   "source": [
    "df2=pd.DataFrame(data[\"response\"]) #columna response crear un dataframe pequeño \n",
    "df2 #no se puede hacer xq el numero de filas y columnas no encaja"
   ]
  },
  {
   "cell_type": "code",
   "execution_count": 12,
   "metadata": {
    "tags": []
   },
   "outputs": [
    {
     "output_type": "execute_result",
     "data": {
      "text/plain": [
       "dict_keys(['suggestedFilters', 'suggestedRadius', 'headerLocation', 'headerFullLocation', 'headerLocationGranularity', 'query', 'totalResults', 'suggestedBounds', 'groups'])"
      ]
     },
     "metadata": {},
     "execution_count": 12
    }
   ],
   "source": [
    "data[\"response\"].keys()"
   ]
  },
  {
   "cell_type": "code",
   "execution_count": 28,
   "metadata": {},
   "outputs": [],
   "source": [
    "# Cantidad ilegible de datos\n",
    "\n",
    "data[\"response\"] #podemos hacer lo que queramos para verlo bien, o bien en un json y usamos json editor, o lo transformamos en un dataframe para verlo bien"
   ]
  },
  {
   "cell_type": "code",
   "execution_count": 36,
   "metadata": {},
   "outputs": [],
   "source": [
    "#EXTRA NO ES DE ESTA PARTE \n",
    "\n",
    "df[\"response\"].values[-1] #acceder al ultimo valor de la columna response asi te lo devuelve como string\n",
    "string_json=df[\"response\"]\n",
    "# lo lee como un string \n",
    "#como transofrmarlo como json\n",
    "#1º importo json\n",
    "#2º probar a leerlo como json ->json.loads(string_json)\n",
    "from pandas.io.json import json_normalize # intentarlo con esto"
   ]
  },
  {
   "cell_type": "code",
   "execution_count": 37,
   "metadata": {},
   "outputs": [
    {
     "output_type": "execute_result",
     "data": {
      "text/plain": [
       "       meta                                           response\n",
       "groups  NaN  [{'type': 'Recommended Places', 'name': 'recom..."
      ],
      "text/html": "<div>\n<style scoped>\n    .dataframe tbody tr th:only-of-type {\n        vertical-align: middle;\n    }\n\n    .dataframe tbody tr th {\n        vertical-align: top;\n    }\n\n    .dataframe thead th {\n        text-align: right;\n    }\n</style>\n<table border=\"1\" class=\"dataframe\">\n  <thead>\n    <tr style=\"text-align: right;\">\n      <th></th>\n      <th>meta</th>\n      <th>response</th>\n    </tr>\n  </thead>\n  <tbody>\n    <tr>\n      <th>groups</th>\n      <td>NaN</td>\n      <td>[{'type': 'Recommended Places', 'name': 'recom...</td>\n    </tr>\n  </tbody>\n</table>\n</div>"
     },
     "metadata": {},
     "execution_count": 37
    }
   ],
   "source": [
    "df.iloc[-1 :] #asi para un dataframe\n",
    "#df.iloc[-1, : ] #asi para seroie"
   ]
  },
  {
   "cell_type": "code",
   "execution_count": 45,
   "metadata": {},
   "outputs": [
    {
     "output_type": "execute_result",
     "data": {
      "text/plain": [
       "dict_keys(['suggestedFilters', 'suggestedRadius', 'headerLocation', 'headerFullLocation', 'headerLocationGranularity', 'query', 'totalResults', 'suggestedBounds', 'groups'])"
      ]
     },
     "metadata": {},
     "execution_count": 45
    }
   ],
   "source": [
    "data[\"response\"].keys() #las keys de response"
   ]
  },
  {
   "cell_type": "code",
   "execution_count": 14,
   "metadata": {},
   "outputs": [
    {
     "output_type": "execute_result",
     "data": {
      "text/plain": [
       "dict_keys(['type', 'name', 'items'])"
      ]
     },
     "metadata": {},
     "execution_count": 14
    }
   ],
   "source": [
    "data[\"response\"]['groups'][0].keys() #groups es una de las claves dentro del diccionario en response"
   ]
  },
  {
   "cell_type": "code",
   "execution_count": 15,
   "metadata": {},
   "outputs": [
    {
     "output_type": "execute_result",
     "data": {
      "text/plain": [
       "dict_keys(['reasons', 'venue', 'referralId'])"
      ]
     },
     "metadata": {},
     "execution_count": 15
    }
   ],
   "source": [
    "data[\"response\"]['groups'][0][\"items\"][0].keys()  #vamos poco a poco accediendo e ir guardandolo poco a poco para ir sacando los ratos items contiene todos los nombres restaurantes "
   ]
  },
  {
   "cell_type": "code",
   "execution_count": 16,
   "metadata": {},
   "outputs": [
    {
     "output_type": "execute_result",
     "data": {
      "text/plain": [
       "{'id': '5ac924f0a22db76045072b51',\n",
       " 'name': 'Charrua',\n",
       " 'contact': {},\n",
       " 'location': {'lat': 40.422416,\n",
       "  'lng': -3.693999,\n",
       "  'labeledLatLngs': [{'label': 'display', 'lat': 40.422416, 'lng': -3.693999}],\n",
       "  'distance': 148,\n",
       "  'postalCode': '28004',\n",
       "  'cc': 'ES',\n",
       "  'city': 'Madrid',\n",
       "  'state': 'Madrid',\n",
       "  'country': 'España',\n",
       "  'formattedAddress': ['28004 Madrid Madrid', 'España']},\n",
       " 'categories': [{'id': '4bf58dd8d48988d1df931735',\n",
       "   'name': 'BBQ Joint',\n",
       "   'pluralName': 'BBQ Joints',\n",
       "   'shortName': 'BBQ',\n",
       "   'icon': {'prefix': 'https://ss3.4sqi.net/img/categories_v2/food/bbqalt_',\n",
       "    'suffix': '.png'},\n",
       "   'primary': True}],\n",
       " 'verified': False,\n",
       " 'stats': {'tipCount': 0,\n",
       "  'usersCount': 0,\n",
       "  'checkinsCount': 0,\n",
       "  'visitsCount': 0},\n",
       " 'beenHere': {'count': 0,\n",
       "  'lastCheckinExpiredAt': 0,\n",
       "  'marked': False,\n",
       "  'unconfirmedCount': 0},\n",
       " 'photos': {'count': 0, 'groups': []},\n",
       " 'hereNow': {'count': 0, 'summary': 'Nobody here', 'groups': []}}"
      ]
     },
     "metadata": {},
     "execution_count": 16
    }
   ],
   "source": [
    "data[\"response\"]['groups'][0][\"items\"][0][\"venue\"]"
   ]
  },
  {
   "cell_type": "code",
   "execution_count": 17,
   "metadata": {},
   "outputs": [
    {
     "output_type": "execute_result",
     "data": {
      "text/plain": [
       "'Charrua'"
      ]
     },
     "metadata": {},
     "execution_count": 17
    }
   ],
   "source": [
    "data[\"response\"]['groups'][0][\"items\"][0][\"venue\"]['name'] #accedo a las claves "
   ]
  },
  {
   "cell_type": "code",
   "execution_count": 18,
   "metadata": {
    "tags": []
   },
   "outputs": [
    {
     "output_type": "stream",
     "name": "stdout",
     "text": [
      "Charrua\nPelotari\nCannibal Raw Bar\nDoki Doki\nla vaca y la huerta\nPanod\ncelicioso\nFlavia Restaurante & Bar\nNew York Burger\nRaimunda\nMamá Chicó\nBanzai\nEl Cafetin De Fernando VI\nDSTAgE\nHabanera\nFood Truck\nShuwa Shuwa\nFaborit\nAl-Mounia\nLa Tavernetta\nMagasand Columela\na.n.E.l. Tapas & Lounge Bar\nil Tavolo Verde\nAdolfo Dominguez Lounge Cafe\nEl Supremo\nAarde\nBarrutia\nVides\nLa Lupita\nKrachai\nBunny's Deli\nRamsés\nPrep' La Crêpe\nMal de Amores\nLa Candelita\nLa Giralda IV\nRoostiq\nHonest Greens\nMad Grill\nThai Garden 2112\n99 Sushi Bar\nRoots\nLa Panaderia de Chueca\nTrattoria Pulcinella\nLa Maquina Jorge Juan\nMorgana\nAlabaster\nEl Paraguas\nLa Magdalena De Proust\nniMÚ Barquillo\nKuoco 360\nLa Bien Aparecida\nHot Now\nTaj Mahal\nGarcía de La Navarra\nTienda de Vinos (El Comunista)\nSr. Ito\nMerci\nLa Garriga\nLa alacena de Victor Montes (mercado de San Anton)\nLa Mafia se sienta a la mesa\nCafé de París, L' Entrecot\nLa Primera\nLa Galette 2 - Casa Escondida\nCapperi Mercato Italiano\nEl Perro y La Galleta\nAloha Poké\nPlatea Madrid\nPizzaiolo\nLa Carmencita\nPeyote San\nUltramarinos Quintin\nLa Buha\nThai Orchid\nQuispe\nPropaganda\nEl Cisne Azul\nAmazónico\nMallorca Market\nBocadillo de Jamón y Champán\nShikku\nMagasand\nRESTAURANTE KRITIKOS\nMestizo\nTampu\nFit Food\nLa Senda De Xiquena\nYakitoro\nÔven Mozzarella Bar\nIzakaya Han\nDiurno Restaurant & Bar\nArabia\nLa Castafiore\nLara Grill\nCafés Arrivederci\nLa Santa\nAüakt\nPatio De Leones\ncripeka\nPink Monkey\n"
     ]
    }
   ],
   "source": [
    "for rest in data[\"response\"]['groups'][0][\"items\"]: # si recorro items me printees cada valor de venue y dentro de venue name y me saca todos los nombres \n",
    "    print(rest[\"venue\"][\"name\"])"
   ]
  },
  {
   "cell_type": "code",
   "execution_count": 19,
   "metadata": {},
   "outputs": [
    {
     "output_type": "execute_result",
     "data": {
      "text/plain": [
       "['Charrua',\n",
       " 'Pelotari',\n",
       " 'Cannibal Raw Bar',\n",
       " 'Doki Doki',\n",
       " 'la vaca y la huerta',\n",
       " 'Panod',\n",
       " 'celicioso',\n",
       " 'Flavia Restaurante & Bar',\n",
       " 'New York Burger',\n",
       " 'Raimunda',\n",
       " 'Mamá Chicó',\n",
       " 'Banzai',\n",
       " 'El Cafetin De Fernando VI',\n",
       " 'DSTAgE',\n",
       " 'Habanera',\n",
       " 'Food Truck',\n",
       " 'Shuwa Shuwa',\n",
       " 'Faborit',\n",
       " 'Al-Mounia',\n",
       " 'La Tavernetta',\n",
       " 'Magasand Columela',\n",
       " 'a.n.E.l. Tapas & Lounge Bar',\n",
       " 'il Tavolo Verde',\n",
       " 'Adolfo Dominguez Lounge Cafe',\n",
       " 'El Supremo',\n",
       " 'Aarde',\n",
       " 'Barrutia',\n",
       " 'Vides',\n",
       " 'La Lupita',\n",
       " 'Krachai',\n",
       " \"Bunny's Deli\",\n",
       " 'Ramsés',\n",
       " \"Prep' La Crêpe\",\n",
       " 'Mal de Amores',\n",
       " 'La Candelita',\n",
       " 'La Giralda IV',\n",
       " 'Roostiq',\n",
       " 'Honest Greens',\n",
       " 'Mad Grill',\n",
       " 'Thai Garden 2112',\n",
       " '99 Sushi Bar',\n",
       " 'Roots',\n",
       " 'La Panaderia de Chueca',\n",
       " 'Trattoria Pulcinella',\n",
       " 'La Maquina Jorge Juan',\n",
       " 'Morgana',\n",
       " 'Alabaster',\n",
       " 'El Paraguas',\n",
       " 'La Magdalena De Proust',\n",
       " 'niMÚ Barquillo',\n",
       " 'Kuoco 360',\n",
       " 'La Bien Aparecida',\n",
       " 'Hot Now',\n",
       " 'Taj Mahal',\n",
       " 'García de La Navarra',\n",
       " 'Tienda de Vinos (El Comunista)',\n",
       " 'Sr. Ito',\n",
       " 'Merci',\n",
       " 'La Garriga',\n",
       " 'La alacena de Victor Montes (mercado de San Anton)',\n",
       " 'La Mafia se sienta a la mesa',\n",
       " \"Café de París, L' Entrecot\",\n",
       " 'La Primera',\n",
       " 'La Galette 2 - Casa Escondida',\n",
       " 'Capperi Mercato Italiano',\n",
       " 'El Perro y La Galleta',\n",
       " 'Aloha Poké',\n",
       " 'Platea Madrid',\n",
       " 'Pizzaiolo',\n",
       " 'La Carmencita',\n",
       " 'Peyote San',\n",
       " 'Ultramarinos Quintin',\n",
       " 'La Buha',\n",
       " 'Thai Orchid',\n",
       " 'Quispe',\n",
       " 'Propaganda',\n",
       " 'El Cisne Azul',\n",
       " 'Amazónico',\n",
       " 'Mallorca Market',\n",
       " 'Bocadillo de Jamón y Champán',\n",
       " 'Shikku',\n",
       " 'Magasand',\n",
       " 'RESTAURANTE KRITIKOS',\n",
       " 'Mestizo',\n",
       " 'Tampu',\n",
       " 'Fit Food',\n",
       " 'La Senda De Xiquena',\n",
       " 'Yakitoro',\n",
       " 'Ôven Mozzarella Bar',\n",
       " 'Izakaya Han',\n",
       " 'Diurno Restaurant & Bar',\n",
       " 'Arabia',\n",
       " 'La Castafiore',\n",
       " 'Lara Grill',\n",
       " 'Cafés Arrivederci',\n",
       " 'La Santa',\n",
       " 'Aüakt',\n",
       " 'Patio De Leones',\n",
       " 'cripeka',\n",
       " 'Pink Monkey']"
      ]
     },
     "metadata": {},
     "execution_count": 19
    }
   ],
   "source": [
    "opciones = [rest[\"venue\"][\"name\"] for rest in data[\"response\"]['groups'][0][\"items\"]]  #comprenhension list je para guardarlo en una lista \n",
    "opciones"
   ]
  },
  {
   "cell_type": "markdown",
   "metadata": {},
   "source": [
    "Comprobamos que efectivamente están cerca de **The Bridge**"
   ]
  },
  {
   "cell_type": "code",
   "execution_count": 48,
   "metadata": {},
   "outputs": [
    {
     "output_type": "stream",
     "name": "stdout",
     "text": [
      "148\n140\n168\n268\n245\n282\n299\n228\n146\n275\n233\n191\n381\n410\n322\n346\n167\n344\n146\n410\n404\n288\n263\n340\n137\n425\n411\n468\n160\n451\n436\n375\n394\n372\n280\n473\n341\n535\n488\n132\n525\n351\n443\n418\n533\n472\n553\n563\n412\n301\n531\n468\n510\n384\n510\n445\n471\n170\n409\n455\n439\n478\n608\n88\n545\n486\n465\n487\n550\n453\n319\n597\n500\n453\n524\n470\n377\n627\n507\n373\n566\n506\n442\n217\n131\n401\n173\n536\n607\n534\n455\n240\n118\n528\n525\n531\n324\n383\n540\n494\n"
     ]
    }
   ],
   "source": [
    "for rest in data[\"response\"]['groups'][0][\"items\"]:  #para la distancia\n",
    "    print(rest[\"venue\"][\"location\"][\"distance\"]) #te muestra las distancia de los restaurantes "
   ]
  },
  {
   "cell_type": "markdown",
   "metadata": {},
   "source": [
    "- **Charrua**"
   ]
  },
  {
   "cell_type": "markdown",
   "metadata": {},
   "source": [
    "https://www.google.com/maps/place/Charr%C3%BAa+Madrid/@40.4213206,-3.6974034,15z/data=!4m5!3m4!1s0x0:0x8673b16903da6e51!8m2!3d40.4223987!4d-3.6940989"
   ]
  },
  {
   "cell_type": "markdown",
   "metadata": {},
   "source": [
    "- **Pelotari**"
   ]
  },
  {
   "cell_type": "markdown",
   "metadata": {},
   "source": [
    "https://www.google.com/maps/place/Pelotari/@40.4210322,-3.7011421,15.06z/data=!4m8!1m2!2m1!1spelotari!3m4!1s0xd42289a8d2d74cb:0x2b6420709612ce53!8m2!3d40.4222232!4d-3.6906525"
   ]
  },
  {
   "cell_type": "markdown",
   "metadata": {},
   "source": [
    "- **Doki doki**"
   ]
  },
  {
   "cell_type": "markdown",
   "metadata": {},
   "source": [
    "https://www.google.com/maps/place/Restaurante+Doki+Doki/@40.421046,-3.6919977,17z/data=!3m1!4b1!4m5!3m4!1s0xd42289a5313ac17:0x27cfb02077407a64!8m2!3d40.421046!4d-3.689809"
   ]
  }
 ]
}