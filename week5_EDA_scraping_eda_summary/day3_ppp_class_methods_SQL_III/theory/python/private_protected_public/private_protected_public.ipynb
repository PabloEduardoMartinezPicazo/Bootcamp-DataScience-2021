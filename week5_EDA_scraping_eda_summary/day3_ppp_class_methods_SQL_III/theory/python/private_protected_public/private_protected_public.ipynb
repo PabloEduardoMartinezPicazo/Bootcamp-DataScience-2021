{
 "cells": [
  {
   "cell_type": "markdown",
   "metadata": {},
   "source": [
    "![](ppp.png)"
   ]
  },
  {
   "source": [
    "#### Modifiers"
   ],
   "cell_type": "markdown",
   "metadata": {}
  },
  {
   "cell_type": "code",
   "execution_count": null,
   "metadata": {},
   "outputs": [],
   "source": [
    "import pandas as pd\n",
    "\n",
    "df = pd.DataFrame()\n",
    "df.info()\n"
   ]
  },
  {
   "cell_type": "code",
   "execution_count": null,
   "metadata": {},
   "outputs": [],
   "source": [
    "x = 2  # Public -- Everywhere puedo acceder a ella desde cualquier sitio\n",
    "_x = 2  # Protected -- Inside class or sub-class solamente puedo acceder a esa variable desde la propia clase o desde los tipos\n",
    "__x = 2  # Private  -- Inside class or file solamente desde el lugar donde la creo\n"
   ]
  },
  {
   "cell_type": "code",
   "execution_count": null,
   "metadata": {},
   "outputs": [],
   "source": [
    "# Ejemplo en Java\n",
    "private Integer variable = 2;"
   ]
  },
  {
   "cell_type": "code",
   "execution_count": null,
   "metadata": {},
   "outputs": [],
   "source": [
    "class Humano:\n",
    "\n",
    "    def __init__(self):\n",
    "        pass\n",
    "\n",
    "    def __str__(self):\n",
    "        pass\n",
    "\n",
    "#c++\n",
    "# built-in son funciones construidas -> la clase constructor o str "
   ]
  },
  {
   "cell_type": "code",
   "execution_count": 1,
   "metadata": {
    "tags": []
   },
   "outputs": [
    {
     "output_type": "stream",
     "name": "stdout",
     "text": [
      "We are going to test the functions: \n\n\n\n\n--------------------------\nTesting public...\npublic\n--------------------------\nTesting protected...\nProtected\n--------------------------\nTesting private...\nPrivate\n--------------------------\n"
     ]
    }
   ],
   "source": [
    "# Public voy a poder usarla sin problema\n",
    "\n",
    "def public_function():\n",
    "    print(\"public\")\n",
    "\n",
    "# Protected podemos ejecutarla\n",
    "\n",
    "def _protected_function():\n",
    "    print(\"Protected\")\n",
    "\n",
    "# Private podemos ejecutarla, ya que pertenece al propio fichero y no a ninguna clase especifica si quiero llamar a esta funcion desde otro archivo no voy a poder llamarla \n",
    "\n",
    "def __private_function():\n",
    "    print(\"Private\")\n",
    "\n",
    "if __name__ == \"__main__\":  # si este es el archivo que se ejecuta se ejecuta lo de abajo\n",
    "    print(\"We are going to test the functions: \\n\\n\\n\\n\")\n",
    "    print(\"--------------------------\")\n",
    "    print(\"Testing public...\")\n",
    "    public_function()\n",
    "    print(\"--------------------------\")\n",
    "    print(\"Testing protected...\")\n",
    "    _protected_function()\n",
    "    print(\"--------------------------\")\n",
    "    print(\"Testing private...\")\n",
    "    __private_function()\n",
    "    print(\"--------------------------\")"
   ]
  },
  {
   "cell_type": "code",
   "execution_count": null,
   "metadata": {},
   "outputs": [],
   "source": [
    "def __f_priv():\n",
    "    print(\"Soy priv\")"
   ]
  },
  {
   "cell_type": "code",
   "execution_count": 2,
   "metadata": {
    "tags": []
   },
   "outputs": [
    {
     "output_type": "stream",
     "name": "stdout",
     "text": [
      "Hola\nWe are going to test the functions: \n\n\n\n\n--------------------------\nTesting public...\npublic\n--------------------------\nTesting protected...\nProtected\n--------------------------\nTesting private...\n"
     ]
    },
    {
     "output_type": "error",
     "ename": "AttributeError",
     "evalue": "'Human' object has no attribute '__private_function'",
     "traceback": [
      "\u001b[1;31m---------------------------------------------------------------------------\u001b[0m",
      "\u001b[1;31mAttributeError\u001b[0m                            Traceback (most recent call last)",
      "\u001b[1;32m<ipython-input-2-1f0c943bb55d>\u001b[0m in \u001b[0;36m<module>\u001b[1;34m\u001b[0m\n\u001b[0;32m     30\u001b[0m     \u001b[0mprint\u001b[0m\u001b[1;33m(\u001b[0m\u001b[1;34m\"--------------------------\"\u001b[0m\u001b[1;33m)\u001b[0m\u001b[1;33m\u001b[0m\u001b[1;33m\u001b[0m\u001b[0m\n\u001b[0;32m     31\u001b[0m     \u001b[0mprint\u001b[0m\u001b[1;33m(\u001b[0m\u001b[1;34m\"Testing private...\"\u001b[0m\u001b[1;33m)\u001b[0m\u001b[1;33m\u001b[0m\u001b[1;33m\u001b[0m\u001b[0m\n\u001b[1;32m---> 32\u001b[1;33m     \u001b[0mp\u001b[0m\u001b[1;33m.\u001b[0m\u001b[0m__private_function\u001b[0m\u001b[1;33m(\u001b[0m\u001b[1;33m)\u001b[0m\u001b[1;33m\u001b[0m\u001b[1;33m\u001b[0m\u001b[0m\n\u001b[0m\u001b[0;32m     33\u001b[0m     \u001b[0mprint\u001b[0m\u001b[1;33m(\u001b[0m\u001b[1;34m\"--------------------------\"\u001b[0m\u001b[1;33m)\u001b[0m\u001b[1;33m\u001b[0m\u001b[1;33m\u001b[0m\u001b[0m\n",
      "\u001b[1;31mAttributeError\u001b[0m: 'Human' object has no attribute '__private_function'"
     ]
    }
   ],
   "source": [
    "class Human:\n",
    "\n",
    "    def __init__(self):\n",
    "        print(\"Hola\")\n",
    "\n",
    "    # Public \n",
    "    def public_function(self):\n",
    "        print(\"public\")\n",
    "\n",
    "    # Protected\n",
    "    def _protected_function(self):\n",
    "        print(\"Protected\")\n",
    "\n",
    "    # Private\n",
    "    def __private_function(self):\n",
    "        print(\"Private\")\n",
    "\n",
    "    def mi_funcion(self):\n",
    "        self.__private_function()\n",
    "\n",
    "if __name__ == \"__main__\":\n",
    "    p = Human() #creo una instancia de humano\n",
    "    print(\"We are going to test the functions: \\n\\n\\n\\n\")\n",
    "    print(\"--------------------------\")\n",
    "    print(\"Testing public...\")\n",
    "    p.public_function() #llamo a la funcion publica y se va a poder mostrar\n",
    "    print(\"--------------------------\")\n",
    "    print(\"Testing protected...\")\n",
    "    p._protected_function() # llamo a la funcion y la puedo llamar\n",
    "    print(\"--------------------------\")\n",
    "    print(\"Testing private...\")\n",
    "    p.__private_function() #privada, la llamo no me deja y me dice que no puedo llamarla xq no puedo llamar ala funcion privada desde fuera de la clase pero si puedo llamarla desde dentro de la clase que es lo que se hace al llamarla desde mi_funcion(self): self.__private.function(), puedo acceder a ella xq la llamo desde dentro de la clase \n",
    "    print(\"--------------------------\")"
   ]
  },
  {
   "cell_type": "code",
   "execution_count": 4,
   "metadata": {
    "tags": []
   },
   "outputs": [
    {
     "output_type": "error",
     "ename": "NameError",
     "evalue": "name '__f_priv' is not defined",
     "traceback": [
      "\u001b[1;31m---------------------------------------------------------------------------\u001b[0m",
      "\u001b[1;31mNameError\u001b[0m                                 Traceback (most recent call last)",
      "\u001b[1;32m<ipython-input-4-a5a25fd2f5bd>\u001b[0m in \u001b[0;36m<module>\u001b[1;34m\u001b[0m\n\u001b[1;32m----> 1\u001b[1;33m \u001b[0m__f_priv\u001b[0m\u001b[1;33m(\u001b[0m\u001b[1;33m)\u001b[0m\u001b[1;33m\u001b[0m\u001b[1;33m\u001b[0m\u001b[0m\n\u001b[0m",
      "\u001b[1;31mNameError\u001b[0m: name '__f_priv' is not defined"
     ]
    }
   ],
   "source": [
    "__f_priv() #esto no existe porque no la puedo llamar desde fuera "
   ]
  },
  {
   "cell_type": "code",
   "execution_count": 3,
   "metadata": {
    "tags": []
   },
   "outputs": [
    {
     "output_type": "stream",
     "name": "stdout",
     "text": [
      "Private\n"
     ]
    }
   ],
   "source": [
    "p.mi_funcion() #desde dentro de la clase llamo a la funcion publica que llama a una funcion privvada "
   ]
  },
  {
   "cell_type": "code",
   "execution_count": 5,
   "metadata": {
    "tags": []
   },
   "outputs": [
    {
     "output_type": "stream",
     "name": "stdout",
     "text": [
      "Hola\n"
     ]
    }
   ],
   "source": [
    "p.__init__()\n",
    "# Built-in"
   ]
  },
  {
   "cell_type": "code",
   "execution_count": null,
   "metadata": {},
   "outputs": [],
   "source": [
    "#p._protected_function() me daria problema solo si abro otro fichero importo la clase humano e intento ejecutar la funcion protegida siguiendo lo que python reconozca como propio proyecto con el relative path se puede ver hasta donde llega "
   ]
  },
  {
   "cell_type": "code",
   "execution_count": null,
   "metadata": {},
   "outputs": [],
   "source": [
    "# esto se usa para diferenciar correctamente cuales son las funciones que queremos que los demas puedan usarlo o no, es como para proteger el codigo a la hora de crer una clase o una funcion o una libreria etc, ya que hay valores que son muy sensibles y que no pueden ser cambiadas. Ademas serian muy largas la cantidad de funciones que nos darian.\n",
    "#si las creo como globales no son privadas ni protegidas las puedo llamar desde otro archivo \n",
    "# -> puedo llamar a las protegidas cuando esten en el sys.path si no lo esta es decir esta fuera no voy a poder ejecutarlo, si tengo que meterle un nuevo path no me va a dejar ejecutarlo todo lo que este dentro de la relative path, puedo ejecutar las funciones protegidas "
   ]
  }
 ],
 "metadata": {
  "language_info": {
   "name": "python",
   "codemirror_mode": {
    "name": "ipython",
    "version": 3
   },
   "version": "3.7.4"
  },
  "orig_nbformat": 2,
  "file_extension": ".py",
  "mimetype": "text/x-python",
  "name": "python",
  "npconvert_exporter": "python",
  "pygments_lexer": "ipython3",
  "version": 3,
  "kernelspec": {
   "name": "python374jvsc74a57bd07945e9a82d7512fbf96246d9bbc29cd2f106c1a4a9cf54c9563dadf10f2237d4",
   "display_name": "Python 3.7.4 64-bit"
  },
  "metadata": {
   "interpreter": {
    "hash": "7945e9a82d7512fbf96246d9bbc29cd2f106c1a4a9cf54c9563dadf10f2237d4"
   }
  }
 },
 "nbformat": 4,
 "nbformat_minor": 2
}