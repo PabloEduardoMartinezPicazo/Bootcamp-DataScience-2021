{
 "cells": [
  {
   "cell_type": "code",
   "execution_count": 5,
   "metadata": {},
   "outputs": [
    {
     "output_type": "execute_result",
     "data": {
      "text/plain": [
       "2"
      ]
     },
     "metadata": {},
     "execution_count": 5
    }
   ],
   "source": [
    "class H:\n",
    "    def __init__(self, x):\n",
    "        self.__x = x  # __ es privado esta categoria de la clase \n",
    "    def get_x(self):\n",
    "        return self.__x\n",
    "\n",
    "h = H(x=2)\n",
    "# h.x # esto no me deja llamarlo\n",
    "h.get_x() # esto si me deja llamarlo"
   ]
  },
  {
   "cell_type": "code",
   "execution_count": 12,
   "metadata": {},
   "outputs": [
    {
     "output_type": "execute_result",
     "data": {
      "text/plain": [
       "3"
      ]
     },
     "metadata": {},
     "execution_count": 12
    }
   ],
   "source": [
    "h.t=3\n",
    "h.t\n"
   ]
  },
  {
   "cell_type": "code",
   "execution_count": 13,
   "metadata": {},
   "outputs": [
    {
     "output_type": "execute_result",
     "data": {
      "text/plain": [
       "2"
      ]
     },
     "metadata": {},
     "execution_count": 13
    }
   ],
   "source": [
    "h.get_x() # no te cambia asi el valor de t "
   ]
  },
  {
   "cell_type": "code",
   "execution_count": 7,
   "metadata": {},
   "outputs": [],
   "source": [
    "class P:\n",
    "    def __init__(self, x):\n",
    "        self.__x = x  # __ es privado\n",
    "    #decorador de la funcion @\n",
    "    @property #este decorador esta creado de base. cada vez que tu pongas el nombre de la funcion estas llamando a esa funcion sin parentesis \n",
    "    def x(self): # x es una propidad de la funcion que esta llamando y devolviendo a un atributo privado cuando tu lo haces propiedad el atributo x que es privado se va a ejecutar en cada llamada de la funcion\n",
    "        \"\"\" Devuelve el valor del atributo privado \"\"\" # get  obtener el valor\n",
    "        print(\"Muestra __x\")\n",
    "        return self.__x\n",
    "#setter no puede estar solo sin el property \n",
    "    @x.setter #set para modificarlo se llama a x como podmeos ver, cada vez que modifique x se mete aqui\n",
    "    def x(self, x): # y tienes que crear la funcio ncon el mismo nombre \n",
    "        \"\"\" Permite modificar el atributo privado \"\"\"\n",
    "        if x < 0:\n",
    "            self.__x = 0\n",
    "        elif x > 1000:\n",
    "            self.__x = 1000\n",
    "        else:\n",
    "            self.__x = x"
   ]
  },
  {
   "cell_type": "code",
   "execution_count": null,
   "metadata": {},
   "outputs": [],
   "source": [
    "# las dos se llaman x, pero si llamo p.x estoy llamando al a funcion de la propiedad si le asigno un nuevo valor, p.x=22334 o lo que sea llamo al setter "
   ]
  },
  {
   "cell_type": "code",
   "execution_count": 8,
   "metadata": {},
   "outputs": [
    {
     "output_type": "stream",
     "name": "stdout",
     "text": [
      "Muestra __x\n"
     ]
    },
    {
     "output_type": "execute_result",
     "data": {
      "text/plain": [
       "5"
      ]
     },
     "metadata": {},
     "execution_count": 8
    }
   ],
   "source": [
    "p = P(x=5)\n",
    "p.x # no estoy llamadno a la funcion porque no tiene () el decorador property hace que no necesite los () para llamar a la funcion por eso muestra el printeo y el return -> lo llamo como atributo no como funcion \n",
    "#restrinjo los rangos de valores de x \n"
   ]
  },
  {
   "cell_type": "code",
   "execution_count": 10,
   "metadata": {},
   "outputs": [
    {
     "output_type": "stream",
     "name": "stdout",
     "text": [
      "Muestra __x\n"
     ]
    },
    {
     "output_type": "execute_result",
     "data": {
      "text/plain": [
       "6"
      ]
     },
     "metadata": {},
     "execution_count": 10
    }
   ],
   "source": [
    "p.x = 6 #cambio el valor de la instancia p de 5 a 6\n",
    "p.x"
   ]
  },
  {
   "cell_type": "code",
   "execution_count": 11,
   "metadata": {},
   "outputs": [
    {
     "output_type": "stream",
     "name": "stdout",
     "text": [
      "Muestra __x\n"
     ]
    },
    {
     "output_type": "execute_result",
     "data": {
      "text/plain": [
       "0"
      ]
     },
     "metadata": {},
     "execution_count": 11
    }
   ],
   "source": [
    "p.x=-9999 #cuando le reasigno un nuevo valor a x llamo a setter  por eso muestra el 0 si modifico x sin el setter no puedo modificar el atributo \n",
    "p.x"
   ]
  },
  {
   "cell_type": "code",
   "execution_count": null,
   "metadata": {
    "tags": []
   },
   "outputs": [],
   "source": [
    "m = P(x=5)\n",
    "m.x"
   ]
  },
  {
   "cell_type": "code",
   "execution_count": null,
   "metadata": {},
   "outputs": [],
   "source": [
    "import numpy as np \n",
    "\n",
    "x = np.arange(45)\n",
    "x.shape"
   ]
  },
  {
   "cell_type": "code",
   "execution_count": null,
   "metadata": {},
   "outputs": [],
   "source": [
    "x.shape = (9,5)\n",
    "x.shape"
   ]
  }
 ],
 "metadata": {
  "language_info": {
   "name": "python",
   "codemirror_mode": {
    "name": "ipython",
    "version": 3
   },
   "version": "3.7.4"
  },
  "orig_nbformat": 2,
  "file_extension": ".py",
  "mimetype": "text/x-python",
  "name": "python",
  "npconvert_exporter": "python",
  "pygments_lexer": "ipython3",
  "version": 3,
  "kernelspec": {
   "name": "python374jvsc74a57bd07945e9a82d7512fbf96246d9bbc29cd2f106c1a4a9cf54c9563dadf10f2237d4",
   "display_name": "Python 3.7.4 64-bit"
  },
  "metadata": {
   "interpreter": {
    "hash": "7945e9a82d7512fbf96246d9bbc29cd2f106c1a4a9cf54c9563dadf10f2237d4"
   }
  }
 },
 "nbformat": 4,
 "nbformat_minor": 2
}