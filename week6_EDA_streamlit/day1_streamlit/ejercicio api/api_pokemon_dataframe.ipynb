{
 "metadata": {
  "language_info": {
   "codemirror_mode": {
    "name": "ipython",
    "version": 3
   },
   "file_extension": ".py",
   "mimetype": "text/x-python",
   "name": "python",
   "nbconvert_exporter": "python",
   "pygments_lexer": "ipython3",
   "version": "3.7.4"
  },
  "orig_nbformat": 2,
  "kernelspec": {
   "name": "python374jvsc74a57bd07945e9a82d7512fbf96246d9bbc29cd2f106c1a4a9cf54c9563dadf10f2237d4",
   "display_name": "Python 3.7.4 64-bit"
  },
  "metadata": {
   "interpreter": {
    "hash": "7945e9a82d7512fbf96246d9bbc29cd2f106c1a4a9cf54c9563dadf10f2237d4"
   }
  }
 },
 "nbformat": 4,
 "nbformat_minor": 2,
 "cells": [
  {
   "source": [
    "### Ejercicio 1\n",
    "\n",
    "A partir de la API de Pokemon, se pide generar un DataFrame como el de la imagen con las columnas: \n",
    "\n",
    "- **\"height\",\"id\",\"order\",\"weight\",\"types\"**\n",
    "\n",
    "\n",
    "\n",
    "![](df_pk.PNG)"
   ],
   "cell_type": "markdown",
   "metadata": {}
  },
  {
   "cell_type": "code",
   "execution_count": 2,
   "metadata": {},
   "outputs": [],
   "source": [
    "import json\n",
    "import requests\n",
    "\n",
    "import pandas as pd\n",
    "from pandas.io.json import json_normalize "
   ]
  },
  {
   "cell_type": "code",
   "execution_count": 3,
   "metadata": {},
   "outputs": [
    {
     "output_type": "execute_result",
     "data": {
      "text/plain": [
       "{'count': 1118,\n",
       " 'next': 'https://pokeapi.co/api/v2/pokemon?offset=20&limit=20',\n",
       " 'previous': None,\n",
       " 'results': [{'name': 'bulbasaur',\n",
       "   'url': 'https://pokeapi.co/api/v2/pokemon/1/'},\n",
       "  {'name': 'ivysaur', 'url': 'https://pokeapi.co/api/v2/pokemon/2/'},\n",
       "  {'name': 'venusaur', 'url': 'https://pokeapi.co/api/v2/pokemon/3/'},\n",
       "  {'name': 'charmander', 'url': 'https://pokeapi.co/api/v2/pokemon/4/'},\n",
       "  {'name': 'charmeleon', 'url': 'https://pokeapi.co/api/v2/pokemon/5/'},\n",
       "  {'name': 'charizard', 'url': 'https://pokeapi.co/api/v2/pokemon/6/'},\n",
       "  {'name': 'squirtle', 'url': 'https://pokeapi.co/api/v2/pokemon/7/'},\n",
       "  {'name': 'wartortle', 'url': 'https://pokeapi.co/api/v2/pokemon/8/'},\n",
       "  {'name': 'blastoise', 'url': 'https://pokeapi.co/api/v2/pokemon/9/'},\n",
       "  {'name': 'caterpie', 'url': 'https://pokeapi.co/api/v2/pokemon/10/'},\n",
       "  {'name': 'metapod', 'url': 'https://pokeapi.co/api/v2/pokemon/11/'},\n",
       "  {'name': 'butterfree', 'url': 'https://pokeapi.co/api/v2/pokemon/12/'},\n",
       "  {'name': 'weedle', 'url': 'https://pokeapi.co/api/v2/pokemon/13/'},\n",
       "  {'name': 'kakuna', 'url': 'https://pokeapi.co/api/v2/pokemon/14/'},\n",
       "  {'name': 'beedrill', 'url': 'https://pokeapi.co/api/v2/pokemon/15/'},\n",
       "  {'name': 'pidgey', 'url': 'https://pokeapi.co/api/v2/pokemon/16/'},\n",
       "  {'name': 'pidgeotto', 'url': 'https://pokeapi.co/api/v2/pokemon/17/'},\n",
       "  {'name': 'pidgeot', 'url': 'https://pokeapi.co/api/v2/pokemon/18/'},\n",
       "  {'name': 'rattata', 'url': 'https://pokeapi.co/api/v2/pokemon/19/'},\n",
       "  {'name': 'raticate', 'url': 'https://pokeapi.co/api/v2/pokemon/20/'}]}"
      ]
     },
     "metadata": {},
     "execution_count": 3
    }
   ],
   "source": [
    "url=\"https://pokeapi.co/api/v2/pokemon\"\n",
    "\n",
    "poke_json = requests.get(url).json()\n",
    "poke_json "
   ]
  },
  {
   "cell_type": "code",
   "execution_count": 4,
   "metadata": {},
   "outputs": [
    {
     "output_type": "execute_result",
     "data": {
      "text/plain": [
       "   count                                               next previous  \\\n",
       "0   1118  https://pokeapi.co/api/v2/pokemon?offset=20&li...     None   \n",
       "\n",
       "                                             results  \n",
       "0  [{'name': 'bulbasaur', 'url': 'https://pokeapi...  "
      ],
      "text/html": "<div>\n<style scoped>\n    .dataframe tbody tr th:only-of-type {\n        vertical-align: middle;\n    }\n\n    .dataframe tbody tr th {\n        vertical-align: top;\n    }\n\n    .dataframe thead th {\n        text-align: right;\n    }\n</style>\n<table border=\"1\" class=\"dataframe\">\n  <thead>\n    <tr style=\"text-align: right;\">\n      <th></th>\n      <th>count</th>\n      <th>next</th>\n      <th>previous</th>\n      <th>results</th>\n    </tr>\n  </thead>\n  <tbody>\n    <tr>\n      <th>0</th>\n      <td>1118</td>\n      <td>https://pokeapi.co/api/v2/pokemon?offset=20&amp;li...</td>\n      <td>None</td>\n      <td>[{'name': 'bulbasaur', 'url': 'https://pokeapi...</td>\n    </tr>\n  </tbody>\n</table>\n</div>"
     },
     "metadata": {},
     "execution_count": 4
    }
   ],
   "source": [
    "pd1= pd.json_normalize(poke_json)\n",
    "pd1"
   ]
  },
  {
   "cell_type": "code",
   "execution_count": 5,
   "metadata": {},
   "outputs": [
    {
     "output_type": "execute_result",
     "data": {
      "text/plain": [
       "          name                                    url\n",
       "0    bulbasaur   https://pokeapi.co/api/v2/pokemon/1/\n",
       "1      ivysaur   https://pokeapi.co/api/v2/pokemon/2/\n",
       "2     venusaur   https://pokeapi.co/api/v2/pokemon/3/\n",
       "3   charmander   https://pokeapi.co/api/v2/pokemon/4/\n",
       "4   charmeleon   https://pokeapi.co/api/v2/pokemon/5/\n",
       "5    charizard   https://pokeapi.co/api/v2/pokemon/6/\n",
       "6     squirtle   https://pokeapi.co/api/v2/pokemon/7/\n",
       "7    wartortle   https://pokeapi.co/api/v2/pokemon/8/\n",
       "8    blastoise   https://pokeapi.co/api/v2/pokemon/9/\n",
       "9     caterpie  https://pokeapi.co/api/v2/pokemon/10/\n",
       "10     metapod  https://pokeapi.co/api/v2/pokemon/11/\n",
       "11  butterfree  https://pokeapi.co/api/v2/pokemon/12/\n",
       "12      weedle  https://pokeapi.co/api/v2/pokemon/13/\n",
       "13      kakuna  https://pokeapi.co/api/v2/pokemon/14/\n",
       "14    beedrill  https://pokeapi.co/api/v2/pokemon/15/\n",
       "15      pidgey  https://pokeapi.co/api/v2/pokemon/16/\n",
       "16   pidgeotto  https://pokeapi.co/api/v2/pokemon/17/\n",
       "17     pidgeot  https://pokeapi.co/api/v2/pokemon/18/\n",
       "18     rattata  https://pokeapi.co/api/v2/pokemon/19/\n",
       "19    raticate  https://pokeapi.co/api/v2/pokemon/20/"
      ],
      "text/html": "<div>\n<style scoped>\n    .dataframe tbody tr th:only-of-type {\n        vertical-align: middle;\n    }\n\n    .dataframe tbody tr th {\n        vertical-align: top;\n    }\n\n    .dataframe thead th {\n        text-align: right;\n    }\n</style>\n<table border=\"1\" class=\"dataframe\">\n  <thead>\n    <tr style=\"text-align: right;\">\n      <th></th>\n      <th>name</th>\n      <th>url</th>\n    </tr>\n  </thead>\n  <tbody>\n    <tr>\n      <th>0</th>\n      <td>bulbasaur</td>\n      <td>https://pokeapi.co/api/v2/pokemon/1/</td>\n    </tr>\n    <tr>\n      <th>1</th>\n      <td>ivysaur</td>\n      <td>https://pokeapi.co/api/v2/pokemon/2/</td>\n    </tr>\n    <tr>\n      <th>2</th>\n      <td>venusaur</td>\n      <td>https://pokeapi.co/api/v2/pokemon/3/</td>\n    </tr>\n    <tr>\n      <th>3</th>\n      <td>charmander</td>\n      <td>https://pokeapi.co/api/v2/pokemon/4/</td>\n    </tr>\n    <tr>\n      <th>4</th>\n      <td>charmeleon</td>\n      <td>https://pokeapi.co/api/v2/pokemon/5/</td>\n    </tr>\n    <tr>\n      <th>5</th>\n      <td>charizard</td>\n      <td>https://pokeapi.co/api/v2/pokemon/6/</td>\n    </tr>\n    <tr>\n      <th>6</th>\n      <td>squirtle</td>\n      <td>https://pokeapi.co/api/v2/pokemon/7/</td>\n    </tr>\n    <tr>\n      <th>7</th>\n      <td>wartortle</td>\n      <td>https://pokeapi.co/api/v2/pokemon/8/</td>\n    </tr>\n    <tr>\n      <th>8</th>\n      <td>blastoise</td>\n      <td>https://pokeapi.co/api/v2/pokemon/9/</td>\n    </tr>\n    <tr>\n      <th>9</th>\n      <td>caterpie</td>\n      <td>https://pokeapi.co/api/v2/pokemon/10/</td>\n    </tr>\n    <tr>\n      <th>10</th>\n      <td>metapod</td>\n      <td>https://pokeapi.co/api/v2/pokemon/11/</td>\n    </tr>\n    <tr>\n      <th>11</th>\n      <td>butterfree</td>\n      <td>https://pokeapi.co/api/v2/pokemon/12/</td>\n    </tr>\n    <tr>\n      <th>12</th>\n      <td>weedle</td>\n      <td>https://pokeapi.co/api/v2/pokemon/13/</td>\n    </tr>\n    <tr>\n      <th>13</th>\n      <td>kakuna</td>\n      <td>https://pokeapi.co/api/v2/pokemon/14/</td>\n    </tr>\n    <tr>\n      <th>14</th>\n      <td>beedrill</td>\n      <td>https://pokeapi.co/api/v2/pokemon/15/</td>\n    </tr>\n    <tr>\n      <th>15</th>\n      <td>pidgey</td>\n      <td>https://pokeapi.co/api/v2/pokemon/16/</td>\n    </tr>\n    <tr>\n      <th>16</th>\n      <td>pidgeotto</td>\n      <td>https://pokeapi.co/api/v2/pokemon/17/</td>\n    </tr>\n    <tr>\n      <th>17</th>\n      <td>pidgeot</td>\n      <td>https://pokeapi.co/api/v2/pokemon/18/</td>\n    </tr>\n    <tr>\n      <th>18</th>\n      <td>rattata</td>\n      <td>https://pokeapi.co/api/v2/pokemon/19/</td>\n    </tr>\n    <tr>\n      <th>19</th>\n      <td>raticate</td>\n      <td>https://pokeapi.co/api/v2/pokemon/20/</td>\n    </tr>\n  </tbody>\n</table>\n</div>"
     },
     "metadata": {},
     "execution_count": 5
    }
   ],
   "source": [
    "pd2=pd.DataFrame(pd1[\"results\"][0])\n",
    "pd2"
   ]
  },
  {
   "cell_type": "code",
   "execution_count": 6,
   "metadata": {},
   "outputs": [],
   "source": [
    "pd2[\"caracteristicas\"]=pd2[\"url\"].apply(lambda x: requests.get(x).json())\n"
   ]
  },
  {
   "cell_type": "code",
   "execution_count": 11,
   "metadata": {},
   "outputs": [
    {
     "output_type": "execute_result",
     "data": {
      "text/plain": [
       "          name                                    url  \\\n",
       "0    bulbasaur   https://pokeapi.co/api/v2/pokemon/1/   \n",
       "1      ivysaur   https://pokeapi.co/api/v2/pokemon/2/   \n",
       "2     venusaur   https://pokeapi.co/api/v2/pokemon/3/   \n",
       "3   charmander   https://pokeapi.co/api/v2/pokemon/4/   \n",
       "4   charmeleon   https://pokeapi.co/api/v2/pokemon/5/   \n",
       "5    charizard   https://pokeapi.co/api/v2/pokemon/6/   \n",
       "6     squirtle   https://pokeapi.co/api/v2/pokemon/7/   \n",
       "7    wartortle   https://pokeapi.co/api/v2/pokemon/8/   \n",
       "8    blastoise   https://pokeapi.co/api/v2/pokemon/9/   \n",
       "9     caterpie  https://pokeapi.co/api/v2/pokemon/10/   \n",
       "10     metapod  https://pokeapi.co/api/v2/pokemon/11/   \n",
       "11  butterfree  https://pokeapi.co/api/v2/pokemon/12/   \n",
       "12      weedle  https://pokeapi.co/api/v2/pokemon/13/   \n",
       "13      kakuna  https://pokeapi.co/api/v2/pokemon/14/   \n",
       "14    beedrill  https://pokeapi.co/api/v2/pokemon/15/   \n",
       "15      pidgey  https://pokeapi.co/api/v2/pokemon/16/   \n",
       "16   pidgeotto  https://pokeapi.co/api/v2/pokemon/17/   \n",
       "17     pidgeot  https://pokeapi.co/api/v2/pokemon/18/   \n",
       "18     rattata  https://pokeapi.co/api/v2/pokemon/19/   \n",
       "19    raticate  https://pokeapi.co/api/v2/pokemon/20/   \n",
       "\n",
       "                                      caracteristicas  altura  id  order  \\\n",
       "0   {'abilities': [{'ability': {'name': 'overgrow'...       7   1      1   \n",
       "1   {'abilities': [{'ability': {'name': 'overgrow'...      10   2      2   \n",
       "2   {'abilities': [{'ability': {'name': 'overgrow'...      20   3      3   \n",
       "3   {'abilities': [{'ability': {'name': 'blaze', '...       6   4      5   \n",
       "4   {'abilities': [{'ability': {'name': 'blaze', '...      11   5      6   \n",
       "5   {'abilities': [{'ability': {'name': 'blaze', '...      17   6      7   \n",
       "6   {'abilities': [{'ability': {'name': 'torrent',...       5   7     10   \n",
       "7   {'abilities': [{'ability': {'name': 'torrent',...      10   8     11   \n",
       "8   {'abilities': [{'ability': {'name': 'torrent',...      16   9     12   \n",
       "9   {'abilities': [{'ability': {'name': 'shield-du...       3  10     14   \n",
       "10  {'abilities': [{'ability': {'name': 'shed-skin...       7  11     15   \n",
       "11  {'abilities': [{'ability': {'name': 'compound-...      11  12     16   \n",
       "12  {'abilities': [{'ability': {'name': 'shield-du...       3  13     17   \n",
       "13  {'abilities': [{'ability': {'name': 'shed-skin...       6  14     18   \n",
       "14  {'abilities': [{'ability': {'name': 'swarm', '...      10  15     19   \n",
       "15  {'abilities': [{'ability': {'name': 'keen-eye'...       3  16     21   \n",
       "16  {'abilities': [{'ability': {'name': 'keen-eye'...      11  17     22   \n",
       "17  {'abilities': [{'ability': {'name': 'keen-eye'...      15  18     23   \n",
       "18  {'abilities': [{'ability': {'name': 'run-away'...       3  19     25   \n",
       "19  {'abilities': [{'ability': {'name': 'run-away'...       7  20     27   \n",
       "\n",
       "    peso                                               tipo  \\\n",
       "0     69  [{'slot': 1, 'type': {'name': 'grass', 'url': ...   \n",
       "1    130  [{'slot': 1, 'type': {'name': 'grass', 'url': ...   \n",
       "2   1000  [{'slot': 1, 'type': {'name': 'grass', 'url': ...   \n",
       "3     85  [{'slot': 1, 'type': {'name': 'fire', 'url': '...   \n",
       "4    190  [{'slot': 1, 'type': {'name': 'fire', 'url': '...   \n",
       "5    905  [{'slot': 1, 'type': {'name': 'fire', 'url': '...   \n",
       "6     90  [{'slot': 1, 'type': {'name': 'water', 'url': ...   \n",
       "7    225  [{'slot': 1, 'type': {'name': 'water', 'url': ...   \n",
       "8    855  [{'slot': 1, 'type': {'name': 'water', 'url': ...   \n",
       "9     29  [{'slot': 1, 'type': {'name': 'bug', 'url': 'h...   \n",
       "10    99  [{'slot': 1, 'type': {'name': 'bug', 'url': 'h...   \n",
       "11   320  [{'slot': 1, 'type': {'name': 'bug', 'url': 'h...   \n",
       "12    32  [{'slot': 1, 'type': {'name': 'bug', 'url': 'h...   \n",
       "13   100  [{'slot': 1, 'type': {'name': 'bug', 'url': 'h...   \n",
       "14   295  [{'slot': 1, 'type': {'name': 'bug', 'url': 'h...   \n",
       "15    18  [{'slot': 1, 'type': {'name': 'normal', 'url':...   \n",
       "16   300  [{'slot': 1, 'type': {'name': 'normal', 'url':...   \n",
       "17   395  [{'slot': 1, 'type': {'name': 'normal', 'url':...   \n",
       "18    35  [{'slot': 1, 'type': {'name': 'normal', 'url':...   \n",
       "19   185  [{'slot': 1, 'type': {'name': 'normal', 'url':...   \n",
       "\n",
       "                                                 type  \n",
       "0   [{'slot': 1, 'type': {'name': 'grass', 'url': ...  \n",
       "1   [{'slot': 1, 'type': {'name': 'grass', 'url': ...  \n",
       "2   [{'slot': 1, 'type': {'name': 'grass', 'url': ...  \n",
       "3   [{'slot': 1, 'type': {'name': 'fire', 'url': '...  \n",
       "4   [{'slot': 1, 'type': {'name': 'fire', 'url': '...  \n",
       "5   [{'slot': 1, 'type': {'name': 'fire', 'url': '...  \n",
       "6   [{'slot': 1, 'type': {'name': 'water', 'url': ...  \n",
       "7   [{'slot': 1, 'type': {'name': 'water', 'url': ...  \n",
       "8   [{'slot': 1, 'type': {'name': 'water', 'url': ...  \n",
       "9   [{'slot': 1, 'type': {'name': 'bug', 'url': 'h...  \n",
       "10  [{'slot': 1, 'type': {'name': 'bug', 'url': 'h...  \n",
       "11  [{'slot': 1, 'type': {'name': 'bug', 'url': 'h...  \n",
       "12  [{'slot': 1, 'type': {'name': 'bug', 'url': 'h...  \n",
       "13  [{'slot': 1, 'type': {'name': 'bug', 'url': 'h...  \n",
       "14  [{'slot': 1, 'type': {'name': 'bug', 'url': 'h...  \n",
       "15  [{'slot': 1, 'type': {'name': 'normal', 'url':...  \n",
       "16  [{'slot': 1, 'type': {'name': 'normal', 'url':...  \n",
       "17  [{'slot': 1, 'type': {'name': 'normal', 'url':...  \n",
       "18  [{'slot': 1, 'type': {'name': 'normal', 'url':...  \n",
       "19  [{'slot': 1, 'type': {'name': 'normal', 'url':...  "
      ],
      "text/html": "<div>\n<style scoped>\n    .dataframe tbody tr th:only-of-type {\n        vertical-align: middle;\n    }\n\n    .dataframe tbody tr th {\n        vertical-align: top;\n    }\n\n    .dataframe thead th {\n        text-align: right;\n    }\n</style>\n<table border=\"1\" class=\"dataframe\">\n  <thead>\n    <tr style=\"text-align: right;\">\n      <th></th>\n      <th>name</th>\n      <th>url</th>\n      <th>caracteristicas</th>\n      <th>altura</th>\n      <th>id</th>\n      <th>order</th>\n      <th>peso</th>\n      <th>tipo</th>\n      <th>type</th>\n    </tr>\n  </thead>\n  <tbody>\n    <tr>\n      <th>0</th>\n      <td>bulbasaur</td>\n      <td>https://pokeapi.co/api/v2/pokemon/1/</td>\n      <td>{'abilities': [{'ability': {'name': 'overgrow'...</td>\n      <td>7</td>\n      <td>1</td>\n      <td>1</td>\n      <td>69</td>\n      <td>[{'slot': 1, 'type': {'name': 'grass', 'url': ...</td>\n      <td>[{'slot': 1, 'type': {'name': 'grass', 'url': ...</td>\n    </tr>\n    <tr>\n      <th>1</th>\n      <td>ivysaur</td>\n      <td>https://pokeapi.co/api/v2/pokemon/2/</td>\n      <td>{'abilities': [{'ability': {'name': 'overgrow'...</td>\n      <td>10</td>\n      <td>2</td>\n      <td>2</td>\n      <td>130</td>\n      <td>[{'slot': 1, 'type': {'name': 'grass', 'url': ...</td>\n      <td>[{'slot': 1, 'type': {'name': 'grass', 'url': ...</td>\n    </tr>\n    <tr>\n      <th>2</th>\n      <td>venusaur</td>\n      <td>https://pokeapi.co/api/v2/pokemon/3/</td>\n      <td>{'abilities': [{'ability': {'name': 'overgrow'...</td>\n      <td>20</td>\n      <td>3</td>\n      <td>3</td>\n      <td>1000</td>\n      <td>[{'slot': 1, 'type': {'name': 'grass', 'url': ...</td>\n      <td>[{'slot': 1, 'type': {'name': 'grass', 'url': ...</td>\n    </tr>\n    <tr>\n      <th>3</th>\n      <td>charmander</td>\n      <td>https://pokeapi.co/api/v2/pokemon/4/</td>\n      <td>{'abilities': [{'ability': {'name': 'blaze', '...</td>\n      <td>6</td>\n      <td>4</td>\n      <td>5</td>\n      <td>85</td>\n      <td>[{'slot': 1, 'type': {'name': 'fire', 'url': '...</td>\n      <td>[{'slot': 1, 'type': {'name': 'fire', 'url': '...</td>\n    </tr>\n    <tr>\n      <th>4</th>\n      <td>charmeleon</td>\n      <td>https://pokeapi.co/api/v2/pokemon/5/</td>\n      <td>{'abilities': [{'ability': {'name': 'blaze', '...</td>\n      <td>11</td>\n      <td>5</td>\n      <td>6</td>\n      <td>190</td>\n      <td>[{'slot': 1, 'type': {'name': 'fire', 'url': '...</td>\n      <td>[{'slot': 1, 'type': {'name': 'fire', 'url': '...</td>\n    </tr>\n    <tr>\n      <th>5</th>\n      <td>charizard</td>\n      <td>https://pokeapi.co/api/v2/pokemon/6/</td>\n      <td>{'abilities': [{'ability': {'name': 'blaze', '...</td>\n      <td>17</td>\n      <td>6</td>\n      <td>7</td>\n      <td>905</td>\n      <td>[{'slot': 1, 'type': {'name': 'fire', 'url': '...</td>\n      <td>[{'slot': 1, 'type': {'name': 'fire', 'url': '...</td>\n    </tr>\n    <tr>\n      <th>6</th>\n      <td>squirtle</td>\n      <td>https://pokeapi.co/api/v2/pokemon/7/</td>\n      <td>{'abilities': [{'ability': {'name': 'torrent',...</td>\n      <td>5</td>\n      <td>7</td>\n      <td>10</td>\n      <td>90</td>\n      <td>[{'slot': 1, 'type': {'name': 'water', 'url': ...</td>\n      <td>[{'slot': 1, 'type': {'name': 'water', 'url': ...</td>\n    </tr>\n    <tr>\n      <th>7</th>\n      <td>wartortle</td>\n      <td>https://pokeapi.co/api/v2/pokemon/8/</td>\n      <td>{'abilities': [{'ability': {'name': 'torrent',...</td>\n      <td>10</td>\n      <td>8</td>\n      <td>11</td>\n      <td>225</td>\n      <td>[{'slot': 1, 'type': {'name': 'water', 'url': ...</td>\n      <td>[{'slot': 1, 'type': {'name': 'water', 'url': ...</td>\n    </tr>\n    <tr>\n      <th>8</th>\n      <td>blastoise</td>\n      <td>https://pokeapi.co/api/v2/pokemon/9/</td>\n      <td>{'abilities': [{'ability': {'name': 'torrent',...</td>\n      <td>16</td>\n      <td>9</td>\n      <td>12</td>\n      <td>855</td>\n      <td>[{'slot': 1, 'type': {'name': 'water', 'url': ...</td>\n      <td>[{'slot': 1, 'type': {'name': 'water', 'url': ...</td>\n    </tr>\n    <tr>\n      <th>9</th>\n      <td>caterpie</td>\n      <td>https://pokeapi.co/api/v2/pokemon/10/</td>\n      <td>{'abilities': [{'ability': {'name': 'shield-du...</td>\n      <td>3</td>\n      <td>10</td>\n      <td>14</td>\n      <td>29</td>\n      <td>[{'slot': 1, 'type': {'name': 'bug', 'url': 'h...</td>\n      <td>[{'slot': 1, 'type': {'name': 'bug', 'url': 'h...</td>\n    </tr>\n    <tr>\n      <th>10</th>\n      <td>metapod</td>\n      <td>https://pokeapi.co/api/v2/pokemon/11/</td>\n      <td>{'abilities': [{'ability': {'name': 'shed-skin...</td>\n      <td>7</td>\n      <td>11</td>\n      <td>15</td>\n      <td>99</td>\n      <td>[{'slot': 1, 'type': {'name': 'bug', 'url': 'h...</td>\n      <td>[{'slot': 1, 'type': {'name': 'bug', 'url': 'h...</td>\n    </tr>\n    <tr>\n      <th>11</th>\n      <td>butterfree</td>\n      <td>https://pokeapi.co/api/v2/pokemon/12/</td>\n      <td>{'abilities': [{'ability': {'name': 'compound-...</td>\n      <td>11</td>\n      <td>12</td>\n      <td>16</td>\n      <td>320</td>\n      <td>[{'slot': 1, 'type': {'name': 'bug', 'url': 'h...</td>\n      <td>[{'slot': 1, 'type': {'name': 'bug', 'url': 'h...</td>\n    </tr>\n    <tr>\n      <th>12</th>\n      <td>weedle</td>\n      <td>https://pokeapi.co/api/v2/pokemon/13/</td>\n      <td>{'abilities': [{'ability': {'name': 'shield-du...</td>\n      <td>3</td>\n      <td>13</td>\n      <td>17</td>\n      <td>32</td>\n      <td>[{'slot': 1, 'type': {'name': 'bug', 'url': 'h...</td>\n      <td>[{'slot': 1, 'type': {'name': 'bug', 'url': 'h...</td>\n    </tr>\n    <tr>\n      <th>13</th>\n      <td>kakuna</td>\n      <td>https://pokeapi.co/api/v2/pokemon/14/</td>\n      <td>{'abilities': [{'ability': {'name': 'shed-skin...</td>\n      <td>6</td>\n      <td>14</td>\n      <td>18</td>\n      <td>100</td>\n      <td>[{'slot': 1, 'type': {'name': 'bug', 'url': 'h...</td>\n      <td>[{'slot': 1, 'type': {'name': 'bug', 'url': 'h...</td>\n    </tr>\n    <tr>\n      <th>14</th>\n      <td>beedrill</td>\n      <td>https://pokeapi.co/api/v2/pokemon/15/</td>\n      <td>{'abilities': [{'ability': {'name': 'swarm', '...</td>\n      <td>10</td>\n      <td>15</td>\n      <td>19</td>\n      <td>295</td>\n      <td>[{'slot': 1, 'type': {'name': 'bug', 'url': 'h...</td>\n      <td>[{'slot': 1, 'type': {'name': 'bug', 'url': 'h...</td>\n    </tr>\n    <tr>\n      <th>15</th>\n      <td>pidgey</td>\n      <td>https://pokeapi.co/api/v2/pokemon/16/</td>\n      <td>{'abilities': [{'ability': {'name': 'keen-eye'...</td>\n      <td>3</td>\n      <td>16</td>\n      <td>21</td>\n      <td>18</td>\n      <td>[{'slot': 1, 'type': {'name': 'normal', 'url':...</td>\n      <td>[{'slot': 1, 'type': {'name': 'normal', 'url':...</td>\n    </tr>\n    <tr>\n      <th>16</th>\n      <td>pidgeotto</td>\n      <td>https://pokeapi.co/api/v2/pokemon/17/</td>\n      <td>{'abilities': [{'ability': {'name': 'keen-eye'...</td>\n      <td>11</td>\n      <td>17</td>\n      <td>22</td>\n      <td>300</td>\n      <td>[{'slot': 1, 'type': {'name': 'normal', 'url':...</td>\n      <td>[{'slot': 1, 'type': {'name': 'normal', 'url':...</td>\n    </tr>\n    <tr>\n      <th>17</th>\n      <td>pidgeot</td>\n      <td>https://pokeapi.co/api/v2/pokemon/18/</td>\n      <td>{'abilities': [{'ability': {'name': 'keen-eye'...</td>\n      <td>15</td>\n      <td>18</td>\n      <td>23</td>\n      <td>395</td>\n      <td>[{'slot': 1, 'type': {'name': 'normal', 'url':...</td>\n      <td>[{'slot': 1, 'type': {'name': 'normal', 'url':...</td>\n    </tr>\n    <tr>\n      <th>18</th>\n      <td>rattata</td>\n      <td>https://pokeapi.co/api/v2/pokemon/19/</td>\n      <td>{'abilities': [{'ability': {'name': 'run-away'...</td>\n      <td>3</td>\n      <td>19</td>\n      <td>25</td>\n      <td>35</td>\n      <td>[{'slot': 1, 'type': {'name': 'normal', 'url':...</td>\n      <td>[{'slot': 1, 'type': {'name': 'normal', 'url':...</td>\n    </tr>\n    <tr>\n      <th>19</th>\n      <td>raticate</td>\n      <td>https://pokeapi.co/api/v2/pokemon/20/</td>\n      <td>{'abilities': [{'ability': {'name': 'run-away'...</td>\n      <td>7</td>\n      <td>20</td>\n      <td>27</td>\n      <td>185</td>\n      <td>[{'slot': 1, 'type': {'name': 'normal', 'url':...</td>\n      <td>[{'slot': 1, 'type': {'name': 'normal', 'url':...</td>\n    </tr>\n  </tbody>\n</table>\n</div>"
     },
     "metadata": {},
     "execution_count": 11
    }
   ],
   "source": [
    "pd2[\"altura\"]=pd2[\"caracteristicas\"].apply(lambda x: x[\"height\"])\n",
    "pd2[\"id\"]=pd2[\"caracteristicas\"].apply(lambda x: x[\"id\"])\n",
    "pd2[\"order\"]=pd2[\"caracteristicas\"].apply(lambda x: x[\"order\"])\n",
    "pd2[\"peso\"]=pd2[\"caracteristicas\"].apply(lambda x: x[\"weight\"])\n",
    "pd2[\"type\"]=pd2[\"caracteristicas\"].apply(lambda x: x[\"types\"])\n",
    "pd2\n"
   ]
  },
  {
   "source": [
    "### Ejercicio 2\n",
    "\n",
    "¿Has visto que dentro del DataFrame la columna \"types\" hay diccionarios? Se pide agregar, por cada pokemon, las columnas necesarias al DataFrame para albergar toda la información de \"types\" (solo las keys)"
   ],
   "cell_type": "markdown",
   "metadata": {}
  },
  {
   "cell_type": "code",
   "execution_count": 80,
   "metadata": {},
   "outputs": [
    {
     "output_type": "execute_result",
     "data": {
      "text/plain": [
       "'fire'"
      ]
     },
     "metadata": {},
     "execution_count": 80
    }
   ],
   "source": [
    "pd2[\"type\"][i][0][\"type\"][\"name\"]"
   ]
  },
  {
   "cell_type": "code",
   "execution_count": null,
   "metadata": {},
   "outputs": [],
   "source": [
    "pd2[\"type\"][i][0][\"type\"][\"name\"] + pd2[\"type\"][i][1][\"type\"][\"name\"]"
   ]
  },
  {
   "cell_type": "code",
   "execution_count": 87,
   "metadata": {},
   "outputs": [
    {
     "output_type": "execute_result",
     "data": {
      "text/plain": [
       "['grass poison',\n",
       " 'grass poison',\n",
       " 'grass poison',\n",
       " 'fire',\n",
       " 'fire',\n",
       " 'fire flying',\n",
       " 'water',\n",
       " 'water',\n",
       " 'water',\n",
       " 'bug',\n",
       " 'bug',\n",
       " 'bug flying',\n",
       " 'bug poison',\n",
       " 'bug poison',\n",
       " 'bug poison',\n",
       " 'normal flying',\n",
       " 'normal flying',\n",
       " 'normal flying',\n",
       " 'normal',\n",
       " 'normal']"
      ]
     },
     "metadata": {},
     "execution_count": 87
    }
   ],
   "source": [
    "lista=[]\n",
    "for i in range(len(pd2)):\n",
    "    if len(pd2[\"type\"][i])==1:\n",
    "        lista.append(pd2[\"type\"][i][0][\"type\"][\"name\"])\n",
    "    elif len(pd2[\"type\"][i]) != 1:\n",
    "        lista.append(pd2[\"type\"][i][0][\"type\"][\"name\"] +\" \" + pd2[\"type\"][i][1][\"type\"][\"name\"])\n",
    "lista\n",
    "\n",
    "\n",
    "\n",
    "\n",
    "\n",
    "\n"
   ]
  },
  {
   "cell_type": "code",
   "execution_count": 88,
   "metadata": {},
   "outputs": [
    {
     "output_type": "execute_result",
     "data": {
      "text/plain": [
       "          name                                    url  \\\n",
       "0    bulbasaur   https://pokeapi.co/api/v2/pokemon/1/   \n",
       "1      ivysaur   https://pokeapi.co/api/v2/pokemon/2/   \n",
       "2     venusaur   https://pokeapi.co/api/v2/pokemon/3/   \n",
       "3   charmander   https://pokeapi.co/api/v2/pokemon/4/   \n",
       "4   charmeleon   https://pokeapi.co/api/v2/pokemon/5/   \n",
       "5    charizard   https://pokeapi.co/api/v2/pokemon/6/   \n",
       "6     squirtle   https://pokeapi.co/api/v2/pokemon/7/   \n",
       "7    wartortle   https://pokeapi.co/api/v2/pokemon/8/   \n",
       "8    blastoise   https://pokeapi.co/api/v2/pokemon/9/   \n",
       "9     caterpie  https://pokeapi.co/api/v2/pokemon/10/   \n",
       "10     metapod  https://pokeapi.co/api/v2/pokemon/11/   \n",
       "11  butterfree  https://pokeapi.co/api/v2/pokemon/12/   \n",
       "12      weedle  https://pokeapi.co/api/v2/pokemon/13/   \n",
       "13      kakuna  https://pokeapi.co/api/v2/pokemon/14/   \n",
       "14    beedrill  https://pokeapi.co/api/v2/pokemon/15/   \n",
       "15      pidgey  https://pokeapi.co/api/v2/pokemon/16/   \n",
       "16   pidgeotto  https://pokeapi.co/api/v2/pokemon/17/   \n",
       "17     pidgeot  https://pokeapi.co/api/v2/pokemon/18/   \n",
       "18     rattata  https://pokeapi.co/api/v2/pokemon/19/   \n",
       "19    raticate  https://pokeapi.co/api/v2/pokemon/20/   \n",
       "\n",
       "                                      caracteristicas  altura  id  order  \\\n",
       "0   {'abilities': [{'ability': {'name': 'overgrow'...       7   1      1   \n",
       "1   {'abilities': [{'ability': {'name': 'overgrow'...      10   2      2   \n",
       "2   {'abilities': [{'ability': {'name': 'overgrow'...      20   3      3   \n",
       "3   {'abilities': [{'ability': {'name': 'blaze', '...       6   4      5   \n",
       "4   {'abilities': [{'ability': {'name': 'blaze', '...      11   5      6   \n",
       "5   {'abilities': [{'ability': {'name': 'blaze', '...      17   6      7   \n",
       "6   {'abilities': [{'ability': {'name': 'torrent',...       5   7     10   \n",
       "7   {'abilities': [{'ability': {'name': 'torrent',...      10   8     11   \n",
       "8   {'abilities': [{'ability': {'name': 'torrent',...      16   9     12   \n",
       "9   {'abilities': [{'ability': {'name': 'shield-du...       3  10     14   \n",
       "10  {'abilities': [{'ability': {'name': 'shed-skin...       7  11     15   \n",
       "11  {'abilities': [{'ability': {'name': 'compound-...      11  12     16   \n",
       "12  {'abilities': [{'ability': {'name': 'shield-du...       3  13     17   \n",
       "13  {'abilities': [{'ability': {'name': 'shed-skin...       6  14     18   \n",
       "14  {'abilities': [{'ability': {'name': 'swarm', '...      10  15     19   \n",
       "15  {'abilities': [{'ability': {'name': 'keen-eye'...       3  16     21   \n",
       "16  {'abilities': [{'ability': {'name': 'keen-eye'...      11  17     22   \n",
       "17  {'abilities': [{'ability': {'name': 'keen-eye'...      15  18     23   \n",
       "18  {'abilities': [{'ability': {'name': 'run-away'...       3  19     25   \n",
       "19  {'abilities': [{'ability': {'name': 'run-away'...       7  20     27   \n",
       "\n",
       "    peso           tipo                                               type  \n",
       "0     69   grass poison  [{'slot': 1, 'type': {'name': 'grass', 'url': ...  \n",
       "1    130   grass poison  [{'slot': 1, 'type': {'name': 'grass', 'url': ...  \n",
       "2   1000   grass poison  [{'slot': 1, 'type': {'name': 'grass', 'url': ...  \n",
       "3     85           fire  [{'slot': 1, 'type': {'name': 'fire', 'url': '...  \n",
       "4    190           fire  [{'slot': 1, 'type': {'name': 'fire', 'url': '...  \n",
       "5    905    fire flying  [{'slot': 1, 'type': {'name': 'fire', 'url': '...  \n",
       "6     90          water  [{'slot': 1, 'type': {'name': 'water', 'url': ...  \n",
       "7    225          water  [{'slot': 1, 'type': {'name': 'water', 'url': ...  \n",
       "8    855          water  [{'slot': 1, 'type': {'name': 'water', 'url': ...  \n",
       "9     29            bug  [{'slot': 1, 'type': {'name': 'bug', 'url': 'h...  \n",
       "10    99            bug  [{'slot': 1, 'type': {'name': 'bug', 'url': 'h...  \n",
       "11   320     bug flying  [{'slot': 1, 'type': {'name': 'bug', 'url': 'h...  \n",
       "12    32     bug poison  [{'slot': 1, 'type': {'name': 'bug', 'url': 'h...  \n",
       "13   100     bug poison  [{'slot': 1, 'type': {'name': 'bug', 'url': 'h...  \n",
       "14   295     bug poison  [{'slot': 1, 'type': {'name': 'bug', 'url': 'h...  \n",
       "15    18  normal flying  [{'slot': 1, 'type': {'name': 'normal', 'url':...  \n",
       "16   300  normal flying  [{'slot': 1, 'type': {'name': 'normal', 'url':...  \n",
       "17   395  normal flying  [{'slot': 1, 'type': {'name': 'normal', 'url':...  \n",
       "18    35         normal  [{'slot': 1, 'type': {'name': 'normal', 'url':...  \n",
       "19   185         normal  [{'slot': 1, 'type': {'name': 'normal', 'url':...  "
      ],
      "text/html": "<div>\n<style scoped>\n    .dataframe tbody tr th:only-of-type {\n        vertical-align: middle;\n    }\n\n    .dataframe tbody tr th {\n        vertical-align: top;\n    }\n\n    .dataframe thead th {\n        text-align: right;\n    }\n</style>\n<table border=\"1\" class=\"dataframe\">\n  <thead>\n    <tr style=\"text-align: right;\">\n      <th></th>\n      <th>name</th>\n      <th>url</th>\n      <th>caracteristicas</th>\n      <th>altura</th>\n      <th>id</th>\n      <th>order</th>\n      <th>peso</th>\n      <th>tipo</th>\n      <th>type</th>\n    </tr>\n  </thead>\n  <tbody>\n    <tr>\n      <th>0</th>\n      <td>bulbasaur</td>\n      <td>https://pokeapi.co/api/v2/pokemon/1/</td>\n      <td>{'abilities': [{'ability': {'name': 'overgrow'...</td>\n      <td>7</td>\n      <td>1</td>\n      <td>1</td>\n      <td>69</td>\n      <td>grass poison</td>\n      <td>[{'slot': 1, 'type': {'name': 'grass', 'url': ...</td>\n    </tr>\n    <tr>\n      <th>1</th>\n      <td>ivysaur</td>\n      <td>https://pokeapi.co/api/v2/pokemon/2/</td>\n      <td>{'abilities': [{'ability': {'name': 'overgrow'...</td>\n      <td>10</td>\n      <td>2</td>\n      <td>2</td>\n      <td>130</td>\n      <td>grass poison</td>\n      <td>[{'slot': 1, 'type': {'name': 'grass', 'url': ...</td>\n    </tr>\n    <tr>\n      <th>2</th>\n      <td>venusaur</td>\n      <td>https://pokeapi.co/api/v2/pokemon/3/</td>\n      <td>{'abilities': [{'ability': {'name': 'overgrow'...</td>\n      <td>20</td>\n      <td>3</td>\n      <td>3</td>\n      <td>1000</td>\n      <td>grass poison</td>\n      <td>[{'slot': 1, 'type': {'name': 'grass', 'url': ...</td>\n    </tr>\n    <tr>\n      <th>3</th>\n      <td>charmander</td>\n      <td>https://pokeapi.co/api/v2/pokemon/4/</td>\n      <td>{'abilities': [{'ability': {'name': 'blaze', '...</td>\n      <td>6</td>\n      <td>4</td>\n      <td>5</td>\n      <td>85</td>\n      <td>fire</td>\n      <td>[{'slot': 1, 'type': {'name': 'fire', 'url': '...</td>\n    </tr>\n    <tr>\n      <th>4</th>\n      <td>charmeleon</td>\n      <td>https://pokeapi.co/api/v2/pokemon/5/</td>\n      <td>{'abilities': [{'ability': {'name': 'blaze', '...</td>\n      <td>11</td>\n      <td>5</td>\n      <td>6</td>\n      <td>190</td>\n      <td>fire</td>\n      <td>[{'slot': 1, 'type': {'name': 'fire', 'url': '...</td>\n    </tr>\n    <tr>\n      <th>5</th>\n      <td>charizard</td>\n      <td>https://pokeapi.co/api/v2/pokemon/6/</td>\n      <td>{'abilities': [{'ability': {'name': 'blaze', '...</td>\n      <td>17</td>\n      <td>6</td>\n      <td>7</td>\n      <td>905</td>\n      <td>fire flying</td>\n      <td>[{'slot': 1, 'type': {'name': 'fire', 'url': '...</td>\n    </tr>\n    <tr>\n      <th>6</th>\n      <td>squirtle</td>\n      <td>https://pokeapi.co/api/v2/pokemon/7/</td>\n      <td>{'abilities': [{'ability': {'name': 'torrent',...</td>\n      <td>5</td>\n      <td>7</td>\n      <td>10</td>\n      <td>90</td>\n      <td>water</td>\n      <td>[{'slot': 1, 'type': {'name': 'water', 'url': ...</td>\n    </tr>\n    <tr>\n      <th>7</th>\n      <td>wartortle</td>\n      <td>https://pokeapi.co/api/v2/pokemon/8/</td>\n      <td>{'abilities': [{'ability': {'name': 'torrent',...</td>\n      <td>10</td>\n      <td>8</td>\n      <td>11</td>\n      <td>225</td>\n      <td>water</td>\n      <td>[{'slot': 1, 'type': {'name': 'water', 'url': ...</td>\n    </tr>\n    <tr>\n      <th>8</th>\n      <td>blastoise</td>\n      <td>https://pokeapi.co/api/v2/pokemon/9/</td>\n      <td>{'abilities': [{'ability': {'name': 'torrent',...</td>\n      <td>16</td>\n      <td>9</td>\n      <td>12</td>\n      <td>855</td>\n      <td>water</td>\n      <td>[{'slot': 1, 'type': {'name': 'water', 'url': ...</td>\n    </tr>\n    <tr>\n      <th>9</th>\n      <td>caterpie</td>\n      <td>https://pokeapi.co/api/v2/pokemon/10/</td>\n      <td>{'abilities': [{'ability': {'name': 'shield-du...</td>\n      <td>3</td>\n      <td>10</td>\n      <td>14</td>\n      <td>29</td>\n      <td>bug</td>\n      <td>[{'slot': 1, 'type': {'name': 'bug', 'url': 'h...</td>\n    </tr>\n    <tr>\n      <th>10</th>\n      <td>metapod</td>\n      <td>https://pokeapi.co/api/v2/pokemon/11/</td>\n      <td>{'abilities': [{'ability': {'name': 'shed-skin...</td>\n      <td>7</td>\n      <td>11</td>\n      <td>15</td>\n      <td>99</td>\n      <td>bug</td>\n      <td>[{'slot': 1, 'type': {'name': 'bug', 'url': 'h...</td>\n    </tr>\n    <tr>\n      <th>11</th>\n      <td>butterfree</td>\n      <td>https://pokeapi.co/api/v2/pokemon/12/</td>\n      <td>{'abilities': [{'ability': {'name': 'compound-...</td>\n      <td>11</td>\n      <td>12</td>\n      <td>16</td>\n      <td>320</td>\n      <td>bug flying</td>\n      <td>[{'slot': 1, 'type': {'name': 'bug', 'url': 'h...</td>\n    </tr>\n    <tr>\n      <th>12</th>\n      <td>weedle</td>\n      <td>https://pokeapi.co/api/v2/pokemon/13/</td>\n      <td>{'abilities': [{'ability': {'name': 'shield-du...</td>\n      <td>3</td>\n      <td>13</td>\n      <td>17</td>\n      <td>32</td>\n      <td>bug poison</td>\n      <td>[{'slot': 1, 'type': {'name': 'bug', 'url': 'h...</td>\n    </tr>\n    <tr>\n      <th>13</th>\n      <td>kakuna</td>\n      <td>https://pokeapi.co/api/v2/pokemon/14/</td>\n      <td>{'abilities': [{'ability': {'name': 'shed-skin...</td>\n      <td>6</td>\n      <td>14</td>\n      <td>18</td>\n      <td>100</td>\n      <td>bug poison</td>\n      <td>[{'slot': 1, 'type': {'name': 'bug', 'url': 'h...</td>\n    </tr>\n    <tr>\n      <th>14</th>\n      <td>beedrill</td>\n      <td>https://pokeapi.co/api/v2/pokemon/15/</td>\n      <td>{'abilities': [{'ability': {'name': 'swarm', '...</td>\n      <td>10</td>\n      <td>15</td>\n      <td>19</td>\n      <td>295</td>\n      <td>bug poison</td>\n      <td>[{'slot': 1, 'type': {'name': 'bug', 'url': 'h...</td>\n    </tr>\n    <tr>\n      <th>15</th>\n      <td>pidgey</td>\n      <td>https://pokeapi.co/api/v2/pokemon/16/</td>\n      <td>{'abilities': [{'ability': {'name': 'keen-eye'...</td>\n      <td>3</td>\n      <td>16</td>\n      <td>21</td>\n      <td>18</td>\n      <td>normal flying</td>\n      <td>[{'slot': 1, 'type': {'name': 'normal', 'url':...</td>\n    </tr>\n    <tr>\n      <th>16</th>\n      <td>pidgeotto</td>\n      <td>https://pokeapi.co/api/v2/pokemon/17/</td>\n      <td>{'abilities': [{'ability': {'name': 'keen-eye'...</td>\n      <td>11</td>\n      <td>17</td>\n      <td>22</td>\n      <td>300</td>\n      <td>normal flying</td>\n      <td>[{'slot': 1, 'type': {'name': 'normal', 'url':...</td>\n    </tr>\n    <tr>\n      <th>17</th>\n      <td>pidgeot</td>\n      <td>https://pokeapi.co/api/v2/pokemon/18/</td>\n      <td>{'abilities': [{'ability': {'name': 'keen-eye'...</td>\n      <td>15</td>\n      <td>18</td>\n      <td>23</td>\n      <td>395</td>\n      <td>normal flying</td>\n      <td>[{'slot': 1, 'type': {'name': 'normal', 'url':...</td>\n    </tr>\n    <tr>\n      <th>18</th>\n      <td>rattata</td>\n      <td>https://pokeapi.co/api/v2/pokemon/19/</td>\n      <td>{'abilities': [{'ability': {'name': 'run-away'...</td>\n      <td>3</td>\n      <td>19</td>\n      <td>25</td>\n      <td>35</td>\n      <td>normal</td>\n      <td>[{'slot': 1, 'type': {'name': 'normal', 'url':...</td>\n    </tr>\n    <tr>\n      <th>19</th>\n      <td>raticate</td>\n      <td>https://pokeapi.co/api/v2/pokemon/20/</td>\n      <td>{'abilities': [{'ability': {'name': 'run-away'...</td>\n      <td>7</td>\n      <td>20</td>\n      <td>27</td>\n      <td>185</td>\n      <td>normal</td>\n      <td>[{'slot': 1, 'type': {'name': 'normal', 'url':...</td>\n    </tr>\n  </tbody>\n</table>\n</div>"
     },
     "metadata": {},
     "execution_count": 88
    }
   ],
   "source": [
    "pd2[\"tipo\"]=lista\n",
    "pd2"
   ]
  },
  {
   "cell_type": "code",
   "execution_count": null,
   "metadata": {},
   "outputs": [],
   "source": []
  }
 ]
}