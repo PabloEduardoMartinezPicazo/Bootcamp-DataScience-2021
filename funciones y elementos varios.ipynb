{
 "metadata": {
  "language_info": {
   "codemirror_mode": {
    "name": "ipython",
    "version": 3
   },
   "file_extension": ".py",
   "mimetype": "text/x-python",
   "name": "python",
   "nbconvert_exporter": "python",
   "pygments_lexer": "ipython3",
   "version": "3.7.4"
  },
  "orig_nbformat": 2,
  "kernelspec": {
   "name": "python374jvsc74a57bd07945e9a82d7512fbf96246d9bbc29cd2f106c1a4a9cf54c9563dadf10f2237d4",
   "display_name": "Python 3.7.4 64-bit"
  },
  "metadata": {
   "interpreter": {
    "hash": "7945e9a82d7512fbf96246d9bbc29cd2f106c1a4a9cf54c9563dadf10f2237d4"
   }
  }
 },
 "nbformat": 4,
 "nbformat_minor": 2,
 "cells": [
  {
   "cell_type": "code",
   "execution_count": 3,
   "metadata": {},
   "outputs": [],
   "source": [
    "#***VAMOS A REPASAR TODO LO QUE HEMOS DADO primero elementos "
   ]
  },
  {
   "cell_type": "code",
   "execution_count": null,
   "metadata": {},
   "outputs": [],
   "source": [
    "#TIPOS DE ELEMENTOS:\n",
    "#1. str,int,float,none,boolean\n",
    "#2. colecciones: conjuntos(set) , cadenas(string), listas, tuplas y diccionarios"
   ]
  },
  {
   "cell_type": "code",
   "execution_count": 6,
   "metadata": {},
   "outputs": [
    {
     "output_type": "execute_result",
     "data": {
      "text/plain": [
       "str"
      ]
     },
     "metadata": {},
     "execution_count": 6
    }
   ],
   "source": [
    "#1.1 str letras, numeros siempre con comillas\"\"\n",
    "type(\"a\")\n"
   ]
  },
  {
   "cell_type": "code",
   "execution_count": 7,
   "metadata": {},
   "outputs": [
    {
     "output_type": "execute_result",
     "data": {
      "text/plain": [
       "int"
      ]
     },
     "metadata": {},
     "execution_count": 7
    }
   ],
   "source": [
    "#1.2 int numeros SIN punto\n",
    "type(2)"
   ]
  },
  {
   "cell_type": "code",
   "execution_count": 8,
   "metadata": {},
   "outputs": [
    {
     "output_type": "execute_result",
     "data": {
      "text/plain": [
       "float"
      ]
     },
     "metadata": {},
     "execution_count": 8
    }
   ],
   "source": [
    "#1.3 float numeros CON PUNTO decimales\n",
    "type(2.2)"
   ]
  },
  {
   "cell_type": "code",
   "execution_count": 9,
   "metadata": {},
   "outputs": [
    {
     "output_type": "execute_result",
     "data": {
      "text/plain": [
       "NoneType"
      ]
     },
     "metadata": {},
     "execution_count": 9
    }
   ],
   "source": [
    "#1.4 none representa la nada \n",
    "type(None)"
   ]
  },
  {
   "cell_type": "code",
   "execution_count": 10,
   "metadata": {},
   "outputs": [
    {
     "output_type": "execute_result",
     "data": {
      "text/plain": [
       "bool"
      ]
     },
     "metadata": {},
     "execution_count": 10
    }
   ],
   "source": [
    "#1.5 valores de true o false\n",
    "type(True)"
   ]
  },
  {
   "cell_type": "code",
   "execution_count": null,
   "metadata": {},
   "outputs": [],
   "source": []
  },
  {
   "cell_type": "code",
   "execution_count": 11,
   "metadata": {},
   "outputs": [
    {
     "output_type": "execute_result",
     "data": {
      "text/plain": [
       "list"
      ]
     },
     "metadata": {},
     "execution_count": 11
    }
   ],
   "source": [
    "#2.1 listas se representan con [] permiten cambiar la longitud y los valores de dentro\n",
    "type([2])"
   ]
  },
  {
   "cell_type": "code",
   "execution_count": null,
   "metadata": {},
   "outputs": [],
   "source": [
    "#2.1 tuplas () son inmutables no pueden cambiar su longitud ni el numero de elementos. permiten modificar otros elemetnos mutables que contengan dentro como listas, diccionarios etc.\n",
    "# para cambiar elementos en una tupla de sus elementos principales hay que pasarlo primero a lista para usar funciones como .append o .remove siempre que no se quieran modificar elementos mutables interiores"
   ]
  },
  {
   "cell_type": "code",
   "execution_count": 17,
   "metadata": {},
   "outputs": [
    {
     "output_type": "stream",
     "name": "stdout",
     "text": [
      "f\ng\n[1, 'asdf']\n"
     ]
    }
   ],
   "source": [
    "#para acceder a las posiciones de una lista, tupla etc se tiene que indicar el la posicion que se quiere recorrer y luego si hay un conjunto, el elemento que se quiere recorrer ejemplo:\n",
    "lista=[1,\"asdf\",[3,\"5dgf\"],False]\n",
    "print(lista[1][3])\n",
    "print(lista[2][1][2])\n",
    "# Para acceder a varios elementos, se especifica con la nomenclatura \"[N:M]\". N es el primer elemento a obtener, M es el último elemento a obtener pero no incluido. Ejemplo: \n",
    "print(lista[0:2])\n",
    "\n",
    "# Si M no tiene ningún valor, se obtiene desde N hasta el final. [N:]\n",
    "# Si N no tiene ningún valor, es desde el principio de la colección hasta M [:M]"
   ]
  },
  {
   "cell_type": "code",
   "execution_count": null,
   "metadata": {},
   "outputs": [],
   "source": [
    "# anexo importante, en jupyter, la ultima linea la ejecuta y printea tal cual es decir cogeria y mostraria el valor "
   ]
  },
  {
   "cell_type": "code",
   "execution_count": null,
   "metadata": {},
   "outputs": [],
   "source": [
    "#2.2 conjuntos: son mutables sirven para eliminar elementos repetidos. para representar un conjunto se usan las llaves {} para un conjunto de un elemento {1,}  si o si hay que usar la funcion set para hacer un conjunto lista=set(lista)\n",
    "#CONJUNTOS VACIOS\n",
    "lista=[]\n",
    "tupla=() #recordar que si usamos un unico elemento en una tupla hay que escribir el elemento y la coma xq si no era un numero entero\n",
    "string=\"\"\n",
    "conjunto=set() #asi se inicia un conjunto\n",
    "diccionario={}#asi se inicia un diccionario"
   ]
  },
  {
   "cell_type": "code",
   "execution_count": null,
   "metadata": {},
   "outputs": [],
   "source": [
    "\"\"\"1. Funcion type() representa el tipo de la variable o elemento que se este metiendo en ella: hay que asignarle en los parentesis un valor si no da error \"\"\""
   ]
  },
  {
   "cell_type": "code",
   "execution_count": null,
   "metadata": {},
   "outputs": [],
   "source": [
    "\"\"\"2. Funcion print() imprime el valor de la operacion que se haya realizado \"\"\""
   ]
  },
  {
   "cell_type": "code",
   "execution_count": null,
   "metadata": {},
   "outputs": [],
   "source": [
    "\"\"\"3. Funcion sum: para sumar dos elementos "
   ]
  },
  {
   "cell_type": "code",
   "execution_count": null,
   "metadata": {},
   "outputs": [],
   "source": [
    "\"\"\" 4. funciones str() int() list() tuple() float() sirve para cambiar una variable de un tipo a otra nota si se transforma una variable float en int se le quitan los decimales"
   ]
  },
  {
   "cell_type": "code",
   "execution_count": null,
   "metadata": {},
   "outputs": [],
   "source": [
    "\"\"\" 5. x+=numero sirve para sumar 1 a algo, x-= para restar  x*= multiplicar x**= exponencial"
   ]
  },
  {
   "cell_type": "code",
   "execution_count": null,
   "metadata": {},
   "outputs": [],
   "source": [
    "\"\"\" 6.numero % x resto sirve para ver el resto de una opreacion. se suele usar para ver numeros-posciones pares, impares etc \n",
    "numero % 2  # Si el resto es 0, el número es par. Sino, impar.\n",
    "# El 3 es divisor de 'numero' si el resultado del módulo da 0 "
   ]
  },
  {
   "cell_type": "code",
   "execution_count": null,
   "metadata": {},
   "outputs": [],
   "source": [
    "\"\"\" funcion imput() sirve para asignar valores str a un usuario se puede cambiar a int poniendo un int antes int(imput()) tb a float float(imput())\"\"\" #PARA ESTAS COSAS MIRAR ARCHIVO PYTHON_BASIC DENTRO DE LA CARPETA DE PYTHON EN EL INDICE ESTA Todo bastante descrito "
   ]
  },
  {
   "cell_type": "code",
   "execution_count": null,
   "metadata": {},
   "outputs": [],
   "source": [
    "\"\"\" funcion len() sirve para calcular  la longitud de alguna coleccion para mostrarla hay que ponerle delante el print(len(x))\"\"\"#PARA ESTAS COSAS MIRAR ARCHIVO PYTHON_BASIC DENTRO DE LA CARPETA DE PYTHON EN EL INDICE ESTA Todo bastante descrito "
   ]
  },
  {
   "cell_type": "code",
   "execution_count": null,
   "metadata": {},
   "outputs": [],
   "source": [
    "\"\"\" funcion: .append() sirve para agregar elementos. Se tiene que indicar donde se quiere agregar ejemplo lista=[1,2] lista.append([2,\"asd\"]) -> se puede indicar en que posicion se quiere agregar -> lista[0].append(\"a\")\"\"\"\n",
    "#PARA ESTAS COSAS MIRAR ARCHIVO PYTHON_BASIC DENTRO DE LA CARPETA DE PYTHON EN EL INDICE ESTA Todo bastante descrito "
   ]
  },
  {
   "cell_type": "code",
   "execution_count": null,
   "metadata": {},
   "outputs": [],
   "source": [
    "\"\"\"funcion: .remove() elimina el primer elemento que se encuentra que coincide con el valor del argumento  Se tiene que indicar donde se quiere eliminar  el pop elimina por posicion y remove por el primer valor\"\"\"\n",
    "#PARA ESTAS COSAS MIRAR ARCHIVO PYTHON_BASIC DENTRO DE LA CARPETA DE PYTHON EN EL INDICE ESTA Todo bastante descrito "
   ]
  },
  {
   "cell_type": "code",
   "execution_count": null,
   "metadata": {},
   "outputs": [],
   "source": [
    "\"\"\" funcion: .reverse() da la vuelta a los elementos de una lista -> similar a hacer lista= lista [::-1]\"\"\"\n",
    "#PARA ESTAS COSAS MIRAR ARCHIVO PYTHON_BASIC DENTRO DE LA CARPETA DE PYTHON EN EL INDICE ESTA Todo bastante descrito "
   ]
  },
  {
   "cell_type": "code",
   "execution_count": null,
   "metadata": {},
   "outputs": [],
   "source": [
    "\"\"\" funcion .insert(poscion, variable/valor) sirve para meter valres en una lista en una posicion concreta\"\"\"\n",
    "#PARA ESTAS COSAS MIRAR ARCHIVO PYTHON_BASIC DENTRO DE LA CARPETA DE PYTHON EN EL INDICE ESTA Todo bastante descrito "
   ]
  },
  {
   "cell_type": "code",
   "execution_count": null,
   "metadata": {},
   "outputs": [],
   "source": [
    "\"\"\" funcion .upper \n",
    "funcion .lower para mayusculas y minusculas en un string"
   ]
  },
  {
   "cell_type": "code",
   "execution_count": null,
   "metadata": {},
   "outputs": [],
   "source": [
    "\"\"\" funcion .replace() se indica que se quiere reemplazar es de dos argumentos, el que tienes y el nuevo argumento"
   ]
  },
  {
   "cell_type": "code",
   "execution_count": null,
   "metadata": {},
   "outputs": [],
   "source": [
    "#condiciones\n",
    "# if -> abre una condicion\n",
    "# elif -> no es necesaria que es pero puede haber tantas como queramos se ejecuta/ si el if y otros posibles elif no se ejecutan \n",
    "# else -> no es necesario que este maximo uno se ejecutan cuando todo lo demas no\n",
    "#el if siempre muestra un true o false, si es true sigue leyendo si es false para de leer \n"
   ]
  },
  {
   "cell_type": "code",
   "execution_count": null,
   "metadata": {},
   "outputs": [],
   "source": [
    "#los elementos que son falsos para python son\n",
    "#0(cero)\n",
    "#conjuntos vacios ()[]{}\"\" sets vacios\n",
    "#el false tambien\n",
    "#cualquier otro valor que metas va a reconocerlo como true"
   ]
  },
  {
   "cell_type": "code",
   "execution_count": null,
   "metadata": {},
   "outputs": [],
   "source": [
    "\"\"\" funcion and y or and tiene mas preferencia que el or. por ejemplo \n",
    "si and se usa en un if significa que ambas condicions han de cumplirse para seguir leyendo el codigo, un or es que al menos una de las dos se cumpla\n"
   ]
  },
  {
   "cell_type": "code",
   "execution_count": null,
   "metadata": {},
   "outputs": [],
   "source": [
    "\"\"\" funcion in sirve para indicar un valor que este dentro de una variable if \"agua in liquidos: "
   ]
  },
  {
   "cell_type": "code",
   "execution_count": null,
   "metadata": {},
   "outputs": [],
   "source": [
    "\"\"\" == representa un igual a ese valor y no una asignacion de variable != significa que no es igual a un valor concreto"
   ]
  },
  {
   "cell_type": "code",
   "execution_count": null,
   "metadata": {},
   "outputs": [],
   "source": [
    "\"\"\" la funcion not sirve para representar que el valor de algo es el contrario a lo que se indica not de true por ejemplo significaria false"
   ]
  },
  {
   "cell_type": "code",
   "execution_count": null,
   "metadata": {},
   "outputs": [],
   "source": [
    "#loop for  sirve para recorrer algun elemento de manera continua hasta que se acabe ese elemento. ese elemento puede ser un valor, on conjunto, una funcion etc cuando acaba de recorrerlo para \n",
    "# for es como recorre una coleccion el programa lo lee como que la x es cada uno de los valores. Ejemplo for x in lista: x va a coger cada uno de los valores de la lista  y lo printea ya que le hemos dicho que lo printee  luego coge el siguiente y asi. no tiene porque llamarse x puede llamarse como quieras cada uno de los valores \n"
   ]
  },
  {
   "cell_type": "code",
   "execution_count": null,
   "metadata": {},
   "outputs": [],
   "source": [
    "\"\"\" funcion isinstance (variable, tipo de elemento/s) -> tipo de elementos si son varios separados con comas. isinstance sirve para comprobar mas de variable  por ejemplo si es int o float se pone asi:\r\n",
    "isinstance(x(int,float)) SIEMPRE ponerlo primero si hay que comprobar algun tipo de variable para luego hacer algo mas "
   ]
  },
  {
   "cell_type": "code",
   "execution_count": null,
   "metadata": {},
   "outputs": [],
   "source": [
    "\"\"\" funcion range () #range recorre posiciones de la lista\n",
    "#  se usa mucho en for para calcular cosas en vez de valor x posiciones "
   ]
  },
  {
   "cell_type": "code",
   "execution_count": 20,
   "metadata": {},
   "outputs": [
    {
     "output_type": "stream",
     "name": "stdout",
     "text": [
      "[0, 2, 4, 6, 8, 10, 12, 14, 16, 18]\n"
     ]
    }
   ],
   "source": [
    "\"\"\" funcion star stop step de range sirve muchas veces para crear listas con numeros definidos por un recorrido y como va a ser ese recorrido (los steps) si queremos una lista con solo las posiciones pares del rango por ejemplo:\n",
    "\"\"\"\n",
    "print(list(range(0,20,2))) "
   ]
  },
  {
   "cell_type": "code",
   "execution_count": null,
   "metadata": {},
   "outputs": [],
   "source": [
    "# cuando se trabaja con rangos con el for for i in range(len(Lsita_listas)): #longitud de la lista son las posiciones  se suele expresar asi para indicar el maximo que tiene que recorrer que es igual a la longitud del rango de la lista "
   ]
  },
  {
   "cell_type": "code",
   "execution_count": 21,
   "metadata": {},
   "outputs": [
    {
     "output_type": "stream",
     "name": "stdout",
     "text": [
      "4\ns2\n7\n3\n"
     ]
    }
   ],
   "source": [
    "#EJEMPLO LISTAS-FOR-IF\n",
    "lista= [4,5,\"s2\",\"h1\",7, [\"xs\"],\"3\",[]] \n",
    "#1.mostrar los elementos en posiciones pares\n",
    "#2.si el elemento que se ha mostrado es par. y ese elemento es string mostrar a la segunda posicion \n",
    "#3.si es lista, mostrar l primer elemento si tiene\n",
    "#4. mostrar si o si el quinto elemento (posicion 4) (una vez)\n",
    "# recorrer lista -> for y enumerate porque te pide valor y rango\n",
    "for i in range(len(lista)):\n",
    "    if i%2==0:\n",
    "        print(lista[i])"
   ]
  },
  {
   "cell_type": "code",
   "execution_count": 34,
   "metadata": {},
   "outputs": [
    {
     "output_type": "stream",
     "name": "stdout",
     "text": [
      "4\ns2\n2\n7\n3\n7\n"
     ]
    }
   ],
   "source": [
    "for i in range(len(lista)):\n",
    "    if i%2==0:\n",
    "        print(lista[i])\n",
    "        if isinstance(lista[i],str) and len(lista[i])>=2:\n",
    "            print(lista[i][1])\n",
    "        elif isinstance(lista[i],list) and len(lista[i])>0:\n",
    "            print(lista[i][0]) #esto no lo esta printando\n",
    "print(lista[4])\n"
   ]
  },
  {
   "cell_type": "code",
   "execution_count": null,
   "metadata": {},
   "outputs": [],
   "source": [
    "\"\"\" funcion enumerate. como hemos visto antes se pueden utilizar rangos o valores  enumerate sirve para usar ambos a la vez \"\"\"\n",
    "lista=[\"x\",\"y\",\"z\"]\n",
    "for t in enumerate(lista): #con enumerate si solo se pone una variable, se muestra las dos variables juntas en una tupla, posicion y valor\n",
    "    print(type(y))\n",
    "    print(t)\n",
    "    #solucion <class 'int'>\n",
    "    # (0, 'x')\n",
    "    # <class 'int'>\n",
    "    # (1, 'y')\n",
    "    # <class 'int'>\n",
    "    # (2, 'z')"
   ]
  },
  {
   "cell_type": "code",
   "execution_count": 27,
   "metadata": {},
   "outputs": [
    {
     "output_type": "stream",
     "name": "stdout",
     "text": [
      "xs\n"
     ]
    }
   ],
   "source": [
    "# con la funcion enumerate se podria hacer similar pero en vez de posiciones solo se podria hacer con posciones o con variables \n",
    "    "
   ]
  },
  {
   "cell_type": "code",
   "execution_count": null,
   "metadata": {},
   "outputs": [],
   "source": [
    "##FUNCIONES: \n",
    "# #para crear funciones seria de lasiguiente manera:\n",
    "#def nombre_de_la_funcion():\n",
    "#lo que pase en la funcion se queda en la funcion es decir todas las variables externas no la afectan salvo que la parametricemos con los parametros que les asignemos en el parentesis de la definicion. Ejemplo simple de funcion\n",
    "def suma_con_parametros(nombre_parametro):\n",
    "    print(5+ nombre_parametro)\n",
    "suma_con_parametros(nombre_parametro=4) #recordar ultima linea te va a mostrar el printeo de ejecutar la funcion\n",
    "#una funcion puede tener mas de un parametro, ya sean listas, variables, valores otras funciones etc \n",
    "\n",
    "#FUNCIONES RETURN VS PRINT\n",
    "# El return lo almacena o bien en la propia funcion o en una variable que se le asigne\n",
    "#el print de esa variable o de una funcion retorna el valor guardado en return \n",
    "#cuando se le asigna una variable a una funcion y se ejecuta muestra el print de la funcion\n"
   ]
  },
  {
   "cell_type": "code",
   "execution_count": null,
   "metadata": {},
   "outputs": [],
   "source": [
    "#crear documentacion sirve para explicar cosas en proyectos grupales, o para tu yo del futuro. no afecta a funciones si haces help (jk) te enseña la ayuda del a funcion se crea con \"\"\" \"\"\" y se suele poner dentro de las funciones para explicar cosas de ellas \n"
   ]
  },
  {
   "cell_type": "code",
   "execution_count": null,
   "metadata": {},
   "outputs": [],
   "source": [
    "\"\"\" funcion help(funcion) sirve para enseñar la funcionalidad de una funcion, ademas si hemos escrito algo coon la documentacion, tambien nos saldra "
   ]
  },
  {
   "cell_type": "code",
   "execution_count": null,
   "metadata": {},
   "outputs": [],
   "source": [
    "\"\"\" funcion pass pass #este elemento significa no hagas nada  para que no te de error la identacion \"pasa de lo que estoy haceindo\" es para que no te de error una idetnacion (:)"
   ]
  },
  {
   "cell_type": "code",
   "execution_count": null,
   "metadata": {},
   "outputs": [],
   "source": [
    "\"\"\" funcion break sirve para que algun tipo de loop se deje de hacer por ejemplo los loops dejen de recorrerse una vez llegados a break"
   ]
  },
  {
   "cell_type": "code",
   "execution_count": null,
   "metadata": {},
   "outputs": [],
   "source": [
    "\"\"\" continue con el continue se dirige a la siguiente interaccion en el for. no lee lo de abajo del continue. el break para toda la interaccion"
   ]
  },
  {
   "cell_type": "code",
   "execution_count": null,
   "metadata": {},
   "outputs": [],
   "source": [
    "# el return de cualquier valor, variable, funcion es none salvo que lo modifiques.\n",
    "# puedes modificarlo escribriendo la palabra return y al lado lo que quieres mostrar desde variables, hasta operaciones etc\n",
    "#despues del return en una funcion no lee nada mas de lo que haya abajo"
   ]
  },
  {
   "cell_type": "code",
   "execution_count": 44,
   "metadata": {},
   "outputs": [
    {
     "output_type": "stream",
     "name": "stdout",
     "text": [
      "Gabriel VázquezJonathan AbbondanzaNacho FontalJavier AraizJonathan SuarezSonia CoboJorge GarcíaMary MezaLeonardo FrazzettoNacho AstorgaJosé Carlos BatistaIsabel PalomaresMarina SerranoDaniel WalkerClara PiniellaGina GarridoAdrià GallardoMaría García-MarotoSusana VázquezMauro Garcia-OlivaJuan BayonMiguel BarqueroBorja PuigPablo MartínezXinru YangPablo DíezKarina Inche\n"
     ]
    }
   ],
   "source": [
    "#ejemplo : \n",
    "# una variable x que tenga los nombres concatenados de la lista nombres altura utilizando una funcion para ello. \n",
    "# x=nombre_funcion(lista=lista_nombres_altura)\n",
    "lista_nombres_alturas = [(\"Gabriel Vázquez\", 1.75),(\"Jonathan Abbondanza\",  1.70),(\"Nacho Fontal\", 1.82),(\"Javier Araiz\", 1.80),('Jonathan Suarez', 1.86),('Sonia Cobo', 1.73), ('Jorge García', 1.79), (\"Mary Meza\", 1.52), ('Leonardo Frazzetto', 1.75), (\"Nacho Astorga\",1.78),(\"José Carlos Batista\",1.70), (\"Isabel Palomares\", 1.78),(\"Marina Serrano\", 1.54), (\"Daniel Walker\", 1.87), (\"Clara Piniella\", 1.66), (\"Gina Garrido\", 1.63), (\"Adrià Gallardo\", 1.70), (\"María García-Maroto\", 1.64), (\"Susana Vázquez\",1.80), (\"Mauro Garcia-Oliva\", 1.77), (\"Juan Bayon\", 1.64), (\"Miguel Barquero\", 1.85), (\"Borja Puig\", 1.82), (\"Pablo Martínez\", 1.81), (\"Xinru Yang\", 1.60),(\"Pablo Díez\", 1.84),(\"Karina Inche\",1.61)]\n",
    "\n",
    "def nombre_funcion (lista):\n",
    "    nombres=\"\" #crear una coleccion vacia \n",
    "    for tupla in lista:\n",
    "        #tupla va a representar cada uno de estos eelemtnos las tuplas de la lista (\"Gabriel Vázquez\", 1.75) tupla =(\"Gabriel Vázquez\", 1.75) por iteracion...\n",
    "        nombres=nombres+tupla[0] # el primer elemento de cada tupla el elemento primero de cada tupla  de la lista\n",
    "    return  nombres #porque todos los nombres concatenados estan en esta variable\n",
    "x=nombre_funcion(lista=lista_nombres_alturas) # al final los nobmres e van a guardar en return de la funcion. cuando se resuelva lo de la derecha, lo que retorna la parte de la derecha se guarda en x. #al realiar esta igualdad dnetro de la funcion se dice que la variable lista_nombres_altura se va a llamar lista # se llama la funcion\n",
    "print(x) #retorna el retorno de x \n"
   ]
  },
  {
   "cell_type": "code",
   "execution_count": 47,
   "metadata": {},
   "outputs": [
    {
     "output_type": "stream",
     "name": "stdout",
     "text": [
      "i: 0\nvalue: 2\ni: 1\nvalue: 5\n"
     ]
    }
   ],
   "source": [
    "#repaso para calcular la media\n",
    "lista=[2,5,11,20]\n",
    "for i, value in enumerate(lista[0:len(lista)//2]):\n",
    "    print (\"i:\",i)\n",
    "    print(\"value:\",value)"
   ]
  },
  {
   "cell_type": "code",
   "execution_count": 48,
   "metadata": {},
   "outputs": [
    {
     "output_type": "stream",
     "name": "stdout",
     "text": [
      "i: 0\nvalue: 11\ni: 1\nvalue: 20\n"
     ]
    }
   ],
   "source": [
    "#repaso para calcular la media\n",
    "lista=[2,5,11,20]\n",
    "for i, value in enumerate(lista[len(lista)//2:]): #desde la mitad hasta el final \n",
    "    print (\"i:\",i)\n",
    "    print(\"value:\",value)"
   ]
  },
  {
   "cell_type": "code",
   "execution_count": null,
   "metadata": {},
   "outputs": [],
   "source": [
    "#DICCIONARIOS\n",
    "#los diccionarios siempre guardan una key y un valor. #la clave tiene que ser un str,float un entero o una tupla lista NO se puede\n",
    "diccionario={\"key_string\": \"valor\", 0:\"valor\"} #key a la izquierda valor a la derecha el 0: es otra clave con otros valores. no podemos teener dos claves con el mismo nombre pero si dos varaibles con el mismo numero\n",
    "diccionario\n",
    "#para acceder a los valores de un diccionario al igual que pasa con las tuples hay que hacerlo a traves de una lista "
   ]
  },
  {
   "cell_type": "code",
   "execution_count": null,
   "metadata": {},
   "outputs": [],
   "source": [
    "\"\"\" funcion .keys() devuelve las keys de un diccionario"
   ]
  },
  {
   "cell_type": "code",
   "execution_count": null,
   "metadata": {},
   "outputs": [],
   "source": [
    "\"\"\" funcion .values() devuelve los valores de un diccionario "
   ]
  },
  {
   "cell_type": "code",
   "execution_count": null,
   "metadata": {},
   "outputs": [],
   "source": [
    "\"\"\".items() devuelve todos los valores y keys "
   ]
  },
  {
   "cell_type": "code",
   "execution_count": null,
   "metadata": {},
   "outputs": [],
   "source": [
    "\n",
    "#crear un diccionario ap artir de dos listaS:\n",
    "#lista \"a\" tiene claves\n",
    "#lista \"b\" tiene los valores asociados a cada clave\n",
    "a=[\"x\",\"y\",\"z\"]\n",
    "b=[0,10,20]\n",
    "diccionario={}\n",
    "diccionario[a[0]]=b[0] #seria asi con cda valor muy tedioso, vamos a usar otras opcciones"
   ]
  },
  {
   "cell_type": "code",
   "execution_count": null,
   "metadata": {},
   "outputs": [],
   "source": [
    "#utilizando el rango\n",
    "diccionario={}\n",
    "for i in range(len(a)):\n",
    "      diccionario[a[i]]=b[i]\n",
    "diccionario      "
   ]
  },
  {
   "cell_type": "code",
   "execution_count": null,
   "metadata": {},
   "outputs": [],
   "source": [
    "#con contador\n",
    "a=[\"x\",\"y\",\"z\"]\n",
    "b=[0,10,20]\n",
    "contador=0 #con posiciones creo este contador\n",
    "diccionario={}\n",
    "for v_elemento in a:\n",
    "    diccionario[v_elem]=b[contador]\n",
    "    contador+=1 #esto es igual a contador mas 1\n",
    "print(diccionario)"
   ]
  },
  {
   "cell_type": "code",
   "execution_count": null,
   "metadata": {},
   "outputs": [],
   "source": [
    "#con enumerate\n",
    "a=[\"x\",\"y\",\"z\"]\n",
    "b=[0,10,20]\n",
    "for pos,v_element in enumerate(a):\n",
    "    diccionario[v_element]=b[pos]\n",
    "diccionario\n"
   ]
  },
  {
   "cell_type": "code",
   "execution_count": 58,
   "metadata": {},
   "outputs": [
    {
     "output_type": "execute_result",
     "data": {
      "text/plain": [
       "{'70423563R': ['pablo', 28, 1.81, 74]}"
      ]
     },
     "metadata": {},
     "execution_count": 58
    }
   ],
   "source": [
    "#añadimos /actualizamos el par de valores\n",
    "diccionario={\"70423563R\":[\"pablo\",28,1.81,73]}\n",
    "diccionario[\"70423563R\"]=[\"pablo\",28,1.81,73]\n",
    "#asi se cogeria y se actualizaria el valor del elemento\n",
    "\n",
    "diccionario[\"70423563R\"]=[\"pablo\",28,1.81,74] # se ha cambiado\n",
    "diccionario"
   ]
  },
  {
   "cell_type": "code",
   "execution_count": 59,
   "metadata": {},
   "outputs": [
    {
     "output_type": "execute_result",
     "data": {
      "text/plain": [
       "{'70423563R': ['pablo', 28, 1.81, 74], ('70423563R', 1): {1: ('Z', 'H')}}"
      ]
     },
     "metadata": {},
     "execution_count": 59
    }
   ],
   "source": [
    "diccionario[(\"70423563R\",1)]={1:(\"Z\",\"H\")} #con esto hemos añadido el elemento al diccionario\n",
    "diccionario"
   ]
  },
  {
   "cell_type": "code",
   "execution_count": 61,
   "metadata": {},
   "outputs": [
    {
     "output_type": "execute_result",
     "data": {
      "text/plain": [
       "'Z'"
      ]
     },
     "metadata": {},
     "execution_count": 61
    }
   ],
   "source": [
    "#para acceder a la \"Z\" que esta como parte del valor del diccionario\n",
    "diccionario[(\"70423563R\",1)] [1][0] #accedemos al segundo diccionario y luego a la tupla y luego ya estariamos en el valor que buscamos se accede con la clave "
   ]
  },
  {
   "cell_type": "code",
   "execution_count": null,
   "metadata": {},
   "outputs": [],
   "source": [
    "#WHILE\n",
    "#while es una condicion que mientras sea true se va a hacer todo lo de abajo del while en bucle hasta que se quite el true\n",
    "while True: #por ejemplo la app esta abierta hasta que de al boton de cerrar (no hacerlo porque salen unos de manera infinita) al lado del while se pone la condicion\n",
    "    print(\"1\")#(no hacerlo porque salen unos de manera infinita)\n",
    "    break #break para que se muestre una vez\n",
    "#la principal diferencia es que muchas veces el while es mucho mas eficiente que el for ya que el for recorre todos los elementos y el while una vez es false ya no se cumple mirar ejemplo de abajo:"
   ]
  },
  {
   "cell_type": "code",
   "execution_count": 63,
   "metadata": {},
   "outputs": [
    {
     "output_type": "stream",
     "name": "stdout",
     "text": [
      "0\n1\n2\n3\n4\n"
     ]
    }
   ],
   "source": [
    "#quiero ejecutar 5 prints con contador\n",
    "contador=0\n",
    "while contador <5: #en este caso en cuanto el contador llega a 5 hasta que se satisfaace la condicion\n",
    "    print(contador)\n",
    "    contador+=1"
   ]
  },
  {
   "cell_type": "code",
   "execution_count": 62,
   "metadata": {},
   "outputs": [
    {
     "output_type": "stream",
     "name": "stdout",
     "text": [
      "0\n1\n2\n3\n4\n"
     ]
    }
   ],
   "source": [
    "#la difeerencia con for es que recorre algo sobre un valor  while no hace falta asi se haria con un for es mas eficiente el while\n",
    "for i in range(100): #con el for sigue leyendo hasta rango a 100\n",
    "    if i<5:\n",
    "        print(i)"
   ]
  },
  {
   "cell_type": "code",
   "execution_count": null,
   "metadata": {},
   "outputs": [],
   "source": [
    "#dentro del while puede haber de todo con while se accede por POSICION POR ELEMENTO, no por valor el while no recorre como el for simplemente tiene en cuenta la condicion. siempre hemos usado el contador para suponerlo como una posicion"
   ]
  },
  {
   "cell_type": "code",
   "execution_count": 64,
   "metadata": {},
   "outputs": [
    {
     "output_type": "stream",
     "name": "stdout",
     "text": [
      "contador: 0\nx\nhola\n"
     ]
    }
   ],
   "source": [
    "#como funciona while\n",
    "a=[\"x\",\"y\",\"z\",\"o\"] \n",
    "contador=0\n",
    "\n",
    "while (contador %2==0) and (contador<len(a)): # ==contador<=len(a)-1 en la posicion 0 se cumple las condiciones asi que lee lo de abajo y lo ejecuta\n",
    "    print(\"contador:\", contador) \n",
    "    print(a[contador])\n",
    "    contador+=1\n",
    "    print(\"hola\") #como vemos en el printeado del while, muestra tanto el printeo de \" contador\" y el contado (0) luego suma uno al contador (posicion 1) y printea \"1\" en la siguiente lectura la posicion 1 no es par asi que como no se cumple las 2 condiciones deja de leer y while deja de leer todo lo demas."
   ]
  },
  {
   "cell_type": "code",
   "execution_count": 67,
   "metadata": {},
   "outputs": [
    {
     "output_type": "stream",
     "name": "stdout",
     "text": [
      "5\n",
      "56\n",
      "5461\n",
      "insterta solo numeros o 'STOP'\n",
      "has parado\n"
     ]
    }
   ],
   "source": [
    "\"\"\" funcion is.digit() es para ver los numeros enteros dentro de cadenas\"\"\"\n",
    "\n",
    "num=int(input(\"escribe un numero para sumar a 3\"))\n",
    "def suma_con_3(lo_que_el_usuario_escriba):\n",
    "    print(lo_que_el_usuario_escriba+3)\n",
    "suma_con_3(lo_que_el_usuario_escriba=2)\n",
    "while True:\n",
    "    num=input(\"escribe un numero para sumar a 3\")\n",
    "    if num==\"STOP\": #si num es stop\n",
    "        print(\"has parado\")\n",
    "        break #asi se consigue que si se escribe STOP se djee de ejecutar\n",
    "    elif num.isdigit(): #si num no es stop y ademas solo contiene numeros\n",
    "        suma_con_3(lo_que_el_usuario_escriba=int(num))\n",
    "    else:\n",
    "        print(\"insterta solo numeros o 'STOP'\") #si por ejemplo meto una lista, una letra etc sale esto\n"
   ]
  },
  {
   "cell_type": "code",
   "execution_count": null,
   "metadata": {},
   "outputs": [],
   "source": [
    "#FUNCIONES DENTRO DE FUNCIONES (TELA MARINERA)\n",
    "def shout(text): \n",
    "    return text.upper()  #defino una funcion con un return (retorna guarda el valor de el text upper que se meta en la funcion). pone un texto en mayusculas\n",
    "\n",
    "def whisper(text): \n",
    "    return text.lower()  #defino una funcion con un return (retorna guarda el valor de el text lower que se meta en la funcion)#pone un texto en minus\n",
    "\n",
    "def greet(func): #saluda que va a coger otra funcion \n",
    "    # storing the function in a variable \n",
    "    greeting = func(\"Hi, I am created by a function passed as an argument.\") #le meto el argumento directamente a func\n",
    "    print(greeting)\n",
    "\n",
    "greet(shout) \n",
    "greet(whisper)"
   ]
  },
  {
   "cell_type": "code",
   "execution_count": null,
   "metadata": {},
   "outputs": [],
   "source": []
  },
  {
   "cell_type": "code",
   "execution_count": null,
   "metadata": {},
   "outputs": [],
   "source": [
    "def up (text):\n",
    "   return text.upper()\n",
    "def dos():\n",
    "    return \"2\"\n",
    "def f_recibe_una_funcion(func):\n",
    "        print(func(\"Hola\")) #este error es xq dos no tiene ningun argumento definido () no tendrias que poner ningun argumento para poder ejecutarlo y yo le estoy metiendo un argumento de manera forzada\n",
    "f_recibe_una_funcion(func=dos)"
   ]
  },
  {
   "cell_type": "code",
   "execution_count": 71,
   "metadata": {},
   "outputs": [
    {
     "output_type": "stream",
     "name": "stdout",
     "text": [
      "dgijaigjaijg22ak222a2f222222akdfjakjgkajg2222akgjdkg\n"
     ]
    }
   ],
   "source": [
    "\"\"\"funcion .replace (lo que quieres reemplazar, lo nuevo que reemplazas\"\"\"\n",
    "g = \"dgijaigjaijg  ak   a f      akdfjakjgkajg    akgjdkg\"\n",
    "g = g.replace(\" \", \"2\")\n",
    "print(g)"
   ]
  },
  {
   "cell_type": "code",
   "execution_count": null,
   "metadata": {},
   "outputs": [],
   "source": [
    "\"\"\" print (f\"Between {first_name} and {last_name} there is a difference of {difference} characters\") el print de f sirve para meter dentro variables que procedan de fuera junto con textos es muy util para printear y sacar frases enteras. las variables de fuera van con {} y todo empieza y termina con comillas entre parentesis"
   ]
  },
  {
   "cell_type": "code",
   "execution_count": null,
   "metadata": {},
   "outputs": [],
   "source": [
    "\"\"\" funcion max() para calcular el máximo \n",
    "funcion min() para calcular el minimo\n"
   ]
  },
  {
   "cell_type": "code",
   "execution_count": null,
   "metadata": {},
   "outputs": [],
   "source": [
    "\"\"\" funcion .sort(reverse = True) muestra la lista al reves"
   ]
  },
  {
   "cell_type": "code",
   "execution_count": null,
   "metadata": {},
   "outputs": [],
   "source": [
    "\"\"\"funcion .sort() muestra los valores "
   ]
  },
  {
   "cell_type": "code",
   "execution_count": 72,
   "metadata": {},
   "outputs": [
    {
     "output_type": "stream",
     "name": "stdout",
     "text": [
      "['Born', 'to', 'be', 'wild']\n"
     ]
    }
   ],
   "source": [
    "\"\"\" funcion .split() para separar los elementos por espacio de un string en una lista de esos valores separados \"\"\"\n",
    "phrase = \"Born to be wild\"\n",
    "\n",
    "\n",
    "print(phrase.split())\n",
    "\n"
   ]
  },
  {
   "cell_type": "code",
   "execution_count": null,
   "metadata": {},
   "outputs": [],
   "source": [
    "\"\"\" \"\\n- They're equal\"  representa un salto de linea se pone donde quieres que salte a la siguiente linea lo que venga despues"
   ]
  },
  {
   "cell_type": "code",
   "execution_count": 74,
   "metadata": {},
   "outputs": [
    {
     "output_type": "execute_result",
     "data": {
      "text/plain": [
       "'THE BRIDGE'"
      ]
     },
     "metadata": {},
     "execution_count": 74
    }
   ],
   "source": [
    "\"\"\" funcion . ''.join(tupl) ejemplo une en string\"\"\" \n",
    "tup = (\"T\", \"H\", \"E\", \" \", \"B\", \"R\", \"I\", \"D\", \"G\", \"E\")\n",
    "\n",
    "def tup_converter(tupl):\n",
    "    \"\"\"\n",
    "    Program to convert a tuple of characters into a string\n",
    "    \"\"\"\n",
    "    result = ''.join(tupl)\n",
    "    return result\n",
    "\n",
    "tup_converter(tup) #retorna el vlaor "
   ]
  },
  {
   "cell_type": "code",
   "execution_count": null,
   "metadata": {},
   "outputs": [],
   "source": []
  }
 ]
}