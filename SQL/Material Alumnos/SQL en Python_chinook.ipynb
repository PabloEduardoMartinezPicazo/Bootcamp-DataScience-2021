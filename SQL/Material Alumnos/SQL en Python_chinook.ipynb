{
 "metadata": {
  "language_info": {
   "codemirror_mode": {
    "name": "ipython",
    "version": 3
   },
   "file_extension": ".py",
   "mimetype": "text/x-python",
   "name": "python",
   "nbconvert_exporter": "python",
   "pygments_lexer": "ipython3",
   "version": "3.7.4"
  },
  "orig_nbformat": 2,
  "kernelspec": {
   "name": "python374jvsc74a57bd07945e9a82d7512fbf96246d9bbc29cd2f106c1a4a9cf54c9563dadf10f2237d4",
   "display_name": "Python 3.7.4 64-bit"
  },
  "metadata": {
   "interpreter": {
    "hash": "7945e9a82d7512fbf96246d9bbc29cd2f106c1a4a9cf54c9563dadf10f2237d4"
   }
  }
 },
 "nbformat": 4,
 "nbformat_minor": 2,
 "cells": [
  {
   "source": [
    "# SQL en Python\n",
    "<img src=\".\\img\\image-4.png\" alt=\"EDA Path\"\n",
    "    title=\"A typical EDA path\" width=\"600\" height=\"300\" />\n",
    "## Conectamos con la base de datos\n",
    "\n",
    "### Documentación de la librería SQLite3 que vamos a utilizar:\n",
    "https://docs.python.org/3/library/sqlite3.html\n"
   ],
   "cell_type": "markdown",
   "metadata": {}
  },
  {
   "cell_type": "code",
   "execution_count": 4,
   "metadata": {},
   "outputs": [],
   "source": [
    "# Importamos librerias\n",
    "import pandas as pd\n",
    "import numpy as np\n",
    "import sqlite3 as sql\n"
   ]
  },
  {
   "cell_type": "code",
   "execution_count": 5,
   "metadata": {},
   "outputs": [],
   "source": [
    "# Conectamos con la base de datos chinook.db\n",
    "\n",
    "path = \"chinook.db\"\n",
    "connection = sql.connect(path)\n",
    "# Obtenemos un cursor que utilizaremos para hacer las queries\n",
    "curs = connection.cursor() #representa un objeto como si ufera la base de datos"
   ]
  },
  {
   "cell_type": "code",
   "execution_count": 6,
   "metadata": {},
   "outputs": [],
   "source": [
    "# Creamos una Query sencilla se puede poner todo en una linea\n",
    "query=\"\"\"\n",
    "SELECT *\n",
    "FROM genres\n",
    "\"\"\""
   ]
  },
  {
   "cell_type": "code",
   "execution_count": 7,
   "metadata": {},
   "outputs": [],
   "source": [
    "my_query = curs.execute(query) #con cursor ejecutamos la query\n"
   ]
  },
  {
   "cell_type": "code",
   "execution_count": 8,
   "metadata": {},
   "outputs": [
    {
     "output_type": "execute_result",
     "data": {
      "text/plain": [
       "[(1, 'Rock'),\n",
       " (2, 'Jazz'),\n",
       " (3, 'Metal'),\n",
       " (4, 'Alternative & Punk'),\n",
       " (5, 'Rock And Roll'),\n",
       " (6, 'Blues'),\n",
       " (7, 'Latin'),\n",
       " (8, 'Reggae'),\n",
       " (9, 'Pop'),\n",
       " (10, 'Soundtrack'),\n",
       " (11, 'Bossa Nova'),\n",
       " (12, 'Easy Listening'),\n",
       " (13, 'Heavy Metal'),\n",
       " (14, 'R&B/Soul'),\n",
       " (15, 'Electronica/Dance'),\n",
       " (16, 'World'),\n",
       " (17, 'Hip Hop/Rap'),\n",
       " (18, 'Science Fiction'),\n",
       " (19, 'TV Shows'),\n",
       " (20, 'Sci Fi & Fantasy'),\n",
       " (21, 'Drama'),\n",
       " (22, 'Comedy'),\n",
       " (23, 'Alternative'),\n",
       " (24, 'Classical'),\n",
       " (25, 'Opera')]"
      ]
     },
     "metadata": {},
     "execution_count": 8
    }
   ],
   "source": [
    "my_query.fetchall() #traemos todo aqui una lista de tuplas faltan los nombres de las columnas"
   ]
  },
  {
   "cell_type": "code",
   "execution_count": 9,
   "metadata": {},
   "outputs": [],
   "source": [
    "# Con esta función leemos los datos y lo pasamos a un DataFrame de Pandas leemos los headers tb\n",
    "def sql_query(query):\n",
    "    curs.execute(query) #para ejecutar la consutla\n",
    "    datos_query = curs.fetchall() #para traer datos \n",
    "    col_names = [description [0] for description in curs.description]\n",
    "    return pd.DataFrame(datos_query,columns=col_names)"
   ]
  },
  {
   "cell_type": "code",
   "execution_count": 10,
   "metadata": {},
   "outputs": [
    {
     "output_type": "execute_result",
     "data": {
      "text/plain": [
       "    GenreId                Name\n",
       "0         1                Rock\n",
       "1         2                Jazz\n",
       "2         3               Metal\n",
       "3         4  Alternative & Punk\n",
       "4         5       Rock And Roll\n",
       "5         6               Blues\n",
       "6         7               Latin\n",
       "7         8              Reggae\n",
       "8         9                 Pop\n",
       "9        10          Soundtrack\n",
       "10       11          Bossa Nova\n",
       "11       12      Easy Listening\n",
       "12       13         Heavy Metal\n",
       "13       14            R&B/Soul\n",
       "14       15   Electronica/Dance\n",
       "15       16               World\n",
       "16       17         Hip Hop/Rap\n",
       "17       18     Science Fiction\n",
       "18       19            TV Shows\n",
       "19       20    Sci Fi & Fantasy\n",
       "20       21               Drama\n",
       "21       22              Comedy\n",
       "22       23         Alternative\n",
       "23       24           Classical\n",
       "24       25               Opera"
      ],
      "text/html": "<div>\n<style scoped>\n    .dataframe tbody tr th:only-of-type {\n        vertical-align: middle;\n    }\n\n    .dataframe tbody tr th {\n        vertical-align: top;\n    }\n\n    .dataframe thead th {\n        text-align: right;\n    }\n</style>\n<table border=\"1\" class=\"dataframe\">\n  <thead>\n    <tr style=\"text-align: right;\">\n      <th></th>\n      <th>GenreId</th>\n      <th>Name</th>\n    </tr>\n  </thead>\n  <tbody>\n    <tr>\n      <th>0</th>\n      <td>1</td>\n      <td>Rock</td>\n    </tr>\n    <tr>\n      <th>1</th>\n      <td>2</td>\n      <td>Jazz</td>\n    </tr>\n    <tr>\n      <th>2</th>\n      <td>3</td>\n      <td>Metal</td>\n    </tr>\n    <tr>\n      <th>3</th>\n      <td>4</td>\n      <td>Alternative &amp; Punk</td>\n    </tr>\n    <tr>\n      <th>4</th>\n      <td>5</td>\n      <td>Rock And Roll</td>\n    </tr>\n    <tr>\n      <th>5</th>\n      <td>6</td>\n      <td>Blues</td>\n    </tr>\n    <tr>\n      <th>6</th>\n      <td>7</td>\n      <td>Latin</td>\n    </tr>\n    <tr>\n      <th>7</th>\n      <td>8</td>\n      <td>Reggae</td>\n    </tr>\n    <tr>\n      <th>8</th>\n      <td>9</td>\n      <td>Pop</td>\n    </tr>\n    <tr>\n      <th>9</th>\n      <td>10</td>\n      <td>Soundtrack</td>\n    </tr>\n    <tr>\n      <th>10</th>\n      <td>11</td>\n      <td>Bossa Nova</td>\n    </tr>\n    <tr>\n      <th>11</th>\n      <td>12</td>\n      <td>Easy Listening</td>\n    </tr>\n    <tr>\n      <th>12</th>\n      <td>13</td>\n      <td>Heavy Metal</td>\n    </tr>\n    <tr>\n      <th>13</th>\n      <td>14</td>\n      <td>R&amp;B/Soul</td>\n    </tr>\n    <tr>\n      <th>14</th>\n      <td>15</td>\n      <td>Electronica/Dance</td>\n    </tr>\n    <tr>\n      <th>15</th>\n      <td>16</td>\n      <td>World</td>\n    </tr>\n    <tr>\n      <th>16</th>\n      <td>17</td>\n      <td>Hip Hop/Rap</td>\n    </tr>\n    <tr>\n      <th>17</th>\n      <td>18</td>\n      <td>Science Fiction</td>\n    </tr>\n    <tr>\n      <th>18</th>\n      <td>19</td>\n      <td>TV Shows</td>\n    </tr>\n    <tr>\n      <th>19</th>\n      <td>20</td>\n      <td>Sci Fi &amp; Fantasy</td>\n    </tr>\n    <tr>\n      <th>20</th>\n      <td>21</td>\n      <td>Drama</td>\n    </tr>\n    <tr>\n      <th>21</th>\n      <td>22</td>\n      <td>Comedy</td>\n    </tr>\n    <tr>\n      <th>22</th>\n      <td>23</td>\n      <td>Alternative</td>\n    </tr>\n    <tr>\n      <th>23</th>\n      <td>24</td>\n      <td>Classical</td>\n    </tr>\n    <tr>\n      <th>24</th>\n      <td>25</td>\n      <td>Opera</td>\n    </tr>\n  </tbody>\n</table>\n</div>"
     },
     "metadata": {},
     "execution_count": 10
    }
   ],
   "source": [
    "sql_query(query)"
   ]
  },
  {
   "cell_type": "code",
   "execution_count": 11,
   "metadata": {},
   "outputs": [
    {
     "output_type": "execute_result",
     "data": {
      "text/plain": [
       "    GenreId                Name\n",
       "0         1                Rock\n",
       "1         2                Jazz\n",
       "2         3               Metal\n",
       "3         4  Alternative & Punk\n",
       "4         5       Rock And Roll\n",
       "5         6               Blues\n",
       "6         7               Latin\n",
       "7         8              Reggae\n",
       "8         9                 Pop\n",
       "9        10          Soundtrack\n",
       "10       11          Bossa Nova\n",
       "11       12      Easy Listening\n",
       "12       13         Heavy Metal\n",
       "13       14            R&B/Soul\n",
       "14       15   Electronica/Dance\n",
       "15       16               World\n",
       "16       17         Hip Hop/Rap\n",
       "17       18     Science Fiction\n",
       "18       19            TV Shows\n",
       "19       20    Sci Fi & Fantasy\n",
       "20       21               Drama\n",
       "21       22              Comedy\n",
       "22       23         Alternative\n",
       "23       24           Classical\n",
       "24       25               Opera"
      ],
      "text/html": "<div>\n<style scoped>\n    .dataframe tbody tr th:only-of-type {\n        vertical-align: middle;\n    }\n\n    .dataframe tbody tr th {\n        vertical-align: top;\n    }\n\n    .dataframe thead th {\n        text-align: right;\n    }\n</style>\n<table border=\"1\" class=\"dataframe\">\n  <thead>\n    <tr style=\"text-align: right;\">\n      <th></th>\n      <th>GenreId</th>\n      <th>Name</th>\n    </tr>\n  </thead>\n  <tbody>\n    <tr>\n      <th>0</th>\n      <td>1</td>\n      <td>Rock</td>\n    </tr>\n    <tr>\n      <th>1</th>\n      <td>2</td>\n      <td>Jazz</td>\n    </tr>\n    <tr>\n      <th>2</th>\n      <td>3</td>\n      <td>Metal</td>\n    </tr>\n    <tr>\n      <th>3</th>\n      <td>4</td>\n      <td>Alternative &amp; Punk</td>\n    </tr>\n    <tr>\n      <th>4</th>\n      <td>5</td>\n      <td>Rock And Roll</td>\n    </tr>\n    <tr>\n      <th>5</th>\n      <td>6</td>\n      <td>Blues</td>\n    </tr>\n    <tr>\n      <th>6</th>\n      <td>7</td>\n      <td>Latin</td>\n    </tr>\n    <tr>\n      <th>7</th>\n      <td>8</td>\n      <td>Reggae</td>\n    </tr>\n    <tr>\n      <th>8</th>\n      <td>9</td>\n      <td>Pop</td>\n    </tr>\n    <tr>\n      <th>9</th>\n      <td>10</td>\n      <td>Soundtrack</td>\n    </tr>\n    <tr>\n      <th>10</th>\n      <td>11</td>\n      <td>Bossa Nova</td>\n    </tr>\n    <tr>\n      <th>11</th>\n      <td>12</td>\n      <td>Easy Listening</td>\n    </tr>\n    <tr>\n      <th>12</th>\n      <td>13</td>\n      <td>Heavy Metal</td>\n    </tr>\n    <tr>\n      <th>13</th>\n      <td>14</td>\n      <td>R&amp;B/Soul</td>\n    </tr>\n    <tr>\n      <th>14</th>\n      <td>15</td>\n      <td>Electronica/Dance</td>\n    </tr>\n    <tr>\n      <th>15</th>\n      <td>16</td>\n      <td>World</td>\n    </tr>\n    <tr>\n      <th>16</th>\n      <td>17</td>\n      <td>Hip Hop/Rap</td>\n    </tr>\n    <tr>\n      <th>17</th>\n      <td>18</td>\n      <td>Science Fiction</td>\n    </tr>\n    <tr>\n      <th>18</th>\n      <td>19</td>\n      <td>TV Shows</td>\n    </tr>\n    <tr>\n      <th>19</th>\n      <td>20</td>\n      <td>Sci Fi &amp; Fantasy</td>\n    </tr>\n    <tr>\n      <th>20</th>\n      <td>21</td>\n      <td>Drama</td>\n    </tr>\n    <tr>\n      <th>21</th>\n      <td>22</td>\n      <td>Comedy</td>\n    </tr>\n    <tr>\n      <th>22</th>\n      <td>23</td>\n      <td>Alternative</td>\n    </tr>\n    <tr>\n      <th>23</th>\n      <td>24</td>\n      <td>Classical</td>\n    </tr>\n    <tr>\n      <th>24</th>\n      <td>25</td>\n      <td>Opera</td>\n    </tr>\n  </tbody>\n</table>\n</div>"
     },
     "metadata": {},
     "execution_count": 11
    }
   ],
   "source": [
    "# Tambien podemos obtener el mismo resultado directamente con pandas\n",
    "\n",
    "pd.read_sql_query(query,connection) #connection es par conectar con el archivo de sql "
   ]
  },
  {
   "source": [
    "## Ya podemos comenzar con la práctica de chinook:\n",
    "Antes de empezar a atacar una base de datos, tendremos que saber qué hay dentro, y para ello lo mejor es ver cómo es su **modelo de datos**\n",
    "\n",
    "![imagen](./img/chinook_data_model.png)"
   ],
   "cell_type": "markdown",
   "metadata": {}
  },
  {
   "source": [
    "### 1.\tFacturas de Clientes de Brasil, Nombre del cliente, Id de factura, fecha de la factura y el país de la factura"
   ],
   "cell_type": "markdown",
   "metadata": {}
  },
  {
   "cell_type": "code",
   "execution_count": 12,
   "metadata": {},
   "outputs": [
    {
     "output_type": "execute_result",
     "data": {
      "text/plain": [
       "     CustomerId FirstName    LastName  \\\n",
       "0             1      Luís   Gonçalves   \n",
       "1             1      Luís   Gonçalves   \n",
       "2             1      Luís   Gonçalves   \n",
       "3             1      Luís   Gonçalves   \n",
       "4             1      Luís   Gonçalves   \n",
       "..          ...       ...         ...   \n",
       "407          59      Puja  Srivastava   \n",
       "408          59      Puja  Srivastava   \n",
       "409          59      Puja  Srivastava   \n",
       "410          59      Puja  Srivastava   \n",
       "411          59      Puja  Srivastava   \n",
       "\n",
       "                                              Company  \\\n",
       "0    Embraer - Empresa Brasileira de Aeronáutica S.A.   \n",
       "1    Embraer - Empresa Brasileira de Aeronáutica S.A.   \n",
       "2    Embraer - Empresa Brasileira de Aeronáutica S.A.   \n",
       "3    Embraer - Empresa Brasileira de Aeronáutica S.A.   \n",
       "4    Embraer - Empresa Brasileira de Aeronáutica S.A.   \n",
       "..                                                ...   \n",
       "407                                              None   \n",
       "408                                              None   \n",
       "409                                              None   \n",
       "410                                              None   \n",
       "411                                              None   \n",
       "\n",
       "                             Address                 City State Country  \\\n",
       "0    Av. Brigadeiro Faria Lima, 2170  São José dos Campos    SP  Brazil   \n",
       "1    Av. Brigadeiro Faria Lima, 2170  São José dos Campos    SP  Brazil   \n",
       "2    Av. Brigadeiro Faria Lima, 2170  São José dos Campos    SP  Brazil   \n",
       "3    Av. Brigadeiro Faria Lima, 2170  São José dos Campos    SP  Brazil   \n",
       "4    Av. Brigadeiro Faria Lima, 2170  São José dos Campos    SP  Brazil   \n",
       "..                               ...                  ...   ...     ...   \n",
       "407                3,Raj Bhavan Road            Bangalore  None   India   \n",
       "408                3,Raj Bhavan Road            Bangalore  None   India   \n",
       "409                3,Raj Bhavan Road            Bangalore  None   India   \n",
       "410                3,Raj Bhavan Road            Bangalore  None   India   \n",
       "411                3,Raj Bhavan Road            Bangalore  None   India   \n",
       "\n",
       "    PostalCode               Phone  ... SupportRepId InvoiceId  CustomerId  \\\n",
       "0    12227-000  +55 (12) 3923-5555  ...            3        98           1   \n",
       "1    12227-000  +55 (12) 3923-5555  ...            3       121           1   \n",
       "2    12227-000  +55 (12) 3923-5555  ...            3       143           1   \n",
       "3    12227-000  +55 (12) 3923-5555  ...            3       195           1   \n",
       "4    12227-000  +55 (12) 3923-5555  ...            3       316           1   \n",
       "..         ...                 ...  ...          ...       ...         ...   \n",
       "407     560001    +91 080 22289999  ...            3        45          59   \n",
       "408     560001    +91 080 22289999  ...            3        97          59   \n",
       "409     560001    +91 080 22289999  ...            3       218          59   \n",
       "410     560001    +91 080 22289999  ...            3       229          59   \n",
       "411     560001    +91 080 22289999  ...            3       284          59   \n",
       "\n",
       "             InvoiceDate                   BillingAddress  \\\n",
       "0    2010-03-11 00:00:00  Av. Brigadeiro Faria Lima, 2170   \n",
       "1    2010-06-13 00:00:00  Av. Brigadeiro Faria Lima, 2170   \n",
       "2    2010-09-15 00:00:00  Av. Brigadeiro Faria Lima, 2170   \n",
       "3    2011-05-06 00:00:00  Av. Brigadeiro Faria Lima, 2170   \n",
       "4    2012-10-27 00:00:00  Av. Brigadeiro Faria Lima, 2170   \n",
       "..                   ...                              ...   \n",
       "407  2009-07-08 00:00:00                3,Raj Bhavan Road   \n",
       "408  2010-02-26 00:00:00                3,Raj Bhavan Road   \n",
       "409  2011-08-20 00:00:00                3,Raj Bhavan Road   \n",
       "410  2011-09-30 00:00:00                3,Raj Bhavan Road   \n",
       "411  2012-05-30 00:00:00                3,Raj Bhavan Road   \n",
       "\n",
       "             BillingCity BillingState BillingCountry BillingPostalCode  Total  \n",
       "0    São José dos Campos           SP         Brazil         12227-000   3.98  \n",
       "1    São José dos Campos           SP         Brazil         12227-000   3.96  \n",
       "2    São José dos Campos           SP         Brazil         12227-000   5.94  \n",
       "3    São José dos Campos           SP         Brazil         12227-000   0.99  \n",
       "4    São José dos Campos           SP         Brazil         12227-000   1.98  \n",
       "..                   ...          ...            ...               ...    ...  \n",
       "407            Bangalore         None          India            560001   5.94  \n",
       "408            Bangalore         None          India            560001   1.99  \n",
       "409            Bangalore         None          India            560001   1.98  \n",
       "410            Bangalore         None          India            560001  13.86  \n",
       "411            Bangalore         None          India            560001   8.91  \n",
       "\n",
       "[412 rows x 22 columns]"
      ],
      "text/html": "<div>\n<style scoped>\n    .dataframe tbody tr th:only-of-type {\n        vertical-align: middle;\n    }\n\n    .dataframe tbody tr th {\n        vertical-align: top;\n    }\n\n    .dataframe thead th {\n        text-align: right;\n    }\n</style>\n<table border=\"1\" class=\"dataframe\">\n  <thead>\n    <tr style=\"text-align: right;\">\n      <th></th>\n      <th>CustomerId</th>\n      <th>FirstName</th>\n      <th>LastName</th>\n      <th>Company</th>\n      <th>Address</th>\n      <th>City</th>\n      <th>State</th>\n      <th>Country</th>\n      <th>PostalCode</th>\n      <th>Phone</th>\n      <th>...</th>\n      <th>SupportRepId</th>\n      <th>InvoiceId</th>\n      <th>CustomerId</th>\n      <th>InvoiceDate</th>\n      <th>BillingAddress</th>\n      <th>BillingCity</th>\n      <th>BillingState</th>\n      <th>BillingCountry</th>\n      <th>BillingPostalCode</th>\n      <th>Total</th>\n    </tr>\n  </thead>\n  <tbody>\n    <tr>\n      <th>0</th>\n      <td>1</td>\n      <td>Luís</td>\n      <td>Gonçalves</td>\n      <td>Embraer - Empresa Brasileira de Aeronáutica S.A.</td>\n      <td>Av. Brigadeiro Faria Lima, 2170</td>\n      <td>São José dos Campos</td>\n      <td>SP</td>\n      <td>Brazil</td>\n      <td>12227-000</td>\n      <td>+55 (12) 3923-5555</td>\n      <td>...</td>\n      <td>3</td>\n      <td>98</td>\n      <td>1</td>\n      <td>2010-03-11 00:00:00</td>\n      <td>Av. Brigadeiro Faria Lima, 2170</td>\n      <td>São José dos Campos</td>\n      <td>SP</td>\n      <td>Brazil</td>\n      <td>12227-000</td>\n      <td>3.98</td>\n    </tr>\n    <tr>\n      <th>1</th>\n      <td>1</td>\n      <td>Luís</td>\n      <td>Gonçalves</td>\n      <td>Embraer - Empresa Brasileira de Aeronáutica S.A.</td>\n      <td>Av. Brigadeiro Faria Lima, 2170</td>\n      <td>São José dos Campos</td>\n      <td>SP</td>\n      <td>Brazil</td>\n      <td>12227-000</td>\n      <td>+55 (12) 3923-5555</td>\n      <td>...</td>\n      <td>3</td>\n      <td>121</td>\n      <td>1</td>\n      <td>2010-06-13 00:00:00</td>\n      <td>Av. Brigadeiro Faria Lima, 2170</td>\n      <td>São José dos Campos</td>\n      <td>SP</td>\n      <td>Brazil</td>\n      <td>12227-000</td>\n      <td>3.96</td>\n    </tr>\n    <tr>\n      <th>2</th>\n      <td>1</td>\n      <td>Luís</td>\n      <td>Gonçalves</td>\n      <td>Embraer - Empresa Brasileira de Aeronáutica S.A.</td>\n      <td>Av. Brigadeiro Faria Lima, 2170</td>\n      <td>São José dos Campos</td>\n      <td>SP</td>\n      <td>Brazil</td>\n      <td>12227-000</td>\n      <td>+55 (12) 3923-5555</td>\n      <td>...</td>\n      <td>3</td>\n      <td>143</td>\n      <td>1</td>\n      <td>2010-09-15 00:00:00</td>\n      <td>Av. Brigadeiro Faria Lima, 2170</td>\n      <td>São José dos Campos</td>\n      <td>SP</td>\n      <td>Brazil</td>\n      <td>12227-000</td>\n      <td>5.94</td>\n    </tr>\n    <tr>\n      <th>3</th>\n      <td>1</td>\n      <td>Luís</td>\n      <td>Gonçalves</td>\n      <td>Embraer - Empresa Brasileira de Aeronáutica S.A.</td>\n      <td>Av. Brigadeiro Faria Lima, 2170</td>\n      <td>São José dos Campos</td>\n      <td>SP</td>\n      <td>Brazil</td>\n      <td>12227-000</td>\n      <td>+55 (12) 3923-5555</td>\n      <td>...</td>\n      <td>3</td>\n      <td>195</td>\n      <td>1</td>\n      <td>2011-05-06 00:00:00</td>\n      <td>Av. Brigadeiro Faria Lima, 2170</td>\n      <td>São José dos Campos</td>\n      <td>SP</td>\n      <td>Brazil</td>\n      <td>12227-000</td>\n      <td>0.99</td>\n    </tr>\n    <tr>\n      <th>4</th>\n      <td>1</td>\n      <td>Luís</td>\n      <td>Gonçalves</td>\n      <td>Embraer - Empresa Brasileira de Aeronáutica S.A.</td>\n      <td>Av. Brigadeiro Faria Lima, 2170</td>\n      <td>São José dos Campos</td>\n      <td>SP</td>\n      <td>Brazil</td>\n      <td>12227-000</td>\n      <td>+55 (12) 3923-5555</td>\n      <td>...</td>\n      <td>3</td>\n      <td>316</td>\n      <td>1</td>\n      <td>2012-10-27 00:00:00</td>\n      <td>Av. Brigadeiro Faria Lima, 2170</td>\n      <td>São José dos Campos</td>\n      <td>SP</td>\n      <td>Brazil</td>\n      <td>12227-000</td>\n      <td>1.98</td>\n    </tr>\n    <tr>\n      <th>...</th>\n      <td>...</td>\n      <td>...</td>\n      <td>...</td>\n      <td>...</td>\n      <td>...</td>\n      <td>...</td>\n      <td>...</td>\n      <td>...</td>\n      <td>...</td>\n      <td>...</td>\n      <td>...</td>\n      <td>...</td>\n      <td>...</td>\n      <td>...</td>\n      <td>...</td>\n      <td>...</td>\n      <td>...</td>\n      <td>...</td>\n      <td>...</td>\n      <td>...</td>\n      <td>...</td>\n    </tr>\n    <tr>\n      <th>407</th>\n      <td>59</td>\n      <td>Puja</td>\n      <td>Srivastava</td>\n      <td>None</td>\n      <td>3,Raj Bhavan Road</td>\n      <td>Bangalore</td>\n      <td>None</td>\n      <td>India</td>\n      <td>560001</td>\n      <td>+91 080 22289999</td>\n      <td>...</td>\n      <td>3</td>\n      <td>45</td>\n      <td>59</td>\n      <td>2009-07-08 00:00:00</td>\n      <td>3,Raj Bhavan Road</td>\n      <td>Bangalore</td>\n      <td>None</td>\n      <td>India</td>\n      <td>560001</td>\n      <td>5.94</td>\n    </tr>\n    <tr>\n      <th>408</th>\n      <td>59</td>\n      <td>Puja</td>\n      <td>Srivastava</td>\n      <td>None</td>\n      <td>3,Raj Bhavan Road</td>\n      <td>Bangalore</td>\n      <td>None</td>\n      <td>India</td>\n      <td>560001</td>\n      <td>+91 080 22289999</td>\n      <td>...</td>\n      <td>3</td>\n      <td>97</td>\n      <td>59</td>\n      <td>2010-02-26 00:00:00</td>\n      <td>3,Raj Bhavan Road</td>\n      <td>Bangalore</td>\n      <td>None</td>\n      <td>India</td>\n      <td>560001</td>\n      <td>1.99</td>\n    </tr>\n    <tr>\n      <th>409</th>\n      <td>59</td>\n      <td>Puja</td>\n      <td>Srivastava</td>\n      <td>None</td>\n      <td>3,Raj Bhavan Road</td>\n      <td>Bangalore</td>\n      <td>None</td>\n      <td>India</td>\n      <td>560001</td>\n      <td>+91 080 22289999</td>\n      <td>...</td>\n      <td>3</td>\n      <td>218</td>\n      <td>59</td>\n      <td>2011-08-20 00:00:00</td>\n      <td>3,Raj Bhavan Road</td>\n      <td>Bangalore</td>\n      <td>None</td>\n      <td>India</td>\n      <td>560001</td>\n      <td>1.98</td>\n    </tr>\n    <tr>\n      <th>410</th>\n      <td>59</td>\n      <td>Puja</td>\n      <td>Srivastava</td>\n      <td>None</td>\n      <td>3,Raj Bhavan Road</td>\n      <td>Bangalore</td>\n      <td>None</td>\n      <td>India</td>\n      <td>560001</td>\n      <td>+91 080 22289999</td>\n      <td>...</td>\n      <td>3</td>\n      <td>229</td>\n      <td>59</td>\n      <td>2011-09-30 00:00:00</td>\n      <td>3,Raj Bhavan Road</td>\n      <td>Bangalore</td>\n      <td>None</td>\n      <td>India</td>\n      <td>560001</td>\n      <td>13.86</td>\n    </tr>\n    <tr>\n      <th>411</th>\n      <td>59</td>\n      <td>Puja</td>\n      <td>Srivastava</td>\n      <td>None</td>\n      <td>3,Raj Bhavan Road</td>\n      <td>Bangalore</td>\n      <td>None</td>\n      <td>India</td>\n      <td>560001</td>\n      <td>+91 080 22289999</td>\n      <td>...</td>\n      <td>3</td>\n      <td>284</td>\n      <td>59</td>\n      <td>2012-05-30 00:00:00</td>\n      <td>3,Raj Bhavan Road</td>\n      <td>Bangalore</td>\n      <td>None</td>\n      <td>India</td>\n      <td>560001</td>\n      <td>8.91</td>\n    </tr>\n  </tbody>\n</table>\n<p>412 rows × 22 columns</p>\n</div>"
     },
     "metadata": {},
     "execution_count": 12
    }
   ],
   "source": [
    "#necesitamos clientes con la tabla de facturas necesitamos las key id para poder relacionar dos tablas relacionales en este caso se hace por customerId -> tablas relacionales por eso se pueden relacionar join nos va a mostrar la interseccion es decir lo comun de las dos tablas where es un inner join es decir interseccion mejor usar join, porque nos permite usar left join, outter join inner join right join\n",
    "#con where para cada linea si para cada fila de costumerid coincide con algun valor de invoices en la columna de id\n",
    "query = \"\"\"\n",
    "SELECT *\n",
    "FROM customers, invoices\n",
    "WHERE customers.CustomerId = invoices.CustomerId \"\"\"\n",
    "pd.read_sql_query(query,connection)"
   ]
  },
  {
   "cell_type": "code",
   "execution_count": 13,
   "metadata": {},
   "outputs": [
    {
     "output_type": "execute_result",
     "data": {
      "text/plain": [
       "          Fullname  InvoiceId          InvoiceDate BillingCountry\n",
       "0    LuísGonçalves         98  2010-03-11 00:00:00         Brazil\n",
       "1    LuísGonçalves        121  2010-06-13 00:00:00         Brazil\n",
       "2    LuísGonçalves        143  2010-09-15 00:00:00         Brazil\n",
       "3    LuísGonçalves        195  2011-05-06 00:00:00         Brazil\n",
       "4    LuísGonçalves        316  2012-10-27 00:00:00         Brazil\n",
       "5    LuísGonçalves        327  2012-12-07 00:00:00         Brazil\n",
       "6    LuísGonçalves        382  2013-08-07 00:00:00         Brazil\n",
       "7   EduardoMartins         25  2009-04-09 00:00:00         Brazil\n",
       "8   EduardoMartins        154  2010-11-14 00:00:00         Brazil\n",
       "9   EduardoMartins        177  2011-02-16 00:00:00         Brazil\n",
       "10  EduardoMartins        199  2011-05-21 00:00:00         Brazil\n",
       "11  EduardoMartins        251  2012-01-09 00:00:00         Brazil\n",
       "12  EduardoMartins        372  2013-07-02 00:00:00         Brazil\n",
       "13  EduardoMartins        383  2013-08-12 00:00:00         Brazil\n",
       "14  AlexandreRocha         57  2009-09-06 00:00:00         Brazil\n",
       "15  AlexandreRocha         68  2009-10-17 00:00:00         Brazil\n",
       "16  AlexandreRocha        123  2010-06-17 00:00:00         Brazil\n",
       "17  AlexandreRocha        252  2012-01-22 00:00:00         Brazil\n",
       "18  AlexandreRocha        275  2012-04-25 00:00:00         Brazil\n",
       "19  AlexandreRocha        297  2012-07-28 00:00:00         Brazil\n",
       "20  AlexandreRocha        349  2013-03-18 00:00:00         Brazil\n",
       "21  RobertoAlmeida         34  2009-05-23 00:00:00         Brazil\n",
       "22  RobertoAlmeida        155  2010-11-14 00:00:00         Brazil\n",
       "23  RobertoAlmeida        166  2010-12-25 00:00:00         Brazil\n",
       "24  RobertoAlmeida        221  2011-08-25 00:00:00         Brazil\n",
       "25  RobertoAlmeida        350  2013-03-31 00:00:00         Brazil\n",
       "26  RobertoAlmeida        373  2013-07-03 00:00:00         Brazil\n",
       "27  RobertoAlmeida        395  2013-10-05 00:00:00         Brazil\n",
       "28   FernandaRamos         35  2009-06-05 00:00:00         Brazil\n",
       "29   FernandaRamos         58  2009-09-07 00:00:00         Brazil\n",
       "30   FernandaRamos         80  2009-12-10 00:00:00         Brazil\n",
       "31   FernandaRamos        132  2010-07-31 00:00:00         Brazil\n",
       "32   FernandaRamos        253  2012-01-22 00:00:00         Brazil\n",
       "33   FernandaRamos        264  2012-03-03 00:00:00         Brazil\n",
       "34   FernandaRamos        319  2012-11-01 00:00:00         Brazil"
      ],
      "text/html": "<div>\n<style scoped>\n    .dataframe tbody tr th:only-of-type {\n        vertical-align: middle;\n    }\n\n    .dataframe tbody tr th {\n        vertical-align: top;\n    }\n\n    .dataframe thead th {\n        text-align: right;\n    }\n</style>\n<table border=\"1\" class=\"dataframe\">\n  <thead>\n    <tr style=\"text-align: right;\">\n      <th></th>\n      <th>Fullname</th>\n      <th>InvoiceId</th>\n      <th>InvoiceDate</th>\n      <th>BillingCountry</th>\n    </tr>\n  </thead>\n  <tbody>\n    <tr>\n      <th>0</th>\n      <td>LuísGonçalves</td>\n      <td>98</td>\n      <td>2010-03-11 00:00:00</td>\n      <td>Brazil</td>\n    </tr>\n    <tr>\n      <th>1</th>\n      <td>LuísGonçalves</td>\n      <td>121</td>\n      <td>2010-06-13 00:00:00</td>\n      <td>Brazil</td>\n    </tr>\n    <tr>\n      <th>2</th>\n      <td>LuísGonçalves</td>\n      <td>143</td>\n      <td>2010-09-15 00:00:00</td>\n      <td>Brazil</td>\n    </tr>\n    <tr>\n      <th>3</th>\n      <td>LuísGonçalves</td>\n      <td>195</td>\n      <td>2011-05-06 00:00:00</td>\n      <td>Brazil</td>\n    </tr>\n    <tr>\n      <th>4</th>\n      <td>LuísGonçalves</td>\n      <td>316</td>\n      <td>2012-10-27 00:00:00</td>\n      <td>Brazil</td>\n    </tr>\n    <tr>\n      <th>5</th>\n      <td>LuísGonçalves</td>\n      <td>327</td>\n      <td>2012-12-07 00:00:00</td>\n      <td>Brazil</td>\n    </tr>\n    <tr>\n      <th>6</th>\n      <td>LuísGonçalves</td>\n      <td>382</td>\n      <td>2013-08-07 00:00:00</td>\n      <td>Brazil</td>\n    </tr>\n    <tr>\n      <th>7</th>\n      <td>EduardoMartins</td>\n      <td>25</td>\n      <td>2009-04-09 00:00:00</td>\n      <td>Brazil</td>\n    </tr>\n    <tr>\n      <th>8</th>\n      <td>EduardoMartins</td>\n      <td>154</td>\n      <td>2010-11-14 00:00:00</td>\n      <td>Brazil</td>\n    </tr>\n    <tr>\n      <th>9</th>\n      <td>EduardoMartins</td>\n      <td>177</td>\n      <td>2011-02-16 00:00:00</td>\n      <td>Brazil</td>\n    </tr>\n    <tr>\n      <th>10</th>\n      <td>EduardoMartins</td>\n      <td>199</td>\n      <td>2011-05-21 00:00:00</td>\n      <td>Brazil</td>\n    </tr>\n    <tr>\n      <th>11</th>\n      <td>EduardoMartins</td>\n      <td>251</td>\n      <td>2012-01-09 00:00:00</td>\n      <td>Brazil</td>\n    </tr>\n    <tr>\n      <th>12</th>\n      <td>EduardoMartins</td>\n      <td>372</td>\n      <td>2013-07-02 00:00:00</td>\n      <td>Brazil</td>\n    </tr>\n    <tr>\n      <th>13</th>\n      <td>EduardoMartins</td>\n      <td>383</td>\n      <td>2013-08-12 00:00:00</td>\n      <td>Brazil</td>\n    </tr>\n    <tr>\n      <th>14</th>\n      <td>AlexandreRocha</td>\n      <td>57</td>\n      <td>2009-09-06 00:00:00</td>\n      <td>Brazil</td>\n    </tr>\n    <tr>\n      <th>15</th>\n      <td>AlexandreRocha</td>\n      <td>68</td>\n      <td>2009-10-17 00:00:00</td>\n      <td>Brazil</td>\n    </tr>\n    <tr>\n      <th>16</th>\n      <td>AlexandreRocha</td>\n      <td>123</td>\n      <td>2010-06-17 00:00:00</td>\n      <td>Brazil</td>\n    </tr>\n    <tr>\n      <th>17</th>\n      <td>AlexandreRocha</td>\n      <td>252</td>\n      <td>2012-01-22 00:00:00</td>\n      <td>Brazil</td>\n    </tr>\n    <tr>\n      <th>18</th>\n      <td>AlexandreRocha</td>\n      <td>275</td>\n      <td>2012-04-25 00:00:00</td>\n      <td>Brazil</td>\n    </tr>\n    <tr>\n      <th>19</th>\n      <td>AlexandreRocha</td>\n      <td>297</td>\n      <td>2012-07-28 00:00:00</td>\n      <td>Brazil</td>\n    </tr>\n    <tr>\n      <th>20</th>\n      <td>AlexandreRocha</td>\n      <td>349</td>\n      <td>2013-03-18 00:00:00</td>\n      <td>Brazil</td>\n    </tr>\n    <tr>\n      <th>21</th>\n      <td>RobertoAlmeida</td>\n      <td>34</td>\n      <td>2009-05-23 00:00:00</td>\n      <td>Brazil</td>\n    </tr>\n    <tr>\n      <th>22</th>\n      <td>RobertoAlmeida</td>\n      <td>155</td>\n      <td>2010-11-14 00:00:00</td>\n      <td>Brazil</td>\n    </tr>\n    <tr>\n      <th>23</th>\n      <td>RobertoAlmeida</td>\n      <td>166</td>\n      <td>2010-12-25 00:00:00</td>\n      <td>Brazil</td>\n    </tr>\n    <tr>\n      <th>24</th>\n      <td>RobertoAlmeida</td>\n      <td>221</td>\n      <td>2011-08-25 00:00:00</td>\n      <td>Brazil</td>\n    </tr>\n    <tr>\n      <th>25</th>\n      <td>RobertoAlmeida</td>\n      <td>350</td>\n      <td>2013-03-31 00:00:00</td>\n      <td>Brazil</td>\n    </tr>\n    <tr>\n      <th>26</th>\n      <td>RobertoAlmeida</td>\n      <td>373</td>\n      <td>2013-07-03 00:00:00</td>\n      <td>Brazil</td>\n    </tr>\n    <tr>\n      <th>27</th>\n      <td>RobertoAlmeida</td>\n      <td>395</td>\n      <td>2013-10-05 00:00:00</td>\n      <td>Brazil</td>\n    </tr>\n    <tr>\n      <th>28</th>\n      <td>FernandaRamos</td>\n      <td>35</td>\n      <td>2009-06-05 00:00:00</td>\n      <td>Brazil</td>\n    </tr>\n    <tr>\n      <th>29</th>\n      <td>FernandaRamos</td>\n      <td>58</td>\n      <td>2009-09-07 00:00:00</td>\n      <td>Brazil</td>\n    </tr>\n    <tr>\n      <th>30</th>\n      <td>FernandaRamos</td>\n      <td>80</td>\n      <td>2009-12-10 00:00:00</td>\n      <td>Brazil</td>\n    </tr>\n    <tr>\n      <th>31</th>\n      <td>FernandaRamos</td>\n      <td>132</td>\n      <td>2010-07-31 00:00:00</td>\n      <td>Brazil</td>\n    </tr>\n    <tr>\n      <th>32</th>\n      <td>FernandaRamos</td>\n      <td>253</td>\n      <td>2012-01-22 00:00:00</td>\n      <td>Brazil</td>\n    </tr>\n    <tr>\n      <th>33</th>\n      <td>FernandaRamos</td>\n      <td>264</td>\n      <td>2012-03-03 00:00:00</td>\n      <td>Brazil</td>\n    </tr>\n    <tr>\n      <th>34</th>\n      <td>FernandaRamos</td>\n      <td>319</td>\n      <td>2012-11-01 00:00:00</td>\n      <td>Brazil</td>\n    </tr>\n  </tbody>\n</table>\n</div>"
     },
     "metadata": {},
     "execution_count": 13
    }
   ],
   "source": [
    "# le podemos poner alias ->customers c invoices -> i #join tiene como base inner por eso el numer ode rows es el mismo solo quiero ver esos campos, partiendo desde costumers uniendo con invoice para el pais brasil\n",
    "query = \"\"\"\n",
    "SELECT c.Firstname ||''||c.Lastname as \"Fullname\", i.invoiceId,i.invoiceDate,i.BillingCountry\n",
    "FROM customers c\n",
    "JOIN invoices i ON c.CustomerId = i.CustomerId\n",
    "WHERE c.Country= \"Brazil\" \"\"\"\n",
    "pd.read_sql_query(query,connection)"
   ]
  },
  {
   "cell_type": "code",
   "execution_count": 14,
   "metadata": {},
   "outputs": [
    {
     "output_type": "error",
     "ename": "DatabaseError",
     "evalue": "Execution failed on sql '\nSELECT c.Firstname ||''||c.Lastname as \"Fullname\", i.invoiceId,i.invoiceDate,i.BillingCountry\nFROM customers, invoices\nWHERE customers.CustomerId = invoices.CustomerId AND c.Country=\"Brazil\" \n': no such column: c.Firstname",
     "traceback": [
      "\u001b[1;31m---------------------------------------------------------------------------\u001b[0m",
      "\u001b[1;31mOperationalError\u001b[0m                          Traceback (most recent call last)",
      "\u001b[1;32m~\\AppData\\Local\\Programs\\Python\\Python37\\lib\\site-packages\\pandas\\io\\sql.py\u001b[0m in \u001b[0;36mexecute\u001b[1;34m(self, *args, **kwargs)\u001b[0m\n\u001b[0;32m   1724\u001b[0m         \u001b[1;32mtry\u001b[0m\u001b[1;33m:\u001b[0m\u001b[1;33m\u001b[0m\u001b[1;33m\u001b[0m\u001b[0m\n\u001b[1;32m-> 1725\u001b[1;33m             \u001b[0mcur\u001b[0m\u001b[1;33m.\u001b[0m\u001b[0mexecute\u001b[0m\u001b[1;33m(\u001b[0m\u001b[1;33m*\u001b[0m\u001b[0margs\u001b[0m\u001b[1;33m,\u001b[0m \u001b[1;33m**\u001b[0m\u001b[0mkwargs\u001b[0m\u001b[1;33m)\u001b[0m\u001b[1;33m\u001b[0m\u001b[1;33m\u001b[0m\u001b[0m\n\u001b[0m\u001b[0;32m   1726\u001b[0m             \u001b[1;32mreturn\u001b[0m \u001b[0mcur\u001b[0m\u001b[1;33m\u001b[0m\u001b[1;33m\u001b[0m\u001b[0m\n",
      "\u001b[1;31mOperationalError\u001b[0m: no such column: c.Firstname",
      "\nThe above exception was the direct cause of the following exception:\n",
      "\u001b[1;31mDatabaseError\u001b[0m                             Traceback (most recent call last)",
      "\u001b[1;32m<ipython-input-14-d58fa92101b4>\u001b[0m in \u001b[0;36m<module>\u001b[1;34m\u001b[0m\n\u001b[0;32m      5\u001b[0m \"\"\"\n\u001b[0;32m      6\u001b[0m \u001b[1;33m\u001b[0m\u001b[0m\n\u001b[1;32m----> 7\u001b[1;33m \u001b[0mpd\u001b[0m\u001b[1;33m.\u001b[0m\u001b[0mread_sql_query\u001b[0m\u001b[1;33m(\u001b[0m\u001b[0mquery\u001b[0m\u001b[1;33m,\u001b[0m\u001b[0mconnection\u001b[0m\u001b[1;33m)\u001b[0m\u001b[1;33m\u001b[0m\u001b[1;33m\u001b[0m\u001b[0m\n\u001b[0m",
      "\u001b[1;32m~\\AppData\\Local\\Programs\\Python\\Python37\\lib\\site-packages\\pandas\\io\\sql.py\u001b[0m in \u001b[0;36mread_sql_query\u001b[1;34m(sql, con, index_col, coerce_float, params, parse_dates, chunksize)\u001b[0m\n\u001b[0;32m    392\u001b[0m         \u001b[0mcoerce_float\u001b[0m\u001b[1;33m=\u001b[0m\u001b[0mcoerce_float\u001b[0m\u001b[1;33m,\u001b[0m\u001b[1;33m\u001b[0m\u001b[1;33m\u001b[0m\u001b[0m\n\u001b[0;32m    393\u001b[0m         \u001b[0mparse_dates\u001b[0m\u001b[1;33m=\u001b[0m\u001b[0mparse_dates\u001b[0m\u001b[1;33m,\u001b[0m\u001b[1;33m\u001b[0m\u001b[1;33m\u001b[0m\u001b[0m\n\u001b[1;32m--> 394\u001b[1;33m         \u001b[0mchunksize\u001b[0m\u001b[1;33m=\u001b[0m\u001b[0mchunksize\u001b[0m\u001b[1;33m,\u001b[0m\u001b[1;33m\u001b[0m\u001b[1;33m\u001b[0m\u001b[0m\n\u001b[0m\u001b[0;32m    395\u001b[0m     )\n\u001b[0;32m    396\u001b[0m \u001b[1;33m\u001b[0m\u001b[0m\n",
      "\u001b[1;32m~\\AppData\\Local\\Programs\\Python\\Python37\\lib\\site-packages\\pandas\\io\\sql.py\u001b[0m in \u001b[0;36mread_query\u001b[1;34m(self, sql, index_col, coerce_float, params, parse_dates, chunksize)\u001b[0m\n\u001b[0;32m   1769\u001b[0m \u001b[1;33m\u001b[0m\u001b[0m\n\u001b[0;32m   1770\u001b[0m         \u001b[0margs\u001b[0m \u001b[1;33m=\u001b[0m \u001b[0m_convert_params\u001b[0m\u001b[1;33m(\u001b[0m\u001b[0msql\u001b[0m\u001b[1;33m,\u001b[0m \u001b[0mparams\u001b[0m\u001b[1;33m)\u001b[0m\u001b[1;33m\u001b[0m\u001b[1;33m\u001b[0m\u001b[0m\n\u001b[1;32m-> 1771\u001b[1;33m         \u001b[0mcursor\u001b[0m \u001b[1;33m=\u001b[0m \u001b[0mself\u001b[0m\u001b[1;33m.\u001b[0m\u001b[0mexecute\u001b[0m\u001b[1;33m(\u001b[0m\u001b[1;33m*\u001b[0m\u001b[0margs\u001b[0m\u001b[1;33m)\u001b[0m\u001b[1;33m\u001b[0m\u001b[1;33m\u001b[0m\u001b[0m\n\u001b[0m\u001b[0;32m   1772\u001b[0m         \u001b[0mcolumns\u001b[0m \u001b[1;33m=\u001b[0m \u001b[1;33m[\u001b[0m\u001b[0mcol_desc\u001b[0m\u001b[1;33m[\u001b[0m\u001b[1;36m0\u001b[0m\u001b[1;33m]\u001b[0m \u001b[1;32mfor\u001b[0m \u001b[0mcol_desc\u001b[0m \u001b[1;32min\u001b[0m \u001b[0mcursor\u001b[0m\u001b[1;33m.\u001b[0m\u001b[0mdescription\u001b[0m\u001b[1;33m]\u001b[0m\u001b[1;33m\u001b[0m\u001b[1;33m\u001b[0m\u001b[0m\n\u001b[0;32m   1773\u001b[0m \u001b[1;33m\u001b[0m\u001b[0m\n",
      "\u001b[1;32m~\\AppData\\Local\\Programs\\Python\\Python37\\lib\\site-packages\\pandas\\io\\sql.py\u001b[0m in \u001b[0;36mexecute\u001b[1;34m(self, *args, **kwargs)\u001b[0m\n\u001b[0;32m   1735\u001b[0m \u001b[1;33m\u001b[0m\u001b[0m\n\u001b[0;32m   1736\u001b[0m             \u001b[0mex\u001b[0m \u001b[1;33m=\u001b[0m \u001b[0mDatabaseError\u001b[0m\u001b[1;33m(\u001b[0m\u001b[1;34mf\"Execution failed on sql '{args[0]}': {exc}\"\u001b[0m\u001b[1;33m)\u001b[0m\u001b[1;33m\u001b[0m\u001b[1;33m\u001b[0m\u001b[0m\n\u001b[1;32m-> 1737\u001b[1;33m             \u001b[1;32mraise\u001b[0m \u001b[0mex\u001b[0m \u001b[1;32mfrom\u001b[0m \u001b[0mexc\u001b[0m\u001b[1;33m\u001b[0m\u001b[1;33m\u001b[0m\u001b[0m\n\u001b[0m\u001b[0;32m   1738\u001b[0m \u001b[1;33m\u001b[0m\u001b[0m\n\u001b[0;32m   1739\u001b[0m     \u001b[1;33m@\u001b[0m\u001b[0mstaticmethod\u001b[0m\u001b[1;33m\u001b[0m\u001b[1;33m\u001b[0m\u001b[0m\n",
      "\u001b[1;31mDatabaseError\u001b[0m: Execution failed on sql '\nSELECT c.Firstname ||''||c.Lastname as \"Fullname\", i.invoiceId,i.invoiceDate,i.BillingCountry\nFROM customers, invoices\nWHERE customers.CustomerId = invoices.CustomerId AND c.Country=\"Brazil\" \n': no such column: c.Firstname"
     ]
    }
   ],
   "source": [
    "query = \"\"\"\n",
    "SELECT c.Firstname ||''||c.Lastname as \"Fullname\", i.invoiceId,i.invoiceDate,i.BillingCountry\n",
    "FROM customers, invoices\n",
    "WHERE customers.CustomerId = invoices.CustomerId AND c.Country=\"Brazil\" \n",
    "\"\"\"\n",
    "\n",
    "pd.read_sql_query(query,connection)"
   ]
  },
  {
   "source": [
    "### 2.\tFacturas de Clientes de Brasil"
   ],
   "cell_type": "markdown",
   "metadata": {}
  },
  {
   "cell_type": "code",
   "execution_count": 22,
   "metadata": {},
   "outputs": [
    {
     "output_type": "execute_result",
     "data": {
      "text/plain": [
       "    InvoiceId  CustomerId          InvoiceDate  \\\n",
       "0          98           1  2010-03-11 00:00:00   \n",
       "1         121           1  2010-06-13 00:00:00   \n",
       "2         143           1  2010-09-15 00:00:00   \n",
       "3         195           1  2011-05-06 00:00:00   \n",
       "4         316           1  2012-10-27 00:00:00   \n",
       "5         327           1  2012-12-07 00:00:00   \n",
       "6         382           1  2013-08-07 00:00:00   \n",
       "7          25          10  2009-04-09 00:00:00   \n",
       "8         154          10  2010-11-14 00:00:00   \n",
       "9         177          10  2011-02-16 00:00:00   \n",
       "10        199          10  2011-05-21 00:00:00   \n",
       "11        251          10  2012-01-09 00:00:00   \n",
       "12        372          10  2013-07-02 00:00:00   \n",
       "13        383          10  2013-08-12 00:00:00   \n",
       "14         57          11  2009-09-06 00:00:00   \n",
       "15         68          11  2009-10-17 00:00:00   \n",
       "16        123          11  2010-06-17 00:00:00   \n",
       "17        252          11  2012-01-22 00:00:00   \n",
       "18        275          11  2012-04-25 00:00:00   \n",
       "19        297          11  2012-07-28 00:00:00   \n",
       "20        349          11  2013-03-18 00:00:00   \n",
       "21         34          12  2009-05-23 00:00:00   \n",
       "22        155          12  2010-11-14 00:00:00   \n",
       "23        166          12  2010-12-25 00:00:00   \n",
       "24        221          12  2011-08-25 00:00:00   \n",
       "25        350          12  2013-03-31 00:00:00   \n",
       "26        373          12  2013-07-03 00:00:00   \n",
       "27        395          12  2013-10-05 00:00:00   \n",
       "28         35          13  2009-06-05 00:00:00   \n",
       "29         58          13  2009-09-07 00:00:00   \n",
       "30         80          13  2009-12-10 00:00:00   \n",
       "31        132          13  2010-07-31 00:00:00   \n",
       "32        253          13  2012-01-22 00:00:00   \n",
       "33        264          13  2012-03-03 00:00:00   \n",
       "34        319          13  2012-11-01 00:00:00   \n",
       "\n",
       "                     BillingAddress          BillingCity BillingState  \\\n",
       "0   Av. Brigadeiro Faria Lima, 2170  São José dos Campos           SP   \n",
       "1   Av. Brigadeiro Faria Lima, 2170  São José dos Campos           SP   \n",
       "2   Av. Brigadeiro Faria Lima, 2170  São José dos Campos           SP   \n",
       "3   Av. Brigadeiro Faria Lima, 2170  São José dos Campos           SP   \n",
       "4   Av. Brigadeiro Faria Lima, 2170  São José dos Campos           SP   \n",
       "5   Av. Brigadeiro Faria Lima, 2170  São José dos Campos           SP   \n",
       "6   Av. Brigadeiro Faria Lima, 2170  São José dos Campos           SP   \n",
       "7         Rua Dr. Falcão Filho, 155            São Paulo           SP   \n",
       "8         Rua Dr. Falcão Filho, 155            São Paulo           SP   \n",
       "9         Rua Dr. Falcão Filho, 155            São Paulo           SP   \n",
       "10        Rua Dr. Falcão Filho, 155            São Paulo           SP   \n",
       "11        Rua Dr. Falcão Filho, 155            São Paulo           SP   \n",
       "12        Rua Dr. Falcão Filho, 155            São Paulo           SP   \n",
       "13        Rua Dr. Falcão Filho, 155            São Paulo           SP   \n",
       "14               Av. Paulista, 2022            São Paulo           SP   \n",
       "15               Av. Paulista, 2022            São Paulo           SP   \n",
       "16               Av. Paulista, 2022            São Paulo           SP   \n",
       "17               Av. Paulista, 2022            São Paulo           SP   \n",
       "18               Av. Paulista, 2022            São Paulo           SP   \n",
       "19               Av. Paulista, 2022            São Paulo           SP   \n",
       "20               Av. Paulista, 2022            São Paulo           SP   \n",
       "21                 Praça Pio X, 119       Rio de Janeiro           RJ   \n",
       "22                 Praça Pio X, 119       Rio de Janeiro           RJ   \n",
       "23                 Praça Pio X, 119       Rio de Janeiro           RJ   \n",
       "24                 Praça Pio X, 119       Rio de Janeiro           RJ   \n",
       "25                 Praça Pio X, 119       Rio de Janeiro           RJ   \n",
       "26                 Praça Pio X, 119       Rio de Janeiro           RJ   \n",
       "27                 Praça Pio X, 119       Rio de Janeiro           RJ   \n",
       "28                     Qe 7 Bloco G             Brasília           DF   \n",
       "29                     Qe 7 Bloco G             Brasília           DF   \n",
       "30                     Qe 7 Bloco G             Brasília           DF   \n",
       "31                     Qe 7 Bloco G             Brasília           DF   \n",
       "32                     Qe 7 Bloco G             Brasília           DF   \n",
       "33                     Qe 7 Bloco G             Brasília           DF   \n",
       "34                     Qe 7 Bloco G             Brasília           DF   \n",
       "\n",
       "   BillingCountry BillingPostalCode  Total  \n",
       "0          Brazil         12227-000   3.98  \n",
       "1          Brazil         12227-000   3.96  \n",
       "2          Brazil         12227-000   5.94  \n",
       "3          Brazil         12227-000   0.99  \n",
       "4          Brazil         12227-000   1.98  \n",
       "5          Brazil         12227-000  13.86  \n",
       "6          Brazil         12227-000   8.91  \n",
       "7          Brazil         01007-010   8.91  \n",
       "8          Brazil         01007-010   1.98  \n",
       "9          Brazil         01007-010   3.96  \n",
       "10         Brazil         01007-010   5.94  \n",
       "11         Brazil         01007-010   0.99  \n",
       "12         Brazil         01007-010   1.98  \n",
       "13         Brazil         01007-010  13.86  \n",
       "14         Brazil         01310-200   1.98  \n",
       "15         Brazil         01310-200  13.86  \n",
       "16         Brazil         01310-200   8.91  \n",
       "17         Brazil         01310-200   1.98  \n",
       "18         Brazil         01310-200   3.96  \n",
       "19         Brazil         01310-200   5.94  \n",
       "20         Brazil         01310-200   0.99  \n",
       "21         Brazil         20040-020   0.99  \n",
       "22         Brazil         20040-020   1.98  \n",
       "23         Brazil         20040-020  13.86  \n",
       "24         Brazil         20040-020   8.91  \n",
       "25         Brazil         20040-020   1.98  \n",
       "26         Brazil         20040-020   3.96  \n",
       "27         Brazil         20040-020   5.94  \n",
       "28         Brazil         71020-677   1.98  \n",
       "29         Brazil         71020-677   3.96  \n",
       "30         Brazil         71020-677   5.94  \n",
       "31         Brazil         71020-677   0.99  \n",
       "32         Brazil         71020-677   1.98  \n",
       "33         Brazil         71020-677  13.86  \n",
       "34         Brazil         71020-677   8.91  "
      ],
      "text/html": "<div>\n<style scoped>\n    .dataframe tbody tr th:only-of-type {\n        vertical-align: middle;\n    }\n\n    .dataframe tbody tr th {\n        vertical-align: top;\n    }\n\n    .dataframe thead th {\n        text-align: right;\n    }\n</style>\n<table border=\"1\" class=\"dataframe\">\n  <thead>\n    <tr style=\"text-align: right;\">\n      <th></th>\n      <th>InvoiceId</th>\n      <th>CustomerId</th>\n      <th>InvoiceDate</th>\n      <th>BillingAddress</th>\n      <th>BillingCity</th>\n      <th>BillingState</th>\n      <th>BillingCountry</th>\n      <th>BillingPostalCode</th>\n      <th>Total</th>\n    </tr>\n  </thead>\n  <tbody>\n    <tr>\n      <th>0</th>\n      <td>98</td>\n      <td>1</td>\n      <td>2010-03-11 00:00:00</td>\n      <td>Av. Brigadeiro Faria Lima, 2170</td>\n      <td>São José dos Campos</td>\n      <td>SP</td>\n      <td>Brazil</td>\n      <td>12227-000</td>\n      <td>3.98</td>\n    </tr>\n    <tr>\n      <th>1</th>\n      <td>121</td>\n      <td>1</td>\n      <td>2010-06-13 00:00:00</td>\n      <td>Av. Brigadeiro Faria Lima, 2170</td>\n      <td>São José dos Campos</td>\n      <td>SP</td>\n      <td>Brazil</td>\n      <td>12227-000</td>\n      <td>3.96</td>\n    </tr>\n    <tr>\n      <th>2</th>\n      <td>143</td>\n      <td>1</td>\n      <td>2010-09-15 00:00:00</td>\n      <td>Av. Brigadeiro Faria Lima, 2170</td>\n      <td>São José dos Campos</td>\n      <td>SP</td>\n      <td>Brazil</td>\n      <td>12227-000</td>\n      <td>5.94</td>\n    </tr>\n    <tr>\n      <th>3</th>\n      <td>195</td>\n      <td>1</td>\n      <td>2011-05-06 00:00:00</td>\n      <td>Av. Brigadeiro Faria Lima, 2170</td>\n      <td>São José dos Campos</td>\n      <td>SP</td>\n      <td>Brazil</td>\n      <td>12227-000</td>\n      <td>0.99</td>\n    </tr>\n    <tr>\n      <th>4</th>\n      <td>316</td>\n      <td>1</td>\n      <td>2012-10-27 00:00:00</td>\n      <td>Av. Brigadeiro Faria Lima, 2170</td>\n      <td>São José dos Campos</td>\n      <td>SP</td>\n      <td>Brazil</td>\n      <td>12227-000</td>\n      <td>1.98</td>\n    </tr>\n    <tr>\n      <th>5</th>\n      <td>327</td>\n      <td>1</td>\n      <td>2012-12-07 00:00:00</td>\n      <td>Av. Brigadeiro Faria Lima, 2170</td>\n      <td>São José dos Campos</td>\n      <td>SP</td>\n      <td>Brazil</td>\n      <td>12227-000</td>\n      <td>13.86</td>\n    </tr>\n    <tr>\n      <th>6</th>\n      <td>382</td>\n      <td>1</td>\n      <td>2013-08-07 00:00:00</td>\n      <td>Av. Brigadeiro Faria Lima, 2170</td>\n      <td>São José dos Campos</td>\n      <td>SP</td>\n      <td>Brazil</td>\n      <td>12227-000</td>\n      <td>8.91</td>\n    </tr>\n    <tr>\n      <th>7</th>\n      <td>25</td>\n      <td>10</td>\n      <td>2009-04-09 00:00:00</td>\n      <td>Rua Dr. Falcão Filho, 155</td>\n      <td>São Paulo</td>\n      <td>SP</td>\n      <td>Brazil</td>\n      <td>01007-010</td>\n      <td>8.91</td>\n    </tr>\n    <tr>\n      <th>8</th>\n      <td>154</td>\n      <td>10</td>\n      <td>2010-11-14 00:00:00</td>\n      <td>Rua Dr. Falcão Filho, 155</td>\n      <td>São Paulo</td>\n      <td>SP</td>\n      <td>Brazil</td>\n      <td>01007-010</td>\n      <td>1.98</td>\n    </tr>\n    <tr>\n      <th>9</th>\n      <td>177</td>\n      <td>10</td>\n      <td>2011-02-16 00:00:00</td>\n      <td>Rua Dr. Falcão Filho, 155</td>\n      <td>São Paulo</td>\n      <td>SP</td>\n      <td>Brazil</td>\n      <td>01007-010</td>\n      <td>3.96</td>\n    </tr>\n    <tr>\n      <th>10</th>\n      <td>199</td>\n      <td>10</td>\n      <td>2011-05-21 00:00:00</td>\n      <td>Rua Dr. Falcão Filho, 155</td>\n      <td>São Paulo</td>\n      <td>SP</td>\n      <td>Brazil</td>\n      <td>01007-010</td>\n      <td>5.94</td>\n    </tr>\n    <tr>\n      <th>11</th>\n      <td>251</td>\n      <td>10</td>\n      <td>2012-01-09 00:00:00</td>\n      <td>Rua Dr. Falcão Filho, 155</td>\n      <td>São Paulo</td>\n      <td>SP</td>\n      <td>Brazil</td>\n      <td>01007-010</td>\n      <td>0.99</td>\n    </tr>\n    <tr>\n      <th>12</th>\n      <td>372</td>\n      <td>10</td>\n      <td>2013-07-02 00:00:00</td>\n      <td>Rua Dr. Falcão Filho, 155</td>\n      <td>São Paulo</td>\n      <td>SP</td>\n      <td>Brazil</td>\n      <td>01007-010</td>\n      <td>1.98</td>\n    </tr>\n    <tr>\n      <th>13</th>\n      <td>383</td>\n      <td>10</td>\n      <td>2013-08-12 00:00:00</td>\n      <td>Rua Dr. Falcão Filho, 155</td>\n      <td>São Paulo</td>\n      <td>SP</td>\n      <td>Brazil</td>\n      <td>01007-010</td>\n      <td>13.86</td>\n    </tr>\n    <tr>\n      <th>14</th>\n      <td>57</td>\n      <td>11</td>\n      <td>2009-09-06 00:00:00</td>\n      <td>Av. Paulista, 2022</td>\n      <td>São Paulo</td>\n      <td>SP</td>\n      <td>Brazil</td>\n      <td>01310-200</td>\n      <td>1.98</td>\n    </tr>\n    <tr>\n      <th>15</th>\n      <td>68</td>\n      <td>11</td>\n      <td>2009-10-17 00:00:00</td>\n      <td>Av. Paulista, 2022</td>\n      <td>São Paulo</td>\n      <td>SP</td>\n      <td>Brazil</td>\n      <td>01310-200</td>\n      <td>13.86</td>\n    </tr>\n    <tr>\n      <th>16</th>\n      <td>123</td>\n      <td>11</td>\n      <td>2010-06-17 00:00:00</td>\n      <td>Av. Paulista, 2022</td>\n      <td>São Paulo</td>\n      <td>SP</td>\n      <td>Brazil</td>\n      <td>01310-200</td>\n      <td>8.91</td>\n    </tr>\n    <tr>\n      <th>17</th>\n      <td>252</td>\n      <td>11</td>\n      <td>2012-01-22 00:00:00</td>\n      <td>Av. Paulista, 2022</td>\n      <td>São Paulo</td>\n      <td>SP</td>\n      <td>Brazil</td>\n      <td>01310-200</td>\n      <td>1.98</td>\n    </tr>\n    <tr>\n      <th>18</th>\n      <td>275</td>\n      <td>11</td>\n      <td>2012-04-25 00:00:00</td>\n      <td>Av. Paulista, 2022</td>\n      <td>São Paulo</td>\n      <td>SP</td>\n      <td>Brazil</td>\n      <td>01310-200</td>\n      <td>3.96</td>\n    </tr>\n    <tr>\n      <th>19</th>\n      <td>297</td>\n      <td>11</td>\n      <td>2012-07-28 00:00:00</td>\n      <td>Av. Paulista, 2022</td>\n      <td>São Paulo</td>\n      <td>SP</td>\n      <td>Brazil</td>\n      <td>01310-200</td>\n      <td>5.94</td>\n    </tr>\n    <tr>\n      <th>20</th>\n      <td>349</td>\n      <td>11</td>\n      <td>2013-03-18 00:00:00</td>\n      <td>Av. Paulista, 2022</td>\n      <td>São Paulo</td>\n      <td>SP</td>\n      <td>Brazil</td>\n      <td>01310-200</td>\n      <td>0.99</td>\n    </tr>\n    <tr>\n      <th>21</th>\n      <td>34</td>\n      <td>12</td>\n      <td>2009-05-23 00:00:00</td>\n      <td>Praça Pio X, 119</td>\n      <td>Rio de Janeiro</td>\n      <td>RJ</td>\n      <td>Brazil</td>\n      <td>20040-020</td>\n      <td>0.99</td>\n    </tr>\n    <tr>\n      <th>22</th>\n      <td>155</td>\n      <td>12</td>\n      <td>2010-11-14 00:00:00</td>\n      <td>Praça Pio X, 119</td>\n      <td>Rio de Janeiro</td>\n      <td>RJ</td>\n      <td>Brazil</td>\n      <td>20040-020</td>\n      <td>1.98</td>\n    </tr>\n    <tr>\n      <th>23</th>\n      <td>166</td>\n      <td>12</td>\n      <td>2010-12-25 00:00:00</td>\n      <td>Praça Pio X, 119</td>\n      <td>Rio de Janeiro</td>\n      <td>RJ</td>\n      <td>Brazil</td>\n      <td>20040-020</td>\n      <td>13.86</td>\n    </tr>\n    <tr>\n      <th>24</th>\n      <td>221</td>\n      <td>12</td>\n      <td>2011-08-25 00:00:00</td>\n      <td>Praça Pio X, 119</td>\n      <td>Rio de Janeiro</td>\n      <td>RJ</td>\n      <td>Brazil</td>\n      <td>20040-020</td>\n      <td>8.91</td>\n    </tr>\n    <tr>\n      <th>25</th>\n      <td>350</td>\n      <td>12</td>\n      <td>2013-03-31 00:00:00</td>\n      <td>Praça Pio X, 119</td>\n      <td>Rio de Janeiro</td>\n      <td>RJ</td>\n      <td>Brazil</td>\n      <td>20040-020</td>\n      <td>1.98</td>\n    </tr>\n    <tr>\n      <th>26</th>\n      <td>373</td>\n      <td>12</td>\n      <td>2013-07-03 00:00:00</td>\n      <td>Praça Pio X, 119</td>\n      <td>Rio de Janeiro</td>\n      <td>RJ</td>\n      <td>Brazil</td>\n      <td>20040-020</td>\n      <td>3.96</td>\n    </tr>\n    <tr>\n      <th>27</th>\n      <td>395</td>\n      <td>12</td>\n      <td>2013-10-05 00:00:00</td>\n      <td>Praça Pio X, 119</td>\n      <td>Rio de Janeiro</td>\n      <td>RJ</td>\n      <td>Brazil</td>\n      <td>20040-020</td>\n      <td>5.94</td>\n    </tr>\n    <tr>\n      <th>28</th>\n      <td>35</td>\n      <td>13</td>\n      <td>2009-06-05 00:00:00</td>\n      <td>Qe 7 Bloco G</td>\n      <td>Brasília</td>\n      <td>DF</td>\n      <td>Brazil</td>\n      <td>71020-677</td>\n      <td>1.98</td>\n    </tr>\n    <tr>\n      <th>29</th>\n      <td>58</td>\n      <td>13</td>\n      <td>2009-09-07 00:00:00</td>\n      <td>Qe 7 Bloco G</td>\n      <td>Brasília</td>\n      <td>DF</td>\n      <td>Brazil</td>\n      <td>71020-677</td>\n      <td>3.96</td>\n    </tr>\n    <tr>\n      <th>30</th>\n      <td>80</td>\n      <td>13</td>\n      <td>2009-12-10 00:00:00</td>\n      <td>Qe 7 Bloco G</td>\n      <td>Brasília</td>\n      <td>DF</td>\n      <td>Brazil</td>\n      <td>71020-677</td>\n      <td>5.94</td>\n    </tr>\n    <tr>\n      <th>31</th>\n      <td>132</td>\n      <td>13</td>\n      <td>2010-07-31 00:00:00</td>\n      <td>Qe 7 Bloco G</td>\n      <td>Brasília</td>\n      <td>DF</td>\n      <td>Brazil</td>\n      <td>71020-677</td>\n      <td>0.99</td>\n    </tr>\n    <tr>\n      <th>32</th>\n      <td>253</td>\n      <td>13</td>\n      <td>2012-01-22 00:00:00</td>\n      <td>Qe 7 Bloco G</td>\n      <td>Brasília</td>\n      <td>DF</td>\n      <td>Brazil</td>\n      <td>71020-677</td>\n      <td>1.98</td>\n    </tr>\n    <tr>\n      <th>33</th>\n      <td>264</td>\n      <td>13</td>\n      <td>2012-03-03 00:00:00</td>\n      <td>Qe 7 Bloco G</td>\n      <td>Brasília</td>\n      <td>DF</td>\n      <td>Brazil</td>\n      <td>71020-677</td>\n      <td>13.86</td>\n    </tr>\n    <tr>\n      <th>34</th>\n      <td>319</td>\n      <td>13</td>\n      <td>2012-11-01 00:00:00</td>\n      <td>Qe 7 Bloco G</td>\n      <td>Brasília</td>\n      <td>DF</td>\n      <td>Brazil</td>\n      <td>71020-677</td>\n      <td>8.91</td>\n    </tr>\n  </tbody>\n</table>\n</div>"
     },
     "metadata": {},
     "execution_count": 22
    }
   ],
   "source": [
    "query = \"\"\"\n",
    "SELECT i.*\n",
    "FROM customers c\n",
    "JOIN invoices i ON c.CustomerId = i.CustomerId\n",
    "WHERE c.Country= \"Brazil\"\n",
    "\"\"\"\n",
    "\n",
    "pd.read_sql_query(query,connection)"
   ]
  },
  {
   "source": [
    "### 3.\tMuestra cada factura asociada a cada agente de ventas con su nombre completo."
   ],
   "cell_type": "markdown",
   "metadata": {}
  },
  {
   "cell_type": "code",
   "execution_count": 30,
   "metadata": {},
   "outputs": [
    {
     "output_type": "execute_result",
     "data": {
      "text/plain": [
       "     InvoiceId  CustomerId          InvoiceDate  \\\n",
       "0           98           1  2010-03-11 00:00:00   \n",
       "1          121           1  2010-06-13 00:00:00   \n",
       "2          143           1  2010-09-15 00:00:00   \n",
       "3          195           1  2011-05-06 00:00:00   \n",
       "4          316           1  2012-10-27 00:00:00   \n",
       "..         ...         ...                  ...   \n",
       "407         88          57  2010-01-13 00:00:00   \n",
       "408        217          57  2011-08-20 00:00:00   \n",
       "409        240          57  2011-11-22 00:00:00   \n",
       "410        262          57  2012-02-24 00:00:00   \n",
       "411        314          57  2012-10-14 00:00:00   \n",
       "\n",
       "                      BillingAddress          BillingCity BillingState  \\\n",
       "0    Av. Brigadeiro Faria Lima, 2170  São José dos Campos           SP   \n",
       "1    Av. Brigadeiro Faria Lima, 2170  São José dos Campos           SP   \n",
       "2    Av. Brigadeiro Faria Lima, 2170  São José dos Campos           SP   \n",
       "3    Av. Brigadeiro Faria Lima, 2170  São José dos Campos           SP   \n",
       "4    Av. Brigadeiro Faria Lima, 2170  São José dos Campos           SP   \n",
       "..                               ...                  ...          ...   \n",
       "407                  Calle Lira, 198             Santiago         None   \n",
       "408                  Calle Lira, 198             Santiago         None   \n",
       "409                  Calle Lira, 198             Santiago         None   \n",
       "410                  Calle Lira, 198             Santiago         None   \n",
       "411                  Calle Lira, 198             Santiago         None   \n",
       "\n",
       "    BillingCountry BillingPostalCode  Total      Fullname  \n",
       "0           Brazil         12227-000   3.98   JanePeacock  \n",
       "1           Brazil         12227-000   3.96   JanePeacock  \n",
       "2           Brazil         12227-000   5.94   JanePeacock  \n",
       "3           Brazil         12227-000   0.99   JanePeacock  \n",
       "4           Brazil         12227-000   1.98   JanePeacock  \n",
       "..             ...               ...    ...           ...  \n",
       "407          Chile              None  17.91  SteveJohnson  \n",
       "408          Chile              None   1.98  SteveJohnson  \n",
       "409          Chile              None   3.96  SteveJohnson  \n",
       "410          Chile              None   5.94  SteveJohnson  \n",
       "411          Chile              None   0.99  SteveJohnson  \n",
       "\n",
       "[412 rows x 10 columns]"
      ],
      "text/html": "<div>\n<style scoped>\n    .dataframe tbody tr th:only-of-type {\n        vertical-align: middle;\n    }\n\n    .dataframe tbody tr th {\n        vertical-align: top;\n    }\n\n    .dataframe thead th {\n        text-align: right;\n    }\n</style>\n<table border=\"1\" class=\"dataframe\">\n  <thead>\n    <tr style=\"text-align: right;\">\n      <th></th>\n      <th>InvoiceId</th>\n      <th>CustomerId</th>\n      <th>InvoiceDate</th>\n      <th>BillingAddress</th>\n      <th>BillingCity</th>\n      <th>BillingState</th>\n      <th>BillingCountry</th>\n      <th>BillingPostalCode</th>\n      <th>Total</th>\n      <th>Fullname</th>\n    </tr>\n  </thead>\n  <tbody>\n    <tr>\n      <th>0</th>\n      <td>98</td>\n      <td>1</td>\n      <td>2010-03-11 00:00:00</td>\n      <td>Av. Brigadeiro Faria Lima, 2170</td>\n      <td>São José dos Campos</td>\n      <td>SP</td>\n      <td>Brazil</td>\n      <td>12227-000</td>\n      <td>3.98</td>\n      <td>JanePeacock</td>\n    </tr>\n    <tr>\n      <th>1</th>\n      <td>121</td>\n      <td>1</td>\n      <td>2010-06-13 00:00:00</td>\n      <td>Av. Brigadeiro Faria Lima, 2170</td>\n      <td>São José dos Campos</td>\n      <td>SP</td>\n      <td>Brazil</td>\n      <td>12227-000</td>\n      <td>3.96</td>\n      <td>JanePeacock</td>\n    </tr>\n    <tr>\n      <th>2</th>\n      <td>143</td>\n      <td>1</td>\n      <td>2010-09-15 00:00:00</td>\n      <td>Av. Brigadeiro Faria Lima, 2170</td>\n      <td>São José dos Campos</td>\n      <td>SP</td>\n      <td>Brazil</td>\n      <td>12227-000</td>\n      <td>5.94</td>\n      <td>JanePeacock</td>\n    </tr>\n    <tr>\n      <th>3</th>\n      <td>195</td>\n      <td>1</td>\n      <td>2011-05-06 00:00:00</td>\n      <td>Av. Brigadeiro Faria Lima, 2170</td>\n      <td>São José dos Campos</td>\n      <td>SP</td>\n      <td>Brazil</td>\n      <td>12227-000</td>\n      <td>0.99</td>\n      <td>JanePeacock</td>\n    </tr>\n    <tr>\n      <th>4</th>\n      <td>316</td>\n      <td>1</td>\n      <td>2012-10-27 00:00:00</td>\n      <td>Av. Brigadeiro Faria Lima, 2170</td>\n      <td>São José dos Campos</td>\n      <td>SP</td>\n      <td>Brazil</td>\n      <td>12227-000</td>\n      <td>1.98</td>\n      <td>JanePeacock</td>\n    </tr>\n    <tr>\n      <th>...</th>\n      <td>...</td>\n      <td>...</td>\n      <td>...</td>\n      <td>...</td>\n      <td>...</td>\n      <td>...</td>\n      <td>...</td>\n      <td>...</td>\n      <td>...</td>\n      <td>...</td>\n    </tr>\n    <tr>\n      <th>407</th>\n      <td>88</td>\n      <td>57</td>\n      <td>2010-01-13 00:00:00</td>\n      <td>Calle Lira, 198</td>\n      <td>Santiago</td>\n      <td>None</td>\n      <td>Chile</td>\n      <td>None</td>\n      <td>17.91</td>\n      <td>SteveJohnson</td>\n    </tr>\n    <tr>\n      <th>408</th>\n      <td>217</td>\n      <td>57</td>\n      <td>2011-08-20 00:00:00</td>\n      <td>Calle Lira, 198</td>\n      <td>Santiago</td>\n      <td>None</td>\n      <td>Chile</td>\n      <td>None</td>\n      <td>1.98</td>\n      <td>SteveJohnson</td>\n    </tr>\n    <tr>\n      <th>409</th>\n      <td>240</td>\n      <td>57</td>\n      <td>2011-11-22 00:00:00</td>\n      <td>Calle Lira, 198</td>\n      <td>Santiago</td>\n      <td>None</td>\n      <td>Chile</td>\n      <td>None</td>\n      <td>3.96</td>\n      <td>SteveJohnson</td>\n    </tr>\n    <tr>\n      <th>410</th>\n      <td>262</td>\n      <td>57</td>\n      <td>2012-02-24 00:00:00</td>\n      <td>Calle Lira, 198</td>\n      <td>Santiago</td>\n      <td>None</td>\n      <td>Chile</td>\n      <td>None</td>\n      <td>5.94</td>\n      <td>SteveJohnson</td>\n    </tr>\n    <tr>\n      <th>411</th>\n      <td>314</td>\n      <td>57</td>\n      <td>2012-10-14 00:00:00</td>\n      <td>Calle Lira, 198</td>\n      <td>Santiago</td>\n      <td>None</td>\n      <td>Chile</td>\n      <td>None</td>\n      <td>0.99</td>\n      <td>SteveJohnson</td>\n    </tr>\n  </tbody>\n</table>\n<p>412 rows × 10 columns</p>\n</div>"
     },
     "metadata": {},
     "execution_count": 30
    }
   ],
   "source": [
    "query = \"\"\"\n",
    "SELECT i.*, e.FirstName ||\"\"|| e.LastName as \"Fullname\"\n",
    "FROM employees e \n",
    "JOIN customers c ON e.EmployeeId  = c.SupportRepId\n",
    "JOIN invoices i ON i.CustomerId = c.CustomerId\n",
    "\"\"\"\n",
    "pd.read_sql_query(query,connection)"
   ]
  },
  {
   "source": [
    "### 4.\tPara cada factura muestra el nombre del cliente, el país, el nombre del agente y el total"
   ],
   "cell_type": "markdown",
   "metadata": {}
  },
  {
   "cell_type": "code",
   "execution_count": 47,
   "metadata": {},
   "outputs": [
    {
     "output_type": "execute_result",
     "data": {
      "text/plain": [
       "    FullNameEmployee  InvoiceId FullNameCustomer Country  Total\n",
       "0       Jane Peacock         98   Luís Gonçalves  Brazil   3.98\n",
       "1       Jane Peacock        121   Luís Gonçalves  Brazil   3.96\n",
       "2       Jane Peacock        143   Luís Gonçalves  Brazil   5.94\n",
       "3       Jane Peacock        195   Luís Gonçalves  Brazil   0.99\n",
       "4       Jane Peacock        316   Luís Gonçalves  Brazil   1.98\n",
       "..               ...        ...              ...     ...    ...\n",
       "407     Jane Peacock         45  Puja Srivastava   India   5.94\n",
       "408     Jane Peacock         97  Puja Srivastava   India   1.99\n",
       "409     Jane Peacock        218  Puja Srivastava   India   1.98\n",
       "410     Jane Peacock        229  Puja Srivastava   India  13.86\n",
       "411     Jane Peacock        284  Puja Srivastava   India   8.91\n",
       "\n",
       "[412 rows x 5 columns]"
      ],
      "text/html": "<div>\n<style scoped>\n    .dataframe tbody tr th:only-of-type {\n        vertical-align: middle;\n    }\n\n    .dataframe tbody tr th {\n        vertical-align: top;\n    }\n\n    .dataframe thead th {\n        text-align: right;\n    }\n</style>\n<table border=\"1\" class=\"dataframe\">\n  <thead>\n    <tr style=\"text-align: right;\">\n      <th></th>\n      <th>FullNameEmployee</th>\n      <th>InvoiceId</th>\n      <th>FullNameCustomer</th>\n      <th>Country</th>\n      <th>Total</th>\n    </tr>\n  </thead>\n  <tbody>\n    <tr>\n      <th>0</th>\n      <td>Jane Peacock</td>\n      <td>98</td>\n      <td>Luís Gonçalves</td>\n      <td>Brazil</td>\n      <td>3.98</td>\n    </tr>\n    <tr>\n      <th>1</th>\n      <td>Jane Peacock</td>\n      <td>121</td>\n      <td>Luís Gonçalves</td>\n      <td>Brazil</td>\n      <td>3.96</td>\n    </tr>\n    <tr>\n      <th>2</th>\n      <td>Jane Peacock</td>\n      <td>143</td>\n      <td>Luís Gonçalves</td>\n      <td>Brazil</td>\n      <td>5.94</td>\n    </tr>\n    <tr>\n      <th>3</th>\n      <td>Jane Peacock</td>\n      <td>195</td>\n      <td>Luís Gonçalves</td>\n      <td>Brazil</td>\n      <td>0.99</td>\n    </tr>\n    <tr>\n      <th>4</th>\n      <td>Jane Peacock</td>\n      <td>316</td>\n      <td>Luís Gonçalves</td>\n      <td>Brazil</td>\n      <td>1.98</td>\n    </tr>\n    <tr>\n      <th>...</th>\n      <td>...</td>\n      <td>...</td>\n      <td>...</td>\n      <td>...</td>\n      <td>...</td>\n    </tr>\n    <tr>\n      <th>407</th>\n      <td>Jane Peacock</td>\n      <td>45</td>\n      <td>Puja Srivastava</td>\n      <td>India</td>\n      <td>5.94</td>\n    </tr>\n    <tr>\n      <th>408</th>\n      <td>Jane Peacock</td>\n      <td>97</td>\n      <td>Puja Srivastava</td>\n      <td>India</td>\n      <td>1.99</td>\n    </tr>\n    <tr>\n      <th>409</th>\n      <td>Jane Peacock</td>\n      <td>218</td>\n      <td>Puja Srivastava</td>\n      <td>India</td>\n      <td>1.98</td>\n    </tr>\n    <tr>\n      <th>410</th>\n      <td>Jane Peacock</td>\n      <td>229</td>\n      <td>Puja Srivastava</td>\n      <td>India</td>\n      <td>13.86</td>\n    </tr>\n    <tr>\n      <th>411</th>\n      <td>Jane Peacock</td>\n      <td>284</td>\n      <td>Puja Srivastava</td>\n      <td>India</td>\n      <td>8.91</td>\n    </tr>\n  </tbody>\n</table>\n<p>412 rows × 5 columns</p>\n</div>"
     },
     "metadata": {},
     "execution_count": 47
    }
   ],
   "source": [
    "query = \"\"\"\n",
    "SELECT e.FirstName||\" \"||e.LastName as \"FullNameEmployee\", i.InvoiceId, c.FirstName||\" \"||c.LastName as \"FullNameCustomer\", c.Country, i.Total\n",
    "FROM employees e \n",
    "JOIN customers c ON e.EmployeeId  = c.SupportRepId\n",
    "JOIN invoices i ON i.CustomerId = c.CustomerId\n",
    "\n",
    "\n",
    "\"\"\"\n",
    "\n",
    "pd.read_sql_query(query,connection)"
   ]
  },
  {
   "source": [
    "### 5.\tMuestra cada artículo de la factura con el nombre de la canción."
   ],
   "cell_type": "markdown",
   "metadata": {}
  },
  {
   "cell_type": "code",
   "execution_count": 45,
   "metadata": {},
   "outputs": [
    {
     "output_type": "execute_result",
     "data": {
      "text/plain": [
       "      InvoiceId                           Name\n",
       "0            98            Experiment In Terra\n",
       "1            98              Take the Celestra\n",
       "2           121              Shout It Out Loud\n",
       "3           121               Calling Dr. Love\n",
       "4           121                       Strutter\n",
       "...         ...                            ...\n",
       "2235        284           Esporrei Na Manivela\n",
       "2236        284  No Fundo Do Quintal Da Escola\n",
       "2237        284                 Que Luz É Essa\n",
       "2238        284          The Power Of Equality\n",
       "2239        284   Mellowship Slinky In B Major\n",
       "\n",
       "[2240 rows x 2 columns]"
      ],
      "text/html": "<div>\n<style scoped>\n    .dataframe tbody tr th:only-of-type {\n        vertical-align: middle;\n    }\n\n    .dataframe tbody tr th {\n        vertical-align: top;\n    }\n\n    .dataframe thead th {\n        text-align: right;\n    }\n</style>\n<table border=\"1\" class=\"dataframe\">\n  <thead>\n    <tr style=\"text-align: right;\">\n      <th></th>\n      <th>InvoiceId</th>\n      <th>Name</th>\n    </tr>\n  </thead>\n  <tbody>\n    <tr>\n      <th>0</th>\n      <td>98</td>\n      <td>Experiment In Terra</td>\n    </tr>\n    <tr>\n      <th>1</th>\n      <td>98</td>\n      <td>Take the Celestra</td>\n    </tr>\n    <tr>\n      <th>2</th>\n      <td>121</td>\n      <td>Shout It Out Loud</td>\n    </tr>\n    <tr>\n      <th>3</th>\n      <td>121</td>\n      <td>Calling Dr. Love</td>\n    </tr>\n    <tr>\n      <th>4</th>\n      <td>121</td>\n      <td>Strutter</td>\n    </tr>\n    <tr>\n      <th>...</th>\n      <td>...</td>\n      <td>...</td>\n    </tr>\n    <tr>\n      <th>2235</th>\n      <td>284</td>\n      <td>Esporrei Na Manivela</td>\n    </tr>\n    <tr>\n      <th>2236</th>\n      <td>284</td>\n      <td>No Fundo Do Quintal Da Escola</td>\n    </tr>\n    <tr>\n      <th>2237</th>\n      <td>284</td>\n      <td>Que Luz É Essa</td>\n    </tr>\n    <tr>\n      <th>2238</th>\n      <td>284</td>\n      <td>The Power Of Equality</td>\n    </tr>\n    <tr>\n      <th>2239</th>\n      <td>284</td>\n      <td>Mellowship Slinky In B Major</td>\n    </tr>\n  </tbody>\n</table>\n<p>2240 rows × 2 columns</p>\n</div>"
     },
     "metadata": {},
     "execution_count": 45
    }
   ],
   "source": [
    "query = \"\"\"\n",
    "SELECT i.InvoiceId,t.name \n",
    "FROM Invoice_Items i \n",
    "JOIN invoices ii ON i.InvoiceId = ii.InvoiceId\n",
    "JOIN tracks t ON t.TrackId = i.TrackId\n",
    "\"\"\"\n",
    "\n",
    "pd.read_sql_query(query,connection)"
   ]
  },
  {
   "source": [
    "### 6.\tMuestra todas las canciones con su nombre, formato, álbum y género."
   ],
   "cell_type": "markdown",
   "metadata": {}
  },
  {
   "cell_type": "code",
   "execution_count": 13,
   "metadata": {},
   "outputs": [
    {
     "output_type": "execute_result",
     "data": {
      "text/plain": [
       "                                              Song Name  \\\n",
       "0               For Those About To Rock (We Salute You)   \n",
       "1                                     Balls to the Wall   \n",
       "2                                       Fast As a Shark   \n",
       "3                                     Restless and Wild   \n",
       "4                                  Princess of the Dawn   \n",
       "...                                                 ...   \n",
       "3498  Pini Di Roma (Pinien Von Rom) \\ I Pini Della V...   \n",
       "3499  String Quartet No. 12 in C Minor, D. 703 \"Quar...   \n",
       "3500               L'orfeo, Act 3, Sinfonia (Orchestra)   \n",
       "3501  Quintet for Horn, Violin, 2 Violas, and Cello ...   \n",
       "3502  Die Zauberflöte, K.620: \"Der Hölle Rache Kocht...   \n",
       "\n",
       "                        Format  \\\n",
       "0              MPEG audio file   \n",
       "1     Protected AAC audio file   \n",
       "2     Protected AAC audio file   \n",
       "3     Protected AAC audio file   \n",
       "4     Protected AAC audio file   \n",
       "...                        ...   \n",
       "3498  Protected AAC audio file   \n",
       "3499  Protected AAC audio file   \n",
       "3500  Protected AAC audio file   \n",
       "3501  Protected AAC audio file   \n",
       "3502  Protected AAC audio file   \n",
       "\n",
       "                                                  Album      Genre  \n",
       "0                 For Those About To Rock We Salute You       Rock  \n",
       "1                                     Balls to the Wall       Rock  \n",
       "2                                     Restless and Wild       Rock  \n",
       "3                                     Restless and Wild       Rock  \n",
       "4                                     Restless and Wild       Rock  \n",
       "...                                                 ...        ...  \n",
       "3498                             Respighi:Pines of Rome  Classical  \n",
       "3499  Schubert: The Late String Quartets & String Qu...  Classical  \n",
       "3500                                Monteverdi: L'Orfeo  Classical  \n",
       "3501                              Mozart: Chamber Music  Classical  \n",
       "3502                          Mozart Gala: Famous Arias      Opera  \n",
       "\n",
       "[3503 rows x 4 columns]"
      ],
      "text/html": "<div>\n<style scoped>\n    .dataframe tbody tr th:only-of-type {\n        vertical-align: middle;\n    }\n\n    .dataframe tbody tr th {\n        vertical-align: top;\n    }\n\n    .dataframe thead th {\n        text-align: right;\n    }\n</style>\n<table border=\"1\" class=\"dataframe\">\n  <thead>\n    <tr style=\"text-align: right;\">\n      <th></th>\n      <th>Song Name</th>\n      <th>Format</th>\n      <th>Album</th>\n      <th>Genre</th>\n    </tr>\n  </thead>\n  <tbody>\n    <tr>\n      <th>0</th>\n      <td>For Those About To Rock (We Salute You)</td>\n      <td>MPEG audio file</td>\n      <td>For Those About To Rock We Salute You</td>\n      <td>Rock</td>\n    </tr>\n    <tr>\n      <th>1</th>\n      <td>Balls to the Wall</td>\n      <td>Protected AAC audio file</td>\n      <td>Balls to the Wall</td>\n      <td>Rock</td>\n    </tr>\n    <tr>\n      <th>2</th>\n      <td>Fast As a Shark</td>\n      <td>Protected AAC audio file</td>\n      <td>Restless and Wild</td>\n      <td>Rock</td>\n    </tr>\n    <tr>\n      <th>3</th>\n      <td>Restless and Wild</td>\n      <td>Protected AAC audio file</td>\n      <td>Restless and Wild</td>\n      <td>Rock</td>\n    </tr>\n    <tr>\n      <th>4</th>\n      <td>Princess of the Dawn</td>\n      <td>Protected AAC audio file</td>\n      <td>Restless and Wild</td>\n      <td>Rock</td>\n    </tr>\n    <tr>\n      <th>...</th>\n      <td>...</td>\n      <td>...</td>\n      <td>...</td>\n      <td>...</td>\n    </tr>\n    <tr>\n      <th>3498</th>\n      <td>Pini Di Roma (Pinien Von Rom) \\ I Pini Della V...</td>\n      <td>Protected AAC audio file</td>\n      <td>Respighi:Pines of Rome</td>\n      <td>Classical</td>\n    </tr>\n    <tr>\n      <th>3499</th>\n      <td>String Quartet No. 12 in C Minor, D. 703 \"Quar...</td>\n      <td>Protected AAC audio file</td>\n      <td>Schubert: The Late String Quartets &amp; String Qu...</td>\n      <td>Classical</td>\n    </tr>\n    <tr>\n      <th>3500</th>\n      <td>L'orfeo, Act 3, Sinfonia (Orchestra)</td>\n      <td>Protected AAC audio file</td>\n      <td>Monteverdi: L'Orfeo</td>\n      <td>Classical</td>\n    </tr>\n    <tr>\n      <th>3501</th>\n      <td>Quintet for Horn, Violin, 2 Violas, and Cello ...</td>\n      <td>Protected AAC audio file</td>\n      <td>Mozart: Chamber Music</td>\n      <td>Classical</td>\n    </tr>\n    <tr>\n      <th>3502</th>\n      <td>Die Zauberflöte, K.620: \"Der Hölle Rache Kocht...</td>\n      <td>Protected AAC audio file</td>\n      <td>Mozart Gala: Famous Arias</td>\n      <td>Opera</td>\n    </tr>\n  </tbody>\n</table>\n<p>3503 rows × 4 columns</p>\n</div>"
     },
     "metadata": {},
     "execution_count": 13
    }
   ],
   "source": [
    "query = \"\"\"\n",
    "SELECT t.Name as \"Song Name\", m.Name as \"Format\", a.Title as \"Album\", g.Name as \"Genre\"\n",
    "FROM tracks t\n",
    "JOIN albums a ON a.AlbumId = t.AlbumId\n",
    "JOIN genres g ON t.GenreId = g.GenreId\n",
    "JOIN media_types m ON t.MediaTypeId = m.MediaTypeId\n",
    "\"\"\"\n",
    "pd.read_sql_query(query,connection)"
   ]
  },
  {
   "source": [
    "### 7.\tMuestra cuántas canciones hay en cada playlist y el nombre de cada playlist."
   ],
   "cell_type": "markdown",
   "metadata": {}
  },
  {
   "cell_type": "code",
   "execution_count": 20,
   "metadata": {},
   "outputs": [
    {
     "output_type": "execute_result",
     "data": {
      "text/plain": [
       "                      playlist  COUNT(*)\n",
       "0                   90’s Music      1477\n",
       "1              Brazilian Music        39\n",
       "2                    Classical        75\n",
       "3    Classical 101 - Deep Cuts        25\n",
       "4   Classical 101 - Next Steps        25\n",
       "5   Classical 101 - The Basics        25\n",
       "6                       Grunge        15\n",
       "7          Heavy Metal Classic        26\n",
       "8                        Music      6580\n",
       "9                 Music Videos         1\n",
       "10                 On-The-Go 1         1\n",
       "11                    TV Shows       426"
      ],
      "text/html": "<div>\n<style scoped>\n    .dataframe tbody tr th:only-of-type {\n        vertical-align: middle;\n    }\n\n    .dataframe tbody tr th {\n        vertical-align: top;\n    }\n\n    .dataframe thead th {\n        text-align: right;\n    }\n</style>\n<table border=\"1\" class=\"dataframe\">\n  <thead>\n    <tr style=\"text-align: right;\">\n      <th></th>\n      <th>playlist</th>\n      <th>COUNT(*)</th>\n    </tr>\n  </thead>\n  <tbody>\n    <tr>\n      <th>0</th>\n      <td>90’s Music</td>\n      <td>1477</td>\n    </tr>\n    <tr>\n      <th>1</th>\n      <td>Brazilian Music</td>\n      <td>39</td>\n    </tr>\n    <tr>\n      <th>2</th>\n      <td>Classical</td>\n      <td>75</td>\n    </tr>\n    <tr>\n      <th>3</th>\n      <td>Classical 101 - Deep Cuts</td>\n      <td>25</td>\n    </tr>\n    <tr>\n      <th>4</th>\n      <td>Classical 101 - Next Steps</td>\n      <td>25</td>\n    </tr>\n    <tr>\n      <th>5</th>\n      <td>Classical 101 - The Basics</td>\n      <td>25</td>\n    </tr>\n    <tr>\n      <th>6</th>\n      <td>Grunge</td>\n      <td>15</td>\n    </tr>\n    <tr>\n      <th>7</th>\n      <td>Heavy Metal Classic</td>\n      <td>26</td>\n    </tr>\n    <tr>\n      <th>8</th>\n      <td>Music</td>\n      <td>6580</td>\n    </tr>\n    <tr>\n      <th>9</th>\n      <td>Music Videos</td>\n      <td>1</td>\n    </tr>\n    <tr>\n      <th>10</th>\n      <td>On-The-Go 1</td>\n      <td>1</td>\n    </tr>\n    <tr>\n      <th>11</th>\n      <td>TV Shows</td>\n      <td>426</td>\n    </tr>\n  </tbody>\n</table>\n</div>"
     },
     "metadata": {},
     "execution_count": 20
    }
   ],
   "source": [
    "#metodo uno al agrupar por nombre no estas teniendo en cuenta el criterio riguroso de la tabla que es el id si vamos a contar elementos mejor tener en cuenta el id \n",
    "query=\"\"\"\n",
    "SELECT pl.Name AS \"playlist\", COUNT(*)\n",
    "FROM playlists pl\n",
    "JOIN playlist_track pt ON pl.playlistId=pt.playlistId\n",
    "GROUP BY pl.Name\n",
    "\"\"\"\n",
    "pd.read_sql_query(query,connection)\n",
    "\n"
   ]
  },
  {
   "cell_type": "code",
   "execution_count": 22,
   "metadata": {},
   "outputs": [
    {
     "output_type": "execute_result",
     "data": {
      "text/plain": [
       "                      playlist  COUNT(pl.playlistId)\n",
       "0                        Music                  3290\n",
       "1                     TV Shows                   213\n",
       "2                   90’s Music                  1477\n",
       "3                        Music                  3290\n",
       "4                 Music Videos                     1\n",
       "5                     TV Shows                   213\n",
       "6              Brazilian Music                    39\n",
       "7                    Classical                    75\n",
       "8    Classical 101 - Deep Cuts                    25\n",
       "9   Classical 101 - Next Steps                    25\n",
       "10  Classical 101 - The Basics                    25\n",
       "11                      Grunge                    15\n",
       "12         Heavy Metal Classic                    26\n",
       "13                 On-The-Go 1                     1"
      ],
      "text/html": "<div>\n<style scoped>\n    .dataframe tbody tr th:only-of-type {\n        vertical-align: middle;\n    }\n\n    .dataframe tbody tr th {\n        vertical-align: top;\n    }\n\n    .dataframe thead th {\n        text-align: right;\n    }\n</style>\n<table border=\"1\" class=\"dataframe\">\n  <thead>\n    <tr style=\"text-align: right;\">\n      <th></th>\n      <th>playlist</th>\n      <th>COUNT(pl.playlistId)</th>\n    </tr>\n  </thead>\n  <tbody>\n    <tr>\n      <th>0</th>\n      <td>Music</td>\n      <td>3290</td>\n    </tr>\n    <tr>\n      <th>1</th>\n      <td>TV Shows</td>\n      <td>213</td>\n    </tr>\n    <tr>\n      <th>2</th>\n      <td>90’s Music</td>\n      <td>1477</td>\n    </tr>\n    <tr>\n      <th>3</th>\n      <td>Music</td>\n      <td>3290</td>\n    </tr>\n    <tr>\n      <th>4</th>\n      <td>Music Videos</td>\n      <td>1</td>\n    </tr>\n    <tr>\n      <th>5</th>\n      <td>TV Shows</td>\n      <td>213</td>\n    </tr>\n    <tr>\n      <th>6</th>\n      <td>Brazilian Music</td>\n      <td>39</td>\n    </tr>\n    <tr>\n      <th>7</th>\n      <td>Classical</td>\n      <td>75</td>\n    </tr>\n    <tr>\n      <th>8</th>\n      <td>Classical 101 - Deep Cuts</td>\n      <td>25</td>\n    </tr>\n    <tr>\n      <th>9</th>\n      <td>Classical 101 - Next Steps</td>\n      <td>25</td>\n    </tr>\n    <tr>\n      <th>10</th>\n      <td>Classical 101 - The Basics</td>\n      <td>25</td>\n    </tr>\n    <tr>\n      <th>11</th>\n      <td>Grunge</td>\n      <td>15</td>\n    </tr>\n    <tr>\n      <th>12</th>\n      <td>Heavy Metal Classic</td>\n      <td>26</td>\n    </tr>\n    <tr>\n      <th>13</th>\n      <td>On-The-Go 1</td>\n      <td>1</td>\n    </tr>\n  </tbody>\n</table>\n</div>"
     },
     "metadata": {},
     "execution_count": 22
    }
   ],
   "source": [
    "#metodo 2 salen mas listas\n",
    "query=\"\"\"\n",
    "SELECT pl.Name AS \"playlist\", COUNT(pl.playlistId)\n",
    "FROM playlists pl\n",
    "JOIN playlist_track pt ON pl.playlistId=pt.playlistId\n",
    "GROUP BY pl.playlistId\n",
    "\"\"\"\n",
    "pd.read_sql_query(query,connection)"
   ]
  },
  {
   "source": [
    "### 8.\tMuestra cuánto (cantidad) ha vendido cada empleado."
   ],
   "cell_type": "markdown",
   "metadata": {}
  },
  {
   "source": [
    "#agrupar mejor por las claves primarias -> en este caso employid\n",
    "query=\"\"\"\n",
    "SELECT e.FirstName ||''|| e.LastName as \"employee\", SUM(quantity) as \"song sold\"\n",
    "FROM employees e\n",
    "JOIN customers c ON c.SupportRepId=e.EmployeeId\n",
    "JOIN invoices i ON i.customerId=c.customerId\n",
    "JOIN invoice_items ii on ii.invoiceId = i.invoiceId\n",
    "GROUP BY e.employeeId \n",
    "\"\"\"\n",
    "pd.read_sql_query(query,connection) #solo hay 3 que venden "
   ],
   "cell_type": "code",
   "metadata": {},
   "execution_count": 26,
   "outputs": [
    {
     "output_type": "execute_result",
     "data": {
      "text/plain": [
       "       employee  song sold\n",
       "0   JanePeacock        796\n",
       "1  MargaretPark        760\n",
       "2  SteveJohnson        684"
      ],
      "text/html": "<div>\n<style scoped>\n    .dataframe tbody tr th:only-of-type {\n        vertical-align: middle;\n    }\n\n    .dataframe tbody tr th {\n        vertical-align: top;\n    }\n\n    .dataframe thead th {\n        text-align: right;\n    }\n</style>\n<table border=\"1\" class=\"dataframe\">\n  <thead>\n    <tr style=\"text-align: right;\">\n      <th></th>\n      <th>employee</th>\n      <th>song sold</th>\n    </tr>\n  </thead>\n  <tbody>\n    <tr>\n      <th>0</th>\n      <td>JanePeacock</td>\n      <td>796</td>\n    </tr>\n    <tr>\n      <th>1</th>\n      <td>MargaretPark</td>\n      <td>760</td>\n    </tr>\n    <tr>\n      <th>2</th>\n      <td>SteveJohnson</td>\n      <td>684</td>\n    </tr>\n  </tbody>\n</table>\n</div>"
     },
     "metadata": {},
     "execution_count": 26
    }
   ]
  },
  {
   "source": [
    "### 9.\t¿Quién ha sido el agente de ventas que más ha vendido en 2009?"
   ],
   "cell_type": "markdown",
   "metadata": {}
  },
  {
   "cell_type": "code",
   "execution_count": 34,
   "metadata": {},
   "outputs": [
    {
     "output_type": "execute_result",
     "data": {
      "text/plain": [
       "       employee   sales\n",
       "0  SteveJohnson  164.34"
      ],
      "text/html": "<div>\n<style scoped>\n    .dataframe tbody tr th:only-of-type {\n        vertical-align: middle;\n    }\n\n    .dataframe tbody tr th {\n        vertical-align: top;\n    }\n\n    .dataframe thead th {\n        text-align: right;\n    }\n</style>\n<table border=\"1\" class=\"dataframe\">\n  <thead>\n    <tr style=\"text-align: right;\">\n      <th></th>\n      <th>employee</th>\n      <th>sales</th>\n    </tr>\n  </thead>\n  <tbody>\n    <tr>\n      <th>0</th>\n      <td>SteveJohnson</td>\n      <td>164.34</td>\n    </tr>\n  </tbody>\n</table>\n</div>"
     },
     "metadata": {},
     "execution_count": 34
    }
   ],
   "source": [
    "#se ordena de mayor a menor con order by desc y el where es que la factura empieze por 2009 \n",
    "query=\"\"\"\n",
    "SELECT e.FirstName ||''|| e.LastName as \"employee\", SUM (Total) as \"sales\"\n",
    "FROM employees e\n",
    "JOIN customers c ON e.employeeid=c.supportrepid\n",
    "JOIN invoices i ON c.customerId=i.customerId \n",
    "WHERE  i.InvoiceDate LIKE \"2009%\"\n",
    "GROUP BY employeeid\n",
    "ORDER BY  Sales DESC \n",
    "LIMIT 1 \n",
    "\"\"\" \n",
    "pd.read_sql_query(query,connection) "
   ]
  },
  {
   "source": [
    "### 10.\t¿Cuáles son los 3 grupos que más han vendido cantidad?"
   ],
   "cell_type": "markdown",
   "metadata": {}
  },
  {
   "cell_type": "code",
   "execution_count": 50,
   "metadata": {},
   "outputs": [
    {
     "output_type": "execute_result",
     "data": {
      "text/plain": [
       "       Composer  sales\n",
       "0          None    596\n",
       "1  Steve Harris     58\n",
       "2            U2     33"
      ],
      "text/html": "<div>\n<style scoped>\n    .dataframe tbody tr th:only-of-type {\n        vertical-align: middle;\n    }\n\n    .dataframe tbody tr th {\n        vertical-align: top;\n    }\n\n    .dataframe thead th {\n        text-align: right;\n    }\n</style>\n<table border=\"1\" class=\"dataframe\">\n  <thead>\n    <tr style=\"text-align: right;\">\n      <th></th>\n      <th>Composer</th>\n      <th>sales</th>\n    </tr>\n  </thead>\n  <tbody>\n    <tr>\n      <th>0</th>\n      <td>None</td>\n      <td>596</td>\n    </tr>\n    <tr>\n      <th>1</th>\n      <td>Steve Harris</td>\n      <td>58</td>\n    </tr>\n    <tr>\n      <th>2</th>\n      <td>U2</td>\n      <td>33</td>\n    </tr>\n  </tbody>\n</table>\n</div>"
     },
     "metadata": {},
     "execution_count": 50
    }
   ],
   "source": [
    "query=\"\"\"\n",
    "SELECT t.composer, SUM(quantity) as \"sales\"\n",
    "FROM tracks t \n",
    "JOIN invoice_items i ON t.trackid = i.trackid\n",
    "GROUP BY t.composer\n",
    "ORDER BY sales DESC \n",
    "LIMIT 3\n",
    "\"\"\"\n",
    "pd.read_sql_query(query,connection) "
   ]
  },
  {
   "source": [
    "### 11. Muestra cuántas canciones de Rock hay en cada playlist"
   ],
   "cell_type": "markdown",
   "metadata": {}
  },
  {
   "cell_type": "code",
   "execution_count": 62,
   "metadata": {},
   "outputs": [
    {
     "output_type": "execute_result",
     "data": {
      "text/plain": [
       "              playlist  songs\n",
       "0                Music   1297\n",
       "1           90’s Music    621\n",
       "2                Music   1297\n",
       "3               Grunge     14\n",
       "4  Heavy Metal Classic      9"
      ],
      "text/html": "<div>\n<style scoped>\n    .dataframe tbody tr th:only-of-type {\n        vertical-align: middle;\n    }\n\n    .dataframe tbody tr th {\n        vertical-align: top;\n    }\n\n    .dataframe thead th {\n        text-align: right;\n    }\n</style>\n<table border=\"1\" class=\"dataframe\">\n  <thead>\n    <tr style=\"text-align: right;\">\n      <th></th>\n      <th>playlist</th>\n      <th>songs</th>\n    </tr>\n  </thead>\n  <tbody>\n    <tr>\n      <th>0</th>\n      <td>Music</td>\n      <td>1297</td>\n    </tr>\n    <tr>\n      <th>1</th>\n      <td>90’s Music</td>\n      <td>621</td>\n    </tr>\n    <tr>\n      <th>2</th>\n      <td>Music</td>\n      <td>1297</td>\n    </tr>\n    <tr>\n      <th>3</th>\n      <td>Grunge</td>\n      <td>14</td>\n    </tr>\n    <tr>\n      <th>4</th>\n      <td>Heavy Metal Classic</td>\n      <td>9</td>\n    </tr>\n  </tbody>\n</table>\n</div>"
     },
     "metadata": {},
     "execution_count": 62
    }
   ],
   "source": [
    "#AGRUPAMIENTO POR CLAVE PRIMARIA NO OLVIDAR\n",
    "query=\"\"\"\n",
    "SELECT p.name as playlist, count(t.name) as \"songs\"\n",
    "FROM genres g\n",
    "JOIN tracks t ON t.genreid = g.genreid\n",
    "JOIN playlist_track pt ON t.trackid = pt.trackid\n",
    "JOIN playlists p ON pt.PlaylistId=p.PlaylistId\n",
    "WHERE g.Name = \"Rock\"\n",
    "GROUP BY p.playlistid\n",
    "\n",
    "\"\"\"\n",
    "pd.read_sql_query(query,connection) "
   ]
  },
  {
   "source": [
    "### 12. Muestra una tabla con todas canciones y su(s) Id de factura, hayan sido vendidas alguna vez o no."
   ],
   "cell_type": "markdown",
   "metadata": {}
  },
  {
   "cell_type": "code",
   "execution_count": 70,
   "metadata": {},
   "outputs": [
    {
     "output_type": "execute_result",
     "data": {
      "text/plain": [
       "                                                   song  factura\n",
       "0               For Those About To Rock (We Salute You)    108.0\n",
       "1                                     Balls to the Wall      1.0\n",
       "2                                     Balls to the Wall    214.0\n",
       "3                                       Fast As a Shark    319.0\n",
       "4                                     Restless and Wild      1.0\n",
       "...                                                 ...      ...\n",
       "3754  String Quartet No. 12 in C Minor, D. 703 \"Quar...    108.0\n",
       "3755  String Quartet No. 12 in C Minor, D. 703 \"Quar...    319.0\n",
       "3756               L'orfeo, Act 3, Sinfonia (Orchestra)      NaN\n",
       "3757  Quintet for Horn, Violin, 2 Violas, and Cello ...      NaN\n",
       "3758                                      Koyaanisqatsi      NaN\n",
       "\n",
       "[3759 rows x 2 columns]"
      ],
      "text/html": "<div>\n<style scoped>\n    .dataframe tbody tr th:only-of-type {\n        vertical-align: middle;\n    }\n\n    .dataframe tbody tr th {\n        vertical-align: top;\n    }\n\n    .dataframe thead th {\n        text-align: right;\n    }\n</style>\n<table border=\"1\" class=\"dataframe\">\n  <thead>\n    <tr style=\"text-align: right;\">\n      <th></th>\n      <th>song</th>\n      <th>factura</th>\n    </tr>\n  </thead>\n  <tbody>\n    <tr>\n      <th>0</th>\n      <td>For Those About To Rock (We Salute You)</td>\n      <td>108.0</td>\n    </tr>\n    <tr>\n      <th>1</th>\n      <td>Balls to the Wall</td>\n      <td>1.0</td>\n    </tr>\n    <tr>\n      <th>2</th>\n      <td>Balls to the Wall</td>\n      <td>214.0</td>\n    </tr>\n    <tr>\n      <th>3</th>\n      <td>Fast As a Shark</td>\n      <td>319.0</td>\n    </tr>\n    <tr>\n      <th>4</th>\n      <td>Restless and Wild</td>\n      <td>1.0</td>\n    </tr>\n    <tr>\n      <th>...</th>\n      <td>...</td>\n      <td>...</td>\n    </tr>\n    <tr>\n      <th>3754</th>\n      <td>String Quartet No. 12 in C Minor, D. 703 \"Quar...</td>\n      <td>108.0</td>\n    </tr>\n    <tr>\n      <th>3755</th>\n      <td>String Quartet No. 12 in C Minor, D. 703 \"Quar...</td>\n      <td>319.0</td>\n    </tr>\n    <tr>\n      <th>3756</th>\n      <td>L'orfeo, Act 3, Sinfonia (Orchestra)</td>\n      <td>NaN</td>\n    </tr>\n    <tr>\n      <th>3757</th>\n      <td>Quintet for Horn, Violin, 2 Violas, and Cello ...</td>\n      <td>NaN</td>\n    </tr>\n    <tr>\n      <th>3758</th>\n      <td>Koyaanisqatsi</td>\n      <td>NaN</td>\n    </tr>\n  </tbody>\n</table>\n<p>3759 rows × 2 columns</p>\n</div>"
     },
     "metadata": {},
     "execution_count": 70
    }
   ],
   "source": [
    "#POR LA COLETILLA DE HAYAN SIDO VENDIDAS ALGUNA VEZ O NO\n",
    "query=\"\"\"\n",
    "SELECT t.name as \"song\", i.InvoiceId as \"factura\"\n",
    "FROM tracks t \n",
    "LEFT JOIN invoice_items i ON t.TrackId=i.TrackId\n",
    "\"\"\"\n",
    "pd.read_sql_query(query,connection)"
   ]
  },
  {
   "source": [
    "### 13. ¿Cuántos artistas no tienen ningún album?"
   ],
   "cell_type": "markdown",
   "metadata": {}
  },
  {
   "cell_type": "code",
   "execution_count": 2,
   "metadata": {},
   "outputs": [
    {
     "output_type": "error",
     "ename": "NameError",
     "evalue": "name 'pd' is not defined",
     "traceback": [
      "\u001b[1;31m---------------------------------------------------------------------------\u001b[0m",
      "\u001b[1;31mNameError\u001b[0m                                 Traceback (most recent call last)",
      "\u001b[1;32m<ipython-input-2-06ee81b9dcb8>\u001b[0m in \u001b[0;36m<module>\u001b[1;34m\u001b[0m\n\u001b[0;32m      5\u001b[0m \u001b[0mWHERE\u001b[0m \u001b[0maa\u001b[0m\u001b[1;33m.\u001b[0m\u001b[0mTitle\u001b[0m \u001b[0mIS\u001b[0m \u001b[0mNULL\u001b[0m\u001b[1;33m\u001b[0m\u001b[1;33m\u001b[0m\u001b[0m\n\u001b[0;32m      6\u001b[0m \"\"\"\n\u001b[1;32m----> 7\u001b[1;33m \u001b[0mpd\u001b[0m\u001b[1;33m.\u001b[0m\u001b[0mread_sql_query\u001b[0m\u001b[1;33m(\u001b[0m\u001b[0mquery\u001b[0m\u001b[1;33m,\u001b[0m\u001b[0mconnection\u001b[0m\u001b[1;33m)\u001b[0m\u001b[1;33m\u001b[0m\u001b[1;33m\u001b[0m\u001b[0m\n\u001b[0m",
      "\u001b[1;31mNameError\u001b[0m: name 'pd' is not defined"
     ]
    }
   ],
   "source": [
    "query = \"\"\"\n",
    "SELECT COUNT(*) as \"Artists without album\"\n",
    "FROM artists a\n",
    "LEFT JOIN albums aa ON a.ArtistId = aa.ArtistId\n",
    "WHERE aa.Title IS NULL\n",
    "\"\"\"\n",
    "pd.read_sql_query(query,connection)"
   ]
  },
  {
   "cell_type": "code",
   "execution_count": null,
   "metadata": {},
   "outputs": [],
   "source": []
  }
 ]
}