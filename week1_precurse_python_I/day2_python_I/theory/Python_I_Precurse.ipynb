{
 "cells": [
  {
   "cell_type": "markdown",
   "metadata": {},
   "source": [
    "# Data Science Bootcamp - The Bridge \n",
    "## Precurso\n",
    "En este notebook vamos a ver, uno a uno, los conceptos básicos de Python. Constarán de ejercicios prácticos acompañados de una explicación teórica dada por el profesor.\n",
    "\n",
    "Los siguientes enlaces están recomendados para el alumno para profundizar y reforzar conceptos a partir de  ejercicios y ejemplos:\n",
    "\n",
    "- https://facundoq.github.io/courses/aa2018/res/02_python.html\n",
    "\n",
    "- https://www.w3resource.com/python-exercises/\n",
    "\n",
    "- https://www.practicepython.org/\n",
    "\n",
    "- https://es.slideshare.net/egutierrezru/python-paraprincipiantes\n",
    "\n",
    "- https://www.sololearn.com/Play/Python#\n",
    "\n",
    "- https://github.com/mhkmcp/Python-Bootcamp-from-Basic-to-Advanced\n",
    "\n",
    "Ejercicios avanzados:\n",
    "\n",
    "- https://github.com/darkprinx/100-plus-Python-programming-exercises-extended/tree/master/Status (++)\n",
    "\n",
    "- https://github.com/mahtab04/Python-Programming-Practice (++)\n",
    "\n",
    "- https://github.com/whojayantkumar/Python_Programs (+++)\n",
    "\n",
    "- https://www.w3resource.com/python-exercises/ (++++)\n",
    "\n",
    "- https://github.com/fupus/notebooks-ejercicios (+++++)\n",
    "\n",
    "Tutor de ayuda PythonTutor:\n",
    "\n",
    "- http://pythontutor.com/\n"
   ]
  },
  {
   "cell_type": "markdown",
   "metadata": {},
   "source": [
    "## 1. Variables y tipos\n",
    "\n",
    "### Cadenas"
   ]
  },
  {
   "cell_type": "code",
   "execution_count": 40,
   "metadata": {},
   "outputs": [
    {
     "output_type": "stream",
     "name": "stdout",
     "text": [
      "lorena\n7\n"
     ]
    }
   ],
   "source": [
    "# Entero - Integer - int el nombre (parte izquierda) que le pongas es simplemente una etiqueta nada más \n",
    "x = 7\n",
    "# Cadena - String - Lista de caracteres. Tb es una Coleccion\n",
    "x = \"lorena\"\n",
    "print(x)\n",
    "x = 7\n",
    "print (x)\n",
    "\n"
   ]
  },
  {
   "cell_type": "code",
   "execution_count": 4,
   "metadata": {},
   "outputs": [
    {
     "output_type": "execute_result",
     "data": {
      "text/plain": [
       "int"
      ]
     },
     "metadata": {},
     "execution_count": 4
    }
   ],
   "source": [
    "# built-in (funcion construida en python) lee y ejecuta la ultima linea \n",
    "type (x)"
   ]
  },
  {
   "cell_type": "code",
   "execution_count": 44,
   "metadata": {},
   "outputs": [
    {
     "output_type": "stream",
     "name": "stdout",
     "text": [
      "12\n<class 'int'>\n"
     ]
    }
   ],
   "source": [
    "x = 5\n",
    "y = 7\n",
    "\n",
    "z = x + y\n",
    "print(z)\n",
    "print(type(z))"
   ]
  },
  {
   "cell_type": "code",
   "execution_count": 51,
   "metadata": {},
   "outputs": [
    {
     "output_type": "stream",
     "name": "stdout",
     "text": [
      "'lorena'\" silvia----'Pablo' \n'Pablo' \n"
     ]
    }
   ],
   "source": [
    "x = \"'lorena'\\\" \"\n",
    "l = 'silvia----'\n",
    "p=\"'Pablo' \"\n",
    "g = x + l + p\n",
    "# Las cadenas (str) se concatenan\n",
    "print(g)\n",
    "print(p)"
   ]
  },
  {
   "cell_type": "code",
   "execution_count": 7,
   "metadata": {},
   "outputs": [
    {
     "output_type": "stream",
     "name": "stdout",
     "text": [
      "'lorena'\" silvia----\n"
     ]
    }
   ],
   "source": [
    "print(g)"
   ]
  },
  {
   "cell_type": "code",
   "execution_count": 8,
   "metadata": {},
   "outputs": [
    {
     "output_type": "execute_result",
     "data": {
      "text/plain": [
       "str"
      ]
     },
     "metadata": {},
     "execution_count": 8
    }
   ],
   "source": [
    "# type muestra el tipo de la variable\n",
    "type(g)"
   ]
  },
  {
   "cell_type": "code",
   "execution_count": 59,
   "metadata": {},
   "outputs": [
    {
     "output_type": "execute_result",
     "data": {
      "text/plain": [
       "str"
      ]
     },
     "metadata": {},
     "execution_count": 59
    }
   ],
   "source": [
    "type(3)\n",
    "# si pones una \"letra\" o un numero te lo lee como tal\n",
    "type(\"a\")"
   ]
  },
  {
   "cell_type": "code",
   "execution_count": 62,
   "metadata": {},
   "outputs": [
    {
     "output_type": "stream",
     "name": "stdout",
     "text": [
      "'lorena'\" silvia----'Pablo'  12 6 cadena\n'lorena'\" silvia----'Pablo'  12 6 cadena\n'lorena'\" silvia----'Pablo'  'Pablo'  pedo\n"
     ]
    }
   ],
   "source": [
    "# print es una función que recibe varios argumentos y cada argumento está diferenciado por la coma. Después de cada coma, la función 'print' añade un espacio.\n",
    "\n",
    "# mala praxis\n",
    "print(    g,z  ,    6,     \"cadena\")\n",
    "\n",
    "# buena praxis - PEP8 (dejar un espacio despues de las comas)\n",
    "\n",
    "print(g, z, 6, \"cadena\")\n",
    "print(g, p, \"pedo\")"
   ]
  },
  {
   "cell_type": "code",
   "execution_count": 76,
   "metadata": {},
   "outputs": [
    {
     "output_type": "stream",
     "name": "stdout",
     "text": [
      "6\n<class 'int'>\n6\n<class 'str'>\n"
     ]
    }
   ],
   "source": [
    "# Cambiar de int a str\n",
    "#built-in\n",
    "x=6 #asignar un numero entero a x\n",
    "print(x) #ejecuto\n",
    "print(type(x)) #luego que nos lea que tipo es esa x poniendo la x o la variable que previamente era int\n",
    "X=str(x) #cambio a str\n",
    "print(x) #ejecuto\n",
    "print(type(X)) #sale un letra numero\n"
   ]
  },
  {
   "cell_type": "code",
   "execution_count": 75,
   "metadata": {},
   "outputs": [
    {
     "output_type": "stream",
     "name": "stdout",
     "text": [
      "<class 'str'>\n<class 'int'>\n<class 'int'>\n11\n"
     ]
    }
   ],
   "source": [
    "i=\"10\"\n",
    "print(type(i)) #identificar como letra\n",
    "b=1 \n",
    "print(type(b)) #identificar como numero \n",
    "i=int(i) #cambiar como numero poniendo la i o la variable que previamente era int\n",
    "print(type(i)) #identificar como numero\n",
    "j=b+i\n",
    "print(j) #operar"
   ]
  },
  {
   "cell_type": "code",
   "execution_count": 82,
   "metadata": {},
   "outputs": [
    {
     "output_type": "stream",
     "name": "stdout",
     "text": [
      "56\n<class 'str'>\n56\n<class 'int'>\n"
     ]
    }
   ],
   "source": [
    "# Cambiar de str a int\n",
    "s = \"56\"\n",
    "print (s) #ejecuto\n",
    "print(type(s)) #lee el tipo de caracter\n",
    "s = int(s) #que lo cambie a int\n",
    "print(s) #ejecuto\n",
    "print(type(s)) #lee el tipo\n",
    "\n",
    "\n"
   ]
  },
  {
   "cell_type": "code",
   "execution_count": 86,
   "metadata": {},
   "outputs": [
    {
     "output_type": "stream",
     "name": "stdout",
     "text": [
      "55.5\n<class 'str'>\n<class 'float'>\n"
     ]
    }
   ],
   "source": [
    "# Cambiar de str a float\n",
    "y=\"55.5\"\n",
    "print (y)\n",
    "print(type(y))\n",
    "y=(float (y))\n",
    "print(type(y))"
   ]
  },
  {
   "cell_type": "code",
   "execution_count": 89,
   "metadata": {},
   "outputs": [
    {
     "output_type": "stream",
     "name": "stdout",
     "text": [
      "55\n"
     ]
    }
   ],
   "source": [
    "# Cambiar de int a float\n",
    "y=int(y)\n",
    "print(y)"
   ]
  },
  {
   "cell_type": "code",
   "execution_count": 83,
   "metadata": {},
   "outputs": [],
   "source": [
    "s=\"56a\" #no se puede transformar en numero porque 56a no tiene base 10 solo transforma numeros e\n",
    "s=(int(x))"
   ]
  },
  {
   "cell_type": "code",
   "execution_count": 88,
   "metadata": {},
   "outputs": [
    {
     "output_type": "stream",
     "name": "stdout",
     "text": [
      "19\n2\nlista de caracteres10\n21\n"
     ]
    }
   ],
   "source": [
    "# Para ver la longitud de una lista de caracteres (lista) funcion len solo para str no int. para cualquier lista de caracteres (tuplas, conjuntos, listas, str)\n",
    "p = \"lista de caracteres\"\n",
    "print(len(p))\n",
    "q=10\n",
    "q=str(10)\n",
    "print(len(q))\n",
    "v=p+q\n",
    "print (v)\n",
    "print(len(v))"
   ]
  },
  {
   "cell_type": "code",
   "execution_count": null,
   "metadata": {},
   "outputs": [],
   "source": [
    "# String, Integer, Float, List, None (NaN), bool\n",
    "# str, int, float, list, bool (tipos de variables)"
   ]
  },
  {
   "cell_type": "code",
   "execution_count": 90,
   "metadata": {},
   "outputs": [
    {
     "output_type": "stream",
     "name": "stdout",
     "text": [
      "<class 'float'>\n7.876\n"
     ]
    }
   ],
   "source": [
    "#tipo float (numero con decimales)\n",
    "o = 5.876\n",
    "print(type(o))\n",
    "j=2\n",
    "z=o+j #permite sumar int and float xq son numeros\n",
    "print(z)"
   ]
  },
  {
   "cell_type": "code",
   "execution_count": 93,
   "metadata": {},
   "outputs": [
    {
     "output_type": "stream",
     "name": "stdout",
     "text": [
      "5.0\n<class 'float'>\n5\n<class 'int'>\n"
     ]
    }
   ],
   "source": [
    "o =float(o) #preguntar como quitar decimales para quitar decimales transformandolo en uno entero\n",
    "print(o)\n",
    "print(type(o))\n",
    "o = int (o)\n",
    "print (o)\n",
    "print(type(o))"
   ]
  },
  {
   "cell_type": "code",
   "execution_count": 96,
   "metadata": {},
   "outputs": [
    {
     "output_type": "stream",
     "name": "stdout",
     "text": [
      "17\n25\n120\n"
     ]
    }
   ],
   "source": [
    "w=2+3*5 #primero multiplicaciones y divisiones\n",
    "print(w)\n",
    "w=(2+3)*5 #se hacen primero parentesis \n",
    "print(w)\n",
    "w=((2+int(\"22\"))*5) #puedo poner numeros que se trnasofrman como int\n",
    "print(w)"
   ]
  },
  {
   "cell_type": "code",
   "execution_count": 97,
   "metadata": {},
   "outputs": [
    {
     "output_type": "stream",
     "name": "stdout",
     "text": [
      "174\n"
     ]
    }
   ],
   "source": [
    "m = ((((65 + int(\"22\")) * 2))) #puedo poner numeros que se trnasofrman como int. los parentesis como en mates sigue el orden de dentroa fuera\n",
    "m = print (m)"
   ]
  },
  {
   "cell_type": "code",
   "execution_count": 44,
   "metadata": {},
   "outputs": [
    {
     "output_type": "stream",
     "name": "stdout",
     "text": [
      "8.2\n"
     ]
    }
   ],
   "source": [
    "# los decimales son float. Python permite las operaciones entre int y float el rsultado era un float\n",
    "x = 4\n",
    "y = 4.2\n",
    "\n",
    "print(x + y)"
   ]
  },
  {
   "cell_type": "code",
   "execution_count": 101,
   "metadata": {},
   "outputs": [
    {
     "output_type": "stream",
     "name": "stdout",
     "text": [
      "3\n<class 'int'>\n3.75\n<class 'float'>\n2\n2.0\n"
     ]
    }
   ],
   "source": [
    "# La división normal (/) es siempre float\n",
    "# La división absoluta (//) puede ser: \n",
    "# - float si uno de los dos números (o los dos) son float\n",
    "# - int si los dos son int \n",
    "j = 15\n",
    "k = 4\n",
    "division = j // k #division abosoluta, sin decimales\n",
    "print(division)\n",
    "print (type(division))\n",
    "division_2= j/k #division float con decimales\n",
    "print (division_2)\n",
    "print(type(division_2))\n",
    "l=4\n",
    "p=2\n",
    "division = l//p\n",
    "division_2= l/p\n",
    "print(division)\n",
    "print(division_2) #aunque salga un numero sin decimales te mantiene el .0 en las operaciones"
   ]
  },
  {
   "cell_type": "code",
   "execution_count": 54,
   "metadata": {},
   "outputs": [
    {
     "output_type": "stream",
     "name": "stdout",
     "text": [
      "suma: 15\nresta: 9\nmultiplicacion: 36\ndivision: 4.0\ndivision_absoluta: 4\n<class 'float'>\n<class 'int'>\n"
     ]
    }
   ],
   "source": [
    "num1 = 12\n",
    "num2 = 3\n",
    "\n",
    "suma = num1 + num2\n",
    "resta = num1 - num2\n",
    "multiplicacion = num1 * num2 \n",
    "division = num1 / num2\n",
    "division_absoluta = num1 // num2\n",
    "\n",
    "print(\"suma:\", suma)\n",
    "print(\"resta:\", resta)\n",
    "print(\"multiplicacion:\", multiplicacion)\n",
    "print(\"division:\", division)\n",
    "print(\"division_absoluta:\", division_absoluta)\n",
    "print(type(division)) #de tipo float\n",
    "print(type(division_absoluta)) #de tipo entero"
   ]
  },
  {
   "cell_type": "code",
   "execution_count": 59,
   "metadata": {},
   "outputs": [
    {
     "output_type": "execute_result",
     "data": {
      "text/plain": [
       "2"
      ]
     },
     "metadata": {},
     "execution_count": 59
    }
   ],
   "source": [
    "# Jupyter notebook permite que la última línea se imprima (print) por pantalla ( la variable ) si pones solo x en la ultima linea te va a leer eso como print(x)\n",
    "#jupyter interpreta cada ventana es un notebook\n",
    "#solo en jupyter no en un notebook puro de python\n",
    "#ejemplo solo va a mostrar el 2 como un print\n",
    "x= 2\n",
    "y= 4\n",
    "x"
   ]
  },
  {
   "cell_type": "code",
   "execution_count": null,
   "metadata": {},
   "outputs": [],
   "source": [
    "# Soy un comentario\n",
    "# print(\"Hello Python world!\")\n",
    "# Estoy creando una variable que vale 2 \n",
    "\"\"\"\n",
    "Esto es otro comentario\n",
    "\"\"\"\n",
    "# y comillas son comentarios ambos"
   ]
  },
  {
   "cell_type": "markdown",
   "metadata": {},
   "source": [
    "## Ejercicio: \n",
    "### Crear una nueva celda.\n",
    "### Declarar tres variables: \n",
    "- Una con el nombre \"edad\" con valor vuestra edad\n",
    "- Otra \"edad_compañero_der\" que contengan la edad de tipo entero de vuestro compañero de la derecha\n",
    "- Otra \"suma_anterior\" que contenga la suma de las dos variables anteriormente declaradas\n",
    "\n",
    " Mostrar por pantalla la variable \"suma_anterior\"\n",
    "\n"
   ]
  },
  {
   "cell_type": "code",
   "execution_count": 67,
   "metadata": {},
   "outputs": [
    {
     "output_type": "stream",
     "name": "stdout",
     "text": [
      "edad 28\nedad_companero_der 26\n54\n"
     ]
    }
   ],
   "source": [
    "edad=28\n",
    "print(\"edad\", edad)\n",
    "edad_companero_der= 26\n",
    "print (\"edad_companero_der\", edad_companero_der)\n",
    "suma_anterior= edad + edad_companero_der\n",
    "print(suma_anterior)"
   ]
  },
  {
   "cell_type": "code",
   "execution_count": null,
   "metadata": {},
   "outputs": [],
   "source": [
    "#funciones built-in de string\n",
    "#no se puede designar una variable con alguna funcion que ya este descrita dentro de python (ejemplo int o cualquier otra) no se podria nombra int = \"dos\" xq int ya es una variable de python"
   ]
  },
  {
   "cell_type": "code",
   "execution_count": null,
   "metadata": {},
   "outputs": [],
   "source": [
    "#s i a cualquier variable le pones punto detras te salen todas las funciones del tipo de la variable que sea, entero, cadena, float etc)"
   ]
  },
  {
   "cell_type": "markdown",
   "metadata": {},
   "source": [
    "## 2. Números y operadores"
   ]
  },
  {
   "cell_type": "code",
   "execution_count": 68,
   "metadata": {},
   "outputs": [
    {
     "output_type": "stream",
     "name": "stdout",
     "text": [
      "- Tipo de x:\n<class 'int'>\n- Valor de x:\n3\n- x+1:\n4\n- x-1:\n2\n- x*2:\n6\n- x^2:\n9\n- x modificado:\n4\n- x modificado:\n8\n- El módulo de x con 40\n0\n- Varias cosas en una línea:\n1 2 8 10\n"
     ]
    }
   ],
   "source": [
    "### Enteros ###\n",
    "\n",
    "x = 3\n",
    "\n",
    "print(\"- Tipo de x:\")\n",
    "print(type(x)) # Imprime el tipo (o `clase`) de x (entero)\n",
    "print(\"- Valor de x:\")\n",
    "print(x)       # Imprimir un valor\n",
    "print(\"- x+1:\")\n",
    "print(x + 1)   # Suma: imprime \"4\"\n",
    "print(\"- x-1:\")\n",
    "print(x - 1)   # Resta; imprime \"2\"\n",
    "print(\"- x*2:\")\n",
    "print(x * 2)   # Multiplicación; imprime \"6\"\n",
    "print(\"- x^2:\")\n",
    "print(x ** 2)  # Exponenciación; imprime \"9\" 3^2\n",
    "# Modificación de x\n",
    "x += 1  #aumentar x en 1 unidad (x=x+1) tambien se podria expresar asi tambien\n",
    "print(\"- x modificado:\")\n",
    "print(x)  # Imprime \"4\"\n",
    "\n",
    "x *= 2 #multiplicacion, X=2x tambien se puede expresar asi (ahora x es 4 no 3 xq lo hemos modificado)\n",
    "print(\"- x modificado:\")\n",
    "print(x)  # Imprime \"8\"\n",
    "\n",
    "print(\"- El módulo de x con 40\")\n",
    "print(40 % x) #muestra el resto de 40/el ultimo x que es 8 y ese resto es 0\n",
    "\n",
    "print(\"- Varias cosas en una línea:\")\n",
    "print(1, 2, x, 5*2) # imprime varias cosas a la vez, hasta operaciones"
   ]
  },
  {
   "cell_type": "code",
   "execution_count": 70,
   "metadata": {},
   "outputs": [
    {
     "output_type": "stream",
     "name": "stdout",
     "text": [
      "0\n"
     ]
    }
   ],
   "source": [
    "# El módulo muestra el resto de la división entre dos números\n",
    "#el modulo de un numero se expresa con el % que es la division de 4/2 y nos quedamos con el resto\n",
    "x = 4 % 2\n",
    "print(x)\n"
   ]
  },
  {
   "cell_type": "code",
   "execution_count": 105,
   "metadata": {},
   "outputs": [
    {
     "output_type": "execute_result",
     "data": {
      "text/plain": [
       "0"
      ]
     },
     "metadata": {},
     "execution_count": 105
    }
   ],
   "source": [
    "numero = 99 #aqui saldria 1 xq es imparhaciendo el numero%2 y con el 10 saldria 0 porque es par\n",
    "numero1=10\n",
    "\n",
    "numero % 2 \n",
    "numero1 % 2 # Si el resto es 0, el número es par. Sino, impar. xq es divisible entre 2 \n",
    "#numero % 3 si el numero es divisible entre 3 vamos que el resto da 0"
   ]
  },
  {
   "source": [
    "## Título markdown"
   ],
   "cell_type": "markdown",
   "metadata": {}
  },
  {
   "source": [
    "# INPUT"
   ],
   "cell_type": "markdown",
   "metadata": {}
  },
  {
   "cell_type": "code",
   "execution_count": 107,
   "metadata": {},
   "outputs": [
    {
     "output_type": "stream",
     "name": "stdout",
     "text": [
      "pablo\n<class 'str'>\n"
     ]
    }
   ],
   "source": [
    "#funcion input x = input() x va a ser un valor de texto (str) del valor que le asigne es como si escribiera con las comillas por ejemplo cuando hay que meter algo de informacion en un programa rollo banco (escriba su contraseña ) para que cuando le salga la ventana de escribir le salga lo que hay que escribir ejemplo si meto X=input(\"meter su contraseña\") le sale ese texto para que sepa el usuario que escribir le va a salir \"meter su contraseña\" MIRAR PARTE JUSTO INFERIOR Y PRINTEAR \"si no se pone las comillas no aparece que texto hay que rellenar\"\n",
    "x=input(\"meter contraseña\")\n",
    "print (x)\n",
    "print(type(x))"
   ]
  },
  {
   "cell_type": "code",
   "execution_count": 1,
   "metadata": {},
   "outputs": [
    {
     "output_type": "stream",
     "name": "stdout",
     "text": [
      "6\n<class 'int'>\n"
     ]
    }
   ],
   "source": [
    "#para escribir un numero como numero (int) hay que meter la funcion input con int x=int(input()) he escrito el input como 2 ocmo letra xo como tengo el int se cambia a numero y puedo sumarle otro numero. si escribo un decimal en uno entero te quita la parte decimal (no me esta funcionando :)\n",
    "x=int(input(\"escribe un numero\"))\n",
    "y = 3\n",
    "z=x+y\n",
    "print(z)\n",
    "print(type(x))\n"
   ]
  },
  {
   "cell_type": "code",
   "execution_count": 2,
   "metadata": {},
   "outputs": [
    {
     "output_type": "stream",
     "name": "stdout",
     "text": [
      "6.2\n<class 'float'>\n"
     ]
    }
   ],
   "source": [
    "# Si quieres que sea decimal se pone float \n",
    "x=float(input(\"escribe un numero decima\"))\n",
    "y = 3\n",
    "z=x+y\n",
    "print(z)\n",
    "print(type(x))\n"
   ]
  },
  {
   "source": [
    "## 3. Tipo None"
   ],
   "cell_type": "code",
   "metadata": {},
   "execution_count": null,
   "outputs": []
  },
  {
   "cell_type": "code",
   "execution_count": 274,
   "metadata": {},
   "outputs": [
    {
     "output_type": "stream",
     "name": "stdout",
     "text": [
      "None\n<class 'NoneType'>\n"
     ]
    }
   ],
   "source": [
    "#str int float \n",
    "#tipo variable none valor nada no se puede sumar a un valor none un numero entero decimal etc\n",
    "x= None\n",
    "print(x)\n",
    "print(type(x))"
   ]
  },
  {
   "cell_type": "code",
   "execution_count": 276,
   "metadata": {},
   "outputs": [
    {
     "output_type": "stream",
     "name": "stdout",
     "text": [
      "None\n"
     ]
    }
   ],
   "source": [
    "x= None \n",
    "X=str(x)\n",
    "print(x) #se transforma en la cadena\"none\""
   ]
  },
  {
   "cell_type": "markdown",
   "metadata": {},
   "source": [
    "## 4. Listas y colecciones "
   ]
  },
  {
   "cell_type": "code",
   "execution_count": null,
   "metadata": {},
   "outputs": [],
   "source": [
    "#una COLECCION  puede ser:\n",
    "#lista, conjunto(set), una tupla, un array, diccionario,string (las letras que hemos visto antes)\n",
    "# son colecciones porque nos permiten obtener posciones"
   ]
  },
  {
   "cell_type": "code",
   "execution_count": 116,
   "metadata": {},
   "outputs": [
    {
     "output_type": "stream",
     "name": "stdout",
     "text": [
      "C\n<class 'list'>\n"
     ]
    }
   ],
   "source": [
    "# Lista de elementos:\n",
    "\n",
    "# Las posiciones xa todas las anteriores se empiezan a contar desde 0 esa es la posicion 1 la posicion 2 es el 1 \n",
    "#para crear una variable que sea una lista se usan los corchetes. Ya hemos visto que para los str se usan las \"\" pues para las listas los corchetes. \n",
    "# en una lista puede haber strings o listas   vacios \"\" [] y si haces el type te van a decir que son listas (list) o letras (strings)\n",
    "s = \"Cadena\"\n",
    "print(s[0])\n",
    "# c es la posicion 0 la primera a es la posicion 1 la d es la poscion dos etc\n",
    "\n",
    "j =[\"1\", \"lapiz\", s, 10]\n",
    "print(type(j)) # como se ve lo lee como una lista al ejecutar type ya que esta entre corchetes"
   ]
  },
  {
   "cell_type": "code",
   "execution_count": 131,
   "metadata": {},
   "outputs": [
    {
     "output_type": "stream",
     "name": "stdout",
     "text": [
      "3\n7.2\nhola\nhola\n7.2\n3\n[3]\n[3, 7.2]\n[3, 7.2, 'hola']\n"
     ]
    }
   ],
   "source": [
    "#esto es una lista de elemetnos ya que va con corchetes\n",
    "lista = [3,7.2, \"hola\"]\n",
    "print (lista[0]) #posicion 1\n",
    "print (lista[1]) #posicion 2\n",
    "print(lista[2]) #posicion 3\n",
    "#menos 1 representa el ultimo elemento de la lista\n",
    "print (lista[-1]) #ultimo\n",
    "print(lista[-2]) #penultimo\n",
    "print(lista[-3]) #antepeultimo\n",
    "#puedo hacer listas [0:1] el primero  se incluye le ultimo no. para que se incluyese tendria que ir con coger hasta el siguiente\n",
    "print(lista[0:1])\n",
    "print(lista[0:2])\n",
    "print(lista[0:3]) #mirar estos 3 ejemplos"
   ]
  },
  {
   "cell_type": "code",
   "execution_count": 277,
   "metadata": {},
   "outputs": [
    {
     "output_type": "stream",
     "name": "stdout",
     "text": [
      "hola\n me llamo\n Pablo\n"
     ]
    }
   ],
   "source": [
    "#el salto de linea se representa \\n \n",
    "print(\"hola\\n me llamo\\n Pablo\") #saltos de lineas\n"
   ]
  },
  {
   "cell_type": "code",
   "execution_count": 279,
   "metadata": {},
   "outputs": [
    {
     "output_type": "stream",
     "name": "stdout",
     "text": [
      "primer elemento:\n 3 \nsegundoelemento:\n 7.2 \nultimoelemento:\n hola\n"
     ]
    }
   ],
   "source": [
    "lista = [3,7.2, \"hola\"]\n",
    "print(\"primer elemento:\\n\", lista[0],\"\\nsegundoelemento:\\n\", lista[1],\"\\nultimoelemento:\\n\", lista[2]) #asi se muestra todo a la vez bajados los titulos"
   ]
  },
  {
   "cell_type": "code",
   "execution_count": 283,
   "metadata": {},
   "outputs": [
    {
     "output_type": "stream",
     "name": "stdout",
     "text": [
      "3\n7.2\nhola\n"
     ]
    }
   ],
   "source": [
    "print (str(lista[0])+\"\\n\"+str(lista[1])+\"\\n\"+(lista[2])) #sin titulos "
   ]
  },
  {
   "cell_type": "code",
   "execution_count": 285,
   "metadata": {},
   "outputs": [
    {
     "output_type": "stream",
     "name": "stdout",
     "text": [
      "3\n7.2\nhola\n"
     ]
    }
   ],
   "source": [
    "#forma avanzada\n",
    "print (str(lista[0]), str(lista[1]), (lista[2]), sep=\"\\n\") #funcion para que por cada valor lo separe de la manera que le indiques por eso ponemos \\n"
   ]
  },
  {
   "cell_type": "code",
   "execution_count": 280,
   "metadata": {},
   "outputs": [
    {
     "output_type": "stream",
     "name": "stdout",
     "text": [
      "primer elemento:\n3\nsegundoelemento:\n7.2\nultimoelemento\nhola\n"
     ]
    }
   ],
   "source": [
    "lista = [3,7.2, \"hola\"]\n",
    "print(\"primer elemento:\\n\"+str(lista[0])+\"\\nsegundoelemento:\\n\"+str(lista[1])+\"\\nultimoelemento\\n\"+lista[2]) #esto se muestra otra vez los vaolres de  varios str solo se puieden sumar cadenas, numeros etc por eso hay que transformarlos. el ultimo no se transforma ya que es str\"muestra la primera cadena concatena con el elemento posicion 0 luego concatena la segunda cadena que a su vez lo concatena con el elemento de la lista en segunda posicion y en tercer lugar lo mismo\""
   ]
  },
  {
   "cell_type": "code",
   "execution_count": 278,
   "metadata": {},
   "outputs": [
    {
     "output_type": "stream",
     "name": "stdout",
     "text": [
      "3\n[7, 2, 'x']\nx\n"
     ]
    }
   ],
   "source": [
    "#esta lista tiene 3 elementos el ultimo siendo una lista teniendo 2 elementos\n",
    "lista2= [\"hola\", 1, [7,2,\"x\"]]\n",
    "print(len(lista2)) #longitud de la lista\n",
    "#para que me saliese el ultimo elemento tendria que poner con -1\n",
    "print(lista2[-1])\n",
    "#para mostra el ultimo elemetno de la ultima lista ultimo elemenot se ponen dos -1 [-1] [-1] porque el primero hace referencia a la primera lista y el segundo a la segunda\n",
    "print (lista2 [-1][-1])"
   ]
  },
  {
   "cell_type": "code",
   "execution_count": 141,
   "metadata": {},
   "outputs": [
    {
     "output_type": "stream",
     "name": "stdout",
     "text": [
      "x\na\n7.2\n"
     ]
    }
   ],
   "source": [
    "#para leer el primer caracter del ultimo conjunto se haria asi \n",
    "\n",
    "lista3=[\"hola\",2,[7.2,\"xa\"]]\n",
    "print(lista3[-1][-1][0]) #xq el primer -1 es para la primera lista indicando el ultimo elemento el segundo xa el ultimo elemento de la segunda lista y el 0 xa la 1º posicion del ultimo elemento de la segunda lista\n",
    "print(lista3[-1][-1][1]) #xq el primer -1 es para la primera lista indicando el ultimo elemento el segundo xa el ultimo elemento de la segunda lista y el 1 xa la 2º posicion del ultimo elemento de la segunda lista\n",
    "print(lista3[-1][0]) #xq el primer -1 es para la primera lista indicando el ultimo elemento el 0 xa el primer elemento de la segunda lista y como el primer elemento solo tiene un valor al ser un numero no se puede coger posicion 1 o 2 o asi. "
   ]
  },
  {
   "cell_type": "code",
   "execution_count": 142,
   "metadata": {},
   "outputs": [
    {
     "output_type": "stream",
     "name": "stdout",
     "text": [
      "<class 'list'>\n3\n[[7.2, 'xa']]\n[[7.2, 'xa']]\n[7.2, 'xa']\nxa\na\n"
     ]
    }
   ],
   "source": [
    "#es una lista dentro de una lista con un elemetno. si le pudes el ultimo o el primero es el mismo las comas como si no hubieran elemetnos\n",
    "lista4=[\"hola\",2,[[7.2,\"xa\"]]] #la segunda lista, el segundo grupo de corchetes tiene 1 elemento y la tercera lista, el tercer grupo de corchetes tiene 2 elementos \n",
    "print(type(lista4)) #tipo de elemento\n",
    "print(len(lista4)) #longitud de la lista\n",
    "print((lista4[-1])) #ultimo elemento de la lista primera incluye corchetes dobles \n",
    "print((lista4[2])) #ultimo doble corchete porque lo considera \n",
    "print(lista4[-1][0]) #  elemento segundo de la primera lista y de la segunda lista el ultimo elemento que es tambien el primero ya que tiene solo un elemento\n",
    "print(lista4[-1][0][-1]) #  elemento segundo de la primera lista y de la ultima lista el ultimo elemento \n",
    "print(lista4[-1][0][-1][-1]) #ultimo elemento de la lista, de la segunda lista (elemento 2) la posicion 1 pero por el final la primera posicion "
   ]
  },
  {
   "cell_type": "code",
   "execution_count": 146,
   "metadata": {},
   "outputs": [
    {
     "output_type": "stream",
     "name": "stdout",
     "text": [
      "3\n6\n7.2\n"
     ]
    }
   ],
   "source": [
    "lista5=[\"hola\",2,[[7.2,\"xa\"] ,6]] #primrea lista 3 elementos 2º 2 elementos y 3º 2 elementos \n",
    "print(len(lista5))\n",
    "print(lista5[-1][-1])\n",
    "print(lista5[-1][0][0])"
   ]
  },
  {
   "cell_type": "code",
   "execution_count": 14,
   "metadata": {},
   "outputs": [
    {
     "output_type": "stream",
     "name": "stdout",
     "text": [
      "aralC yos aloH\n"
     ]
    }
   ],
   "source": [
    "#menos 1 representa el ultimo elemento de la lista xa dar la vuelta los dos :: empezar a leer de derecha a izquierda\n",
    "s = \"Hola soy Clara\"\n",
    "\n",
    "print(s[::-1]) #tb existe la funcion reverse pero de esta manera se crea una copia"
   ]
  },
  {
   "cell_type": "code",
   "execution_count": 150,
   "metadata": {},
   "outputs": [
    {
     "output_type": "execute_result",
     "data": {
      "text/plain": [
       "'a soy Clara'"
      ]
     },
     "metadata": {},
     "execution_count": 150
    }
   ],
   "source": [
    "# Para acceder a varios elementos, se especifica con la nomenclatura \"[N:M]\". N es el primer elemento a obtener, M es el último elemento a obtener pero no incluido. Ejemplo: \n",
    "\n",
    "# Queremos mostrar desde las posiciones 3 a la 7. Debemos especificar: [3:8] \n",
    "\n",
    "# Si M no tiene ningún valor, se obtiene desde N hasta el final. \n",
    "# Si N no tiene ningún valor, es desde el principio de la colección hasta M\n",
    "s = \"Hola soy Clara\"\n",
    "\n",
    "s[3:len(s)]"
   ]
  },
  {
   "cell_type": "code",
   "execution_count": 152,
   "metadata": {},
   "outputs": [
    {
     "output_type": "execute_result",
     "data": {
      "text/plain": [
       "'la soy C'"
      ]
     },
     "metadata": {},
     "execution_count": 152
    }
   ],
   "source": [
    "#otros ejemplos desde la posicion 2 hasta la posicion 9 incluida la \"l\" de clara no la incluye\n",
    "s[2:10]"
   ]
  },
  {
   "cell_type": "code",
   "execution_count": 155,
   "metadata": {},
   "outputs": [
    {
     "output_type": "stream",
     "name": "stdout",
     "text": [
      "4\n"
     ]
    },
    {
     "output_type": "execute_result",
     "data": {
      "text/plain": [
       "'ola'"
      ]
     },
     "metadata": {},
     "execution_count": 155
    }
   ],
   "source": [
    "x=\"hola\"\n",
    "print(len(x))\n",
    "s[1:len(x)] #con len se coge hasta el final de la palabra lo mismo que no poner nada detras poner desde la 1º posicion hasta ningun valor y saldria lo mismo [0:]\n"
   ]
  },
  {
   "cell_type": "code",
   "execution_count": 157,
   "metadata": {},
   "outputs": [
    {
     "output_type": "stream",
     "name": "stdout",
     "text": [
      "4\n"
     ]
    },
    {
     "output_type": "execute_result",
     "data": {
      "text/plain": [
       "'Ho'"
      ]
     },
     "metadata": {},
     "execution_count": 157
    }
   ],
   "source": [
    "x=\"hola\"\n",
    "print(len(x)) \n",
    "s[:2] #como no tiene valor de principio coge desde la posicion 0 si pasase con el final seria igual que poner [0:2]"
   ]
  },
  {
   "cell_type": "code",
   "execution_count": 159,
   "metadata": {},
   "outputs": [
    {
     "output_type": "stream",
     "name": "stdout",
     "text": [
      "HOLA\n"
     ]
    }
   ],
   "source": [
    "x=\"hola\"\n",
    "x=x.upper() \n",
    "#para poner mayusculas se usa upper y se actualiza asi esto es una funcion de strin, ahora vamos a ver que las listas tienen sus propias funcinoes\n",
    "print(x)"
   ]
  },
  {
   "cell_type": "code",
   "execution_count": 163,
   "metadata": {},
   "outputs": [
    {
     "output_type": "stream",
     "name": "stdout",
     "text": [
      "[1]\n"
     ]
    }
   ],
   "source": [
    "lista=[1]\n",
    "print(lista)"
   ]
  },
  {
   "cell_type": "code",
   "execution_count": 164,
   "metadata": {},
   "outputs": [
    {
     "output_type": "stream",
     "name": "stdout",
     "text": [
      "[1, 7]\n"
     ]
    }
   ],
   "source": [
    "lista.append(7) #para agregar un elemento se usa lista.append lo agrega al final de la lista si  ejecuto  este comando de nuevova a salir un tercer elemento que tambien sera 7. esto se debe a que estan en celdas diferentes. si hago todo en la misma celda no pasa. mirar siguiente \n",
    "print(lista)"
   ]
  },
  {
   "cell_type": "code",
   "execution_count": 167,
   "metadata": {},
   "outputs": [
    {
     "output_type": "stream",
     "name": "stdout",
     "text": [
      "[1]\n[1, 7]\n"
     ]
    }
   ],
   "source": [
    "lista=[1]\n",
    "print(lista)\n",
    "lista.append(7) #no se pone lista= porque son funciones\n",
    "print(lista) #aqui no salen mas 7 solo 1"
   ]
  },
  {
   "cell_type": "code",
   "execution_count": 179,
   "metadata": {},
   "outputs": [
    {
     "output_type": "stream",
     "name": "stdout",
     "text": [
      "[1]\n"
     ]
    }
   ],
   "source": [
    "# remove elimina el primer elemento que se encuentra que coincide con el valor del argumento en este caso elimina el unico 7 que hay si hubiera más eliminaria el primer 7\n",
    "#no se pone lista= porque son funciones si volvemos a poner list.remove(7) no va a poder eleminarlo y va a saltar error xq no hay mas 7 \n",
    "lista=[1,7]\n",
    "lista.remove(7) \n",
    "print(lista)\n"
   ]
  },
  {
   "cell_type": "code",
   "execution_count": 176,
   "metadata": {},
   "outputs": [
    {
     "output_type": "stream",
     "name": "stdout",
     "text": [
      "[1, 2, 'a']\n"
     ]
    }
   ],
   "source": [
    "lista2= [1, 'a',2,'a']\n",
    "lista2.remove('a') #elimina el primer elemento \"a\"\n",
    "print(lista2)"
   ]
  },
  {
   "cell_type": "code",
   "execution_count": 183,
   "metadata": {},
   "outputs": [
    {
     "output_type": "stream",
     "name": "stdout",
     "text": [
      "[1, 2, 'a']\n"
     ]
    }
   ],
   "source": [
    "lista2= [1, 'a',2,'a']\n",
    "lista2.remove('a') #elimina el primer elemento \"a\"\n",
    "lista2.append(\"s\") #añado s al final\n",
    "lista2.remove(\"s\") #quito s al final se queda igual\n",
    "print(lista2)"
   ]
  },
  {
   "cell_type": "code",
   "execution_count": 184,
   "metadata": {},
   "outputs": [
    {
     "output_type": "stream",
     "name": "stdout",
     "text": [
      "[1, 2, 's']\n"
     ]
    }
   ],
   "source": [
    "lista3= [1, 's',2,'a'] #si esta es mi lista 3 \n",
    "lista3.remove('a') #elimina el primer elemento \"a\"\n",
    "lista3.append(\"s\") #añado s al final\n",
    "lista3.remove(\"s\") #quito s del principio \n",
    "print(lista3)"
   ]
  },
  {
   "cell_type": "code",
   "execution_count": 196,
   "metadata": {},
   "outputs": [
    {
     "output_type": "stream",
     "name": "stdout",
     "text": [
      "3\n['hola', 2, [7.2, 4]]\n"
     ]
    }
   ],
   "source": [
    "lista=[\"hola\",2,[7.2]] #vamos a añadir un segundo elemento en la segunda lista\n",
    "print(len(lista4))\n",
    "lista[-1].append(4)\n",
    "print(lista)"
   ]
  },
  {
   "cell_type": "code",
   "execution_count": 207,
   "metadata": {},
   "outputs": [
    {
     "output_type": "stream",
     "name": "stdout",
     "text": [
      "3\n['hola', 2, [7.2, 4]]\n"
     ]
    }
   ],
   "source": [
    "lista=[\"hola\",2,[7.2]] #vamos a añadir un segundo elemento en la segunda lista\n",
    "print(len(lista4))\n",
    "lista[-1].append(4)\n",
    "print(lista)"
   ]
  },
  {
   "cell_type": "code",
   "execution_count": 200,
   "metadata": {},
   "outputs": [
    {
     "output_type": "stream",
     "name": "stdout",
     "text": [
      "3\n['hola', 2, [7.2, [4]]]\n"
     ]
    }
   ],
   "source": [
    "lista=[\"hola\",2,[7.2]] #vamos a añadir un segundo elemento en la segunda lista\n",
    "print(len(lista4))\n",
    "lista[-1].append([4])\n",
    "print(lista) #asi estoy añandiendo una lista dentro de la segunda lista. la segunda lista pasa a tener dos elemetnos y la tercera 1"
   ]
  },
  {
   "cell_type": "code",
   "execution_count": 201,
   "metadata": {},
   "outputs": [
    {
     "output_type": "stream",
     "name": "stdout",
     "text": [
      "3\n['hola', 2, [7.2, [4, 1]]]\n"
     ]
    }
   ],
   "source": [
    "lista=[\"hola\",2,[7.2]] #vamos a añadir un segundo elemento en la segunda lista\n",
    "print(len(lista4))\n",
    "lista[-1].append([4,1])\n",
    "print(lista) #he añadido una lista con dos elementos dentro de la segunda lista. asi la segunda lista tiene 2 elementos y la tercera 3 "
   ]
  },
  {
   "cell_type": "code",
   "execution_count": 213,
   "metadata": {},
   "outputs": [
    {
     "output_type": "stream",
     "name": "stdout",
     "text": [
      "3\nxs\n"
     ]
    }
   ],
   "source": [
    "# Accedemos a la posición 1 del elemento que está en la posición 2 de lista\n",
    "lista=['1',2.3,[8.1,'xs']]\n",
    "print(len(lista))\n",
    "print (lista[2][1]) #posicion 2 de la primera lista y luego la primera posicion de la segunda lista\n"
   ]
  },
  {
   "cell_type": "code",
   "execution_count": 217,
   "metadata": {},
   "outputs": [
    {
     "output_type": "stream",
     "name": "stdout",
     "text": [
      "[[8.1, 'xs'], 2.3, '1']\n"
     ]
    }
   ],
   "source": [
    "lista=['1',2.3,[8.1,'xs']]\n",
    "lista.reverse() #otra funcion no hace falta el lista= da la vuelta a los valores de la lista\n",
    "print(lista)"
   ]
  },
  {
   "cell_type": "code",
   "execution_count": 219,
   "metadata": {},
   "outputs": [
    {
     "output_type": "stream",
     "name": "stdout",
     "text": [
      "5\n[2, 4, 6, 8, 'o', 10]\n"
     ]
    }
   ],
   "source": [
    "lista=[2,4,6,8,'o']\n",
    "print(len(lista))\n",
    "lista.append(10) #añade a la ultima posicion un 10 \n",
    "print(lista)"
   ]
  },
  {
   "cell_type": "code",
   "execution_count": 220,
   "metadata": {},
   "outputs": [
    {
     "output_type": "stream",
     "name": "stdout",
     "text": [
      "5\n[2, 4, 6, 8]\n"
     ]
    }
   ],
   "source": [
    "lista=[2,4,6,8,'o']\n",
    "print(len(lista))\n",
    "lista.remove('o') #elimina la primera'o'\n",
    "print(lista)"
   ]
  },
  {
   "cell_type": "code",
   "execution_count": 229,
   "metadata": {},
   "outputs": [
    {
     "output_type": "stream",
     "name": "stdout",
     "text": [
      "8\n[2, 4, 6, 8, 'o', [8.1, 'xs', 6], 9.4, '1']\n"
     ]
    }
   ],
   "source": [
    "lista=[2,4,6,8,'o',[8.1,'xs'],9.4,'1']\n",
    "print(len(lista))\n",
    "lista[5].append(6) \n",
    "#añade un 6 dentro de la lista que esta dentro. como ultimo caracter1\n",
    "print(lista)"
   ]
  },
  {
   "cell_type": "code",
   "execution_count": 230,
   "metadata": {},
   "outputs": [
    {
     "output_type": "stream",
     "name": "stdout",
     "text": [
      "8\n[2, 4, 6, 8, 'o', [8.1, 'xs', [6]], 9.4, '1']\n"
     ]
    }
   ],
   "source": [
    "lista=[2,4,6,8,'o',[8.1,'xs'],9.4,'1']\n",
    "print(len(lista))\n",
    "lista[5].append([6]) \n",
    "#añade una lista dentro de la segunda lista con una unica variable 6. \n",
    "print(lista)"
   ]
  },
  {
   "cell_type": "code",
   "execution_count": 236,
   "metadata": {},
   "outputs": [
    {
     "output_type": "stream",
     "name": "stdout",
     "text": [
      "6\n[2, 4, 6, 8, 'o', [[8.1, 'xs', 4], 9.4, '1']]\n"
     ]
    }
   ],
   "source": [
    "lista=[2,4,6,8,'o',[[8.1,'xs'],9.4,'1']]\n",
    "print(len(lista))\n",
    "lista[5][0].append (4) #posicion 5 para llegar a la segunda lista y luego posicion 0 para llegar a la tercera lista\n",
    "print(lista)"
   ]
  },
  {
   "cell_type": "code",
   "execution_count": 239,
   "metadata": {},
   "outputs": [
    {
     "output_type": "stream",
     "name": "stdout",
     "text": [
      "[8.1, 'xs']\n"
     ]
    }
   ],
   "source": [
    "#para ir desengranando elementos de una lista se haria asi: lo hemos visto antes recordatorio\n",
    "lista=[2,4,6,8,'o',[[8.1,'xs'],9.4,'1']] \n",
    "print(lista[5][0]) #hemos cogido los elementos de dentro"
   ]
  },
  {
   "source": [
    "### Colecciones\n",
    "\n",
    "1. Listas\n",
    "2. String (colección de caracteres)\n",
    "3. Tuplas\n",
    "4. Conjuntos (Set)"
   ],
   "cell_type": "markdown",
   "metadata": {}
  },
  {
   "cell_type": "code",
   "execution_count": 244,
   "metadata": {},
   "outputs": [
    {
     "output_type": "stream",
     "name": "stdout",
     "text": [
      "j\n4\nj\n"
     ]
    }
   ],
   "source": [
    "# Listas --> Mutables podemos agregar elementos\n",
    "lista = [2, 5, \"caract\", [9, \"g\", [\"j\"]]]\n",
    "print(lista[-1][-1][-1])\n",
    "print(len(lista))\n",
    "lista[3][2][0]\n",
    "print (lista[3][2][0]) #accede a lo mismo aqui que con lo de print(lista[-1][-1][-1])\n"
   ]
  },
  {
   "cell_type": "code",
   "execution_count": 249,
   "metadata": {},
   "outputs": [
    {
     "output_type": "stream",
     "name": "stdout",
     "text": [
      "j\n"
     ]
    }
   ],
   "source": [
    "#importante recordar que un strin es una coleccion tambien por lo tanto: los numeros NO son colecciones\n",
    "s='jqa'\n",
    "print(s[0])\n"
   ]
  },
  {
   "cell_type": "code",
   "execution_count": 250,
   "metadata": {},
   "outputs": [
    {
     "output_type": "stream",
     "name": "stdout",
     "text": [
      "1\n"
     ]
    }
   ],
   "source": [
    "#tupla es otro tipo de coleccion\n",
    "#listas []\n",
    "#tuplas () se tiene que poner una coma para que sea una tupla y no otro tipo de variable ejemplo\n",
    "tupla=(2,)\n",
    "print(len(tupla)) #con esto te da longitud de 1 porque tiene un elemento la tupla"
   ]
  },
  {
   "cell_type": "code",
   "execution_count": 251,
   "metadata": {},
   "outputs": [
    {
     "output_type": "execute_result",
     "data": {
      "text/plain": [
       "1"
      ]
     },
     "metadata": {},
     "execution_count": 251
    }
   ],
   "source": [
    "tupla=(2,1)\n",
    "tupla[1] #al igual que las listas podemos acceder a los elementos de la tupla elemento 1 ultimo elemento de la tupla"
   ]
  },
  {
   "cell_type": "code",
   "execution_count": 252,
   "metadata": {},
   "outputs": [
    {
     "output_type": "stream",
     "name": "stdout",
     "text": [
      "<class 'tuple'>\n"
     ]
    }
   ],
   "source": [
    "# Tuplas --> Inmutables no permite agregar ni eliminar elementos y tienen que estar en el mismo orden, la longitud no se pueden modificar si empieza con 4 tiene que acabar con 4 elementos. si quieres modificar una tupla tienes que pasarla a lista y modificarla y volverla a tupla. \n",
    "\n",
    "tupla = (2, 5, \"caract\", [9, \"g\", [\"j\"]])\n",
    "print(type(tupla))"
   ]
  },
  {
   "cell_type": "code",
   "execution_count": 253,
   "metadata": {},
   "outputs": [
    {
     "output_type": "stream",
     "name": "stdout",
     "text": [
      "[2, 1, ['k', 'm']]\n"
     ]
    }
   ],
   "source": [
    "# Update listas\n",
    "lista = [2, \"6\", [\"k\", \"m\"]]\n",
    "lista[1] = 1 #sirve para actualizar lista ejemplo en vez de '6' el valor va a ser 1 se actualiza las tuplas no se pueden.\n",
    "print(lista)"
   ]
  },
  {
   "cell_type": "code",
   "execution_count": 255,
   "metadata": {},
   "outputs": [
    {
     "output_type": "stream",
     "name": "stdout",
     "text": [
      "(2, '6', ['k', 'n', 'otro'])\n"
     ]
    }
   ],
   "source": [
    "tupla2=(2,'6',['k','n'])\n",
    "tupla2[2].append('otro') #esto me lo deja hacer xq añade dentro de la lista de la tupla y no modifica el numero de elemenots de la tupla ni la longitud siguen siendo 3 elementos el orden de la tupla sigue siendo el mismo\n",
    "print(tupla2)"
   ]
  },
  {
   "cell_type": "code",
   "execution_count": 257,
   "metadata": {},
   "outputs": [
    {
     "output_type": "stream",
     "name": "stdout",
     "text": [
      "(2, '6', ['n'])\n"
     ]
    }
   ],
   "source": [
    "tupla2=(2,'6',['k','n'])\n",
    "tupla2[2].remove('k') #tambien puedo borrar dentro de la lista no de la tupla\n",
    "print(tupla2)"
   ]
  },
  {
   "cell_type": "code",
   "execution_count": 286,
   "metadata": {},
   "outputs": [
    {
     "output_type": "stream",
     "name": "stdout",
     "text": [
      "(2, 'b', ['n'])\n<class 'list'>\n[2, '5', ['n']]\n<class 'tuple'>\n"
     ]
    }
   ],
   "source": [
    "#cambiar tupla a lista para realizar cambios y luego pasarlo a tupla\n",
    "tupla2=(2,'6',['k','n'])\n",
    "print(tupla2)\n",
    "tupla2=list(tupla2)\n",
    "print(type(tupla2)) #he modificado la tupla a lista para realizar futuras modificaciones en la tupla\n",
    "tupla2[1]='5' #modifico el 'b' por '5'\n",
    "print(tupla2)\n",
    "tupla2=tuple(tupla2)\n",
    "print(type(tupla2)) #vuelvo a transformarlo en tupla"
   ]
  },
  {
   "cell_type": "code",
   "execution_count": 304,
   "metadata": {},
   "outputs": [
    {
     "output_type": "stream",
     "name": "stdout",
     "text": [
      "[2, ['k', 'n']]\n"
     ]
    }
   ],
   "source": [
    "tupla2=(2,'6',['k','n'])\n",
    "tupla2=list(tupla2)\n",
    "tupla2.remove('6')\n",
    "tupla=tuple(tupla2)\n",
    "print(tupla2) #cambio a lista, elimino vuelve a tupla"
   ]
  },
  {
   "cell_type": "code",
   "execution_count": null,
   "metadata": {},
   "outputs": [],
   "source": []
  },
  {
   "cell_type": "code",
   "execution_count": 266,
   "metadata": {},
   "outputs": [
    {
     "output_type": "execute_result",
     "data": {
      "text/plain": [
       "{2, 4, 6, 'a', 'h', 'z'}"
      ]
     },
     "metadata": {},
     "execution_count": 266
    }
   ],
   "source": [
    "# CONJUNTOS:\n",
    "# coleccion de elementos no hay elementos repetidos y los ordena se presentan con las {} pero se usan los () y se crea una lista y se pasa a conjunto o se crea un conjunto vacio. Los connjuntos no pueden tener colecciones mutables (listas) pero si pueden tener tuplas, o numeros none. \n",
    "\n",
    "conjunto = [2, 4, 6, \"a\", \"z\", \"h\", 2] #aunque hay dos doses luego abajo solo sale 1 y esta todo ordenado\n",
    "conjunto = set(conjunto) #con el set se convierte en conjunto si no se transforma con set seria una lista\n",
    "conjunto"
   ]
  },
  {
   "cell_type": "code",
   "execution_count": 267,
   "metadata": {},
   "outputs": [
    {
     "output_type": "execute_result",
     "data": {
      "text/plain": [
       "{2, 4, 6, False, True, 'a', 'h', 'z'}"
      ]
     },
     "metadata": {},
     "execution_count": 267
    }
   ],
   "source": [
    "conjunto = [\"a\", \"z\", \"h\", 2, 2, 4, 6, True, True, False] #el false va primero y luego el true y van numeros false true y luego letras\n",
    "conjunto = set(conjunto) #con el set se convierte en conjunto si no se transforma con set seria una lista\n",
    "conjunto\n"
   ]
  },
  {
   "cell_type": "code",
   "execution_count": 293,
   "metadata": {},
   "outputs": [
    {
     "output_type": "stream",
     "name": "stdout",
     "text": [
      "[2, 'a']\n"
     ]
    }
   ],
   "source": [
    "#si quiero que mi lista no tenga datos repetidos: \n",
    "#primero lo paso a conjunto, y despues lo paso a lista\n",
    "lista= (2,2,2,\"a\")\n",
    "lista=set(lista)\n",
    "lista=list(lista)\n",
    "print(lista) #se han eliminado los duplicados haciendo esto #no tiene xq mantener el orden en el que estaban antes de pasarlos a conjunto y luego a lista"
   ]
  },
  {
   "cell_type": "code",
   "execution_count": 295,
   "metadata": {},
   "outputs": [
    {
     "output_type": "stream",
     "name": "stdout",
     "text": [
      "[2, 'a']\n"
     ]
    }
   ],
   "source": [
    "#se puede expresar en una misla linea todo\n",
    "lista=list(set(lista))\n",
    "print(lista)"
   ]
  },
  {
   "cell_type": "code",
   "execution_count": null,
   "metadata": {},
   "outputs": [],
   "source": [
    "#tupla vacia\n",
    "tupla_vacia=()\n",
    "#lista vacia\n",
    "lista_vacia=[]\n",
    "#conjunto vacio\n",
    "conjunto_vacio=({0,})\n",
    "#string vacio\n",
    "string_vacio=\"\""
   ]
  },
  {
   "cell_type": "code",
   "execution_count": 296,
   "metadata": {},
   "outputs": [
    {
     "output_type": "stream",
     "name": "stdout",
     "text": [
      "<class 'tuple'>\n"
     ]
    }
   ],
   "source": [
    "#tupla vacia\n",
    "tupla_vacia=()\n",
    "print(type(tupla_vacia))"
   ]
  },
  {
   "cell_type": "code",
   "execution_count": 297,
   "metadata": {},
   "outputs": [
    {
     "output_type": "stream",
     "name": "stdout",
     "text": [
      "<class 'list'>\n"
     ]
    }
   ],
   "source": [
    "#lista vacia\n",
    "lista_vacia=[]\n",
    "print(type(lista_vacia))"
   ]
  },
  {
   "cell_type": "code",
   "execution_count": 300,
   "metadata": {},
   "outputs": [
    {
     "output_type": "stream",
     "name": "stdout",
     "text": [
      "<class 'set'>\n"
     ]
    }
   ],
   "source": [
    "#conjunto vacio\n",
    "conjunto_vacio=({0,})\n",
    "print(type(conjunto_vacio)) #si no se pone un numero con la coma es un diccionario"
   ]
  },
  {
   "cell_type": "code",
   "execution_count": 268,
   "metadata": {},
   "outputs": [
    {
     "output_type": "execute_result",
     "data": {
      "text/plain": [
       "{2, 2.1, 2.3, 2.4, 4, 6, False, True, 'a', 'h', 'z'}"
      ]
     },
     "metadata": {},
     "execution_count": 268
    }
   ],
   "source": [
    "conjunto = [\"a\", \"z\", \"h\", 2, 2, 4, 6, 2.1, 2.4, 2.3, True, True, False]\n",
    "conjunto = set(conjunto) #con el set se convierte en conjunto si no se transforma con set seria una lista\n",
    "#numeros estan entre medias los floats, booleanos y despues letras \n",
    "conjunto"
   ]
  },
  {
   "cell_type": "code",
   "execution_count": 270,
   "metadata": {},
   "outputs": [
    {
     "output_type": "execute_result",
     "data": {
      "text/plain": [
       "{2, 2.1, 2.3, 2.4, 4, 6, False, True, 'a', 'h', 'z'}"
      ]
     },
     "metadata": {},
     "execution_count": 270
    }
   ],
   "source": [
    "conjunto_tupla = (\"a\", \"z\", \"h\", 2, 2, 4, 6, 2.1, 2.4, 2.3, True, True, False)\n",
    "conjunto = set(conjunto_tupla) #de tupla a conjunto\n",
    "conjunto"
   ]
  },
  {
   "cell_type": "code",
   "execution_count": 271,
   "metadata": {},
   "outputs": [
    {
     "output_type": "execute_result",
     "data": {
      "text/plain": [
       "{2, 2.1, 2.3, 2.4, 4, 6, False, True, 'a', 'h', 'z'}"
      ]
     },
     "metadata": {},
     "execution_count": 271
    }
   ],
   "source": [
    "conjunto = {\"a\", \"z\", \"h\", 2, 2, 4, 6, 2.1, 2.4, 2.3, True, True, False}\n",
    "conjunto"
   ]
  },
  {
   "cell_type": "code",
   "execution_count": 273,
   "metadata": {},
   "outputs": [
    {
     "output_type": "stream",
     "name": "stdout",
     "text": [
      "<class 'set'>\n<class 'tuple'>\n"
     ]
    }
   ],
   "source": [
    "#igual que para una tupla hay que poner una coma si solo se tiene un elemento, en los conjuntos son igual\n",
    "conjunto={2,}\n",
    "tupla=(2,)\n",
    "print(type(conjunto))\n",
    "print(type(tupla))"
   ]
  },
  {
   "cell_type": "code",
   "execution_count": null,
   "metadata": {},
   "outputs": [],
   "source": [
    "s = \"String\"\n",
    "lista_s = list(s)\n",
    "lista_s"
   ]
  },
  {
   "cell_type": "code",
   "execution_count": null,
   "metadata": {},
   "outputs": [],
   "source": [
    "s = \"String\"\n",
    "conj = {s}\n",
    "conj"
   ]
  },
  {
   "cell_type": "code",
   "execution_count": null,
   "metadata": {},
   "outputs": [],
   "source": [
    "# Cambiar de tupla a lista, remover elemento y convertir en tupla\n"
   ]
  },
  {
   "cell_type": "code",
   "execution_count": null,
   "metadata": {},
   "outputs": [],
   "source": [
    "conjunto = {2, 5, \"h\"}\n",
    "lista_con_conjunto = [conjunto]\n",
    "lista_con_conjunto[0]"
   ]
  },
  {
   "cell_type": "code",
   "execution_count": null,
   "metadata": {},
   "outputs": [],
   "source": [
    "# No podemos acceder a elementos de un conjunto\n",
    "lista_con_conjunto[0][0]"
   ]
  },
  {
   "cell_type": "markdown",
   "metadata": {},
   "source": [
    "## 5. Condiciones: if, elif, else"
   ]
  },
  {
   "source": [
    "### Boolean"
   ],
   "cell_type": "markdown",
   "metadata": {}
  },
  {
   "cell_type": "code",
   "execution_count": null,
   "metadata": {},
   "outputs": [],
   "source": [
    "True\n",
    "False\n"
   ]
  },
  {
   "cell_type": "code",
   "execution_count": null,
   "metadata": {},
   "outputs": [],
   "source": [
    "# Operadores comparativos\n"
   ]
  },
  {
   "cell_type": "code",
   "execution_count": null,
   "metadata": {},
   "outputs": [],
   "source": [
    "# Diferente"
   ]
  },
  {
   "source": [
    "\"\"\"\n",
    "==  -> Igualdad\n",
    "!= -> Diferecia\n",
    "< -> Menor que\n",
    "> -> Mayor que\n",
    "<= -> Menor o igual\n",
    ">= -> Mayor o igual\n",
    "\"\"\"\n"
   ],
   "cell_type": "code",
   "metadata": {},
   "execution_count": null,
   "outputs": []
  },
  {
   "cell_type": "code",
   "execution_count": null,
   "metadata": {},
   "outputs": [],
   "source": [
    "# and solo devolverá True si TODOS son True\n",
    "True and False"
   ]
  },
  {
   "cell_type": "code",
   "execution_count": null,
   "metadata": {},
   "outputs": [],
   "source": [
    "# or devolverá True si UNO es True"
   ]
  },
  {
   "cell_type": "code",
   "execution_count": null,
   "metadata": {},
   "outputs": [],
   "source": [
    "# Sinónimos de False para las condiciones:\n",
    "# None\n",
    "# False\n",
    "# 0 (int or float)\n",
    "# Cualquier colección vacía --> [], \"\", (), {}\n",
    "\n",
    "# El None no actúa como un número al compararlo con otro número\n",
    "\"\"\"\n",
    "El True lo toma como un numérico 1\n",
    "\"\"\""
   ]
  },
  {
   "source": [],
   "cell_type": "markdown",
   "metadata": {}
  },
  {
   "cell_type": "markdown",
   "metadata": {},
   "source": []
  },
  {
   "cell_type": "markdown",
   "metadata": {},
   "source": [
    "# Bucles For, While"
   ]
  },
  {
   "source": [
    "# Lista alturas"
   ],
   "cell_type": "code",
   "metadata": {},
   "execution_count": null,
   "outputs": []
  },
  {
   "source": [
    "## Funciones"
   ],
   "cell_type": "markdown",
   "metadata": {}
  },
  {
   "cell_type": "code",
   "execution_count": null,
   "metadata": {},
   "outputs": [],
   "source": []
  }
 ],
 "metadata": {
  "language_info": {
   "name": "python",
   "codemirror_mode": {
    "name": "ipython",
    "version": 3
   },
   "version": "3.7.4"
  },
  "orig_nbformat": 2,
  "file_extension": ".py",
  "mimetype": "text/x-python",
  "name": "python",
  "npconvert_exporter": "python",
  "pygments_lexer": "ipython3",
  "version": 3,
  "kernelspec": {
   "name": "python374jvsc74a57bd07945e9a82d7512fbf96246d9bbc29cd2f106c1a4a9cf54c9563dadf10f2237d4",
   "display_name": "Python 3.7.4 64-bit"
  },
  "metadata": {
   "interpreter": {
    "hash": "7945e9a82d7512fbf96246d9bbc29cd2f106c1a4a9cf54c9563dadf10f2237d4"
   }
  }
 },
 "nbformat": 4,
 "nbformat_minor": 2
}