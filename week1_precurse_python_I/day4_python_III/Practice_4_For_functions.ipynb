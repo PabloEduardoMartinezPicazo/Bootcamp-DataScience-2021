{
 "cells": [
  {
   "cell_type": "markdown",
   "metadata": {},
   "source": [
    "# Python | day 4 | for loop, functions (feat. basics & if/else) "
   ]
  },
  {
   "cell_type": "markdown",
   "metadata": {},
   "source": [
    "### Exercise 0.1 - Python Basics\n",
    "\n",
    "1. What do we use to make a line break in a print? And for a tab stop?\n",
    "\n",
    "have a look ---> http://elclubdelautodidacta.es/wp/2012/04/python-capitulo-31-exprimiendo-la-funcion-print/"
   ]
  },
  {
   "cell_type": "code",
   "execution_count": null,
   "metadata": {},
   "outputs": [],
   "source": []
  },
  {
   "cell_type": "markdown",
   "metadata": {},
   "source": [
    "2. Make a converter from dollars to euros. You'll have to use input."
   ]
  },
  {
   "cell_type": "code",
   "execution_count": 33,
   "metadata": {},
   "outputs": [
    {
     "output_type": "stream",
     "name": "stdout",
     "text": [
      "114.0\n"
     ]
    }
   ],
   "source": [
    "\n",
    "Dollar=int(input(\"dollars\"))\n",
    "Cambio= float(input(\"tasa\"))\n",
    "def converter(Dolares=Dollar,Tasa_de_cambio=Cambio):\n",
    "    print(Dolares*Tasa_de_cambio) \n",
    "converter()\n"
   ]
  },
  {
   "cell_type": "markdown",
   "metadata": {},
   "source": [
    "3. Declare two strings, one will be your first name and the other your last name. Declare your age in another variable. Print a sentence which include those variables, using ```f{}```. Wtf is that? check this out **-->** https://realpython.com/python-string-formatting/"
   ]
  },
  {
   "cell_type": "code",
   "execution_count": 59,
   "metadata": {},
   "outputs": [
    {
     "output_type": "stream",
     "name": "stdout",
     "text": [
      "hello my name is Pablo and my surname is Martinez I'm 28 years old\n"
     ]
    }
   ],
   "source": [
    "name=\"Pablo\"\n",
    "surname=\"Martinez\"\n",
    "age=\"28\"\n",
    "print(f\"hello my name is {name} and my surname is {surname} I'm {age} years old\")"
   ]
  },
  {
   "cell_type": "markdown",
   "metadata": {},
   "source": [
    "4. Given the list `[4,7, -3]`, calculate its maximum, minimum and sum."
   ]
  },
  {
   "cell_type": "code",
   "execution_count": 38,
   "metadata": {},
   "outputs": [
    {
     "output_type": "stream",
     "name": "stdout",
     "text": [
      "-3\n7\n8\n"
     ]
    }
   ],
   "source": [
    "lista=[4,7,-3]\n",
    "minimum=min(lista)\n",
    "maximum=max(lista)\n",
    "sumar=sum(lista)\n",
    "print(minimum)\n",
    "print(maximum)\n",
    "print(sumar)"
   ]
  },
  {
   "cell_type": "markdown",
   "metadata": {},
   "source": [
    "5. Save the number `38.38276252728` to a variable called `number_dec` and round it to 5 decimal places.\n"
   ]
  },
  {
   "cell_type": "code",
   "execution_count": 39,
   "metadata": {},
   "outputs": [
    {
     "output_type": "execute_result",
     "data": {
      "text/plain": [
       "38.38276"
      ]
     },
     "metadata": {},
     "execution_count": 39
    }
   ],
   "source": [
    "round(38.38276252728,5)"
   ]
  },
  {
   "cell_type": "markdown",
   "metadata": {},
   "source": [
    "6. Declare a variable `phrase` with the value `\"Born to be wild\"` and make it uppercase, then lowercase, divide it by spaces, and finally, replace `\"wild\"` with `\"Geek.\"`"
   ]
  },
  {
   "cell_type": "code",
   "execution_count": 118,
   "metadata": {},
   "outputs": [
    {
     "output_type": "stream",
     "name": "stdout",
     "text": [
      "BORN TO BE WILD\nborn to be wild\n['Born', 'to', 'be', 'wild']\n['Born', 'to', 'be', 'geek']\n"
     ]
    }
   ],
   "source": [
    "phrase=\"Born to be wild\"\n",
    "print(phrase.upper()) #con esta funcion se hacen mayusculas\n",
    "print(phrase.lower()) #con esta funcion se hacen minusculas\n",
    "print((phrase.split(sep=\" \",maxsplit=-1)))\n",
    "phrase=list((phrase.split(sep=\" \",maxsplit=-1)))\n",
    "phrase[3]=\"geek\"\n",
    "print(phrase)\n"
   ]
  },
  {
   "cell_type": "markdown",
   "metadata": {},
   "source": [
    "7. Create a program where two inputs are collected, and the output of the program is a boolean which tell the user whether those inputs are the same or not.\n"
   ]
  },
  {
   "cell_type": "code",
   "execution_count": 135,
   "metadata": {},
   "outputs": [
    {
     "output_type": "stream",
     "name": "stdout",
     "text": [
      "True\n"
     ]
    }
   ],
   "source": [
    "a=input()\n",
    "b=input()\n",
    "def boolean (input1=a,input2=b):    \n",
    "    if a==b:\n",
    "        print(True)\n",
    "    else:\n",
    "        print(False)\n",
    "boolean()"
   ]
  },
  {
   "cell_type": "markdown",
   "metadata": {},
   "source": [
    "### Exercise 0.2 - If/else\n",
    "\n",
    "1. Create a decission tree using if/else sentences, to determine the price of the movies ticket. If the client's age is between 5 and 15 years, both included, the price will be 5, if she/he is retired and the movie is one of the `peliculas_discount`, the price is 4. In any other case, it will be 7 euros.\n",
    "\n",
    "You should create the list of `peliculas_discount` with your favourites movies. "
   ]
  },
  {
   "cell_type": "code",
   "execution_count": 29,
   "metadata": {},
   "outputs": [
    {
     "output_type": "stream",
     "name": "stdout",
     "text": [
      "price: 5\n"
     ]
    }
   ],
   "source": [
    "peliculas_discount=[\"Harry Potter\",\"Hunger Games\",\"Lord of the Rings\"]\n",
    "pelicula_ver=input(\"titulo pelicula\")\n",
    "client_age=int(input(\"age\"))\n",
    "if  5<=client_age<=15:\n",
    "    print (\"price:\", 5)\n",
    "elif 65<=client_age and pelicula_ver in peliculas_discount:\n",
    "    print(\"price:\", 4)\n",
    "else:\n",
    "    print(\"price:\", 7)\n",
    "\n",
    "\n"
   ]
  },
  {
   "cell_type": "markdown",
   "metadata": {},
   "source": [
    "### Exercise 1 - For"
   ]
  },
  {
   "cell_type": "markdown",
   "metadata": {},
   "source": [
    "1. You are witnessing an epic battle between two powerful sorcerers: Gandalf and Saruman. Each sorcerer has 10 spells of variable power in their mind and they are going to throw them one after the other. The winner of the duel will be the one who wins more of those clashes between spells. Spells are represented as a list of 10 integers whose value equals the power of the spell.\n",
    "\n",
    "```python\n",
    "gandalf = [10, 11, 13, 30, 22, 11, 10, 33, 22, 22]\n",
    "saruman = [23, 66, 12, 43, 12, 10, 44, 23, 12, 17]\n",
    "```\n",
    "\n",
    "For example:\n",
    "\n",
    "The first clash is won by Saruman: 10 against 23, wins 23\n",
    "The second clash wins Saruman: 11 against 66, wins 66\n",
    "etc.\n",
    "You will create two variables, one for each sorcerer, where the sum of clashes won will be stored. Depending on which variable is greater at the end of the duel, you will show one of the following three results on the screen:\n",
    "```\n",
    "Gandalf wins\n",
    "Saruman wins\n",
    "Tie\n",
    "```"
   ]
  },
  {
   "cell_type": "code",
   "execution_count": 120,
   "metadata": {},
   "outputs": [
    {
     "output_type": "stream",
     "name": "stdout",
     "text": [
      "Saruman wins\nSaruman wins\nGandalf wins\nSaruman wins\nGandalf wins\nGandalf wins\nSaruman wins\nGandalf wins\nGandalf wins\nGandalf wins\n"
     ]
    }
   ],
   "source": [
    "gandalf = [10, 11, 13, 30, 22, 11, 10, 33, 22, 22]\n",
    "saruman = [23, 66, 12, 43, 12, 10, 44, 23, 12, 17]\n",
    "for i,value in enumerate(gandalf):\n",
    "    if gandalf[i]>saruman[i]:\n",
    "        print(\"Gandalf wins\")\n",
    "    elif gandalf[i]<saruman[i]:\n",
    "        print(\"Saruman wins\")\n",
    "    else:\n",
    "        print(\"Tie\")\n",
    "\n"
   ]
  },
  {
   "cell_type": "code",
   "execution_count": 121,
   "metadata": {},
   "outputs": [
    {
     "output_type": "stream",
     "name": "stdout",
     "text": [
      "Saruman wins\nSaruman wins\nGandalf wins\nSaruman wins\nGandalf wins\nGandalf wins\nSaruman wins\nGandalf wins\nGandalf wins\nGandalf wins\n"
     ]
    }
   ],
   "source": [
    "gandalf = [10, 11, 13, 30, 22, 11, 10, 33, 22, 22]\n",
    "saruman = [23, 66, 12, 43, 12, 10, 44, 23, 12, 17]\n",
    "for i in range(len(gandalf)):\n",
    "    if gandalf[i]>saruman[i]:\n",
    "        print(\"Gandalf wins\")\n",
    "    elif gandalf[i]<saruman[i]:\n",
    "        print(\"Saruman wins\")\n",
    "    else:\n",
    "        print(\"Tie\")"
   ]
  },
  {
   "cell_type": "markdown",
   "metadata": {},
   "source": [
    "### Exercise 2 - Functions"
   ]
  },
  {
   "cell_type": "markdown",
   "metadata": {},
   "source": [
    "1. Write a function program to sum up two given different numbers. "
   ]
  },
  {
   "cell_type": "code",
   "execution_count": 26,
   "metadata": {},
   "outputs": [
    {
     "output_type": "stream",
     "name": "stdout",
     "text": [
      "5\n"
     ]
    }
   ],
   "source": [
    "\n",
    "def suma (num1,num2):\n",
    "    z=num1+num2\n",
    "    print(z)\n",
    "\n",
    "suma(2,3)\n",
    "\n",
    "\n"
   ]
  },
  {
   "cell_type": "code",
   "execution_count": null,
   "metadata": {},
   "outputs": [],
   "source": []
  },
  {
   "cell_type": "markdown",
   "metadata": {},
   "source": [
    "Call the function you've just defined to sum up: \n",
    "    - 5 and 6\n",
    "    - -3 and 10\n",
    "    - 99 and 789"
   ]
  },
  {
   "cell_type": "code",
   "execution_count": 27,
   "metadata": {},
   "outputs": [
    {
     "output_type": "stream",
     "name": "stdout",
     "text": [
      "1\n7\n690\n"
     ]
    }
   ],
   "source": [
    "\n",
    "suma(-5,6)\n",
    "suma(-3,10) \n",
    "suma(-99,789)\n"
   ]
  },
  {
   "cell_type": "markdown",
   "metadata": {},
   "source": [
    "### Bonus Track"
   ]
  },
  {
   "cell_type": "markdown",
   "metadata": {},
   "source": [
    "2. Write a Python program to convert a tuple of characters into a string.\n",
    "\n",
    "    - Sample tuple: `(\"T\", \"H\", \"E\", \" \", \"B\", \"R\", \"I\", \"D\", \"G\", \"E\")`\n",
    "    - Expected output : `\"THE BRIDGE\"`\n",
    "    \n",
    "Hint: Turn it into a list. "
   ]
  },
  {
   "cell_type": "code",
   "execution_count": null,
   "metadata": {},
   "outputs": [],
   "source": []
  },
  {
   "cell_type": "markdown",
   "metadata": {},
   "source": [
    "3. Write a Python program to generate a list where the values are square of numbers between 1 and 30 (both included), and return a list of first and last 5 elements of the list."
   ]
  },
  {
   "cell_type": "code",
   "execution_count": null,
   "metadata": {},
   "outputs": [],
   "source": []
  },
  {
   "cell_type": "markdown",
   "metadata": {},
   "source": [
    "4. Create a program that calculates the average.\n",
    "\n",
    "The program will ask the user to specify how many numbers you want to enter, and will show a prompt to include number by number to a list, and then calculate the average of each number in that list."
   ]
  },
  {
   "cell_type": "code",
   "execution_count": null,
   "metadata": {},
   "outputs": [],
   "source": [
    "\n"
   ]
  },
  {
   "cell_type": "markdown",
   "metadata": {},
   "source": [
    "# If you made it till here you did a fantastic work!"
   ]
  },
  {
   "cell_type": "markdown",
   "metadata": {},
   "source": [
    "![\"holo\"](https://img-9gag-fun.9cache.com/photo/aNg9wMK_460s.jpg)"
   ]
  },
  {
   "cell_type": "code",
   "execution_count": null,
   "metadata": {},
   "outputs": [],
   "source": []
  }
 ],
 "metadata": {
  "kernelspec": {
   "name": "python374jvsc74a57bd07945e9a82d7512fbf96246d9bbc29cd2f106c1a4a9cf54c9563dadf10f2237d4",
   "display_name": "Python 3.7.4 64-bit"
  },
  "language_info": {
   "codemirror_mode": {
    "name": "ipython",
    "version": 3
   },
   "file_extension": ".py",
   "mimetype": "text/x-python",
   "name": "python",
   "nbconvert_exporter": "python",
   "pygments_lexer": "ipython3",
   "version": "3.7.4"
  },
  "metadata": {
   "interpreter": {
    "hash": "7945e9a82d7512fbf96246d9bbc29cd2f106c1a4a9cf54c9563dadf10f2237d4"
   }
  }
 },
 "nbformat": 4,
 "nbformat_minor": 4
}