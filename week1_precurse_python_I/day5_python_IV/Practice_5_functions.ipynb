{
 "cells": [
  {
   "cell_type": "markdown",
   "metadata": {},
   "source": [
    "# Python | day 5 | functions"
   ]
  },
  {
   "cell_type": "markdown",
   "metadata": {},
   "source": [
    "In Python, a function is a group of related statements that performs a specific task."
   ]
  },
  {
   "cell_type": "markdown",
   "metadata": {},
   "source": [
    "https://www.programiz.com/python-programming/function"
   ]
  },
  {
   "cell_type": "markdown",
   "metadata": {},
   "source": [
    "#### Difference between `return` and `print`.\n",
    "\n",
    "Take some minutes to understand the difference between `return` and `print`, it seems to be the same, but they are not and it's important you understand the difference. "
   ]
  },
  {
   "cell_type": "code",
   "execution_count": 5,
   "metadata": {},
   "outputs": [
    {
     "output_type": "stream",
     "name": "stdout",
     "text": [
      "2\n4\n8\n2\n4\n2\n"
     ]
    }
   ],
   "source": [
    "def suma(a,b):\n",
    "    print(a)\n",
    "    return a+b\n",
    "\n",
    "print(suma(suma(2,2),4)) #print muestra el resultado de la operacion que se este realizando, mientras return lo que hace es guardar la informacion o bien en una variable que se le asigna o dentro de la propia funcion. por ejemplo , x=suma() el return en este caso se guarda en x. Tambien se puede guardar dentro de la misma funcion como vimos en clase con la funcion pop que borra el ultimo elemento de una lista, salvo que se indique la posicion que se desea borrar. \n",
    "#Al ejecutar la operacion indicada arriba (print(suma(suma(2,2),4)))   da como resultado lo siguiente:\n",
    "# el 2 es de printear a como pone la propia definicion de la funcion\n",
    "# el 4 es de la resolucion de la primera suma (2,2) \n",
    "# el 8 es de realizar la suma exterior con el resultado de la suma interior.\n",
    "x=suma(2,2)\n",
    "print(x) # se asigna una variable llamada x a la funcion suma, asignandole a \"a\" y a \"b\" los valores de 2. y da como reusltado el printeo de a, es decir 2 y el printeo del retorno guardado en x, 4. \n",
    "# el return si no se le asgina nada siempre es None\n",
    "# no todas las funciones tienen return \n",
    "#para mostrar si o si el return hay que hacer un printeo para que muestre el resultado del return\n"
   ]
  },
  {
   "cell_type": "markdown",
   "metadata": {},
   "source": [
    "#### Comments in a function."
   ]
  },
  {
   "cell_type": "code",
   "execution_count": 7,
   "metadata": {},
   "outputs": [],
   "source": [
    "def say_hello(name):\n",
    "    \"\"\"\n",
    "    Given a name as an argument, \n",
    "    the function return a string greeting\n",
    "    the name given. \n",
    "    \"\"\"\n",
    "    return f\"hello {name}\""
   ]
  },
  {
   "cell_type": "code",
   "execution_count": 8,
   "metadata": {},
   "outputs": [
    {
     "output_type": "stream",
     "name": "stdout",
     "text": [
      "hello Clara\n"
     ]
    }
   ],
   "source": [
    "print(say_hello(\"Clara\"))\n"
   ]
  },
  {
   "cell_type": "code",
   "execution_count": 4,
   "metadata": {},
   "outputs": [],
   "source": [
    "help(say_hello)"
   ]
  },
  {
   "cell_type": "markdown",
   "metadata": {},
   "source": [
    "### Exercise 1. "
   ]
  },
  {
   "cell_type": "markdown",
   "metadata": {},
   "source": [
    "To solve the following exercises it will be necessary to define a function for each section. You choose the name of those functions unless specified, but make sure you define a single parameter `whichever_list`, when calling the function it will correspond to the variable `info_list`.\n",
    "```python\n",
    "def funtion_bla(whichever_list):\n",
    "    return whichever_list\n",
    "\n",
    "function_bla(info_list)\n",
    "```\n",
    "\n",
    "**In the case of not being able to solve a question containing the code in a function, try to do it without defining one.**"
   ]
  },
  {
   "cell_type": "code",
   "execution_count": 5,
   "metadata": {},
   "outputs": [],
   "source": [
    "# you can use this list or take yours from Practice 3\n",
    "info_list = [15, 'Recoletos', True, ['Recoletos', 15],  None, '8'] "
   ]
  },
  {
   "cell_type": "markdown",
   "metadata": {},
   "source": [
    "1. Display on the screen `\"I like the tranquility\"` if you like the mountains more and `\"I'd love to live in Malaga\"` if you like the beach more.\n",
    "\n"
   ]
  },
  {
   "cell_type": "code",
   "execution_count": 87,
   "metadata": {},
   "outputs": [
    {
     "output_type": "stream",
     "name": "stdout",
     "text": [
      "please, choose between mountains or beach\n"
     ]
    }
   ],
   "source": [
    "#define a function which takes a single parameter `whichever_list`\n",
    "\n",
    "\n",
    "\n",
    "def interest ():\n",
    "    preferences=input(\"beach or mountains\")\n",
    "    if preferences==\"mountains\":\n",
    "        print(\"I like the tranquility\")\n",
    "    elif preferences==\"beach\":\n",
    "        print(\"I'd love to live in Malaga\")\n",
    "    else:\n",
    "        print(\"please, choose between mountains or beach\")\n",
    "      \n",
    "\n",
    "interest()\n",
    "\n",
    "\n",
    "\n",
    "\n",
    "\n"
   ]
  },
  {
   "cell_type": "code",
   "execution_count": null,
   "metadata": {},
   "outputs": [],
   "source": [
    "#call the function with the variable `info_list`\n"
   ]
  },
  {
   "cell_type": "markdown",
   "metadata": {},
   "source": [
    "2. Print `\"Today I am tired\"` if you have slept less than 7 hours or `\"Today I conquer the world\"` if you have slept more than 7 hours."
   ]
  },
  {
   "cell_type": "code",
   "execution_count": 77,
   "metadata": {},
   "outputs": [
    {
     "output_type": "stream",
     "name": "stdout",
     "text": [
      "Today I am tired\n"
     ]
    }
   ],
   "source": [
    "#define a function which takes a single parameter `whichever_list`\n",
    "def sleep():\n",
    "    number_of_hours_of_sleep=int(input(\"number of hours of sleep\"))\n",
    "    if number_of_hours_of_sleep<7:\n",
    "        print(\"Today I am tired\")\n",
    "    elif number_of_hours_of_sleep>7:\n",
    "        print(\"Today I conquer the world\")\n",
    "    else:\n",
    "        print(\"number not valid\")\n",
    "sleep()"
   ]
  },
  {
   "cell_type": "code",
   "execution_count": null,
   "metadata": {},
   "outputs": [],
   "source": [
    "#call the function with the variable `info_list`\n"
   ]
  },
  {
   "cell_type": "markdown",
   "metadata": {},
   "source": [
    "3. Loop through `whichever_list` to print all the elements it contains. This function should return the list turned into a tuple. "
   ]
  },
  {
   "cell_type": "code",
   "execution_count": 174,
   "metadata": {},
   "outputs": [
    {
     "output_type": "stream",
     "name": "stdout",
     "text": [
      "(15, 'Recoletos', True, ['Recoletos', 15], None, '8')\n"
     ]
    }
   ],
   "source": [
    "#define a function which takes a single parameter `whichever_list`\n",
    "info_list = [15, 'Recoletos', True, ['Recoletos', 15],  None, '8'] \n",
    "def funcion(whichever_list):\n",
    "    \n",
    "    tupla_lista=[]\n",
    "    for x in whichever_list:\n",
    "        tupla_lista.append(x)\n",
    "    tupla_lista=tuple(tupla_lista)\n",
    "    print(tupla_lista)\n",
    "funcion(whichever_list=info_list)"
   ]
  },
  {
   "cell_type": "code",
   "execution_count": null,
   "metadata": {},
   "outputs": [],
   "source": [
    "#call the function with the variable `info_list`\n"
   ]
  },
  {
   "cell_type": "markdown",
   "metadata": {},
   "source": [
    "4. Loop through `whichever_list` to print all the elements it contains concatenated with the string` \"--> OK\" `. This function should return a message saying, `\"everything will be ok\"`. \n"
   ]
  },
  {
   "cell_type": "code",
   "execution_count": 175,
   "metadata": {},
   "outputs": [
    {
     "output_type": "stream",
     "name": "stdout",
     "text": [
      "[15, 'Recoletos', True, ['Recoletos', 15], None, '8']\neverything will be ok\n"
     ]
    }
   ],
   "source": [
    "#define a function which takes a single parameter `whichever_list`\n",
    "info_list = [15, 'Recoletos', True, ['Recoletos', 15],  None, '8'] \n",
    "def funcion1(whichever_list):\n",
    "    \n",
    "\n",
    "    tupla_lista=[]\n",
    "    for x in whichever_list:\n",
    "        if x==isinstance(x,str):\n",
    "            x=x+\"--> OK\"\n",
    "            tupla_lista.append(x)\n",
    "        else:\n",
    "            x=str(x)\n",
    "            x=x+\"--> OK\"\n",
    "            tupla_lista.append(x)\n",
    "    print(whichever_list)\n",
    "    return (\"everything will be ok\")\n",
    "\n",
    "x=funcion1(whichever_list=info_list)\n",
    "\n",
    "\n",
    "print(x)\n"
   ]
  },
  {
   "cell_type": "code",
   "execution_count": null,
   "metadata": {},
   "outputs": [],
   "source": [
    "#call the function with the variable `info_list`\n"
   ]
  },
  {
   "cell_type": "markdown",
   "metadata": {},
   "source": [
    "5. Loop through `whichever_list` to display all items it contains except the first one. This function should return the first element of the list. "
   ]
  },
  {
   "cell_type": "code",
   "execution_count": 186,
   "metadata": {},
   "outputs": [
    {
     "output_type": "stream",
     "name": "stdout",
     "text": [
      "Recoletos\nTrue\n['Recoletos', 15]\nNone\n8\n15\n"
     ]
    }
   ],
   "source": [
    "\n",
    "#define a function which takes a single parameter `whichever_list`\n",
    "info_list = [15, 'Recoletos', True, ['Recoletos', 15],  None, '8'] \n",
    "def funcion3 (whichever_list):\n",
    "    for x in whichever_list [1:]:\n",
    "        print(x)\n",
    "    return (whichever_list[0])\n",
    "\n",
    "z=funcion3(whichever_list=info_list)\n",
    "print(z)\n"
   ]
  },
  {
   "cell_type": "code",
   "execution_count": null,
   "metadata": {},
   "outputs": [],
   "source": [
    "#call the function with the variable `info_list`\n"
   ]
  },
  {
   "cell_type": "markdown",
   "metadata": {},
   "source": [
    "6. Loop through `whichever_list` to display all the items it contains except the last one. This function should return the last element of the list. "
   ]
  },
  {
   "cell_type": "code",
   "execution_count": 191,
   "metadata": {},
   "outputs": [
    {
     "output_type": "stream",
     "name": "stdout",
     "text": [
      "15\nRecoletos\nTrue\n['Recoletos', 15]\nNone\n8\n"
     ]
    }
   ],
   "source": [
    "#define a function which takes a single parameter `whichever_list`\n",
    "info_list = [15, 'Recoletos', True, ['Recoletos', 15],  None, '8'] \n",
    "def funcion4 (whichever_list):\n",
    "    for x in whichever_list[:-1]:\n",
    "        print(x)\n",
    "    return(whichever_list[-1])\n",
    "t=funcion4(whichever_list=info_list)\n",
    "print(t)"
   ]
  },
  {
   "cell_type": "code",
   "execution_count": null,
   "metadata": {},
   "outputs": [],
   "source": [
    "#call the function with the variable `info_list`\n"
   ]
  },
  {
   "cell_type": "markdown",
   "metadata": {},
   "source": [
    "7. Loop through `whichever_list` to show all the elements it contains except the street number and the hours you've slept."
   ]
  },
  {
   "cell_type": "code",
   "execution_count": 199,
   "metadata": {},
   "outputs": [
    {
     "output_type": "stream",
     "name": "stdout",
     "text": [
      "Recoletos\nTrue\n['Recoletos', 15]\nNone\nNone\n"
     ]
    }
   ],
   "source": [
    "#define a function which takes a single parameter `whichever_list`\n",
    "info_list = [15, 'Recoletos', True, ['Recoletos', 15],  None, '8']\n",
    "def funcion5 (whichever_list):\n",
    "    for x in whichever_list[1:5]:\n",
    "        print(x)\n",
    "  \n",
    "\n",
    "g=funcion5(whichever_list=info_list)\n",
    "print(g)"
   ]
  },
  {
   "cell_type": "code",
   "execution_count": null,
   "metadata": {},
   "outputs": [],
   "source": [
    "#call the function with the variable `info_list`\n"
   ]
  },
  {
   "cell_type": "markdown",
   "metadata": {},
   "source": [
    "8. Loop through `whichever_list` to print all the elements it contains except the first element of the list which is in fourth position (`'Recoletos'`). This function should return the lenght of that element. "
   ]
  },
  {
   "cell_type": "code",
   "execution_count": 236,
   "metadata": {},
   "outputs": [
    {
     "output_type": "stream",
     "name": "stdout",
     "text": [
      "15\nRecoletos\nTrue\nR\ne\nc\no\nl\ne\nt\no\ns\nNone\n8\n9\n"
     ]
    }
   ],
   "source": [
    "#define a function which takes a single parameter `whichever_list`\n",
    "info_list = [15, 'Recoletos', True, ['Recoletos', 15],  None, '8']\n",
    "def funcion6 (whichever_list):\n",
    "    for x in whichever_list[0:3]:\n",
    "        print(x)\n",
    "    for z in whichever_list[3][0]: #he intentado solucionar que el segundo \"Recoletos\" me salga asi pero no he sido capaz\n",
    "        print(z)\n",
    "    for y in whichever_list[4:]:\n",
    "        print(y)     \n",
    "    return len (whichever_list[3][0])\n",
    "q=funcion6(whichever_list=info_list)\n",
    "print(q)"
   ]
  },
  {
   "cell_type": "code",
   "execution_count": null,
   "metadata": {},
   "outputs": [],
   "source": [
    "#call the function with the variable `info_list`\n"
   ]
  },
  {
   "cell_type": "markdown",
   "metadata": {},
   "source": [
    "9. Loop through `whichever_list` to show all the elements it contains except the one that contains the information about whether you like the mountains or the beach. The function should return a message saying `\"I love the beach\"` if you prefer the beach and a message saying `\"I love the mountain\"` otherwise. "
   ]
  },
  {
   "cell_type": "code",
   "execution_count": 237,
   "metadata": {},
   "outputs": [
    {
     "output_type": "stream",
     "name": "stdout",
     "text": [
      "15\n",
      "Recoletos\n",
      "True\n",
      "['Recoletos', 15]\n",
      "None\n",
      "8\n",
      "I love the beach\n",
      "None\n"
     ]
    }
   ],
   "source": [
    "#define a function which takes a single parameter `whichever_list`\n",
    "info_list = [15, 'Recoletos', True, ['Recoletos', 15],  None, '8']\n",
    "info_list.append(\"beach\")\n",
    "\n",
    "def funcion7 (whichever_list):\n",
    "    for x in whichever_list[0:6]:\n",
    "        print(x)\n",
    "    preferences=input(\"beach or mountain\") \n",
    "    if preferences==\"beach\":\n",
    "        return print(\"I love the beach\") \n",
    "    elif preferences==\"mountain\": \n",
    "        return print(\"I love the mountain\")\n",
    "c=funcion7(whichever_list=info_list)\n",
    "print(c)"
   ]
  },
  {
   "cell_type": "code",
   "execution_count": null,
   "metadata": {},
   "outputs": [],
   "source": [
    "#call the function with the variable `info_list`\n"
   ]
  },
  {
   "cell_type": "markdown",
   "metadata": {},
   "source": [
    "### Bonus Track\n",
    "\n",
    "In the case of not being able to solve a question containing the code in a function, try to do it without defining one. "
   ]
  },
  {
   "cell_type": "markdown",
   "metadata": {},
   "source": [
    "1. Create a variable called `zone` and give it the value of **None**. Loop through `whichever_list` and update `zone` to **True** if and only if, you have slept more than 7 hours, you like the beach and the sum of the hours you have slept plus the number of The Bridge is less than 24. In any other case, `zone` will be **False**. This function should return the value of `zone` and will be called `zone_function`.\n"
   ]
  },
  {
   "cell_type": "code",
   "execution_count": null,
   "metadata": {},
   "outputs": [],
   "source": []
  },
  {
   "cell_type": "markdown",
   "metadata": {},
   "source": [
    "2. Define a function called `test_function` that receives only one parameter called `zone_value` and that returns the value of `zone_value` if it is **True**. Once you've defined `test_function` you should call it with the value returned by the `zone_function` as an argument."
   ]
  },
  {
   "cell_type": "code",
   "execution_count": null,
   "metadata": {},
   "outputs": [],
   "source": [
    "def zone_function(whichever_list):\n",
    "    return True"
   ]
  },
  {
   "cell_type": "markdown",
   "metadata": {},
   "source": [
    "3. Define a function that asks the user if they like the mountain and, if not, call the `zone_function` function."
   ]
  },
  {
   "cell_type": "code",
   "execution_count": 32,
   "metadata": {},
   "outputs": [
    {
     "output_type": "error",
     "ename": "NameError",
     "evalue": "name 'zone_funcion' is not defined",
     "traceback": [
      "\u001b[1;31m---------------------------------------------------------------------------\u001b[0m",
      "\u001b[1;31mNameError\u001b[0m                                 Traceback (most recent call last)",
      "\u001b[1;32m<ipython-input-32-2af716769e36>\u001b[0m in \u001b[0;36m<module>\u001b[1;34m\u001b[0m\n\u001b[0;32m      7\u001b[0m     \u001b[1;32melif\u001b[0m \u001b[0manswer\u001b[0m\u001b[1;33m==\u001b[0m\u001b[1;34m\"NO\"\u001b[0m\u001b[1;33m:\u001b[0m\u001b[1;33m\u001b[0m\u001b[1;33m\u001b[0m\u001b[0m\n\u001b[0;32m      8\u001b[0m         \u001b[0mzone_funcion\u001b[0m\u001b[1;33m(\u001b[0m\u001b[0mwhichever_list\u001b[0m\u001b[1;33m=\u001b[0m\u001b[0minfo_list\u001b[0m\u001b[1;33m)\u001b[0m\u001b[1;33m\u001b[0m\u001b[1;33m\u001b[0m\u001b[0m\n\u001b[1;32m----> 9\u001b[1;33m \u001b[0mprint\u001b[0m\u001b[1;33m(\u001b[0m\u001b[0mte_gusta_la_motana\u001b[0m\u001b[1;33m(\u001b[0m\u001b[1;33m)\u001b[0m\u001b[1;33m)\u001b[0m\u001b[1;33m\u001b[0m\u001b[1;33m\u001b[0m\u001b[0m\n\u001b[0m",
      "\u001b[1;32m<ipython-input-32-2af716769e36>\u001b[0m in \u001b[0;36mte_gusta_la_motana\u001b[1;34m()\u001b[0m\n\u001b[0;32m      6\u001b[0m         \u001b[1;32mpass\u001b[0m\u001b[1;33m\u001b[0m\u001b[1;33m\u001b[0m\u001b[0m\n\u001b[0;32m      7\u001b[0m     \u001b[1;32melif\u001b[0m \u001b[0manswer\u001b[0m\u001b[1;33m==\u001b[0m\u001b[1;34m\"NO\"\u001b[0m\u001b[1;33m:\u001b[0m\u001b[1;33m\u001b[0m\u001b[1;33m\u001b[0m\u001b[0m\n\u001b[1;32m----> 8\u001b[1;33m         \u001b[0mzone_funcion\u001b[0m\u001b[1;33m(\u001b[0m\u001b[0mwhichever_list\u001b[0m\u001b[1;33m=\u001b[0m\u001b[0minfo_list\u001b[0m\u001b[1;33m)\u001b[0m\u001b[1;33m\u001b[0m\u001b[1;33m\u001b[0m\u001b[0m\n\u001b[0m\u001b[0;32m      9\u001b[0m \u001b[0mprint\u001b[0m\u001b[1;33m(\u001b[0m\u001b[0mte_gusta_la_motana\u001b[0m\u001b[1;33m(\u001b[0m\u001b[1;33m)\u001b[0m\u001b[1;33m)\u001b[0m\u001b[1;33m\u001b[0m\u001b[1;33m\u001b[0m\u001b[0m\n",
      "\u001b[1;31mNameError\u001b[0m: name 'zone_funcion' is not defined"
     ]
    }
   ],
   "source": [
    "info_list = [15, 'Recoletos', True, ['Recoletos', 15],  None, '8']\n",
    "def te_gusta_la_motana():\n",
    "    info_list = [15, 'Recoletos', True, ['Recoletos', 15],  None, '8']\n",
    "    answer=input(\"¿Te gusta la montaña? SI/NO\")\n",
    "    if answer== \"SI\":\n",
    "        pass\n",
    "    elif answer==\"NO\":\n",
    "        zone_funcion(whichever_list=info_list)\n",
    "print(te_gusta_la_motana())"
   ]
  },
  {
   "cell_type": "markdown",
   "metadata": {},
   "source": [
    "### Bonus Track of the Bonus Track.\n",
    "\n",
    "**This Bonus Track could take you some days, it is very ok, sometimes coding is all about time.**\n",
    "\n",
    "Sooner than later, you'll also learn about `.py` files and you will be able to implement this program into that kind of file. Not yet, tho. "
   ]
  },
  {
   "cell_type": "markdown",
   "metadata": {},
   "source": [
    "1. Program **a calculator** that asks for two numbers and two operators on the screen. One operation must be performed first and then another. Try to define as many functions as possible."
   ]
  },
  {
   "source": [],
   "cell_type": "markdown",
   "metadata": {}
  },
  {
   "cell_type": "code",
   "execution_count": null,
   "metadata": {},
   "outputs": [],
   "source": []
  },
  {
   "cell_type": "code",
   "execution_count": 6,
   "metadata": {},
   "outputs": [],
   "source": [
    "\n",
    "def suma(arg1,arg2):\n",
    "    print(\"Suma:\")\n",
    "    return arg1+arg2\n",
    "def resta(arg1,arg2):\n",
    "    print(\"Resta:\")\n",
    "    return arg1-arg2\n",
    "def multiplicacion(arg1,arg2):\n",
    "    print(\"Multiplicacion:\")\n",
    "    return arg1*arg2\n",
    "def division(arg1,arg2):\n",
    "    print(\"Division:\")\n",
    "    return arg1/arg2"
   ]
  },
  {
   "cell_type": "code",
   "execution_count": 29,
   "metadata": {},
   "outputs": [
    {
     "output_type": "error",
     "ename": "ValueError",
     "evalue": "invalid literal for int() with base 10: 'NO'",
     "traceback": [
      "\u001b[1;31m---------------------------------------------------------------------------\u001b[0m",
      "\u001b[1;31mValueError\u001b[0m                                Traceback (most recent call last)",
      "\u001b[1;32m<ipython-input-29-6c4e7ffbceca>\u001b[0m in \u001b[0;36m<module>\u001b[1;34m\u001b[0m\n\u001b[1;32m----> 1\u001b[1;33m \u001b[0mprimer_numero\u001b[0m\u001b[1;33m=\u001b[0m\u001b[0mint\u001b[0m\u001b[1;33m(\u001b[0m\u001b[0minput\u001b[0m\u001b[1;33m(\u001b[0m\u001b[1;34m\"Escribe el PRIMER número\"\u001b[0m\u001b[1;33m)\u001b[0m\u001b[1;33m)\u001b[0m\u001b[1;33m\u001b[0m\u001b[1;33m\u001b[0m\u001b[0m\n\u001b[0m\u001b[0;32m      2\u001b[0m \u001b[0msegundo_numero\u001b[0m\u001b[1;33m=\u001b[0m\u001b[0mint\u001b[0m\u001b[1;33m(\u001b[0m\u001b[0minput\u001b[0m\u001b[1;33m(\u001b[0m\u001b[1;34m\"Escribe el SEGUNDO número\"\u001b[0m\u001b[1;33m)\u001b[0m\u001b[1;33m)\u001b[0m\u001b[1;33m\u001b[0m\u001b[1;33m\u001b[0m\u001b[0m\n\u001b[0;32m      3\u001b[0m \u001b[0mprimera_operacion\u001b[0m\u001b[1;33m=\u001b[0m\u001b[0minput\u001b[0m\u001b[1;33m(\u001b[0m\u001b[1;34m\"escibe un operador (+,-,*,/\"\u001b[0m\u001b[1;33m)\u001b[0m\u001b[1;33m\u001b[0m\u001b[1;33m\u001b[0m\u001b[0m\n\u001b[0;32m      4\u001b[0m \u001b[0msegunda_operacion\u001b[0m\u001b[1;33m=\u001b[0m\u001b[0minput\u001b[0m\u001b[1;33m(\u001b[0m\u001b[1;34m\"escibe otro operador (+,-,*,/\"\u001b[0m\u001b[1;33m)\u001b[0m\u001b[1;33m\u001b[0m\u001b[1;33m\u001b[0m\u001b[0m\n\u001b[0;32m      5\u001b[0m \u001b[0moperaciones\u001b[0m\u001b[1;33m=\u001b[0m\u001b[1;33m[\u001b[0m\u001b[0mprimera_operacion\u001b[0m\u001b[1;33m,\u001b[0m\u001b[0msegunda_operacion\u001b[0m\u001b[1;33m]\u001b[0m\u001b[1;33m\u001b[0m\u001b[1;33m\u001b[0m\u001b[0m\n",
      "\u001b[1;31mValueError\u001b[0m: invalid literal for int() with base 10: 'NO'"
     ]
    }
   ],
   "source": [
    "primer_numero=int(input(\"Escribe el PRIMER número\"))\n",
    "segundo_numero=int(input(\"Escribe el SEGUNDO número\"))\n",
    "primera_operacion=input(\"escibe un operador (+,-,*,/\")\n",
    "segunda_operacion=input(\"escibe otro operador (+,-,*,/\")\n",
    "operaciones=[primera_operacion,segunda_operacion]\n",
    "for operacion_elegida in operaciones: # esta es la forma mas conveniente xa poner las dos operacionesj untas y no tener que hacer dos if con operacion 1 y operacion 2\n",
    "    if operacion_elegida==\"+\":\n",
    "        resultado =suma(arg1=primer_numero,arg2=segundo_numero) #sinonimo de hacer un print de esto para mostrar el return de la funcion print(suma(arg1=primer_numero,arg2=segundo_numero))\n",
    "    elif operacion_elegida==\"-\":\n",
    "        resultado=resta(arg1=primer_numero,arg2=segundo_numero) #leer informacion if\n",
    "    elif resta(arg1=primer_numero,arg2=segundo_numero):\n",
    "        resultado=multiplicacion(arg1=primer_numero,arg2=segundo_numero) #leer informacion if\n",
    "    elif operacion_elegida==\"/\":\n",
    "        resultado=division(arg1=primer_numero,arg2=segundo_numero)#leer informacion if\n",
    "    else:\n",
    "        resultado=\"no se ha podido ejecutar la operacion\" #xa q el usuario lo entienda\n",
    "        print(\"Escribe otro tipo de operacion (+,-,*,/\")\n",
    "\n",
    "\n",
    "    print(resultado) # tiene que estar dentro del for, si lo pones fuera hasta que no termine de recorrer la lista no va a printear el valor del reslutado"
   ]
  },
  {
   "cell_type": "code",
   "execution_count": 19,
   "metadata": {},
   "outputs": [
    {
     "output_type": "stream",
     "name": "stdout",
     "text": [
      "Suma:\n3\nResta:\n-1\n"
     ]
    }
   ],
   "source": [
    "def la_unica_f():\n",
    "    primer_numero=int(input(\"Escribe el PRIMER número\"))\n",
    "\n",
    "    segundo_numero=int(input(\"Escribe el SEGUNDO número\"))\n",
    "\n",
    "    primera_operacion=input(\"escibe un operador (+,-,*,/\")\n",
    "\n",
    "    segunda_operacion=input(\"escibe otro operador (+,-,*,/\")\n",
    "\n",
    "    operaciones=[primera_operacion,segunda_operacion]\n",
    "\n",
    "    for operacion_elegida in operaciones: # esta es la forma mas conveniente xa poner las dos operacionesj untas y no tener que hacer dos if con operacion 1 y operacion 2\n",
    "        if operacion_elegida==\"+\":\n",
    "            resultado =suma(arg1=primer_numero,arg2=segundo_numero) #sinonimo de hacer un print de esto para mostrar el return de la funcion print(suma(arg1=primer_numero,arg2=segundo_numero))\n",
    "        elif operacion_elegida==\"-\":\n",
    "            resultado=resta(arg1=primer_numero,arg2=segundo_numero) #leer informacion if\n",
    "        elif resta(arg1=primer_numero,arg2=segundo_numero):\n",
    "            resultado=multiplicacion(arg1=primer_numero,arg2=segundo_numero) #leer informacion if\n",
    "        elif operacion_elegida==\"/\":\n",
    "            resultado=division(arg1=primer_numero,arg2=segundo_numero)#leer informacion if\n",
    "        else:\n",
    "            resultado=\"no se ha podido ejecutar la operacion\" #xa q el usuario lo entienda\n",
    "            print(\"Escribe otro tipo de operacion (+,-,*,/\")\n",
    "\n",
    "\n",
    "        print(resultado) # tiene que estar dentro del for, si lo pones fuera hasta que no termine de recorrer la lista no va a printear el valor del reslutado\n",
    "la_unica_f()"
   ]
  },
  {
   "cell_type": "code",
   "execution_count": null,
   "metadata": {},
   "outputs": [],
   "source": [
    "def la_unica_f(operaciones):\n",
    "    primer_numero=int(input(\"Escribe el PRIMER número\"))\n",
    "\n",
    "    segundo_numero=int(input(\"Escribe el SEGUNDO número\"))\n",
    "\n",
    "    primera_operacion=input(\"escibe un operador (+,-,*,/\")\n",
    "\n",
    "    segunda_operacion=input(\"escibe otro operador (+,-,*,/\")\n",
    "\n",
    "    operaciones=[primera_operacion,segunda_operacion]\n",
    "\n",
    "    for operacion_elegida in operaciones: # esta es la forma mas conveniente xa poner las dos operacionesj untas y no tener que hacer dos if con operacion 1 y operacion 2\n",
    "        if operacion_elegida==\"+\":\n",
    "            resultado =suma(arg1=primer_numero,arg2=segundo_numero) #sinonimo de hacer un print de esto para mostrar el return de la funcion print(suma(arg1=primer_numero,arg2=segundo_numero))\n",
    "        elif operacion_elegida==\"-\":\n",
    "            resultado=resta(arg1=primer_numero,arg2=segundo_numero) #leer informacion if\n",
    "        elif resta(arg1=primer_numero,arg2=segundo_numero):\n",
    "            resultado=multiplicacion(arg1=primer_numero,arg2=segundo_numero) #leer informacion if\n",
    "        elif operacion_elegida==\"/\":\n",
    "            resultado=division(arg1=primer_numero,arg2=segundo_numero)#leer informacion if\n",
    "        else:\n",
    "            resultado=\"no se ha podido ejecutar la operacion\" #xa q el usuario lo entienda\n",
    "            print(\"Escribe otro tipo de operacion (+,-,*,/\")\n",
    "\n",
    "\n",
    "        print(resultado) # tiene que estar dentro del for, si lo pones fuera hasta que no termine de recorrer la lista no va a printear el valor del reslutado"
   ]
  },
  {
   "cell_type": "code",
   "execution_count": 23,
   "metadata": {},
   "outputs": [
    {
     "output_type": "stream",
     "name": "stdout",
     "text": [
      "6\n4\n"
     ]
    }
   ],
   "source": [
    "#ejemplo basico\n",
    "def f1 (lista,primero):\n",
    "    for x in lista:\n",
    "        print(x+primero) # da error porque primero no esta definido\n",
    "        \n",
    "def g2 ():\n",
    "    primero=2\n",
    "    lista1=[4,2]# a la llamada de f1 muestra 4 y 6 suma 2 a cada elemento de la lista \n",
    "    f1(lista=lista1,primero=primero) #SOLO definimos lista y al meterlo en la def\n",
    "g2()"
   ]
  },
  {
   "cell_type": "code",
   "execution_count": 24,
   "metadata": {},
   "outputs": [
    {
     "output_type": "stream",
     "name": "stdout",
     "text": [
      "6\n4\n"
     ]
    },
    {
     "output_type": "execute_result",
     "data": {
      "text/plain": [
       "2"
      ]
     },
     "metadata": {},
     "execution_count": 24
    }
   ],
   "source": [
    "def f1 (lista,primero):\n",
    "    for x in lista:\n",
    "        print(x+primero) # da error porque primero no esta definido\n",
    "        \n",
    "def g2 ():\n",
    "    primer=2\n",
    "    lista1=[4,2]\n",
    "    f1(lista=lista1,primero=2) # a la llamada de f1 muestra 4 y 6 aqui le hemos asignado a primero el valor 2 \n",
    "    return primer #muestra el return de esta funcion\n",
    "g2()"
   ]
  },
  {
   "cell_type": "code",
   "execution_count": null,
   "metadata": {},
   "outputs": [],
   "source": []
  },
  {
   "cell_type": "markdown",
   "metadata": {},
   "source": [
    "!['ha'](https://i.pinimg.com/originals/c6/4e/fc/c64efc9adaedbf446f328698e8b67388.jpg)"
   ]
  },
  {
   "cell_type": "code",
   "execution_count": null,
   "metadata": {},
   "outputs": [],
   "source": []
  }
 ],
 "metadata": {
  "kernelspec": {
   "name": "python374jvsc74a57bd07945e9a82d7512fbf96246d9bbc29cd2f106c1a4a9cf54c9563dadf10f2237d4",
   "display_name": "Python 3.7.4 64-bit"
  },
  "language_info": {
   "codemirror_mode": {
    "name": "ipython",
    "version": 3
   },
   "file_extension": ".py",
   "mimetype": "text/x-python",
   "name": "python",
   "nbconvert_exporter": "python",
   "pygments_lexer": "ipython3",
   "version": "3.7.4"
  },
  "metadata": {
   "interpreter": {
    "hash": "7945e9a82d7512fbf96246d9bbc29cd2f106c1a4a9cf54c9563dadf10f2237d4"
   }
  }
 },
 "nbformat": 4,
 "nbformat_minor": 4
}