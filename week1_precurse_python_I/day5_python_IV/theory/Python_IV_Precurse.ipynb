{
 "cells": [
  {
   "cell_type": "markdown",
   "metadata": {},
   "source": [
    "# Data Science Bootcamp - The Bridge \n",
    "## Precurso\n",
    "En este notebook vamos a ver, uno a uno, los conceptos básicos de Python. Constarán de ejercicios prácticos acompañados de una explicación teórica dada por el profesor.\n",
    "\n",
    "Los siguientes enlaces están recomendados para el alumno para profundizar y reforzar conceptos a partir de  ejercicios y ejemplos:\n",
    "\n",
    "- https://www.kaggle.com/learn/python\n",
    "\n",
    "- https://facundoq.github.io/courses/aa2018/res/02_python.html\n",
    "\n",
    "- https://www.w3resource.com/python-exercises/\n",
    "\n",
    "- https://www.practicepython.org/\n",
    "\n",
    "- https://es.slideshare.net/egutierrezru/python-paraprincipiantes\n",
    "\n",
    "- https://www.sololearn.com/Play/Python#\n",
    "\n",
    "- https://github.com/mhkmcp/Python-Bootcamp-from-Basic-to-Advanced\n",
    "\n",
    "Ejercicios avanzados:\n",
    "\n",
    "- https://github.com/darkprinx/100-plus-Python-programming-exercises-extended/tree/master/Status (++)\n",
    "\n",
    "- https://github.com/mahtab04/Python-Programming-Practice (++)\n",
    "\n",
    "- https://github.com/whojayantkumar/Python_Programs (+++)\n",
    "\n",
    "- https://www.w3resource.com/python-exercises/ (++++)\n",
    "\n",
    "- https://github.com/fupus/notebooks-ejercicios (+++++)\n",
    "\n",
    "Tutor de ayuda PythonTutor:\n",
    "\n",
    "- http://pythontutor.com/\n"
   ]
  },
  {
   "cell_type": "markdown",
   "metadata": {},
   "source": [
    "## 1. Variables y tipos\n",
    "\n",
    "### Cadenas"
   ]
  },
  {
   "cell_type": "code",
   "execution_count": 1,
   "metadata": {},
   "outputs": [
    {
     "output_type": "stream",
     "name": "stdout",
     "text": [
      "lorena\n7\n"
     ]
    }
   ],
   "source": [
    "# Entero - Integer - int\n",
    "x = 7\n",
    "# Cadena - String - Lista de caracteres - str\n",
    "x = \"lorena\"\n",
    "print(x)\n",
    "\n",
    "x = 7\n",
    "print(x)"
   ]
  },
  {
   "cell_type": "code",
   "execution_count": 2,
   "metadata": {},
   "outputs": [
    {
     "output_type": "execute_result",
     "data": {
      "text/plain": [
       "int"
      ]
     },
     "metadata": {},
     "execution_count": 2
    }
   ],
   "source": [
    "# built-in\n",
    "type(x)"
   ]
  },
  {
   "cell_type": "code",
   "execution_count": null,
   "metadata": {},
   "outputs": [],
   "source": [
    "# built-in\n",
    "type"
   ]
  },
  {
   "cell_type": "code",
   "execution_count": 3,
   "metadata": {},
   "outputs": [
    {
     "output_type": "stream",
     "name": "stdout",
     "text": [
      "12\n"
     ]
    }
   ],
   "source": [
    "x = 5\n",
    "y = 7\n",
    "\n",
    "z = x + y\n",
    "print(z)"
   ]
  },
  {
   "cell_type": "code",
   "execution_count": 4,
   "metadata": {},
   "outputs": [
    {
     "output_type": "stream",
     "name": "stdout",
     "text": [
      "'lorena' \"silvia----\n"
     ]
    }
   ],
   "source": [
    "x = \"'lorena' \\\"\"\n",
    "l = 'silvia----'\n",
    "\n",
    "g = x + l\n",
    "# Las cadenas se concatenan\n",
    "print(g)"
   ]
  },
  {
   "cell_type": "code",
   "execution_count": 5,
   "metadata": {},
   "outputs": [
    {
     "output_type": "execute_result",
     "data": {
      "text/plain": [
       "str"
      ]
     },
     "metadata": {},
     "execution_count": 5
    }
   ],
   "source": [
    "# type muestra el tipo de la variable\n",
    "type(g)"
   ]
  },
  {
   "cell_type": "code",
   "execution_count": 7,
   "metadata": {},
   "outputs": [
    {
     "output_type": "execute_result",
     "data": {
      "text/plain": [
       "int"
      ]
     },
     "metadata": {},
     "execution_count": 7
    }
   ],
   "source": [
    "type(5)"
   ]
  },
  {
   "cell_type": "code",
   "execution_count": 8,
   "metadata": {},
   "outputs": [
    {
     "output_type": "stream",
     "name": "stdout",
     "text": [
      "'lorena' \"\n"
     ]
    }
   ],
   "source": [
    "print(x)"
   ]
  },
  {
   "cell_type": "code",
   "execution_count": 9,
   "metadata": {},
   "outputs": [
    {
     "output_type": "stream",
     "name": "stdout",
     "text": [
      "'lorena' \"silvia---- 12 6 cadena\n'lorena' \"silvia---- 12 6 cadena\n"
     ]
    }
   ],
   "source": [
    "# print es una función que recibe varios argumentos y cada argumento está diferenciado por la coma. Después de cada coma, la función 'print' añade un espacio.\n",
    "\n",
    "# mala praxis\n",
    "print(    g,z  ,    6,     \"cadena\")\n",
    "\n",
    "# buena praxis - PEP8\n",
    "print(g, z, 6, \"cadena\")"
   ]
  },
  {
   "cell_type": "code",
   "execution_count": 12,
   "metadata": {},
   "outputs": [
    {
     "output_type": "error",
     "ename": "TypeError",
     "evalue": "unsupported operand type(s) for +: 'int' and 'str'",
     "traceback": [
      "\u001b[1;31m---------------------------------------------------------------------------\u001b[0m",
      "\u001b[1;31mTypeError\u001b[0m                                 Traceback (most recent call last)",
      "\u001b[1;32m<ipython-input-12-197faa25ac94>\u001b[0m in \u001b[0;36m<module>\u001b[1;34m\u001b[0m\n\u001b[0;32m      2\u001b[0m \u001b[0ms\u001b[0m \u001b[1;33m=\u001b[0m \u001b[1;34m\"6\"\u001b[0m\u001b[1;33m\u001b[0m\u001b[0m\n\u001b[0;32m      3\u001b[0m \u001b[1;33m\u001b[0m\u001b[0m\n\u001b[1;32m----> 4\u001b[1;33m \u001b[0mprint\u001b[0m\u001b[1;33m(\u001b[0m\u001b[0mx\u001b[0m \u001b[1;33m+\u001b[0m \u001b[0ms\u001b[0m\u001b[1;33m)\u001b[0m\u001b[1;33m\u001b[0m\u001b[0m\n\u001b[0m",
      "\u001b[1;31mTypeError\u001b[0m: unsupported operand type(s) for +: 'int' and 'str'"
     ]
    }
   ],
   "source": [
    "x = 5\n",
    "s = \"6\"\n",
    "\n",
    "print(x + s)"
   ]
  },
  {
   "cell_type": "code",
   "execution_count": 14,
   "metadata": {},
   "outputs": [
    {
     "output_type": "stream",
     "name": "stdout",
     "text": [
      "<class 'int'>\n<class 'str'>\n"
     ]
    }
   ],
   "source": [
    "# Cambiar de int a str\n",
    "\n",
    "#built-in\n",
    "\n",
    "x = 6\n",
    "print(type(x))\n",
    "x = str(6)\n",
    "print(type(x))"
   ]
  },
  {
   "cell_type": "code",
   "execution_count": 19,
   "metadata": {},
   "outputs": [
    {
     "output_type": "stream",
     "name": "stdout",
     "text": [
      "5585\n"
     ]
    }
   ],
   "source": [
    "x = 5\n",
    "z = \"558\" + str(x)\n",
    "print(z)"
   ]
  },
  {
   "cell_type": "code",
   "execution_count": 26,
   "metadata": {},
   "outputs": [
    {
     "output_type": "stream",
     "name": "stdout",
     "text": [
      "56\n<class 'str'>\n56\n<class 'int'>\n63\n"
     ]
    }
   ],
   "source": [
    "# Cambiar de str a int\n",
    "s = \"56\"\n",
    "print(s)\n",
    "print(type(s))\n",
    "s = int(s)\n",
    "print(s)\n",
    "print(type(s))\n",
    "\n",
    "z = 7 + s\n",
    "print(z)"
   ]
  },
  {
   "cell_type": "code",
   "execution_count": 25,
   "metadata": {},
   "outputs": [
    {
     "output_type": "error",
     "ename": "ValueError",
     "evalue": "invalid literal for int() with base 10: '56a'",
     "traceback": [
      "\u001b[1;31m---------------------------------------------------------------------------\u001b[0m",
      "\u001b[1;31mValueError\u001b[0m                                Traceback (most recent call last)",
      "\u001b[1;32m<ipython-input-25-a4cfbca2476e>\u001b[0m in \u001b[0;36m<module>\u001b[1;34m\u001b[0m\n\u001b[0;32m      1\u001b[0m \u001b[0ms\u001b[0m \u001b[1;33m=\u001b[0m \u001b[1;34m\"56a\"\u001b[0m\u001b[1;33m\u001b[0m\u001b[0m\n\u001b[1;32m----> 2\u001b[1;33m \u001b[0ms\u001b[0m \u001b[1;33m=\u001b[0m \u001b[0mint\u001b[0m\u001b[1;33m(\u001b[0m\u001b[0ms\u001b[0m\u001b[1;33m)\u001b[0m\u001b[1;33m\u001b[0m\u001b[0m\n\u001b[0m\u001b[0;32m      3\u001b[0m \u001b[0mprint\u001b[0m\u001b[1;33m(\u001b[0m\u001b[0ms\u001b[0m\u001b[1;33m)\u001b[0m\u001b[1;33m\u001b[0m\u001b[0m\n",
      "\u001b[1;31mValueError\u001b[0m: invalid literal for int() with base 10: '56a'"
     ]
    }
   ],
   "source": [
    "s = \"56a\"\n",
    "s = int(s)\n",
    "print(s)"
   ]
  },
  {
   "cell_type": "code",
   "execution_count": 27,
   "metadata": {},
   "outputs": [
    {
     "output_type": "stream",
     "name": "stdout",
     "text": [
      "16\n"
     ]
    }
   ],
   "source": [
    "# Para ver la longitud de una lista de caracteres (lista)\n",
    "\n",
    "p = \"lista caracteres\"\n",
    "print(len(p))"
   ]
  },
  {
   "cell_type": "code",
   "execution_count": null,
   "metadata": {},
   "outputs": [],
   "source": [
    "# String, Integer, Float, List, None (NaN), bool\n",
    "# str, int, float, list, bool"
   ]
  },
  {
   "cell_type": "code",
   "execution_count": 28,
   "metadata": {},
   "outputs": [
    {
     "output_type": "stream",
     "name": "stdout",
     "text": [
      "<class 'float'>\n"
     ]
    }
   ],
   "source": [
    "x = 5.875\n",
    "print(type(x))"
   ]
  },
  {
   "cell_type": "code",
   "execution_count": 29,
   "metadata": {},
   "outputs": [
    {
     "output_type": "stream",
     "name": "stdout",
     "text": [
      "7.875\n"
     ]
    }
   ],
   "source": [
    "o = x + 2\n",
    "print(o)"
   ]
  },
  {
   "cell_type": "code",
   "execution_count": 31,
   "metadata": {},
   "outputs": [
    {
     "output_type": "stream",
     "name": "stdout",
     "text": [
      "5\n<class 'int'>\n"
     ]
    }
   ],
   "source": [
    "x = int(x)\n",
    "print(x)\n",
    "print(type(x))"
   ]
  },
  {
   "cell_type": "code",
   "execution_count": 32,
   "metadata": {},
   "outputs": [
    {
     "output_type": "stream",
     "name": "stdout",
     "text": [
      "5.0\n<class 'float'>\n"
     ]
    }
   ],
   "source": [
    "x = float(x)\n",
    "print(x)\n",
    "print(type(x))"
   ]
  },
  {
   "cell_type": "code",
   "execution_count": 35,
   "metadata": {},
   "outputs": [
    {
     "output_type": "stream",
     "name": "stdout",
     "text": [
      "21\n"
     ]
    }
   ],
   "source": [
    "l = (2 + 5) * 3\n",
    "print(l)"
   ]
  },
  {
   "cell_type": "code",
   "execution_count": 36,
   "metadata": {},
   "outputs": [
    {
     "output_type": "stream",
     "name": "stdout",
     "text": [
      "21\n"
     ]
    }
   ],
   "source": [
    "l = ((2 + 5) * 3)\n",
    "print(l)"
   ]
  },
  {
   "cell_type": "code",
   "execution_count": 37,
   "metadata": {},
   "outputs": [
    {
     "output_type": "execute_result",
     "data": {
      "text/plain": [
       "174"
      ]
     },
     "metadata": {},
     "execution_count": 37
    }
   ],
   "source": [
    "m = ((((65 + int(\"22\")) * 2)))\n",
    "m"
   ]
  },
  {
   "cell_type": "code",
   "execution_count": null,
   "metadata": {},
   "outputs": [],
   "source": [
    "s = \"89\""
   ]
  },
  {
   "cell_type": "code",
   "execution_count": 38,
   "metadata": {},
   "outputs": [
    {
     "output_type": "stream",
     "name": "stdout",
     "text": [
      "<class 'int'>\n"
     ]
    }
   ],
   "source": [
    "print(type(int(s)))"
   ]
  },
  {
   "cell_type": "code",
   "execution_count": 39,
   "metadata": {},
   "outputs": [
    {
     "output_type": "stream",
     "name": "stdout",
     "text": [
      "8.2\n"
     ]
    }
   ],
   "source": [
    "# los decimales son float. Python permite las operaciones entre int y float\n",
    "x = 4\n",
    "y = 4.2\n",
    "\n",
    "print(x + y)"
   ]
  },
  {
   "cell_type": "code",
   "execution_count": 40,
   "metadata": {},
   "outputs": [
    {
     "output_type": "stream",
     "name": "stdout",
     "text": [
      "2.5\n"
     ]
    }
   ],
   "source": [
    "t = 5 \n",
    "g = 2\n",
    "print(t / g)"
   ]
  },
  {
   "cell_type": "code",
   "execution_count": 46,
   "metadata": {},
   "outputs": [
    {
     "output_type": "stream",
     "name": "stdout",
     "text": [
      "2.0\n<class 'float'>\n"
     ]
    }
   ],
   "source": [
    "t = 4\n",
    "g = 2\n",
    "print(t / g)\n",
    "print(type(t / g))"
   ]
  },
  {
   "cell_type": "code",
   "execution_count": 50,
   "metadata": {},
   "outputs": [
    {
     "output_type": "stream",
     "name": "stdout",
     "text": [
      "2.0\n<class 'float'>\n12\n"
     ]
    }
   ],
   "source": [
    "d = t / g\n",
    "print(d)\n",
    "print(type(d))\n",
    "d = int(d * 6.1 + 1.1 / 6.2)\n",
    "print(d)"
   ]
  },
  {
   "cell_type": "code",
   "execution_count": 104,
   "metadata": {},
   "outputs": [
    {
     "output_type": "stream",
     "name": "stdout",
     "text": [
      "3\n3.75\n<class 'float'>\n"
     ]
    }
   ],
   "source": [
    "# La división normal (/) es siempre float\n",
    "# La división absoluta (//) puede ser: \n",
    "# - float si uno de los dos números (o los dos) son float\n",
    "# - int si los dos son int \n",
    "j = 15\n",
    "k = 4\n",
    "division = j // k\n",
    "print(division)\n",
    "division = j / k\n",
    "print(division)\n",
    "print(type(division))"
   ]
  },
  {
   "cell_type": "code",
   "execution_count": 47,
   "metadata": {},
   "outputs": [
    {
     "output_type": "stream",
     "name": "stdout",
     "text": [
      "suma: 15\nresta: 9\nmultiplicación: 36\ndivision: 4.0\ndivision_absoluta: 4\n<class 'float'>\n<class 'int'>\n"
     ]
    }
   ],
   "source": [
    "num1 = 12\n",
    "num2 = 3\n",
    "\n",
    "suma = num1 + num2\n",
    "resta = num1 - num2\n",
    "multiplicacion = num1 * num2 \n",
    "division = num1 / num2\n",
    "division_absoluta = num1 // num2\n",
    "\n",
    "print(\"suma:\", suma)\n",
    "print(\"resta:\", resta)\n",
    "print(\"multiplicación:\", multiplicacion)\n",
    "print(\"division:\", division)\n",
    "print(\"division_absoluta:\", division_absoluta)\n",
    "print(type(division))\n",
    "print(type(division_absoluta))"
   ]
  },
  {
   "cell_type": "code",
   "execution_count": 57,
   "metadata": {},
   "outputs": [
    {
     "output_type": "execute_result",
     "data": {
      "text/plain": [
       "4"
      ]
     },
     "metadata": {},
     "execution_count": 57
    }
   ],
   "source": [
    "# Jupyter notebook permite que la última línea se imprima por pantalla ( la variable )\n",
    "\n",
    "x = 2\n",
    "k = 4\n",
    "k\n",
    "x\n",
    "k"
   ]
  },
  {
   "cell_type": "code",
   "execution_count": null,
   "metadata": {},
   "outputs": [],
   "source": [
    "# Soy un comentario\n",
    "# print(\"Hello Python world!\")\n",
    "# Estoy creando una variable que vale 2\n",
    "\"\"\"\n",
    "Esto es otro comentario\n",
    "\"\"\""
   ]
  },
  {
   "cell_type": "markdown",
   "metadata": {},
   "source": [
    "## Ejercicio: \n",
    "### Crear una nueva celda.\n",
    "### Declarar tres variables: \n",
    "- Una con el nombre \"edad\" con valor vuestra edad\n",
    "- Otra \"edad_compañero_der\" que contengan la edad de tipo entero de vuestro compañero de la derecha\n",
    "- Otra \"suma_anterior\" que contenga la suma de las dos variables anteriormente declaradas\n",
    "\n",
    " Mostrar por pantalla la variable \"suma_anterior\"\n",
    "\n"
   ]
  },
  {
   "cell_type": "code",
   "execution_count": 59,
   "metadata": {},
   "outputs": [
    {
     "output_type": "stream",
     "name": "stdout",
     "text": [
      "45\n"
     ]
    }
   ],
   "source": [
    "edad = 18\n",
    "edad_companero_der = 27\n",
    "suma_anterior = edad + edad_companero_der\n",
    "print(suma_anterior)"
   ]
  },
  {
   "cell_type": "code",
   "execution_count": 60,
   "metadata": {},
   "outputs": [
    {
     "output_type": "stream",
     "name": "stdout",
     "text": [
      "HOLA\n"
     ]
    }
   ],
   "source": [
    "# funciones built-in de string\n",
    "\n",
    "string1 = \"Hola\"\n",
    "print(string1.upper())"
   ]
  },
  {
   "cell_type": "markdown",
   "metadata": {},
   "source": [
    "## 2. Números y operadores"
   ]
  },
  {
   "cell_type": "code",
   "execution_count": 61,
   "metadata": {},
   "outputs": [
    {
     "output_type": "stream",
     "name": "stdout",
     "text": [
      "8\n"
     ]
    }
   ],
   "source": [
    "x = 2\n",
    "\n",
    "print(x**)"
   ]
  },
  {
   "cell_type": "code",
   "execution_count": 62,
   "metadata": {},
   "outputs": [
    {
     "output_type": "stream",
     "name": "stdout",
     "text": [
      "5\n"
     ]
    }
   ],
   "source": [
    "x = 4 \n",
    "x = x + 1\n",
    "print(x)"
   ]
  },
  {
   "cell_type": "code",
   "execution_count": null,
   "metadata": {},
   "outputs": [],
   "source": [
    "x = 4\n",
    "x += 1"
   ]
  },
  {
   "cell_type": "code",
   "execution_count": 63,
   "metadata": {},
   "outputs": [
    {
     "output_type": "stream",
     "name": "stdout",
     "text": [
      "- Tipo de x:\n<class 'int'>\n- Valor de x:\n3\n- x+1:\n4\n- x-1:\n2\n- x*2:\n6\n- x^2:\n9\n- x modificado:\n4\n- x modificado:\n8\n- Varias cosas en una línea:\n1 2 8 10\n"
     ]
    }
   ],
   "source": [
    "### Enteros ###\n",
    "\n",
    "x = 3\n",
    "\n",
    "print(\"- Tipo de x:\")\n",
    "print(type(x)) # Imprime el tipo (o `clase`) de x\n",
    "print(\"- Valor de x:\")\n",
    "print(x)       # Imprimir un valor\n",
    "print(\"- x+1:\")\n",
    "print(x + 1)   # Suma: imprime \"4\"\n",
    "print(\"- x-1:\")\n",
    "print(x - 1)   # Resta; imprime \"2\"\n",
    "print(\"- x*2:\")\n",
    "print(x * 2)   # Multiplicación; imprime \"6\"\n",
    "print(\"- x^2:\")\n",
    "print(x ** 2)  # Exponenciación; imprime \"9\"\n",
    "# Modificación de x\n",
    "x += 1 \n",
    "print(\"- x modificado:\")\n",
    "print(x)  # Imprime \"4\"\n",
    "\n",
    "x *= 2\n",
    "print(\"- x modificado:\")\n",
    "print(x)  # Imprime \"8\"\n",
    "\n",
    "#print(\"- El módulo de x con 40\")\n",
    "#print(40 % x)\n",
    "\n",
    "print(\"- Varias cosas en una línea:\")\n",
    "print(1, 2, x, 5*2) # imprime varias cosas a la vez"
   ]
  },
  {
   "cell_type": "code",
   "execution_count": 64,
   "metadata": {},
   "outputs": [
    {
     "output_type": "stream",
     "name": "stdout",
     "text": [
      "0\n"
     ]
    }
   ],
   "source": [
    "# El módulo muestra el resto de la división entre dos números\n",
    "x = 4 % 2\n",
    "print(x)"
   ]
  },
  {
   "cell_type": "code",
   "execution_count": null,
   "metadata": {},
   "outputs": [],
   "source": [
    "numero = 99\n",
    "\n",
    "numero % 2  # Si el resto es 0, el número es par. Sino, impar."
   ]
  },
  {
   "cell_type": "code",
   "execution_count": 78,
   "metadata": {},
   "outputs": [
    {
     "output_type": "execute_result",
     "data": {
      "text/plain": [
       "0"
      ]
     },
     "metadata": {},
     "execution_count": 78
    }
   ],
   "source": [
    "numero = 99\n",
    "\n",
    "numero % 3  # El 3 es divisor de 'numero' si el resultado del módulo da 0 "
   ]
  },
  {
   "cell_type": "code",
   "execution_count": 2,
   "metadata": {},
   "outputs": [
    {
     "output_type": "execute_result",
     "data": {
      "text/plain": [
       "4"
      ]
     },
     "metadata": {},
     "execution_count": 2
    }
   ],
   "source": [
    "4%5"
   ]
  },
  {
   "source": [
    "Actualizar variable en cada ejecución"
   ],
   "cell_type": "markdown",
   "metadata": {}
  },
  {
   "cell_type": "code",
   "execution_count": 106,
   "metadata": {},
   "outputs": [],
   "source": [
    "x = 5"
   ]
  },
  {
   "cell_type": "code",
   "execution_count": 116,
   "metadata": {},
   "outputs": [
    {
     "output_type": "stream",
     "name": "stdout",
     "text": [
      "32\n"
     ]
    }
   ],
   "source": [
    "x += 2 \n",
    "j = 7 + x\n",
    "print(j)"
   ]
  },
  {
   "source": [
    "## Título markdown\n",
    "\n",
    "#### otro título"
   ],
   "cell_type": "markdown",
   "metadata": {}
  },
  {
   "source": [
    "# INPUT"
   ],
   "cell_type": "markdown",
   "metadata": {}
  },
  {
   "cell_type": "code",
   "execution_count": 77,
   "metadata": {},
   "outputs": [
    {
     "output_type": "stream",
     "name": "stdout",
     "text": [
      "<class 'str'>\nfafag\n"
     ]
    }
   ],
   "source": [
    "x = input()\n",
    "print(type(x))\n",
    "print(x)"
   ]
  },
  {
   "cell_type": "code",
   "execution_count": 1,
   "metadata": {},
   "outputs": [
    {
     "output_type": "error",
     "ename": "ValueError",
     "evalue": "invalid literal for int() with base 10: '31a'",
     "traceback": [
      "\u001b[1;31m---------------------------------------------------------------------------\u001b[0m",
      "\u001b[1;31mValueError\u001b[0m                                Traceback (most recent call last)",
      "\u001b[1;32m<ipython-input-1-5004e9d7f00a>\u001b[0m in \u001b[0;36m<module>\u001b[1;34m\u001b[0m\n\u001b[1;32m----> 1\u001b[1;33m \u001b[0mx\u001b[0m \u001b[1;33m=\u001b[0m \u001b[0mint\u001b[0m\u001b[1;33m(\u001b[0m\u001b[0minput\u001b[0m\u001b[1;33m(\u001b[0m\u001b[1;33m)\u001b[0m\u001b[1;33m)\u001b[0m\u001b[1;33m\u001b[0m\u001b[0m\n\u001b[0m\u001b[0;32m      2\u001b[0m \u001b[0mprint\u001b[0m\u001b[1;33m(\u001b[0m\u001b[0mtype\u001b[0m\u001b[1;33m(\u001b[0m\u001b[0mx\u001b[0m\u001b[1;33m)\u001b[0m\u001b[1;33m)\u001b[0m\u001b[1;33m\u001b[0m\u001b[0m\n\u001b[0;32m      3\u001b[0m \u001b[0ml\u001b[0m \u001b[1;33m=\u001b[0m \u001b[1;36m4\u001b[0m \u001b[1;33m+\u001b[0m \u001b[0mx\u001b[0m\u001b[1;33m\u001b[0m\u001b[0m\n\u001b[0;32m      4\u001b[0m \u001b[0mprint\u001b[0m\u001b[1;33m(\u001b[0m\u001b[0mx\u001b[0m\u001b[1;33m)\u001b[0m\u001b[1;33m\u001b[0m\u001b[0m\n",
      "\u001b[1;31mValueError\u001b[0m: invalid literal for int() with base 10: '31a'"
     ]
    }
   ],
   "source": [
    "x = int(input())\n",
    "print(type(x))\n",
    "l = 4 + x\n",
    "print(x)"
   ]
  },
  {
   "cell_type": "code",
   "execution_count": 88,
   "metadata": {},
   "outputs": [
    {
     "output_type": "stream",
     "name": "stdout",
     "text": [
      "<class 'int'>\n9\n"
     ]
    }
   ],
   "source": [
    "x = int(input(\"Escribe un número:\"))\n",
    "print(type(x))\n",
    "l = 4 + x\n",
    "print(l)"
   ]
  },
  {
   "cell_type": "code",
   "execution_count": 89,
   "metadata": {},
   "outputs": [
    {
     "output_type": "stream",
     "name": "stdout",
     "text": [
      "<class 'float'>\n9.6\n"
     ]
    }
   ],
   "source": [
    "x = float(input(\"Escribe un número:\"))\n",
    "print(type(x))\n",
    "l = 4 + x\n",
    "print(l)"
   ]
  },
  {
   "cell_type": "code",
   "execution_count": 96,
   "metadata": {},
   "outputs": [
    {
     "output_type": "execute_result",
     "data": {
      "text/plain": [
       "57"
      ]
     },
     "metadata": {},
     "execution_count": 96
    }
   ],
   "source": [
    "x = int(float(\"57.9\"))\n",
    "x"
   ]
  },
  {
   "cell_type": "code",
   "execution_count": 101,
   "metadata": {},
   "outputs": [
    {
     "output_type": "stream",
     "name": "stdout",
     "text": [
      "56.2\n"
     ]
    }
   ],
   "source": [
    "edad = input(\"Escribe tu edad\")\n",
    "print(edad)"
   ]
  },
  {
   "cell_type": "code",
   "execution_count": 103,
   "metadata": {},
   "outputs": [
    {
     "output_type": "stream",
     "name": "stdout",
     "text": [
      "56.2\n"
     ]
    }
   ],
   "source": [
    "edad = float(edad)\n",
    "print(edad)"
   ]
  },
  {
   "cell_type": "markdown",
   "metadata": {},
   "source": [
    "## 3. Tipo None"
   ]
  },
  {
   "cell_type": "code",
   "execution_count": 79,
   "metadata": {},
   "outputs": [
    {
     "output_type": "error",
     "ename": "TypeError",
     "evalue": "unsupported operand type(s) for +: 'int' and 'NoneType'",
     "traceback": [
      "\u001b[1;31m---------------------------------------------------------------------------\u001b[0m",
      "\u001b[1;31mTypeError\u001b[0m                                 Traceback (most recent call last)",
      "\u001b[1;32m<ipython-input-79-f195d90c18f7>\u001b[0m in \u001b[0;36m<module>\u001b[1;34m\u001b[0m\n\u001b[0;32m      3\u001b[0m \u001b[0mx\u001b[0m \u001b[1;33m=\u001b[0m \u001b[1;32mNone\u001b[0m\u001b[1;33m\u001b[0m\u001b[0m\n\u001b[0;32m      4\u001b[0m \u001b[1;33m\u001b[0m\u001b[0m\n\u001b[1;32m----> 5\u001b[1;33m \u001b[0mp\u001b[0m \u001b[1;33m=\u001b[0m \u001b[1;36m5\u001b[0m \u001b[1;33m+\u001b[0m \u001b[0mx\u001b[0m\u001b[1;33m\u001b[0m\u001b[0m\n\u001b[0m\u001b[0;32m      6\u001b[0m \u001b[0mprint\u001b[0m\u001b[1;33m(\u001b[0m\u001b[0mp\u001b[0m\u001b[1;33m)\u001b[0m\u001b[1;33m\u001b[0m\u001b[0m\n",
      "\u001b[1;31mTypeError\u001b[0m: unsupported operand type(s) for +: 'int' and 'NoneType'"
     ]
    }
   ],
   "source": [
    "# str int float none\n",
    "\n",
    "x = None\n",
    "\n",
    "p = 5 + x\n",
    "print(p)"
   ]
  },
  {
   "cell_type": "code",
   "execution_count": 3,
   "metadata": {},
   "outputs": [
    {
     "output_type": "stream",
     "name": "stdout",
     "text": [
      "None\n"
     ]
    }
   ],
   "source": [
    "x = None \n",
    "x = str(x)\n",
    "print(x)"
   ]
  },
  {
   "cell_type": "code",
   "execution_count": 81,
   "metadata": {},
   "outputs": [
    {
     "output_type": "stream",
     "name": "stdout",
     "text": [
      "<class 'NoneType'>\n"
     ]
    }
   ],
   "source": [
    "x = None \n",
    "print(type(x))"
   ]
  },
  {
   "source": [
    "### Booleans"
   ],
   "cell_type": "markdown",
   "metadata": {}
  },
  {
   "cell_type": "code",
   "execution_count": 80,
   "metadata": {},
   "outputs": [
    {
     "output_type": "stream",
     "name": "stdout",
     "text": [
      "<class 'bool'>\n"
     ]
    }
   ],
   "source": [
    "cierto = True\n",
    "falso = False \n",
    "print(type(cierto))"
   ]
  },
  {
   "cell_type": "markdown",
   "metadata": {},
   "source": [
    "## 4. Listas y colecciones "
   ]
  },
  {
   "cell_type": "code",
   "execution_count": null,
   "metadata": {},
   "outputs": [],
   "source": [
    "# Una colección:\n",
    "# lista, conjunto (set), tupla, array, string, diccionarios"
   ]
  },
  {
   "cell_type": "code",
   "execution_count": 117,
   "metadata": {},
   "outputs": [],
   "source": [
    "# Lista de elementos:\n",
    "\n",
    "# Las posiciones se empiezan a contar desde 0\n",
    "s = \"Cadena\""
   ]
  },
  {
   "cell_type": "code",
   "execution_count": 118,
   "metadata": {},
   "outputs": [
    {
     "output_type": "stream",
     "name": "stdout",
     "text": [
      "C\n"
     ]
    }
   ],
   "source": [
    "print(s[0])"
   ]
  },
  {
   "cell_type": "code",
   "execution_count": 145,
   "metadata": {},
   "outputs": [
    {
     "output_type": "stream",
     "name": "stdout",
     "text": [
      "<class 'str'>\n"
     ]
    }
   ],
   "source": [
    "s = \"\"\n",
    "print(type(s))"
   ]
  },
  {
   "cell_type": "code",
   "execution_count": 146,
   "metadata": {},
   "outputs": [
    {
     "output_type": "error",
     "ename": "IndexError",
     "evalue": "string index out of range",
     "traceback": [
      "\u001b[1;31m---------------------------------------------------------------------------\u001b[0m",
      "\u001b[1;31mIndexError\u001b[0m                                Traceback (most recent call last)",
      "\u001b[1;32m<ipython-input-146-c9c96910e542>\u001b[0m in \u001b[0;36m<module>\u001b[1;34m\u001b[0m\n\u001b[1;32m----> 1\u001b[1;33m \u001b[0ms\u001b[0m\u001b[1;33m[\u001b[0m\u001b[1;36m0\u001b[0m\u001b[1;33m]\u001b[0m\u001b[1;33m\u001b[0m\u001b[0m\n\u001b[0m",
      "\u001b[1;31mIndexError\u001b[0m: string index out of range"
     ]
    }
   ],
   "source": [
    "s[0]"
   ]
  },
  {
   "cell_type": "code",
   "execution_count": 147,
   "metadata": {},
   "outputs": [
    {
     "output_type": "stream",
     "name": "stdout",
     "text": [
      "0\n"
     ]
    }
   ],
   "source": [
    "print(len(s))"
   ]
  },
  {
   "cell_type": "code",
   "execution_count": 120,
   "metadata": {},
   "outputs": [
    {
     "output_type": "stream",
     "name": "stdout",
     "text": [
      "<class 'list'>\n"
     ]
    }
   ],
   "source": [
    "lista = []\n",
    "print(type(lista))"
   ]
  },
  {
   "cell_type": "code",
   "execution_count": null,
   "metadata": {},
   "outputs": [],
   "source": [
    "# La última posición de una colección coincide con el (número de elementos - 1)"
   ]
  },
  {
   "cell_type": "code",
   "execution_count": 122,
   "metadata": {},
   "outputs": [
    {
     "output_type": "stream",
     "name": "stdout",
     "text": [
      "hola\n7.2\n3\n"
     ]
    }
   ],
   "source": [
    "lista = [3, 7.2, \"hola\"]\n",
    "print(lista[2])  # último \n",
    "print(lista[1])  # penúltimo \n",
    "print(lista[0])  # antepenúltimo"
   ]
  },
  {
   "cell_type": "code",
   "execution_count": 14,
   "metadata": {},
   "outputs": [
    {
     "output_type": "stream",
     "name": "stdout",
     "text": [
      "3\n7.2\nhola\n"
     ]
    }
   ],
   "source": [
    "print(str(lista[0]) + \"\\n\" + str(lista[1]) + \"\\n\" + lista[2])"
   ]
  },
  {
   "cell_type": "code",
   "execution_count": 15,
   "metadata": {},
   "outputs": [
    {
     "output_type": "stream",
     "name": "stdout",
     "text": [
      "3\n7.2\nhola\n"
     ]
    }
   ],
   "source": [
    "print(str(lista[0]), str(lista[1]), lista[2], sep=\"\\n\")"
   ]
  },
  {
   "cell_type": "code",
   "execution_count": 5,
   "metadata": {},
   "outputs": [
    {
     "output_type": "stream",
     "name": "stdout",
     "text": [
      "Hol\n me llamo G\nbriel\n"
     ]
    }
   ],
   "source": [
    "# Salto de línea \\n\n",
    "print(\"Hol\\n me llamo G\\nbriel\")"
   ]
  },
  {
   "cell_type": "code",
   "execution_count": 7,
   "metadata": {},
   "outputs": [
    {
     "output_type": "stream",
     "name": "stdout",
     "text": [
      "Primer elemento:\n 3 \nSegundo elemento:\n 7.2 \nÚltimo elemento:\n hola\n"
     ]
    }
   ],
   "source": [
    "lista = [3, 7.2, \"hola\"]\n",
    "print(\"Primer elemento:\\n\", lista[0], \"\\nSegundo elemento:\\n\", \n",
    "lista[1], \"\\nÚltimo elemento:\\n\", lista[-1]) "
   ]
  },
  {
   "cell_type": "code",
   "execution_count": 13,
   "metadata": {},
   "outputs": [
    {
     "output_type": "stream",
     "name": "stdout",
     "text": [
      "Primer elemento:\n3\nSegundo elemento:\n7.2\nÚltimo elemento:\nhola\n"
     ]
    }
   ],
   "source": [
    "# No pasamos el último elemento a String porque ya es String\n",
    "print(\"Primer elemento:\\n\" + str(lista[0]) + \"\\nSegundo elemento:\\n\" + str(lista[1]) + \"\\nÚltimo elemento:\\n\" + lista[-1]) "
   ]
  },
  {
   "cell_type": "code",
   "execution_count": 11,
   "metadata": {},
   "outputs": [
    {
     "output_type": "execute_result",
     "data": {
      "text/plain": [
       "7.2"
      ]
     },
     "metadata": {},
     "execution_count": 11
    }
   ],
   "source": [
    "lista = [3, 7.2, \"hola\"]\n",
    "tamano_lista = len(lista)\n",
    "elemento_que_esta_en_la_mitad = len(lista) // 2\n",
    "lista[elemento_que_esta_en_la_mitad]"
   ]
  },
  {
   "cell_type": "code",
   "execution_count": null,
   "metadata": {},
   "outputs": [],
   "source": [
    "print(lista[-1])  # último \n",
    "print(lista[-2])  # penúltimo \n",
    "print(lista[-3])  # antepenúltimo"
   ]
  },
  {
   "cell_type": "code",
   "execution_count": 124,
   "metadata": {},
   "outputs": [
    {
     "output_type": "stream",
     "name": "stdout",
     "text": [
      "[3, 7.2]\n"
     ]
    }
   ],
   "source": [
    "print(lista[0:2])"
   ]
  },
  {
   "cell_type": "code",
   "execution_count": 125,
   "metadata": {},
   "outputs": [
    {
     "output_type": "stream",
     "name": "stdout",
     "text": [
      "[3, 7.2, 'hola']\n"
     ]
    }
   ],
   "source": [
    "print(lista)"
   ]
  },
  {
   "cell_type": "code",
   "execution_count": 148,
   "metadata": {},
   "outputs": [
    {
     "output_type": "stream",
     "name": "stdout",
     "text": [
      "3\n"
     ]
    }
   ],
   "source": [
    "lista2 = [\"hola\", 2, [7.2, \"x\"]]\n",
    "print(len(lista2))"
   ]
  },
  {
   "cell_type": "code",
   "execution_count": 127,
   "metadata": {},
   "outputs": [
    {
     "output_type": "stream",
     "name": "stdout",
     "text": [
      "[7.2, 'x']\n"
     ]
    }
   ],
   "source": [
    "print(lista2[-1])"
   ]
  },
  {
   "cell_type": "code",
   "execution_count": 128,
   "metadata": {},
   "outputs": [
    {
     "output_type": "stream",
     "name": "stdout",
     "text": [
      "x\n"
     ]
    }
   ],
   "source": [
    "print(lista2[-1][-1])"
   ]
  },
  {
   "cell_type": "code",
   "execution_count": 129,
   "metadata": {},
   "outputs": [
    {
     "output_type": "stream",
     "name": "stdout",
     "text": [
      "x\n"
     ]
    }
   ],
   "source": [
    "lista3 = [\"hola\", 2, [7.2, \"xa\"]]\n",
    "print(lista3[-1][-1][0])"
   ]
  },
  {
   "cell_type": "code",
   "execution_count": 136,
   "metadata": {},
   "outputs": [
    {
     "output_type": "stream",
     "name": "stdout",
     "text": [
      "<class 'list'>\n<class 'list'>\n"
     ]
    },
    {
     "output_type": "error",
     "ename": "IndexError",
     "evalue": "list index out of range",
     "traceback": [
      "\u001b[1;31m---------------------------------------------------------------------------\u001b[0m",
      "\u001b[1;31mIndexError\u001b[0m                                Traceback (most recent call last)",
      "\u001b[1;32m<ipython-input-136-42d049a12958>\u001b[0m in \u001b[0;36m<module>\u001b[1;34m\u001b[0m\n\u001b[0;32m      2\u001b[0m \u001b[0mprint\u001b[0m\u001b[1;33m(\u001b[0m\u001b[0mtype\u001b[0m\u001b[1;33m(\u001b[0m\u001b[0mlista4\u001b[0m\u001b[1;33m)\u001b[0m\u001b[1;33m)\u001b[0m\u001b[1;33m\u001b[0m\u001b[0m\n\u001b[0;32m      3\u001b[0m \u001b[0mprint\u001b[0m\u001b[1;33m(\u001b[0m\u001b[0mtype\u001b[0m\u001b[1;33m(\u001b[0m\u001b[0mlista4\u001b[0m\u001b[1;33m[\u001b[0m\u001b[1;33m-\u001b[0m\u001b[1;36m1\u001b[0m\u001b[1;33m]\u001b[0m\u001b[1;33m)\u001b[0m\u001b[1;33m)\u001b[0m\u001b[1;33m\u001b[0m\u001b[0m\n\u001b[1;32m----> 4\u001b[1;33m \u001b[0mprint\u001b[0m\u001b[1;33m(\u001b[0m\u001b[0mtype\u001b[0m\u001b[1;33m(\u001b[0m\u001b[0mlista4\u001b[0m\u001b[1;33m[\u001b[0m\u001b[1;33m-\u001b[0m\u001b[1;36m1\u001b[0m\u001b[1;33m]\u001b[0m\u001b[1;33m[\u001b[0m\u001b[1;36m1\u001b[0m\u001b[1;33m]\u001b[0m\u001b[1;33m)\u001b[0m\u001b[1;33m)\u001b[0m\u001b[1;33m\u001b[0m\u001b[0m\n\u001b[0m",
      "\u001b[1;31mIndexError\u001b[0m: list index out of range"
     ]
    }
   ],
   "source": [
    "lista4 = [\"hola\", 2, [[7.2, \"xa\"],]]\n",
    "print(type(lista4))\n",
    "print(type(lista4[-1]))\n",
    "print(type(lista4[-1][1]))"
   ]
  },
  {
   "cell_type": "code",
   "execution_count": 149,
   "metadata": {},
   "outputs": [
    {
     "output_type": "stream",
     "name": "stdout",
     "text": [
      "['hola', 2, [[7.2, 'xa'], 6]]\n<class 'list'>\n[[7.2, 'xa'], 6]\n<class 'list'>\n[7.2, 'xa']\n<class 'list'>\nxa\n<class 'str'>\na\n<class 'str'>\n"
     ]
    }
   ],
   "source": [
    "lista4 = [\"hola\", 2, [[7.2, \"xa\"]]]\n",
    "print(lista4)\n",
    "print(type(lista4))\n",
    "print(lista4[-1])\n",
    "print(type(lista4[-1]))\n",
    "print(lista4[-1][0])\n",
    "print(type(lista4[-1][0]))\n",
    "print(lista4[-1][0][-1])\n",
    "print(type(lista4[-1][0][-1]))\n",
    "print(lista4[-1][0][-1][-1])\n",
    "print(type(lista4[-1][0][-1][-1]))"
   ]
  },
  {
   "cell_type": "code",
   "execution_count": 140,
   "metadata": {},
   "outputs": [
    {
     "output_type": "stream",
     "name": "stdout",
     "text": [
      "[4]\n"
     ]
    }
   ],
   "source": [
    "lista5 = [4,]\n",
    "print(lista5)"
   ]
  },
  {
   "cell_type": "code",
   "execution_count": 153,
   "metadata": {},
   "outputs": [
    {
     "output_type": "execute_result",
     "data": {
      "text/plain": [
       "'ola'"
      ]
     },
     "metadata": {},
     "execution_count": 153
    }
   ],
   "source": [
    "s = \"hola\"\n",
    "\n",
    "lenght = 4\n",
    "s[1:4]"
   ]
  },
  {
   "cell_type": "code",
   "execution_count": 154,
   "metadata": {},
   "outputs": [
    {
     "output_type": "stream",
     "name": "stdout",
     "text": [
      "aralC yos aloH\n"
     ]
    }
   ],
   "source": [
    "s = \"Hola soy Clara\"\n",
    "\n",
    "print(s[::-1])"
   ]
  },
  {
   "cell_type": "code",
   "execution_count": 155,
   "metadata": {},
   "outputs": [
    {
     "output_type": "execute_result",
     "data": {
      "text/plain": [
       "'a soy Clara'"
      ]
     },
     "metadata": {},
     "execution_count": 155
    }
   ],
   "source": [
    "# Para acceder a varios elementos, se especifica con la nomenclatura \"[N:M]\". N es el primer elemento a obtener, M es el último elemento a obtener pero no incluido. Ejemplo: \n",
    "\n",
    "# Queremos mostrar desde las posiciones 3 a la 7. Debemos especificar: [3:8]\n",
    "\n",
    "# Si M no tiene ningún valor, se obtiene desde N hasta el final. \n",
    "# Si N no tiene ningún valor, es desde el principio de la colección hasta M\n",
    "s[3:len(s)]"
   ]
  },
  {
   "cell_type": "code",
   "execution_count": 156,
   "metadata": {},
   "outputs": [
    {
     "output_type": "execute_result",
     "data": {
      "text/plain": [
       "'a soy Clara'"
      ]
     },
     "metadata": {},
     "execution_count": 156
    }
   ],
   "source": [
    "# Coge desde el elemento en la posición 3 (incluido) hasta el final\n",
    "s[3:]"
   ]
  },
  {
   "cell_type": "code",
   "execution_count": 157,
   "metadata": {},
   "outputs": [
    {
     "output_type": "execute_result",
     "data": {
      "text/plain": [
       "'Hol'"
      ]
     },
     "metadata": {},
     "execution_count": 157
    }
   ],
   "source": [
    "# Coge todos los elementos hasta la posición 3 (sin incluir)\n",
    "s[:3]"
   ]
  },
  {
   "cell_type": "code",
   "execution_count": 158,
   "metadata": {},
   "outputs": [
    {
     "output_type": "stream",
     "name": "stdout",
     "text": [
      "HOLA\n"
     ]
    }
   ],
   "source": [
    "# Agrega un valor a la última posición de la lista\n",
    "s = \"hola\"\n",
    "s = s.upper()\n",
    "print(s)"
   ]
  },
  {
   "cell_type": "code",
   "execution_count": 161,
   "metadata": {},
   "outputs": [
    {
     "output_type": "stream",
     "name": "stdout",
     "text": [
      "[4, 'x']\n"
     ]
    }
   ],
   "source": [
    "lista = [4, \"x\"]\n",
    "print(lista)"
   ]
  },
  {
   "cell_type": "code",
   "execution_count": 171,
   "metadata": {},
   "outputs": [],
   "source": [
    "lista.append(7)"
   ]
  },
  {
   "cell_type": "code",
   "execution_count": 172,
   "metadata": {},
   "outputs": [
    {
     "output_type": "stream",
     "name": "stdout",
     "text": [
      "[4, 'x', 7, 7, 7, 7, 7]\n7\n"
     ]
    }
   ],
   "source": [
    "print(lista)\n",
    "print(len(lista))"
   ]
  },
  {
   "cell_type": "code",
   "execution_count": 175,
   "metadata": {},
   "outputs": [
    {
     "output_type": "stream",
     "name": "stdout",
     "text": [
      "[4, 'x']\n[4, 'x', 7]\n3\n"
     ]
    }
   ],
   "source": [
    "lista = [4, \"x\"]\n",
    "print(lista)\n",
    "lista.append(7)\n",
    "print(lista)\n",
    "print(len(lista))"
   ]
  },
  {
   "cell_type": "code",
   "execution_count": 179,
   "metadata": {},
   "outputs": [
    {
     "output_type": "error",
     "ename": "ValueError",
     "evalue": "list.remove(x): x not in list",
     "traceback": [
      "\u001b[1;31m---------------------------------------------------------------------------\u001b[0m",
      "\u001b[1;31mValueError\u001b[0m                                Traceback (most recent call last)",
      "\u001b[1;32m<ipython-input-179-f56a43a1b047>\u001b[0m in \u001b[0;36m<module>\u001b[1;34m\u001b[0m\n\u001b[0;32m      2\u001b[0m \u001b[0mlista\u001b[0m \u001b[1;33m=\u001b[0m \u001b[1;33m[\u001b[0m\u001b[1;36m4\u001b[0m\u001b[1;33m,\u001b[0m \u001b[1;34m'y'\u001b[0m\u001b[1;33m,\u001b[0m \u001b[1;36m7\u001b[0m\u001b[1;33m]\u001b[0m\u001b[1;33m\u001b[0m\u001b[0m\n\u001b[0;32m      3\u001b[0m \u001b[0mlista\u001b[0m\u001b[1;33m.\u001b[0m\u001b[0mremove\u001b[0m\u001b[1;33m(\u001b[0m\u001b[1;36m7\u001b[0m\u001b[1;33m)\u001b[0m\u001b[1;33m\u001b[0m\u001b[0m\n\u001b[1;32m----> 4\u001b[1;33m \u001b[0mlista\u001b[0m\u001b[1;33m.\u001b[0m\u001b[0mremove\u001b[0m\u001b[1;33m(\u001b[0m\u001b[1;36m7\u001b[0m\u001b[1;33m)\u001b[0m\u001b[1;33m\u001b[0m\u001b[0m\n\u001b[0m\u001b[0;32m      5\u001b[0m \u001b[0mprint\u001b[0m\u001b[1;33m(\u001b[0m\u001b[0mlista\u001b[0m\u001b[1;33m)\u001b[0m\u001b[1;33m\u001b[0m\u001b[0m\n",
      "\u001b[1;31mValueError\u001b[0m: list.remove(x): x not in list"
     ]
    }
   ],
   "source": [
    "# remove elimina el primer elemento que se encuentra que coincide con el valor del argumento\n",
    "lista = [4, 'y', 7]\n",
    "lista.remove(7)\n",
    "lista.remove(7)\n",
    "print(lista)"
   ]
  },
  {
   "cell_type": "code",
   "execution_count": 180,
   "metadata": {},
   "outputs": [
    {
     "output_type": "stream",
     "name": "stdout",
     "text": [
      "[4, 7, 'y']\n"
     ]
    }
   ],
   "source": [
    "# remove elimina el primer elemento que se encuentra que coincide con el valor del argumento\n",
    "lista = [4, 'y', 7, 'y']\n",
    "lista.remove('y')\n",
    "print(lista)"
   ]
  },
  {
   "cell_type": "code",
   "execution_count": 183,
   "metadata": {},
   "outputs": [
    {
     "output_type": "stream",
     "name": "stdout",
     "text": [
      "[4, 'y', 7, 'y', 'y']\n[4, 7, 'y', 'y']\n"
     ]
    }
   ],
   "source": [
    "lista = [4, 'y', 7, 'y']\n",
    "lista.append('y')  # append siempre añade el elemento al final de la lista\n",
    "print(lista)\n",
    "lista.remove('y')  # elimina la primera coincidencia\n",
    "print(lista)"
   ]
  },
  {
   "cell_type": "code",
   "execution_count": 217,
   "metadata": {},
   "outputs": [
    {
     "output_type": "stream",
     "name": "stdout",
     "text": [
      "[4, 'x', 'y', ['z', 4]]\n"
     ]
    }
   ],
   "source": [
    "lista = [4, 'x', 'y', ['z']]\n",
    "lista[-1].append(4)  # añade un entero 4 a la lista ['z']\n",
    "print(lista)"
   ]
  },
  {
   "cell_type": "code",
   "execution_count": 218,
   "metadata": {},
   "outputs": [
    {
     "output_type": "stream",
     "name": "stdout",
     "text": [
      "[4, 'x', 'y', ['z', [4]]]\n"
     ]
    }
   ],
   "source": [
    "lista = [4, 'x', 'y', ['z']]\n",
    "lista[-1].append([4]) # añade una lista [4] a la lista ['z']\n",
    "print(lista)"
   ]
  },
  {
   "cell_type": "code",
   "execution_count": 185,
   "metadata": {},
   "outputs": [
    {
     "output_type": "stream",
     "name": "stdout",
     "text": [
      "tipo de h: <class 'int'>\ntipo de l: <class 'list'>\n"
     ]
    }
   ],
   "source": [
    "h = 4\n",
    "l = [4]\n",
    "print(\"tipo de h:\", type(h))\n",
    "print(\"tipo de l:\", type(l))"
   ]
  },
  {
   "cell_type": "code",
   "execution_count": 187,
   "metadata": {},
   "outputs": [
    {
     "output_type": "stream",
     "name": "stdout",
     "text": [
      "[4, 3]\n"
     ]
    }
   ],
   "source": [
    "l.append(3)\n",
    "print(l)"
   ]
  },
  {
   "cell_type": "code",
   "execution_count": 191,
   "metadata": {},
   "outputs": [
    {
     "output_type": "stream",
     "name": "stdout",
     "text": [
      "xs\n"
     ]
    }
   ],
   "source": [
    "# Accedemos a la posición 1 del elemento que está en la posición 2 de lista\n",
    "\n",
    "lista = ['l', 9.4, [8.1, 'xs']]\n",
    "print(lista[2][1])"
   ]
  },
  {
   "cell_type": "code",
   "execution_count": 199,
   "metadata": {},
   "outputs": [
    {
     "output_type": "stream",
     "name": "stdout",
     "text": [
      "[[8.1, 'xs'], 9.4, 'l']\n"
     ]
    }
   ],
   "source": [
    "lista2 = ['l', 9.4, [8.1, 'xs']]\n",
    "lista2.reverse()\n",
    "print(lista2)"
   ]
  },
  {
   "cell_type": "code",
   "execution_count": 195,
   "metadata": {},
   "outputs": [
    {
     "output_type": "stream",
     "name": "stdout",
     "text": [
      "5\n"
     ]
    }
   ],
   "source": [
    "lista3 = [2, 4, 6, 8, 'o']\n",
    "print(len(lista3))"
   ]
  },
  {
   "cell_type": "code",
   "execution_count": 201,
   "metadata": {},
   "outputs": [
    {
     "output_type": "stream",
     "name": "stdout",
     "text": [
      "[2, 4, 8, 9]\n"
     ]
    }
   ],
   "source": [
    "lista_1 = [2, 4]\n",
    "lista_2 = [8, 9]\n",
    "lista_3 = lista_1 + lista_2  # concatenamos\n",
    "print(lista_3)"
   ]
  },
  {
   "cell_type": "code",
   "execution_count": 203,
   "metadata": {},
   "outputs": [
    {
     "output_type": "stream",
     "name": "stdout",
     "text": [
      "[2, 4, 6, 8, 'o', [[8.1, 'xs'], 9.4, 'l']]\n"
     ]
    }
   ],
   "source": [
    "lista3 = [2, 4, 6, 8, 'o']\n",
    "lista3.append(lista2)  # añadir al final de la lista\n",
    "print(lista3)"
   ]
  },
  {
   "cell_type": "code",
   "execution_count": 206,
   "metadata": {},
   "outputs": [],
   "source": [
    "lista3[5][0].append(lista2)"
   ]
  },
  {
   "cell_type": "code",
   "execution_count": 209,
   "metadata": {},
   "outputs": [
    {
     "output_type": "stream",
     "name": "stdout",
     "text": [
      "[2, 4, 6, 8, 'o', [[8.1, 'xs', [...]], 9.4, 'l']]\n"
     ]
    }
   ],
   "source": [
    "print(lista3)"
   ]
  },
  {
   "cell_type": "code",
   "execution_count": 213,
   "metadata": {},
   "outputs": [
    {
     "output_type": "stream",
     "name": "stdout",
     "text": [
      "[[8.1, 'xs', [...]], 9.4, 'l']\n"
     ]
    }
   ],
   "source": [
    "print(lista3[5][0][2])"
   ]
  },
  {
   "cell_type": "code",
   "execution_count": 214,
   "metadata": {},
   "outputs": [
    {
     "output_type": "stream",
     "name": "stdout",
     "text": [
      "['b', 'a']\n"
     ]
    }
   ],
   "source": [
    "lista = [\"a\", \"b\"]\n",
    "lista.reverse()\n",
    "print(lista)"
   ]
  },
  {
   "cell_type": "code",
   "execution_count": 215,
   "metadata": {},
   "outputs": [
    {
     "output_type": "stream",
     "name": "stdout",
     "text": [
      "None\n"
     ]
    }
   ],
   "source": [
    "lista = [\"a\", \"b\"]\n",
    "lista = lista.reverse()\n",
    "print(lista)"
   ]
  },
  {
   "cell_type": "code",
   "execution_count": 216,
   "metadata": {},
   "outputs": [
    {
     "output_type": "stream",
     "name": "stdout",
     "text": [
      "['b', 'a']\n"
     ]
    }
   ],
   "source": [
    "lista = [\"a\", \"b\"]\n",
    "lista = lista[::-1]\n",
    "print(lista)"
   ]
  },
  {
   "cell_type": "code",
   "execution_count": null,
   "metadata": {},
   "outputs": [],
   "source": []
  },
  {
   "cell_type": "code",
   "execution_count": 219,
   "metadata": {},
   "outputs": [
    {
     "output_type": "execute_result",
     "data": {
      "text/plain": [
       "['Gabriel..', 'algo']"
      ]
     },
     "metadata": {},
     "execution_count": 219
    }
   ],
   "source": [
    "# Ejemplo práctico\n",
    "\n",
    "lista_pacientes = [[\"Gabriel..\", \"algo\"], [\"Lorena\", \"inflamación\"]]\n",
    "lista_pacientes[0]"
   ]
  },
  {
   "source": [
    "### Colecciones\n",
    "\n",
    "1. Listas\n",
    "2. String (colección de caracteres)\n",
    "3. Tuplas\n",
    "4. Conjuntos (Set)\n",
    "5. Diccionarios"
   ],
   "cell_type": "markdown",
   "metadata": {}
  },
  {
   "cell_type": "code",
   "execution_count": 223,
   "metadata": {},
   "outputs": [
    {
     "output_type": "execute_result",
     "data": {
      "text/plain": [
       "'j'"
      ]
     },
     "metadata": {},
     "execution_count": 223
    }
   ],
   "source": [
    "s = \"j\"\n",
    "s[0][0]"
   ]
  },
  {
   "cell_type": "code",
   "execution_count": 225,
   "metadata": {},
   "outputs": [
    {
     "output_type": "error",
     "ename": "TypeError",
     "evalue": "'int' object is not subscriptable",
     "traceback": [
      "\u001b[1;31m---------------------------------------------------------------------------\u001b[0m",
      "\u001b[1;31mTypeError\u001b[0m                                 Traceback (most recent call last)",
      "\u001b[1;32m<ipython-input-225-2ef8c572736d>\u001b[0m in \u001b[0;36m<module>\u001b[1;34m\u001b[0m\n\u001b[0;32m      1\u001b[0m \u001b[0mn\u001b[0m \u001b[1;33m=\u001b[0m \u001b[1;36m2\u001b[0m\u001b[1;33m\u001b[0m\u001b[0m\n\u001b[1;32m----> 2\u001b[1;33m \u001b[0mn\u001b[0m\u001b[1;33m[\u001b[0m\u001b[1;36m0\u001b[0m\u001b[1;33m]\u001b[0m\u001b[1;33m\u001b[0m\u001b[0m\n\u001b[0m",
      "\u001b[1;31mTypeError\u001b[0m: 'int' object is not subscriptable"
     ]
    }
   ],
   "source": [
    "n = 2\n",
    "n[0]"
   ]
  },
  {
   "cell_type": "code",
   "execution_count": 227,
   "metadata": {},
   "outputs": [
    {
     "output_type": "stream",
     "name": "stdout",
     "text": [
      "j\n"
     ]
    },
    {
     "output_type": "execute_result",
     "data": {
      "text/plain": [
       "'j'"
      ]
     },
     "metadata": {},
     "execution_count": 227
    }
   ],
   "source": [
    "# Listas --> Mutables\n",
    "lista = [2, 5, \"caract\", [9, \"g\", [\"j\"]]]\n",
    "print(lista[-1][-1][-1])\n",
    "lista[3][2][0]"
   ]
  },
  {
   "cell_type": "code",
   "execution_count": 233,
   "metadata": {},
   "outputs": [
    {
     "output_type": "execute_result",
     "data": {
      "text/plain": [
       "4"
      ]
     },
     "metadata": {},
     "execution_count": 233
    }
   ],
   "source": [
    "x = ((2 + 2))\n",
    "x"
   ]
  },
  {
   "cell_type": "code",
   "execution_count": 235,
   "metadata": {},
   "outputs": [
    {
     "output_type": "stream",
     "name": "stdout",
     "text": [
      "<class 'int'>\n"
     ]
    }
   ],
   "source": [
    "x = 2\n",
    "print(type(x))"
   ]
  },
  {
   "cell_type": "code",
   "execution_count": 238,
   "metadata": {},
   "outputs": [
    {
     "output_type": "stream",
     "name": "stdout",
     "text": [
      "2\n"
     ]
    }
   ],
   "source": [
    "lista = [2, 5]\n",
    "tupla = (2, 4)\n",
    "print(len(tupla))"
   ]
  },
  {
   "cell_type": "code",
   "execution_count": 239,
   "metadata": {},
   "outputs": [
    {
     "output_type": "execute_result",
     "data": {
      "text/plain": [
       "4"
      ]
     },
     "metadata": {},
     "execution_count": 239
    }
   ],
   "source": [
    "tupla[1]"
   ]
  },
  {
   "cell_type": "code",
   "execution_count": 241,
   "metadata": {},
   "outputs": [
    {
     "output_type": "stream",
     "name": "stdout",
     "text": [
      "<class 'tuple'>\n"
     ]
    },
    {
     "output_type": "execute_result",
     "data": {
      "text/plain": [
       "(2, 5, 'caract', [9, 'g', ['j']])"
      ]
     },
     "metadata": {},
     "execution_count": 241
    }
   ],
   "source": [
    "# Tuplas --> Inmutables\n",
    "\n",
    "tupla = (2, 5, \"caract\", [9, \"g\", [\"j\"]])\n",
    "print(type(tupla))\n",
    "tupla"
   ]
  },
  {
   "cell_type": "code",
   "execution_count": 242,
   "metadata": {},
   "outputs": [
    {
     "output_type": "execute_result",
     "data": {
      "text/plain": [
       "[2, 1, ['k', 'm']]"
      ]
     },
     "metadata": {},
     "execution_count": 242
    }
   ],
   "source": [
    "# Update listas\n",
    "lista = [2, \"6\", [\"k\", \"m\"]]\n",
    "lista[1] = 1\n",
    "lista"
   ]
  },
  {
   "cell_type": "code",
   "execution_count": 253,
   "metadata": {},
   "outputs": [
    {
     "output_type": "error",
     "ename": "TypeError",
     "evalue": "'tuple' object does not support item assignment",
     "traceback": [
      "\u001b[1;31m---------------------------------------------------------------------------\u001b[0m",
      "\u001b[1;31mTypeError\u001b[0m                                 Traceback (most recent call last)",
      "\u001b[1;32m<ipython-input-253-4ff2d7a7cd31>\u001b[0m in \u001b[0;36m<module>\u001b[1;34m\u001b[0m\n\u001b[0;32m      1\u001b[0m \u001b[0mtupla\u001b[0m \u001b[1;33m=\u001b[0m \u001b[1;33m(\u001b[0m\u001b[1;36m2\u001b[0m\u001b[1;33m,\u001b[0m \u001b[1;34m\"b\"\u001b[0m\u001b[1;33m,\u001b[0m \u001b[1;33m[\u001b[0m\u001b[1;34m\"k\"\u001b[0m\u001b[1;33m,\u001b[0m \u001b[1;34m\"m\"\u001b[0m\u001b[1;33m]\u001b[0m\u001b[1;33m)\u001b[0m\u001b[1;33m\u001b[0m\u001b[0m\n\u001b[1;32m----> 2\u001b[1;33m \u001b[0mtupla\u001b[0m\u001b[1;33m[\u001b[0m\u001b[1;36m1\u001b[0m\u001b[1;33m]\u001b[0m \u001b[1;33m=\u001b[0m \u001b[1;36m1\u001b[0m\u001b[1;33m\u001b[0m\u001b[0m\n\u001b[0m\u001b[0;32m      3\u001b[0m \u001b[0mtupla\u001b[0m\u001b[1;33m\u001b[0m\u001b[0m\n",
      "\u001b[1;31mTypeError\u001b[0m: 'tuple' object does not support item assignment"
     ]
    }
   ],
   "source": [
    "tupla = (2, \"b\", [\"k\", \"m\"])\n",
    "tupla[1] = 1\n",
    "tupla"
   ]
  },
  {
   "cell_type": "code",
   "execution_count": 254,
   "metadata": {},
   "outputs": [
    {
     "output_type": "execute_result",
     "data": {
      "text/plain": [
       "(2, 'b', ['k', 'm', 'Otro'])"
      ]
     },
     "metadata": {},
     "execution_count": 254
    }
   ],
   "source": [
    "tupla[2].append(\"Otro\")\n",
    "tupla"
   ]
  },
  {
   "cell_type": "code",
   "execution_count": 255,
   "metadata": {},
   "outputs": [
    {
     "output_type": "execute_result",
     "data": {
      "text/plain": [
       "(2, 'b', [])"
      ]
     },
     "metadata": {},
     "execution_count": 255
    }
   ],
   "source": [
    "# La tupla es inmutable pero sí se puede modificar las colecciones mutables dentro de ella\n",
    "\n",
    "tupla[2].remove(\"k\")\n",
    "tupla[2].remove(\"m\")\n",
    "tupla[2].remove(\"Otro\")\n",
    "tupla"
   ]
  },
  {
   "cell_type": "code",
   "execution_count": 261,
   "metadata": {},
   "outputs": [
    {
     "output_type": "error",
     "ename": "TypeError",
     "evalue": "'tuple' object does not support item assignment",
     "traceback": [
      "\u001b[1;31m---------------------------------------------------------------------------\u001b[0m",
      "\u001b[1;31mTypeError\u001b[0m                                 Traceback (most recent call last)",
      "\u001b[1;32m<ipython-input-261-db3ce2cf7ed6>\u001b[0m in \u001b[0;36m<module>\u001b[1;34m\u001b[0m\n\u001b[1;32m----> 1\u001b[1;33m \u001b[0mtupla\u001b[0m\u001b[1;33m[\u001b[0m\u001b[1;36m2\u001b[0m\u001b[1;33m]\u001b[0m \u001b[1;33m=\u001b[0m \u001b[1;33m[\u001b[0m\u001b[1;36m2\u001b[0m\u001b[1;33m]\u001b[0m\u001b[1;33m\u001b[0m\u001b[0m\n\u001b[0m",
      "\u001b[1;31mTypeError\u001b[0m: 'tuple' object does not support item assignment"
     ]
    }
   ],
   "source": [
    "tupla[2] = [2]"
   ]
  },
  {
   "cell_type": "code",
   "execution_count": 266,
   "metadata": {},
   "outputs": [],
   "source": [
    "tupla = (2, 'b', [])"
   ]
  },
  {
   "cell_type": "code",
   "execution_count": 267,
   "metadata": {},
   "outputs": [
    {
     "output_type": "stream",
     "name": "stdout",
     "text": [
      "(2, 'b', [])\n[2, 'b', []]\n[2, '5', []]\n"
     ]
    },
    {
     "output_type": "execute_result",
     "data": {
      "text/plain": [
       "(2, '5', [])"
      ]
     },
     "metadata": {},
     "execution_count": 267
    }
   ],
   "source": [
    "# Cambiar una tupla a lista (mutable) y volver a tupla una vez modificada\n",
    "print(tupla)\n",
    "tupla = list(tupla)\n",
    "print(tupla)\n",
    "tupla[1] = \"5\"\n",
    "print(tupla)\n",
    "tupla = tuple(tupla)\n",
    "tupla"
   ]
  },
  {
   "cell_type": "code",
   "execution_count": 269,
   "metadata": {},
   "outputs": [
    {
     "output_type": "execute_result",
     "data": {
      "text/plain": [
       "{2, 4, 6, 'a', 'h', 'z'}"
      ]
     },
     "metadata": {},
     "execution_count": 269
    }
   ],
   "source": [
    "# Conjuntos\n",
    "\n",
    "conjunto = [2, 4, 6, \"a\", \"z\", \"h\", 2]\n",
    "conjunto = set(conjunto)\n",
    "conjunto"
   ]
  },
  {
   "cell_type": "code",
   "execution_count": 270,
   "metadata": {},
   "outputs": [
    {
     "output_type": "execute_result",
     "data": {
      "text/plain": [
       "{2, 4, 6, False, True, 'a', 'h', 'z'}"
      ]
     },
     "metadata": {},
     "execution_count": 270
    }
   ],
   "source": [
    "conjunto = [\"a\", \"z\", \"h\", 2, 2, 4, 6, True, True, False]\n",
    "conjunto = set(conjunto)\n",
    "conjunto"
   ]
  },
  {
   "cell_type": "code",
   "execution_count": 271,
   "metadata": {},
   "outputs": [
    {
     "output_type": "execute_result",
     "data": {
      "text/plain": [
       "{2, 2.1, 2.3, 2.4, 4, 6, False, True, 'a', 'h', 'z'}"
      ]
     },
     "metadata": {},
     "execution_count": 271
    }
   ],
   "source": [
    "conjunto = [\"a\", \"z\", \"h\", 2, 2, 4, 6, 2.1, 2.4, 2.3, True, True, False]\n",
    "conjunto = set(conjunto)\n",
    "conjunto"
   ]
  },
  {
   "cell_type": "code",
   "execution_count": 272,
   "metadata": {},
   "outputs": [
    {
     "output_type": "execute_result",
     "data": {
      "text/plain": [
       "{2, 2.1, 2.3, 2.4, 4, 6, False, True, 'a', 'h', 'z'}"
      ]
     },
     "metadata": {},
     "execution_count": 272
    }
   ],
   "source": [
    "conjunto_tupla = (\"a\", \"z\", \"h\", 2, 2, 4, 6, 2.1, 2.4, 2.3, True, True, False)\n",
    "conjunto = set(conjunto_tupla)\n",
    "conjunto"
   ]
  },
  {
   "cell_type": "code",
   "execution_count": 273,
   "metadata": {},
   "outputs": [
    {
     "output_type": "execute_result",
     "data": {
      "text/plain": [
       "{2, 2.1, 2.3, 2.4, 4, 6, False, True, 'a', 'h', 'z'}"
      ]
     },
     "metadata": {},
     "execution_count": 273
    }
   ],
   "source": [
    "conjunto = {\"a\", \"z\", \"h\", 2, 2, 4, 6, 2.1, 2.4, 2.3, True, True, False}\n",
    "conjunto"
   ]
  },
  {
   "cell_type": "code",
   "execution_count": 17,
   "metadata": {},
   "outputs": [
    {
     "output_type": "execute_result",
     "data": {
      "text/plain": [
       "{(24, 2), 2, 2.1, 2.3, 2.4, 4, 6, False, None, True, 'a', 'h', 'z'}"
      ]
     },
     "metadata": {},
     "execution_count": 17
    }
   ],
   "source": [
    "conjunto = {\"a\", \"z\", \"h\", 2, 2, 4, 6, 2.1, 2.4, 2.3, True, True, False, None, (24, 2)}\n",
    "conjunto"
   ]
  },
  {
   "cell_type": "code",
   "execution_count": 20,
   "metadata": {},
   "outputs": [
    {
     "output_type": "execute_result",
     "data": {
      "text/plain": [
       "[False, True, 2, 2.1, 4, 'a', 6, 2.4, 2.3, None, (24, 2), 'z', 'h']"
      ]
     },
     "metadata": {},
     "execution_count": 20
    }
   ],
   "source": [
    "conjunto = list(conjunto)\n",
    "conjunto"
   ]
  },
  {
   "cell_type": "code",
   "execution_count": 21,
   "metadata": {},
   "outputs": [
    {
     "output_type": "execute_result",
     "data": {
      "text/plain": [
       "[2, 'perro', 'gato']"
      ]
     },
     "metadata": {},
     "execution_count": 21
    }
   ],
   "source": [
    "# Si quiero que mi conjunto no tenga datos repetidos:\n",
    "# 1. Lo paso a conjunto\n",
    "# 2. Lo vuelvo a pasar al tipo del conjunto original\n",
    "lista = [2, 2, \"perro\", \"gato\"]\n",
    "lista = set(lista)\n",
    "lista = list(lista)\n",
    "lista"
   ]
  },
  {
   "cell_type": "code",
   "execution_count": 23,
   "metadata": {},
   "outputs": [
    {
     "output_type": "execute_result",
     "data": {
      "text/plain": [
       "[2, 'perro', 'gato']"
      ]
     },
     "metadata": {},
     "execution_count": 23
    }
   ],
   "source": [
    "# Si quiero que mi conjunto no tenga datos repetidos:\n",
    "# 1. Lo paso a conjunto\n",
    "# 2. Lo vuelvo a pasar al tipo del conjunto original\n",
    "lista = [2, 2, \"perro\", \"gato\"]\n",
    "lista = list(set(lista))\n",
    "lista"
   ]
  },
  {
   "cell_type": "code",
   "execution_count": 1,
   "metadata": {},
   "outputs": [
    {
     "output_type": "execute_result",
     "data": {
      "text/plain": [
       "tuple"
      ]
     },
     "metadata": {},
     "execution_count": 1
    }
   ],
   "source": [
    "# Creación de tupla vacía\n",
    "tupla_vacia = ()\n",
    "type(tupla_vacia)"
   ]
  },
  {
   "cell_type": "code",
   "execution_count": 4,
   "metadata": {},
   "outputs": [
    {
     "output_type": "execute_result",
     "data": {
      "text/plain": [
       "tuple"
      ]
     },
     "metadata": {},
     "execution_count": 4
    }
   ],
   "source": [
    "# Creación de tupla vacía\n",
    "tupla_vacia = (2,)\n",
    "type(tupla_vacia)"
   ]
  },
  {
   "cell_type": "code",
   "execution_count": 25,
   "metadata": {},
   "outputs": [
    {
     "output_type": "execute_result",
     "data": {
      "text/plain": [
       "list"
      ]
     },
     "metadata": {},
     "execution_count": 25
    }
   ],
   "source": [
    "# Lista vacía\n",
    "type([])"
   ]
  },
  {
   "cell_type": "code",
   "execution_count": 31,
   "metadata": {},
   "outputs": [
    {
     "output_type": "execute_result",
     "data": {
      "text/plain": [
       "set"
      ]
     },
     "metadata": {},
     "execution_count": 31
    }
   ],
   "source": [
    "# Conjunto vacío necesita un elemento. Si no añades un elemento, es un diccionario\n",
    "conjunto_vacio = {0,}\n",
    "type(conjunto_vacio)"
   ]
  },
  {
   "cell_type": "code",
   "execution_count": 6,
   "metadata": {},
   "outputs": [
    {
     "output_type": "execute_result",
     "data": {
      "text/plain": [
       "set"
      ]
     },
     "metadata": {},
     "execution_count": 6
    }
   ],
   "source": [
    "c = {0,}\n",
    "type(c)"
   ]
  },
  {
   "cell_type": "code",
   "execution_count": null,
   "metadata": {},
   "outputs": [],
   "source": [
    "# String vacío\n",
    "s = \"\"\n",
    "# Lista vacía\n",
    "[]\n",
    "# Tupla vacía\n",
    "()\n",
    "# Conjunto vacío\n",
    "{0,}"
   ]
  },
  {
   "cell_type": "code",
   "execution_count": 277,
   "metadata": {},
   "outputs": [
    {
     "output_type": "execute_result",
     "data": {
      "text/plain": [
       "2"
      ]
     },
     "metadata": {},
     "execution_count": 277
    }
   ],
   "source": [
    "y = (2)\n",
    "y"
   ]
  },
  {
   "cell_type": "code",
   "execution_count": 278,
   "metadata": {},
   "outputs": [
    {
     "output_type": "stream",
     "name": "stdout",
     "text": [
      "<class 'set'>\n"
     ]
    },
    {
     "output_type": "execute_result",
     "data": {
      "text/plain": [
       "{2}"
      ]
     },
     "metadata": {},
     "execution_count": 278
    }
   ],
   "source": [
    "y = {2,}\n",
    "print(type(y))\n",
    "y"
   ]
  },
  {
   "cell_type": "code",
   "execution_count": null,
   "metadata": {},
   "outputs": [],
   "source": [
    "s = \"String\"\n",
    "lista_s = list(s)\n",
    "lista_s"
   ]
  },
  {
   "cell_type": "code",
   "execution_count": 32,
   "metadata": {},
   "outputs": [
    {
     "output_type": "execute_result",
     "data": {
      "text/plain": [
       "{'S', 'g', 'i', 'n', 'r', 't'}"
      ]
     },
     "metadata": {},
     "execution_count": 32
    }
   ],
   "source": [
    "s = \"String\"\n",
    "conj = set(s)\n",
    "conj"
   ]
  },
  {
   "cell_type": "code",
   "execution_count": 33,
   "metadata": {},
   "outputs": [
    {
     "output_type": "execute_result",
     "data": {
      "text/plain": [
       "(2, 6, True)"
      ]
     },
     "metadata": {},
     "execution_count": 33
    }
   ],
   "source": [
    "# Cambiar de tupla a lista, remover elemento y convertir en tupla\n",
    "tupla = (2, 6, [\"x\"], True)\n",
    "tupla = list(tupla)\n",
    "tupla.remove([\"x\"])\n",
    "tupla = tuple(tupla)\n",
    "tupla"
   ]
  },
  {
   "cell_type": "code",
   "execution_count": 34,
   "metadata": {},
   "outputs": [
    {
     "output_type": "execute_result",
     "data": {
      "text/plain": [
       "[2, 6, ['x']]"
      ]
     },
     "metadata": {},
     "execution_count": 34
    }
   ],
   "source": [
    "# Eliminar por posición en una lista\n",
    "lista = [2, 6, [\"x\"], True] \n",
    "lista.pop()  # pop elimina el último elemento por defecto\n",
    "lista"
   ]
  },
  {
   "cell_type": "code",
   "execution_count": 36,
   "metadata": {},
   "outputs": [
    {
     "output_type": "execute_result",
     "data": {
      "text/plain": [
       "[2, 6, True]"
      ]
     },
     "metadata": {},
     "execution_count": 36
    }
   ],
   "source": [
    "lista = [2, 6, [\"x\"], True] \n",
    "lista.pop(2) \n",
    "lista"
   ]
  },
  {
   "cell_type": "code",
   "execution_count": 38,
   "metadata": {},
   "outputs": [
    {
     "output_type": "stream",
     "name": "stdout",
     "text": [
      "[2, ['x'], True]\n"
     ]
    },
    {
     "output_type": "execute_result",
     "data": {
      "text/plain": [
       "6"
      ]
     },
     "metadata": {},
     "execution_count": 38
    }
   ],
   "source": [
    "# pop retorna el valor eliminado\n",
    "lista = [2, 6, [\"x\"], True] \n",
    "valor_eliminado = lista.pop(1)\n",
    "print(lista)\n",
    "valor_eliminado"
   ]
  },
  {
   "cell_type": "code",
   "execution_count": null,
   "metadata": {},
   "outputs": [],
   "source": [
    "conjunto = {2, 5, \"h\"}\n",
    "lista_con_conjunto = [conjunto]\n",
    "lista_con_conjunto[0]"
   ]
  },
  {
   "cell_type": "code",
   "execution_count": null,
   "metadata": {},
   "outputs": [],
   "source": [
    "# No podemos acceder a elementos de un conjunto\n",
    "lista_con_conjunto[0][0]"
   ]
  },
  {
   "cell_type": "markdown",
   "metadata": {},
   "source": [
    "## 5. Condiciones: if, elif, else"
   ]
  },
  {
   "cell_type": "code",
   "execution_count": 39,
   "metadata": {},
   "outputs": [
    {
     "output_type": "error",
     "ename": "IndentationError",
     "evalue": "expected an indented block (<ipython-input-39-35ef4a115b65>, line 3)",
     "traceback": [
      "\u001b[1;36m  File \u001b[1;32m\"<ipython-input-39-35ef4a115b65>\"\u001b[1;36m, line \u001b[1;32m3\u001b[0m\n\u001b[1;33m    print(\"Es mayor a 3\")\u001b[0m\n\u001b[1;37m        ^\u001b[0m\n\u001b[1;31mIndentationError\u001b[0m\u001b[1;31m:\u001b[0m expected an indented block\n"
     ]
    }
   ],
   "source": [
    "x = 5\n",
    "if x > 3:\n",
    "print(\"Es mayor a 3\")"
   ]
  },
  {
   "cell_type": "code",
   "execution_count": 40,
   "metadata": {},
   "outputs": [
    {
     "output_type": "stream",
     "name": "stdout",
     "text": [
      "Es mayor a 3\n"
     ]
    }
   ],
   "source": [
    "x = 5\n",
    "if x > 3:  # siempre que hay dos puntos, hay indentación\n",
    "    print(\"Es mayor a 3\")  "
   ]
  },
  {
   "cell_type": "code",
   "execution_count": 42,
   "metadata": {},
   "outputs": [
    {
     "output_type": "stream",
     "name": "stdout",
     "text": [
      "Es mayor a 3\n2\n"
     ]
    }
   ],
   "source": [
    "x = 5\n",
    "if x > 3:  # siempre que hay dos puntos, hay indentación\n",
    "    print(\"Es mayor a 3\")\n",
    "    x = 2\n",
    "print(x)"
   ]
  },
  {
   "cell_type": "code",
   "execution_count": 43,
   "metadata": {},
   "outputs": [
    {
     "output_type": "stream",
     "name": "stdout",
     "text": [
      "Es mayor a 3\n5\n"
     ]
    }
   ],
   "source": [
    "# dos bloques de condiciones diferentes\n",
    "x = 5\n",
    "if x > 3:  # siempre que hay dos puntos, hay indentación\n",
    "    print(\"Es mayor a 3\")\n",
    "\n",
    "if x < 4:\n",
    "    x = 2\n",
    "print(x)"
   ]
  },
  {
   "cell_type": "code",
   "execution_count": 44,
   "metadata": {},
   "outputs": [
    {
     "output_type": "stream",
     "name": "stdout",
     "text": [
      "2\nFuera del bloque\n"
     ]
    }
   ],
   "source": [
    "x = 5\n",
    "if x < 4:  # inicio de un bloque de condiciones\n",
    "    print(\"1\")\n",
    "elif x >:\n",
    "    print(\"2\")\n",
    "else:\n",
    "    print(\"3\")\n",
    "\n",
    "print(\"Fuera del bloque\")"
   ]
  },
  {
   "cell_type": "code",
   "execution_count": 45,
   "metadata": {},
   "outputs": [
    {
     "output_type": "stream",
     "name": "stdout",
     "text": [
      "x es 5\nFuera del bloque\n"
     ]
    }
   ],
   "source": [
    "x = 5\n",
    "if x < 4:  # inicio de un bloque de condiciones\n",
    "    print(\"1\")\n",
    "elif x > 30:\n",
    "    print(\"2\")\n",
    "elif x == 5:\n",
    "    print(\"x es 5\")\n",
    "else:\n",
    "    print(\"3\")\n",
    "\n",
    "print(\"Fuera del bloque\")"
   ]
  },
  {
   "cell_type": "code",
   "execution_count": 46,
   "metadata": {},
   "outputs": [
    {
     "output_type": "stream",
     "name": "stdout",
     "text": [
      "3\nFuera del bloque\n"
     ]
    }
   ],
   "source": [
    "x = 5\n",
    "if x < 4:  # inicio de un bloque de condiciones\n",
    "    print(\"1\")\n",
    "elif x > 30:\n",
    "    print(\"2\")\n",
    "elif x == 6:\n",
    "    print(\"x es 5\")\n",
    "else:\n",
    "    print(\"3\")\n",
    "\n",
    "print(\"Fuera del bloque\")"
   ]
  },
  {
   "cell_type": "code",
   "execution_count": 47,
   "metadata": {},
   "outputs": [
    {
     "output_type": "stream",
     "name": "stdout",
     "text": [
      "Fuera del bloque\n"
     ]
    }
   ],
   "source": [
    "x = 5\n",
    "if x < 4:  # inicio de un bloque de condiciones\n",
    "    print(\"1\")\n",
    "elif x > 30:\n",
    "    print(\"2\")\n",
    "elif x == 6:\n",
    "    print(\"x es 5\")\n",
    "\n",
    "print(\"Fuera del bloque\")"
   ]
  },
  {
   "source": [
    "\n",
    "- if inicia bloque de condiciones\n",
    "- pueden existir todos los elif que se necesiten\n",
    "- solo puede existir un else\n",
    "- no son necesarios ni los elif ni el else\n"
   ],
   "cell_type": "markdown",
   "metadata": {}
  },
  {
   "cell_type": "code",
   "execution_count": 49,
   "metadata": {},
   "outputs": [
    {
     "output_type": "stream",
     "name": "stdout",
     "text": [
      "primer else\n2\nFuera del bloque\n"
     ]
    }
   ],
   "source": [
    "x = 5\n",
    "if x < 4:  # inicio de un bloque de condiciones\n",
    "    print(\"1\")\n",
    "elif x > 30:\n",
    "    print(\"2\")\n",
    "elif x == 6:\n",
    "    print(\"x es 5\")\n",
    "else:\n",
    "    print(\"primer else\")\n",
    "\n",
    "if x < 4:  # inicio de un bloque de condiciones\n",
    "    print(\"1\")\n",
    "elif x > 3:\n",
    "    print(\"2\")\n",
    "elif x == 5:\n",
    "    print(\"x es 5\")\n",
    "else:\n",
    "    print(\"primer else\")\n",
    "\n",
    "print(\"Fuera del bloque\")"
   ]
  },
  {
   "cell_type": "code",
   "execution_count": 52,
   "metadata": {},
   "outputs": [
    {
     "output_type": "stream",
     "name": "stdout",
     "text": [
      "2\nx es 6\nFuera del bloque\n"
     ]
    }
   ],
   "source": [
    "x = 5\n",
    "if x < 4:  # inicio de un bloque de condiciones\n",
    "    print(\"1\")\n",
    "elif x > 3:\n",
    "    print(\"2\")\n",
    "    x = 6\n",
    "elif x == 6:\n",
    "    print(\"x es 5\")\n",
    "else:\n",
    "    print(\"primer else\")\n",
    "\n",
    "if x < 4:  # inicio de un bloque de condiciones\n",
    "    print(\"1\")\n",
    "elif x > 9:\n",
    "    print(\"2\")\n",
    "    x = 6\n",
    "elif x == 6:\n",
    "    print(\"x es 6\")\n",
    "else:\n",
    "    print(\"primer else\")\n",
    "\n",
    "print(\"Fuera del bloque\")"
   ]
  },
  {
   "cell_type": "code",
   "execution_count": 53,
   "metadata": {},
   "outputs": [
    {
     "output_type": "stream",
     "name": "stdout",
     "text": [
      "2\nelse interno\nFuera del bloque\n"
     ]
    }
   ],
   "source": [
    "x = 5\n",
    "if x < 4:  # inicio de un bloque de condiciones\n",
    "    print(\"1\")\n",
    "elif x > 3:\n",
    "    print(\"2\")\n",
    "    x = 10\n",
    "    if x < 4:  # inicio de un bloque de condiciones\n",
    "        print(\"1\")\n",
    "    elif x == 6:\n",
    "        print(\"x es 5\")\n",
    "    else:\n",
    "        print(\"else interno\")\n",
    "elif x == 5:\n",
    "    print(\"x es 5\")\n",
    "else:\n",
    "    print(\"primer else\")\n",
    "\n",
    "print(\"Fuera del bloque\")"
   ]
  },
  {
   "cell_type": "code",
   "execution_count": 55,
   "metadata": {},
   "outputs": [
    {
     "output_type": "stream",
     "name": "stdout",
     "text": [
      "True\n"
     ]
    }
   ],
   "source": [
    "\"\"\"\n",
    "==  -> Igualdad\n",
    "!= -> Diferecia\n",
    "< -> Menor que\n",
    "> -> Mayor que\n",
    "<= -> Menor o igual\n",
    ">= -> Mayor o igual\n",
    "\"\"\"\n",
    "\n",
    "print(2 == 2)"
   ]
  },
  {
   "cell_type": "code",
   "execution_count": 56,
   "metadata": {},
   "outputs": [
    {
     "output_type": "stream",
     "name": "stdout",
     "text": [
      "hola\n"
     ]
    }
   ],
   "source": [
    "if True:\n",
    "    print(\"hola\")\n",
    "else:\n",
    "    print(\"adios\")"
   ]
  },
  {
   "cell_type": "code",
   "execution_count": 57,
   "metadata": {},
   "outputs": [
    {
     "output_type": "stream",
     "name": "stdout",
     "text": [
      "adios\nadios\n"
     ]
    }
   ],
   "source": [
    "if (2 == 2 and 2 == 3): # and necesita que ambas condiciones sean True\n",
    "    print(\"hola\")\n",
    "else:\n",
    "    print(\"adios\")\n",
    "\n",
    "if True and False:\n",
    "    print(\"hola\")\n",
    "else:\n",
    "    print(\"adios\")"
   ]
  },
  {
   "cell_type": "code",
   "execution_count": 58,
   "metadata": {},
   "outputs": [
    {
     "output_type": "stream",
     "name": "stdout",
     "text": [
      "hola\n"
     ]
    }
   ],
   "source": [
    "# and | or\n",
    "\n",
    "if 1 == 1 or 2 == 3:  # or necesita que solo una condición sea True\n",
    "    print(\"hola\")\n",
    "else:\n",
    "    print(\"adios\")"
   ]
  },
  {
   "cell_type": "code",
   "execution_count": 60,
   "metadata": {},
   "outputs": [
    {
     "output_type": "stream",
     "name": "stdout",
     "text": [
      "adios\n"
     ]
    }
   ],
   "source": [
    "if False or False and True:\n",
    "    print(\"hola\")\n",
    "else:\n",
    "    print(\"adios\")"
   ]
  },
  {
   "cell_type": "code",
   "execution_count": 62,
   "metadata": {},
   "outputs": [
    {
     "output_type": "stream",
     "name": "stdout",
     "text": [
      "hola\n"
     ]
    }
   ],
   "source": [
    "if ((1 == 2) or (2 == 2)) and (2 == 2):\n",
    "    print(\"hola\")\n",
    "else:\n",
    "    print(\"adios\")"
   ]
  },
  {
   "cell_type": "code",
   "execution_count": 68,
   "metadata": {},
   "outputs": [
    {
     "output_type": "stream",
     "name": "stdout",
     "text": [
      "hola\n"
     ]
    }
   ],
   "source": [
    "if 1==2 or 1==2 or (2==2 and 2==2):\n",
    "    print(\"hola\")\n",
    "else:\n",
    "    print(\"adios\")"
   ]
  },
  {
   "cell_type": "code",
   "execution_count": 82,
   "metadata": {},
   "outputs": [
    {
     "output_type": "stream",
     "name": "stdout",
     "text": [
      "adios\n"
     ]
    }
   ],
   "source": [
    "if 1==2 or 1==2 or 2==2 and 2==3:\n",
    "    print(\"hola\")\n",
    "else:\n",
    "    print(\"adios\")"
   ]
  },
  {
   "cell_type": "code",
   "execution_count": 72,
   "metadata": {},
   "outputs": [
    {
     "output_type": "stream",
     "name": "stdout",
     "text": [
      "adios\n"
     ]
    }
   ],
   "source": [
    "if 1==2 or 1==2 or (2==2 and 2==3):\n",
    "    print(\"hola\")\n",
    "else:\n",
    "    print(\"adios\")"
   ]
  },
  {
   "cell_type": "code",
   "execution_count": 7,
   "metadata": {},
   "outputs": [
    {
     "output_type": "execute_result",
     "data": {
      "text/plain": [
       "bool"
      ]
     },
     "metadata": {},
     "execution_count": 7
    }
   ],
   "source": [
    "type(False)"
   ]
  },
  {
   "cell_type": "code",
   "execution_count": 8,
   "metadata": {},
   "outputs": [
    {
     "output_type": "execute_result",
     "data": {
      "text/plain": [
       "True"
      ]
     },
     "metadata": {},
     "execution_count": 8
    }
   ],
   "source": [
    "not(False)"
   ]
  },
  {
   "cell_type": "code",
   "execution_count": 80,
   "metadata": {},
   "outputs": [
    {
     "output_type": "stream",
     "name": "stdout",
     "text": [
      "adios\n"
     ]
    }
   ],
   "source": [
    "if False or True and not(False):\n",
    "    print(\"hola\")\n",
    "else:\n",
    "    print(\"adios\")"
   ]
  },
  {
   "cell_type": "code",
   "execution_count": 81,
   "metadata": {},
   "outputs": [
    {
     "output_type": "stream",
     "name": "stdout",
     "text": [
      "adios\n"
     ]
    }
   ],
   "source": [
    "if False or False or True and False:\n",
    "    print(\"hola\")\n",
    "else:\n",
    "    print(\"adios\")"
   ]
  },
  {
   "cell_type": "code",
   "execution_count": 89,
   "metadata": {},
   "outputs": [
    {
     "output_type": "stream",
     "name": "stdout",
     "text": [
      "hola\n"
     ]
    }
   ],
   "source": [
    "if 1==2 or 2==2 or 2==1 and 2==1:\n",
    "    print(\"hola\")\n",
    "else:\n",
    "    print(\"adios\")"
   ]
  },
  {
   "cell_type": "code",
   "execution_count": 90,
   "metadata": {},
   "outputs": [
    {
     "output_type": "stream",
     "name": "stdout",
     "text": [
      "hola\n"
     ]
    }
   ],
   "source": [
    "if 1==2 or 2==1 or 2==2 and 2==2:\n",
    "    print(\"hola\")\n",
    "else:\n",
    "    print(\"adios\")"
   ]
  },
  {
   "cell_type": "code",
   "execution_count": 91,
   "metadata": {},
   "outputs": [
    {
     "output_type": "stream",
     "name": "stdout",
     "text": [
      "2\n"
     ]
    }
   ],
   "source": [
    "if 1==2 or 2==1 or (True):\n",
    "    print(2)"
   ]
  },
  {
   "source": [
    "if 1==2 or (2==1 and 7==7 and 2>1 and 4>4):\n",
    "    print(2)\n",
    "else:\n",
    "    print(False)"
   ],
   "cell_type": "code",
   "metadata": {},
   "execution_count": 93,
   "outputs": [
    {
     "output_type": "stream",
     "name": "stdout",
     "text": [
      "False\n"
     ]
    }
   ]
  },
  {
   "cell_type": "code",
   "execution_count": 95,
   "metadata": {},
   "outputs": [
    {
     "output_type": "stream",
     "name": "stdout",
     "text": [
      "2\n"
     ]
    }
   ],
   "source": [
    "if 1==2 or (2==2 and 7==7 and 2>1) or (2==2 and 4>4):\n",
    "    print(2)\n",
    "else:\n",
    "    print(False)"
   ]
  },
  {
   "cell_type": "code",
   "execution_count": null,
   "metadata": {},
   "outputs": [],
   "source": [
    "if 1==2 or (2==2 and 7==7 and 2>1) or (2==2 and 4>4):\n",
    "    print(2)\n",
    "else:\n",
    "    print(False)"
   ]
  },
  {
   "cell_type": "code",
   "execution_count": 96,
   "metadata": {},
   "outputs": [
    {
     "output_type": "stream",
     "name": "stdout",
     "text": [
      "2\n"
     ]
    }
   ],
   "source": [
    "if 1!=2 or (2>=2 and 7<=7 and 2>1) or (2==2 and 4<5):\n",
    "    print(2)\n",
    "else:\n",
    "    print(False)"
   ]
  },
  {
   "cell_type": "code",
   "execution_count": 97,
   "metadata": {},
   "outputs": [
    {
     "output_type": "stream",
     "name": "stdout",
     "text": [
      "hola\n"
     ]
    }
   ],
   "source": [
    "if 2:\n",
    "    print(\"hola\")"
   ]
  },
  {
   "cell_type": "code",
   "execution_count": 101,
   "metadata": {},
   "outputs": [],
   "source": [
    "\"\"\" Los elementos en python que son False:\n",
    "\n",
    "- 0 (cero)\n",
    "- Conjuntos vacíos ([], (), {}, \"\", set())\n",
    "- False\n",
    "- None\n",
    "\n",
    "\"\"\"\n",
    "if 0:\n",
    "    print(\"hola\")\n",
    "elif [] or ():\n",
    "    print(\"adios\")\n",
    "elif False:\n",
    "    print(\"difente\")\n",
    "elif None:\n",
    "    print(None)\n"
   ]
  },
  {
   "cell_type": "code",
   "execution_count": 102,
   "metadata": {},
   "outputs": [
    {
     "output_type": "stream",
     "name": "stdout",
     "text": [
      "True\n"
     ]
    }
   ],
   "source": [
    "if -5815:\n",
    "    print(True)"
   ]
  },
  {
   "cell_type": "code",
   "execution_count": 103,
   "metadata": {},
   "outputs": [
    {
     "output_type": "stream",
     "name": "stdout",
     "text": [
      "3\n"
     ]
    }
   ],
   "source": [
    "lista = [0, False, \"Hola\"]\n",
    "if lista[0]:\n",
    "    print(\"1\")\n",
    "elif lista[1]:\n",
    "    print(2)\n",
    "elif lista[2]:\n",
    "    print(3)"
   ]
  },
  {
   "cell_type": "code",
   "execution_count": 10,
   "metadata": {},
   "outputs": [
    {
     "output_type": "stream",
     "name": "stdout",
     "text": [
      "Hola\n"
     ]
    }
   ],
   "source": [
    "lista = [0, False, \"Hola\"]\n",
    "if lista[0]:\n",
    "    print(\"1\")\n",
    "if lista[1]:\n",
    "    print(2)\n",
    "if lista[2]:\n",
    "    print(lista[2])"
   ]
  },
  {
   "cell_type": "code",
   "execution_count": 105,
   "metadata": {},
   "outputs": [
    {
     "output_type": "stream",
     "name": "stdout",
     "text": [
      "1\n2\n3\n"
     ]
    }
   ],
   "source": [
    "lista = [1, True, \"Hola\"]\n",
    "if lista[0]:\n",
    "    print(\"1\")\n",
    "if lista[1]:\n",
    "    print(2)\n",
    "if lista[2]:\n",
    "    print(3)"
   ]
  },
  {
   "cell_type": "code",
   "execution_count": 106,
   "metadata": {},
   "outputs": [
    {
     "output_type": "stream",
     "name": "stdout",
     "text": [
      "1\n"
     ]
    }
   ],
   "source": [
    "lista = [1, True, \"Hola\"]\n",
    "if lista[0]:\n",
    "    print(\"1\")\n",
    "elif lista[1]:\n",
    "    print(2)\n",
    "elif lista[2]:\n",
    "    print(3)"
   ]
  },
  {
   "source": [
    "### Boolean"
   ],
   "cell_type": "markdown",
   "metadata": {}
  },
  {
   "cell_type": "code",
   "execution_count": null,
   "metadata": {},
   "outputs": [],
   "source": [
    "# and solo devolverá True si TODOS son True\n",
    "True and False"
   ]
  },
  {
   "cell_type": "code",
   "execution_count": null,
   "metadata": {},
   "outputs": [],
   "source": [
    "# or devolverá True si UNO es True"
   ]
  },
  {
   "cell_type": "code",
   "execution_count": null,
   "metadata": {},
   "outputs": [],
   "source": [
    "# Sinónimos de False para las condiciones:\n",
    "# None\n",
    "# False\n",
    "# 0 (int or float)\n",
    "# Cualquier colección vacía --> [], \"\", (), {}\n",
    "\n",
    "# El None no actúa como un número al compararlo con otro número\n",
    "\"\"\"\n",
    "El True lo toma como un numérico 1\n",
    "\"\"\""
   ]
  },
  {
   "cell_type": "code",
   "execution_count": 107,
   "metadata": {},
   "outputs": [
    {
     "output_type": "stream",
     "name": "stdout",
     "text": [
      "hola\nadios\ndifente\nNone\n"
     ]
    }
   ],
   "source": [
    "if (0 and 1) or 2 or (1 and ()):\n",
    "    print(\"hola\")\n",
    "if [] or () and None and 1 or 2:\n",
    "    print(\"adios\")\n",
    "if False and True or True:\n",
    "    print(\"difente\")\n",
    "if None or False or 0 or 1 and 1:\n",
    "    print(None)"
   ]
  },
  {
   "cell_type": "code",
   "execution_count": 108,
   "metadata": {},
   "outputs": [
    {
     "output_type": "stream",
     "name": "stdout",
     "text": [
      "hola\nadios\ndifente\nNone\n"
     ]
    }
   ],
   "source": [
    "if False or True or False:\n",
    "    print(\"hola\")\n",
    "if False or False or True:\n",
    "    print(\"adios\")\n",
    "if False or True:\n",
    "    print(\"difente\")\n",
    "if False or False or False or True:\n",
    "    print(None)"
   ]
  },
  {
   "cell_type": "code",
   "execution_count": 109,
   "metadata": {},
   "outputs": [
    {
     "output_type": "stream",
     "name": "stdout",
     "text": [
      "hola\nadios\ndifente\nNone\n"
     ]
    }
   ],
   "source": [
    "if True:\n",
    "    print(\"hola\")\n",
    "if [] or () and None and 1 or 2:\n",
    "    print(\"adios\")\n",
    "if False and True or True:\n",
    "    print(\"difente\")\n",
    "if None or False or 0 or 1 and 1:\n",
    "    print(None)"
   ]
  },
  {
   "cell_type": "code",
   "execution_count": null,
   "metadata": {},
   "outputs": [],
   "source": [
    "if (0 and 1) or (False) or (1 and ()):\n",
    "    print(\"hola\")\n",
    "if [] or () and None and 1 or 2:\n",
    "    print(\"adios\")\n",
    "if False and True or True:\n",
    "    print(\"difente\")\n",
    "if None or False or 0 or 1 and 1:\n",
    "    print(None)"
   ]
  },
  {
   "cell_type": "code",
   "execution_count": 111,
   "metadata": {},
   "outputs": [
    {
     "output_type": "stream",
     "name": "stdout",
     "text": [
      "1\n"
     ]
    }
   ],
   "source": [
    "if 2==2 and not 3==3 or 1==1:\n",
    "    print(1)"
   ]
  },
  {
   "cell_type": "code",
   "execution_count": 112,
   "metadata": {},
   "outputs": [
    {
     "output_type": "stream",
     "name": "stdout",
     "text": [
      "1\n"
     ]
    }
   ],
   "source": [
    "if True and False or True:\n",
    "    print(1)"
   ]
  },
  {
   "cell_type": "code",
   "execution_count": 113,
   "metadata": {},
   "outputs": [],
   "source": [
    "if not 2==2 and 3==3 or not 1==1:\n",
    "    print(1)\n",
    "    "
   ]
  },
  {
   "cell_type": "code",
   "execution_count": null,
   "metadata": {},
   "outputs": [],
   "source": [
    "if False and True or False:\n",
    "    print(1)\n",
    "    "
   ]
  },
  {
   "cell_type": "markdown",
   "metadata": {},
   "source": [
    "# Bucles For, While"
   ]
  },
  {
   "source": [
    "# Lista alturas\n"
   ],
   "cell_type": "code",
   "metadata": {},
   "execution_count": null,
   "outputs": []
  },
  {
   "cell_type": "code",
   "execution_count": 115,
   "metadata": {},
   "outputs": [
    {
     "output_type": "stream",
     "name": "stdout",
     "text": [
      "2\nx\n[6]\n"
     ]
    }
   ],
   "source": [
    "lista = [2, \"x\", [6]]\n",
    "print(lista[0])\n",
    "print(lista[1])\n",
    "print(lista[2])"
   ]
  },
  {
   "cell_type": "code",
   "execution_count": 116,
   "metadata": {},
   "outputs": [
    {
     "output_type": "stream",
     "name": "stdout",
     "text": [
      "2\nx\n[6]\nfin\n"
     ]
    }
   ],
   "source": [
    "lista = [2, \"x\", [6]]\n",
    "\n",
    "for x in lista:\n",
    "    print(x)\n",
    "\n",
    "print(\"fin\")"
   ]
  },
  {
   "cell_type": "code",
   "execution_count": 119,
   "metadata": {},
   "outputs": [
    {
     "output_type": "stream",
     "name": "stdout",
     "text": [
      "1\n0\n6\n"
     ]
    }
   ],
   "source": [
    "lista = [2, 1, 7]\n",
    "\n",
    "# Mostrar todos los elementos de la lista restándoles 1\n",
    "for elem in lista:\n",
    "    print(\"--------\")\n",
    "    print(elem - 1)"
   ]
  },
  {
   "cell_type": "code",
   "execution_count": 121,
   "metadata": {},
   "outputs": [
    {
     "output_type": "stream",
     "name": "stdout",
     "text": [
      "xF\nyF\nzF\n['x', 'y', 'z']\n"
     ]
    }
   ],
   "source": [
    "lista = [\"x\", \"y\", \"z\"]\n",
    "\n",
    "# Mostrar todos los elementos de la lista concatenándoles \"F\"\n",
    "for elem in lista:\n",
    "    print(elem + \"F\")\n",
    "\n",
    "print(lista)"
   ]
  },
  {
   "cell_type": "code",
   "execution_count": 122,
   "metadata": {},
   "outputs": [
    {
     "output_type": "stream",
     "name": "stdout",
     "text": [
      "XF\n"
     ]
    },
    {
     "output_type": "error",
     "ename": "TypeError",
     "evalue": "unsupported operand type(s) for +: 'int' and 'str'",
     "traceback": [
      "\u001b[1;31m---------------------------------------------------------------------------\u001b[0m",
      "\u001b[1;31mTypeError\u001b[0m                                 Traceback (most recent call last)",
      "\u001b[1;32m<ipython-input-122-78464006e10d>\u001b[0m in \u001b[0;36m<module>\u001b[1;34m\u001b[0m\n\u001b[0;32m      3\u001b[0m \u001b[1;31m# Mostrar todos los elementos de la lista concatenándoles \"F\"\u001b[0m\u001b[1;33m\u001b[0m\u001b[1;33m\u001b[0m\u001b[0m\n\u001b[0;32m      4\u001b[0m \u001b[1;32mfor\u001b[0m \u001b[0mvalor_del_elemento\u001b[0m \u001b[1;32min\u001b[0m \u001b[0mtupla\u001b[0m\u001b[1;33m:\u001b[0m\u001b[1;33m\u001b[0m\u001b[0m\n\u001b[1;32m----> 5\u001b[1;33m     \u001b[0mprint\u001b[0m\u001b[1;33m(\u001b[0m\u001b[0mvalor_del_elemento\u001b[0m \u001b[1;33m+\u001b[0m \u001b[1;34m\"F\"\u001b[0m\u001b[1;33m)\u001b[0m\u001b[1;33m\u001b[0m\u001b[0m\n\u001b[0m",
      "\u001b[1;31mTypeError\u001b[0m: unsupported operand type(s) for +: 'int' and 'str'"
     ]
    }
   ],
   "source": [
    "tupla = (\"X\", 1, \"G\")\n",
    "\n",
    "# Mostrar todos los elementos de la lista concatenándoles \"F\"\n",
    "for valor_del_elemento in tupla:\n",
    "    print(valor_del_elemento + \"F\")"
   ]
  },
  {
   "cell_type": "code",
   "execution_count": 124,
   "metadata": {},
   "outputs": [
    {
     "output_type": "stream",
     "name": "stdout",
     "text": [
      "XF\n1F\nGF\n"
     ]
    }
   ],
   "source": [
    "tupla = (\"X\", 1, \"G\")\n",
    "\n",
    "# Mostrar todos los elementos de la lista concatenándoles \"F\"\n",
    "for valor_del_elemento in tupla:\n",
    "    print(str(valor_del_elemento) + \"F\")"
   ]
  },
  {
   "cell_type": "code",
   "execution_count": 12,
   "metadata": {},
   "outputs": [
    {
     "output_type": "stream",
     "name": "stdout",
     "text": [
      "{1, 'X', 'G'}\n1F\nXF\nGF\n"
     ]
    }
   ],
   "source": [
    "tupla = (\"X\", 1, \"G\")\n",
    "tupla_set = set(tupla)\n",
    "print(tupla_set)\n",
    "\n",
    "# Mostrar todos los elementos de la lista concatenándoles \"F\"\n",
    "for valor_del_elemento in tupla_set:\n",
    "    print(str(valor_del_elemento) + \"F\")"
   ]
  },
  {
   "cell_type": "code",
   "execution_count": 129,
   "metadata": {},
   "outputs": [
    {
     "output_type": "stream",
     "name": "stdout",
     "text": [
      "1F\n"
     ]
    }
   ],
   "source": [
    "tupla = (\"X\", 1, \"G\")\n",
    "\n",
    "# Mostrar todos los elementos de la lista concatenándoles \"F\"\n",
    "for valor_del_elemento in tupla[1:2]:\n",
    "    if valor_del_elemento == 1:\n",
    "        print(str(valor_del_elemento) + \"F\")"
   ]
  },
  {
   "cell_type": "code",
   "execution_count": 13,
   "metadata": {},
   "outputs": [
    {
     "output_type": "stream",
     "name": "stdout",
     "text": [
      "x: 5\ny: [5]\n"
     ]
    }
   ],
   "source": [
    "lista = [2, 4, 5, 8]\n",
    "x = lista[2]  # esto es un escalar Entero\n",
    "y = lista[2:3]  # esto sigue siendo lista\n",
    "print(\"x:\", x)\n",
    "print(\"y:\", y)  "
   ]
  },
  {
   "cell_type": "code",
   "execution_count": 130,
   "metadata": {},
   "outputs": [
    {
     "output_type": "stream",
     "name": "stdout",
     "text": [
      "[2, 4]\n[6, '8']\n"
     ]
    }
   ],
   "source": [
    "lista = [[2, 4], [6, \"8\"]]\n",
    "\n",
    "for x in lista:\n",
    "    print(x)"
   ]
  },
  {
   "cell_type": "code",
   "execution_count": 135,
   "metadata": {},
   "outputs": [
    {
     "output_type": "stream",
     "name": "stdout",
     "text": [
      "[2, 4]\nx\n2\n"
     ]
    },
    {
     "output_type": "error",
     "ename": "TypeError",
     "evalue": "object of type 'int' has no len()",
     "traceback": [
      "\u001b[1;31m---------------------------------------------------------------------------\u001b[0m",
      "\u001b[1;31mTypeError\u001b[0m                                 Traceback (most recent call last)",
      "\u001b[1;32m<ipython-input-135-903dba0f38d6>\u001b[0m in \u001b[0;36m<module>\u001b[1;34m\u001b[0m\n\u001b[0;32m      3\u001b[0m \u001b[1;32mfor\u001b[0m \u001b[0mx\u001b[0m \u001b[1;32min\u001b[0m \u001b[0mlista\u001b[0m\u001b[1;33m:\u001b[0m\u001b[1;33m\u001b[0m\u001b[0m\n\u001b[0;32m      4\u001b[0m     \u001b[0mprint\u001b[0m\u001b[1;33m(\u001b[0m\u001b[0mx\u001b[0m\u001b[1;33m)\u001b[0m\u001b[1;33m\u001b[0m\u001b[0m\n\u001b[1;32m----> 5\u001b[1;33m     \u001b[1;32mif\u001b[0m \u001b[0mlen\u001b[0m\u001b[1;33m(\u001b[0m\u001b[0mx\u001b[0m\u001b[1;33m)\u001b[0m \u001b[1;33m>=\u001b[0m \u001b[1;36m3\u001b[0m\u001b[1;33m:\u001b[0m\u001b[1;33m\u001b[0m\u001b[0m\n\u001b[0m\u001b[0;32m      6\u001b[0m         \u001b[0mprint\u001b[0m\u001b[1;33m(\u001b[0m\u001b[0mx\u001b[0m\u001b[1;33m)\u001b[0m\u001b[1;33m\u001b[0m\u001b[0m\n\u001b[0;32m      7\u001b[0m \u001b[1;33m\u001b[0m\u001b[0m\n",
      "\u001b[1;31mTypeError\u001b[0m: object of type 'int' has no len()"
     ]
    }
   ],
   "source": [
    "lista = [[2, 4], \"x\", 2, [6, \"8\"]]\n",
    "\n",
    "for x in lista:\n",
    "    print(x)\n",
    "    if len(x) >= 3:\n",
    "        print(x)\n",
    "\n",
    "print(\"fuera del for\")"
   ]
  },
  {
   "cell_type": "code",
   "execution_count": 138,
   "metadata": {},
   "outputs": [
    {
     "output_type": "stream",
     "name": "stdout",
     "text": [
      "primer print [2, 4]\n-------------\nprimer print xyz\nsegundo print xyz\n-------------\nprimer print 2\n"
     ]
    },
    {
     "output_type": "error",
     "ename": "TypeError",
     "evalue": "object of type 'int' has no len()",
     "traceback": [
      "\u001b[1;31m---------------------------------------------------------------------------\u001b[0m",
      "\u001b[1;31mTypeError\u001b[0m                                 Traceback (most recent call last)",
      "\u001b[1;32m<ipython-input-138-59a40b7a8e5e>\u001b[0m in \u001b[0;36m<module>\u001b[1;34m\u001b[0m\n\u001b[0;32m      3\u001b[0m \u001b[1;32mfor\u001b[0m \u001b[0mx\u001b[0m \u001b[1;32min\u001b[0m \u001b[0mlista\u001b[0m\u001b[1;33m:\u001b[0m\u001b[1;33m\u001b[0m\u001b[0m\n\u001b[0;32m      4\u001b[0m     \u001b[0mprint\u001b[0m\u001b[1;33m(\u001b[0m\u001b[1;34m\"primer print\"\u001b[0m\u001b[1;33m,\u001b[0m \u001b[0mx\u001b[0m\u001b[1;33m)\u001b[0m\u001b[1;33m\u001b[0m\u001b[0m\n\u001b[1;32m----> 5\u001b[1;33m     \u001b[1;32mif\u001b[0m \u001b[0mlen\u001b[0m\u001b[1;33m(\u001b[0m\u001b[0mx\u001b[0m\u001b[1;33m)\u001b[0m \u001b[1;33m>=\u001b[0m \u001b[1;36m3\u001b[0m\u001b[1;33m:\u001b[0m  \u001b[1;31m# el error para la ejecución de python\u001b[0m\u001b[1;33m\u001b[0m\u001b[0m\n\u001b[0m\u001b[0;32m      6\u001b[0m         \u001b[0mprint\u001b[0m\u001b[1;33m(\u001b[0m\u001b[1;34m\"segundo print\"\u001b[0m\u001b[1;33m,\u001b[0m \u001b[0mx\u001b[0m\u001b[1;33m)\u001b[0m\u001b[1;33m\u001b[0m\u001b[0m\n\u001b[0;32m      7\u001b[0m     \u001b[0mprint\u001b[0m\u001b[1;33m(\u001b[0m\u001b[1;34m\"-------------\"\u001b[0m\u001b[1;33m)\u001b[0m\u001b[1;33m\u001b[0m\u001b[0m\n",
      "\u001b[1;31mTypeError\u001b[0m: object of type 'int' has no len()"
     ]
    }
   ],
   "source": [
    "lista = [[2, 4], \"xyz\", 2, [6, \"8\"]]\n",
    "\n",
    "for x in lista:\n",
    "    print(\"primer print\", x)\n",
    "    if len(x) >= 3:  # el error para la ejecución de python\n",
    "        print(\"segundo print\", x)\n",
    "    print(\"-------------\")\n",
    "\n",
    "print(\"fuera del for\")"
   ]
  },
  {
   "cell_type": "code",
   "execution_count": 15,
   "metadata": {},
   "outputs": [
    {
     "output_type": "stream",
     "name": "stdout",
     "text": [
      "<class 'int'>\n"
     ]
    }
   ],
   "source": [
    "x = 2\n",
    "\n",
    "print(type(x))"
   ]
  },
  {
   "cell_type": "code",
   "execution_count": 16,
   "metadata": {},
   "outputs": [
    {
     "output_type": "stream",
     "name": "stdout",
     "text": [
      "x es Entero o Float\n"
     ]
    }
   ],
   "source": [
    "x = 2\n",
    "if type(x) == int or type(x) == float:\n",
    "    print(\"x es Entero o Float\")"
   ]
  },
  {
   "cell_type": "code",
   "execution_count": 142,
   "metadata": {},
   "outputs": [
    {
     "output_type": "stream",
     "name": "stdout",
     "text": [
      "x es Entero\n"
     ]
    }
   ],
   "source": [
    "x = 2\n",
    "if isinstance(x, int):  # built-in\n",
    "    print(\"x es Entero\")"
   ]
  },
  {
   "cell_type": "code",
   "execution_count": 143,
   "metadata": {},
   "outputs": [
    {
     "output_type": "stream",
     "name": "stdout",
     "text": [
      "x es Entero\n"
     ]
    }
   ],
   "source": [
    "x = 2\n",
    "if isinstance(x,(int, float)):\n",
    "    print(\"x es Entero\")"
   ]
  },
  {
   "cell_type": "code",
   "execution_count": 145,
   "metadata": {},
   "outputs": [
    {
     "output_type": "stream",
     "name": "stdout",
     "text": [
      "[2, 4]\n[6, '8']\nfuera del for\n"
     ]
    }
   ],
   "source": [
    "lista = [[2, 4], \"xyz\", 2, [6, \"8\"]]\n",
    "\n",
    "# Mostrar solo los que sean Listas\n",
    "\n",
    "for x in lista:\n",
    "    if isinstance(x, list):  # ¿es x de tipo lista? \n",
    "        print(x)\n",
    "\n",
    "print(\"fuera del for\")"
   ]
  },
  {
   "cell_type": "code",
   "execution_count": 147,
   "metadata": {},
   "outputs": [
    {
     "output_type": "stream",
     "name": "stdout",
     "text": [
      "1.66\n1.54\n1.52\n1.6\n1.64\n"
     ]
    }
   ],
   "source": [
    "lista_alturas = [1.66,1.82,1.73,1.75,1.54,1.70,1.70,1.80,1.81,1.87, 1.86, 1.52, 1.70, 1.78, 1.73, 1.78, 1.60, 1.77,1.80, 1.64, 1.79]\n",
    "\n",
    "# mostrar solo las alturas menores a 1.7\n",
    "\n",
    "for altura in lista_alturas:\n",
    "    if altura < 1.7:\n",
    "        print(altura)\n"
   ]
  },
  {
   "cell_type": "code",
   "execution_count": 150,
   "metadata": {},
   "outputs": [
    {
     "output_type": "stream",
     "name": "stdout",
     "text": [
      "1.66\n1.54\n1.52\n1.6\n1.64\n"
     ]
    },
    {
     "output_type": "execute_result",
     "data": {
      "text/plain": [
       "[1.66, 1.54, 1.52, 1.6, 1.64]"
      ]
     },
     "metadata": {},
     "execution_count": 150
    }
   ],
   "source": [
    "lista_alturas = [1.66,1.82,1.73,1.75,1.54,1.70,1.70,1.80,1.81,1.87, 1.86, 1.52, 1.70, 1.78, 1.73, 1.78, 1.60, 1.77,1.80, 1.64, 1.79]\n",
    "\n",
    "# mostrar solo las alturas menores a 1.7 \n",
    "# & guardar en una variable 'alturas_menores' aquellas\n",
    "\n",
    "alturas_menores = []\n",
    "\n",
    "for altura in lista_alturas:\n",
    "    if altura < 1.7:\n",
    "        alturas_menores.append(altura)\n",
    "        print(altura)\n",
    "\n",
    "alturas_menores"
   ]
  },
  {
   "cell_type": "code",
   "execution_count": 155,
   "metadata": {},
   "outputs": [
    {
     "output_type": "stream",
     "name": "stdout",
     "text": [
      "1.66\n1.54\n1.52\n1.6\n1.64\n"
     ]
    },
    {
     "output_type": "execute_result",
     "data": {
      "text/plain": [
       "[1.66, 1.54, 1.52, 1.6, 1.64]"
      ]
     },
     "metadata": {},
     "execution_count": 155
    }
   ],
   "source": [
    "lista_alturas = [1.66,1.82,1.73,1.75,1.54,1.70,1.70,1.80,1.81,1.87, 1.86, \"x\", None, 200, 1.52, 1.70, 1.78, 1.73, 1.78, 1.60, 1.77,1.80, 1.64, 1.79, 164]\n",
    "\n",
    "# mostrar solo las alturas menores a 1.7 \n",
    "# & guardar en una variable 'alturas_menores' aquellas\n",
    "\n",
    "alturas_menores = []\n",
    "\n",
    "# si isinstance se pone en primer lugar, la condición del for solo se va a hacer para aquellos que sea True el isintance\n",
    "for altura in lista_alturas:\n",
    "    if isinstance(altura, float) and altura < 1.7:  \n",
    "        alturas_menores.append(altura)\n",
    "        print(altura)\n",
    "\n",
    "alturas_menores"
   ]
  },
  {
   "cell_type": "code",
   "execution_count": 158,
   "metadata": {},
   "outputs": [
    {
     "output_type": "stream",
     "name": "stdout",
     "text": [
      "1.66\n1.54\nEste valor es Entero: 200\n1.52\n1.6\n1.64\nEste valor es Entero: 164\n"
     ]
    },
    {
     "output_type": "execute_result",
     "data": {
      "text/plain": [
       "[1.66, 1.54, 1.52, 1.6, 1.64]"
      ]
     },
     "metadata": {},
     "execution_count": 158
    }
   ],
   "source": [
    "lista_alturas = [1.66,1.82,1.73,1.75,1.54,1.70,1.70,1.80,1.81,1.87, 1.86, 1.52, 1.70, 1.78, 1.73, \"x\", None, 200, 1.78, 1.60, 1.77,1.80, 1.64,1.85, 1.79, 1.63, 164]\n",
    "\n",
    "# mostrar solo las alturas menores a 1.7 \n",
    "# & guardar en una variable 'alturas_menores' aquellas\n",
    "# & mostrar los valores que sean enteros\n",
    "alturas_menores = []\n",
    "\n",
    "# si isinstance se pone en primer lugar, la condición del for solo se va a hacer para aquellos que sea True el isintance\n",
    "for altura in lista_alturas:\n",
    "    if isinstance(altura, (float,int)):\n",
    "        if isinstance(altura, int):  # Es de tipo int\n",
    "            print(\"Este valor es Entero:\", altura)\n",
    "        elif altura < 1.7:  # Es de tipo float\n",
    "            alturas_menores.append(altura)\n",
    "            print(altura)\n",
    "\n",
    "alturas_menores"
   ]
  },
  {
   "cell_type": "code",
   "execution_count": 161,
   "metadata": {},
   "outputs": [
    {
     "output_type": "stream",
     "name": "stdout",
     "text": [
      "Pepe\nJuan\nLorena\nRocío\nEND\n"
     ]
    }
   ],
   "source": [
    "lista_listas = [[\"Pepe\", 200], [\"Juan\", 300], [\"Lorena\", 150], [\"Rocío\", 500]]\n",
    "\n",
    "# Mostrar sólo los nombres:\n",
    "\n",
    "for x in lista_listas:\n",
    "    print(x[0])\n",
    "\n",
    "print(\"END\")"
   ]
  },
  {
   "cell_type": "code",
   "execution_count": 162,
   "metadata": {},
   "outputs": [
    {
     "output_type": "stream",
     "name": "stdout",
     "text": [
      "Pepe : 200\nJuan : 300\nLorena : 150\nRocío : 500\nEND\n"
     ]
    }
   ],
   "source": [
    "lista_listas = [[\"Pepe\", 200], [\"Juan\", 300], [\"Lorena\", 150], [\"Rocío\", 500]]\n",
    "\n",
    "# Mostrar sólo los nombres : dinero:\n",
    "\n",
    "for x in lista_listas:\n",
    "    print(x[0], \":\", x[1])\n",
    "\n",
    "print(\"END\")"
   ]
  },
  {
   "source": [
    "range en for"
   ],
   "cell_type": "markdown",
   "metadata": {}
  },
  {
   "cell_type": "code",
   "execution_count": 164,
   "metadata": {},
   "outputs": [
    {
     "output_type": "stream",
     "name": "stdout",
     "text": [
      "[0, 1]\n"
     ]
    }
   ],
   "source": [
    "print(list(range(2)))"
   ]
  },
  {
   "cell_type": "code",
   "execution_count": 165,
   "metadata": {},
   "outputs": [
    {
     "output_type": "stream",
     "name": "stdout",
     "text": [
      "[0, 1, 2, 3, 4, 5, 6, 7, 8, 9, 10, 11, 12, 13, 14, 15, 16, 17, 18, 19]\n"
     ]
    }
   ],
   "source": [
    "print(list(range(20)))"
   ]
  },
  {
   "cell_type": "code",
   "execution_count": 168,
   "metadata": {},
   "outputs": [
    {
     "output_type": "stream",
     "name": "stdout",
     "text": [
      "[0, 1, 2]\n"
     ]
    },
    {
     "output_type": "execute_result",
     "data": {
      "text/plain": [
       "range(0, 3)"
      ]
     },
     "metadata": {},
     "execution_count": 168
    }
   ],
   "source": [
    "lista = [\"x\", \"y\", \"z\"]\n",
    "rango_de_lista = range(len(lista))\n",
    "print(list(rango_de_lista))\n",
    "rango_de_lista"
   ]
  },
  {
   "cell_type": "code",
   "execution_count": 20,
   "metadata": {},
   "outputs": [
    {
     "output_type": "execute_result",
     "data": {
      "text/plain": [
       "[0, 1, 2, 3]"
      ]
     },
     "metadata": {},
     "execution_count": 20
    }
   ],
   "source": [
    "# [start:stop:step]\n",
    "\n",
    "list(range(0, 4, 1))"
   ]
  },
  {
   "cell_type": "code",
   "execution_count": 21,
   "metadata": {},
   "outputs": [
    {
     "output_type": "execute_result",
     "data": {
      "text/plain": [
       "[0, 2]"
      ]
     },
     "metadata": {},
     "execution_count": 21
    }
   ],
   "source": [
    "list(range(0, 4, 2))"
   ]
  },
  {
   "cell_type": "code",
   "execution_count": 22,
   "metadata": {},
   "outputs": [
    {
     "output_type": "execute_result",
     "data": {
      "text/plain": [
       "[1, 3]"
      ]
     },
     "metadata": {},
     "execution_count": 22
    }
   ],
   "source": [
    "list(range(1, 4, 2))"
   ]
  },
  {
   "cell_type": "code",
   "execution_count": 169,
   "metadata": {},
   "outputs": [
    {
     "output_type": "stream",
     "name": "stdout",
     "text": [
      "[0, 1, 2, 3]\n"
     ]
    }
   ],
   "source": [
    "lista_listas = [[\"Pepe\", 200], [\"Juan\", 300], [\"Lorena\", 150], [\"Rocío\", 500]]\n",
    "\n",
    "print(list(range(len(lista_listas))))"
   ]
  },
  {
   "cell_type": "code",
   "execution_count": 23,
   "metadata": {},
   "outputs": [
    {
     "output_type": "stream",
     "name": "stdout",
     "text": [
      "x\ny\nz\nEND\n"
     ]
    }
   ],
   "source": [
    "lista = [\"x\", \"y\", \"z\"]\n",
    "\n",
    "rango = list(range(len(lista)))\n",
    "\n",
    "# Mostrar cada uno de los elementos\n",
    "for i in rango:\n",
    "    print(lista[i])\n",
    "\n",
    "print(\"END\")"
   ]
  },
  {
   "cell_type": "code",
   "execution_count": null,
   "metadata": {},
   "outputs": [],
   "source": [
    "range(3)"
   ]
  },
  {
   "cell_type": "code",
   "execution_count": 174,
   "metadata": {},
   "outputs": [
    {
     "output_type": "stream",
     "name": "stdout",
     "text": [
      "Pepe\nJuan\nLorena\nRocío\nEND\n"
     ]
    }
   ],
   "source": [
    "lista_listas = [[\"Pepe\", 200], [\"Juan\", 300], [\"Lorena\", 150], [\"Rocío\", 500]]\n",
    "\n",
    "# Mostrar sólo los nombres:\n",
    "\n",
    "for i in range(len(lista_listas)):\n",
    "    print(lista_listas[i][0])\n",
    "\n",
    "print(\"END\")"
   ]
  },
  {
   "cell_type": "code",
   "execution_count": 176,
   "metadata": {},
   "outputs": [
    {
     "output_type": "execute_result",
     "data": {
      "text/plain": [
       "[0, 1, 2, 3]"
      ]
     },
     "metadata": {},
     "execution_count": 176
    }
   ],
   "source": [
    "list(range(4))"
   ]
  },
  {
   "cell_type": "code",
   "execution_count": 179,
   "metadata": {},
   "outputs": [
    {
     "output_type": "stream",
     "name": "stdout",
     "text": [
      "Iteración: 1\nvalor de i: 0\nPepe : 200\n----------\nIteración: 2\nvalor de i: 1\nJuan : 300\n----------\nIteración: 3\nvalor de i: 2\nLorena : 150\n----------\nIteración: 4\nvalor de i: 3\nRocío : 500\n----------\n"
     ]
    }
   ],
   "source": [
    "nombres = [\"Pepe\", \"Juan\", \"Lorena\", \"Rocío\"]\n",
    "dineros = [200, 300, 150, 500]\n",
    "\n",
    "for i in range(len(nombres)):\n",
    "    print(\"Iteración:\", i + 1)\n",
    "    print(\"valor de i:\", i)\n",
    "    print(nombres[i], \":\", dineros[i])\n",
    "    print(\"----------\")"
   ]
  },
  {
   "cell_type": "code",
   "execution_count": 180,
   "metadata": {},
   "outputs": [
    {
     "output_type": "stream",
     "name": "stdout",
     "text": [
      "Pepe\n200\nJuan\n300\nLorena\n150\nRocío\n500\n"
     ]
    }
   ],
   "source": [
    "# for anidado\n",
    "\n",
    "lista_listas = [[\"Pepe\", 200], [\"Juan\", 300], [\"Lorena\", 150], [\"Rocío\", 500]]\n",
    "\n",
    "for _ in lista_listas:\n",
    "    for elem in _:\n",
    "        print(elem)"
   ]
  },
  {
   "cell_type": "code",
   "execution_count": 184,
   "metadata": {},
   "outputs": [
    {
     "output_type": "stream",
     "name": "stdout",
     "text": [
      "Pepe : 200\nJuan : 300\nLorena : 150\nRocío : 500\n"
     ]
    }
   ],
   "source": [
    "# for anidado para mostrar --> nombre : dinero\n",
    "\n",
    "lista_listas = [[\"Pepe\", 200], [\"Juan\", 300], [\"Lorena\", 150], [\"Rocío\", 500]]\n",
    "\n",
    "for elemento_lista in lista_listas:\n",
    "    for elem in elemento_lista:\n",
    "        print(elem, \":\", elemento_lista[1])\n",
    "        break"
   ]
  },
  {
   "cell_type": "code",
   "execution_count": null,
   "metadata": {},
   "outputs": [],
   "source": [
    "lista_nombre_altura = [[\"Gabriel Vázquez Torres\", 1.75], ]"
   ]
  },
  {
   "cell_type": "code",
   "execution_count": 27,
   "metadata": {},
   "outputs": [
    {
     "output_type": "execute_result",
     "data": {
      "text/plain": [
       "[5, 7]"
      ]
     },
     "metadata": {},
     "execution_count": 27
    }
   ],
   "source": [
    "a = [1, 2]\n",
    "b = [4, 5]\n",
    "\n",
    "c = []\n",
    "contador = 0\n",
    "for num in a:\n",
    "    c.append(num + b[contador])\n",
    "    contador += 1\n",
    "c"
   ]
  },
  {
   "cell_type": "code",
   "execution_count": 28,
   "metadata": {},
   "outputs": [
    {
     "output_type": "execute_result",
     "data": {
      "text/plain": [
       "[0, 1]"
      ]
     },
     "metadata": {},
     "execution_count": 28
    }
   ],
   "source": [
    "list(range(len(a)))"
   ]
  },
  {
   "cell_type": "code",
   "execution_count": 29,
   "metadata": {},
   "outputs": [
    {
     "output_type": "execute_result",
     "data": {
      "text/plain": [
       "[5, 7]"
      ]
     },
     "metadata": {},
     "execution_count": 29
    }
   ],
   "source": [
    "a = [1, 2]\n",
    "b = [4, 5]\n",
    "\n",
    "c = []\n",
    "for i in range(len(a)):\n",
    "    c.append(a[i] + b[i])\n",
    "c"
   ]
  },
  {
   "cell_type": "code",
   "execution_count": 30,
   "metadata": {},
   "outputs": [
    {
     "output_type": "stream",
     "name": "stdout",
     "text": [
      "2\n4\n6\n"
     ]
    }
   ],
   "source": [
    "# for normal\n",
    "lista = [2, 4, 6]\n",
    "for elem in lista:  # elem representa el VALOR del elemento\n",
    "    print(elem)"
   ]
  },
  {
   "cell_type": "code",
   "execution_count": null,
   "metadata": {},
   "outputs": [],
   "source": [
    "# for normal con contador\n",
    "\n",
    "# num representa el VALOR del elemento\n",
    "# contador representa la POSICIÓN del elemento\n",
    "c = []\n",
    "contador = 0\n",
    "for num in a:\n",
    "    c.append(num + b[contador])\n",
    "    contador += 1\n",
    "c"
   ]
  },
  {
   "cell_type": "code",
   "execution_count": 31,
   "metadata": {},
   "outputs": [
    {
     "output_type": "stream",
     "name": "stdout",
     "text": [
      "2\n4\n6\n"
     ]
    }
   ],
   "source": [
    "# for range\n",
    "\n",
    "lista = [2, 4, 6]\n",
    "for i in range(len(lista)):  # i representa la POSICIÓN \n",
    "    print(lista[i])"
   ]
  },
  {
   "cell_type": "code",
   "execution_count": 33,
   "metadata": {},
   "outputs": [
    {
     "output_type": "stream",
     "name": "stdout",
     "text": [
      "-------\ni: 0\nelem: 2\n-------\ni: 1\nelem: 4\n-------\ni: 2\nelem: 6\n"
     ]
    }
   ],
   "source": [
    "# Enumerate\n",
    "\n",
    "# i representa la POSICIÓN del elemento y  elem es el VALOR del elemento\n",
    "\n",
    "lista = [2, 4, 6]\n",
    "for i, elem in enumerate(lista): \n",
    "    print(\"-------\")\n",
    "    print(\"i:\", i)\n",
    "    print(\"elem:\", elem)"
   ]
  },
  {
   "cell_type": "code",
   "execution_count": 34,
   "metadata": {},
   "outputs": [
    {
     "output_type": "execute_result",
     "data": {
      "text/plain": [
       "[5, 7]"
      ]
     },
     "metadata": {},
     "execution_count": 34
    }
   ],
   "source": [
    "a = [1, 2]\n",
    "b = [4, 5]\n",
    "\n",
    "c = []\n",
    "for i, elem in enumerate(a):\n",
    "    c.append(elem + b[i])\n",
    "c"
   ]
  },
  {
   "cell_type": "code",
   "execution_count": 38,
   "metadata": {},
   "outputs": [
    {
     "output_type": "stream",
     "name": "stdout",
     "text": [
      "s x\nh f\n"
     ]
    }
   ],
   "source": [
    "a = [1, 2, \"x\", \"f\", 9]\n",
    "b = [4, 5, \"s\", \"h\", 3]\n",
    "\n",
    "for i, elem in enumerate(b):\n",
    "    if type(elem) == str:  # isinstance(elem, str)\n",
    "        print(elem, a[i])"
   ]
  },
  {
   "cell_type": "code",
   "execution_count": 41,
   "metadata": {},
   "outputs": [
    {
     "output_type": "execute_result",
     "data": {
      "text/plain": [
       "[5, 6, 7, 8, 9]"
      ]
     },
     "metadata": {},
     "execution_count": 41
    }
   ],
   "source": [
    "list(range(5, 10))"
   ]
  },
  {
   "cell_type": "code",
   "execution_count": 42,
   "metadata": {},
   "outputs": [
    {
     "output_type": "stream",
     "name": "stdout",
     "text": [
      "s x\nh f\n"
     ]
    }
   ],
   "source": [
    "# el anterior con un for range\n",
    "a = [1, 2, \"x\", \"f\", 9]\n",
    "b = [4, 5, \"s\", \"h\", 3]\n",
    "\n",
    "for pos in range(5):  # range(len(b))\n",
    "    if type(b[pos]) == str:  # isinstance(elem, str)\n",
    "        print(b[pos], a[pos])"
   ]
  },
  {
   "cell_type": "code",
   "execution_count": 45,
   "metadata": {},
   "outputs": [
    {
     "output_type": "stream",
     "name": "stdout",
     "text": [
      "4\n3\n"
     ]
    }
   ],
   "source": [
    "b = [4, 5, \"s\", \"h\", 3]\n",
    "\n",
    "# mostrar los elementos de dos en dos si su tipo es int\n",
    "\n",
    "for pos, v_elem in enumerate(b):\n",
    "    if (pos % 2) == 0 and isinstance(v_elem, int):\n",
    "        print(v_elem)"
   ]
  },
  {
   "cell_type": "code",
   "execution_count": 47,
   "metadata": {},
   "outputs": [
    {
     "output_type": "stream",
     "name": "stdout",
     "text": [
      "4\n"
     ]
    }
   ],
   "source": [
    "b = [4, 5, \"s\", \"h\", 3]\n",
    "\n",
    "# mostrar los elementos int que sean pares\n",
    "\n",
    "for pos, v_elem in enumerate(b):\n",
    "    if  isinstance(v_elem, int) and (v_elem % 2) == 0:  # el orden al ser el tipo un posible problema se pone primero en la condición\n",
    "        print(v_elem)"
   ]
  },
  {
   "cell_type": "code",
   "execution_count": 60,
   "metadata": {},
   "outputs": [
    {
     "output_type": "execute_result",
     "data": {
      "text/plain": [
       "[0, 1, 2, 3, 4, 5, 6, 7]"
      ]
     },
     "metadata": {},
     "execution_count": 60
    }
   ],
   "source": [
    "list(range(8))"
   ]
  },
  {
   "cell_type": "code",
   "execution_count": 63,
   "metadata": {},
   "outputs": [
    {
     "output_type": "stream",
     "name": "stdout",
     "text": [
      "4\ns2\n2\n3\n3\n3\n"
     ]
    },
    {
     "output_type": "execute_result",
     "data": {
      "text/plain": [
       "[4, 5, 's2', 'h1', 3, ['xs'], '3', []]"
      ]
     },
     "metadata": {},
     "execution_count": 63
    }
   ],
   "source": [
    "lista = [4, 5, \"s2\", \"h1\", 3, [\"xs\"], \"3\", []]\n",
    "\n",
    "# 1. mostrar los elementos en posiciones pares (posiciones: 0, 2, 4)\n",
    "# 2. si es string mostrar también el segundo caracter si tiene\n",
    "# 3. si es lista mostrar también el primer elemento si tiene\n",
    "# 4. mostrar sí o sí el quinto elemento (una vez)\n",
    "\n",
    "for i, v_elem in enumerate(lista):\n",
    "    if i % 2 == 0:  # es una posición par (1.)\n",
    "        print(v_elem)\n",
    "        if isinstance(v_elem, str) and len(v_elem) > 1:  # >= 2\n",
    "            print(v_elem[1])  # (2.)\n",
    "        elif isinstance(v_elem, list) and len(v_elem) > 0:  # >= 1\n",
    "            print(v_elem[0])  # (3.)\n",
    "print(lista[4])  # fuera del for para que se ejecute una vez(4.0)\n",
    "\n",
    "lista "
   ]
  },
  {
   "cell_type": "code",
   "execution_count": 64,
   "metadata": {},
   "outputs": [
    {
     "output_type": "stream",
     "name": "stdout",
     "text": [
      "4\n2\n3\n3\n3\n"
     ]
    },
    {
     "output_type": "execute_result",
     "data": {
      "text/plain": [
       "[4, 5, 's2', 'h1', 3, ['xs'], '3', []]"
      ]
     },
     "metadata": {},
     "execution_count": 64
    }
   ],
   "source": [
    "# ** Esto NO muestra un elemento si cumple cualquiera de las 2 condiciones después de comprobar que está en una posición par\n",
    "lista = [[2, 4], 5, \"s2\", \"h1\", 3, [\"xs\"], \"3\", []]\n",
    "\n",
    "# 1. mostrar los elementos en posiciones pares (posiciones: 0, 2, 4)\n",
    "# 2. si es string mostrar también el segundo caracter si tiene\n",
    "# 3. si es lista mostrar también el primer elemento si tiene\n",
    "# 4. mostrar sí o sí el quinto elemento (una vez)\n",
    "# 5. Sin mostrar el string 's2' pero sí '2'\n",
    "\n",
    "for i, v_elem in enumerate(lista):\n",
    "    if i % 2 == 0:  # es una posición par (1.)\n",
    "        if isinstance(v_elem, str) and len(v_elem) > 1:  # >= 2\n",
    "            print(v_elem[1])  # (2.)\n",
    "        elif isinstance(v_elem, list) and len(v_elem) > 0:  # >= 1\n",
    "            print(v_elem[0])  # (3.)\n",
    "        else:\n",
    "            print(v_elem)\n",
    "print(lista[4])  # fuera del for para que se ejecute una vez(4.0)\n",
    "\n",
    "lista "
   ]
  },
  {
   "cell_type": "code",
   "execution_count": 66,
   "metadata": {},
   "outputs": [
    {
     "output_type": "stream",
     "name": "stdout",
     "text": [
      "[2, 4]\n2\n2\n3\n3\n3\n"
     ]
    },
    {
     "output_type": "execute_result",
     "data": {
      "text/plain": [
       "[[2, 4], 5, 's2', 'h1', 3, ['xs'], '3', []]"
      ]
     },
     "metadata": {},
     "execution_count": 66
    }
   ],
   "source": [
    "lista = [[2, 4], 5, \"s2\", \"h1\", 3, [\"xs\"], \"3\", []]\n",
    "\n",
    "# 1. mostrar los elementos en posiciones pares (posiciones: 0, 2, 4)\n",
    "# 2. si es string mostrar también el segundo caracter si tiene\n",
    "# 3. si es lista mostrar también el primer elemento si tiene\n",
    "# 4. mostrar sí o sí el quinto elemento (una vez)\n",
    "# 5. Sin mostrar el string 's2' pero sí '2'\n",
    "\n",
    "for i, v_elem in enumerate(lista):\n",
    "    if i % 2 == 0:  # es una posición par (1.)\n",
    "        if i != 2:  # v_elem != \"s2\"\n",
    "            print(v_elem)\n",
    "        if isinstance(v_elem, str) and len(v_elem) > 1:  # >= 2\n",
    "            print(v_elem[1])  # (2.)\n",
    "        elif isinstance(v_elem, list) and len(v_elem) > 0:  # >= 1\n",
    "            print(v_elem[0])  # (3.)\n",
    "print(lista[4])  # fuera del for para que se ejecute una vez(4.0)\n",
    "\n",
    "lista "
   ]
  },
  {
   "source": [
    "## Funciones"
   ],
   "cell_type": "markdown",
   "metadata": {}
  },
  {
   "cell_type": "code",
   "execution_count": 67,
   "metadata": {},
   "outputs": [],
   "source": [
    "x = 2\n",
    "y = 3\n",
    "\n",
    "suma = x + y"
   ]
  },
  {
   "cell_type": "code",
   "execution_count": 68,
   "metadata": {},
   "outputs": [
    {
     "output_type": "execute_result",
     "data": {
      "text/plain": [
       "'S'"
      ]
     },
     "metadata": {},
     "execution_count": 68
    }
   ],
   "source": [
    "s = \"s\"\n",
    "s.upper()"
   ]
  },
  {
   "cell_type": "code",
   "execution_count": 71,
   "metadata": {},
   "outputs": [
    {
     "output_type": "stream",
     "name": "stdout",
     "text": [
      "Me ejecuto desde dentro de una función\n"
     ]
    }
   ],
   "source": [
    "# def nombre_de_la_funcion():\n",
    "\n",
    "def nombre_de_la_funcion():\n",
    "    print(\"Me ejecuto desde dentro de una función\")\n",
    "\n",
    "nombre_de_la_funcion() #llamar-invocar-ejecutar la funcion"
   ]
  },
  {
   "cell_type": "code",
   "execution_count": 72,
   "metadata": {},
   "outputs": [
    {
     "output_type": "execute_result",
     "data": {
      "text/plain": [
       "<function __main__.nombre_de_la_funcion()>"
      ]
     },
     "metadata": {},
     "execution_count": 72
    }
   ],
   "source": [
    "nombre_de_la_funcion #sin parentesis no se invoca"
   ]
  },
  {
   "cell_type": "code",
   "execution_count": 75,
   "metadata": {},
   "outputs": [],
   "source": [
    "def suma():\n",
    "    x = 5\n",
    "    y = 7\n",
    "    print(x + y)"
   ]
  },
  {
   "cell_type": "code",
   "execution_count": 76,
   "metadata": {},
   "outputs": [
    {
     "output_type": "stream",
     "name": "stdout",
     "text": [
      "12\n"
     ]
    }
   ],
   "source": [
    "suma()"
   ]
  },
  {
   "cell_type": "code",
   "execution_count": 9,
   "metadata": {},
   "outputs": [
    {
     "output_type": "stream",
     "name": "stdout",
     "text": [
      "7\n"
     ]
    }
   ],
   "source": [
    "def suma_con_parametro(nombre_parametro): \n",
    "    print(5 + int(nombre_parametro))\n",
    "suma_con_parametro(2) # no hay que olvidar poener el parametro #suma_con_paramentro(nombre_parametro=2) es lo mismo"
   ]
  },
  {
   "cell_type": "code",
   "execution_count": 92,
   "metadata": {},
   "outputs": [
    {
     "output_type": "stream",
     "name": "stdout",
     "text": [
      "58240\n"
     ]
    }
   ],
   "source": [
    "x = input(\"un número:\")\n",
    "suma_con_parametro(nombre_parametro=x)"
   ]
  },
  {
   "cell_type": "code",
   "execution_count": 97,
   "metadata": {},
   "outputs": [
    {
     "output_type": "stream",
     "name": "stdout",
     "text": [
      "parametro1: -2\nparametro2: 3\nsolo se admiten números mayores a 0\n"
     ]
    }
   ],
   "source": [
    "def multiplicacion_con_parametros(parametro1, parametro2):\n",
    "\n",
    "    print(\"parametro1:\", parametro1)\n",
    "    print(\"parametro2:\", parametro2)\n",
    "    if parametro1 > 0 and parametro2 > 0:\n",
    "        print(parametro1 * parametro2)\n",
    "    else:\n",
    "        print(\"solo se admiten números mayores a 0\")\n",
    "\n",
    "multiplicacion_con_parametros(parametro1=-2, parametro2=3)"
   ]
  },
  {
   "cell_type": "code",
   "execution_count": 7,
   "metadata": {},
   "outputs": [
    {
     "output_type": "stream",
     "name": "stdout",
     "text": [
      "parametro1: 1\nparametro2: 2\n2\n"
     ]
    }
   ],
   "source": [
    "def multiplicacion_con_parametros(parametro1, parametro2):\n",
    "\n",
    "    print(\"parametro1:\", parametro1)\n",
    "    print(\"parametro2:\", parametro2)\n",
    "    if parametro1 > 0 and parametro2 > 0:\n",
    "        print(parametro1 * parametro2)\n",
    "    else:\n",
    "        print(\"solo se admiten números mayores a 0\")\n",
    "\n",
    "param1 = int(input())\n",
    "param2 = int(input())\n",
    "\n",
    "multiplicacion_con_parametros(parametro1=param1, parametro2=param2)"
   ]
  },
  {
   "cell_type": "code",
   "execution_count": null,
   "metadata": {},
   "outputs": [],
   "source": [
    "#repaso dia 4\n",
    "l[1,None,4,0,51,None]\n",
    "for elem in l:\n",
    "    if elem: # esto es para ver si existe(si es verdadero) no va a saltar el none y el 0 si hay 0 y quieres recogerlo como un numero esto es una mala praxis\n",
    "        #cuidado con ` y otros signos que se cuelan"
   ]
  },
  {
   "cell_type": "code",
   "execution_count": 6,
   "metadata": {},
   "outputs": [
    {
     "output_type": "stream",
     "name": "stdout",
     "text": [
      "1F\n"
     ]
    }
   ],
   "source": [
    "#repaso dia 4\n",
    "tupla=(\"x\",\"1\",\"g\")\n",
    "for elem in tupla [1:2]:\n",
    "    if elem==\"1\":\n",
    "        print(elem+\"F\")"
   ]
  },
  {
   "cell_type": "code",
   "execution_count": null,
   "metadata": {},
   "outputs": [],
   "source": [
    "#hemos visto 3 tipos de for:\n",
    "# 1. for normal:\n",
    "for valor_elemento in nombre_lista:\n",
    "#for con range\n",
    "# 2. for con range:\n",
    "for posicion in range(len(nombre_lista)):\n",
    "# 3. for con enumerate\n",
    "for posicion, valor_elemento in enumerate(nombre_lista):"
   ]
  },
  {
   "cell_type": "code",
   "execution_count": 10,
   "metadata": {},
   "outputs": [
    {
     "output_type": "stream",
     "name": "stdout",
     "text": [
      "2\n4\n"
     ]
    }
   ],
   "source": [
    "# las funciones pueden utilizar variables preexistentes\n",
    "param=4\n",
    "def nf(param1):\n",
    "    print(2)\n",
    "    print(param)\n",
    "    if param==2:\n",
    "        print (param+2)\n",
    "nf(param1=65) # imprime el 2 y el valor de param, creado fuera. el if no lo cumple, \n",
    "# aunque tu metas un valor a la param1  en este caso param1=65 dentro de la funcion, da igual el valor que le des porque devuelve lo que le pidas"
   ]
  },
  {
   "cell_type": "code",
   "execution_count": null,
   "metadata": {},
   "outputs": [],
   "source": [
    "#RETURN EN LA FUNCION: guarda informacion en una variable \n",
    "#Print se imprime-muestra en pantalla\n",
    "#print retorna el valor"
   ]
  },
  {
   "cell_type": "code",
   "execution_count": 99,
   "metadata": {},
   "outputs": [
    {
     "output_type": "stream",
     "name": "stdout",
     "text": [
      "hola\nNone\n"
     ]
    }
   ],
   "source": [
    "#las funciones por defecto tiene un \"return None\" TODAS las funciones tienen un return none aunque no lo veamos\n",
    "def f():\n",
    "    print(\"hola\")\n",
    "    return None # no se ve pero existe ahora lo escribimos para verlo\n",
    "print(f()) # aqui se muestra en la pantalla la resolucion de la funcion y tambien te va a mostra rel retorno"
   ]
  },
  {
   "cell_type": "code",
   "execution_count": null,
   "metadata": {},
   "outputs": [],
   "source": []
  },
  {
   "cell_type": "code",
   "execution_count": 17,
   "metadata": {},
   "outputs": [
    {
     "output_type": "stream",
     "name": "stdout",
     "text": [
      "hola\n"
     ]
    }
   ],
   "source": [
    "#jupyter Notebooks no muestra None como output por defecto cuando el none esta en la ultima fila, si no hace el print(x)  muestra el none xq no es la ultima linea SOLO EN JUPYTER  \n",
    "x =f() # x =  asignamos a la variable x la funcion f()\n",
    "x #asi ejecuta la funcion pero no muestra el retorno"
   ]
  },
  {
   "cell_type": "code",
   "execution_count": 18,
   "metadata": {},
   "outputs": [
    {
     "output_type": "stream",
     "name": "stdout",
     "text": [
      "hola\n"
     ]
    }
   ],
   "source": [
    "# si hago el f() sin el print no va a mostra r el none xq es la ultima linea de jupyter y en jupyter no funciona\n",
    "f()"
   ]
  },
  {
   "cell_type": "code",
   "execution_count": 102,
   "metadata": {},
   "outputs": [
    {
     "output_type": "stream",
     "name": "stdout",
     "text": [
      "hola\nNone\nhola\nNone\n"
     ]
    }
   ],
   "source": [
    "#buenas practicas son  para que muestre el none\n",
    "x=f() #asi me ejecuta la funcion y asigno a x la funcion f()\n",
    "print(x) # asi me muestra la el retorno de la variable x que le hemos asignado la funcion f()\n",
    "print(f()) # asi me muestra el retorno de la funcion"
   ]
  },
  {
   "cell_type": "code",
   "execution_count": 12,
   "metadata": {},
   "outputs": [
    {
     "output_type": "stream",
     "name": "stdout",
     "text": [
      "2\n3\n"
     ]
    }
   ],
   "source": [
    "#ejemplo de lo anterior\n",
    "def f_con_return():\n",
    "    print(2)\n",
    "    return 3\n",
    "\n",
    "x=f_con_return() #x  estamos invocando a la funcion como la invocacion es un print de 2 es lo que devuelve ese print y estamos asignando a x el valor de esa funcion  y guarda el return 3 en la variable x\n",
    "print(x) # como le hemos asignado a la variable x el valor de la funcion, con print de x muestra el retorno "
   ]
  },
  {
   "cell_type": "code",
   "execution_count": 56,
   "metadata": {},
   "outputs": [],
   "source": [
    "#diferencias return sin return\n",
    "def suma_sin_return (a,b):\n",
    "    print(a+b)\n",
    "def suma_con_retorno(a,b):\n",
    "    print(a+b)\n",
    "    return a+b\n"
   ]
  },
  {
   "cell_type": "code",
   "execution_count": 42,
   "metadata": {},
   "outputs": [
    {
     "output_type": "stream",
     "name": "stdout",
     "text": [
      "4\n"
     ]
    },
    {
     "output_type": "execute_result",
     "data": {
      "text/plain": [
       "4"
      ]
     },
     "metadata": {},
     "execution_count": 42
    }
   ],
   "source": [
    "suma_sin_return(a=2,b=2) #ejecuta la fucnion\n",
    "suma_con_retorno(a=2,b=2) # ejecuta la funcion"
   ]
  },
  {
   "cell_type": "code",
   "execution_count": 44,
   "metadata": {},
   "outputs": [
    {
     "output_type": "stream",
     "name": "stdout",
     "text": [
      "4\nNone\n"
     ]
    }
   ],
   "source": [
    "lo_que_retorna_la_funcion_sin_retorno=suma_sin_return(a=2,b=2) #asignamos suma_sin_return a la variable lo_que_retorna_la_funcion_sin_retorno no tiene nada retornado en lo_que_retorna_la_funcion_sin_retorno asi que si hacemos print no sale nada. ejecutala funcion tambien\n",
    "print(lo_que_retorna_la_funcion_sin_retorno) "
   ]
  },
  {
   "cell_type": "code",
   "execution_count": 45,
   "metadata": {},
   "outputs": [
    {
     "output_type": "stream",
     "name": "stdout",
     "text": [
      "4\n4\n"
     ]
    }
   ],
   "source": [
    "lo_que_retorna_la_funcion_con_retorno= suma_con_retorno(a=2,b=2) #asignamos la lo_que_retorna_la_funcion_con_retorno a suma_con_retorno y le guarda el valor 4 (return) y la ejecuta\n",
    "\n",
    "print(lo_que_retorna_la_funcion_con_retorno) #printea lo que esta guardado e lo_que_retorna_la_funcion_con_retorno"
   ]
  },
  {
   "cell_type": "code",
   "execution_count": 49,
   "metadata": {},
   "outputs": [],
   "source": [
    "def multiplicar_lo_sumado(lo_sumado):\n",
    "    print(lo_sumado*2)\n"
   ]
  },
  {
   "cell_type": "code",
   "execution_count": 95,
   "metadata": {},
   "outputs": [],
   "source": [
    "def suma_sin_return(a,b):\n",
    "    print(a+b) #return None\n",
    "def suma_con_retorno(a,b):\n",
    "    print(a+b)\n",
    "    return a+b # tiene return \n",
    "def multiplicar_lo_sumado(lo_sumado):\n",
    "    print(lo_sumado*2) # return None"
   ]
  },
  {
   "cell_type": "code",
   "execution_count": 103,
   "metadata": {},
   "outputs": [
    {
     "output_type": "stream",
     "name": "stdout",
     "text": [
      "7\n14\nNone\n7\n"
     ]
    }
   ],
   "source": [
    "#ejemplo 1: suma con return\n",
    "x=suma_con_retorno(2,5) # asignamos a la varbialbe x la funcion suma_con_retorno. ademas ejecuta la funcion con esos valores y guarda en x el return a+b\n",
    "\n",
    "y=multiplicar_lo_sumado(lo_sumado=x) #  asignamos a la varbialbe y la funcion multiplicar_lo_sumado. ademas ejecuta la funcion con esos valores que estamos diciendo que la variable de la funcion, llamada lo_sumado sea igual al valor de ejecutar x. no se guarda nada None\n",
    "print(y) #muestra el retorno  de la variable y ya que esta asignada a una variable\n",
    "print(x) #muestra el retorno de la variable x ya que esta asignada a una variable, valor guardado en x (return)"
   ]
  },
  {
   "cell_type": "code",
   "execution_count": 86,
   "metadata": {},
   "outputs": [
    {
     "output_type": "stream",
     "name": "stdout",
     "text": [
      "6\n12\n"
     ]
    }
   ],
   "source": [
    "#ejemplo 3: con suma con returin y sin print al final\n",
    "#x es lo q retorna la funcion a la derecha de la igualdad\n",
    "x=suma_con_retorno(a=2,b=4)  #asignamos a la varbialbe x la funcion suma_con_retorno. ejecuta la funcion, como dentro de la funcion hay un print lo muestra\n",
    "y=multiplicar_lo_sumado(lo_sumado=x) # asignamos a la varbialbe y la funcion multiplicar_lo_sumado. ejecuta la funcion, como hay un print lo muestra\n",
    "y #no retorna el retorno ya que es none habria que hacer un print para que lo mostrase la ultima fila si no hay print no muestra el retorno. no ha guardado nada en y por lo tanto no lo muestra si"
   ]
  },
  {
   "cell_type": "code",
   "execution_count": 87,
   "metadata": {},
   "outputs": [
    {
     "output_type": "stream",
     "name": "stdout",
     "text": [
      "None\n"
     ]
    }
   ],
   "source": [
    "print(y) #ves ahora muestra el retorno no retorna el retorno"
   ]
  },
  {
   "cell_type": "code",
   "execution_count": 82,
   "metadata": {},
   "outputs": [
    {
     "output_type": "stream",
     "name": "stdout",
     "text": [
      "hola\nc de dentro: 9\nNone\n"
     ]
    }
   ],
   "source": [
    "def f():\n",
    "    print(\"hola\")\n",
    "    c= 2+7\n",
    "    print(\"c de dentro:\", c)\n",
    "    h=(2,4,6)\n",
    "x=f() #asignamos a x la funcion f() y se ejecuta y no hemos guardado nada (return) en x\n",
    "print(x) # muestra el retorno de la varabiale x, ya que se ha asignado a una funcion "
   ]
  },
  {
   "cell_type": "code",
   "execution_count": 108,
   "metadata": {},
   "outputs": [
    {
     "output_type": "execute_result",
     "data": {
      "text/plain": [
       "1"
      ]
     },
     "metadata": {},
     "execution_count": 108
    }
   ],
   "source": [
    "def f():\n",
    "    return 1 # lo ultimo que lee una funcion durante su ejecucion es el return\n",
    "    print(\"hola\")\n",
    "    c= 2+7\n",
    "    print(\"c de dentro:\", c)\n",
    "    h=(2,4,6)\n",
    "\n",
    "x=f() #asigna a una variable una funcion y la ejecuta  hemos guardado 1 en la funcion\n",
    "x #como el retorno es diferfente a none lo muestra aunque no se haga con print mejor siempre hacer print guardado en x"
   ]
  },
  {
   "cell_type": "code",
   "execution_count": 80,
   "metadata": {},
   "outputs": [
    {
     "output_type": "stream",
     "name": "stdout",
     "text": [
      "hola\nc de dentro: 9\n(2, 4, 6)\n"
     ]
    }
   ],
   "source": [
    "def f():\n",
    "    print(\"hola\")\n",
    "    c= 2+7\n",
    "    print(\"c de dentro:\", c)\n",
    "    h=(2,4,6)\n",
    "    return h \n",
    "    return 1\n",
    "x=f() #asigna a una variable una funcion y la ejecuta guarda al tupla en x\n",
    "print(x) #esto muestra el retorno de la variable que le hemos asignado la funcion solo lee el primer return muestra la tupla guardad en x"
   ]
  },
  {
   "cell_type": "code",
   "execution_count": 85,
   "metadata": {},
   "outputs": [
    {
     "output_type": "stream",
     "name": "stdout",
     "text": [
      "hola\nc de dentro: 9\n"
     ]
    }
   ],
   "source": [
    "def f():\n",
    "    print(\"hola\")\n",
    "    c= 2+7\n",
    "    print(\"c de dentro:\", c)\n",
    "    h=(2,4,6)\n",
    "    return h \n",
    "    return 1\n",
    "x=f() #ejecuta la funcion  y le asignamos a x la funcion f no muestra el retorno hasta que se ponga x al final o print x\n"
   ]
  },
  {
   "cell_type": "code",
   "execution_count": 115,
   "metadata": {},
   "outputs": [
    {
     "output_type": "stream",
     "name": "stdout",
     "text": [
      "[2, 3, 4, 2]\n"
     ]
    }
   ],
   "source": [
    "#las funcioens predeterminadas, o bien se ponen directamente lista.append(2) o bien se ponen con el = lista=lista.append, prueba las dos si no hay retorno no hace falta el =. se puede mirar en google para ver si tiene o no return \n",
    "# #append, remove, del, pop(elimina el ultimom elemento) etc\n",
    "lista= [2,3,4]\n",
    "lista.append(2)\n",
    "print(lista)"
   ]
  },
  {
   "cell_type": "code",
   "execution_count": 116,
   "metadata": {},
   "outputs": [
    {
     "output_type": "stream",
     "name": "stdout",
     "text": [
      "None\n"
     ]
    }
   ],
   "source": [
    "lista= [2,3,4]\n",
    "lista=lista.append(2) #aqui se ve que no tiene return asi que no añade el 2 a la lista si no que devuelve lo guardado en lista\n",
    "print(lista)"
   ]
  },
  {
   "cell_type": "code",
   "execution_count": 118,
   "metadata": {},
   "outputs": [
    {
     "output_type": "stream",
     "name": "stdout",
     "text": [
      "[2, 4]\n"
     ]
    },
    {
     "output_type": "execute_result",
     "data": {
      "text/plain": [
       "6"
      ]
     },
     "metadata": {},
     "execution_count": 118
    }
   ],
   "source": [
    "lista=[2,4,6]\n",
    "p=lista.pop() #elimina y alamacena en p el elemento eliminado, return\n",
    "print(lista) #muestra la lista con el elemento borrado\n",
    "p #muestra el print del return de p"
   ]
  },
  {
   "cell_type": "code",
   "execution_count": 121,
   "metadata": {},
   "outputs": [
    {
     "output_type": "stream",
     "name": "stdout",
     "text": [
      "[2, 4]\n4\n"
     ]
    }
   ],
   "source": [
    "#si lo haces sin el =\n",
    "lista2=[2,4,6]\n",
    "lista2.pop()\n",
    "print(lista2) # tambien se elimina aunque tenga return la funcion \n",
    "print(lista2.pop()) #se alamacena el ultimo elemento de la lista que se va a eleminar\n"
   ]
  },
  {
   "cell_type": "code",
   "execution_count": 122,
   "metadata": {},
   "outputs": [
    {
     "output_type": "stream",
     "name": "stdout",
     "text": [
      "2\nNone\n"
     ]
    }
   ],
   "source": [
    "x=print(\"2\") #ejecuta la funcion print \n",
    "print(x) # no hay nada almacenado en x, nada retornado\n"
   ]
  },
  {
   "cell_type": "code",
   "execution_count": 123,
   "metadata": {},
   "outputs": [
    {
     "output_type": "stream",
     "name": "stdout",
     "text": [
      "Help on function jk in module __main__:\n\njk(a)\n    #esto es documentacion\n    \n    esta funcion lo q hace es crear una variable q alberga la suma del paraemtro \"a más 2\n    parametros:\n    \"a\": una variable que será sumada con 2\n    return:variable \"suma\"\n\n"
     ]
    }
   ],
   "source": [
    "#crear documentacion sirve para explicar cosas en proyectos grupales, o para tu yo del futuro. no afecta a funciones si haces help (jk) te enseña la ayuda del a funcion\n",
    "\n",
    "def jk(a):\n",
    "    \"\"\"\n",
    "    #esto es documentacion\n",
    "\n",
    "    esta funcion lo q hace es crear una variable q alberga la suma del paraemtro \"a más 2\n",
    "    parametros:\n",
    "    \"a\": una variable que será sumada con 2\n",
    "    return:variable \"suma\"\n",
    "    \"\"\"\n",
    "    suma=2+a\n",
    "    return suma\n",
    "help(jk) # esta es la funcion de ayuda de la funcion x y su docuemtnacion, informacion de la funcion"
   ]
  },
  {
   "cell_type": "code",
   "execution_count": 125,
   "metadata": {},
   "outputs": [
    {
     "output_type": "stream",
     "name": "stdout",
     "text": [
      "Parametro1: 1\nparametro2: 2\n2\n"
     ]
    }
   ],
   "source": [
    "#if\n",
    "def multiplicacion_con_parametros (a,b):\n",
    "    a=int(a) # o bien se pone el int aqui o fuera en la parte de los param1 y param2\n",
    "    b=int(b)\n",
    "    print(\"Parametro1:\", a)\n",
    "    print(\"parametro2:\",b)\n",
    "    if a>0 and b>0:\n",
    "        print(a*b)\n",
    "    else:\n",
    "        print(\"solo se admiten mayores a 0\")\n",
    "param1=input()\n",
    "param2=input()\n",
    "multiplicacion_con_parametros(a=param1,b=param2)"
   ]
  },
  {
   "cell_type": "code",
   "execution_count": null,
   "metadata": {},
   "outputs": [],
   "source": [
    "\n",
    "\n",
    "#pass #este elemento significa no hagas nada  para que no te de error la identacion \"pasa de lo que estoy haceindo\" es para que no te de error una idetnacion (:)"
   ]
  },
  {
   "cell_type": "code",
   "execution_count": 128,
   "metadata": {},
   "outputs": [
    {
     "output_type": "execute_result",
     "data": {
      "text/plain": [
       "[2]"
      ]
     },
     "metadata": {},
     "execution_count": 128
    }
   ],
   "source": [
    "#lista\n",
    "def elimina_ultimo_elemento (lista):\n",
    "    lista.pop() #elimina el ultimo elemetno, salvo que se indique en que posicion esta el elemento que quieres borrar\n",
    "\n",
    "elimina_ultimo_elemento(lista= [2,4]) #aqui hay que meter una lista en verdad puedes poner el nombre que quieras (lista pero esto no significa que este correcto)\n",
    "lista #printea el return"
   ]
  },
  {
   "cell_type": "code",
   "execution_count": 135,
   "metadata": {},
   "outputs": [
    {
     "output_type": "stream",
     "name": "stdout",
     "text": [
      "2\n2\n"
     ]
    }
   ],
   "source": [
    "def resta_dos (x): #este es 4\n",
    "    x= x-2 # esta variable es local dentro de la funcion 1º hacemos la derecha primero sustituyo la x de la derecha es 4 y luego ejecuta dentro es 2  \n",
    "    return(x) #esta x es la izquierda de la igualdad que es 2 \n",
    "x=4 #variable global\n",
    "resta_dos(x=x) #llamando a una funcion al que le voy a dar el argumento x= a la x varaible global (4) # en esta funcion es donde se esta haciendo el return ya que no lo hemos asignad oa ninguna variable\n",
    "x #asi vale 4 porque no estoy modiicando ninguna variable, es decir me devuelve el x=4 como print de x\n",
    "print(resta_dos(x=x)) #muestra el return que se almacena aqui  y no en ninguna variable se almacena en la propia funcion\n",
    " #para que el x me saliera el return habria que asignarlo a una variable\n",
    "x=print(resta_dos(x=x))  #lee la ultima linea  superior\n",
    "x #muestra el print del return \n"
   ]
  },
  {
   "cell_type": "code",
   "execution_count": 1,
   "metadata": {},
   "outputs": [
    {
     "output_type": "error",
     "ename": "TypeError",
     "evalue": "can only concatenate list (not \"str\") to list",
     "traceback": [
      "\u001b[1;31m---------------------------------------------------------------------------\u001b[0m",
      "\u001b[1;31mTypeError\u001b[0m                                 Traceback (most recent call last)",
      "\u001b[1;32m<ipython-input-1-ba95c8ae6485>\u001b[0m in \u001b[0;36m<module>\u001b[1;34m\u001b[0m\n\u001b[0;32m      9\u001b[0m         \u001b[0mnombres\u001b[0m\u001b[1;33m=\u001b[0m\u001b[0mlist\u001b[0m\u001b[1;33m(\u001b[0m\u001b[0mnombres\u001b[0m\u001b[1;33m+\u001b[0m\u001b[0mtupla\u001b[0m\u001b[1;33m[\u001b[0m\u001b[1;36m0\u001b[0m\u001b[1;33m]\u001b[0m\u001b[1;33m)\u001b[0m \u001b[1;31m# el primer elemento de cada tupla el elemento primero de cada tupla  de la lista\u001b[0m\u001b[1;33m\u001b[0m\u001b[1;33m\u001b[0m\u001b[0m\n\u001b[0;32m     10\u001b[0m     \u001b[1;32mreturn\u001b[0m  \u001b[0mnombres\u001b[0m \u001b[1;31m#porque todos los nombres concatenados estan en esta variable\u001b[0m\u001b[1;33m\u001b[0m\u001b[1;33m\u001b[0m\u001b[0m\n\u001b[1;32m---> 11\u001b[1;33m \u001b[0mx\u001b[0m\u001b[1;33m=\u001b[0m\u001b[0mnombre_funcion\u001b[0m\u001b[1;33m(\u001b[0m\u001b[0mlista\u001b[0m\u001b[1;33m=\u001b[0m\u001b[0mlista_nombres_alturas\u001b[0m\u001b[1;33m)\u001b[0m \u001b[1;31m# al final los nobmres e van a guardar en return de la funcion. cuando se resuelva lo de la derecha, lo que retorna la parte de la derecha se guarda en x. #al realiar esta igualdad dnetro de la funcion se dice que la variable lista_nombres_altura se va a llamar lista\u001b[0m\u001b[1;33m\u001b[0m\u001b[1;33m\u001b[0m\u001b[0m\n\u001b[0m\u001b[0;32m     12\u001b[0m \u001b[0mprint\u001b[0m\u001b[1;33m(\u001b[0m\u001b[0mx\u001b[0m\u001b[1;33m)\u001b[0m\u001b[1;33m\u001b[0m\u001b[1;33m\u001b[0m\u001b[0m\n\u001b[0;32m     13\u001b[0m \u001b[1;33m\u001b[0m\u001b[0m\n",
      "\u001b[1;32m<ipython-input-1-ba95c8ae6485>\u001b[0m in \u001b[0;36mnombre_funcion\u001b[1;34m(lista)\u001b[0m\n\u001b[0;32m      7\u001b[0m     \u001b[1;32mfor\u001b[0m \u001b[0mtupla\u001b[0m \u001b[1;32min\u001b[0m \u001b[0mlista\u001b[0m\u001b[1;33m:\u001b[0m\u001b[1;33m\u001b[0m\u001b[1;33m\u001b[0m\u001b[0m\n\u001b[0;32m      8\u001b[0m         \u001b[1;31m#tupla va a representar cada uno de estos eelemtnos las tuplas de la lista (\"Gabriel Vázquez\", 1.75) tupla =(\"Gabriel Vázquez\", 1.75) por iteracion...\u001b[0m\u001b[1;33m\u001b[0m\u001b[1;33m\u001b[0m\u001b[1;33m\u001b[0m\u001b[0m\n\u001b[1;32m----> 9\u001b[1;33m         \u001b[0mnombres\u001b[0m\u001b[1;33m=\u001b[0m\u001b[0mlist\u001b[0m\u001b[1;33m(\u001b[0m\u001b[0mnombres\u001b[0m\u001b[1;33m+\u001b[0m\u001b[0mtupla\u001b[0m\u001b[1;33m[\u001b[0m\u001b[1;36m0\u001b[0m\u001b[1;33m]\u001b[0m\u001b[1;33m)\u001b[0m \u001b[1;31m# el primer elemento de cada tupla el elemento primero de cada tupla  de la lista\u001b[0m\u001b[1;33m\u001b[0m\u001b[1;33m\u001b[0m\u001b[0m\n\u001b[0m\u001b[0;32m     10\u001b[0m     \u001b[1;32mreturn\u001b[0m  \u001b[0mnombres\u001b[0m \u001b[1;31m#porque todos los nombres concatenados estan en esta variable\u001b[0m\u001b[1;33m\u001b[0m\u001b[1;33m\u001b[0m\u001b[0m\n\u001b[0;32m     11\u001b[0m \u001b[0mx\u001b[0m\u001b[1;33m=\u001b[0m\u001b[0mnombre_funcion\u001b[0m\u001b[1;33m(\u001b[0m\u001b[0mlista\u001b[0m\u001b[1;33m=\u001b[0m\u001b[0mlista_nombres_alturas\u001b[0m\u001b[1;33m)\u001b[0m \u001b[1;31m# al final los nobmres e van a guardar en return de la funcion. cuando se resuelva lo de la derecha, lo que retorna la parte de la derecha se guarda en x. #al realiar esta igualdad dnetro de la funcion se dice que la variable lista_nombres_altura se va a llamar lista\u001b[0m\u001b[1;33m\u001b[0m\u001b[1;33m\u001b[0m\u001b[0m\n",
      "\u001b[1;31mTypeError\u001b[0m: can only concatenate list (not \"str\") to list"
     ]
    }
   ],
   "source": [
    "#una # una variable x que tenga los nombres concatenados de la lista nombres altura utilizando una funcion para ello. \n",
    "# x=nombre_funcion(lista=lista_nombres_altura)\n",
    "lista_nombres_alturas = [(\"Gabriel Vázquez\", 1.75),(\"Jonathan Abbondanza\",  1.70),(\"Nacho Fontal\", 1.82),(\"Javier Araiz\", 1.80),('Jonathan Suarez', 1.86),('Sonia Cobo', 1.73), ('Jorge García', 1.79), (\"Mary Meza\", 1.52), ('Leonardo Frazzetto', 1.75), (\"Nacho Astorga\",1.78),(\"José Carlos Batista\",1.70), (\"Isabel Palomares\", 1.78),(\"Marina Serrano\", 1.54), (\"Daniel Walker\", 1.87), (\"Clara Piniella\", 1.66), (\"Gina Garrido\", 1.63), (\"Adrià Gallardo\", 1.70), (\"María García-Maroto\", 1.64), (\"Susana Vázquez\",1.80), (\"Mauro Garcia-Oliva\", 1.77), (\"Juan Bayon\", 1.64), (\"Miguel Barquero\", 1.85), (\"Borja Puig\", 1.82), (\"Pablo Martínez\", 1.81), (\"Xinru Yang\", 1.60),(\"Pablo Díez\", 1.84),(\"Karina Inche\",1.61)]\n",
    "\n",
    "def nombre_funcion (lista):\n",
    "    nombres=\"\" #crear una coleccion vacia \n",
    "    for tupla in lista:\n",
    "        #tupla va a representar cada uno de estos eelemtnos las tuplas de la lista (\"Gabriel Vázquez\", 1.75) tupla =(\"Gabriel Vázquez\", 1.75) por iteracion...\n",
    "        nombres=lnombres+tupla[0]) # el primer elemento de cada tupla el elemento primero de cada tupla  de la lista\n",
    "    return  nombres #porque todos los nombres concatenados estan en esta variable\n",
    "x=nombre_funcion(lista=lista_nombres_alturas) # al final los nobmres e van a guardar en return de la funcion. cuando se resuelva lo de la derecha, lo que retorna la parte de la derecha se guarda en x. #al realiar esta igualdad dnetro de la funcion se dice que la variable lista_nombres_altura se va a llamar lista\n",
    "print(x)\n",
    "\n",
    "#añadido si pongo en nombre =0.0 me suma todas las alturas si el resto de variables estan sumando las alturas"
   ]
  },
  {
   "cell_type": "code",
   "execution_count": 150,
   "metadata": {},
   "outputs": [
    {
     "output_type": "stream",
     "name": "stdout",
     "text": [
      "aasdggghhh\n"
     ]
    }
   ],
   "source": [
    "#extra replace algo por algo\n",
    "g=(\"aa s d  gggh hh\")\n",
    "g=g.replace(\" \",\"\") #quitar al menos donde haya un espacio y poner 0 espacios \n",
    "print(g)"
   ]
  },
  {
   "cell_type": "code",
   "execution_count": 153,
   "metadata": {},
   "outputs": [
    {
     "output_type": "stream",
     "name": "stdout",
     "text": [
      "i: 0\nvalue: 2\ni: 1\nvalue: 5\n"
     ]
    }
   ],
   "source": [
    "#repaso para calcular la media\n",
    "lista=[2,5,11,20]\n",
    "for i, value in enumerate(lista[0:len(lista)//2]):\n",
    "    print (\"i:\",i)\n",
    "    print(\"value:\",value)"
   ]
  },
  {
   "cell_type": "code",
   "execution_count": 154,
   "metadata": {},
   "outputs": [
    {
     "output_type": "stream",
     "name": "stdout",
     "text": [
      "i: 0\nvalue: 11\ni: 1\nvalue: 20\n"
     ]
    }
   ],
   "source": [
    "#repaso para calcular la media\n",
    "lista=[2,5,11,20]\n",
    "for i, value in enumerate(lista[len(lista)//2:]): #desde la mitad hasta el final \n",
    "    print (\"i:\",i)\n",
    "    print(\"value:\",value)"
   ]
  },
  {
   "cell_type": "code",
   "execution_count": 164,
   "metadata": {},
   "outputs": [
    {
     "output_type": "error",
     "ename": "SyntaxError",
     "evalue": "invalid syntax (<ipython-input-164-d3e575bc6569>, line 4)",
     "traceback": [
      "\u001b[1;36m  File \u001b[1;32m\"<ipython-input-164-d3e575bc6569>\"\u001b[1;36m, line \u001b[1;32m4\u001b[0m\n\u001b[1;33m    if type elem(a)==str:\u001b[0m\n\u001b[1;37m               ^\u001b[0m\n\u001b[1;31mSyntaxError\u001b[0m\u001b[1;31m:\u001b[0m invalid syntax\n"
     ]
    }
   ],
   "source": [
    "A=[1,2,\"x\",\"y\"]\n",
    "b=[4,5,\"s\",\"h\"]\n",
    "for i,value in enumerate(b): #isinstance(elem,str) es lo mismo, hay que poner elemento y el tipo\n",
    "    if type elem(a)==str:\n",
    "        print(elem,b[i]) \n"
   ]
  },
  {
   "cell_type": "code",
   "execution_count": 162,
   "metadata": {},
   "outputs": [
    {
     "output_type": "execute_result",
     "data": {
      "text/plain": [
       "int"
      ]
     },
     "metadata": {},
     "execution_count": 162
    }
   ],
   "source": [
    "#1. lo que se vaya a utilziar en una funcion normalmente se crean dentro de la funcion ya qeue no se utiliza fuera(ejemplo contadores)\n",
    "#2. si necesito utilizar dentro de una funcion un valor de fuera se lo paso por parametro. los parametros son los que usamos al definir la funcion def funcion1 (a,b,c) -> estos son los parametros\n",
    "#se pueden retornar varias cosas a la vez"
   ]
  },
  {
   "cell_type": "code",
   "execution_count": 165,
   "metadata": {},
   "outputs": [
    {
     "output_type": "stream",
     "name": "stdout",
     "text": [
      "2\n6\n(2, 6, 5)\n"
     ]
    }
   ],
   "source": [
    "x=2\n",
    "x,y=2,6 #podemos meter xa varias variables varios valores x sera 2 y y sera 6\n",
    "t=2,6,5 # si guardo mas de un elemento en una variable se guarda como una tupla\n",
    "print(x)\n",
    "print(y)\n",
    "print(t)"
   ]
  },
  {
   "cell_type": "code",
   "execution_count": null,
   "metadata": {},
   "outputs": [],
   "source": [
    "x,y=10,20,30 #nse puede guardar en x e y mas de 2 valores, no se guardan como tupla\n",
    "\n"
   ]
  },
  {
   "cell_type": "code",
   "execution_count": 169,
   "metadata": {},
   "outputs": [
    {
     "output_type": "stream",
     "name": "stdout",
     "text": [
      "yo retorno\n(2, 4, 6)\n"
     ]
    }
   ],
   "source": [
    "def retorna_varios():\n",
    "    print(\"yo retorno\")\n",
    "    return 2,4,6\n",
    "x=retorna_varios() #ejecuta la funcion\n",
    "print(x) #retorna el retorno de x como una tupla"
   ]
  },
  {
   "cell_type": "code",
   "execution_count": 170,
   "metadata": {},
   "outputs": [
    {
     "output_type": "stream",
     "name": "stdout",
     "text": [
      "yo retorno\n2\n4\n6\n"
     ]
    }
   ],
   "source": [
    "y,z,g=retorna_varios() #ejecuta la funcion\n",
    "print(y)#printea el retorno de y\n",
    "print(z)#printea el retorno de z\n",
    "print(g)#printea el retorno de g\n"
   ]
  },
  {
   "cell_type": "code",
   "execution_count": 172,
   "metadata": {},
   "outputs": [
    {
     "output_type": "stream",
     "name": "stdout",
     "text": [
      "<class 'int'>\n(0, 'x')\n<class 'int'>\n(1, 'y')\n<class 'int'>\n(2, 'z')\n"
     ]
    }
   ],
   "source": [
    "lista=[\"x\",\"y\",\"z\"]\n",
    "for t in enumerate(lista): #con enumerate si solo se pone una variable, se muestra las dos variables juntas en una tupla, posicion y valor\n",
    "    print(type(y))\n",
    "    print(t)"
   ]
  },
  {
   "cell_type": "code",
   "execution_count": 173,
   "metadata": {},
   "outputs": [
    {
     "output_type": "stream",
     "name": "stdout",
     "text": [
      "posicion 2\nvalor del elemento: z\nposicion 2\nvalor del elemento: z\nposicion 2\nvalor del elemento: z\n"
     ]
    }
   ],
   "source": [
    "for tt in enumerate(lista):\n",
    "    print(\"posicion\",t[0])#muestra la posicion  de la tupla creada\n",
    "    print(\"valor del elemento:\",t[1]) #muestra el valor de la tupla creada"
   ]
  },
  {
   "cell_type": "code",
   "execution_count": null,
   "metadata": {},
   "outputs": [],
   "source": []
  },
  {
   "cell_type": "code",
   "execution_count": null,
   "metadata": {},
   "outputs": [],
   "source": [
    "#DICCIONARIOS -> es un tipo de coleccion\n",
    "#lista, tupla, string, conjuntos y diccionarios"
   ]
  },
  {
   "cell_type": "code",
   "execution_count": 174,
   "metadata": {},
   "outputs": [
    {
     "output_type": "execute_result",
     "data": {
      "text/plain": [
       "dict"
      ]
     },
     "metadata": {},
     "execution_count": 174
    }
   ],
   "source": [
    "lista=[]\n",
    "tupla=() #recordar que si usamos un unico elemento en una tupla hay que escribir el elemento y la coma xq si no era un numero entero\n",
    "string=\"\"\n",
    "conjunto=set() #asi se inicia un conjunto\n",
    "diccionario={}#asi se inicia un diccionario\n",
    "type(diccionario)"
   ]
  },
  {
   "cell_type": "code",
   "execution_count": 176,
   "metadata": {},
   "outputs": [
    {
     "output_type": "execute_result",
     "data": {
      "text/plain": [
       "{'key_string': 'valor', 0: 'valor'}"
      ]
     },
     "metadata": {},
     "execution_count": 176
    }
   ],
   "source": [
    "#los diccionarios siempre guardan una key y un valor. la key suele ser un string\n",
    "diccionario={\"key_string\": \"valor\", 0:\"valor\"} #key a la izquierda valor a la derecha el 0: es otra clave con otros valores. no podemos teener dos claves con el mismo nombre pero si dos varaibles con el mismo numero\n",
    "diccionario"
   ]
  },
  {
   "cell_type": "code",
   "execution_count": 256,
   "metadata": {},
   "outputs": [
    {
     "output_type": "execute_result",
     "data": {
      "text/plain": [
       "{'key_string': 'valor', 0: 'a', 'key': 999}"
      ]
     },
     "metadata": {},
     "execution_count": 256
    }
   ],
   "source": [
    "diccionario={\"key_string\": \"valor\", 0:\"valor\",0:\"a\",\"key\":999}\n",
    "diccionario #ves sale solo una clave con el nombre. si hay dos claves con el mismo nombre la ultima sustituye a la primera"
   ]
  },
  {
   "cell_type": "code",
   "execution_count": 260,
   "metadata": {},
   "outputs": [
    {
     "output_type": "error",
     "ename": "TypeError",
     "evalue": "'int' object is not iterable",
     "traceback": [
      "\u001b[1;31m---------------------------------------------------------------------------\u001b[0m",
      "\u001b[1;31mTypeError\u001b[0m                                 Traceback (most recent call last)",
      "\u001b[1;32m<ipython-input-260-7ab32795fb84>\u001b[0m in \u001b[0;36m<module>\u001b[1;34m\u001b[0m\n\u001b[0;32m      1\u001b[0m \u001b[1;31m#acceder a un valor en un diccionario\u001b[0m\u001b[1;33m\u001b[0m\u001b[1;33m\u001b[0m\u001b[1;33m\u001b[0m\u001b[0m\n\u001b[1;32m----> 2\u001b[1;33m \u001b[0mlist\u001b[0m\u001b[1;33m(\u001b[0m\u001b[0mdiccionario\u001b[0m\u001b[1;33m[\u001b[0m\u001b[1;34m\"key\"\u001b[0m\u001b[1;33m]\u001b[0m\u001b[1;33m)\u001b[0m\u001b[1;33m\u001b[0m\u001b[1;33m\u001b[0m\u001b[0m\n\u001b[0m",
      "\u001b[1;31mTypeError\u001b[0m: 'int' object is not iterable"
     ]
    }
   ],
   "source": [
    "#acceder a un valor en un diccionario\n",
    "list(diccionario[\"key\"])"
   ]
  },
  {
   "cell_type": "code",
   "execution_count": 180,
   "metadata": {},
   "outputs": [
    {
     "output_type": "execute_result",
     "data": {
      "text/plain": [
       "['key_string', 0, 'key']"
      ]
     },
     "metadata": {},
     "execution_count": 180
    }
   ],
   "source": [
    "list(diccionario.keys()) #accedemos a las claves con una lista xq hemos puesto lista"
   ]
  },
  {
   "cell_type": "code",
   "execution_count": 182,
   "metadata": {},
   "outputs": [
    {
     "output_type": "execute_result",
     "data": {
      "text/plain": [
       "['valor', 'a', 999]"
      ]
     },
     "metadata": {},
     "execution_count": 182
    }
   ],
   "source": [
    "list(diccionario.values())#surgen los valores en una lista xq se ha puesto lista"
   ]
  },
  {
   "cell_type": "code",
   "execution_count": 184,
   "metadata": {},
   "outputs": [
    {
     "output_type": "stream",
     "name": "stdout",
     "text": [
      "999\n"
     ]
    }
   ],
   "source": [
    "#queremos saber aquellos valores mayores que 0 \n",
    "for value in diccionario.values(): #recorremos los valores del diccionario\n",
    "    if isinstance(value,int) and value>0: #comprobar  que el tipo del valor es entero y mayor a 0\n",
    "        print(value)"
   ]
  },
  {
   "cell_type": "code",
   "execution_count": 186,
   "metadata": {},
   "outputs": [
    {
     "output_type": "stream",
     "name": "stdout",
     "text": [
      "key_string\nvalor\n-------------------\nkey\n999\n-------------------\n"
     ]
    }
   ],
   "source": [
    "for key in diccionario.keys(): #recorremos las claves del diccionario\n",
    "    if isinstance(key,str): #comprobar  que el tipo de la clave es entero y mayor a 0\n",
    "        print(key) #muestra clave\n",
    "        print(diccionario[key])#muestra valor asociado a la clave\n",
    "        print(\"-------------------\")"
   ]
  },
  {
   "cell_type": "code",
   "execution_count": 191,
   "metadata": {},
   "outputs": [
    {
     "output_type": "stream",
     "name": "stdout",
     "text": [
      "key: key_string\nvalue: valor\n------\nkey: 0\nvalue: a\n------\nkey: key\nvalue: 999\n------\n"
     ]
    }
   ],
   "source": [
    "#con .items es como el enumnerate de las tablas i y valor \n",
    "for key,value in diccionario.items():\n",
    "    print(\"key:\",key)\n",
    "    print(\"value:\",value) #print(diccionario[key] hacer esto es sinonimo con lo que se ejecuta, muestra el valor\n",
    "    print(\"------\")"
   ]
  },
  {
   "cell_type": "code",
   "execution_count": 189,
   "metadata": {},
   "outputs": [
    {
     "output_type": "execute_result",
     "data": {
      "text/plain": [
       "{'nombre_de_la_clave': 'valor_de_esa_clave'}"
      ]
     },
     "metadata": {},
     "execution_count": 189
    }
   ],
   "source": [
    "dicc={}\n",
    "#para añadir clave:valor. no existen valores o claves sueltos\n",
    "dicc[\"nombre_de_la_clave\"]=\"valor_de_esa_clave\" #asi se añade la key y el valor\n",
    "dicc"
   ]
  },
  {
   "cell_type": "code",
   "execution_count": 190,
   "metadata": {},
   "outputs": [
    {
     "output_type": "execute_result",
     "data": {
      "text/plain": [
       "{}"
      ]
     },
     "metadata": {},
     "execution_count": 190
    }
   ],
   "source": [
    "#eliminar clave:valor se eliminan a pares\n",
    "del dicc[\"nombre_de_la_clave\"] #poniendolo asi se elimina la clave valor\n",
    "dicc"
   ]
  },
  {
   "cell_type": "code",
   "execution_count": 192,
   "metadata": {},
   "outputs": [],
   "source": [
    "#crear un diccionario ap artir de dos listaS:\n",
    "#lista \"a\" tiene claves\n",
    "#lista \"b\" tiene los valores asociados a cada clave\n",
    "a=[\"x\",\"y\",\"z\"]\n",
    "b=[0,10,20]\n",
    "diccionario={}\n",
    "diccionario[a[0]]=b[0] #seria asi con cda valor muy tedioso, vamos a usar otras opcciones\n"
   ]
  },
  {
   "cell_type": "code",
   "execution_count": 193,
   "metadata": {},
   "outputs": [
    {
     "output_type": "execute_result",
     "data": {
      "text/plain": [
       "{'x': 0, 'y': 10, 'z': 20}"
      ]
     },
     "metadata": {},
     "execution_count": 193
    }
   ],
   "source": [
    "#utilizando el rango\n",
    "diccionario={}\n",
    "for i in range(len(a)):\n",
    "      diccionario[a[i]]=b[i]\n",
    "diccionario      "
   ]
  },
  {
   "cell_type": "code",
   "execution_count": 246,
   "metadata": {},
   "outputs": [
    {
     "output_type": "stream",
     "name": "stdout",
     "text": [
      "{'y': 20}\n"
     ]
    }
   ],
   "source": [
    "#con contador\n",
    "a=[\"x\",\"y\",\"z\"]\n",
    "b=[0,10,20]\n",
    "contador=0 #con posiciones creo este contador\n",
    "diccionario={}\n",
    "for v_elemento in a:\n",
    "    diccionario[v_elem]=b[contador]\n",
    "    contador+=1 #esto es igual a contador mas 1\n",
    "print(diccionario)"
   ]
  },
  {
   "cell_type": "code",
   "execution_count": 194,
   "metadata": {},
   "outputs": [
    {
     "output_type": "execute_result",
     "data": {
      "text/plain": [
       "{'x': 0, 'y': 10, 'z': 20}"
      ]
     },
     "metadata": {},
     "execution_count": 194
    }
   ],
   "source": [
    "#con enumerate\n",
    "a=[\"x\",\"y\",\"z\"]\n",
    "b=[0,10,20]\n",
    "for pos,v_element in enumerate(a):\n",
    "    diccionario[v_element]=b[pos]\n",
    "diccionario"
   ]
  },
  {
   "cell_type": "code",
   "execution_count": 195,
   "metadata": {},
   "outputs": [
    {
     "output_type": "stream",
     "name": "stdout",
     "text": [
      "-------------------\n-------------------\n6\n2\n-------------------\n8\n3\n-------------------\n10\n4\n-------------------\n"
     ]
    }
   ],
   "source": [
    "#recorrer lista con contador EJEMPLO\n",
    "a=[2,4,6,8,10]\n",
    "contador=0 #si queremos que reresente la posion del elemento que estamos recorriendo es como una posicion\n",
    "for valor in a:\n",
    "    if contador>=2: #para mostrar los elementos en la posicion mayor e igual a 2 \n",
    "        print(valor)\n",
    "        print(contador)\n",
    "    contador+=1\n",
    "    print(\"-------------------\")"
   ]
  },
  {
   "cell_type": "code",
   "execution_count": 196,
   "metadata": {},
   "outputs": [
    {
     "output_type": "stream",
     "name": "stdout",
     "text": [
      "2\n6\n10\n"
     ]
    }
   ],
   "source": [
    "a=[2,4,6,8,10] #que nos muesre las posiciones pares\n",
    "#con rango\n",
    "for pos in range(len(a)):\n",
    "    if pos%2==0:#para posiciones pareces\n",
    "         print(a[pos])\n"
   ]
  },
  {
   "cell_type": "code",
   "execution_count": 198,
   "metadata": {},
   "outputs": [
    {
     "output_type": "execute_result",
     "data": {
      "text/plain": [
       "{'70423563R': ['pablo', 28, 1.81, 74]}"
      ]
     },
     "metadata": {},
     "execution_count": 198
    }
   ],
   "source": [
    "#añadimos /actualizamos el par de valores\n",
    "dicc[\"70423563R\"]=[\"pablo\",28,1.81,73]\n",
    "#asi se cogeria y se actualizaria el valor del elemento\n",
    "\n",
    "dicc[\"70423563R\"]=[\"pablo\",28,1.81,74] # se ha cambiado\n",
    "dicc"
   ]
  },
  {
   "cell_type": "code",
   "execution_count": 203,
   "metadata": {},
   "outputs": [
    {
     "output_type": "execute_result",
     "data": {
      "text/plain": [
       "{'70423563R': ['pablo', 28, 1.81, 74], ('70423563R', 1): {1: ('Z', 'H')}}"
      ]
     },
     "metadata": {},
     "execution_count": 203
    }
   ],
   "source": [
    "#la clave tiene que ser un str,float un entero o una tupla lista NO se puede\n",
    "dicc[(\"70423563R\",1)]={1:(\"Z\",\"H\")}\n",
    "dicc"
   ]
  },
  {
   "cell_type": "code",
   "execution_count": 205,
   "metadata": {},
   "outputs": [
    {
     "output_type": "execute_result",
     "data": {
      "text/plain": [
       "'Z'"
      ]
     },
     "metadata": {},
     "execution_count": 205
    }
   ],
   "source": [
    "#para acceder a la \"Z\" que esta como parte del valor del diccionario\n",
    "dicc[(\"70423563R\",1)] [1][0] #accedemos al segundo diccionario y luego a la tupla y luego ya estariamos en el valor que buscamos se accede con la clave "
   ]
  },
  {
   "cell_type": "code",
   "execution_count": 206,
   "metadata": {},
   "outputs": [],
   "source": [
    "##WHILE"
   ]
  },
  {
   "cell_type": "code",
   "execution_count": 207,
   "metadata": {},
   "outputs": [
    {
     "output_type": "stream",
     "name": "stdout",
     "text": [
      "0\n1\n2\n3\n4\n5\n6\n7\n8\n9\n10\n11\n12\n13\n14\n15\n16\n17\n18\n19\n"
     ]
    }
   ],
   "source": [
    "for i in range(20):\n",
    "    print(i) #esta linea se repite 20 veces, sea lo que sea lo que se printea, str, lista etc"
   ]
  },
  {
   "cell_type": "code",
   "execution_count": null,
   "metadata": {},
   "outputs": [],
   "source": [
    "for i in range(20):\n",
    "    if i<5:\n",
    "        print(i)\n",
    "        "
   ]
  },
  {
   "cell_type": "code",
   "execution_count": 209,
   "metadata": {},
   "outputs": [
    {
     "output_type": "stream",
     "name": "stdout",
     "text": [
      "1\n"
     ]
    }
   ],
   "source": [
    "#while es una condicion que mientras sea true se va a hacer todo lo de abajo del while en bucle hasta que se quite el true\n",
    "while True: #por ejemplo la app esta abierta hasta que de al boton de cerrar (no hacerlo porque salen unos de manera infinita) al lado del while se pone la condicion\n",
    "    print(\"1\")#(no hacerlo porque salen unos de manera infinita)\n",
    "    break #break para que se muestre una vez"
   ]
  },
  {
   "cell_type": "code",
   "execution_count": null,
   "metadata": {},
   "outputs": [],
   "source": [
    "#while (conditions):\n",
    "#   lo que se va a ejecutar en bucle"
   ]
  },
  {
   "cell_type": "code",
   "execution_count": 212,
   "metadata": {},
   "outputs": [
    {
     "output_type": "stream",
     "name": "stdout",
     "text": [
      "0\n1\n2\n3\n4\n"
     ]
    }
   ],
   "source": [
    "#quiero ejecutar 5 prints con contador\n",
    "contador=0\n",
    "while contador <5: #en este caso en cuanto el contador llega a 5 hasta que se satisfaace la condicion\n",
    "    print(contador)\n",
    "    contador+=1"
   ]
  },
  {
   "cell_type": "code",
   "execution_count": 213,
   "metadata": {},
   "outputs": [
    {
     "output_type": "stream",
     "name": "stdout",
     "text": [
      "0\n1\n2\n3\n4\n"
     ]
    }
   ],
   "source": [
    "#la difeerencia con for es que recorre algo sobre un valor  while no hace falta asi se haria con un for es mas eficiente el while\n",
    "for i in range(100): #con el for sigue leyendo hasta rango a 100\n",
    "    if i<5:\n",
    "        print(i)"
   ]
  },
  {
   "cell_type": "code",
   "execution_count": 216,
   "metadata": {},
   "outputs": [
    {
     "output_type": "stream",
     "name": "stdout",
     "text": [
      "contador: 0\nx\ncontador: 1\ny\ncontador: 2\nz\ncontador: 3\no\n"
     ]
    }
   ],
   "source": [
    "#dentro del while puede haber de todo con while se accede por POSICION POR ELEMENTO, no por valor el while no recorre como el for simplemente tiene en cuenta la condicion\n",
    "a=[\"x\",\"y\",\"z\",\"o\"]\n",
    "contador=0\n",
    "#[0,3]->[] incluido\n",
    "#[0,4) -> 0 incluido 4 sin incluir\n",
    "while contador<len(a): # ==contador<=len(a)-1  con esto no puede valer mas de la ultima posocion\n",
    "    print(\"contador:\", contador) #mientras uno exista se va a reproducir de manera infinita \n",
    "    print(a[contador])\n",
    "    contador+=1 # si se deja asi daria error"
   ]
  },
  {
   "cell_type": "code",
   "execution_count": 217,
   "metadata": {},
   "outputs": [
    {
     "output_type": "stream",
     "name": "stdout",
     "text": [
      "contador: 0\nx\ncontador: 2\nz\n"
     ]
    }
   ],
   "source": [
    "#para acceder a las posciones pares\n",
    "a=[\"x\",\"y\",\"z\",\"o\"] # a diferencia del for haciendo este ejercicio no lee las posiciones impares\n",
    "contador=0\n",
    "\n",
    "while contador<len(a): # ==contador<=len(a)-1 con esto no puede valer mas de la ultima posocion\n",
    "    print(\"contador:\", contador) #mientras uno exista se va a reproducir de manera infinita \n",
    "    print(a[contador])\n",
    "    contador+=2 "
   ]
  },
  {
   "cell_type": "code",
   "execution_count": 222,
   "metadata": {},
   "outputs": [
    {
     "output_type": "stream",
     "name": "stdout",
     "text": [
      "contador: 0\nx\nhola\n"
     ]
    }
   ],
   "source": [
    "#como funciona while\n",
    "a=[\"x\",\"y\",\"z\",\"o\"] \n",
    "contador=0\n",
    "\n",
    "while (contador %2==0) and (contador<len(a)): # ==contador<=len(a)-1 en la posicion 0 se cumple las condiciones asi que lee lo de abajo y lo ejecuta\n",
    "    print(\"contador:\", contador) \n",
    "    print(a[contador])\n",
    "    contador+=1\n",
    "    print(\"hola\") #como vemos en el printeado del while, muestra tanto el printeo de \" contador\" y el contado (0) luego suma uno al contador (posicion 1) y printea \"1\" en la siguiente lectura la posicion 1 no es par asi que como no se cumple las 2 condiciones deja de leer y while deja de leer todo lo demas.\n"
   ]
  },
  {
   "cell_type": "code",
   "execution_count": 225,
   "metadata": {},
   "outputs": [
    {
     "output_type": "stream",
     "name": "stdout",
     "text": [
      "acumulador: 0\n",
      "acumulador: 1\n",
      "acumulador: 2\n"
     ]
    }
   ],
   "source": [
    "#no hace falta para ahora ignorar\n",
    "import time #importar la libreria time\n",
    "acumulador = 0\n",
    "while acumulador<3:\n",
    "    print(\"acumulador:\",acumulador)\n",
    "    time.sleep(1) # con esto se para 1 segundo y luego sigue mostrando el resto\n",
    "    acumulador +=1"
   ]
  },
  {
   "cell_type": "code",
   "execution_count": 226,
   "metadata": {},
   "outputs": [
    {
     "output_type": "stream",
     "name": "stdout",
     "text": [
      "5\n"
     ]
    }
   ],
   "source": [
    "#programa que pregunte al usuario que numero quiere que se sume con el \"3\"\n",
    "num=int(input(\"escribe un numero para sumar a 3\"))\n",
    "def suma_con_3(lo_que_el_usuario_escriba):\n",
    "    print(lo_que_el_usuario_escriba+3)\n",
    "suma_con_3(lo_que_el_usuario_escriba=2)"
   ]
  },
  {
   "cell_type": "code",
   "execution_count": 230,
   "metadata": {},
   "outputs": [
    {
     "output_type": "stream",
     "name": "stdout",
     "text": [
      "5\n",
      "6\n",
      "38\n",
      "48\n",
      "has parado\n"
     ]
    }
   ],
   "source": [
    "while True:\n",
    "    num=input(\"escribe un numero para sumar a 3\")\n",
    "    if num==\"STOP\":\n",
    "        print(\"has parado\")\n",
    "        break #asi se consigue que si se escribe STOP se djee de ejecutar \n",
    "    suma_con_3(lo_que_el_usuario_escriba=int(num))#si escribo un str que no sea \"STOP\" daria error\n"
   ]
  },
  {
   "cell_type": "code",
   "execution_count": 231,
   "metadata": {},
   "outputs": [
    {
     "output_type": "stream",
     "name": "stdout",
     "text": [
      "5\n",
      "6\n",
      "7\n",
      "8\n",
      "9\n",
      "insterta solo numeros o 'STOP'\n",
      "has parado\n"
     ]
    }
   ],
   "source": [
    "#is.digit() es para ver los numeros enteros dentro de cadenas\n",
    "while True:\n",
    "    num=input(\"escribe un numero para sumar a 3\")\n",
    "    if num==\"STOP\": #si num es stop\n",
    "        print(\"has parado\")\n",
    "        break #asi se consigue que si se escribe STOP se djee de ejecutar\n",
    "    elif num.isdigit(): #si num no es stop y ademas solo contiene numeros\n",
    "        suma_con_3(lo_que_el_usuario_escriba=int(num))\n",
    "    else:\n",
    "        print(\"insterta solo numeros o 'STOP'\") #si por ejemplo meto una lista, una letra etc sale esto\n",
    "\n",
    "    "
   ]
  },
  {
   "cell_type": "code",
   "execution_count": 233,
   "metadata": {},
   "outputs": [
    {
     "output_type": "stream",
     "name": "stdout",
     "text": [
      "------------\n------------\n"
     ]
    }
   ],
   "source": [
    "### continue or break\n",
    "l=[2,\"x\",6,[0,2],\"y\"]\n",
    "for pos,v_elem in enumerate(l):\n",
    "    if isinstance(v_elem,str): #enseña los elementos string de los valores \n",
    "        print (\"------------\")\n",
    "        continue #con el continue se dirige a la siguiente interaccion en el for. no lee lo de abajo del continue. el break para toda la interaccion\n",
    "        print (\"pos:\", pos)\n",
    "        print(\"v_elem:\",v_elem)\n",
    "        \n",
    "#si ahora poniese un break lo recorre un avez y ya esta"
   ]
  },
  {
   "cell_type": "code",
   "execution_count": 234,
   "metadata": {},
   "outputs": [
    {
     "output_type": "stream",
     "name": "stdout",
     "text": [
      "x\n[0, 2]\n"
     ]
    }
   ],
   "source": [
    "l=[2,\"x\",6,[0,2],\"y\"]\n",
    "for pos,v_elem in enumerate(l):\n",
    "    if pos %2==0:#la posicion par esto es igual a if pos %2==1: print (v_elem) y daria lo mismo\n",
    "         continue # si esto es par no leas mas y ve a la siguiente interracion se puede poner cualquier funcion sin el continue es mas facil a ve ces cuando hy muchas condiciones\n",
    "    else:\n",
    "        print(v_elem) \n",
    "        "
   ]
  },
  {
   "cell_type": "code",
   "execution_count": 241,
   "metadata": {},
   "outputs": [
    {
     "output_type": "stream",
     "name": "stdout",
     "text": [
      "2\nx\n[0, 2]\ny\n"
     ]
    }
   ],
   "source": [
    "# son sinonimos las dos siguiente entradas\n",
    "l=[2,\"x\",6,[0,2],\"y\"]\n",
    "for pos,v_elem in enumerate(l):\n",
    "     if v_elem ==6:\n",
    "        continue\n",
    "     else:\n",
    "         print(v_elem)"
   ]
  },
  {
   "cell_type": "code",
   "execution_count": 238,
   "metadata": {},
   "outputs": [
    {
     "output_type": "stream",
     "name": "stdout",
     "text": [
      "2\nx\n[0, 2]\ny\n"
     ]
    }
   ],
   "source": [
    "l=[2,\"x\",6,[0,2],\"y\"]\n",
    "for pos,v_elem in enumerate(l):\n",
    "     if v_elem !=6:\n",
    "        print(v_elem)"
   ]
  },
  {
   "cell_type": "code",
   "execution_count": 243,
   "metadata": {},
   "outputs": [
    {
     "output_type": "stream",
     "name": "stdout",
     "text": [
      "[2, 'x', 34, 6]\n"
     ]
    }
   ],
   "source": [
    "#PARA ESTAS COSAS MIRAR ARCHIVO PYTHON_BASIC DENTRO DE LA CARPETA DE PYTHON EN EL INDICE ESTA Todo bastante descrito \n",
    "lista=[2,34,6]\n",
    "lista.insert(1,\"x\") #se agrega en la posicion 1 la \"x\"\n",
    "print(lista)"
   ]
  },
  {
   "cell_type": "code",
   "execution_count": 11,
   "metadata": {},
   "outputs": [
    {
     "output_type": "stream",
     "name": "stdout",
     "text": [
      "HI, I AM CREATED BY A FUNCTION PASSED AS AN ARGUMENT.\nhi, i am created by a function passed as an argument.\n"
     ]
    }
   ],
   "source": [
    "def shout(text): \n",
    "    return text.upper()  #pone un texto en mayusculas\n",
    "\n",
    "def whisper(text): \n",
    "    return text.lower()  #pone un texto en minus\n",
    "\n",
    "def greet(func): #saluda\n",
    "    # storing the function in a variable \n",
    "    greeting = func(\"Hi, I am created by a function passed as an argument.\") #le meto el argumento directamente a func\n",
    "    print(greeting)\n",
    "\n",
    "greet(shout) \n",
    "greet(whisper)"
   ]
  },
  {
   "cell_type": "code",
   "execution_count": 2,
   "metadata": {},
   "outputs": [
    {
     "output_type": "stream",
     "name": "stdout",
     "text": [
      "HOLA\n"
     ]
    }
   ],
   "source": [
    "def up (text):\n",
    "   return text.upper()\n",
    "def f_recibe_una_funcion(func):\n",
    "        print(func(\"Hola\")) #etso muestra el retorno de la funcion, en este caso el retorno de up\n",
    "f_recibe_una_funcion(func=up)"
   ]
  },
  {
   "cell_type": "code",
   "execution_count": 5,
   "metadata": {},
   "outputs": [
    {
     "output_type": "execute_result",
     "data": {
      "text/plain": [
       "'HOLA'"
      ]
     },
     "metadata": {},
     "execution_count": 5
    }
   ],
   "source": [
    "x=up # esto es hacer una referencia de una funcion\n",
    "x(text=\"hola\") "
   ]
  },
  {
   "cell_type": "code",
   "execution_count": 6,
   "metadata": {},
   "outputs": [
    {
     "output_type": "error",
     "ename": "TypeError",
     "evalue": "dos() takes 0 positional arguments but 1 was given",
     "traceback": [
      "\u001b[1;31m---------------------------------------------------------------------------\u001b[0m",
      "\u001b[1;31mTypeError\u001b[0m                                 Traceback (most recent call last)",
      "\u001b[1;32m<ipython-input-6-5f0e151475aa>\u001b[0m in \u001b[0;36m<module>\u001b[1;34m\u001b[0m\n\u001b[0;32m      5\u001b[0m \u001b[1;32mdef\u001b[0m \u001b[0mf_recibe_una_funcion\u001b[0m\u001b[1;33m(\u001b[0m\u001b[0mfunc\u001b[0m\u001b[1;33m)\u001b[0m\u001b[1;33m:\u001b[0m\u001b[1;33m\u001b[0m\u001b[1;33m\u001b[0m\u001b[0m\n\u001b[0;32m      6\u001b[0m         \u001b[0mprint\u001b[0m\u001b[1;33m(\u001b[0m\u001b[0mfunc\u001b[0m\u001b[1;33m(\u001b[0m\u001b[1;34m\"Hola\"\u001b[0m\u001b[1;33m)\u001b[0m\u001b[1;33m)\u001b[0m \u001b[1;31m#etso muestra el retorno de la funcion, en este caso el retorno de up\u001b[0m\u001b[1;33m\u001b[0m\u001b[1;33m\u001b[0m\u001b[0m\n\u001b[1;32m----> 7\u001b[1;33m \u001b[0mf_recibe_una_funcion\u001b[0m\u001b[1;33m(\u001b[0m\u001b[0mfunc\u001b[0m\u001b[1;33m=\u001b[0m\u001b[0mdos\u001b[0m\u001b[1;33m)\u001b[0m\u001b[1;33m\u001b[0m\u001b[1;33m\u001b[0m\u001b[0m\n\u001b[0m",
      "\u001b[1;32m<ipython-input-6-5f0e151475aa>\u001b[0m in \u001b[0;36mf_recibe_una_funcion\u001b[1;34m(func)\u001b[0m\n\u001b[0;32m      4\u001b[0m     \u001b[1;32mreturn\u001b[0m \u001b[1;34m\"2\"\u001b[0m\u001b[1;33m\u001b[0m\u001b[1;33m\u001b[0m\u001b[0m\n\u001b[0;32m      5\u001b[0m \u001b[1;32mdef\u001b[0m \u001b[0mf_recibe_una_funcion\u001b[0m\u001b[1;33m(\u001b[0m\u001b[0mfunc\u001b[0m\u001b[1;33m)\u001b[0m\u001b[1;33m:\u001b[0m\u001b[1;33m\u001b[0m\u001b[1;33m\u001b[0m\u001b[0m\n\u001b[1;32m----> 6\u001b[1;33m         \u001b[0mprint\u001b[0m\u001b[1;33m(\u001b[0m\u001b[0mfunc\u001b[0m\u001b[1;33m(\u001b[0m\u001b[1;34m\"Hola\"\u001b[0m\u001b[1;33m)\u001b[0m\u001b[1;33m)\u001b[0m \u001b[1;31m#etso muestra el retorno de la funcion, en este caso el retorno de up\u001b[0m\u001b[1;33m\u001b[0m\u001b[1;33m\u001b[0m\u001b[0m\n\u001b[0m\u001b[0;32m      7\u001b[0m \u001b[0mf_recibe_una_funcion\u001b[0m\u001b[1;33m(\u001b[0m\u001b[0mfunc\u001b[0m\u001b[1;33m=\u001b[0m\u001b[0mdos\u001b[0m\u001b[1;33m)\u001b[0m\u001b[1;33m\u001b[0m\u001b[1;33m\u001b[0m\u001b[0m\n",
      "\u001b[1;31mTypeError\u001b[0m: dos() takes 0 positional arguments but 1 was given"
     ]
    }
   ],
   "source": [
    "def up (text):\n",
    "   return text.upper()\n",
    "def dos():\n",
    "    return \"2\"\n",
    "def f_recibe_una_funcion(func):\n",
    "        print(func(\"Hola\")) #este error es xq dos no tiene ningun argumento definido () no tendrias que poner ningun argumento para poder ejecutarlo y yo le estoy metiendo un argumento de manera forzada\n",
    "f_recibe_una_funcion(func=dos)"
   ]
  },
  {
   "cell_type": "code",
   "execution_count": 7,
   "metadata": {},
   "outputs": [
    {
     "output_type": "stream",
     "name": "stdout",
     "text": [
      "Hola\n"
     ]
    }
   ],
   "source": [
    "def up (text):\n",
    "   return text.upper()\n",
    "def dos(num_string):\n",
    "    return num_string\n",
    "def f_recibe_una_funcion(func):\n",
    "        print(func(\"Hola\")) #el \"hola\" es el nombre del parametro x el que se va a sustituir el num_string dentro de dos y text dentro de up. no paso la referencia si no la llamada en este caso es la llamada\n",
    "f_recibe_una_funcion(func=dos)"
   ]
  },
  {
   "cell_type": "code",
   "execution_count": null,
   "metadata": {},
   "outputs": [],
   "source": [
    "def up (text):\n",
    "   return text.upper()\n",
    "def dos(num_string):\n",
    "    return num_string\n",
    "def f_recibe_una_funcion(func):\n",
    "        print(func(text=\"Hola\"))# en este caso no daria error con up xq text esta definido en la funcion up, ya que func se sustituye por up pero si se sustituye por la funcion dos al text no estar definido daria error esto es una referencia, referencias un parametro/argumentos a un valor\n",
    "f_recibe_una_funcion(func=dos)"
   ]
  },
  {
   "cell_type": "code",
   "execution_count": null,
   "metadata": {},
   "outputs": [],
   "source": [
    "#argfumentos / parametros es lo mismo dentro de una funcion (son las cosas en los parentesis cuando defines la funcion)"
   ]
  }
 ],
 "metadata": {
  "language_info": {
   "name": "python",
   "codemirror_mode": {
    "name": "ipython",
    "version": 3
   },
   "version": "3.7.4"
  },
  "orig_nbformat": 2,
  "file_extension": ".py",
  "mimetype": "text/x-python",
  "name": "python",
  "npconvert_exporter": "python",
  "pygments_lexer": "ipython3",
  "version": 3,
  "kernelspec": {
   "name": "python374jvsc74a57bd07945e9a82d7512fbf96246d9bbc29cd2f106c1a4a9cf54c9563dadf10f2237d4",
   "display_name": "Python 3.7.4 64-bit"
  },
  "metadata": {
   "interpreter": {
    "hash": "7945e9a82d7512fbf96246d9bbc29cd2f106c1a4a9cf54c9563dadf10f2237d4"
   }
  }
 },
 "nbformat": 4,
 "nbformat_minor": 2
}