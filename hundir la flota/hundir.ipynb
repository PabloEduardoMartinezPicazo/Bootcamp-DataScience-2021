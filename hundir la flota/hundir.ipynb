{
 "metadata": {
  "language_info": {
   "codemirror_mode": {
    "name": "ipython",
    "version": 3
   },
   "file_extension": ".py",
   "mimetype": "text/x-python",
   "name": "python",
   "nbconvert_exporter": "python",
   "pygments_lexer": "ipython3",
   "version": "3.7.4"
  },
  "orig_nbformat": 2,
  "kernelspec": {
   "name": "python374jvsc74a57bd07945e9a82d7512fbf96246d9bbc29cd2f106c1a4a9cf54c9563dadf10f2237d4",
   "display_name": "Python 3.7.4 64-bit"
  },
  "metadata": {
   "interpreter": {
    "hash": "7945e9a82d7512fbf96246d9bbc29cd2f106c1a4a9cf54c9563dadf10f2237d4"
   }
  }
 },
 "nbformat": 4,
 "nbformat_minor": 2,
 "cells": [
  {
   "cell_type": "code",
   "execution_count": null,
   "metadata": {},
   "outputs": [],
   "source": [
    "tablerovacio1 = pd.DataFrame({1: \"~\", 2: \"~\",3: \"~\",4: \"~\",5: \"~\",6: \"~\",7: \"~\",8: \"~\",9: \"~\",10: \"~\"},index=[1, 2,3,4,5,6,7,8,9,10])\n",
    "\n",
    "tablerovacio2 = pd.DataFrame({1: \"~\", 2: \"~\",3: \"~\",4: \"~\",5: \"~\",6: \"~\",7: \"~\",8: \"~\",9: \"~\",10: \"~\"},index=[1, 2,3,4,5,6,7,8,9,10])"
   ]
  },
  {
   "cell_type": "code",
   "execution_count": 2,
   "metadata": {},
   "outputs": [
    {
     "output_type": "error",
     "ename": "IndentationError",
     "evalue": "unexpected indent (<ipython-input-2-71952c1875dd>, line 2)",
     "traceback": [
      "\u001b[1;36m  File \u001b[1;32m\"<ipython-input-2-71952c1875dd>\"\u001b[1;36m, line \u001b[1;32m2\u001b[0m\n\u001b[1;33m    while posicion is None:\u001b[0m\n\u001b[1;37m    ^\u001b[0m\n\u001b[1;31mIndentationError\u001b[0m\u001b[1;31m:\u001b[0m unexpected indent\n"
     ]
    }
   ],
   "source": [
    "def ataquejugador1(tablerovacio1,tablerovacio2,tablero1,tablero2):\n",
    "    fil=int(\"Introduce la fila\")\n",
    "    col=int(\"Introduce la columna\")\n",
    "\n",
    "    if tablero1.loc[fil,col]== \"#\":\n",
    "        tablerovacio2[fil,col]=\"x\"\n",
    "        tablero1.loc[fil,col]=\"x\"\n",
    "        print(tablero1)\n",
    "        print(tablerovacio1)\n",
    "        print(tablero2)\n",
    "        print(tablerovacio2)\n",
    "        return tablerovacio2, tablero1\n",
    "    elif tablero1.loc[fil,col]== \"~\":\n",
    "        tablerovacio2[fil,col]=\"o\"\n",
    "        tablero1.loc[fil,col]=\"o\"\n",
    "        print(tablero1)\n",
    "        print(tablerovacio1)\n",
    "        print(tablero2)\n",
    "        print(tablerovacio2)\n",
    "        return tablerovacio2, tablero1\n",
    "    elif tablero1.loc[fil,col]=\"x\" or tablero1.loc[fil,col]=\"o\":\n",
    "        print(\"you have already attacked there\")\n",
    "        fil=int(\"Introduce la fila\")\n",
    "        col=int(\"Introduce la columna\")\n",
    "        \n",
    "\n"
   ]
  },
  {
   "cell_type": "code",
   "execution_count": null,
   "metadata": {},
   "outputs": [],
   "source": []
  }
 ]
}