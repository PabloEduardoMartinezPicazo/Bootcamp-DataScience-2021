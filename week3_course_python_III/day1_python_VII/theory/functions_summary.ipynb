{
 "metadata": {
  "language_info": {
   "codemirror_mode": {
    "name": "ipython",
    "version": 3
   },
   "file_extension": ".py",
   "mimetype": "text/x-python",
   "name": "python",
   "nbconvert_exporter": "python",
   "pygments_lexer": "ipython3",
   "version": "3.7.4"
  },
  "orig_nbformat": 2,
  "kernelspec": {
   "name": "python374jvsc74a57bd07945e9a82d7512fbf96246d9bbc29cd2f106c1a4a9cf54c9563dadf10f2237d4",
   "display_name": "Python 3.7.4 64-bit"
  },
  "metadata": {
   "interpreter": {
    "hash": "7945e9a82d7512fbf96246d9bbc29cd2f106c1a4a9cf54c9563dadf10f2237d4"
   }
  }
 },
 "nbformat": 4,
 "nbformat_minor": 2,
 "cells": [
  {
   "cell_type": "code",
   "execution_count": null,
   "metadata": {},
   "outputs": [],
   "source": [
    "def f():\n",
    "    print(1)"
   ]
  },
  {
   "cell_type": "code",
   "execution_count": null,
   "metadata": {},
   "outputs": [],
   "source": [
    "def f2(x):\n",
    "    print(x)"
   ]
  },
  {
   "cell_type": "code",
   "execution_count": null,
   "metadata": {},
   "outputs": [],
   "source": [
    "def f3(x, y=2): #nuevo tipo de funcion, en el que uno de los parametros ya vienen asignados, si le damos otro valor a y el valor que le demos al llamar a la funcion tiene preferencia\n",
    "# tampoco daria error si solo ponemos un valor a x ya que y tiene un valor asignado. is o si hay que darle un valor a x \n",
    "    print(x, y)"
   ]
  },
  {
   "cell_type": "code",
   "execution_count": null,
   "metadata": {},
   "outputs": [],
   "source": [
    "def f4(x, y=2):\n",
    "    print(x, y)\n",
    "    return x, y # asi lo expresa el return en tupla porque python por defecto te lo pone como tupla siempre que se asignen dos valores a una variable o dos variables dos valores se expresa en tupla x= 2,3 <- tupla"
   ]
  },
  {
   "cell_type": "code",
   "execution_count": null,
   "metadata": {},
   "outputs": [],
   "source": [
    "def f5(x=1, y=2): # si llamas a la funcion y le asignas un parametro por defecto sin asignar nada mas f5() no da error\n",
    "    print(x, y)\n",
    "    return x, y"
   ]
  },
  {
   "cell_type": "code",
   "execution_count": 1,
   "metadata": {},
   "outputs": [
    {
     "output_type": "error",
     "ename": "SyntaxError",
     "evalue": "non-default argument follows default argument (<ipython-input-1-2826d03305f2>, line 1)",
     "traceback": [
      "\u001b[1;36m  File \u001b[1;32m\"<ipython-input-1-2826d03305f2>\"\u001b[1;36m, line \u001b[1;32m1\u001b[0m\n\u001b[1;33m    def f5(x=1, y=2,z): # al llamar a la funcion asi daria erorrxq desde q el x esta igualado, todo tendría que estar igualado. en cambio x,y z=2, no daria error ya que no hay nada mas a la derecha de z que no tenga igual\u001b[0m\n\u001b[1;37m          ^\u001b[0m\n\u001b[1;31mSyntaxError\u001b[0m\u001b[1;31m:\u001b[0m non-default argument follows default argument\n"
     ]
    }
   ],
   "source": [
    "def f5(x=1, y=2,z): # al llamar a la funcion asi daria erorrxq desde q el x esta igualado, todo tendría que estar igualado. en cambio x,y z=2, no daria error ya que no hay nada mas a la derecha de z que no tenga igual\n",
    "    print(x, y)\n",
    "    return x, y\n",
    "f5(z=2)"
   ]
  },
  {
   "cell_type": "code",
   "execution_count": 4,
   "metadata": {},
   "outputs": [
    {
     "output_type": "stream",
     "name": "stdout",
     "text": [
      "2 2\n"
     ]
    },
    {
     "output_type": "execute_result",
     "data": {
      "text/plain": [
       "(2, 2)"
      ]
     },
     "metadata": {},
     "execution_count": 4
    }
   ],
   "source": [
    "def f5(x, y=2,z=1): # al llamar a la funcion asi no daria erorr ya que no hay nada mas a la derecha de y que no tenga igual aqui como todo lo que hay a ka derecha del primer parametro con igual no da error. \n",
    "    print(x, y)\n",
    "    return x, y\n",
    "f5(x=2)"
   ]
  },
  {
   "cell_type": "code",
   "execution_count": 4,
   "metadata": {},
   "outputs": [],
   "source": [
    "x = lambda r: print(2)"
   ]
  }
 ]
}