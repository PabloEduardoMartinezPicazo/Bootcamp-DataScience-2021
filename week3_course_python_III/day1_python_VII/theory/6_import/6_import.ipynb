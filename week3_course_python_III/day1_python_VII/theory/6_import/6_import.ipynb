{
 "cells": [
  {
   "cell_type": "markdown",
   "metadata": {},
   "source": [
    "# Apartado 6 - Import"
   ]
  },
  {
   "cell_type": "markdown",
   "metadata": {},
   "source": [
    "- Import modulos\n",
    "- Abrir ficheros"
   ]
  },
  {
   "cell_type": "markdown",
   "metadata": {},
   "source": [
    "------------------------------------------------------------------"
   ]
  },
  {
   "cell_type": "markdown",
   "metadata": {},
   "source": [
    "## Import modulos"
   ]
  },
  {
   "cell_type": "markdown",
   "metadata": {},
   "source": [
    "[HELP](https://realpython.com/python-modules-packages/)"
   ]
  },
  {
   "cell_type": "code",
   "execution_count": 5,
   "metadata": {},
   "outputs": [],
   "source": [
    "import mi_modulo "
   ]
  },
  {
   "cell_type": "code",
   "execution_count": 6,
   "metadata": {},
   "outputs": [
    {
     "output_type": "execute_result",
     "data": {
      "text/plain": [
       "1"
      ]
     },
     "metadata": {},
     "execution_count": 6
    }
   ],
   "source": [
    "resta = mi_modulo.resta_2(a=7, b=6)\n",
    "resta"
   ]
  },
  {
   "cell_type": "code",
   "execution_count": 7,
   "metadata": {},
   "outputs": [
    {
     "output_type": "execute_result",
     "data": {
      "text/plain": [
       "2"
      ]
     },
     "metadata": {},
     "execution_count": 7
    }
   ],
   "source": [
    "from mi_modulo import resta_2 #asi importo solo una funcion resta 2  mejor importar asi para no saturar todo lo que no quiera \n",
    "\n",
    "resta2 = resta_2(a=5, b=3)\n",
    "resta2"
   ]
  },
  {
   "cell_type": "code",
   "execution_count": 9,
   "metadata": {},
   "outputs": [],
   "source": [
    "from mi_modulo import resta_2, suma_2 # para importar dos funciones de un modulo \n"
   ]
  },
  {
   "cell_type": "code",
   "execution_count": 11,
   "metadata": {},
   "outputs": [
    {
     "output_type": "stream",
     "name": "stdout",
     "text": [
      "2\n"
     ]
    }
   ],
   "source": [
    "x=5 #no muestra el 5 xq muestra el ultimo valor \n",
    "from mi_modulo import resta_2, suma_2, x #puedo importar variables \n",
    "print(x)"
   ]
  },
  {
   "cell_type": "code",
   "execution_count": null,
   "metadata": {},
   "outputs": [],
   "source": [
    "import pandas as pd\n",
    "import numpy as np\n",
    "import tensorflow as tf # las librerias desde las que importamos "
   ]
  },
  {
   "cell_type": "code",
   "execution_count": 8,
   "metadata": {},
   "outputs": [
    {
     "output_type": "error",
     "ename": "TypeError",
     "evalue": "resta_2() missing 2 required positional arguments: 'a' and 'b'",
     "traceback": [
      "\u001b[1;31m---------------------------------------------------------------------------\u001b[0m",
      "\u001b[1;31mTypeError\u001b[0m                                 Traceback (most recent call last)",
      "\u001b[1;32m<ipython-input-8-cf17b977e01b>\u001b[0m in \u001b[0;36m<module>\u001b[1;34m\u001b[0m\n\u001b[0;32m      1\u001b[0m \u001b[1;32mimport\u001b[0m \u001b[0mmi_modulo\u001b[0m \u001b[1;32mas\u001b[0m \u001b[0mmm\u001b[0m\u001b[1;33m\u001b[0m\u001b[1;33m\u001b[0m\u001b[0m\n\u001b[0;32m      2\u001b[0m \u001b[1;33m\u001b[0m\u001b[0m\n\u001b[1;32m----> 3\u001b[1;33m \u001b[0mmm\u001b[0m\u001b[1;33m.\u001b[0m\u001b[0mresta_2\u001b[0m\u001b[1;33m(\u001b[0m\u001b[1;33m)\u001b[0m\u001b[1;33m\u001b[0m\u001b[1;33m\u001b[0m\u001b[0m\n\u001b[0m",
      "\u001b[1;31mTypeError\u001b[0m: resta_2() missing 2 required positional arguments: 'a' and 'b'"
     ]
    }
   ],
   "source": [
    "import mi_modulo as mm\n",
    "\n",
    "mm.\"\"\"con el punto despues de como he llamado a lo que importo me enseña las coas que tienen ese modulo\"\"\"resta_2()"
   ]
  },
  {
   "cell_type": "markdown",
   "metadata": {},
   "source": [
    "--------------------------------------------------------------------------"
   ]
  },
  {
   "cell_type": "code",
   "execution_count": 1,
   "metadata": {},
   "outputs": [
    {
     "output_type": "execute_result",
     "data": {
      "text/plain": [
       "['z:\\\\Data_Science\\\\TheBridge\\\\Content\\\\Contenido_Curso\\\\data_science_apr_2021\\\\week3_precurse_python_III\\\\day1_python_X\\\\exercises\\\\6_import',\n",
       " 'c:\\\\Users\\\\gvazquez\\\\.vscode\\\\extensions\\\\ms-toolsai.jupyter-2021.5.745244803\\\\pythonFiles',\n",
       " 'c:\\\\Users\\\\gvazquez\\\\.vscode\\\\extensions\\\\ms-toolsai.jupyter-2021.5.745244803\\\\pythonFiles',\n",
       " 'c:\\\\Users\\\\gvazquez\\\\.vscode\\\\extensions\\\\ms-toolsai.jupyter-2021.5.745244803\\\\pythonFiles\\\\lib\\\\python',\n",
       " 'Z:\\\\Data_Science\\\\Software\\\\Python\\\\Python_3.6.4\\\\python36.zip',\n",
       " 'Z:\\\\Data_Science\\\\Software\\\\Python\\\\Python_3.6.4\\\\DLLs',\n",
       " 'Z:\\\\Data_Science\\\\Software\\\\Python\\\\Python_3.6.4\\\\lib',\n",
       " 'Z:\\\\Data_Science\\\\Software\\\\Python\\\\Python_3.6.4',\n",
       " '',\n",
       " 'C:\\\\Users\\\\gvazquez\\\\AppData\\\\Roaming\\\\Python\\\\Python36\\\\site-packages',\n",
       " 'C:\\\\Users\\\\gvazquez\\\\AppData\\\\Roaming\\\\Python\\\\Python36\\\\site-packages\\\\win32',\n",
       " 'C:\\\\Users\\\\gvazquez\\\\AppData\\\\Roaming\\\\Python\\\\Python36\\\\site-packages\\\\win32\\\\lib',\n",
       " 'C:\\\\Users\\\\gvazquez\\\\AppData\\\\Roaming\\\\Python\\\\Python36\\\\site-packages\\\\Pythonwin',\n",
       " 'Z:\\\\Data_Science\\\\Software\\\\Python\\\\Python_3.6.4\\\\lib\\\\site-packages',\n",
       " 'C:\\\\Users\\\\gvazquez\\\\AppData\\\\Roaming\\\\Python\\\\Python36\\\\site-packages\\\\IPython\\\\extensions',\n",
       " 'C:\\\\Users\\\\gvazquez\\\\.ipython']"
      ]
     },
     "metadata": {},
     "execution_count": 1
    }
   ],
   "source": [
    "import sys #sys es una biblioteca que tiene ya de python tiene instalada. \n",
    "sys.path #sys.path nos deja importar  todo lo que este en las carpetas que salgan dentr ode sys.path (archivos .py)\n",
    "#tendria que estar dentro de la carpeta donde estuviese dentro de las que se muestren con sys\n",
    "#sys.path muestra rutas que nos deja importar si estan en estos archivos"
   ]
  },
  {
   "cell_type": "code",
   "execution_count": 2,
   "metadata": {},
   "outputs": [
    {
     "output_type": "execute_result",
     "data": {
      "text/plain": [
       "'z:\\\\Data_Science\\\\TheBridge\\\\Content\\\\Contenido_Curso\\\\data_science_apr_2021\\\\week3_precurse_python_III\\\\day1_python_X\\\\exercises\\\\6_import\\\\mi_modulo.py'"
      ]
     },
     "metadata": {},
     "execution_count": 2
    }
   ],
   "source": [
    "import mi_modulo as mm # donde se guarda el modulo en el pc \n",
    "\n",
    "mm.__file__"
   ]
  },
  {
   "cell_type": "code",
   "execution_count": 6,
   "metadata": {},
   "outputs": [
    {
     "output_type": "execute_result",
     "data": {
      "text/plain": [
       "'Z:\\\\Data_Science\\\\Software\\\\Python\\\\Python_3.6.4\\\\lib\\\\re.py'"
      ]
     },
     "metadata": {},
     "execution_count": 6
    }
   ],
   "source": [
    "import re\n",
    "\n",
    "re.__file__ # si importo algo que no tengo creado, me crea un archivo donde tengo instalado python"
   ]
  },
  {
   "cell_type": "code",
   "execution_count": 15,
   "metadata": {},
   "outputs": [
    {
     "output_type": "error",
     "ename": "SyntaxError",
     "evalue": "invalid syntax (archivo_dentro_de_f.py, line 1)",
     "traceback": [
      "Traceback \u001b[1;36m(most recent call last)\u001b[0m:\n",
      "  File \u001b[0;32m\"C:\\Users\\Administrator\\AppData\\Roaming\\Python\\Python37\\site-packages\\IPython\\core\\interactiveshell.py\"\u001b[0m, line \u001b[0;32m3437\u001b[0m, in \u001b[0;35mrun_code\u001b[0m\n    exec(code_obj, self.user_global_ns, self.user_ns)\n",
      "\u001b[1;36m  File \u001b[1;32m\"<ipython-input-15-2ef950806e19>\"\u001b[1;36m, line \u001b[1;32m2\u001b[1;36m, in \u001b[1;35m<module>\u001b[1;36m\u001b[0m\n\u001b[1;33m    import f.archivo_dentro_de_f as adf\u001b[0m\n",
      "\u001b[1;36m  File \u001b[1;32m\"c:\\Users\\Administrator\\Desktop\\TheBridge\\Bootcamp-DataScience-2021\\week3_course_python_III\\day1_python_VII\\theory\\6_import\\f\\archivo_dentro_de_f.py\"\u001b[1;36m, line \u001b[1;32m1\u001b[0m\n\u001b[1;33m    def f1 ()\u001b[0m\n\u001b[1;37m             ^\u001b[0m\n\u001b[1;31mSyntaxError\u001b[0m\u001b[1;31m:\u001b[0m invalid syntax\n"
     ]
    }
   ],
   "source": [
    "# si creas una carpeta dentro de 6_import y dentro un archivo .py. y ahora quiero acceder a un archivo que esta dentro de una carpeta. para acceder un fichero dentro de otra carpeta dentro de 6_import se haria asi:\n",
    "import f.archivo_dentro_de_f as adf \n",
    "\n",
    "adf.f1()"
   ]
  },
  {
   "cell_type": "code",
   "execution_count": null,
   "metadata": {},
   "outputs": [],
   "source": []
  }
 ],
 "metadata": {
  "kernelspec": {
   "name": "python374jvsc74a57bd07945e9a82d7512fbf96246d9bbc29cd2f106c1a4a9cf54c9563dadf10f2237d4",
   "display_name": "Python 3.7.4 64-bit"
  },
  "language_info": {
   "codemirror_mode": {
    "name": "ipython",
    "version": 3
   },
   "file_extension": ".py",
   "mimetype": "text/x-python",
   "name": "python",
   "nbconvert_exporter": "python",
   "pygments_lexer": "ipython3",
   "version": "3.7.4"
  },
  "metadata": {
   "interpreter": {
    "hash": "7945e9a82d7512fbf96246d9bbc29cd2f106c1a4a9cf54c9563dadf10f2237d4"
   }
  }
 },
 "nbformat": 4,
 "nbformat_minor": 4
}