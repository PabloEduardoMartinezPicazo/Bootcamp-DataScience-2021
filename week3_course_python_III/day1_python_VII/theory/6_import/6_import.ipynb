{
 "cells": [
  {
   "cell_type": "markdown",
   "metadata": {},
   "source": [
    "# Apartado 6 - Import"
   ]
  },
  {
   "cell_type": "markdown",
   "metadata": {},
   "source": [
    "- Import modulos\n",
    "- Abrir ficheros"
   ]
  },
  {
   "cell_type": "markdown",
   "metadata": {},
   "source": [
    "------------------------------------------------------------------"
   ]
  },
  {
   "cell_type": "markdown",
   "metadata": {},
   "source": [
    "## Import modulos"
   ]
  },
  {
   "cell_type": "markdown",
   "metadata": {},
   "source": [
    "[HELP](https://realpython.com/python-modules-packages/)"
   ]
  },
  {
   "cell_type": "code",
   "execution_count": 3,
   "metadata": {},
   "outputs": [
    {
     "output_type": "execute_result",
     "data": {
      "text/plain": [
       "-1"
      ]
     },
     "metadata": {},
     "execution_count": 3
    }
   ],
   "source": [
    "#importando un módulo/librería/fichero que se llama mi modulo con un alias\"mm\"\n",
    "import mi_modulo as mm \n",
    "mm.resta_2(a=2,b=3) # importamos todo lo que tiene mi modulo, y llamamos a la funcion resta_2"
   ]
  },
  {
   "cell_type": "code",
   "execution_count": 6,
   "metadata": {},
   "outputs": [
    {
     "output_type": "execute_result",
     "data": {
      "text/plain": [
       "1"
      ]
     },
     "metadata": {},
     "execution_count": 6
    }
   ],
   "source": [
    "resta = mi_modulo.resta_2(a=7, b=6)\n",
    "resta"
   ]
  },
  {
   "cell_type": "code",
   "execution_count": 7,
   "metadata": {},
   "outputs": [
    {
     "output_type": "execute_result",
     "data": {
      "text/plain": [
       "2"
      ]
     },
     "metadata": {},
     "execution_count": 7
    }
   ],
   "source": [
    "from mi_modulo import resta_2 #asi importo solo una funcion resta 2  mejor importar asi para no saturar todo lo que no quiera, si sabemos lo que queremos importar\n",
    "\n",
    "resta2 = resta_2(a=5, b=3) #ahora podemos llamar a esta funcion sin llamar al modulo no se pone mm.resta_2 como arriba\n",
    "resta2"
   ]
  },
  {
   "cell_type": "code",
   "execution_count": 9,
   "metadata": {},
   "outputs": [],
   "source": [
    "from mi_modulo import resta_2, suma_2 # para importar dos funciones de un modulo \n"
   ]
  },
  {
   "cell_type": "code",
   "execution_count": 11,
   "metadata": {},
   "outputs": [
    {
     "output_type": "stream",
     "name": "stdout",
     "text": [
      "2\n"
     ]
    }
   ],
   "source": [
    "x=5 #no muestra el 5 xq muestra el ultimo valor \n",
    "from mi_modulo import resta_2, suma_2, x #puedo importar variables \n",
    "print(x)"
   ]
  },
  {
   "cell_type": "code",
   "execution_count": null,
   "metadata": {},
   "outputs": [],
   "source": [
    "import pandas as pd\n",
    "import numpy as np\n",
    "import tensorflow as tf # las librerias desde las que importamos "
   ]
  },
  {
   "cell_type": "code",
   "execution_count": 7,
   "metadata": {},
   "outputs": [
    {
     "output_type": "execute_result",
     "data": {
      "text/plain": [
       "2"
      ]
     },
     "metadata": {},
     "execution_count": 7
    }
   ],
   "source": [
    "import mi_modulo as mm\n",
    "\n",
    "mm.resta_2(a=3,b=5) #con el punto despues de como he llamado a lo que importo me enseña las coas que tienen ese modulo\"\"\"\n",
    "mm.x # asi muestra x recordar muestra la ultima linea"
   ]
  },
  {
   "cell_type": "code",
   "execution_count": null,
   "metadata": {},
   "outputs": [],
   "source": [
    " # puedo importar mi modulo porque esta dentro de mi carpeta import porque esta en el path de sys -> mirar abajo. "
   ]
  },
  {
   "cell_type": "markdown",
   "metadata": {},
   "source": [
    "--------------------------------------------------------------------------"
   ]
  },
  {
   "cell_type": "code",
   "execution_count": null,
   "metadata": {},
   "outputs": [],
   "source": [
    "# si modifico un fichero que se ha importado, necesito volver a ejecutarlo para que aplique los cambios de ese doc \n",
    "# si me da algun tipo de error de que no existe una funcion importada que he modificado tengo que dar al cuadrado, luego a la flecha de retorno verde(cuadro superior) y volver a ejecutar la importacion y luego la funcion"
   ]
  },
  {
   "cell_type": "code",
   "execution_count": 2,
   "metadata": {},
   "outputs": [
    {
     "output_type": "stream",
     "name": "stdout",
     "text": [
      "2\n"
     ]
    }
   ],
   "source": [
    "# si creas una carpeta dentro de 6_import y dentro un archivo .py. y ahora quiero acceder a un archivo que esta dentro de una carpeta. para acceder un fichero dentro de otra carpeta dentro de 6_import se haria asi:\n",
    "import f.archivo_dentro_de_f as adf \n",
    "adf.f1()"
   ]
  },
  {
   "cell_type": "code",
   "execution_count": 3,
   "metadata": {},
   "outputs": [
    {
     "output_type": "stream",
     "name": "stdout",
     "text": [
      "2\n"
     ]
    }
   ],
   "source": [
    "from f.archivo_dentro_de_f import * #esto importaria todo. no es una buena practica. mejor importar el fichero y acceder a el usando la funcion, variable que queremos\n",
    "#x=3  si yo tengo esta variable coon este valor, cuando ejecute el import* lo que valga en ese archivo que importo va a aempezar a valer dedse que lo importe. por eso no es bueno importar todo. SEPAMOS QUE EXISTE PERO NO LO USAMOS\n",
    "f1() # si importo con asterisco no tengo que poner el alias para acceder a las variables "
   ]
  },
  {
   "cell_type": "code",
   "execution_count": null,
   "metadata": {},
   "outputs": [],
   "source": [
    "#si un archivo esta dentro de una carpeta seria import f.k.archivo_dentro_de_k as addk -> el punto indica carpetas y en ultima instancia un archivo"
   ]
  },
  {
   "cell_type": "code",
   "execution_count": 4,
   "metadata": {},
   "outputs": [
    {
     "output_type": "stream",
     "name": "stdout",
     "text": [
      "estoy en paths\n"
     ]
    }
   ],
   "source": [
    "def mi_funcion():\n",
    "    print(\"estoy en paths\")\n",
    "mi_funcion() #aqui muestra mi funcion de aqui "
   ]
  },
  {
   "cell_type": "code",
   "execution_count": 1,
   "metadata": {},
   "outputs": [
    {
     "output_type": "stream",
     "name": "stdout",
     "text": [
      "estoy dentro del fichero f\n"
     ]
    }
   ],
   "source": [
    "from f.archivo_dentro_de_f import mi_funcion # aqui importo mi funcion del fuchero archivo_dentro_de_f\n",
    "mi_funcion()"
   ]
  },
  {
   "cell_type": "code",
   "execution_count": 2,
   "metadata": {},
   "outputs": [
    {
     "output_type": "stream",
     "name": "stdout",
     "text": [
      "estoy dentro del fichero f\n"
     ]
    }
   ],
   "source": [
    "import f.archivo_dentro_de_f as fichero_f\n",
    "fichero_f.mi_funcion() # si lo hago asi no sobreescribo mi funcion de esta pagina ya que para invocarla tienes uqe decir desde que doc viene."
   ]
  },
  {
   "cell_type": "code",
   "execution_count": null,
   "metadata": {},
   "outputs": [],
   "source": []
  },
  {
   "cell_type": "code",
   "execution_count": 6,
   "metadata": {},
   "outputs": [
    {
     "output_type": "execute_result",
     "data": {
      "text/plain": [
       "'Z:\\\\Data_Science\\\\Software\\\\Python\\\\Python_3.6.4\\\\lib\\\\re.py'"
      ]
     },
     "metadata": {},
     "execution_count": 6
    }
   ],
   "source": [
    "import re\n",
    "\n",
    "re.__file__ # si importo algo que no tengo creado, me crea un archivo donde tengo instalado python"
   ]
  },
  {
   "cell_type": "code",
   "execution_count": 2,
   "metadata": {},
   "outputs": [
    {
     "output_type": "execute_result",
     "data": {
      "text/plain": [
       "'z:\\\\Data_Science\\\\TheBridge\\\\Content\\\\Contenido_Curso\\\\data_science_apr_2021\\\\week3_precurse_python_III\\\\day1_python_X\\\\exercises\\\\6_import\\\\mi_modulo.py'"
      ]
     },
     "metadata": {},
     "execution_count": 2
    }
   ],
   "source": [
    "import mi_modulo as mm # donde se guarda el modulo en el pc \n",
    "\n",
    "mm.__file__"
   ]
  },
  {
   "cell_type": "code",
   "execution_count": 1,
   "metadata": {},
   "outputs": [
    {
     "output_type": "execute_result",
     "data": {
      "text/plain": [
       "['z:\\\\Data_Science\\\\TheBridge\\\\Content\\\\Contenido_Curso\\\\data_science_apr_2021\\\\week3_precurse_python_III\\\\day1_python_X\\\\exercises\\\\6_import',\n",
       " 'c:\\\\Users\\\\gvazquez\\\\.vscode\\\\extensions\\\\ms-toolsai.jupyter-2021.5.745244803\\\\pythonFiles',\n",
       " 'c:\\\\Users\\\\gvazquez\\\\.vscode\\\\extensions\\\\ms-toolsai.jupyter-2021.5.745244803\\\\pythonFiles',\n",
       " 'c:\\\\Users\\\\gvazquez\\\\.vscode\\\\extensions\\\\ms-toolsai.jupyter-2021.5.745244803\\\\pythonFiles\\\\lib\\\\python',\n",
       " 'Z:\\\\Data_Science\\\\Software\\\\Python\\\\Python_3.6.4\\\\python36.zip',\n",
       " 'Z:\\\\Data_Science\\\\Software\\\\Python\\\\Python_3.6.4\\\\DLLs',\n",
       " 'Z:\\\\Data_Science\\\\Software\\\\Python\\\\Python_3.6.4\\\\lib',\n",
       " 'Z:\\\\Data_Science\\\\Software\\\\Python\\\\Python_3.6.4',\n",
       " '',\n",
       " 'C:\\\\Users\\\\gvazquez\\\\AppData\\\\Roaming\\\\Python\\\\Python36\\\\site-packages',\n",
       " 'C:\\\\Users\\\\gvazquez\\\\AppData\\\\Roaming\\\\Python\\\\Python36\\\\site-packages\\\\win32',\n",
       " 'C:\\\\Users\\\\gvazquez\\\\AppData\\\\Roaming\\\\Python\\\\Python36\\\\site-packages\\\\win32\\\\lib',\n",
       " 'C:\\\\Users\\\\gvazquez\\\\AppData\\\\Roaming\\\\Python\\\\Python36\\\\site-packages\\\\Pythonwin',\n",
       " 'Z:\\\\Data_Science\\\\Software\\\\Python\\\\Python_3.6.4\\\\lib\\\\site-packages',\n",
       " 'C:\\\\Users\\\\gvazquez\\\\AppData\\\\Roaming\\\\Python\\\\Python36\\\\site-packages\\\\IPython\\\\extensions',\n",
       " 'C:\\\\Users\\\\gvazquez\\\\.ipython']"
      ]
     },
     "metadata": {},
     "execution_count": 1
    }
   ],
   "source": [
    "import sys #sys es una biblioteca que tiene ya de python tiene instalada.  siempre por d efecto aparece la ruta de la carpeta donde esto en este caso estoy en la carpeta import\n",
    "sys.path #sys.path nos deja importar  todo lo que este en las carpetas que salgan dentro de sys.path (archivos .py)\n",
    "#tendria que estar dentro de la carpeta donde estuviese dentro de las que se muestren con sys\n",
    "#sys.path muestra rutas que nos deja importar si estan en estos archivos es de tipo lista este tipo de archivo"
   ]
  },
  {
   "cell_type": "code",
   "execution_count": null,
   "metadata": {},
   "outputs": [],
   "source": [
    "#si quiero es añadir un archivo que esta en una carpeta por encima de la mia, es decir estoy en f y quiero añadir algo de que esta en 6_import tendria que importar esa 6_import "
   ]
  },
  {
   "cell_type": "code",
   "execution_count": 4,
   "metadata": {},
   "outputs": [],
   "source": [
    " # import a # a no esta dentro de mi carpeta. por lo tanto hay que añadir a sys.path la ruta de la carpeta superior a \"a\"\n",
    "\n",
    "#hay que poner dos barras entre todo\n",
    "ruta_absoluta1= \"c:\\\\Users\\\\Administrator\\\\Desktop\\\\TheBridge\\\\Bootcamp-DataScience-2021\\\\week3_course_python_III\\\\day1_python_VII\\\\theory\\\\6_import\"\n",
    "sys.path.append(ruta_absoluta1) #asi agregamos algo que esta por encima de donde he hecho import y de una carpeta superior. asi que hay que coger la ruta absoluta, y poner doble barra y luego hacer append. tambien se puede eliminar el ultimo elemento con pop"
   ]
  },
  {
   "cell_type": "code",
   "execution_count": 7,
   "metadata": {},
   "outputs": [
    {
     "output_type": "error",
     "ename": "SyntaxError",
     "evalue": "EOL while scanning string literal (<ipython-input-7-9c3ed138ced0>, line 3)",
     "traceback": [
      "\u001b[1;36m  File \u001b[1;32m\"<ipython-input-7-9c3ed138ced0>\"\u001b[1;36m, line \u001b[1;32m3\u001b[0m\n\u001b[1;33m    print(\"\\\"\"\") #muestrauna comida\u001b[0m\n\u001b[1;37m                                   ^\u001b[0m\n\u001b[1;31mSyntaxError\u001b[0m\u001b[1;31m:\u001b[0m EOL while scanning string literal\n"
     ]
    }
   ],
   "source": [
    "# EXTRA \n",
    "print(\"\\\\\") #muestra una barra\n",
    "print(\"\\\"\"\") #muestrauna comilla"
   ]
  },
  {
   "cell_type": "code",
   "execution_count": null,
   "metadata": {},
   "outputs": [],
   "source": [
    "#formar relatia es con una barra no doble barra. y siempre depende de otro sitio\n",
    "import f.archivo_dentro_de_f # esto es relativa depende de otor sitio"
   ]
  },
  {
   "cell_type": "code",
   "execution_count": null,
   "metadata": {},
   "outputs": [],
   "source": [
    "#copy path -> absoluta\n",
    "ruta_absoluta =\"C:\\Users\\Administrator\\Desktop\\TheBridge\\Bootcamp-DataScience-2021\\week3_course_python_III\\day1_python_VII\\theory\\6_import\\6_import.ipynb\""
   ]
  },
  {
   "cell_type": "code",
   "execution_count": null,
   "metadata": {},
   "outputs": [],
   "source": [
    "# copy relative path -> relativo, para entregar proyectos es muy importante que se ejecuten en mi pc y en el de cualquier otro por eso se usan paths relativos\n",
    "ruta_relativa= \"week3_course_python_III\\day1_python_VII\\theory\\6_import\\6_import.ipynb\""
   ]
  },
  {
   "cell_type": "code",
   "execution_count": null,
   "metadata": {},
   "outputs": [],
   "source": []
  },
  {
   "cell_type": "code",
   "execution_count": 2,
   "metadata": {},
   "outputs": [
    {
     "output_type": "execute_result",
     "data": {
      "text/plain": [
       "'c:\\\\Users\\\\Administrator\\\\Desktop\\\\TheBridge\\\\Bootcamp-DataScience-2021\\\\week3_course_python_III\\\\day1_python_VII\\\\theory\\\\6_import'"
      ]
     },
     "metadata": {},
     "execution_count": 2
    }
   ],
   "source": [
    "import os # es una libreria archivo .py built-in de python\n",
    "os.getcwd() #me da la ruta de la carpeta donde estoy en python __file__ para .py\n"
   ]
  },
  {
   "cell_type": "code",
   "execution_count": 5,
   "metadata": {},
   "outputs": [
    {
     "output_type": "execute_result",
     "data": {
      "text/plain": [
       "'c:\\\\Users\\\\Administrator\\\\Desktop\\\\TheBridge\\\\Bootcamp-DataScience-2021\\\\week3_course_python_III\\\\day1_python_VII\\\\theory'"
      ]
     },
     "metadata": {},
     "execution_count": 5
    }
   ],
   "source": [
    "os.path.dirname(os.getcwd()) #me da la ruta de la carpeta por enciam de donde estoy el \"path\" no es una funcion estoy accediendo a dirname"
   ]
  },
  {
   "cell_type": "code",
   "execution_count": 7,
   "metadata": {},
   "outputs": [
    {
     "output_type": "execute_result",
     "data": {
      "text/plain": [
       "'c:\\\\Users\\\\Administrator\\\\Desktop\\\\TheBridge\\\\Bootcamp-DataScience-2021\\\\week3_course_python_III\\\\day1_python_VII'"
      ]
     },
     "metadata": {},
     "execution_count": 7
    }
   ],
   "source": [
    "os.path.dirname(os.path.dirname(os.getcwd())) #me sube dos veces etc etc se puede hacer todas las veces que quiera"
   ]
  },
  {
   "cell_type": "code",
   "execution_count": 10,
   "metadata": {},
   "outputs": [
    {
     "output_type": "stream",
     "name": "stdout",
     "text": [
      "c:\\Users\\Administrator\\Desktop\\TheBridge\\Bootcamp-DataScience-2021\\week3_course_python_III\\day1_python_VII\\theory\\6_import\nc:\\Users\\Administrator\\Desktop\\TheBridge\\Bootcamp-DataScience-2021\\week3_course_python_III\\day1_python_VII\\theory\nc:\\Users\\Administrator\\Desktop\\TheBridge\\Bootcamp-DataScience-2021\\week3_course_python_III\\day1_python_VII\nc:\\Users\\Administrator\\Desktop\\TheBridge\\Bootcamp-DataScience-2021\\week3_course_python_III\nc:\\Users\\Administrator\\Desktop\\TheBridge\\Bootcamp-DataScience-2021\n"
     ]
    },
    {
     "output_type": "execute_result",
     "data": {
      "text/plain": [
       "['c:\\\\Users\\\\Administrator\\\\Desktop\\\\TheBridge\\\\Bootcamp-DataScience-2021\\\\week3_course_python_III\\\\day1_python_VII\\\\theory\\\\6_import',\n",
       " 'c:\\\\Users\\\\Administrator\\\\.vscode\\\\extensions\\\\ms-toolsai.jupyter-2021.5.745244803\\\\pythonFiles',\n",
       " 'c:\\\\Users\\\\Administrator\\\\.vscode\\\\extensions\\\\ms-toolsai.jupyter-2021.5.745244803\\\\pythonFiles\\\\lib\\\\python',\n",
       " 'C:\\\\Users\\\\Administrator\\\\AppData\\\\Local\\\\Programs\\\\Python\\\\Python37\\\\python37.zip',\n",
       " 'C:\\\\Users\\\\Administrator\\\\AppData\\\\Local\\\\Programs\\\\Python\\\\Python37\\\\DLLs',\n",
       " 'C:\\\\Users\\\\Administrator\\\\AppData\\\\Local\\\\Programs\\\\Python\\\\Python37\\\\lib',\n",
       " 'C:\\\\Users\\\\Administrator\\\\AppData\\\\Local\\\\Programs\\\\Python\\\\Python37',\n",
       " '',\n",
       " 'C:\\\\Users\\\\Administrator\\\\AppData\\\\Roaming\\\\Python\\\\Python37\\\\site-packages',\n",
       " 'C:\\\\Users\\\\Administrator\\\\AppData\\\\Roaming\\\\Python\\\\Python37\\\\site-packages\\\\win32',\n",
       " 'C:\\\\Users\\\\Administrator\\\\AppData\\\\Roaming\\\\Python\\\\Python37\\\\site-packages\\\\win32\\\\lib',\n",
       " 'C:\\\\Users\\\\Administrator\\\\AppData\\\\Roaming\\\\Python\\\\Python37\\\\site-packages\\\\Pythonwin',\n",
       " 'C:\\\\Users\\\\Administrator\\\\AppData\\\\Local\\\\Programs\\\\Python\\\\Python37\\\\lib\\\\site-packages',\n",
       " 'C:\\\\Users\\\\Administrator\\\\AppData\\\\Roaming\\\\Python\\\\Python37\\\\site-packages\\\\IPython\\\\extensions',\n",
       " 'C:\\\\Users\\\\Administrator\\\\.ipython',\n",
       " 'c:\\\\Users\\\\Administrator\\\\Desktop\\\\TheBridge\\\\Bootcamp-DataScience-2021\\\\week3_course_python_III\\\\day1_python_VII\\\\theory\\\\6_import',\n",
       " 'c:\\\\Users\\\\Administrator\\\\Desktop\\\\TheBridge\\\\Bootcamp-DataScience-2021',\n",
       " 'c:\\\\Users\\\\Administrator\\\\Desktop\\\\TheBridge\\\\Bootcamp-DataScience-2021']"
      ]
     },
     "metadata": {},
     "execution_count": 10
    }
   ],
   "source": [
    "ruta=os.getcwd()\n",
    "print(ruta)\n",
    "for i in range (4):\n",
    "    ruta=os.path.dirname(ruta) #esto se va a hacer 4 veces vaa a subir en nuestor caso 4 veces\n",
    "    print(ruta)\n",
    "sys.path.append(ruta)\n",
    "sys.path #asi importamos la carpeta raiz que en nuestor caso esta en el rango 4  #siempre existe una carpeta raiz que nos hace que todo lo que este por debajo podamos trabajar"
   ]
  },
  {
   "cell_type": "code",
   "execution_count": 13,
   "metadata": {},
   "outputs": [
    {
     "output_type": "execute_result",
     "data": {
      "text/plain": [
       "2"
      ]
     },
     "metadata": {},
     "execution_count": 13
    }
   ],
   "source": [
    "import week3_course_python_III.day2_python_VIII.theory.imports.mi_modulo as mi_modulo_bb\n",
    "mi_modulo_bb.x"
   ]
  },
  {
   "cell_type": "code",
   "execution_count": null,
   "metadata": {},
   "outputs": [],
   "source": [
    "#jupyter me da la ruta a la carpeta donde estoy en .py me da la carpeta raiz asi que hay que usar print(__file__\n",
    "#si usamos jupypter usamos cwd y en .py usamos print(__file__)) en .py no hay que importar os para luego usar file. recordar que en jupyter primero hay que hacer import os y luego ya el codigo cwd\n",
    "#  .py ->\"__file__\"\n",
    "#.ipynb os.getcwd()"
   ]
  },
  {
   "cell_type": "code",
   "execution_count": null,
   "metadata": {},
   "outputs": [],
   "source": [
    "#para agregar una ruta dentro de una ruta\n",
    "#os.sep es una variable que contiene una barra de rutas del sistema operativo\n",
    "ruta+"
   ]
  }
 ],
 "metadata": {
  "kernelspec": {
   "name": "python374jvsc74a57bd07945e9a82d7512fbf96246d9bbc29cd2f106c1a4a9cf54c9563dadf10f2237d4",
   "display_name": "Python 3.7.4 64-bit"
  },
  "language_info": {
   "codemirror_mode": {
    "name": "ipython",
    "version": 3
   },
   "file_extension": ".py",
   "mimetype": "text/x-python",
   "name": "python",
   "nbconvert_exporter": "python",
   "pygments_lexer": "ipython3",
   "version": "3.7.4"
  },
  "metadata": {
   "interpreter": {
    "hash": "7945e9a82d7512fbf96246d9bbc29cd2f106c1a4a9cf54c9563dadf10f2237d4"
   }
  }
 },
 "nbformat": 4,
 "nbformat_minor": 4
}