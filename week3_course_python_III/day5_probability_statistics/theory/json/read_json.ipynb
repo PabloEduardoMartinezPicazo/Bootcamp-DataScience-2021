{
 "metadata": {
  "language_info": {
   "codemirror_mode": {
    "name": "ipython",
    "version": 3
   },
   "file_extension": ".py",
   "mimetype": "text/x-python",
   "name": "python",
   "nbconvert_exporter": "python",
   "pygments_lexer": "ipython3",
   "version": "3.7.4"
  },
  "orig_nbformat": 2,
  "kernelspec": {
   "name": "python374jvsc74a57bd07945e9a82d7512fbf96246d9bbc29cd2f106c1a4a9cf54c9563dadf10f2237d4",
   "display_name": "Python 3.7.4 64-bit"
  },
  "metadata": {
   "interpreter": {
    "hash": "7945e9a82d7512fbf96246d9bbc29cd2f106c1a4a9cf54c9563dadf10f2237d4"
   }
  }
 },
 "nbformat": 4,
 "nbformat_minor": 2,
 "cells": [
  {
   "source": [
    "#### Para escribir a un archivo un "
   ],
   "cell_type": "markdown",
   "metadata": {}
  },
  {
   "cell_type": "code",
   "execution_count": 4,
   "metadata": {},
   "outputs": [],
   "source": [
    "#usamos  porque tiene un gran uso en data science, este tipo de archivos para hacer diccionarios\n",
    "#hemos creado un archivo  para importar el diccionario en un ipynb a jsn en  tiene que haber diccionarios o o listas con diccionarios\n",
    "import  #hay que importar  primeramente\n",
    "nombre_archivo = \"pepito_ataulfo.\" #para volcar informacion en un nuevo archivo\n",
    "\n",
    "mi_diccionario = {\"clave\": 2, \n",
    "                  \"otra_clave\": 3, \n",
    "                  515:[1,3,4,5,6,7,8,2], \n",
    "                  \"DICT\":{\"clave_pequena\": \"valor_pequeño\"}} #ejemplo importamos esto\n",
    "\n",
    "with open(nombre_archivo, 'w+') as outfile: #esto permite abrir un archivo en modo escritura \"w+\" outfile es el nombre w+ para sobreescribir\n",
    "    .dump(mi_diccionario, outfile, indent=4) \n",
    "    \n",
    "#se vuelva el diccionario en el archivo renombrado y le identacion 4\n",
    "#al correr el codigo, en la misma ruta que se ha abierto este archivo, este archivo contiene lo que he añadido<"
   ]
  },
  {
   "source": [
    "#### Para sobreescribir un archivo añadiedo info  (si se requiere)"
   ],
   "cell_type": "markdown",
   "metadata": {}
  },
  {
   "cell_type": "code",
   "execution_count": 5,
   "metadata": {},
   "outputs": [],
   "source": [
    "with open(nombre_archivo, 'a+') as outfile: # con esto se consigue escribir mas informacion con la a, se ha copiado dos veces\n",
    "    .dump(mi_diccionario, outfile, indent=4)"
   ]
  },
  {
   "source": [
    "#### Para leer un archivo \n"
   ],
   "cell_type": "markdown",
   "metadata": {}
  },
  {
   "cell_type": "code",
   "execution_count": 6,
   "metadata": {},
   "outputs": [
    {
     "output_type": "stream",
     "name": "stdout",
     "text": [
      "<class 'dict'>\n"
     ]
    },
    {
     "output_type": "execute_result",
     "data": {
      "text/plain": [
       "{'squadName': 'Super Hero Squad',\n",
       " 'homeTown': 'Metro City',\n",
       " 'formed': 2016,\n",
       " 'secretBase': 'Super tower',\n",
       " 'active': True,\n",
       " 'members': [{'name': 'Molecule Man',\n",
       "   'age': 29,\n",
       "   'secretIdentity': 'Dan Jukes',\n",
       "   'powers': ['Radiation resistance', 'Turning tiny', 'Radiation blast']},\n",
       "  {'name': 'Madame Uppercut',\n",
       "   'age': 39,\n",
       "   'secretIdentity': 'Jane Wilson',\n",
       "   'powers': ['Million tonne punch',\n",
       "    'Damage resistance',\n",
       "    'Superhuman reflexes']},\n",
       "  {'name': 'Eternal Flame',\n",
       "   'age': 1000000,\n",
       "   'secretIdentity': 'Unknown',\n",
       "   'powers': ['Immortality',\n",
       "    'Heat Immunity',\n",
       "    'Inferno',\n",
       "    'Teleportation',\n",
       "    'Interdimensional travel']}]}"
      ]
     },
     "metadata": {},
     "execution_count": 6
    }
   ],
   "source": [
    "import \n",
    "with open('data_indented.', 'r+') as outfile: #abro este archivo con permisos de lectura r+\n",
    "    _data_indented_readed = .load(outfile) #cargo el archivo  que es un diccionario (dentro)\n",
    "\n",
    "print(type(_data_indented_readed)) # aqui muestra clase y abajo el diccionario importado\n",
    "_data_indented_readed"
   ]
  },
  {
   "cell_type": "code",
   "execution_count": 7,
   "metadata": {},
   "outputs": [
    {
     "output_type": "execute_result",
     "data": {
      "text/plain": [
       "[{'name': 'Molecule Man',\n",
       "  'age': 29,\n",
       "  'secretIdentity': 'Dan Jukes',\n",
       "  'powers': ['Radiation resistance', 'Turning tiny', 'Radiation blast']},\n",
       " {'name': 'Madame Uppercut',\n",
       "  'age': 39,\n",
       "  'secretIdentity': 'Jane Wilson',\n",
       "  'powers': ['Million tonne punch',\n",
       "   'Damage resistance',\n",
       "   'Superhuman reflexes']},\n",
       " {'name': 'Eternal Flame',\n",
       "  'age': 1000000,\n",
       "  'secretIdentity': 'Unknown',\n",
       "  'powers': ['Immortality',\n",
       "   'Heat Immunity',\n",
       "   'Inferno',\n",
       "   'Teleportation',\n",
       "   'Interdimensional travel']}]"
      ]
     },
     "metadata": {},
     "execution_count": 7
    }
   ],
   "source": [
    "_data_indented_readed[\"members\"] #accedo a los valores de la clave members  "
   ]
  },
  {
   "cell_type": "code",
   "execution_count": 11,
   "metadata": {},
   "outputs": [
    {
     "output_type": "stream",
     "name": "stdout",
     "text": [
      "{\"name\": \"Molecule Man\", \"age\": 29, \"secretIdentity\": \"Dan Jukes\", \"powers\": [\"Radiation resistance\", \"Turning tiny\", \"Radiation blast\"]}\n-----------\n{'name': 'Molecule Man', 'age': 29, 'secretIdentity': 'Dan Jukes', 'powers': ['Radiation resistance', 'Turning tiny', 'Radiation blast']}\n\n##############################\n\n{\"name\": \"Madame Uppercut\", \"age\": 39, \"secretIdentity\": \"Jane Wilson\", \"powers\": [\"Million tonne punch\", \"Damage resistance\", \"Superhuman reflexes\"]}\n-----------\n{'name': 'Madame Uppercut', 'age': 39, 'secretIdentity': 'Jane Wilson', 'powers': ['Million tonne punch', 'Damage resistance', 'Superhuman reflexes']}\n\n##############################\n\n{\"name\": \"Eternal Flame\", \"age\": 1000000, \"secretIdentity\": \"Unknown\", \"powers\": [\"Immortality\", \"Heat Immunity\", \"Inferno\", \"Teleportation\", \"Interdimensional travel\"]}\n-----------\n{'name': 'Eternal Flame', 'age': 1000000, 'secretIdentity': 'Unknown', 'powers': ['Immortality', 'Heat Immunity', 'Inferno', 'Teleportation', 'Interdimensional travel']}\n\n##############################\n\n<class 'str'>\n<class 'dict'>\n"
     ]
    },
    {
     "output_type": "execute_result",
     "data": {
      "text/plain": [
       "[{'name': 'Molecule Man',\n",
       "  'age': 29,\n",
       "  'secretIdentity': 'Dan Jukes',\n",
       "  'powers': ['Radiation resistance', 'Turning tiny', 'Radiation blast']},\n",
       " {'name': 'Madame Uppercut',\n",
       "  'age': 39,\n",
       "  'secretIdentity': 'Jane Wilson',\n",
       "  'powers': ['Million tonne punch',\n",
       "   'Damage resistance',\n",
       "   'Superhuman reflexes']},\n",
       " {'name': 'Eternal Flame',\n",
       "  'age': 1000000,\n",
       "  'secretIdentity': 'Unknown',\n",
       "  'powers': ['Immortality',\n",
       "   'Heat Immunity',\n",
       "   'Inferno',\n",
       "   'Teleportation',\n",
       "   'Interdimensional travel']}]"
      ]
     },
     "metadata": {},
     "execution_count": 11
    }
   ],
   "source": [
    "s_dicts = []\n",
    "#no podemos usar load un tipo de archivo que no se puede leer con la funcion load, para ellos hay que primero leerlo como string y luego transformarlo en diccionario\n",
    "#ahora vamos a leer cada uno de los  pequeños y los voy a  guardar cada uno de los diccionarios pequeños en una lista\n",
    "for mini_ in _data_indented_readed[\"members\"]: #for value in  recorro la lista del diccionario \n",
    "    mini__readed_string = .dumps(mini_) #dumps lee como string  lo que sea\n",
    "    string_to_ = .loads(mini__readed_string) #loads convierte un string en diccionario. hay que hacerlo asi primero dump y luego loads como diccionario (esto se llama data wrangling esto es leer la informacion que sea de tal forma que pueda trabajar con ella)\n",
    "    print(mini__readed_string) #esto es string\n",
    "    print(\"-----------\")\n",
    "    print(string_to_) #esto es diccionario\n",
    "    s_dicts.append(string_to_) #tercer paso. añadimos el diccionario a la lista \"s_dicts\"\n",
    "    print(\"\\n##############################\\n\")\n",
    "\n",
    "print(type(mini__readed_string))\n",
    "print(type(string_to_))\n",
    "s_dicts\n",
    "#1. leemos como string 2. transformamos en diccionario 3. lo añadimos a una lista"
   ]
  },
  {
   "cell_type": "code",
   "execution_count": 12,
   "metadata": {},
   "outputs": [],
   "source": [
    "# escribimos cada mini_ en archivos diferentes, cada minidiccionario del \n",
    "for i, jsn in enumerate(s_dicts): #habiendo 3 diccionarios en la lista, va a haber 3 archivos  cada uno con su posicion\n",
    "    nombre_archivo = str(i) + '_final_data.'\n",
    "    with open(nombre_archivo, 'w+') as outfile:\n",
    "        .dump(jsn, outfile, indent=4) "
   ]
  },
  {
   "cell_type": "code",
   "execution_count": 18,
   "metadata": {},
   "outputs": [
    {
     "output_type": "stream",
     "name": "stdout",
     "text": [
      "{'name': 'Molecule Man', 'age': 29, 'secretIdentity': 'Dan Jukes', 'powers': ['Radiation resistance', 'Turning tiny', 'Radiation blast']}\n"
     ]
    }
   ],
   "source": [
    "with open('0_final_data.', 'r+') as outfile: #asi cargo uno de los nuevos  para poder cargarlo tienes que hacerlo asi\n",
    "    _0_final_data = .load(outfile) \n",
    "print(_0_final_data)\n"
   ]
  },
  {
   "cell_type": "code",
   "execution_count": null,
   "metadata": {},
   "outputs": [],
   "source": [
    "#RESUMEN:\n",
    "#1. vuelco la informacion de un diccionario a un , w+ (creando el archivo desde 0):\n",
    "#.dup(mi_diccionario, outfile, indent=4)\n",
    "#2. volcar informacion de un diccionario a un jason,  a+ (añadiendo la informacion sin borrar)\n",
    "# 3.  dos opciones\n",
    "#3.1 yo tengo un archivo .sjon en local y lo abro usando .load()\n",
    "#3.2 tengo ya sea un fichero local con el formato cualquiera o en la web --> 1º lo leemos como string -->2º lo transofmramos la variable string a diccionario. si hubera alguno tipo de error al pasarlo a diccionario habria que trabajar con el string para que se pudiese trabajar como dic"
   ]
  }
 ]
}