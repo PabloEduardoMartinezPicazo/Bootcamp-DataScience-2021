{
 "metadata": {
  "language_info": {
   "codemirror_mode": {
    "name": "ipython",
    "version": 3
   },
   "file_extension": ".py",
   "mimetype": "text/x-python",
   "name": "python",
   "nbconvert_exporter": "python",
   "pygments_lexer": "ipython3",
   "version": "3.7.4"
  },
  "orig_nbformat": 2,
  "kernelspec": {
   "name": "python374jvsc74a57bd07945e9a82d7512fbf96246d9bbc29cd2f106c1a4a9cf54c9563dadf10f2237d4",
   "display_name": "Python 3.7.4 64-bit"
  },
  "metadata": {
   "interpreter": {
    "hash": "7945e9a82d7512fbf96246d9bbc29cd2f106c1a4a9cf54c9563dadf10f2237d4"
   }
  }
 },
 "nbformat": 4,
 "nbformat_minor": 2,
 "cells": [
  {
   "cell_type": "code",
   "execution_count": null,
   "metadata": {},
   "outputs": [],
   "source": [
    "\"\"\"Count the number of Duplicates\n",
    "Write a function that will return the count of distinct case-insensitive alphabetic characters and numeric digits that occur more than once in the input string. The input string can be assumed to contain only alphabets (both uppercase and lowercase) and numeric digits.\n",
    "\n",
    "Example\n",
    "\"abcde\" -> 0 # no characters repeats more than once\n",
    "\"aabbcde\" -> 2 # 'a' and 'b'\n",
    "\"aabBcde\" -> 2 # 'a' occurs twice and 'b' twice (`b` and `B`)\n",
    "\"indivisibility\" -> 1 # 'i' occurs six times\n",
    "\"Indivisibilities\" -> 2 # 'i' occurs seven times and 's' occurs twice\n",
    "\"aA11\" -> 2 # 'a' and '1'\n",
    "\"ABBA\" -> 2 # 'A' and 'B' each occur twice\"\"\"\n"
   ]
  },
  {
   "cell_type": "code",
   "execution_count": 8,
   "metadata": {},
   "outputs": [
    {
     "output_type": "stream",
     "name": "stdout",
     "text": [
      "c\na\nc\na\n"
     ]
    }
   ],
   "source": [
    "\"\"\"This time no story, no theory. The examples below show you how to write function accum:\n",
    "\n",
    "Examples:\n",
    "\n",
    "accum(\"abcd\") -> \"A-Bb-Ccc-Dddd\"\n",
    "accum(\"RqaEzty\") -> \"R-Qq-Aaa-Eeee-Zzzzz-Tttttt-Yyyyyyy\"\n",
    "accum(\"cwAt\") -> \"C-Ww-Aaa-Tttt\"\n",
    "The parameter of accum is a string which includes only letters from a..z and A..Z.\"\"\""
   ]
  },
  {
   "cell_type": "code",
   "execution_count": 41,
   "metadata": {},
   "outputs": [
    {
     "output_type": "stream",
     "name": "stdout",
     "text": [
      "H-Oo-Lll-Aaaa\n"
     ]
    }
   ],
   "source": [
    "def accum(s):\n",
    "    acumulado=\"\"\n",
    "    contador=0\n",
    "    for value in s:\n",
    "        acumulado=acumulado+value.upper()+value.lower()*contador+\"-\"\n",
    "        contador+=1\n",
    "    \n",
    "    return acumulado[:-1]\n",
    "accum(\"HolA\")\n",
    "\n",
    "\n",
    "\n",
    "    "
   ]
  },
  {
   "cell_type": "code",
   "execution_count": 13,
   "metadata": {},
   "outputs": [
    {
     "output_type": "execute_result",
     "data": {
      "text/plain": [
       "'oo'"
      ]
     },
     "metadata": {},
     "execution_count": 13
    }
   ],
   "source": [
    "\n",
    "\"\"\"A company is opening a bank, but the coder who is designing the user class made some errors. They need you to help them.\n",
    "\n",
    "You must include the following:\n",
    "\n",
    "A withdraw method\n",
    "Subtracts money from balance\n",
    "One parameter, money to withdraw\n",
    "Raise a ValueError if there isn't enough money to withdraw\n",
    "Return a string with name and balance(see examples)\n",
    "A check method\n",
    "Adds money to balance\n",
    "Two parameters, other user and money\n",
    "Other user will always be valid\n",
    "Raise a ValueError if other user doesn't have enough money\n",
    "Raise a ValueError if checking_account isn't true for other user\n",
    "Return a string with name and balance plus other name and other balance(see examples)\n",
    "An add_cash method\n",
    "Adds money to balance\n",
    "One parameter, money to add\n",
    "Return a string with name and balance(see examples)\n",
    "Additional Notes:\n",
    "\n",
    "Checking_account should be stored as a boolean\n",
    "No input numbers will be negative\n",
    "Output must end with a period\n",
    "Float numbers will not be used so, balance should be integer\n",
    "No currency will be used"
   ]
  },
  {
   "cell_type": "code",
   "execution_count": 42,
   "metadata": {},
   "outputs": [
    {
     "output_type": "error",
     "ename": "SyntaxError",
     "evalue": "invalid syntax (<ipython-input-42-6142f01aecab>, line 2)",
     "traceback": [
      "\u001b[1;36m  File \u001b[1;32m\"<ipython-input-42-6142f01aecab>\"\u001b[1;36m, line \u001b[1;32m2\u001b[0m\n\u001b[1;33m    def (self, name,money,account)\u001b[0m\n\u001b[1;37m        ^\u001b[0m\n\u001b[1;31mSyntaxError\u001b[0m\u001b[1;31m:\u001b[0m invalid syntax\n"
     ]
    }
   ],
   "source": [
    "class User:\n",
    "    def (self, name,money,account)\n",
    "    self.name=name\n",
    "    self.money=money\n",
    "    self.account=account\n",
    "    def withdraw(a):\n",
    "        balance=self.money-a\n",
    "        balance1=str(money)\n",
    "        return print(f\"{User} has {balance1}\")\n",
    "        if balance < 0:\n",
    "            raise ValueError:(\"there is not enough money to withdraw\")\n",
    "    def add(a):\n",
    "        balance=self.money+a\n",
    "        balance1=str(money)\n",
    "        return print(f\"{User} has {balance1}\")\n",
    "    def check(a,b):\n",
    "        balance=self.money+a\n",
    "        b=True\n",
    "        if b.self.money<0:\n",
    "            raise ValueError:(\"Other's user don't have enough value\")\n",
    "        if b==False:\n",
    "            rase ValueError:(\"checking account isn't true\")\n",
    "        return f'{b} has {balance1} and \n",
    "        \n",
    "\n",
    "\n",
    "        \n",
    "    \n",
    "\n",
    "\n",
    "Jeff = User('Jeff', 70, True)\n",
    "Joe = User('Joe', 70, False)"
   ]
  },
  {
   "cell_type": "code",
   "execution_count": null,
   "metadata": {},
   "outputs": [],
   "source": [
    ":c:\\users\\administrator\\appdata\\local\\programs\\python\\python37\\lib\\site-packages"
   ]
  }
 ]
}