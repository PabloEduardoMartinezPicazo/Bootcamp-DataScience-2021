{
 "metadata": {
  "language_info": {
   "codemirror_mode": {
    "name": "ipython",
    "version": 3
   },
   "file_extension": ".py",
   "mimetype": "text/x-python",
   "name": "python",
   "nbconvert_exporter": "python",
   "pygments_lexer": "ipython3",
   "version": "3.7.4"
  },
  "orig_nbformat": 2,
  "kernelspec": {
   "name": "python374jvsc74a57bd07945e9a82d7512fbf96246d9bbc29cd2f106c1a4a9cf54c9563dadf10f2237d4",
   "display_name": "Python 3.7.4 64-bit"
  },
  "metadata": {
   "interpreter": {
    "hash": "7945e9a82d7512fbf96246d9bbc29cd2f106c1a4a9cf54c9563dadf10f2237d4"
   }
  }
 },
 "nbformat": 4,
 "nbformat_minor": 2,
 "cells": [
  {
   "cell_type": "code",
   "execution_count": null,
   "metadata": {},
   "outputs": [],
   "source": [
    "#recursividad es una funcion que se llama asi misma lo mas eficiente es recursividad, luego while luego for, se puede resolver de estas 3 formas"
   ]
  },
  {
   "cell_type": "code",
   "execution_count": null,
   "metadata": {},
   "outputs": [],
   "source": [
    "def f1():\n",
    "    print(1)\n",
    "    f1() # si haces esto es un bucle infinito\n"
   ]
  },
  {
   "cell_type": "code",
   "execution_count": 1,
   "metadata": {},
   "outputs": [
    {
     "output_type": "stream",
     "name": "stdout",
     "text": [
      "1\n1\n1\n1\n1\n1\n1\n1\n1\n1\nNone\n"
     ]
    }
   ],
   "source": [
    "# que hacer xa q me muestre 10 1\n",
    "def f1(cont=0):\n",
    "    if cont ==10: # el lugar donde pare se llama caso base si no es infinito\n",
    "        return cont # si lo pongo dentro no muestra 10  y siempre va a ser none xq es lo que retorna y no acumula los 1 \n",
    "    print(1)\n",
    "    f1(cont=cont+1)\n",
    "x=f1() \n",
    "print(x)"
   ]
  },
  {
   "cell_type": "code",
   "execution_count": 3,
   "metadata": {},
   "outputs": [
    {
     "output_type": "stream",
     "name": "stdout",
     "text": [
      "1\n1\n1\n1\n1\n1\n1\n1\n1\n1\n10\n"
     ]
    }
   ],
   "source": [
    "# que hacer xa q me muestre 10 1\n",
    "def f1(cont=0):\n",
    "    if cont ==10: # el lugar donde pare se llama caso base si no es infinito\n",
    "        return cont # muestra todos los returns que han guardado y es el ultimo que se muestra\n",
    "    print(1)\n",
    "    return f1(cont=cont+1) #va guardadndo el contador ddentro del a siguiente funcion cada vez que se ejecuta la funcion, y cuando llega a 10 retorna el contador que es ha acumulado\n",
    "x=f1() \n",
    "print(x)"
   ]
  },
  {
   "cell_type": "code",
   "execution_count": 18,
   "metadata": {},
   "outputs": [
    {
     "output_type": "execute_result",
     "data": {
      "text/plain": [
       "120"
      ]
     },
     "metadata": {},
     "execution_count": 18
    }
   ],
   "source": [
    "#5! 5*4*3*2*1 esto es 5 factorial \n",
    "# factorial sin contador\n",
    "def factorial_sin_contador(n):\n",
    "    if n==1:\n",
    "        return n #ultimo que te retorna  es decir despues de hacerlo 4 veces te muestra el restulado retornado 5*4*3*2*1\n",
    "    return n*factorial_sin_contador(n=n-1) #este return guarda la multiplicacion de n por la funcion factorial_sin_contador\n",
    "factorial_sin_contador(5)"
   ]
  },
  {
   "cell_type": "code",
   "execution_count": 19,
   "metadata": {},
   "outputs": [
    {
     "output_type": "execute_result",
     "data": {
      "text/plain": [
       "120"
      ]
     },
     "metadata": {},
     "execution_count": 19
    }
   ],
   "source": [
    "#5! 5*4*3*2*1 esto es 5 factorial\n",
    "#se haria asi con contador\n",
    "def factorial (n,cont=1):\n",
    "    if n==1:\n",
    "    \n",
    "        return cont #ultimo return que se muestra y lo ultimo que te enseña nada mas el contador final que es igual a 5*1*2*3*4\n",
    "    cont=cont*n # multiplicas el contador con el numero\n",
    "\n",
    "    return factorial (n=n-1, cont=cont) #guarda el llammamiento de la funcion es decir en primer lugar 5*1 en segundo lugar 1*4 en tercer lugar 1*3 en cuarto luga 1*2 y en ultimo 1*1 \n",
    "\n",
    "factorial(n=5)\n",
    "\n"
   ]
  },
  {
   "cell_type": "code",
   "execution_count": null,
   "metadata": {},
   "outputs": [],
   "source": []
  }
 ]
}