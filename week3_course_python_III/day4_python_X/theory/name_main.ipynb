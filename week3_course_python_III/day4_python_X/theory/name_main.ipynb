{
 "metadata": {
  "language_info": {
   "codemirror_mode": {
    "name": "ipython",
    "version": 3
   },
   "file_extension": ".py",
   "mimetype": "text/x-python",
   "name": "python",
   "nbconvert_exporter": "python",
   "pygments_lexer": "ipython3",
   "version": 3
  },
  "orig_nbformat": 2
 },
 "nbformat": 4,
 "nbformat_minor": 2,
 "cells": [
  {
   "cell_type": "code",
   "execution_count": null,
   "metadata": {},
   "outputs": [],
   "source": [
    "import os, sys #Os para recorrer carpetas, subir carpetas, sys para ver que rutas hay y puedo importar y appendar lo que no tenga\n",
    "# ruta=\"C:\\Users\\Administrator\\Desktop\\TheBridge\\Bootcamp-DataScience-2021\\week3_course_python_III\\day4_python_X\\theory\\recuerdo de como importar.py\" esto MAL\n",
    "ruta= __file__ #<- para importar de un archivo  .py en .ipynb se usa os.getcwd() hay que hacerlo asi paa que todos los puedan ejecutar copy paste de la ruta NO vale porque no funciona en todos los ordenadores\n",
    "for i in range (\"subes el numero de veces que necesites para llegar a la carpeta que este x encima de los 2 archivos q quieres tener\"):\n",
    "    ruta=os.path.dirname(ruta) #<- esto es xa subir una carpeta si se hace una vez. si se hace con un for subimos tantas veces como indiquemos\n",
    "print(\"Ruta:\",ruta)\n",
    "sys.path.append(ruta)\n",
    "# si se encuentran en la misma carpeta ya se puede importar \n",
    "# si importo todo las funciones llamadas en la otra pagina se van a mostrar tambien porque importas todo, tendrias que importar solo la funcion\n",
    "#CUANDO IMPORTO UN ARCHIVO EJECUTO TOdo EL ARCHIVO 2import b.y\" from b.y import y1 <- las dos formas nos haran lo mismo. cuando importo un archivo de la forma que esa se ejecuta todo\n",
    "# para que eso no pase, hay qyue hacer un if __name__=\"main\":\n",
    "if __name__==\"main\": # cualquier archivo .py que se este ejecutando el nombre __name__ de ese archivo sera name por lo tanto el if si estoy en esta pagina se va a ejectuar si importo de otro lado como la otra pagina no esta ejecutandose el __name__ no es igual a main\n",
    "    print(\"esto esta debajo de la funcion\")\n",
    "    x() #solo se va a ejecutar lo que esta por debajo de de esta funcion en esta pagina, si lo pongo en otra pagina, se ejecutaria todo l oque este por encima de este if name si estoy en esta pagina\n",
    "    # para evitar conflictos, poner dentro del if __name__ lo que quieras importar\n",
    "if __name__==\"main\":\n",
    "    from b.y as x \n",
    "    "
   ]
  }
 ]
}