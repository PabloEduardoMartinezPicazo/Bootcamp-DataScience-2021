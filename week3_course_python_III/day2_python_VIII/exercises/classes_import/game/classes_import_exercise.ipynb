{
 "metadata": {
  "language_info": {
   "codemirror_mode": {
    "name": "ipython",
    "version": 3
   },
   "file_extension": ".py",
   "mimetype": "text/x-python",
   "name": "python",
   "nbconvert_exporter": "python",
   "pygments_lexer": "ipython3",
   "version": "3.7.4"
  },
  "orig_nbformat": 2,
  "kernelspec": {
   "name": "python374jvsc74a57bd07945e9a82d7512fbf96246d9bbc29cd2f106c1a4a9cf54c9563dadf10f2237d4",
   "display_name": "Python 3.7.4 64-bit"
  },
  "metadata": {
   "interpreter": {
    "hash": "7945e9a82d7512fbf96246d9bbc29cd2f106c1a4a9cf54c9563dadf10f2237d4"
   }
  }
 },
 "nbformat": 4,
 "nbformat_minor": 2,
 "cells": [
  {
   "source": [
    "## 1\n",
    "\n",
    "Crea un archivo 'ClaseHumano.py' en la carpeta 'objects' que contenga una clase:\n",
    "\n",
    "* 'Humano' que tiene:\n",
    "    - Un atributo 'ojos' que por defecto es 2\n",
    "    - Un atributo 'piernas' que por defecto es 2\n",
    "    - Un atributo 'dientes' que por defecto es 32\n",
    "    - Un atributo 'nombre'\n",
    "    - Un atributo 'armadura' \n",
    "    - Un atributo 'nivel' \n",
    "    - Un atributo 'ataque'\n",
    "    - Un atributo 'salud' que por defecto es 100\n",
    "    - Una función  llamada 'atacar' que recibe un argumento 'orco' que representa otra clase ('Orco'). Esta función resta a la vida del 'Orco' el ataque de 'Humano' menos la armadura de 'Orco'. Al final, muestra por pantalla la vida del 'Orco'\n",
    "    - Una función no_vivo que retorna True si la vida del 'Humano' es igual o inferior a 0, False en otro caso.\n",
    "    - Una función que muestre por pantalla todos los atributos actuales de 'Humano' concatenados con un String representando el nombre del atributo que se muestra. Ejemplo: \"Nombre: Ataulfo | dientes: 32 | salud: 100 | ...\"\n",
    "\n",
    "Crea un archivo 'ClaseOrco.py' en la carpeta 'objects' que contenga una clase:\n",
    "\n",
    "* 'Orco' que tiene:\n",
    "    - Un atributo 'ojos' que por defecto es 2\n",
    "    - Un atributo 'piernas' que por defecto es 2\n",
    "    - Un atributo 'dientes' que por defecto es 56\n",
    "    - Un atributo 'nombre'\n",
    "    - Un atributo 'armadura' \n",
    "    - Un atributo 'nivel' \n",
    "    - Un atributo 'ataque'\n",
    "    - Un atributo 'salud' que por defecto es 100\n",
    "    - Una función  llamada 'atacar' que recibe un argumento 'humano' que representa otra clase ('Humano'). Esta función resta a la vida del 'Humano' el ataque de 'Orco' menos la armadura de 'Humano'. Al final, muestra por pantalla la vida del 'Humano'\n",
    "    - Una función no_vivo que retorna True si la vida del 'Humano' es igual o inferior a 0, False en otro caso.\n",
    "    - Una función que muestre por pantalla todos los atributos actuales de 'Orco' concatenados con un String representando el nombre del atributo que se muestra. Ejemplo: \"Nombre: Graug | dientes: 56 | salud: 100 | ...\"   "
   ],
   "cell_type": "markdown",
   "metadata": {}
  },
  {
   "source": [
    "## 2\n",
    "\n",
    "Desde aquí, importa las clases del ejercicio 1 (tendrás que utilizar sys.path para poder importar los archivos/módulos/librerías/ficheros). Crea una instancia de Humano/a y otra de Orco/a:\n",
    "\n",
    "* La clase Humano/a ha de inicializarse con los siguientes valores:\n",
    "    - nombre: tu nombre\n",
    "    - nivel: tu edad\n",
    "    - armadura: un número Entero que sea un décimo de tu nivel redondeado hacia abajo\n",
    "    - ataque: un número Entero que sea un quinto de tu nivel redondeado hacia abajo\n",
    "    - Todo lo demás por defecto.\n",
    "\n",
    "* La clase Orco/a ha de inicializarse con los siguientes valores:\n",
    "    - nombre: el nombre de tu compañero/a\n",
    "    - nivel: su edad\n",
    "    - armadura: un número Entero que sea un quinceavo de su nivel redondeado hacia arriba\n",
    "    - ataque: un número Entero que sea un sexto de su nivel redondeado hacia arriba\n",
    "    - Todo lo demás por defecto.\n"
   ],
   "cell_type": "markdown",
   "metadata": {}
  },
  {
   "cell_type": "code",
   "execution_count": 10,
   "metadata": {},
   "outputs": [],
   "source": [
    "# Tu código aquí\n",
    "import sys\n",
    "sys.path\n",
    "ruta=\"C:\\\\Users\\\\Administrator\\\\Desktop\\\\TheBridge\\\\Bootcamp-DataScience-2021\\\\week3_course_python_III\\\\day2_python_VIII\\\\exercises\\\\classes_import\\\\objects\"\n",
    "sys.path.append(ruta)\n",
    "sys.path\n",
    "import ClaseHumano \n",
    "from ClaseHumano import humano\n",
    "\n"
   ]
  },
  {
   "cell_type": "code",
   "execution_count": 11,
   "metadata": {},
   "outputs": [],
   "source": [
    "import ClaseOrco \n",
    "from ClaseOrco import orco"
   ]
  },
  {
   "cell_type": "code",
   "execution_count": 12,
   "metadata": {},
   "outputs": [],
   "source": [
    "Human1=humano(nombre=\"Pablo\", nivel=28, armadura=28//10, ataque=20//5)\n",
    "orco1=orco(nombre=\"chachi\",nivel=24,armadura=24//15,ataque=20//6)"
   ]
  },
  {
   "source": [
    "## 3\n",
    "\n",
    "Crea un bucle infinito que espere en cada turno(Iteración) 1 segundo. Para ello has de utilizar la función 'sleep(1)' de la librería time. En cada uno de los turnos debe ocurrir lo siguiente:\n",
    "\n",
    "- Que se muestre por pantalla el número del turno que se lleva empezando desde 1.  \n",
    "- Que se ataquen las instancias. Para ello, has de llamar a la función 'atacar' de cada una de las instancias.\n",
    "- Comprobar si una instancia no está viva con la función correspondiente. Si una instancia no está viva, mostrar por pantalla que una de ellas ha perdido y la otra ha ganado. Terminar el juego aquí.\n",
    "- Mostrar al finalizar el turno una barra divisoria para diferenciar un turno del siguiente.\n",
    "\n",
    "Hay que tener en cuenta: \n",
    "\n",
    "- Una instancia no puede atacar a la otra si no está viva.\n",
    "- Empieza primero la instancia que tiene menos nivel."
   ],
   "cell_type": "markdown",
   "metadata": {}
  },
  {
   "cell_type": "code",
   "execution_count": 13,
   "metadata": {},
   "outputs": [
    {
     "output_type": "error",
     "ename": "NameError",
     "evalue": "name 'atacar_humano' is not defined",
     "traceback": [
      "\u001b[1;31m---------------------------------------------------------------------------\u001b[0m",
      "\u001b[1;31mNameError\u001b[0m                                 Traceback (most recent call last)",
      "\u001b[1;32m<ipython-input-13-23ce64fb18d4>\u001b[0m in \u001b[0;36m<module>\u001b[1;34m\u001b[0m\n\u001b[0;32m      3\u001b[0m \u001b[1;32mwhile\u001b[0m \u001b[0mHuman1\u001b[0m\u001b[1;33m.\u001b[0m\u001b[0msalud\u001b[0m\u001b[1;33m>=\u001b[0m\u001b[1;36m0\u001b[0m \u001b[1;32mor\u001b[0m \u001b[0moroc1\u001b[0m\u001b[1;33m.\u001b[0m\u001b[0msalud\u001b[0m\u001b[1;33m>=\u001b[0m\u001b[1;36m0\u001b[0m\u001b[1;33m:\u001b[0m\u001b[1;33m\u001b[0m\u001b[1;33m\u001b[0m\u001b[0m\n\u001b[0;32m      4\u001b[0m     \u001b[0mcontador\u001b[0m\u001b[1;33m=\u001b[0m\u001b[1;36m1\u001b[0m\u001b[1;33m\u001b[0m\u001b[1;33m\u001b[0m\u001b[0m\n\u001b[1;32m----> 5\u001b[1;33m     \u001b[0matacar_humano\u001b[0m\u001b[1;33m(\u001b[0m\u001b[0morco\u001b[0m\u001b[1;33m=\u001b[0m\u001b[0morco1\u001b[0m\u001b[1;33m)\u001b[0m\u001b[1;33m\u001b[0m\u001b[1;33m\u001b[0m\u001b[0m\n\u001b[0m\u001b[0;32m      6\u001b[0m     \u001b[0matacar_orco\u001b[0m\u001b[1;33m(\u001b[0m\u001b[0mhumano\u001b[0m\u001b[1;33m=\u001b[0m\u001b[0mHuman1\u001b[0m\u001b[1;33m)\u001b[0m\u001b[1;33m\u001b[0m\u001b[1;33m\u001b[0m\u001b[0m\n\u001b[0;32m      7\u001b[0m     \u001b[0mno_vivo_humano\u001b[0m\u001b[1;33m(\u001b[0m\u001b[1;33m)\u001b[0m\u001b[1;33m\u001b[0m\u001b[1;33m\u001b[0m\u001b[0m\n",
      "\u001b[1;31mNameError\u001b[0m: name 'atacar_humano' is not defined"
     ]
    }
   ],
   "source": [
    "# Tu código aquí\n",
    "import time\n",
    "while Human1.salud>=0 or oroc1.salud>=0:\n",
    "    contador=1\n",
    "    atacar_humano(orco=orco1)\n",
    "    atacar_orco(humano=Human1)\n",
    "    no_vivo_humano()\n",
    "    no_vivo()\n",
    "    for i in contador:\n",
    "        print(\"------\")\n",
    "        contador+=1\n",
    "\n"
   ]
  },
  {
   "cell_type": "code",
   "execution_count": null,
   "metadata": {},
   "outputs": [],
   "source": []
  }
 ]
}