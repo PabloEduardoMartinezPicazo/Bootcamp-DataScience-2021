{
 "metadata": {
  "language_info": {
   "codemirror_mode": {
    "name": "ipython",
    "version": 3
   },
   "file_extension": ".py",
   "mimetype": "text/x-python",
   "name": "python",
   "nbconvert_exporter": "python",
   "pygments_lexer": "ipython3",
   "version": "3.7.4"
  },
  "orig_nbformat": 2,
  "kernelspec": {
   "name": "python374jvsc74a57bd07945e9a82d7512fbf96246d9bbc29cd2f106c1a4a9cf54c9563dadf10f2237d4",
   "display_name": "Python 3.7.4 64-bit"
  },
  "metadata": {
   "interpreter": {
    "hash": "7945e9a82d7512fbf96246d9bbc29cd2f106c1a4a9cf54c9563dadf10f2237d4"
   }
  }
 },
 "nbformat": 4,
 "nbformat_minor": 2,
 "cells": [
  {
   "cell_type": "code",
   "execution_count": null,
   "metadata": {},
   "outputs": [],
   "source": [
    "\"\"\"PROGRAMACION ORIENTADA A OBJETOS/CLASES\"\"\""
   ]
  },
  {
   "cell_type": "code",
   "execution_count": null,
   "metadata": {},
   "outputs": [],
   "source": [
    "#mala praxis para representar objetos de la vida real\n",
    "ojos=2\n",
    "piernas=2\n",
    "nombre=\"pablo\""
   ]
  },
  {
   "cell_type": "code",
   "execution_count": null,
   "metadata": {},
   "outputs": [],
   "source": [
    "# tres palabras nuevas\n",
    "#constructor,clase e instancia"
   ]
  },
  {
   "cell_type": "code",
   "execution_count": 37,
   "metadata": {},
   "outputs": [
    {
     "output_type": "stream",
     "name": "stdout",
     "text": [
      "ataulfo\n89\nH\n"
     ]
    }
   ],
   "source": [
    "class humano:\n",
    "    def __init__(self, n, edad, sexo, altura, color_pelo, ojos=2, piernas=2, especie=\"Homo Sapiens\"):\n",
    "\n",
    "    #funcion constructor si quiero poner los atributos los tengo que poner dentro de la funcion constructor \n",
    "     \n",
    "        #atributo self se pone siempre, propio asi mismo\n",
    "        # #¿como se añaden los atributos de la clase? self.nombre =nombre,  si no le pongo self. algo este parametro no existe\n",
    "        self.nombre=n #nombre del atributo de la calse humano <--> valor\n",
    "        self.edad=89 # si meto un valor forzado a edad siempre va a ser este valor\n",
    "        self.sexo=sexo  \n",
    "        # tengo que hacerlo con todos los atributos \n",
    "        self.altura=altura\n",
    "        self.color_pelo=color_pelo\n",
    "        self.ojos=ojos\n",
    "        self.piernas=piernas\n",
    "        self.especie=especie \n",
    "    def mostrar_piernas(self,piernas=19):\n",
    "        print(\"este es el atributo de piernas humano:\",self.piernas) #para mostrar la variable piernas que viene de otra funcion habria que hacerlo asi\n",
    "        print(\"este es elvalor de una variable piernas:\",piernas)\n",
    "    def mostrar_atributos(self):\n",
    "        print(\"el nombre del humano es:\",self.nombre)\n",
    "        print(\"La edad del humano es:\",self.edad)\n",
    "        print(\"el sexo del humano es:\",self.sexo)\n",
    "        print(\"la altura del humano es:\",self.altura)\n",
    "        print(\"el color del pelo del humano es:\", self.color_pelo)\n",
    "        print(\"las piernas del humano son\",self.piernas)\n",
    "        print(\"la especie del humano es:\",self.especie)\n",
    "\n",
    "ser_humano_1=humano(n=\"ataulfo\",edad=25,sexo=\"H\",altura=2.20, ojos=3, color_pelo=\"Pelirrojo\")  #estamos creando una instancia, instanciando algo\n",
    "\n",
    "\n",
    "print(ser_humano_1.nombre)\n",
    "print(ser_humano_1.edad)\n",
    "print(ser_humano_1.sexo) # esto lo pritnea porque esta metido en selfs dentro de la funcion\n",
    "\n",
    "\n"
   ]
  },
  {
   "cell_type": "code",
   "execution_count": 22,
   "metadata": {},
   "outputs": [
    {
     "output_type": "stream",
     "name": "stdout",
     "text": [
      "este es el atributo de piernas humano: 2\neste es elvalor de una variable piernas: 19\n"
     ]
    }
   ],
   "source": [
    "ser_humano_1.mostrar_piernas()\n"
   ]
  },
  {
   "cell_type": "code",
   "execution_count": 38,
   "metadata": {},
   "outputs": [
    {
     "output_type": "stream",
     "name": "stdout",
     "text": [
      "el nombre del humano es: ataulfo\nLa edad del humano es: 89\nel sexo del humano es: H\nla altura del humano es: 2.2\nel color del pelo del humano es: Pelirrojo\nlas piernas del humano son 2\nla especie del humano es: Homo Sapiens\n"
     ]
    }
   ],
   "source": [
    "ser_humano_1.mostrar_atributos()"
   ]
  },
  {
   "cell_type": "code",
   "execution_count": null,
   "metadata": {},
   "outputs": [],
   "source": []
  }
 ]
}