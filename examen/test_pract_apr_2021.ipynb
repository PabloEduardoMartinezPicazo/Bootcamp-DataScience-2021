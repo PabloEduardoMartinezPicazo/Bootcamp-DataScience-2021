{
 "metadata": {
  "language_info": {
   "codemirror_mode": {
    "name": "ipython",
    "version": 3
   },
   "file_extension": ".py",
   "mimetype": "text/x-python",
   "name": "python",
   "nbconvert_exporter": "python",
   "pygments_lexer": "ipython3",
   "version": "3.7.4"
  },
  "orig_nbformat": 2,
  "kernelspec": {
   "name": "python374jvsc74a57bd07945e9a82d7512fbf96246d9bbc29cd2f106c1a4a9cf54c9563dadf10f2237d4",
   "display_name": "Python 3.7.4 64-bit"
  },
  "metadata": {
   "interpreter": {
    "hash": "7945e9a82d7512fbf96246d9bbc29cd2f106c1a4a9cf54c9563dadf10f2237d4"
   }
  }
 },
 "nbformat": 4,
 "nbformat_minor": 2,
 "cells": [
  {
   "source": [
    "# Test DS-FT April 2021\n",
    "\n"
   ],
   "cell_type": "markdown",
   "metadata": {}
  },
  {
   "source": [
    "## Primera parte (tipo test):\n",
    "\n",
    "https://forms.gle/24Eu5xuFGn6jNKpx9"
   ],
   "cell_type": "markdown",
   "metadata": {}
  },
  {
   "source": [
    "-----------------"
   ],
   "cell_type": "markdown",
   "metadata": {}
  },
  {
   "source": [
    "## Segunda parte, ejercicios prácticos:\n",
    "\n",
    "* El test práctico consta de 5 ejercicios puntuables. \n",
    "* Cada uno se puntúa sobre 2,5. \n",
    "* La máxima nota es 10.\n"
   ],
   "cell_type": "markdown",
   "metadata": {}
  },
  {
   "source": [
    "Antes de comenzar, cambia el nombre del archivo notebook poniéndole delante tu nombre y primer apellido:\n",
    "\n",
    "* nombre_apellido_test_pract_apr_2021.ipynb"
   ],
   "cell_type": "markdown",
   "metadata": {}
  },
  {
   "cell_type": "code",
   "execution_count": 1,
   "metadata": {},
   "outputs": [],
   "source": [
    "# Escribe tu nombre en la variable:\n",
    "nombre_y_apellidos = \"Pablo Edaurdo Martínez Picazo\" "
   ]
  },
  {
   "source": [
    "#### Notas y pruebas de apoyo para contestar las preguntas tipo test\n",
    "Esto no es necesario usarlo aunque verlo aquí te puede dar la respuesta a alguna de las preguntas tipo test.\n",
    "\n",
    "Cualquier código aunque no esté correcto nos dirá más de ti que no escribir nada. "
   ],
   "cell_type": "markdown",
   "metadata": {}
  },
  {
   "cell_type": "code",
   "execution_count": null,
   "metadata": {},
   "outputs": [],
   "source": [
    "# Ejemplo de como queremos ver el código para más de un intento:\n",
    "\n",
    "# intento 1\n",
    "your code\n",
    "# intento 2\n",
    "your code"
   ]
  },
  {
   "cell_type": "code",
   "execution_count": 10,
   "metadata": {},
   "outputs": [],
   "source": [
    "# crea todas las celdas que necesites"
   ]
  },
  {
   "source": [
    "## Ejercicios prácticos"
   ],
   "cell_type": "markdown",
   "metadata": {}
  },
  {
   "source": [
    "#### Ejercicio 1.\n",
    "En este ejercicio se va a crear una lista con los siguientes elementos. Primero, crearemos las variables que luego añadiremos a la lista. Las variables son las siguientes:\n",
    "\n",
    "1. Crea una variable llamada `num_dni` de tipo Integer que represente el primer número de tu DNI. \n",
    "2. Crea una variable llamada `let_dni` de tipo String y que represente la letra de vuestro DNI.\n",
    "3. Crea una variable llamada `tip_ord` de tipo Boolean True si usas Windows y False si usas Mac.\n",
    "4. Crea una variable llamada `nada` de tipo None cuyo valor sea None.\n",
    "5. Crea una variable llamada `lista_deseo` de tipo List que contenga los cuatro objetos que te llevarías a una isla desierta. Cada elemento ha de ser de tipo String y el tamaño de la lista ha de ser 4.\n",
    "6. Crea una variable llamada `tupla_ropa` de tipo Tuple con la marca de la prenda superior, inferior y calzado que llevas puesto.\n",
    "7. Crea una variable llamada `dict_info` con dos keys y dos values. Una key es 'nombre', teniendo como value vuestro nombre. Otra key es 'edad', teniendo como value vuestra edad.\n",
    "8. Crea una variable llamada `flo_hor` con la hora actual separada por punto en vez de dos puntos. Ejemplo: si son las 10:06, el valor de la variable sería 10.06.\n",
    "\n",
    "Añade todos estos elementos en una lista llamada `lista_examen` en el orden de aparición."
   ],
   "cell_type": "markdown",
   "metadata": {}
  },
  {
   "cell_type": "code",
   "execution_count": 2,
   "metadata": {},
   "outputs": [
    {
     "output_type": "execute_result",
     "data": {
      "text/plain": [
       "[7,\n",
       " 'r',\n",
       " True,\n",
       " None,\n",
       " ['agua', 'comida', 'amigos', 'crema solar'],\n",
       " ('Asos', 'Levis', 'Nike'),\n",
       " {'nombre': 'Pablo', 'edad': 28},\n",
       " 10.08]"
      ]
     },
     "metadata": {},
     "execution_count": 2
    }
   ],
   "source": [
    " # tu respuesta aquí\n",
    "num_dni=7\n",
    "let_dni= \"r\"\n",
    "tip_ord=True\n",
    "nada=None\n",
    "lista_deseo=[\"agua\",\"comida\",\"amigos\",\"crema solar\"]\n",
    "tupla_ropa=(\"Asos\",\"Levis\",\"Nike\")\n",
    "dict_info={\"nombre\":\"Pablo\",\"edad\":28}\n",
    "flor_ho=10.08\n",
    "lista_examen=[]\n",
    "lista_examen.extend((num_dni,let_dni,tip_ord,nada,lista_deseo,tupla_ropa,dict_info,flor_ho))\n",
    "lista_examen\n",
    "\n",
    "\n",
    "\n"
   ]
  },
  {
   "source": [
    "#### Ejercicio 2. \n",
    "\n",
    "Para resolver este ejercicio necesitarás la lista del ejercicio anterior (`lista_examen`). Se recomeinda leer cada punto hasta el final antes de resolver el ejercicio.\n",
    "\n",
    "Se repite para que quede aún más claro: **SOLO USAR LA VARIABLE** `lista_examen`. Usar las demás variables se calificará como error.  \n",
    "\n",
    "1. Mostrar por pantalla, sin uso de funciones ni bucles: \n",
    "    - El segundo elemento de `lista_deseo` desde `lista_examen`.\n",
    "    - El calzado que llevas puesto.\n",
    "    - Vuestro nombre.\n",
    "    - La hora almacenada concatenada con vuestra edad y el número de vuestro de DNI. No debe haber espacios entre la concatenación.\n",
    "    - Si tenéis más de 20 años, el primer número de vuestro DNI es mayor a 7 y usas Mac, mostrar la posición 5 de `lista_examen`.\n",
    "    "
   ],
   "cell_type": "markdown",
   "metadata": {}
  },
  {
   "cell_type": "code",
   "execution_count": 3,
   "metadata": {},
   "outputs": [
    {
     "output_type": "stream",
     "name": "stdout",
     "text": [
      "['agua', 'comida', 'amigos', 'crema solar']\nNike\nPablo\n357\nno cumplo las condiciones para print[5]\n"
     ]
    }
   ],
   "source": [
    "# tu respuesta aquí\n",
    "print(lista_examen[4])\n",
    "print(lista_examen[5][-1])\n",
    "print(lista_examen[-2][\"nombre\"])\n",
    "print(str(lista_examen[0]+lista_examen[-2][\"edad\"])+str(lista_examen[0]))\n",
    "\n",
    "if lista_examen[-2][\"edad\"]>20 and lista_examen[0]>7 and not lista_examen[2]:\n",
    "    print(lista_examen[5])\n",
    "else: print(\"no cumplo las condiciones para print[5]\")"
   ]
  },
  {
   "source": [
    "2. Mostrar por pantalla, con uso de un bucle `for`:\n",
    "    - Todos los elementos de `lista_examen`.\n",
    "    - Todos los elementos de `lista_deseo` desde `lista_examen`.\n",
    "    - Todos los elementos que ocupen una posición menor a 4 en `lista_examen`.\n"
   ],
   "cell_type": "markdown",
   "metadata": {}
  },
  {
   "cell_type": "code",
   "execution_count": 39,
   "metadata": {},
   "outputs": [
    {
     "output_type": "stream",
     "name": "stdout",
     "text": [
      "7\nr\nTrue\nNone\n['agua', 'comida', 'amigos', 'crema solar']\n('Asos', 'Levis', 'Nike')\n{'nombre': 'Pablo', 'edad': 28}\n10.08\n['agua', 'comida', 'amigos', 'crema solar']\n7\nr\nTrue\nNone\n"
     ]
    }
   ],
   "source": [
    "# tu respuesta aquí\n",
    "for value in lista_examen:\n",
    "    print (value)\n",
    "for i in range(len(lista_examen)): #on valores no la tupla es el valor del valor\n",
    "   if i==4:\n",
    "       print(lista_examen[4])\n",
    "for i in range(len(lista_examen)):\n",
    "    if i<4:\n",
    "        print(lista_examen[i])"
   ]
  },
  {
   "source": [
    "3. Mostrar por pantalla, con uso de un bucle while: \n",
    "    - Todos los elementos de `tupla_ropa` seguido de la cadena `\"-->\"` y la `posición` (int) que ocupa en la tupla accediendo desde `lista_examen`. Se aconseja utilizar *`enumerate`*.\n",
    "    - Cada key de `dict_info` seguido de la cadena \":\" seguido de su value desde `lista_examen`."
   ],
   "cell_type": "markdown",
   "metadata": {}
  },
  {
   "cell_type": "code",
   "execution_count": 6,
   "metadata": {
    "tags": []
   },
   "outputs": [
    {
     "output_type": "stream",
     "name": "stdout",
     "text": [
      "Asos--> 0\nLevis--> 1\nNike--> 2\n"
     ]
    }
   ],
   "source": [
    "# tu respuesta aquí\n",
    "contador=0\n",
    "while contador<len(lista_examen[5]): \n",
    "    for i,value in enumerate(lista_examen):\n",
    "        if i==5:\n",
    "            print(lista_examen[5][contador]+\"-->\", str(contador))\n",
    "            contador+=1\n",
    "    \n",
    "\n",
    "\n",
    "\n"
   ]
  },
  {
   "cell_type": "code",
   "execution_count": null,
   "metadata": {},
   "outputs": [],
   "source": [
    "#para obtener las clavel list(d) o "
   ]
  },
  {
   "cell_type": "code",
   "execution_count": 9,
   "metadata": {},
   "outputs": [
    {
     "output_type": "stream",
     "name": "stdout",
     "text": [
      "nombre:Pablo\nedad:28\n"
     ]
    }
   ],
   "source": [
    "pos=0\n",
    "while pos < len(list(lista_examen[-2])):\n",
    "    clave=list(lista_examen[-2])[pos]\n",
    "    value=lista_examen[-2][clave]\n",
    "    print(str(clave)+\":\"+str(value))\n",
    "    pos+=1\n",
    "   \n",
    "        #asi se hacia el ejercicio Pabla\n",
    " \n"
   ]
  },
  {
   "source": [
    "#### Ejercicio 3. \n",
    "\n",
    "Crea una función `ejercicio_3` que reciba un parámetro `arg1`. Este argumento se utilizará como la lista de tuplas con nombres de los alumnos y alturas de clase. La función ha de retornar la misma lista de tuplas pero sin la tupla que contiene tu nombre. La tupla que contiene tu nombre ha de encontrarse a través del **valor del String** con tu nombre. Es decir, la función borrará la tupla con tu nombre tanto si está en la primera posición, como en la posición N o la última. La función mostrará por pantalla la tupla modificada.\n",
    "\n",
    "**Notas:** \n",
    "\n",
    "*- La lista de nombres y alturas está al final del notebook*\n",
    "\n",
    "*- Añade la tupla con tu nombre y altura si no apareces en la lista* \n",
    "\n",
    "Ejemplos de llamada a la función y lo que devuelve la función en el caso en el que me llamo 'Manuel Alfonso' y con esta 'lista_nombres_alturas':"
   ],
   "cell_type": "markdown",
   "metadata": {}
  },
  {
   "cell_type": "code",
   "execution_count": 7,
   "metadata": {},
   "outputs": [
    {
     "output_type": "stream",
     "name": "stdout",
     "text": [
      "[('Jonathan Abbondanza', 1.7), ('Nacho Fontal', 1.82)]\n"
     ]
    }
   ],
   "source": [
    "# NO EJECUTAR ESTA CELDA\n",
    "lista_nombres_alturas = [(\"Manuel Alfonso\", 1.75),(\"Jonathan Abbondanza\",  1.70),(\"Nacho Fontal\", 1.82)]\n",
    "ejercicio_3(arg1=lista_nombres_alturas)"
   ]
  },
  {
   "cell_type": "code",
   "execution_count": 9,
   "metadata": {},
   "outputs": [
    {
     "output_type": "stream",
     "name": "stdout",
     "text": [
      "[('Jonathan Abbondanza', 1.7), ('Nacho Fontal', 1.82)]\n"
     ]
    }
   ],
   "source": [
    "# NO EJECUTAR ESTA CELDA\n",
    "lista_nombres_alturas = [(\"Jonathan Abbondanza\",  1.70),(\"Manuel Alfonso\", 1.75),(\"Nacho Fontal\", 1.82)]\n",
    "ejercicio_3(arg1=lista_nombres_alturas)"
   ]
  },
  {
   "cell_type": "code",
   "execution_count": 111,
   "metadata": {},
   "outputs": [
    {
     "output_type": "stream",
     "name": "stdout",
     "text": [
      "[('Gabriel Vázquez', 1.75), ('Jonathan Abbondanza', 1.7), ('Nacho Fontal', 1.82), ('Javier Araiz', 1.8), ('Jonathan Suarez', 1.86), ('Sonia Cobo', 1.73), ('Jorge García', 1.79), ('Mary Meza', 1.52), ('Leonardo Frazzetto', 1.75), ('Nacho Astorga', 1.78), ('José Carlos Batista', 1.7), ('Isabel Palomares', 1.78), ('Marina Serrano', 1.54), ('Daniel Walker', 1.87), ('Clara Piniella', 1.66), ('Gina Garrido', 1.63), ('Adrià Gallardo', 1.7), ('María García-Maroto', 1.64), ('Susana Vázquez', 1.8), ('Mauro Garcia-Oliva', 1.77), ('Juan Bayon', 1.64), ('Miguel Barquero', 1.85), ('Borja Puig', 1.82), ('Xinru Yang', 1.6), ('Pablo Díez', 1.84), ('Karina Inche', 1.61)]\n"
     ]
    }
   ],
   "source": [
    "# tu respuesta aquí \n",
    "\n",
    "\n",
    "lista_nombres_alturas = [(\"Gabriel Vázquez\", 1.75),(\"Jonathan Abbondanza\",  1.70),(\"Nacho Fontal\", 1.82),(\"Javier Araiz\", 1.80),('Jonathan Suarez', 1.86),('Sonia Cobo', 1.73), ('Jorge García', 1.79), (\"Mary Meza\", 1.52), ('Leonardo Frazzetto', 1.75), (\"Nacho Astorga\",1.78),(\"José Carlos Batista\",1.70), (\"Isabel Palomares\", 1.78),(\"Marina Serrano\", 1.54), (\"Daniel Walker\", 1.87), (\"Clara Piniella\", 1.66), (\"Gina Garrido\", 1.63), (\"Adrià Gallardo\", 1.70), (\"María García-Maroto\", 1.64), (\"Susana Vázquez\",1.80), (\"Mauro Garcia-Oliva\", 1.77), (\"Juan Bayon\", 1.64), (\"Miguel Barquero\", 1.85), (\"Borja Puig\", 1.82), (\"Pablo Martínez\", 1.81), (\"Xinru Yang\", 1.60),(\"Pablo Díez\", 1.84),(\"Karina Inche\",1.61)]\n",
    "\n",
    "def ejercicio_3 (arg1):\n",
    "    nombre=input(\"nombre  y apellido\")\n",
    "    altura= float(input(\"altura\"))\n",
    "    for i,value in enumerate(arg1):\n",
    "           \n",
    "        if arg1[i][0]== nombre or arg1[i][1]== nombre:\n",
    "            arg1.remove ((nombre, altura))\n",
    "    return print(arg1)\n",
    "\n",
    "ejercicio_3(arg1=lista_nombres_alturas)\n",
    "\n"
   ]
  },
  {
   "source": [
    "-------------------------------------"
   ],
   "cell_type": "markdown",
   "metadata": {}
  },
  {
   "cell_type": "code",
   "execution_count": 127,
   "metadata": {},
   "outputs": [
    {
     "output_type": "stream",
     "name": "stdout",
     "text": [
      "[('Gabriel Vázquez', 1.75), ('Jonathan Abbondanza', 1.7), ('Nacho Fontal', 1.82), ('Javier Araiz', 1.8), ('Jonathan Suarez', 1.86), ('Sonia Cobo', 1.73), ('Jorge García', 1.79), ('Mary Meza', 1.52), ('Leonardo Frazzetto', 1.75), ('Nacho Astorga', 1.78), ('José Carlos Batista', 1.7), ('Isabel Palomares', 1.78), ('Marina Serrano', 1.54), ('Daniel Walker', 1.87), ('Clara Piniella', 1.66), ('Gina Garrido', 1.63), ('Adrià Gallardo', 1.7), ('María García-Maroto', 1.64), ('Susana Vázquez', 1.8), ('Mauro Garcia-Oliva', 1.77), ('Juan Bayon', 1.64), ('Miguel Barquero', 1.85), ('Borja Puig', 1.82), ('Pablo Martínez', 1.81), ('Xinru Yang', 1.6), ('Pablo Díez', 1.84), ('Karina Inche', 1.61)]\n"
     ]
    }
   ],
   "source": [
    "#intento 2 para intentar que sea mas correcto\n",
    "\n",
    "lista_nombres_alturas = [(\"Gabriel Vázquez\", 1.75),(\"Jonathan Abbondanza\",  1.70),(\"Nacho Fontal\", 1.82),(\"Javier Araiz\", 1.80),('Jonathan Suarez', 1.86),('Sonia Cobo', 1.73), ('Jorge García', 1.79), (\"Mary Meza\", 1.52), ('Leonardo Frazzetto', 1.75), (\"Nacho Astorga\",1.78),(\"José Carlos Batista\",1.70), (\"Isabel Palomares\", 1.78),(\"Marina Serrano\", 1.54), (\"Daniel Walker\", 1.87), (\"Clara Piniella\", 1.66), (\"Gina Garrido\", 1.63), (\"Adrià Gallardo\", 1.70), (\"María García-Maroto\", 1.64), (\"Susana Vázquez\",1.80), (\"Mauro Garcia-Oliva\", 1.77), (\"Juan Bayon\", 1.64), (\"Miguel Barquero\", 1.85), (\"Borja Puig\", 1.82), (\"Pablo Martínez\", 1.81), (\"Xinru Yang\", 1.60),(\"Pablo Díez\", 1.84),(\"Karina Inche\",1.61)]\n",
    "def ejercicio_3_1 (arg1):\n",
    "    nombre=input(\"nombre  y apellido\")\n",
    "    altura= float(input(\"altura\"))\n",
    "    for i in range(len(arg1)):\n",
    "        for pos in range(i):\n",
    "            if isinstance(i,str) and pos== nombre:\n",
    "                arg1.remove ((nombre,altura)) # no he conseguido que me borre la tupla \n",
    "    return print(arg1)\n",
    "\n",
    "ejercicio_3_1(arg1=lista_nombres_alturas)\n"
   ]
  },
  {
   "source": [
    "#### Ejercicio 4. \n",
    "\n",
    "Escribe una función `reverse_number` que reciba dos parámetros. Los parámetros son `cadena` y `n`. `cadena` será un string y `n` un entero. La función debe retornar un string que sea el string `cadena` al revés y que tenga concatenado el número `n` por cada caracter de `cadena`.  \n",
    "\n",
    "\n",
    "**No se permite:**\n",
    "- Usar la función built-in `reverse`\n",
    "- Pasar el string `cadena` a otro tipo de variable (como list)* \n",
    "- Usar el `string slicing` [[::-1]]\n",
    "\n",
    "Ejemplos de llamada a la función y lo que devuelve la función:\n",
    "\n",
    "--------\n",
    "\n",
    ">> print(reverse_number(cadena=\"aloh\", n=3))\n",
    "\n",
    ">>> h3o3l3a3\n",
    "\n",
    "--------\n",
    "\n",
    ">> print(reverse_number(cadena=\"otipep\", n=85))\n",
    "\n",
    ">>> p85e85p85i85t85o85\n",
    "\n",
    "\n",
    "\n"
   ],
   "cell_type": "markdown",
   "metadata": {}
  },
  {
   "cell_type": "code",
   "execution_count": 140,
   "metadata": {},
   "outputs": [
    {
     "output_type": "stream",
     "name": "stdout",
     "text": [
      "a3l3o3h3\n"
     ]
    }
   ],
   "source": [
    "\n",
    "def reverse_number (cadena, n):\n",
    "    c=\"\"\n",
    "    for i in range(len(cadena)-1,-1,-1):\n",
    "        c+=cadena[i]+str(n)\n",
    "    print(c)\n",
    "   \n",
    "reverse_number(cadena=\"hola\",n=3)"
   ]
  },
  {
   "cell_type": "code",
   "execution_count": 15,
   "metadata": {},
   "outputs": [
    {
     "output_type": "stream",
     "name": "stdout",
     "text": [
      "a3l3o3h3\n"
     ]
    }
   ],
   "source": [
    "def reverse (cadena,n):\n",
    "    cont=-1\n",
    "    cadena_al_reves=\"\"\n",
    "    for i in range(len(cadena)):\n",
    "        cadena_al_reves=cadena_al_reves+cadena[cont]+str(n)\n",
    "        cont-=1\n",
    "        \n",
    "    print(cadena_al_reves)\n",
    "reverse(cadena=\"hola\",n=3)"
   ]
  },
  {
   "source": [
    "#### Ejercicio 5:\n",
    " Crea una función `ejercicio_5` que reciba dos parámetros `arg1` y `arg2`. `arg1` es la misma lista de tuplas con los nombres y alturas que la del ejercicio 3 y `arg2` representa un nombre. \n",
    "Crea un programa que pida al usuario *indefinidamente* un nombre y, cada vez que lo introduzca, intente borrar de `arg1` la tupla con el nombre introducido usando la función `ejercicio_5`:\n",
    "\n",
    "1. Si existe el nombre `arg2` dentro de la `arg1` la función mostrará por pantalla la tupla modificada\n",
    "\n",
    "2. Si el nombre `arg2` no está en la lista `arg1` la función mostrará por pantalla el string \"Ese \n",
    "nombre no está dentro de la lista\"\n",
    "\n",
    "3. Solo en el caso en el que el usuario escriba la palabra *'STOP'* se parará el programa.\n",
    "\n",
    "**Notas:** \n",
    "\n",
    "*- La lista de nombres y alturas está al final del notebook*\n",
    "\n",
    "*- Añade la tupla con tu nombre y altura si no apareces en la lista*  "
   ],
   "cell_type": "markdown",
   "metadata": {}
  },
  {
   "cell_type": "code",
   "execution_count": 20,
   "metadata": {},
   "outputs": [
    {
     "output_type": "stream",
     "name": "stdout",
     "text": [
      "('Pablo Díez', 1.84)\n[('Gabriel Vázquez', 1.75), ('Jonathan Abbondanza', 1.7), ('Nacho Fontal', 1.82), ('Javier Araiz', 1.8), ('Jonathan Suarez', 1.86), ('Sonia Cobo', 1.73), ('Jorge García', 1.79), ('Mary Meza', 1.52), ('Leonardo Frazzetto', 1.75), ('Nacho Astorga', 1.78), ('José Carlos Batista', 1.7), ('Isabel Palomares', 1.78), ('Marina Serrano', 1.54), ('Daniel Walker', 1.87), ('Clara Piniella', 1.66), ('Gina Garrido', 1.63), ('Adrià Gallardo', 1.7), ('María García-Maroto', 1.64), ('Susana Vázquez', 1.8), ('Mauro Garcia-Oliva', 1.77), ('Juan Bayon', 1.64), ('Miguel Barquero', 1.85), ('Borja Puig', 1.82), ('Pablo Martínez', 1.81), ('Xinru Yang', 1.6), ('Karina Inche', 1.61)]\n"
     ]
    }
   ],
   "source": [
    "#con variable de bandera \n",
    "def ejercicio_5 (arg1,arg2):\n",
    "    se_ha_borrado=False\n",
    "    for tupla in arg1:\n",
    "        if tupla[0]==arg2:\n",
    "            arg1.remove(tupla)\n",
    "            se_ha_borrado=True #solamente cuando se borra es true y cambia el valor \n",
    "            print(tupla)\n",
    "            print(arg1)\n",
    "            break\n",
    "    if  se_ha_borrado==False: #si la variable sigue siendo false \n",
    "        print(\"este nombre no está dentro de la lista\")\n",
    "    \n",
    "    \n",
    "    \n",
    "while True:\n",
    "    nombre=input(\"nombre\")\n",
    "    if nombre==\"stop\":\n",
    "        break\n",
    "    ejercicio_5(arg1=lista_nombres_alturas, arg2= nombre)"
   ]
  },
  {
   "cell_type": "code",
   "execution_count": 16,
   "metadata": {},
   "outputs": [
    {
     "output_type": "execute_result",
     "data": {
      "text/plain": [
       "[('Gabriel Vázquez', 1.75),\n",
       " ('Jonathan Abbondanza', 1.7),\n",
       " ('Nacho Fontal', 1.82),\n",
       " ('Javier Araiz', 1.8),\n",
       " ('Jonathan Suarez', 1.86),\n",
       " ('Sonia Cobo', 1.73),\n",
       " ('Jorge García', 1.79),\n",
       " ('Mary Meza', 1.52),\n",
       " ('Leonardo Frazzetto', 1.75),\n",
       " ('Nacho Astorga', 1.78),\n",
       " ('José Carlos Batista', 1.7),\n",
       " ('Isabel Palomares', 1.78),\n",
       " ('Marina Serrano', 1.54),\n",
       " ('Daniel Walker', 1.87),\n",
       " ('Clara Piniella', 1.66),\n",
       " ('Gina Garrido', 1.63),\n",
       " ('Adrià Gallardo', 1.7),\n",
       " ('María García-Maroto', 1.64),\n",
       " ('Susana Vázquez', 1.8),\n",
       " ('Mauro Garcia-Oliva', 1.77),\n",
       " ('Juan Bayon', 1.64),\n",
       " ('Miguel Barquero', 1.85),\n",
       " ('Borja Puig', 1.82),\n",
       " ('Pablo Martínez', 1.81),\n",
       " ('Xinru Yang', 1.6),\n",
       " ('Pablo Díez', 1.84),\n",
       " ('Karina Inche', 1.61)]"
      ]
     },
     "metadata": {},
     "execution_count": 16
    }
   ],
   "source": [
    "# La lista a usar del ejercicio 3 y 5. Recuerda añadir la tupla con tu información si no está. \n",
    "\n",
    "lista_nombres_alturas = [(\"Gabriel Vázquez\", 1.75),(\"Jonathan Abbondanza\",  1.70),(\"Nacho Fontal\", 1.82),(\"Javier Araiz\", 1.80),('Jonathan Suarez', 1.86),('Sonia Cobo', 1.73), ('Jorge García', 1.79), (\"Mary Meza\", 1.52), ('Leonardo Frazzetto', 1.75), (\"Nacho Astorga\",1.78),(\"José Carlos Batista\",1.70), (\"Isabel Palomares\", 1.78),(\"Marina Serrano\", 1.54), (\"Daniel Walker\", 1.87), (\"Clara Piniella\", 1.66), (\"Gina Garrido\", 1.63), (\"Adrià Gallardo\", 1.70), (\"María García-Maroto\", 1.64), (\"Susana Vázquez\",1.80), (\"Mauro Garcia-Oliva\", 1.77), (\"Juan Bayon\", 1.64), (\"Miguel Barquero\", 1.85), (\"Borja Puig\", 1.82), (\"Pablo Martínez\", 1.81), (\"Xinru Yang\", 1.60),(\"Pablo Díez\", 1.84),(\"Karina Inche\",1.61)]\n",
    "\n",
    "\n",
    "lista_nombres_alturas"
   ]
  },
  {
   "cell_type": "code",
   "execution_count": null,
   "metadata": {},
   "outputs": [],
   "source": []
  }
 ]
}