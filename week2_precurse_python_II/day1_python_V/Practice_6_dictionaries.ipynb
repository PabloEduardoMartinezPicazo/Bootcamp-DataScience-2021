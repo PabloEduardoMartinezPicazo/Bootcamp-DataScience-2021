{
 "cells": [
  {
   "cell_type": "markdown",
   "metadata": {},
   "source": [
    "# Python | day 6 | dictionaries"
   ]
  },
  {
   "cell_type": "markdown",
   "metadata": {},
   "source": [
    "Dictionaries are used to store data values in key:value pairs.\n",
    "\n",
    "A dictionary is a collection which is unordered, changeable and does not allow duplicates.\n",
    "\n",
    "Dictionaries are written with curly brackets, and have keys and values:"
   ]
  },
  {
   "cell_type": "markdown",
   "metadata": {},
   "source": [
    "```python\n",
    "thisdict = {\n",
    "  \"brand\": \"Ford\",\n",
    "  \"model\": \"Mustang\",\n",
    "  \"year\": 1964\n",
    "}\n",
    "```"
   ]
  },
  {
   "cell_type": "markdown",
   "metadata": {},
   "source": [
    "https://www.w3schools.com/python/python_dictionaries.asp"
   ]
  },
  {
   "cell_type": "markdown",
   "metadata": {},
   "source": [
    "### Exercise 1. \n",
    "\n",
    "1. Create a dictionary with an integer 5 as the key and \"val\" as its value."
   ]
  },
  {
   "cell_type": "code",
   "execution_count": 6,
   "metadata": {},
   "outputs": [],
   "source": [
    "dic={5:\"val\"}\n",
    "\n",
    "\n"
   ]
  },
  {
   "cell_type": "markdown",
   "metadata": {},
   "source": [
    "2. Create two lists: one that has 4 city names and another that has 4 landmarks in the city."
   ]
  },
  {
   "cell_type": "code",
   "execution_count": 8,
   "metadata": {},
   "outputs": [],
   "source": [
    "cities=[\"madrid\",\"barcelona\",\"valencia\",\"sevilla\"]\n",
    "landmarks=[\"sol\",\"sagrada familia\",\"mercado central\",\"torre de oro\"]"
   ]
  },
  {
   "cell_type": "markdown",
   "metadata": {},
   "source": [
    "3. Create a dictionary where the cities contained in the first list are the **keys** and the landmarks are the **values**.\n",
    "```python\n",
    "#example\n",
    "places = {\"Malaga\": \"Gibralfaro\", \n",
    "         \"Madrid\": \"Templo de Debod\",\n",
    "         \"Granada\": \"La Alcazaba\",\n",
    "         \"Barcelona\": \"Sagrada Familia\"}\n",
    "```"
   ]
  },
  {
   "cell_type": "code",
   "execution_count": 13,
   "metadata": {},
   "outputs": [
    {
     "output_type": "stream",
     "name": "stdout",
     "text": [
      "{'madrid': 'sol', 'barcelona': 'sagrada familia', 'valencia': 'mercado central', 'sevilla': 'torre de oro'}\n"
     ]
    }
   ],
   "source": [
    "cities=[\"madrid\",\"barcelona\",\"valencia\",\"sevilla\"]\n",
    "landmarks=[\"sol\",\"sagrada familia\",\"mercado central\",\"torre de oro\"]\n",
    "places={}\n",
    "for i in range(len(cities)):\n",
    "    places[cities[i]]=landmarks[i]\n",
    "print(places)"
   ]
  },
  {
   "cell_type": "markdown",
   "metadata": {},
   "source": [
    "4. Loop through the dictionary and print only the values of those keys starting with the letter **M**.\n",
    "\n",
    "https://realpython.com/iterate-through-dictionary-python/"
   ]
  },
  {
   "cell_type": "code",
   "execution_count": 17,
   "metadata": {},
   "outputs": [
    {
     "output_type": "stream",
     "name": "stdout",
     "text": [
      "sol\n"
     ]
    }
   ],
   "source": [
    "for key,value in places.items():\n",
    "    if key[0]==\"m\":\n",
    "        print(value)\n"
   ]
  },
  {
   "cell_type": "markdown",
   "metadata": {},
   "source": [
    "5. Create a function that receives two lists `list1` and `list2` by parameter and returns a dictionary with each element of `list1` as keys and the elements of `list2` as values. Call the function with the lists you have created before to return the same dictionary you've created in question 3. "
   ]
  },
  {
   "cell_type": "code",
   "execution_count": 21,
   "metadata": {},
   "outputs": [
    {
     "output_type": "stream",
     "name": "stdout",
     "text": [
      "{'madrid': 'sol', 'barcelona': 'sagrada familia', 'valencia': 'mercado central', 'sevilla': 'torre de oro'}\n"
     ]
    }
   ],
   "source": [
    "#con rango\n",
    "cities=[\"madrid\",\"barcelona\",\"valencia\",\"sevilla\"]\n",
    "landmarks=[\"sol\",\"sagrada familia\",\"mercado central\",\"torre de oro\"]\n",
    "def function (list1,list2):\n",
    "    diccionario={}\n",
    "    for i in range(len(list1)):\n",
    "        diccionario[list1[i]]=list2[i]\n",
    "    print(diccionario)\n",
    "\n",
    "function(list1=cities,list2=landmarks)"
   ]
  },
  {
   "cell_type": "code",
   "execution_count": 23,
   "metadata": {},
   "outputs": [
    {
     "output_type": "stream",
     "name": "stdout",
     "text": [
      "{'madrid': 'sol', 'barcelona': 'sagrada familia', 'valencia': 'mercado central', 'sevilla': 'torre de oro'}\n"
     ]
    }
   ],
   "source": [
    "#con contador\n",
    "cities = [\"madrid\",\"barcelona\",\"valencia\",\"sevilla\"]\n",
    "landmarks = [\"sol\",\"sagrada familia\",\"mercado central\",\"torre de oro\"]\n",
    "def function2 (list1,list2):\n",
    "    diccionario = {}\n",
    "    contador = 0\n",
    "    for value in list1:\n",
    "        diccionario[list1[contador]]=list2[contador]\n",
    "        contador+=1\n",
    "    print(diccionario)\n",
    "function2(list1 = cities,list2 = landmarks)    "
   ]
  },
  {
   "cell_type": "markdown",
   "metadata": {},
   "source": [
    "### Exercise 2. "
   ]
  },
  {
   "cell_type": "markdown",
   "metadata": {},
   "source": [
    "1. Create an empty dictionary called dog."
   ]
  },
  {
   "cell_type": "code",
   "execution_count": 27,
   "metadata": {},
   "outputs": [],
   "source": [
    "dog={}"
   ]
  },
  {
   "cell_type": "markdown",
   "metadata": {},
   "source": [
    "2. Add name, color, breed, legs, age to the dog dictionary."
   ]
  },
  {
   "cell_type": "code",
   "execution_count": 30,
   "metadata": {},
   "outputs": [
    {
     "output_type": "execute_result",
     "data": {
      "text/plain": [
       "{'name:': 'Trufa',\n",
       " 'color:': 'white',\n",
       " 'breed:': 'poodle',\n",
       " 'legs:': 4,\n",
       " 'age:': 10}"
      ]
     },
     "metadata": {},
     "execution_count": 30
    }
   ],
   "source": [
    "dog = {}\n",
    "values = [\"Trufa\",\"white\",\"poodle\",4,10]\n",
    "keys = [\"name:\",\"color:\",\"breed:\",\"legs:\",\"age:\"]\n",
    "for i in range(len(keys)):\n",
    "      dog[keys[i]] = values[i]\n",
    "dog      "
   ]
  },
  {
   "cell_type": "markdown",
   "metadata": {},
   "source": [
    "3. Create a student dictionary and add first_name, last_name, age, skills, country, city and address as keys for the dictionary.\n"
   ]
  },
  {
   "cell_type": "code",
   "execution_count": 55,
   "metadata": {},
   "outputs": [
    {
     "output_type": "stream",
     "name": "stdout",
     "text": [
      "{'first name': 'Pablo', 'last name': 'Martinez', 'age': 28, 'skills': ['swimming'], 'country': 'Spain', 'city': 'Madrid'}\n"
     ]
    }
   ],
   "source": [
    "students_dic={\"first name\":input(\"student name\"),\"last name\":input(\"student surname\"),\"age\":int(input(\"age\")),\"skills\":[input(\"student skills\")],\"country\":input(\"student country\"),\"city\":input(\"student city\")}\n",
    "print(students_dic)"
   ]
  },
  {
   "cell_type": "markdown",
   "metadata": {},
   "source": [
    "4. Get the length of the student dictionary.\n"
   ]
  },
  {
   "cell_type": "code",
   "execution_count": 40,
   "metadata": {},
   "outputs": [
    {
     "output_type": "execute_result",
     "data": {
      "text/plain": [
       "6"
      ]
     },
     "metadata": {},
     "execution_count": 40
    }
   ],
   "source": [
    "\n",
    "len(students_dic)"
   ]
  },
  {
   "cell_type": "markdown",
   "metadata": {},
   "source": [
    "5. Get the value of skills and check the data type, it should be a list."
   ]
  },
  {
   "cell_type": "code",
   "execution_count": 58,
   "metadata": {},
   "outputs": [
    {
     "output_type": "execute_result",
     "data": {
      "text/plain": [
       "list"
      ]
     },
     "metadata": {},
     "execution_count": 58
    }
   ],
   "source": [
    "students_dic[\"skills\"]\n",
    "type(students_dic[\"skills\"]) "
   ]
  },
  {
   "cell_type": "markdown",
   "metadata": {},
   "source": [
    "6. Modify the skills values by adding one or two skills."
   ]
  },
  {
   "cell_type": "code",
   "execution_count": 59,
   "metadata": {},
   "outputs": [
    {
     "output_type": "stream",
     "name": "stdout",
     "text": [
      "{'first name': 'Pablo', 'last name': 'Martinez', 'age': 28, 'skills': ['swimming', 'singing'], 'country': 'Spain', 'city': 'Madrid'}\n"
     ]
    }
   ],
   "source": [
    "students_dic[\"skills\"]=[\"swimming\",\"singing\"]\n",
    "print(students_dic)"
   ]
  },
  {
   "cell_type": "markdown",
   "metadata": {},
   "source": [
    "7. Get the dictionary keys as a list."
   ]
  },
  {
   "cell_type": "code",
   "execution_count": 60,
   "metadata": {},
   "outputs": [
    {
     "output_type": "execute_result",
     "data": {
      "text/plain": [
       "['first name', 'last name', 'age', 'skills', 'country', 'city']"
      ]
     },
     "metadata": {},
     "execution_count": 60
    }
   ],
   "source": [
    "list(students_dic.keys())"
   ]
  },
  {
   "cell_type": "markdown",
   "metadata": {},
   "source": [
    "8. Get the dictionary values as a list.\n"
   ]
  },
  {
   "cell_type": "code",
   "execution_count": 61,
   "metadata": {},
   "outputs": [
    {
     "output_type": "execute_result",
     "data": {
      "text/plain": [
       "['Pablo', 'Martinez', 28, ['swimming', 'singing'], 'Spain', 'Madrid']"
      ]
     },
     "metadata": {},
     "execution_count": 61
    }
   ],
   "source": [
    "list(students_dic.values())"
   ]
  },
  {
   "cell_type": "markdown",
   "metadata": {},
   "source": [
    "9. Change the dictionary to a list of tuples using `items()` method"
   ]
  },
  {
   "cell_type": "code",
   "execution_count": 81,
   "metadata": {},
   "outputs": [
    {
     "output_type": "stream",
     "name": "stdout",
     "text": [
      "[('first name', 'Pablo'), ('last name', 'Martinez'), ('age', 28), ('skills', ['swimming', 'singing']), ('country', 'Spain'), ('city', 'Madrid')]\n"
     ]
    }
   ],
   "source": [
    "students_dic={'first name': 'Pablo', 'last name': 'Martinez', 'age': 28, 'skills': ['swimming', 'singing'], 'country': 'Spain', 'city':'Madrid'}\n",
    "dic_to_tuple=list(students_dic.items())\n",
    "print(dic_to_tuple)"
   ]
  },
  {
   "cell_type": "markdown",
   "metadata": {},
   "source": [
    "10. Delete one of the items in the dictionary.\n"
   ]
  },
  {
   "cell_type": "code",
   "execution_count": 82,
   "metadata": {},
   "outputs": [
    {
     "output_type": "execute_result",
     "data": {
      "text/plain": [
       "{'last name': 'Martinez',\n",
       " 'age': 28,\n",
       " 'skills': ['swimming', 'singing'],\n",
       " 'country': 'Spain',\n",
       " 'city': 'Madrid'}"
      ]
     },
     "metadata": {},
     "execution_count": 82
    }
   ],
   "source": [
    "del students_dic['first name']\n",
    "students_dic"
   ]
  },
  {
   "cell_type": "markdown",
   "metadata": {},
   "source": [
    "### Bonus Track"
   ]
  },
  {
   "cell_type": "markdown",
   "metadata": {},
   "source": [
    "**Tómate un zumito a tu salud.**"
   ]
  },
  {
   "cell_type": "markdown",
   "metadata": {},
   "source": [
    "!['daughter'](https://i.pinimg.com/originals/8f/35/28/8f35281e742e71be09697e7e6789b819.png)"
   ]
  },
  {
   "cell_type": "code",
   "execution_count": null,
   "metadata": {},
   "outputs": [],
   "source": []
  }
 ],
 "metadata": {
  "kernelspec": {
   "name": "python374jvsc74a57bd07945e9a82d7512fbf96246d9bbc29cd2f106c1a4a9cf54c9563dadf10f2237d4",
   "display_name": "Python 3.7.4 64-bit"
  },
  "language_info": {
   "codemirror_mode": {
    "name": "ipython",
    "version": 3
   },
   "file_extension": ".py",
   "mimetype": "text/x-python",
   "name": "python",
   "nbconvert_exporter": "python",
   "pygments_lexer": "ipython3",
   "version": "3.7.4"
  },
  "metadata": {
   "interpreter": {
    "hash": "7945e9a82d7512fbf96246d9bbc29cd2f106c1a4a9cf54c9563dadf10f2237d4"
   }
  }
 },
 "nbformat": 4,
 "nbformat_minor": 2
}