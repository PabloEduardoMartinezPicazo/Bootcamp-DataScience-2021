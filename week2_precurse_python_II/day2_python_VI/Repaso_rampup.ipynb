{
 "cells": [
  {
   "cell_type": "markdown",
   "metadata": {},
   "source": [
    "## 🐍 Ramp-up\n",
    "\n",
    "Note: The bold words are instructions for you to know how to solve the exercises below that word. For example, if it says **for loop** you should use at least a for loop in order to solve the exercise. "
   ]
  },
  {
   "cell_type": "markdown",
   "metadata": {},
   "source": [
    "#### Collections\n",
    "1. Create a tuple as follows (10,2,27,8)\n",
    "2. Get the lenght of the tuple\n",
    "3. Which type is it? And which type are the elements the tuple contains?\n",
    "4. Create a new tuple with any other 4 strings and concatenate all of them with the tuple you created before by position, creating a list called `words`.\n",
    "5. Make a list with the same elements in question 1. Find the element 27 and make it 37.\n",
    "6. Remove the number 8 from the list.\n",
    "7. Turn the list you made before into a set.\n",
    "8. Check if the element \"3\" is in that set.\n",
    "9. Sort the list you made in exercise 4 in descending order.\n",
    "10. Turn the list `words` into a dictionary. Split every string taking the number in the tuple (10,2,27,8) as the values and the rest as the keys.\n",
    "11. Sum up the values of the new dictionary.\n",
    "12. Sort the values of the dictionary in descending order and the keys in ascending order, then make a list of tuples with every couple of keys and values by position."
   ]
  },
  {
   "cell_type": "code",
   "execution_count": 25,
   "metadata": {},
   "outputs": [
    {
     "output_type": "stream",
     "name": "stdout",
     "text": [
      "4\n<class 'tuple'>\n<class 'int'>\n<class 'int'>\n<class 'int'>\n<class 'int'>\n"
     ]
    }
   ],
   "source": [
    "#1. \n",
    "tupla=(10,2,27,8)\n",
    "#2. \n",
    "print(len(tupla))\n",
    "#3.\n",
    "print(type(tupla))\n",
    "for i in range(len(tupla)):\n",
    "    print(type(tupla[i]))\n",
    "\n"
   ]
  },
  {
   "cell_type": "code",
   "execution_count": 21,
   "metadata": {},
   "outputs": [
    {
     "output_type": "stream",
     "name": "stdout",
     "text": [
      "['10a', '2b', '27c', '8d']\n"
     ]
    }
   ],
   "source": [
    "#4.\n",
    "tupla=(10,2,27,8)\n",
    "tupla2=(\"a\",\"b\",\"c\",\"d\")\n",
    "words=[]\n",
    "for i in range(len(tupla)):\n",
    "    words.append(str(tupla[i])+tupla2[i])\n",
    "print(words)"
   ]
  },
  {
   "cell_type": "code",
   "execution_count": 26,
   "metadata": {},
   "outputs": [
    {
     "output_type": "stream",
     "name": "stdout",
     "text": [
      "[10, 2, 37, 8]\n"
     ]
    }
   ],
   "source": [
    "#5. \n",
    "lista=[10,2,27,8]\n",
    "lista[2]=37\n",
    "print(lista)\n"
   ]
  },
  {
   "cell_type": "code",
   "execution_count": 34,
   "metadata": {},
   "outputs": [
    {
     "output_type": "stream",
     "name": "stdout",
     "text": [
      "[10, 2, 27]\n"
     ]
    }
   ],
   "source": [
    "#6.\n",
    "lista=[10,2,27,8]\n",
    "lista.remove(8)\n",
    "print(lista)\n",
    "#7.\n",
    "lista=set(lista)"
   ]
  },
  {
   "cell_type": "code",
   "execution_count": null,
   "metadata": {},
   "outputs": [],
   "source": []
  },
  {
   "cell_type": "code",
   "execution_count": 37,
   "metadata": {},
   "outputs": [
    {
     "output_type": "stream",
     "name": "stdout",
     "text": [
      "3 doesn't exist\n"
     ]
    }
   ],
   "source": [
    "#8.\n",
    "if 3 in lista:\n",
    "    print (\"3 exists in the list\")\n",
    "else:\n",
    "    print(\"3 doesn't exist\")\n",
    "    \n",
    "\n",
    "\n",
    "  \n",
    "  \n"
   ]
  },
  {
   "cell_type": "code",
   "execution_count": 54,
   "metadata": {},
   "outputs": [
    {
     "output_type": "stream",
     "name": "stdout",
     "text": [
      "['8d', '2b', '27c', '10a']\n"
     ]
    }
   ],
   "source": [
    "#9.\n",
    "words.sort(reverse=True)\n",
    "print(words)\n"
   ]
  },
  {
   "cell_type": "markdown",
   "metadata": {},
   "source": [
    "#### Dictionaries\n",
    "\n",
    "1. Make a dictionary containing three major rivers and the country each river runs through. One key-value pair might be 'nile': 'egypt'.\n",
    "\n",
    "    - Use a loop to print a sentence about each river, such as The Nile runs through Egypt.\n",
    "    - Use a loop to print the name of each river included in the dictionary.\n",
    "    - Use a loop to print the name of each country included in the dictionary."
   ]
  },
  {
   "cell_type": "code",
   "execution_count": 88,
   "metadata": {},
   "outputs": [
    {
     "output_type": "stream",
     "name": "stdout",
     "text": [
      "{'a': 10, 'b': 2, 'c': 27, 'd': 8}\n"
     ]
    }
   ],
   "source": [
    "#10.\n",
    "words=['10a', '2b', '27c', '8d']\n",
    "diccionario={}\n",
    "\n",
    "for value in words:\n",
    "    for i,elem in enumerate(value):\n",
    "        if not elem.isdigit():\n",
    "            key=value[i:]\n",
    "            value=value[:i] # hay que recorrer value para que te recorra todo no solamente el elemento de la posicion\n",
    "            \n",
    "            diccionario[key]=int(value)\n",
    "\n",
    "\n",
    "\n",
    "print(diccionario)\n",
    "    \n",
    "\n"
   ]
  },
  {
   "cell_type": "code",
   "execution_count": 93,
   "metadata": {},
   "outputs": [
    {
     "output_type": "stream",
     "name": "stdout",
     "text": [
      "[10, 2, 27, 8]\n"
     ]
    },
    {
     "output_type": "execute_result",
     "data": {
      "text/plain": [
       "47"
      ]
     },
     "metadata": {},
     "execution_count": 93
    }
   ],
   "source": [
    "#11\n",
    "diccionario={'a': 10, 'b': 2, 'c': 27, 'd': 8}\n",
    "diccionario_values=list (diccionario.values()) # asi devolvia las keys, para los valores  #diccionario.values() tambien para keys puede ser diccionario.keys()\n",
    "print (diccionario_values)\n",
    "sum (diccionario_values)\n"
   ]
  },
  {
   "cell_type": "code",
   "execution_count": 105,
   "metadata": {},
   "outputs": [
    {
     "output_type": "stream",
     "name": "stdout",
     "text": [
      "[]\n[27, 10, 8, 2]\n{}\n"
     ]
    }
   ],
   "source": [
    "#12\n",
    "diccionario_values.sort(reverse=True)\n",
    "diccionario_keys=list(diccionario.keys())\n",
    "print (diccionario_keys)\n",
    "print(diccionario_values)\n",
    "diccionario={}\n",
    "for i,elemen in enumerate(diccionario_keys):\n",
    "    diccionario[elemen]=list(diccionario_values[i])\n",
    "\n",
    "print(diccionario)\n",
    "\n"
   ]
  },
  {
   "cell_type": "markdown",
   "metadata": {},
   "source": [
    "2. Use the provided dictionary that shows some coders and their favoites languages.\n",
    "```Python\n",
    "favorite_languages = {\n",
    "    'jen': 'python',\n",
    "    'sarah': 'c',\n",
    "    'edward': 'ruby',\n",
    "    'phil': 'python',\n",
    "    }\n",
    "```\n",
    "\n",
    "    - Make a list of people who should take the favorite languages poll. Include some names that are already in the dictionary and some that are not.\n",
    "    - Loop through the list of people who should take the poll. If they have already taken the poll, print a message thanking them for responding. If they have not yet taken the poll, print a message inviting them to take the poll."
   ]
  },
  {
   "cell_type": "code",
   "execution_count": 111,
   "metadata": {},
   "outputs": [
    {
     "output_type": "stream",
     "name": "stdout",
     "text": [
      "please answer the pool\nplease answer the pool\nthanks\nthanks\n"
     ]
    }
   ],
   "source": [
    "#- Make a list of people who should take the favorite languages poll. Include some names that are already in the dictionary and some that are not.\n",
    "#- Loop through the list of people who should take the poll. If they have already taken the poll, print a message thanking them for responding. If they have not yet taken the poll, print a message inviting them to take the poll.\n",
    "lista=[\"Carlos\",\"Jaime\",\"phil\",\"sarah\"]\n",
    "favorite_languages = {\n",
    "    'jen': 'python',\n",
    "    'sarah': 'c',\n",
    "    'edward': 'ruby',\n",
    "    'phil': 'python',\n",
    "    }\n",
    "favorite_languages=list(favorite_languages)\n",
    "for value in lista:\n",
    "    if value in favorite_languages:\n",
    "        print(\"thanks\")\n",
    "    else:\n",
    "        print(\"please answer the pool\")\n"
   ]
  },
  {
   "cell_type": "markdown",
   "metadata": {},
   "source": [
    "3. Make a dictionary called cities. Use the names of three cities as keys in your dictionary. Create a dictionary of information about each city and include the country that the city is in, its approximate population, and one fact about that city. The keys for each city’s dictionary should be something like country, population, and fact. Print the name of each city and all of the information you have stored about it.\n",
    "\n",
    "```python\n",
    "cities = {\"city1\":{\"country\": \"bla\"}}\n",
    "```\n",
    "\n",
    "\n"
   ]
  },
  {
   "cell_type": "code",
   "execution_count": 124,
   "metadata": {},
   "outputs": [
    {
     "output_type": "stream",
     "name": "stdout",
     "text": [
      "['madrid', 'roma', 'paris']\n"
     ]
    }
   ],
   "source": [
    "#Make a dictionary called cities. Use the names of three cities as keys in your dictionary. Create a dictionary of information about each city and include the country that the city is in, its approximate population, and one fact about that city. The keys for each city’s dictionary should be something like country, population, and fact. Print the name of each city and all of the information you have stored about it.\n",
    "cities={\"madrid\" : {\"country\" : \"Spain\", \"population\" : \"47m\", \"fact\" : \"they eat paella\"}, \"roma\" : {\"country\" : \"Italy\", \"population\" : \"63m\", \"fact\" : \"they eat pasta\"}, \"paris\" : {\"country\" : \"France\", \"population\" : \"67m\", \"fact\" : \"they eat baguette\"}}\n",
    "\n",
    "\n"
   ]
  },
  {
   "cell_type": "code",
   "execution_count": 132,
   "metadata": {},
   "outputs": [
    {
     "output_type": "stream",
     "name": "stdout",
     "text": [
      "madrid {'country': 'Spain', 'population': '47m', 'fact': 'they eat paella'}\n-----\nroma {'country': 'Italy', 'population': '63m', 'fact': 'they eat pasta'}\n-----\nparis {'country': 'France', 'population': '67m', 'fact': 'they eat baguette'}\n-----\n"
     ]
    }
   ],
   "source": [
    "a=list(cities.keys())\n",
    "b=list(cities.values())\n",
    "for i in range(len(a)):\n",
    "    print (a[i], b[i])\n",
    "    print(\"-----\")\n"
   ]
  },
  {
   "cell_type": "markdown",
   "metadata": {},
   "source": [
    "**for loop**\n",
    "1. This is a fruit list, ['banana', 'orange', 'mango', 'lemon'] reverse the order using a for loop.\n"
   ]
  },
  {
   "cell_type": "code",
   "execution_count": 6,
   "metadata": {},
   "outputs": [
    {
     "output_type": "stream",
     "name": "stdout",
     "text": [
      "['lemon', 'mango', 'orange', 'banana']\n"
     ]
    }
   ],
   "source": [
    "fruit_list=[\"banana\",\"orange\",\"mango\",\"lemon\"]\n",
    "\n",
    "for value in fruit_list:\n",
    "    fruit_list.reverse()\n",
    "    print(fruit_list)\n",
    "    break\n"
   ]
  },
  {
   "cell_type": "markdown",
   "metadata": {},
   "source": [
    "2. Write a Python program to create the multiplication table (from 1 to 10) of a number.\n",
    "```python\n",
    "Input a number: 5                                                                                             \n",
    "5 x 1 = 5                                                                                                     \n",
    "5 x 2 = 10                                                                                                    \n",
    "5 x 3 = 15                                                                                                    \n",
    "5 x 4 = 20                                                                                                    \n",
    "5 x 5 = 25                                                                                                    \n",
    "5 x 6 = 30                                                                                                    \n",
    "5 x 7 = 35                                                                                                    \n",
    "5 x 8 = 40                                                                                                    \n",
    "5 x 9 = 45                                                                                                    \n",
    "5 x 10 = 50\n",
    "```"
   ]
  },
  {
   "cell_type": "code",
   "execution_count": 14,
   "metadata": {},
   "outputs": [
    {
     "output_type": "stream",
     "name": "stdout",
     "text": [
      "6\n12\n18\n24\n30\n36\n42\n48\n54\n60\n"
     ]
    }
   ],
   "source": [
    "Multiplication_number= int(input(\"insert a number from one to ten\"))\n",
    "\n",
    "def multiplication_table (number):\n",
    "    number_list=[1,2,3,4,5,6,7,8,9,10]\n",
    "    for i,value in enumerate(number_list):\n",
    "        print(value*number)\n",
    "multiplication_table(number=Multiplication_number)"
   ]
  },
  {
   "cell_type": "markdown",
   "metadata": {},
   "source": [
    "3. Write a Python program which iterates the integers from 1 to 50. For multiples of three print \"Fizz\" instead of the number and for the multiples of five print \"Buzz\". For numbers which are multiples of both three and five print \"FizzBuzz\".\n",
    "```python\n",
    "Sample Output :\n",
    "fizzbuzz\n",
    "1\n",
    "2\n",
    "fizz\n",
    "4\n",
    "buzz\n",
    "```"
   ]
  },
  {
   "cell_type": "code",
   "execution_count": 15,
   "metadata": {},
   "outputs": [
    {
     "output_type": "stream",
     "name": "stdout",
     "text": [
      "1\n2\nFizz\n4\nbuzz\nFizz\n7\n8\nFizz\nbuzz\n11\nFizz\n13\n14\nFizzBuzz\n16\n17\nFizz\n19\nbuzz\nFizz\n22\n23\nFizz\nbuzz\n26\nFizz\n28\n29\nFizzBuzz\n31\n32\nFizz\n34\nbuzz\nFizz\n37\n38\nFizz\nbuzz\n41\nFizz\n43\n44\nFizzBuzz\n46\n47\nFizz\n49\nbuzz\n"
     ]
    }
   ],
   "source": [
    "for i in range(1,51):\n",
    "    if i%3==0 and i%5==0:\n",
    "        print(\"FizzBuzz\")\n",
    "    elif  i%3==0:\n",
    "        print(\"Fizz\")\n",
    "    elif i%5==0:\n",
    "        print(\"buzz\")\n",
    "    else:\n",
    "        print(i)"
   ]
  },
  {
   "cell_type": "markdown",
   "metadata": {},
   "source": [
    "**functions**\n",
    "\n",
    "1. Write a Python function to check whether a string is a pangram or not. \n",
    "\n",
    "Note : Pangrams are words or sentences containing every letter of the alphabet at least once.\n",
    "    \n",
    "For example : `\"The quick brown fox jumps over the lazy dog\"`"
   ]
  },
  {
   "cell_type": "code",
   "execution_count": 120,
   "metadata": {},
   "outputs": [
    {
     "output_type": "stream",
     "name": "stdout",
     "text": [
      "this is not a pangram\n"
     ]
    }
   ],
   "source": [
    "frase1=input(\"introduce a sentence\")\n",
    "def pangram (frase):\n",
    "    alphabet=\"abcdefghijklmnopqrstuvwxyz\"\n",
    "    frase1=frase.lower()\n",
    "   \n",
    "    for value in alphabet:\n",
    "        if value not in frase1:\n",
    "            return\"this is not a pangram\"  \n",
    "    return \"this is a pangram\"       \n",
    "    \n",
    "            \n",
    "print(pangram(frase=frase1))"
   ]
  },
  {
   "cell_type": "code",
   "execution_count": null,
   "metadata": {},
   "outputs": [],
   "source": [
    "d"
   ]
  },
  {
   "cell_type": "markdown",
   "metadata": {},
   "source": [
    "2. Write a Python program to count the number of even and odd numbers from a series of numbers. \n",
    "\n",
    "```python\n",
    "Sample numbers: numbers = (1, 2, 3, 4, 5, 6, 7, 8, 9) \n",
    "    \n",
    "Expected Output:\n",
    "Number of even numbers: 5\n",
    "Number of odd numbers: 4\n",
    "```"
   ]
  },
  {
   "cell_type": "code",
   "execution_count": 77,
   "metadata": {},
   "outputs": [
    {
     "output_type": "stream",
     "name": "stdout",
     "text": [
      "number of even numbers:5\nnumber of odd numbers:4\n"
     ]
    }
   ],
   "source": [
    "numbers=(1,2,3,4,5,6,7,8,9)\n",
    "def counting (numeros):\n",
    "    contador_even=0\n",
    "    contador_odd=0\n",
    "    for i in range(len(numeros)):\n",
    "        if numeros[i]%2==0:\n",
    "            contador_odd+=1\n",
    "        elif numeros[i]%2 !=0:\n",
    "            contador_even+=1\n",
    "    print(f\"number of even numbers:{contador_even}\")\n",
    "    print(f\"number of odd numbers:{contador_odd}\")\n",
    "counting(numeros=numbers)\n"
   ]
  },
  {
   "cell_type": "markdown",
   "metadata": {},
   "source": [
    "#### functions & while loop\n",
    "1. Write a program which keeps asking for numbers till the user writes 9999. In that case, the program returns the concatenation of every number as a string.\n"
   ]
  },
  {
   "cell_type": "code",
   "execution_count": 25,
   "metadata": {},
   "outputs": [
    {
     "output_type": "stream",
     "name": "stdout",
     "text": [
      "please insert a number or 9999\n",
      "has parado\n",
      "123999\n"
     ]
    }
   ],
   "source": [
    "\n",
    "lista=\"\"\n",
    "while True:\n",
    "    number=input(\"write a number\")\n",
    "    \n",
    "    if number==\"9999\":\n",
    "\n",
    "        print(\"has parado\")\n",
    "        \n",
    "        \n",
    "        print(lista)\n",
    "        break\n",
    "    elif number.isdigit():\n",
    "        \n",
    "        lista+=number\n",
    "                \n",
    "    else: \n",
    "        print(\"please insert a number or 9999\")\n",
    "    \n",
    "    \n",
    "\n",
    "    \n"
   ]
  },
  {
   "cell_type": "markdown",
   "metadata": {},
   "source": [
    "2. Writes a function that asks a user for a pin code till they get it right... If they give a wrong answer three times the function returns \"Your bank account has been blocked\", otherwise, returns: \"You got it right! You get full access to your money\".\n"
   ]
  },
  {
   "cell_type": "code",
   "execution_count": 28,
   "metadata": {},
   "outputs": [
    {
     "output_type": "execute_result",
     "data": {
      "text/plain": [
       "'your bank account has been blocked'"
      ]
     },
     "metadata": {},
     "execution_count": 28
    }
   ],
   "source": [
    "caca=input(\"pincode\")\n",
    "def a (pincode):\n",
    "    contador=0\n",
    "    codigo=\"123\"\n",
    "    while True:\n",
    "        if contador<3 and pincode==codigo:\n",
    "            return \"you got it right!\"\n",
    "        elif contador<2 and pincode!=codigo:\n",
    "            contador+=1\n",
    "            caca1=input(\"pincode\")\n",
    "        else:\n",
    "            return \"your bank account has been blocked\"\n",
    "\n",
    "a(pincode=caca)\n"
   ]
  },
  {
   "cell_type": "markdown",
   "metadata": {},
   "source": [
    "#### functions & for loop\n",
    "\n",
    "1. Write a function that takes in a person's name, and prints out a greeting.\n",
    "    - The greeting must be at least three lines, and the person's name must be in each line.\n",
    "    - Use your function to greet at least three different people.\n",
    "    - Store your three people in a list, and call your function from a for loop."
   ]
  },
  {
   "cell_type": "code",
   "execution_count": 52,
   "metadata": {},
   "outputs": [
    {
     "output_type": "stream",
     "name": "stdout",
     "text": [
      "welcome pablo!\n",
      " how are you? pablo\n",
      " have a nice day pablo\n",
      "welcome javier!\n",
      " how are you? javier\n",
      " have a nice day javier\n",
      "welcome eduardo!\n",
      " how are you? eduardo\n",
      " have a nice day eduardo\n",
      "['pablo', 'javier', 'eduardo']\n"
     ]
    }
   ],
   "source": [
    "lista=[]\n",
    "def a (persona):\n",
    "    print(f\"welcome {persona}!\\n how are you? {persona}\\n have a nice day {persona}\")\n",
    "    lista.append(persona)\n",
    "\n",
    "for i in range(3):\n",
    "    a(persona=input(\"nombre\"))\n",
    "    \n",
    "print(lista)\n"
   ]
  },
  {
   "cell_type": "markdown",
   "metadata": {},
   "source": [
    "2. Make a list that includes 3 or 4 games that you like to play and print a statement that tells the user what games you like.\n",
    "    - Write a function that asks the user to tell you a game they like, and store the game in a variable such as `new_game`. \n",
    "    - If the user mentions one game you like to play, send a message asking to play together.\n",
    "    - Otherwise ask for another game name. If the user tries your program 3 times and doesn't give a game name you like, then ask them to find another friend."
   ]
  },
  {
   "cell_type": "code",
   "execution_count": 119,
   "metadata": {},
   "outputs": [
    {
     "output_type": "stream",
     "name": "stdout",
     "text": [
      "I like catan, ciudadelas and monopoly\n"
     ]
    }
   ],
   "source": [
    "lista=[\"catan\",\"ciudadelas\",\"monopoly\"]\n",
    "print(f\"I like {lista[0]}, {lista[1]} and {lista[2]}\")\n",
    "\n",
    "    \n",
    "\n"
   ]
  },
  {
   "cell_type": "code",
   "execution_count": 118,
   "metadata": {},
   "outputs": [
    {
     "output_type": "stream",
     "name": "stdout",
     "text": [
      "find somebody else\n"
     ]
    }
   ],
   "source": [
    "\n",
    "\n",
    "\n",
    "def juego ():\n",
    "    lista=[\"catan\",\"ciudadelas\",\"monopoly\"]\n",
    "    contador=1\n",
    "    for value in lista:\n",
    "        new_game=input(\"which game do you like?\")\n",
    "        if new_game in lista:\n",
    "            print(\"let's play together\")\n",
    "            break\n",
    "        elif new_game not in lista and contador <len(lista):\n",
    "            contador+=1\n",
    "        else:\n",
    "            print(\"find somebody else\")\n",
    "        \n",
    "            \n",
    "juego()\n"
   ]
  },
  {
   "cell_type": "markdown",
   "metadata": {},
   "source": [
    "#### write a mini-program\n",
    "**Three is a Crowd**\n",
    "- Make a list of names that includes at least four people.\n",
    "- Write an if test that prints a message about the room being crowded, if there are more than three people in your list.\n",
    "- Modify your list so that there are only two people in it. Use one of the methods for removing people from the list, don't just redefine the list.\n",
    "- Run your if test again. There should be no output this time, because there are less than three people in the list.\n",
    "- Store your if test in a function called something like `crowd_test`.\n",
    "\n"
   ]
  },
  {
   "cell_type": "code",
   "execution_count": 130,
   "metadata": {},
   "outputs": [
    {
     "output_type": "stream",
     "name": "stdout",
     "text": [
      "the room is crowed\n"
     ]
    }
   ],
   "source": [
    "\n",
    "\n",
    "\n",
    "\n",
    "def crowd_test():\n",
    "    lista=[\"pablo\",\"chachi\",\"eduardo\",\"carlos\"]\n",
    "    for i in range(len(lista)):\n",
    "        if i >=3:\n",
    "            print(\"the room is crowed\")\n",
    "crowd_test()"
   ]
  },
  {
   "cell_type": "markdown",
   "metadata": {},
   "source": [
    "**Three is a Crowd - Part 2**\n",
    "- Save your program from *Three is a Crowd* under a new name.\n",
    "- Add an `else` statement to your if tests. If the `else` statement is run, have it print a message that the room is not very crowded.\n"
   ]
  },
  {
   "cell_type": "code",
   "execution_count": 140,
   "metadata": {},
   "outputs": [
    {
     "output_type": "stream",
     "name": "stdout",
     "text": [
      "the room is crowed\n"
     ]
    }
   ],
   "source": [
    "\n",
    "def crowd_test_2():\n",
    "    lista=[\"pablo\",\"chachi\",\"eduardo\",\"carlos\"]\n",
    "    if len(lista) >=3:\n",
    "        print(\"the room is crowed\")\n",
    "    else:\n",
    "        print(\"the room is not very crowded\")\n",
    "\n",
    "crowd_test_2()"
   ]
  },
  {
   "cell_type": "markdown",
   "metadata": {},
   "source": [
    "\n",
    "**Six is a Mob**\n",
    "- Save your program from *Three is a Crowd - Part 2* under a new name.\n",
    "- Add some names to your list, so that there are at least six people in the list.\n",
    "- Modify your tests so that\n",
    "    - If there are more than 5 people, a message is printed about there being a mob in the room.\n",
    "    - If there are 3-5 people, a message is printed about the room being crowded.\n",
    "    - If there are 1 or 2 people, a message is printed about the room not being crowded.\n",
    "    - If there are no people in the room, a message is printed abou the room being empty."
   ]
  },
  {
   "cell_type": "code",
   "execution_count": null,
   "metadata": {},
   "outputs": [],
   "source": [
    "\n",
    "def crowd_test_3():\n",
    "    lista=[\"pablo\",\"chachi\",\"eduardo\",\"carlos\"]\n",
    "    if len(lista) >=3:\n",
    "        print(\"the room is crowed\")\n",
    "    else:\n",
    "        print(\"the room is not very crowded\")"
   ]
  }
 ],
 "metadata": {
  "kernelspec": {
   "name": "python374jvsc74a57bd07945e9a82d7512fbf96246d9bbc29cd2f106c1a4a9cf54c9563dadf10f2237d4",
   "display_name": "Python 3.7.4 64-bit"
  },
  "language_info": {
   "codemirror_mode": {
    "name": "ipython",
    "version": 3
   },
   "file_extension": ".py",
   "mimetype": "text/x-python",
   "name": "python",
   "nbconvert_exporter": "python",
   "pygments_lexer": "ipython3",
   "version": "3.7.4"
  },
  "metadata": {
   "interpreter": {
    "hash": "7945e9a82d7512fbf96246d9bbc29cd2f106c1a4a9cf54c9563dadf10f2237d4"
   }
  }
 },
 "nbformat": 4,
 "nbformat_minor": 4
}